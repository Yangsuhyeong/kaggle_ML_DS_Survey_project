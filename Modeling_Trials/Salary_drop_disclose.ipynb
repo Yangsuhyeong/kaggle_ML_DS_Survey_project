{
  "nbformat": 4,
  "nbformat_minor": 0,
  "metadata": {
    "colab": {
      "name": "Salary_drop_disclose.ipynb",
      "provenance": [],
      "collapsed_sections": []
    },
    "kernelspec": {
      "name": "python3",
      "display_name": "Python 3"
    },
    "accelerator": "GPU"
  },
  "cells": [
    {
      "cell_type": "markdown",
      "metadata": {
        "id": "M-QFaRc9qx4g",
        "colab_type": "text"
      },
      "source": [
        "\n",
        "## R에서 간단한 처리 이후 이쪽으로 분석 진행. \n",
        "### 처리내역 :\n",
        "#### Outlier 및 NA observation 처리 : \n",
        "* 4분 이하, 4000분 이상 데이터 삭제\n",
        "* confidence NA 변수 5000여개 삭제\n",
        "* Salary 중 Student가 높은 salary 갖는 몇 안되는 개체 삭제\n",
        "* gender = 총 4개의 그룹 중 2개의 small class의 개체들이 다른 패턴 보유, 삭제\n",
        "* salary = I do not want to disclose 개체 삭제\n",
        "\n",
        "#### 변수 One Hot Encoding : \n",
        "* 기존에 One Hot Encoding 되어있는 변수들은 0, 1 로 재코딩\n",
        "* class를 보유하고 있는 단일변수들은 one hot encoding (get_dummies) 하여 여러 변수로 나누어줌. (ex - Role, Industry, gender, ...)\n",
        "* 척도형 변수를 갖는 단일 변수도 예외없이 one hot encoding 시킴\n",
        "* Q34, Q35 = 변수설명상 합쳐서 100이 되는 변수 - 각 개체 값이 1 이하가 되도록 100으로 나눠줌\n",
        "* 변수 설명상 0~3의 값을 적는 변수 - 각 개체 값이 1 이하가 되도록 3으로 나눠줌. \n",
        "* 7_Student : industry = Student인 경우와 Role = Student인 경우가 중첩되어 Industry = Student 변수 삭제. \n",
        "\n",
        "#### 삭제한 변수 내역 : \n",
        "* Q41 - 앞의 모든 경우에서 collinearity가 발견되어 삭제. \n",
        "* Q34 : 일반적으로 데이터 사이언스 프로젝트 진행 시 각 업무별로 소요되는 시간 비중 => 앞의 모든 경우에서 변수가 유의하게 나와 한번 빼고 진행. \n",
        "* Q43 : 진행한 data projects 중 데이터셋내의 'unfair bias'의 탐구와 관련이 있었던 프로젝트의 비율 => 너무 많은 class로 제거\n",
        "* Q44 : fair 하고 unbiased 한 알고리즘을 확실히 하는 데 가장 많은 어려움을 주는 항목 : 복수 응답 : ex. difficulty in identifying groups that are unfairly targeted. => 역시 너무 많은 class로 제거. \n",
        "* (앞의 경우 Q43, Q44 모두 Variable Importance 20 내에 들지 못함) \n",
        "\n",
        "#### Target Variabel Salayr 변형 : \n",
        "* 총 19개의 multiclass를 가지고 있어, multiclassification 하게 되면 성능이 너무 낮아지는 문제가 발생하여 상위 20%에게 1, 하위 80%에게 0 label을 갖는 top_20 변수를 새로 생성함. \n",
        "\n",
        "\n",
        "\n"
      ]
    },
    {
      "cell_type": "code",
      "metadata": {
        "id": "4ihP9l1am4ok",
        "colab_type": "code",
        "colab": {}
      },
      "source": [
        "import numpy as np\n",
        "import pandas as pd"
      ],
      "execution_count": null,
      "outputs": []
    },
    {
      "cell_type": "code",
      "metadata": {
        "id": "3Ouoz8FooBY4",
        "colab_type": "code",
        "colab": {
          "base_uri": "https://localhost:8080/",
          "height": 55
        },
        "outputId": "c637c746-4a4e-469a-f4e3-0a72bb3a941a"
      },
      "source": [
        "from google.colab import drive\n",
        "drive.mount('/content/drive')"
      ],
      "execution_count": null,
      "outputs": [
        {
          "output_type": "stream",
          "text": [
            "Drive already mounted at /content/drive; to attempt to forcibly remount, call drive.mount(\"/content/drive\", force_remount=True).\n"
          ],
          "name": "stdout"
        }
      ]
    },
    {
      "cell_type": "code",
      "metadata": {
        "id": "SV9W85HEn29C",
        "colab_type": "code",
        "colab": {}
      },
      "source": [
        "multiple = pd.read_csv(\"/content/drive/My Drive/multiple.csv\", low_memory = False)"
      ],
      "execution_count": null,
      "outputs": []
    },
    {
      "cell_type": "code",
      "metadata": {
        "id": "YSWRQVwokXka",
        "colab_type": "code",
        "colab": {}
      },
      "source": [
        "qschema = pd.read_csv(\"/content/drive/My Drive/SurveySchema.csv\")"
      ],
      "execution_count": null,
      "outputs": []
    },
    {
      "cell_type": "code",
      "metadata": {
        "id": "FkwZQfjwn3OI",
        "colab_type": "code",
        "colab": {
          "base_uri": "https://localhost:8080/",
          "height": 648
        },
        "outputId": "9d19d1c1-046d-4196-806f-e7853d3fb65b"
      },
      "source": [
        "multiple.head()"
      ],
      "execution_count": null,
      "outputs": [
        {
          "output_type": "execute_result",
          "data": {
            "text/html": [
              "<div>\n",
              "<style scoped>\n",
              "    .dataframe tbody tr th:only-of-type {\n",
              "        vertical-align: middle;\n",
              "    }\n",
              "\n",
              "    .dataframe tbody tr th {\n",
              "        vertical-align: top;\n",
              "    }\n",
              "\n",
              "    .dataframe thead th {\n",
              "        text-align: right;\n",
              "    }\n",
              "</style>\n",
              "<table border=\"1\" class=\"dataframe\">\n",
              "  <thead>\n",
              "    <tr style=\"text-align: right;\">\n",
              "      <th></th>\n",
              "      <th>duration</th>\n",
              "      <th>gender</th>\n",
              "      <th>Age</th>\n",
              "      <th>country</th>\n",
              "      <th>degree</th>\n",
              "      <th>undergraduate_major</th>\n",
              "      <th>Role</th>\n",
              "      <th>industry</th>\n",
              "      <th>Experience</th>\n",
              "      <th>value</th>\n",
              "      <th>Q10</th>\n",
              "      <th>Q11_Part_1</th>\n",
              "      <th>Q11_Part_2</th>\n",
              "      <th>Q11_Part_3</th>\n",
              "      <th>Q11_Part_4</th>\n",
              "      <th>Q11_Part_5</th>\n",
              "      <th>Q11_Part_6</th>\n",
              "      <th>Q11_Part_7</th>\n",
              "      <th>Q12_Part_1_TEXT</th>\n",
              "      <th>Q12_Part_2_TEXT</th>\n",
              "      <th>Q12_Part_3_TEXT</th>\n",
              "      <th>Q12_Part_4_TEXT</th>\n",
              "      <th>Q12_Part_5_TEXT</th>\n",
              "      <th>Q13_Part_1</th>\n",
              "      <th>Q13_Part_2</th>\n",
              "      <th>Q13_Part_3</th>\n",
              "      <th>Q13_Part_4</th>\n",
              "      <th>Q13_Part_5</th>\n",
              "      <th>Q13_Part_6</th>\n",
              "      <th>Q13_Part_7</th>\n",
              "      <th>Q13_Part_8</th>\n",
              "      <th>Q13_Part_9</th>\n",
              "      <th>Q13_Part_10</th>\n",
              "      <th>Q13_Part_11</th>\n",
              "      <th>Q13_Part_12</th>\n",
              "      <th>Q13_Part_13</th>\n",
              "      <th>Q13_Part_14</th>\n",
              "      <th>Q13_Part_15</th>\n",
              "      <th>Q14_Part_1</th>\n",
              "      <th>Q14_Part_2</th>\n",
              "      <th>...</th>\n",
              "      <th>Q45_Part_5</th>\n",
              "      <th>Q45_Part_6</th>\n",
              "      <th>Q46</th>\n",
              "      <th>Q47_Part_1</th>\n",
              "      <th>Q47_Part_2</th>\n",
              "      <th>Q47_Part_3</th>\n",
              "      <th>Q47_Part_4</th>\n",
              "      <th>Q47_Part_5</th>\n",
              "      <th>Q47_Part_6</th>\n",
              "      <th>Q47_Part_7</th>\n",
              "      <th>Q47_Part_8</th>\n",
              "      <th>Q47_Part_9</th>\n",
              "      <th>Q47_Part_10</th>\n",
              "      <th>Q47_Part_11</th>\n",
              "      <th>Q47_Part_12</th>\n",
              "      <th>Q47_Part_13</th>\n",
              "      <th>Q47_Part_14</th>\n",
              "      <th>Q47_Part_15</th>\n",
              "      <th>Q47_Part_16</th>\n",
              "      <th>Q48</th>\n",
              "      <th>Q49_Part_1</th>\n",
              "      <th>Q49_Part_2</th>\n",
              "      <th>Q49_Part_3</th>\n",
              "      <th>Q49_Part_4</th>\n",
              "      <th>Q49_Part_5</th>\n",
              "      <th>Q49_Part_6</th>\n",
              "      <th>Q49_Part_7</th>\n",
              "      <th>Q49_Part_8</th>\n",
              "      <th>Q49_Part_9</th>\n",
              "      <th>Q49_Part_10</th>\n",
              "      <th>Q49_Part_11</th>\n",
              "      <th>Q49_Part_12</th>\n",
              "      <th>Q50_Part_1</th>\n",
              "      <th>Q50_Part_2</th>\n",
              "      <th>Q50_Part_3</th>\n",
              "      <th>Q50_Part_4</th>\n",
              "      <th>Q50_Part_5</th>\n",
              "      <th>Q50_Part_6</th>\n",
              "      <th>Q50_Part_7</th>\n",
              "      <th>Q50_Part_8</th>\n",
              "    </tr>\n",
              "  </thead>\n",
              "  <tbody>\n",
              "    <tr>\n",
              "      <th>0</th>\n",
              "      <td>718</td>\n",
              "      <td>Female</td>\n",
              "      <td>30-34</td>\n",
              "      <td>NorthAmerica</td>\n",
              "      <td>Master’s degree</td>\n",
              "      <td>Computer science (software engineering, etc.)</td>\n",
              "      <td>Student</td>\n",
              "      <td>Student</td>\n",
              "      <td>0-1</td>\n",
              "      <td>0-10,000</td>\n",
              "      <td>I do not know</td>\n",
              "      <td>Analyze and understand data to influence produ...</td>\n",
              "      <td>NaN</td>\n",
              "      <td>NaN</td>\n",
              "      <td>NaN</td>\n",
              "      <td>NaN</td>\n",
              "      <td>NaN</td>\n",
              "      <td>NaN</td>\n",
              "      <td>-1</td>\n",
              "      <td>-1</td>\n",
              "      <td>-1</td>\n",
              "      <td>0</td>\n",
              "      <td>-1</td>\n",
              "      <td>NaN</td>\n",
              "      <td>NaN</td>\n",
              "      <td>NaN</td>\n",
              "      <td>NaN</td>\n",
              "      <td>NaN</td>\n",
              "      <td>NaN</td>\n",
              "      <td>MATLAB</td>\n",
              "      <td>NaN</td>\n",
              "      <td>NaN</td>\n",
              "      <td>NaN</td>\n",
              "      <td>NaN</td>\n",
              "      <td>NaN</td>\n",
              "      <td>NaN</td>\n",
              "      <td>NaN</td>\n",
              "      <td>NaN</td>\n",
              "      <td>NaN</td>\n",
              "      <td>NaN</td>\n",
              "      <td>...</td>\n",
              "      <td>NaN</td>\n",
              "      <td>NaN</td>\n",
              "      <td>10-20</td>\n",
              "      <td>NaN</td>\n",
              "      <td>Examine feature correlations</td>\n",
              "      <td>Examine feature importances</td>\n",
              "      <td>NaN</td>\n",
              "      <td>NaN</td>\n",
              "      <td>NaN</td>\n",
              "      <td>NaN</td>\n",
              "      <td>Plot predicted vs. actual results</td>\n",
              "      <td>NaN</td>\n",
              "      <td>NaN</td>\n",
              "      <td>NaN</td>\n",
              "      <td>NaN</td>\n",
              "      <td>NaN</td>\n",
              "      <td>NaN</td>\n",
              "      <td>NaN</td>\n",
              "      <td>NaN</td>\n",
              "      <td>I am confident that I can explain the outputs ...</td>\n",
              "      <td>NaN</td>\n",
              "      <td>NaN</td>\n",
              "      <td>NaN</td>\n",
              "      <td>NaN</td>\n",
              "      <td>NaN</td>\n",
              "      <td>NaN</td>\n",
              "      <td>Make sure the code is human-readable</td>\n",
              "      <td>Define all random seeds</td>\n",
              "      <td>NaN</td>\n",
              "      <td>Include a text file describing all dependencies</td>\n",
              "      <td>NaN</td>\n",
              "      <td>NaN</td>\n",
              "      <td>NaN</td>\n",
              "      <td>Too time-consuming</td>\n",
              "      <td>NaN</td>\n",
              "      <td>NaN</td>\n",
              "      <td>NaN</td>\n",
              "      <td>NaN</td>\n",
              "      <td>NaN</td>\n",
              "      <td>NaN</td>\n",
              "    </tr>\n",
              "    <tr>\n",
              "      <th>1</th>\n",
              "      <td>731</td>\n",
              "      <td>Male</td>\n",
              "      <td>22-24</td>\n",
              "      <td>Asia</td>\n",
              "      <td>Master’s degree</td>\n",
              "      <td>Mathematics or statistics</td>\n",
              "      <td>Student</td>\n",
              "      <td>Student</td>\n",
              "      <td>0-1</td>\n",
              "      <td>0-10,000</td>\n",
              "      <td>I do not know</td>\n",
              "      <td>NaN</td>\n",
              "      <td>NaN</td>\n",
              "      <td>NaN</td>\n",
              "      <td>NaN</td>\n",
              "      <td>NaN</td>\n",
              "      <td>NaN</td>\n",
              "      <td>Other</td>\n",
              "      <td>-1</td>\n",
              "      <td>1</td>\n",
              "      <td>-1</td>\n",
              "      <td>-1</td>\n",
              "      <td>-1</td>\n",
              "      <td>NaN</td>\n",
              "      <td>RStudio</td>\n",
              "      <td>NaN</td>\n",
              "      <td>NaN</td>\n",
              "      <td>NaN</td>\n",
              "      <td>NaN</td>\n",
              "      <td>NaN</td>\n",
              "      <td>NaN</td>\n",
              "      <td>NaN</td>\n",
              "      <td>NaN</td>\n",
              "      <td>NaN</td>\n",
              "      <td>NaN</td>\n",
              "      <td>NaN</td>\n",
              "      <td>NaN</td>\n",
              "      <td>NaN</td>\n",
              "      <td>NaN</td>\n",
              "      <td>NaN</td>\n",
              "      <td>...</td>\n",
              "      <td>NaN</td>\n",
              "      <td>NaN</td>\n",
              "      <td>20-30</td>\n",
              "      <td>NaN</td>\n",
              "      <td>NaN</td>\n",
              "      <td>NaN</td>\n",
              "      <td>NaN</td>\n",
              "      <td>Create partial dependence plots</td>\n",
              "      <td>NaN</td>\n",
              "      <td>NaN</td>\n",
              "      <td>NaN</td>\n",
              "      <td>NaN</td>\n",
              "      <td>NaN</td>\n",
              "      <td>NaN</td>\n",
              "      <td>NaN</td>\n",
              "      <td>NaN</td>\n",
              "      <td>NaN</td>\n",
              "      <td>NaN</td>\n",
              "      <td>NaN</td>\n",
              "      <td>I am confident that I can understand and expla...</td>\n",
              "      <td>NaN</td>\n",
              "      <td>NaN</td>\n",
              "      <td>NaN</td>\n",
              "      <td>NaN</td>\n",
              "      <td>NaN</td>\n",
              "      <td>NaN</td>\n",
              "      <td>NaN</td>\n",
              "      <td>NaN</td>\n",
              "      <td>Define relative rather than absolute file paths</td>\n",
              "      <td>NaN</td>\n",
              "      <td>NaN</td>\n",
              "      <td>NaN</td>\n",
              "      <td>NaN</td>\n",
              "      <td>Too time-consuming</td>\n",
              "      <td>NaN</td>\n",
              "      <td>NaN</td>\n",
              "      <td>Not enough incentives to share my work</td>\n",
              "      <td>NaN</td>\n",
              "      <td>NaN</td>\n",
              "      <td>NaN</td>\n",
              "    </tr>\n",
              "    <tr>\n",
              "      <th>2</th>\n",
              "      <td>1142</td>\n",
              "      <td>Male</td>\n",
              "      <td>25-29</td>\n",
              "      <td>SouthAmerica</td>\n",
              "      <td>Bachelor’s degree</td>\n",
              "      <td>Physics or astronomy</td>\n",
              "      <td>Data Scientist</td>\n",
              "      <td>Computers/Technology</td>\n",
              "      <td>0-1</td>\n",
              "      <td>I do not wish to disclose my approximate yearl...</td>\n",
              "      <td>We are exploring ML methods (and may one day p...</td>\n",
              "      <td>Analyze and understand data to influence produ...</td>\n",
              "      <td>NaN</td>\n",
              "      <td>NaN</td>\n",
              "      <td>Build prototypes to explore applying machine l...</td>\n",
              "      <td>Do research that advances the state of the art...</td>\n",
              "      <td>NaN</td>\n",
              "      <td>NaN</td>\n",
              "      <td>-1</td>\n",
              "      <td>-1</td>\n",
              "      <td>-1</td>\n",
              "      <td>2</td>\n",
              "      <td>-1</td>\n",
              "      <td>Jupyter/IPython</td>\n",
              "      <td>NaN</td>\n",
              "      <td>NaN</td>\n",
              "      <td>NaN</td>\n",
              "      <td>NaN</td>\n",
              "      <td>Atom</td>\n",
              "      <td>NaN</td>\n",
              "      <td>NaN</td>\n",
              "      <td>NaN</td>\n",
              "      <td>NaN</td>\n",
              "      <td>Vim</td>\n",
              "      <td>NaN</td>\n",
              "      <td>NaN</td>\n",
              "      <td>NaN</td>\n",
              "      <td>NaN</td>\n",
              "      <td>Kaggle Kernels</td>\n",
              "      <td>Google Colab</td>\n",
              "      <td>...</td>\n",
              "      <td>When first exploring a new ML model or dataset</td>\n",
              "      <td>NaN</td>\n",
              "      <td>0</td>\n",
              "      <td>NaN</td>\n",
              "      <td>Examine feature correlations</td>\n",
              "      <td>Examine feature importances</td>\n",
              "      <td>NaN</td>\n",
              "      <td>NaN</td>\n",
              "      <td>NaN</td>\n",
              "      <td>NaN</td>\n",
              "      <td>Plot predicted vs. actual results</td>\n",
              "      <td>NaN</td>\n",
              "      <td>NaN</td>\n",
              "      <td>NaN</td>\n",
              "      <td>NaN</td>\n",
              "      <td>NaN</td>\n",
              "      <td>NaN</td>\n",
              "      <td>NaN</td>\n",
              "      <td>NaN</td>\n",
              "      <td>I view ML models as \"black boxes\" but I am con...</td>\n",
              "      <td>Share code on Github or a similar code-sharing...</td>\n",
              "      <td>Share both data and code on Github or a simila...</td>\n",
              "      <td>Share data, code, and environment using a host...</td>\n",
              "      <td>NaN</td>\n",
              "      <td>Share code, data, and environment using virtua...</td>\n",
              "      <td>Make sure the code is well documented</td>\n",
              "      <td>Make sure the code is human-readable</td>\n",
              "      <td>NaN</td>\n",
              "      <td>NaN</td>\n",
              "      <td>Include a text file describing all dependencies</td>\n",
              "      <td>NaN</td>\n",
              "      <td>NaN</td>\n",
              "      <td>NaN</td>\n",
              "      <td>NaN</td>\n",
              "      <td>NaN</td>\n",
              "      <td>Afraid that others will use my work without gi...</td>\n",
              "      <td>NaN</td>\n",
              "      <td>I had never considered making my work easier f...</td>\n",
              "      <td>NaN</td>\n",
              "      <td>NaN</td>\n",
              "    </tr>\n",
              "    <tr>\n",
              "      <th>3</th>\n",
              "      <td>751</td>\n",
              "      <td>Male</td>\n",
              "      <td>30-34</td>\n",
              "      <td>Europe</td>\n",
              "      <td>Master’s degree</td>\n",
              "      <td>Engineering (non-computer focused)</td>\n",
              "      <td>Software Engineer</td>\n",
              "      <td>Online Service/Internet-based Services</td>\n",
              "      <td>3-4</td>\n",
              "      <td>20-30,000</td>\n",
              "      <td>We have well established ML methods (i.e., mod...</td>\n",
              "      <td>NaN</td>\n",
              "      <td>Build and/or run a machine learning service th...</td>\n",
              "      <td>Build and/or run the data infrastructure that ...</td>\n",
              "      <td>NaN</td>\n",
              "      <td>NaN</td>\n",
              "      <td>NaN</td>\n",
              "      <td>NaN</td>\n",
              "      <td>-1</td>\n",
              "      <td>-1</td>\n",
              "      <td>-1</td>\n",
              "      <td>4</td>\n",
              "      <td>-1</td>\n",
              "      <td>Jupyter/IPython</td>\n",
              "      <td>NaN</td>\n",
              "      <td>PyCharm</td>\n",
              "      <td>Visual Studio Code</td>\n",
              "      <td>NaN</td>\n",
              "      <td>NaN</td>\n",
              "      <td>NaN</td>\n",
              "      <td>Visual Studio</td>\n",
              "      <td>NaN</td>\n",
              "      <td>Sublime Text</td>\n",
              "      <td>NaN</td>\n",
              "      <td>IntelliJ</td>\n",
              "      <td>NaN</td>\n",
              "      <td>NaN</td>\n",
              "      <td>NaN</td>\n",
              "      <td>Kaggle Kernels</td>\n",
              "      <td>NaN</td>\n",
              "      <td>...</td>\n",
              "      <td>When first exploring a new ML model or dataset</td>\n",
              "      <td>NaN</td>\n",
              "      <td>50-60</td>\n",
              "      <td>NaN</td>\n",
              "      <td>Examine feature correlations</td>\n",
              "      <td>NaN</td>\n",
              "      <td>NaN</td>\n",
              "      <td>NaN</td>\n",
              "      <td>Dimensionality reduction techniques</td>\n",
              "      <td>NaN</td>\n",
              "      <td>Plot predicted vs. actual results</td>\n",
              "      <td>Print out a decision tree</td>\n",
              "      <td>NaN</td>\n",
              "      <td>NaN</td>\n",
              "      <td>NaN</td>\n",
              "      <td>NaN</td>\n",
              "      <td>NaN</td>\n",
              "      <td>NaN</td>\n",
              "      <td>NaN</td>\n",
              "      <td>I am confident that I can understand and expla...</td>\n",
              "      <td>NaN</td>\n",
              "      <td>NaN</td>\n",
              "      <td>Share data, code, and environment using a host...</td>\n",
              "      <td>NaN</td>\n",
              "      <td>NaN</td>\n",
              "      <td>Make sure the code is well documented</td>\n",
              "      <td>Make sure the code is human-readable</td>\n",
              "      <td>Define all random seeds</td>\n",
              "      <td>NaN</td>\n",
              "      <td>Include a text file describing all dependencies</td>\n",
              "      <td>NaN</td>\n",
              "      <td>NaN</td>\n",
              "      <td>NaN</td>\n",
              "      <td>Too time-consuming</td>\n",
              "      <td>NaN</td>\n",
              "      <td>Afraid that others will use my work without gi...</td>\n",
              "      <td>NaN</td>\n",
              "      <td>NaN</td>\n",
              "      <td>NaN</td>\n",
              "      <td>NaN</td>\n",
              "    </tr>\n",
              "    <tr>\n",
              "      <th>4</th>\n",
              "      <td>2028</td>\n",
              "      <td>Male</td>\n",
              "      <td>22-24</td>\n",
              "      <td>Europe</td>\n",
              "      <td>Bachelor’s degree</td>\n",
              "      <td>Information technology, networking, or system ...</td>\n",
              "      <td>Student</td>\n",
              "      <td>Student</td>\n",
              "      <td>3-4</td>\n",
              "      <td>I do not wish to disclose my approximate yearl...</td>\n",
              "      <td>I do not know</td>\n",
              "      <td>NaN</td>\n",
              "      <td>NaN</td>\n",
              "      <td>NaN</td>\n",
              "      <td>NaN</td>\n",
              "      <td>NaN</td>\n",
              "      <td>None of these activities are an important part...</td>\n",
              "      <td>NaN</td>\n",
              "      <td>-1</td>\n",
              "      <td>2</td>\n",
              "      <td>-1</td>\n",
              "      <td>-1</td>\n",
              "      <td>-1</td>\n",
              "      <td>Jupyter/IPython</td>\n",
              "      <td>RStudio</td>\n",
              "      <td>NaN</td>\n",
              "      <td>Visual Studio Code</td>\n",
              "      <td>NaN</td>\n",
              "      <td>Atom</td>\n",
              "      <td>NaN</td>\n",
              "      <td>NaN</td>\n",
              "      <td>NaN</td>\n",
              "      <td>NaN</td>\n",
              "      <td>NaN</td>\n",
              "      <td>NaN</td>\n",
              "      <td>Spyder</td>\n",
              "      <td>NaN</td>\n",
              "      <td>NaN</td>\n",
              "      <td>Kaggle Kernels</td>\n",
              "      <td>NaN</td>\n",
              "      <td>...</td>\n",
              "      <td>NaN</td>\n",
              "      <td>I do not explore and interpret model insights ...</td>\n",
              "      <td>0-10</td>\n",
              "      <td>NaN</td>\n",
              "      <td>NaN</td>\n",
              "      <td>NaN</td>\n",
              "      <td>NaN</td>\n",
              "      <td>NaN</td>\n",
              "      <td>NaN</td>\n",
              "      <td>NaN</td>\n",
              "      <td>NaN</td>\n",
              "      <td>NaN</td>\n",
              "      <td>NaN</td>\n",
              "      <td>NaN</td>\n",
              "      <td>ELI5 functions</td>\n",
              "      <td>NaN</td>\n",
              "      <td>NaN</td>\n",
              "      <td>NaN</td>\n",
              "      <td>NaN</td>\n",
              "      <td>I do not know; I have no opinion on the matter</td>\n",
              "      <td>Share code on Github or a similar code-sharing...</td>\n",
              "      <td>NaN</td>\n",
              "      <td>NaN</td>\n",
              "      <td>NaN</td>\n",
              "      <td>NaN</td>\n",
              "      <td>Make sure the code is well documented</td>\n",
              "      <td>Make sure the code is human-readable</td>\n",
              "      <td>Define all random seeds</td>\n",
              "      <td>NaN</td>\n",
              "      <td>NaN</td>\n",
              "      <td>NaN</td>\n",
              "      <td>NaN</td>\n",
              "      <td>NaN</td>\n",
              "      <td>Too time-consuming</td>\n",
              "      <td>NaN</td>\n",
              "      <td>NaN</td>\n",
              "      <td>NaN</td>\n",
              "      <td>NaN</td>\n",
              "      <td>NaN</td>\n",
              "      <td>NaN</td>\n",
              "    </tr>\n",
              "  </tbody>\n",
              "</table>\n",
              "<p>5 rows × 346 columns</p>\n",
              "</div>"
            ],
            "text/plain": [
              "   duration  gender  ... Q50_Part_7 Q50_Part_8\n",
              "0       718  Female  ...        NaN        NaN\n",
              "1       731    Male  ...        NaN        NaN\n",
              "2      1142    Male  ...        NaN        NaN\n",
              "3       751    Male  ...        NaN        NaN\n",
              "4      2028    Male  ...        NaN        NaN\n",
              "\n",
              "[5 rows x 346 columns]"
            ]
          },
          "metadata": {
            "tags": []
          },
          "execution_count": 6
        }
      ]
    },
    {
      "cell_type": "code",
      "metadata": {
        "id": "-KtpUm1Jn3eO",
        "colab_type": "code",
        "colab": {
          "base_uri": "https://localhost:8080/",
          "height": 124
        },
        "outputId": "c1b3eadb-64ae-4279-ae68-8e83e12bd0a8"
      },
      "source": [
        "## drop Nan in salary\n",
        "#multiple = multiple[~multiple.value.isnull()].copy()\n",
        "not_disclosed = multiple[multiple.value == 'I do not wish to disclose my approximate yearly compensation'].index\n",
        "#multiple = multiple.drop(list(not_disclosed), axis=0)\n",
        "print(not_disclosed)"
      ],
      "execution_count": null,
      "outputs": [
        {
          "output_type": "stream",
          "text": [
            "Int64Index([    2,     4,    12,    19,    22,    25,    35,    41,    68,\n",
            "               81,\n",
            "            ...\n",
            "            14070, 14071, 14073, 14076, 14079, 14080, 14082, 14086, 14087,\n",
            "            14091],\n",
            "           dtype='int64', length=3510)\n"
          ],
          "name": "stdout"
        }
      ]
    },
    {
      "cell_type": "code",
      "metadata": {
        "id": "gErVWdThqvl9",
        "colab_type": "code",
        "colab": {}
      },
      "source": [
        "from pandas.api.types import CategoricalDtype"
      ],
      "execution_count": null,
      "outputs": []
    },
    {
      "cell_type": "code",
      "metadata": {
        "id": "ZQ30MZyuqwqf",
        "colab_type": "code",
        "colab": {
          "base_uri": "https://localhost:8080/",
          "height": 230
        },
        "outputId": "62a2669b-063d-4c5b-d194-28eaee6d8be1"
      },
      "source": [
        "multiple.dtypes"
      ],
      "execution_count": null,
      "outputs": [
        {
          "output_type": "execute_result",
          "data": {
            "text/plain": [
              "duration       int64\n",
              "gender        object\n",
              "Age           object\n",
              "country       object\n",
              "degree        object\n",
              "               ...  \n",
              "Q50_Part_4    object\n",
              "Q50_Part_5    object\n",
              "Q50_Part_6    object\n",
              "Q50_Part_7    object\n",
              "Q50_Part_8    object\n",
              "Length: 346, dtype: object"
            ]
          },
          "metadata": {
            "tags": []
          },
          "execution_count": 9
        }
      ]
    },
    {
      "cell_type": "code",
      "metadata": {
        "id": "g4IFe65-Fubp",
        "colab_type": "code",
        "colab": {
          "base_uri": "https://localhost:8080/",
          "height": 124
        },
        "outputId": "1bbd647f-670d-4464-97b5-80850c413b86"
      },
      "source": [
        "multiple.columns"
      ],
      "execution_count": null,
      "outputs": [
        {
          "output_type": "execute_result",
          "data": {
            "text/plain": [
              "Index(['duration', 'gender', 'Age', 'country', 'degree', 'undergraduate_major',\n",
              "       'Role', 'industry', 'Experience', 'value',\n",
              "       ...\n",
              "       'Q49_Part_11', 'Q49_Part_12', 'Q50_Part_1', 'Q50_Part_2', 'Q50_Part_3',\n",
              "       'Q50_Part_4', 'Q50_Part_5', 'Q50_Part_6', 'Q50_Part_7', 'Q50_Part_8'],\n",
              "      dtype='object', length=346)"
            ]
          },
          "metadata": {
            "tags": []
          },
          "execution_count": 10
        }
      ]
    },
    {
      "cell_type": "code",
      "metadata": {
        "id": "mLXlFpHuQuOS",
        "colab_type": "code",
        "colab": {
          "base_uri": "https://localhost:8080/",
          "height": 399
        },
        "outputId": "39bb3e4d-a779-4734-c26f-782f8ad95f0c"
      },
      "source": [
        "multiple.iloc[:,319:321]"
      ],
      "execution_count": null,
      "outputs": [
        {
          "output_type": "execute_result",
          "data": {
            "text/html": [
              "<div>\n",
              "<style scoped>\n",
              "    .dataframe tbody tr th:only-of-type {\n",
              "        vertical-align: middle;\n",
              "    }\n",
              "\n",
              "    .dataframe tbody tr th {\n",
              "        vertical-align: top;\n",
              "    }\n",
              "\n",
              "    .dataframe thead th {\n",
              "        text-align: right;\n",
              "    }\n",
              "</style>\n",
              "<table border=\"1\" class=\"dataframe\">\n",
              "  <thead>\n",
              "    <tr style=\"text-align: right;\">\n",
              "      <th></th>\n",
              "      <th>Q47_Part_11</th>\n",
              "      <th>Q47_Part_12</th>\n",
              "    </tr>\n",
              "  </thead>\n",
              "  <tbody>\n",
              "    <tr>\n",
              "      <th>0</th>\n",
              "      <td>NaN</td>\n",
              "      <td>NaN</td>\n",
              "    </tr>\n",
              "    <tr>\n",
              "      <th>1</th>\n",
              "      <td>NaN</td>\n",
              "      <td>NaN</td>\n",
              "    </tr>\n",
              "    <tr>\n",
              "      <th>2</th>\n",
              "      <td>NaN</td>\n",
              "      <td>NaN</td>\n",
              "    </tr>\n",
              "    <tr>\n",
              "      <th>3</th>\n",
              "      <td>NaN</td>\n",
              "      <td>NaN</td>\n",
              "    </tr>\n",
              "    <tr>\n",
              "      <th>4</th>\n",
              "      <td>NaN</td>\n",
              "      <td>ELI5 functions</td>\n",
              "    </tr>\n",
              "    <tr>\n",
              "      <th>...</th>\n",
              "      <td>...</td>\n",
              "      <td>...</td>\n",
              "    </tr>\n",
              "    <tr>\n",
              "      <th>14087</th>\n",
              "      <td>NaN</td>\n",
              "      <td>NaN</td>\n",
              "    </tr>\n",
              "    <tr>\n",
              "      <th>14088</th>\n",
              "      <td>NaN</td>\n",
              "      <td>NaN</td>\n",
              "    </tr>\n",
              "    <tr>\n",
              "      <th>14089</th>\n",
              "      <td>NaN</td>\n",
              "      <td>NaN</td>\n",
              "    </tr>\n",
              "    <tr>\n",
              "      <th>14090</th>\n",
              "      <td>NaN</td>\n",
              "      <td>NaN</td>\n",
              "    </tr>\n",
              "    <tr>\n",
              "      <th>14091</th>\n",
              "      <td>NaN</td>\n",
              "      <td>NaN</td>\n",
              "    </tr>\n",
              "  </tbody>\n",
              "</table>\n",
              "<p>14092 rows × 2 columns</p>\n",
              "</div>"
            ],
            "text/plain": [
              "      Q47_Part_11     Q47_Part_12\n",
              "0             NaN             NaN\n",
              "1             NaN             NaN\n",
              "2             NaN             NaN\n",
              "3             NaN             NaN\n",
              "4             NaN  ELI5 functions\n",
              "...           ...             ...\n",
              "14087         NaN             NaN\n",
              "14088         NaN             NaN\n",
              "14089         NaN             NaN\n",
              "14090         NaN             NaN\n",
              "14091         NaN             NaN\n",
              "\n",
              "[14092 rows x 2 columns]"
            ]
          },
          "metadata": {
            "tags": []
          },
          "execution_count": 11
        }
      ]
    },
    {
      "cell_type": "markdown",
      "metadata": {
        "id": "hmB8lJjoFlzn",
        "colab_type": "text"
      },
      "source": [
        "## Another Dataset : \n",
        "* Student가 I do not disclose my compensation의 45%를 차지\n",
        "* gender 2개에서 이상치 생김. 아예 drop하는게? \n",
        "* Students 패턴 제거 (수입 적음) "
      ]
    },
    {
      "cell_type": "code",
      "metadata": {
        "id": "uO1pkJN6FVGZ",
        "colab_type": "code",
        "colab": {}
      },
      "source": [
        "gender_trolls = multiple[(multiple.gender == 'Prefer to self-describe') | (multiple.gender == 'Prefer not to say')].index\n",
        "multiple = multiple.drop(list(gender_trolls), axis=0)"
      ],
      "execution_count": null,
      "outputs": []
    },
    {
      "cell_type": "code",
      "metadata": {
        "id": "8LBPQJWSFhzm",
        "colab_type": "code",
        "colab": {}
      },
      "source": [
        "student_trolls = multiple[((multiple.Role == 'Student') & (multiple.value > '500,000+')) | \\\n",
        "                     ((multiple.Role == 'Student') & (multiple.value > '400-500,000')) | \\\n",
        "                     ((multiple.Role == 'Student') & (multiple.value > '300-400,000')) | \\\n",
        "                     ((multiple.Role == 'Student') & (multiple.value > '250-300,000'))].index\n",
        "multiple = multiple.drop(list(student_trolls), axis=0)"
      ],
      "execution_count": null,
      "outputs": []
    },
    {
      "cell_type": "code",
      "metadata": {
        "id": "FH5qLqLtFk5g",
        "colab_type": "code",
        "colab": {}
      },
      "source": [
        "multiple = multiple[~multiple.value.isnull()].copy()\n",
        "not_disclosed = multiple[multiple.value == 'I do not wish to disclose my approximate yearly compensation'].index\n",
        "multiple = multiple.drop(list(not_disclosed), axis=0)"
      ],
      "execution_count": null,
      "outputs": []
    },
    {
      "cell_type": "code",
      "metadata": {
        "id": "vNqarjqZGzzL",
        "colab_type": "code",
        "colab": {
          "base_uri": "https://localhost:8080/",
          "height": 195
        },
        "outputId": "d7555909-b975-4766-eb30-f7a2351872f0"
      },
      "source": [
        "multiple.value[1:10]"
      ],
      "execution_count": null,
      "outputs": [
        {
          "output_type": "execute_result",
          "data": {
            "text/plain": [
              "1        0-10,000\n",
              "3       20-30,000\n",
              "5     125-150,000\n",
              "8       10-20,000\n",
              "9       30-40,000\n",
              "10      50-60,000\n",
              "11      30-40,000\n",
              "13       0-10,000\n",
              "14      70-80,000\n",
              "Name: value, dtype: object"
            ]
          },
          "metadata": {
            "tags": []
          },
          "execution_count": 15
        }
      ]
    },
    {
      "cell_type": "code",
      "metadata": {
        "id": "NNb9b2UhW7Rd",
        "colab_type": "code",
        "colab": {}
      },
      "source": [
        "question = multiple.columns"
      ],
      "execution_count": null,
      "outputs": []
    },
    {
      "cell_type": "code",
      "metadata": {
        "id": "eqacvaviZTXG",
        "colab_type": "code",
        "colab": {
          "base_uri": "https://localhost:8080/",
          "height": 124
        },
        "outputId": "50ae2cb3-69ad-4811-9442-1b6883c8d923"
      },
      "source": [
        "question[100:300]"
      ],
      "execution_count": null,
      "outputs": [
        {
          "output_type": "execute_result",
          "data": {
            "text/plain": [
              "Index(['Q21_Part_8', 'Q21_Part_9', 'Q21_Part_10', 'Q21_Part_11', 'Q21_Part_12',\n",
              "       'Q21_Part_13', 'Q23', 'Q24', 'Q25', 'confidence',\n",
              "       ...\n",
              "       'Q42_Part_1', 'Q42_Part_2', 'Q42_Part_3', 'Q42_Part_4', 'Q42_Part_5',\n",
              "       'Q43', 'Q44_Part_1', 'Q44_Part_2', 'Q44_Part_3', 'Q44_Part_4'],\n",
              "      dtype='object', length=200)"
            ]
          },
          "metadata": {
            "tags": []
          },
          "execution_count": 17
        }
      ]
    },
    {
      "cell_type": "code",
      "metadata": {
        "id": "RnLr4mbVlRVC",
        "colab_type": "code",
        "colab": {
          "base_uri": "https://localhost:8080/",
          "height": 212
        },
        "outputId": "b83a9d9d-5804-4fdc-de43-f3b968e9e020"
      },
      "source": [
        "multiple.dtypes[10:20]"
      ],
      "execution_count": null,
      "outputs": [
        {
          "output_type": "execute_result",
          "data": {
            "text/plain": [
              "Q10                object\n",
              "Q11_Part_1         object\n",
              "Q11_Part_2         object\n",
              "Q11_Part_3         object\n",
              "Q11_Part_4         object\n",
              "Q11_Part_5         object\n",
              "Q11_Part_6         object\n",
              "Q11_Part_7         object\n",
              "Q12_Part_1_TEXT     int64\n",
              "Q12_Part_2_TEXT     int64\n",
              "dtype: object"
            ]
          },
          "metadata": {
            "tags": []
          },
          "execution_count": 18
        }
      ]
    },
    {
      "cell_type": "markdown",
      "metadata": {
        "id": "4yF_oQ2nadgS",
        "colab_type": "text"
      },
      "source": [
        "## One Hot Encoding : "
      ]
    },
    {
      "cell_type": "code",
      "metadata": {
        "id": "eAdkVUGcatqH",
        "colab_type": "code",
        "colab": {
          "base_uri": "https://localhost:8080/",
          "height": 72
        },
        "outputId": "46460a82-ae04-462b-9409-33c7a0816933"
      },
      "source": [
        "import matplotlib.pyplot as plt\n",
        "import seaborn as sns\n",
        "from sklearn import preprocessing\n",
        "sns.set_style('dark')"
      ],
      "execution_count": null,
      "outputs": [
        {
          "output_type": "stream",
          "text": [
            "/usr/local/lib/python3.6/dist-packages/statsmodels/tools/_testing.py:19: FutureWarning: pandas.util.testing is deprecated. Use the functions in the public API at pandas.testing instead.\n",
            "  import pandas.util.testing as tm\n"
          ],
          "name": "stderr"
        }
      ]
    },
    {
      "cell_type": "markdown",
      "metadata": {
        "id": "yE41i-BBagRV",
        "colab_type": "text"
      },
      "source": [
        "* Role : "
      ]
    },
    {
      "cell_type": "code",
      "metadata": {
        "id": "ioYrpx-kSRgc",
        "colab_type": "code",
        "colab": {
          "base_uri": "https://localhost:8080/",
          "height": 35
        },
        "outputId": "c8d15f75-5d0c-4570-ac63-56645a411fbd"
      },
      "source": [
        "len(multiple.Role[multiple.Role.isna()])"
      ],
      "execution_count": null,
      "outputs": [
        {
          "output_type": "execute_result",
          "data": {
            "text/plain": [
              "0"
            ]
          },
          "metadata": {
            "tags": []
          },
          "execution_count": 20
        }
      ]
    },
    {
      "cell_type": "code",
      "metadata": {
        "id": "gnsUeoD3SRbf",
        "colab_type": "code",
        "colab": {}
      },
      "source": [
        "roledummy = pd.get_dummies(multiple.Role)"
      ],
      "execution_count": null,
      "outputs": []
    },
    {
      "cell_type": "code",
      "metadata": {
        "id": "lbDAAUhN-8L5",
        "colab_type": "code",
        "colab": {
          "base_uri": "https://localhost:8080/",
          "height": 211
        },
        "outputId": "2e94dece-565e-4235-dcbf-39bf727be33a"
      },
      "source": [
        "roledummy.head()"
      ],
      "execution_count": null,
      "outputs": [
        {
          "output_type": "execute_result",
          "data": {
            "text/html": [
              "<div>\n",
              "<style scoped>\n",
              "    .dataframe tbody tr th:only-of-type {\n",
              "        vertical-align: middle;\n",
              "    }\n",
              "\n",
              "    .dataframe tbody tr th {\n",
              "        vertical-align: top;\n",
              "    }\n",
              "\n",
              "    .dataframe thead th {\n",
              "        text-align: right;\n",
              "    }\n",
              "</style>\n",
              "<table border=\"1\" class=\"dataframe\">\n",
              "  <thead>\n",
              "    <tr style=\"text-align: right;\">\n",
              "      <th></th>\n",
              "      <th>Business Analyst</th>\n",
              "      <th>Data Analyst</th>\n",
              "      <th>Data Engineer/DBA</th>\n",
              "      <th>Data Scientist</th>\n",
              "      <th>Software Engineer</th>\n",
              "      <th>Statistician/Research Scientist</th>\n",
              "      <th>Student</th>\n",
              "    </tr>\n",
              "  </thead>\n",
              "  <tbody>\n",
              "    <tr>\n",
              "      <th>0</th>\n",
              "      <td>0</td>\n",
              "      <td>0</td>\n",
              "      <td>0</td>\n",
              "      <td>0</td>\n",
              "      <td>0</td>\n",
              "      <td>0</td>\n",
              "      <td>1</td>\n",
              "    </tr>\n",
              "    <tr>\n",
              "      <th>1</th>\n",
              "      <td>0</td>\n",
              "      <td>0</td>\n",
              "      <td>0</td>\n",
              "      <td>0</td>\n",
              "      <td>0</td>\n",
              "      <td>0</td>\n",
              "      <td>1</td>\n",
              "    </tr>\n",
              "    <tr>\n",
              "      <th>3</th>\n",
              "      <td>0</td>\n",
              "      <td>0</td>\n",
              "      <td>0</td>\n",
              "      <td>0</td>\n",
              "      <td>1</td>\n",
              "      <td>0</td>\n",
              "      <td>0</td>\n",
              "    </tr>\n",
              "    <tr>\n",
              "      <th>5</th>\n",
              "      <td>0</td>\n",
              "      <td>0</td>\n",
              "      <td>0</td>\n",
              "      <td>1</td>\n",
              "      <td>0</td>\n",
              "      <td>0</td>\n",
              "      <td>0</td>\n",
              "    </tr>\n",
              "    <tr>\n",
              "      <th>8</th>\n",
              "      <td>0</td>\n",
              "      <td>1</td>\n",
              "      <td>0</td>\n",
              "      <td>0</td>\n",
              "      <td>0</td>\n",
              "      <td>0</td>\n",
              "      <td>0</td>\n",
              "    </tr>\n",
              "  </tbody>\n",
              "</table>\n",
              "</div>"
            ],
            "text/plain": [
              "   Business Analyst  Data Analyst  ...  Statistician/Research Scientist  Student\n",
              "0                 0             0  ...                                0        1\n",
              "1                 0             0  ...                                0        1\n",
              "3                 0             0  ...                                0        0\n",
              "5                 0             0  ...                                0        0\n",
              "8                 0             1  ...                                0        0\n",
              "\n",
              "[5 rows x 7 columns]"
            ]
          },
          "metadata": {
            "tags": []
          },
          "execution_count": 22
        }
      ]
    },
    {
      "cell_type": "markdown",
      "metadata": {
        "id": "D8JYY5DSbb0o",
        "colab_type": "text"
      },
      "source": [
        "* Q1 - Q10 - gender"
      ]
    },
    {
      "cell_type": "code",
      "metadata": {
        "id": "Tyxu1Ga0SRVk",
        "colab_type": "code",
        "colab": {
          "base_uri": "https://localhost:8080/",
          "height": 35
        },
        "outputId": "63a54ebe-fd47-4714-b4bb-7dddbaab5029"
      },
      "source": [
        "multiple.gender.unique()"
      ],
      "execution_count": null,
      "outputs": [
        {
          "output_type": "execute_result",
          "data": {
            "text/plain": [
              "array(['Female', 'Male'], dtype=object)"
            ]
          },
          "metadata": {
            "tags": []
          },
          "execution_count": 23
        }
      ]
    },
    {
      "cell_type": "code",
      "metadata": {
        "id": "bY-dM_1VSRTr",
        "colab_type": "code",
        "colab": {}
      },
      "source": [
        "sex = pd.get_dummies(multiple.gender).iloc[:,:2]\n",
        "sex.columns=list(map(lambda x:'1_'+x,sex.columns))"
      ],
      "execution_count": null,
      "outputs": []
    },
    {
      "cell_type": "code",
      "metadata": {
        "id": "_uMr0wl3cAqa",
        "colab_type": "code",
        "colab": {
          "base_uri": "https://localhost:8080/",
          "height": 311
        },
        "outputId": "290afca7-b08c-4802-973d-393657b88f30"
      },
      "source": [
        "sex[1:10]"
      ],
      "execution_count": null,
      "outputs": [
        {
          "output_type": "execute_result",
          "data": {
            "text/html": [
              "<div>\n",
              "<style scoped>\n",
              "    .dataframe tbody tr th:only-of-type {\n",
              "        vertical-align: middle;\n",
              "    }\n",
              "\n",
              "    .dataframe tbody tr th {\n",
              "        vertical-align: top;\n",
              "    }\n",
              "\n",
              "    .dataframe thead th {\n",
              "        text-align: right;\n",
              "    }\n",
              "</style>\n",
              "<table border=\"1\" class=\"dataframe\">\n",
              "  <thead>\n",
              "    <tr style=\"text-align: right;\">\n",
              "      <th></th>\n",
              "      <th>1_Female</th>\n",
              "      <th>1_Male</th>\n",
              "    </tr>\n",
              "  </thead>\n",
              "  <tbody>\n",
              "    <tr>\n",
              "      <th>1</th>\n",
              "      <td>0</td>\n",
              "      <td>1</td>\n",
              "    </tr>\n",
              "    <tr>\n",
              "      <th>3</th>\n",
              "      <td>0</td>\n",
              "      <td>1</td>\n",
              "    </tr>\n",
              "    <tr>\n",
              "      <th>5</th>\n",
              "      <td>0</td>\n",
              "      <td>1</td>\n",
              "    </tr>\n",
              "    <tr>\n",
              "      <th>8</th>\n",
              "      <td>1</td>\n",
              "      <td>0</td>\n",
              "    </tr>\n",
              "    <tr>\n",
              "      <th>9</th>\n",
              "      <td>0</td>\n",
              "      <td>1</td>\n",
              "    </tr>\n",
              "    <tr>\n",
              "      <th>10</th>\n",
              "      <td>0</td>\n",
              "      <td>1</td>\n",
              "    </tr>\n",
              "    <tr>\n",
              "      <th>11</th>\n",
              "      <td>0</td>\n",
              "      <td>1</td>\n",
              "    </tr>\n",
              "    <tr>\n",
              "      <th>13</th>\n",
              "      <td>1</td>\n",
              "      <td>0</td>\n",
              "    </tr>\n",
              "    <tr>\n",
              "      <th>14</th>\n",
              "      <td>0</td>\n",
              "      <td>1</td>\n",
              "    </tr>\n",
              "  </tbody>\n",
              "</table>\n",
              "</div>"
            ],
            "text/plain": [
              "    1_Female  1_Male\n",
              "1          0       1\n",
              "3          0       1\n",
              "5          0       1\n",
              "8          1       0\n",
              "9          0       1\n",
              "10         0       1\n",
              "11         0       1\n",
              "13         1       0\n",
              "14         0       1"
            ]
          },
          "metadata": {
            "tags": []
          },
          "execution_count": 25
        }
      ]
    },
    {
      "cell_type": "code",
      "metadata": {
        "id": "P_6aR5SScNI6",
        "colab_type": "code",
        "colab": {
          "base_uri": "https://localhost:8080/",
          "height": 124
        },
        "outputId": "979c2c0a-fe55-4fcf-8c89-7b81c5f35f90"
      },
      "source": [
        "ndata = multiple.iloc[:,0]\n",
        "ndata.head()"
      ],
      "execution_count": null,
      "outputs": [
        {
          "output_type": "execute_result",
          "data": {
            "text/plain": [
              "0    718\n",
              "1    731\n",
              "3    751\n",
              "5    823\n",
              "8    846\n",
              "Name: duration, dtype: int64"
            ]
          },
          "metadata": {
            "tags": []
          },
          "execution_count": 26
        }
      ]
    },
    {
      "cell_type": "code",
      "metadata": {
        "id": "S6yNnOgcSRRR",
        "colab_type": "code",
        "colab": {
          "base_uri": "https://localhost:8080/",
          "height": 194
        },
        "outputId": "76e74b1b-3f5e-4c28-d3a7-edce03baee03"
      },
      "source": [
        "ndata = pd.concat([ndata,sex],axis=1)\n",
        "ndata.head()"
      ],
      "execution_count": null,
      "outputs": [
        {
          "output_type": "execute_result",
          "data": {
            "text/html": [
              "<div>\n",
              "<style scoped>\n",
              "    .dataframe tbody tr th:only-of-type {\n",
              "        vertical-align: middle;\n",
              "    }\n",
              "\n",
              "    .dataframe tbody tr th {\n",
              "        vertical-align: top;\n",
              "    }\n",
              "\n",
              "    .dataframe thead th {\n",
              "        text-align: right;\n",
              "    }\n",
              "</style>\n",
              "<table border=\"1\" class=\"dataframe\">\n",
              "  <thead>\n",
              "    <tr style=\"text-align: right;\">\n",
              "      <th></th>\n",
              "      <th>duration</th>\n",
              "      <th>1_Female</th>\n",
              "      <th>1_Male</th>\n",
              "    </tr>\n",
              "  </thead>\n",
              "  <tbody>\n",
              "    <tr>\n",
              "      <th>0</th>\n",
              "      <td>718</td>\n",
              "      <td>1</td>\n",
              "      <td>0</td>\n",
              "    </tr>\n",
              "    <tr>\n",
              "      <th>1</th>\n",
              "      <td>731</td>\n",
              "      <td>0</td>\n",
              "      <td>1</td>\n",
              "    </tr>\n",
              "    <tr>\n",
              "      <th>3</th>\n",
              "      <td>751</td>\n",
              "      <td>0</td>\n",
              "      <td>1</td>\n",
              "    </tr>\n",
              "    <tr>\n",
              "      <th>5</th>\n",
              "      <td>823</td>\n",
              "      <td>0</td>\n",
              "      <td>1</td>\n",
              "    </tr>\n",
              "    <tr>\n",
              "      <th>8</th>\n",
              "      <td>846</td>\n",
              "      <td>1</td>\n",
              "      <td>0</td>\n",
              "    </tr>\n",
              "  </tbody>\n",
              "</table>\n",
              "</div>"
            ],
            "text/plain": [
              "   duration  1_Female  1_Male\n",
              "0       718         1       0\n",
              "1       731         0       1\n",
              "3       751         0       1\n",
              "5       823         0       1\n",
              "8       846         1       0"
            ]
          },
          "metadata": {
            "tags": []
          },
          "execution_count": 27
        }
      ]
    },
    {
      "cell_type": "markdown",
      "metadata": {
        "id": "NaWtbjUccYsa",
        "colab_type": "text"
      },
      "source": [
        "* Q1 - Q10 : 나이"
      ]
    },
    {
      "cell_type": "code",
      "metadata": {
        "id": "EXJUMRT3xUdj",
        "colab_type": "code",
        "colab": {
          "base_uri": "https://localhost:8080/",
          "height": 52
        },
        "outputId": "3a8a767d-b636-479f-cc14-e6bbaa3b624d"
      },
      "source": [
        "multiple.Age.unique()"
      ],
      "execution_count": null,
      "outputs": [
        {
          "output_type": "execute_result",
          "data": {
            "text/plain": [
              "array(['30-34', '22-24', '40-44', '25-29', '55-59', '35-39', '18-21',\n",
              "       '45-49', '50-54', '60-69', '70-79', '80+'], dtype=object)"
            ]
          },
          "metadata": {
            "tags": []
          },
          "execution_count": 28
        }
      ]
    },
    {
      "cell_type": "code",
      "metadata": {
        "id": "oKylOKUWw7QV",
        "colab_type": "code",
        "colab": {}
      },
      "source": [
        "q2=pd.get_dummies(multiple.Age)\n",
        "q2.columns=list(map(lambda x: '2_'+x,q2.columns))\n",
        "ndata = pd.concat([ndata,q2],axis=1)"
      ],
      "execution_count": null,
      "outputs": []
    },
    {
      "cell_type": "markdown",
      "metadata": {
        "id": "NJO_cRVhc6Ui",
        "colab_type": "text"
      },
      "source": [
        "country - one hot encoding "
      ]
    },
    {
      "cell_type": "code",
      "metadata": {
        "id": "Q2QabtcPcy5z",
        "colab_type": "code",
        "colab": {
          "base_uri": "https://localhost:8080/",
          "height": 52
        },
        "outputId": "6e5b23e0-cc1f-4962-8b78-c1b2406ab921"
      },
      "source": [
        "multiple.country.unique()"
      ],
      "execution_count": null,
      "outputs": [
        {
          "output_type": "execute_result",
          "data": {
            "text/plain": [
              "array(['NorthAmerica', 'Asia', 'Europe', 'SouthAmerica', 'Africa',\n",
              "       'Oceania', nan], dtype=object)"
            ]
          },
          "metadata": {
            "tags": []
          },
          "execution_count": 30
        }
      ]
    },
    {
      "cell_type": "code",
      "metadata": {
        "id": "Vurq6uGecy2j",
        "colab_type": "code",
        "colab": {}
      },
      "source": [
        "q3=pd.get_dummies(multiple.country)"
      ],
      "execution_count": null,
      "outputs": []
    },
    {
      "cell_type": "code",
      "metadata": {
        "id": "Wdun-nhhcy1b",
        "colab_type": "code",
        "colab": {}
      },
      "source": [
        "q3.columns=list(map(lambda x: '3_'+x,q3.columns))\n",
        "ndata = pd.concat([ndata,q3],axis=1)"
      ],
      "execution_count": null,
      "outputs": []
    },
    {
      "cell_type": "code",
      "metadata": {
        "id": "Hc2ipYIicyyo",
        "colab_type": "code",
        "colab": {
          "base_uri": "https://localhost:8080/",
          "height": 515
        },
        "outputId": "e62dc36f-47fb-46a8-b3dd-5ae3b06a8948"
      },
      "source": [
        "ndata.info()"
      ],
      "execution_count": null,
      "outputs": [
        {
          "output_type": "stream",
          "text": [
            "<class 'pandas.core.frame.DataFrame'>\n",
            "Int64Index: 10200 entries, 0 to 14090\n",
            "Data columns (total 21 columns):\n",
            " #   Column          Non-Null Count  Dtype\n",
            "---  ------          --------------  -----\n",
            " 0   duration        10200 non-null  int64\n",
            " 1   1_Female        10200 non-null  uint8\n",
            " 2   1_Male          10200 non-null  uint8\n",
            " 3   2_18-21         10200 non-null  uint8\n",
            " 4   2_22-24         10200 non-null  uint8\n",
            " 5   2_25-29         10200 non-null  uint8\n",
            " 6   2_30-34         10200 non-null  uint8\n",
            " 7   2_35-39         10200 non-null  uint8\n",
            " 8   2_40-44         10200 non-null  uint8\n",
            " 9   2_45-49         10200 non-null  uint8\n",
            " 10  2_50-54         10200 non-null  uint8\n",
            " 11  2_55-59         10200 non-null  uint8\n",
            " 12  2_60-69         10200 non-null  uint8\n",
            " 13  2_70-79         10200 non-null  uint8\n",
            " 14  2_80+           10200 non-null  uint8\n",
            " 15  3_Africa        10200 non-null  uint8\n",
            " 16  3_Asia          10200 non-null  uint8\n",
            " 17  3_Europe        10200 non-null  uint8\n",
            " 18  3_NorthAmerica  10200 non-null  uint8\n",
            " 19  3_Oceania       10200 non-null  uint8\n",
            " 20  3_SouthAmerica  10200 non-null  uint8\n",
            "dtypes: int64(1), uint8(20)\n",
            "memory usage: 358.6 KB\n"
          ],
          "name": "stdout"
        }
      ]
    },
    {
      "cell_type": "markdown",
      "metadata": {
        "id": "bjKK4l_BdL63",
        "colab_type": "text"
      },
      "source": [
        "Degree - 교육수준 one hot encoding! "
      ]
    },
    {
      "cell_type": "code",
      "metadata": {
        "id": "d98drbv1cyxF",
        "colab_type": "code",
        "colab": {
          "base_uri": "https://localhost:8080/",
          "height": 88
        },
        "outputId": "45be5b16-9c3b-483c-b3fa-9ecc020ea5d2"
      },
      "source": [
        "multiple.degree.unique()"
      ],
      "execution_count": null,
      "outputs": [
        {
          "output_type": "execute_result",
          "data": {
            "text/plain": [
              "array(['Master’s degree', 'Bachelor’s degree',\n",
              "       'Some college/university study without earning a bachelor’s degree',\n",
              "       'Doctoral degree', 'Professional degree',\n",
              "       'No formal education past high school'], dtype=object)"
            ]
          },
          "metadata": {
            "tags": []
          },
          "execution_count": 34
        }
      ]
    },
    {
      "cell_type": "code",
      "metadata": {
        "id": "AKPxqzq1cyun",
        "colab_type": "code",
        "colab": {}
      },
      "source": [
        "q4 = pd.get_dummies(multiple.degree)\n",
        "q4.columns=list(map(lambda x: '4_'+x,q4.columns))\n",
        "ndata = pd.concat([ndata,q4],axis=1)"
      ],
      "execution_count": null,
      "outputs": []
    },
    {
      "cell_type": "markdown",
      "metadata": {
        "id": "S9p5tdTR_XUg",
        "colab_type": "text"
      },
      "source": [
        "* Role 추가 "
      ]
    },
    {
      "cell_type": "code",
      "metadata": {
        "id": "jLyWCDqu_Yl5",
        "colab_type": "code",
        "colab": {}
      },
      "source": [
        "ndata = pd.concat([ndata, roledummy], axis=1)"
      ],
      "execution_count": null,
      "outputs": []
    },
    {
      "cell_type": "markdown",
      "metadata": {
        "id": "z55blLHRdiCx",
        "colab_type": "text"
      },
      "source": [
        "Major in undergraduated : "
      ]
    },
    {
      "cell_type": "code",
      "metadata": {
        "id": "LV_ow0GMcytJ",
        "colab_type": "code",
        "colab": {
          "base_uri": "https://localhost:8080/",
          "height": 212
        },
        "outputId": "18cbc305-69e5-472e-f913-8caa048ecbc0"
      },
      "source": [
        "multiple.undergraduate_major.unique()"
      ],
      "execution_count": null,
      "outputs": [
        {
          "output_type": "execute_result",
          "data": {
            "text/plain": [
              "array(['Computer science (software engineering, etc.)',\n",
              "       'Mathematics or statistics', 'Engineering (non-computer focused)',\n",
              "       'A business discipline (accounting, economics, finance, etc.)',\n",
              "       'Environmental science or geology', 'I never declared a major',\n",
              "       'Other',\n",
              "       'Medical or life sciences (biology, chemistry, medicine, etc.)',\n",
              "       'Physics or astronomy',\n",
              "       'Information technology, networking, or system administration',\n",
              "       'Social sciences (anthropology, psychology, sociology, etc.)',\n",
              "       'Humanities (history, literature, philosophy, etc.)', nan,\n",
              "       'Fine arts or performing arts'], dtype=object)"
            ]
          },
          "metadata": {
            "tags": []
          },
          "execution_count": 37
        }
      ]
    },
    {
      "cell_type": "code",
      "metadata": {
        "id": "ZZe1B8-ScyrW",
        "colab_type": "code",
        "colab": {}
      },
      "source": [
        "q5 = pd.get_dummies(multiple.undergraduate_major)\n",
        "q5.columns=list(map(lambda x: '5_'+x,q5.columns))\n",
        "ndata = pd.concat([ndata,q5],axis=1)"
      ],
      "execution_count": null,
      "outputs": []
    },
    {
      "cell_type": "markdown",
      "metadata": {
        "id": "Cq_Wychndwcw",
        "colab_type": "text"
      },
      "source": [
        "* Industry : 산업군! "
      ]
    },
    {
      "cell_type": "code",
      "metadata": {
        "id": "YrvA1uQocypd",
        "colab_type": "code",
        "colab": {}
      },
      "source": [
        "q7 = pd.get_dummies(multiple.industry)\n",
        "q7.columns=list(map(lambda x: '7_'+x,q7.columns))\n",
        "ndata = pd.concat([ndata,q7],axis=1)"
      ],
      "execution_count": null,
      "outputs": []
    },
    {
      "cell_type": "markdown",
      "metadata": {
        "id": "RKFuZ2l8ePZK",
        "colab_type": "text"
      },
      "source": [
        "* Salary - Target variable! "
      ]
    },
    {
      "cell_type": "code",
      "metadata": {
        "id": "SjePHDYJcyno",
        "colab_type": "code",
        "colab": {}
      },
      "source": [
        ""
      ],
      "execution_count": null,
      "outputs": []
    },
    {
      "cell_type": "markdown",
      "metadata": {
        "id": "8e8wO3W7qZCu",
        "colab_type": "text"
      },
      "source": [
        "* experience "
      ]
    },
    {
      "cell_type": "code",
      "metadata": {
        "id": "A6TD5kwrqYk7",
        "colab_type": "code",
        "colab": {}
      },
      "source": [
        "q8 = pd.get_dummies(multiple.Experience)\n",
        "q8.columns=list(map(lambda x: '8_'+x,q8.columns))\n",
        "ndata = pd.concat([ndata,q8],axis=1)"
      ],
      "execution_count": null,
      "outputs": []
    },
    {
      "cell_type": "markdown",
      "metadata": {
        "id": "jdJbNiwGekn4",
        "colab_type": "text"
      },
      "source": [
        "* Q10 - ML 회사 사용? "
      ]
    },
    {
      "cell_type": "code",
      "metadata": {
        "id": "AnO_jQGYet7f",
        "colab_type": "code",
        "colab": {
          "base_uri": "https://localhost:8080/",
          "height": 88
        },
        "outputId": "47667348-5d14-4ba5-94a7-5b49b07a0630"
      },
      "source": [
        "multiple.columns[1:15]"
      ],
      "execution_count": null,
      "outputs": [
        {
          "output_type": "execute_result",
          "data": {
            "text/plain": [
              "Index(['gender', 'Age', 'country', 'degree', 'undergraduate_major', 'Role',\n",
              "       'industry', 'Experience', 'value', 'Q10', 'Q11_Part_1', 'Q11_Part_2',\n",
              "       'Q11_Part_3', 'Q11_Part_4'],\n",
              "      dtype='object')"
            ]
          },
          "metadata": {
            "tags": []
          },
          "execution_count": 41
        }
      ]
    },
    {
      "cell_type": "code",
      "metadata": {
        "id": "fhkHHjhtcykV",
        "colab_type": "code",
        "colab": {
          "base_uri": "https://localhost:8080/",
          "height": 35
        },
        "outputId": "732d59d1-f2e6-4d63-d016-6cbc541b41a9"
      },
      "source": [
        "ndata.shape"
      ],
      "execution_count": null,
      "outputs": [
        {
          "output_type": "execute_result",
          "data": {
            "text/plain": [
              "(10200, 77)"
            ]
          },
          "metadata": {
            "tags": []
          },
          "execution_count": 42
        }
      ]
    },
    {
      "cell_type": "code",
      "metadata": {
        "id": "UqYtDd8GoR-u",
        "colab_type": "code",
        "colab": {}
      },
      "source": [
        "# to dummies : \n",
        "q10 = pd.get_dummies(multiple.Q10)\n",
        "q10.columns=list(map(lambda x: '10_'+x,q10.columns))\n",
        "ndata = pd.concat([ndata,q10],axis=1)"
      ],
      "execution_count": null,
      "outputs": []
    },
    {
      "cell_type": "code",
      "metadata": {
        "id": "tz6UnxjvxrKo",
        "colab_type": "code",
        "colab": {
          "base_uri": "https://localhost:8080/",
          "height": 35
        },
        "outputId": "84cc5de6-8447-491a-ce40-be1c6d142026"
      },
      "source": [
        "ndata.shape"
      ],
      "execution_count": null,
      "outputs": [
        {
          "output_type": "execute_result",
          "data": {
            "text/plain": [
              "(10200, 83)"
            ]
          },
          "metadata": {
            "tags": []
          },
          "execution_count": 44
        }
      ]
    },
    {
      "cell_type": "markdown",
      "metadata": {
        "id": "A9f8zgrCf3Xy",
        "colab_type": "text"
      },
      "source": [
        "* Q11"
      ]
    },
    {
      "cell_type": "code",
      "metadata": {
        "id": "R9PhLs_Bcyir",
        "colab_type": "code",
        "colab": {}
      },
      "source": [
        "def to_onehot(i):\n",
        "    num = 'Q'+str(i)\n",
        "    q = multiple[[t for t in multiple.columns if num in t]]\n",
        "    q = q.drop([t for t in q.columns if 'OTHER_TEXT' in t],axis=1)  \n",
        "    q=q.fillna(0)\n",
        "    q_r = []\n",
        "    for col in q.columns:\n",
        "        if q[col].unique()[0]!=0:\n",
        "            s = q[col].unique()[0]\n",
        "            q_r.append(s)\n",
        "        else:\n",
        "            s = q[col].unique()[1]\n",
        "            q_r.append(s)\n",
        "        q[col]=q[col].replace(s,1)\n",
        "    q.columns=q_r\n",
        "    return q"
      ],
      "execution_count": null,
      "outputs": []
    },
    {
      "cell_type": "code",
      "metadata": {
        "id": "iAHEcI7mcygy",
        "colab_type": "code",
        "colab": {
          "base_uri": "https://localhost:8080/",
          "height": 124
        },
        "outputId": "30aefbd4-778e-4176-863c-3f068b13ab90"
      },
      "source": [
        "q11=to_onehot(11)\n",
        "q11=q11.idxmax(axis=1)\n",
        "q11.head()"
      ],
      "execution_count": null,
      "outputs": [
        {
          "output_type": "execute_result",
          "data": {
            "text/plain": [
              "0    Analyze and understand data to influence produ...\n",
              "1                                                Other\n",
              "3    Build and/or run a machine learning service th...\n",
              "5    Build and/or run a machine learning service th...\n",
              "8    Analyze and understand data to influence produ...\n",
              "dtype: object"
            ]
          },
          "metadata": {
            "tags": []
          },
          "execution_count": 46
        }
      ]
    },
    {
      "cell_type": "code",
      "metadata": {
        "id": "fSP0DMB9cyex",
        "colab_type": "code",
        "colab": {}
      },
      "source": [
        "q11=to_onehot(11)\n",
        "q11.columns = ['11_'+str(col) for col in q11.columns]"
      ],
      "execution_count": null,
      "outputs": []
    },
    {
      "cell_type": "code",
      "metadata": {
        "id": "Sc5WS869hQkb",
        "colab_type": "code",
        "colab": {}
      },
      "source": [
        "#Add None of these & Others - to others\n",
        "q11.iloc[:,-1]=q11.iloc[:,-2]+q11.iloc[:,-1]\n",
        "q11=q11.drop(q11.columns[-2],axis=1)"
      ],
      "execution_count": null,
      "outputs": []
    },
    {
      "cell_type": "code",
      "metadata": {
        "id": "E8hB4ZSAhTks",
        "colab_type": "code",
        "colab": {}
      },
      "source": [
        "ndata=pd.concat([ndata,q11],axis=1)"
      ],
      "execution_count": null,
      "outputs": []
    },
    {
      "cell_type": "markdown",
      "metadata": {
        "id": "1QAbc_CzhepZ",
        "colab_type": "text"
      },
      "source": [
        "## 원래부터 One-Hot Encoding 된 것들 : Nan -> 0로 바꾸기. "
      ]
    },
    {
      "cell_type": "markdown",
      "metadata": {
        "id": "TT4XTCKahKm_",
        "colab_type": "text"
      },
      "source": [
        "* Q12"
      ]
    },
    {
      "cell_type": "code",
      "metadata": {
        "id": "PIuK3ru-cydI",
        "colab_type": "code",
        "colab": {
          "base_uri": "https://localhost:8080/",
          "height": 194
        },
        "outputId": "3fa6e54f-8274-480e-9713-f49c8c182902"
      },
      "source": [
        "q12=multiple[[t for t in multiple.columns if 'Q12' in t]]\n",
        "q12=q12.iloc[:,1:]\n",
        "q12=q12.astype(int) \n",
        "q12[q12!=-1]=1\n",
        "q12[q12==-1]=0\n",
        "q12.head()"
      ],
      "execution_count": null,
      "outputs": [
        {
          "output_type": "execute_result",
          "data": {
            "text/html": [
              "<div>\n",
              "<style scoped>\n",
              "    .dataframe tbody tr th:only-of-type {\n",
              "        vertical-align: middle;\n",
              "    }\n",
              "\n",
              "    .dataframe tbody tr th {\n",
              "        vertical-align: top;\n",
              "    }\n",
              "\n",
              "    .dataframe thead th {\n",
              "        text-align: right;\n",
              "    }\n",
              "</style>\n",
              "<table border=\"1\" class=\"dataframe\">\n",
              "  <thead>\n",
              "    <tr style=\"text-align: right;\">\n",
              "      <th></th>\n",
              "      <th>Q12_Part_2_TEXT</th>\n",
              "      <th>Q12_Part_3_TEXT</th>\n",
              "      <th>Q12_Part_4_TEXT</th>\n",
              "      <th>Q12_Part_5_TEXT</th>\n",
              "    </tr>\n",
              "  </thead>\n",
              "  <tbody>\n",
              "    <tr>\n",
              "      <th>0</th>\n",
              "      <td>0</td>\n",
              "      <td>0</td>\n",
              "      <td>1</td>\n",
              "      <td>0</td>\n",
              "    </tr>\n",
              "    <tr>\n",
              "      <th>1</th>\n",
              "      <td>1</td>\n",
              "      <td>0</td>\n",
              "      <td>0</td>\n",
              "      <td>0</td>\n",
              "    </tr>\n",
              "    <tr>\n",
              "      <th>3</th>\n",
              "      <td>0</td>\n",
              "      <td>0</td>\n",
              "      <td>1</td>\n",
              "      <td>0</td>\n",
              "    </tr>\n",
              "    <tr>\n",
              "      <th>5</th>\n",
              "      <td>0</td>\n",
              "      <td>1</td>\n",
              "      <td>0</td>\n",
              "      <td>0</td>\n",
              "    </tr>\n",
              "    <tr>\n",
              "      <th>8</th>\n",
              "      <td>0</td>\n",
              "      <td>0</td>\n",
              "      <td>0</td>\n",
              "      <td>0</td>\n",
              "    </tr>\n",
              "  </tbody>\n",
              "</table>\n",
              "</div>"
            ],
            "text/plain": [
              "   Q12_Part_2_TEXT  Q12_Part_3_TEXT  Q12_Part_4_TEXT  Q12_Part_5_TEXT\n",
              "0                0                0                1                0\n",
              "1                1                0                0                0\n",
              "3                0                0                1                0\n",
              "5                0                1                0                0\n",
              "8                0                0                0                0"
            ]
          },
          "metadata": {
            "tags": []
          },
          "execution_count": 50
        }
      ]
    },
    {
      "cell_type": "code",
      "metadata": {
        "id": "gKBacqEccybG",
        "colab_type": "code",
        "colab": {}
      },
      "source": [
        "q12.columns=['12_'+ str(col) for col in q12.columns]\n",
        "ndata=pd.concat([ndata,q12],axis=1)"
      ],
      "execution_count": null,
      "outputs": []
    },
    {
      "cell_type": "markdown",
      "metadata": {
        "id": "rZpXMawyjbuF",
        "colab_type": "text"
      },
      "source": [
        "* Q13"
      ]
    },
    {
      "cell_type": "code",
      "metadata": {
        "id": "wp0-fOMScyZp",
        "colab_type": "code",
        "colab": {}
      },
      "source": [
        "def preprocess_multiple(data,i):\n",
        "    s='Q'+str(i)\n",
        "    if s+'_OTHER_TEXT' in data.columns:\n",
        "        data=data.drop([s+'_OTHER_TEXT'],axis=1)\n",
        "    df=to_onehot(i)\n",
        "    df.columns=[str(i)+'_'+str(col) for col in df.columns]\n",
        "    return df"
      ],
      "execution_count": null,
      "outputs": []
    },
    {
      "cell_type": "code",
      "metadata": {
        "id": "OZ1hVIQhmiOp",
        "colab_type": "code",
        "colab": {}
      },
      "source": [
        "q13=preprocess_multiple(multiple, 13)\n",
        "ndata=pd.concat([ndata,q13],axis=1)"
      ],
      "execution_count": null,
      "outputs": []
    },
    {
      "cell_type": "code",
      "metadata": {
        "id": "txZiyiOvngWS",
        "colab_type": "code",
        "colab": {
          "base_uri": "https://localhost:8080/",
          "height": 248
        },
        "outputId": "cc6763e5-f9dd-4c08-a28f-5c600ef27ebf"
      },
      "source": [
        "q13.head()"
      ],
      "execution_count": null,
      "outputs": [
        {
          "output_type": "execute_result",
          "data": {
            "text/html": [
              "<div>\n",
              "<style scoped>\n",
              "    .dataframe tbody tr th:only-of-type {\n",
              "        vertical-align: middle;\n",
              "    }\n",
              "\n",
              "    .dataframe tbody tr th {\n",
              "        vertical-align: top;\n",
              "    }\n",
              "\n",
              "    .dataframe thead th {\n",
              "        text-align: right;\n",
              "    }\n",
              "</style>\n",
              "<table border=\"1\" class=\"dataframe\">\n",
              "  <thead>\n",
              "    <tr style=\"text-align: right;\">\n",
              "      <th></th>\n",
              "      <th>13_Jupyter/IPython</th>\n",
              "      <th>13_RStudio</th>\n",
              "      <th>13_PyCharm</th>\n",
              "      <th>13_Visual Studio Code</th>\n",
              "      <th>13_nteract</th>\n",
              "      <th>13_Atom</th>\n",
              "      <th>13_MATLAB</th>\n",
              "      <th>13_Visual Studio</th>\n",
              "      <th>13_Notepad++</th>\n",
              "      <th>13_Sublime Text</th>\n",
              "      <th>13_Vim</th>\n",
              "      <th>13_IntelliJ</th>\n",
              "      <th>13_Spyder</th>\n",
              "      <th>13_None</th>\n",
              "      <th>13_Other</th>\n",
              "    </tr>\n",
              "  </thead>\n",
              "  <tbody>\n",
              "    <tr>\n",
              "      <th>0</th>\n",
              "      <td>0</td>\n",
              "      <td>0</td>\n",
              "      <td>0</td>\n",
              "      <td>0</td>\n",
              "      <td>0</td>\n",
              "      <td>0</td>\n",
              "      <td>1</td>\n",
              "      <td>0</td>\n",
              "      <td>0</td>\n",
              "      <td>0</td>\n",
              "      <td>0</td>\n",
              "      <td>0</td>\n",
              "      <td>0</td>\n",
              "      <td>0</td>\n",
              "      <td>0</td>\n",
              "    </tr>\n",
              "    <tr>\n",
              "      <th>1</th>\n",
              "      <td>0</td>\n",
              "      <td>1</td>\n",
              "      <td>0</td>\n",
              "      <td>0</td>\n",
              "      <td>0</td>\n",
              "      <td>0</td>\n",
              "      <td>0</td>\n",
              "      <td>0</td>\n",
              "      <td>0</td>\n",
              "      <td>0</td>\n",
              "      <td>0</td>\n",
              "      <td>0</td>\n",
              "      <td>0</td>\n",
              "      <td>0</td>\n",
              "      <td>0</td>\n",
              "    </tr>\n",
              "    <tr>\n",
              "      <th>3</th>\n",
              "      <td>1</td>\n",
              "      <td>0</td>\n",
              "      <td>1</td>\n",
              "      <td>1</td>\n",
              "      <td>0</td>\n",
              "      <td>0</td>\n",
              "      <td>0</td>\n",
              "      <td>1</td>\n",
              "      <td>0</td>\n",
              "      <td>1</td>\n",
              "      <td>0</td>\n",
              "      <td>1</td>\n",
              "      <td>0</td>\n",
              "      <td>0</td>\n",
              "      <td>0</td>\n",
              "    </tr>\n",
              "    <tr>\n",
              "      <th>5</th>\n",
              "      <td>0</td>\n",
              "      <td>0</td>\n",
              "      <td>0</td>\n",
              "      <td>0</td>\n",
              "      <td>0</td>\n",
              "      <td>0</td>\n",
              "      <td>1</td>\n",
              "      <td>1</td>\n",
              "      <td>1</td>\n",
              "      <td>0</td>\n",
              "      <td>0</td>\n",
              "      <td>0</td>\n",
              "      <td>0</td>\n",
              "      <td>0</td>\n",
              "      <td>0</td>\n",
              "    </tr>\n",
              "    <tr>\n",
              "      <th>8</th>\n",
              "      <td>1</td>\n",
              "      <td>1</td>\n",
              "      <td>0</td>\n",
              "      <td>0</td>\n",
              "      <td>0</td>\n",
              "      <td>0</td>\n",
              "      <td>0</td>\n",
              "      <td>0</td>\n",
              "      <td>1</td>\n",
              "      <td>0</td>\n",
              "      <td>0</td>\n",
              "      <td>0</td>\n",
              "      <td>0</td>\n",
              "      <td>0</td>\n",
              "      <td>0</td>\n",
              "    </tr>\n",
              "  </tbody>\n",
              "</table>\n",
              "</div>"
            ],
            "text/plain": [
              "   13_Jupyter/IPython  13_RStudio  13_PyCharm  ...  13_Spyder  13_None  13_Other\n",
              "0                   0           0           0  ...          0        0         0\n",
              "1                   0           1           0  ...          0        0         0\n",
              "3                   1           0           1  ...          0        0         0\n",
              "5                   0           0           0  ...          0        0         0\n",
              "8                   1           1           0  ...          0        0         0\n",
              "\n",
              "[5 rows x 15 columns]"
            ]
          },
          "metadata": {
            "tags": []
          },
          "execution_count": 54
        }
      ]
    },
    {
      "cell_type": "code",
      "metadata": {
        "id": "kvpy8vnynObR",
        "colab_type": "code",
        "colab": {
          "base_uri": "https://localhost:8080/",
          "height": 35
        },
        "outputId": "775c2616-4d05-4966-ad7a-3d0f0298d11f"
      },
      "source": [
        "ndata.shape"
      ],
      "execution_count": null,
      "outputs": [
        {
          "output_type": "execute_result",
          "data": {
            "text/plain": [
              "(10200, 108)"
            ]
          },
          "metadata": {
            "tags": []
          },
          "execution_count": 55
        }
      ]
    },
    {
      "cell_type": "code",
      "metadata": {
        "id": "h7HfBfQdcyXq",
        "colab_type": "code",
        "colab": {
          "base_uri": "https://localhost:8080/",
          "height": 218
        },
        "outputId": "61e0bf19-6ee8-4ef3-8775-c3ed5e58c8ab"
      },
      "source": [
        "ndata.iloc[1:5, 60:74]"
      ],
      "execution_count": null,
      "outputs": [
        {
          "output_type": "execute_result",
          "data": {
            "text/html": [
              "<div>\n",
              "<style scoped>\n",
              "    .dataframe tbody tr th:only-of-type {\n",
              "        vertical-align: middle;\n",
              "    }\n",
              "\n",
              "    .dataframe tbody tr th {\n",
              "        vertical-align: top;\n",
              "    }\n",
              "\n",
              "    .dataframe thead th {\n",
              "        text-align: right;\n",
              "    }\n",
              "</style>\n",
              "<table border=\"1\" class=\"dataframe\">\n",
              "  <thead>\n",
              "    <tr style=\"text-align: right;\">\n",
              "      <th></th>\n",
              "      <th>7_Online Business/Internet-based Sales</th>\n",
              "      <th>7_Online Service/Internet-based Services</th>\n",
              "      <th>7_Other</th>\n",
              "      <th>7_Retail/Sales</th>\n",
              "      <th>7_Shipping/Transportation</th>\n",
              "      <th>7_Student</th>\n",
              "      <th>8_0-1</th>\n",
              "      <th>8_1-2</th>\n",
              "      <th>8_10-15</th>\n",
              "      <th>8_15-20</th>\n",
              "      <th>8_2-3</th>\n",
              "      <th>8_20-25</th>\n",
              "      <th>8_25-30</th>\n",
              "      <th>8_3-4</th>\n",
              "    </tr>\n",
              "  </thead>\n",
              "  <tbody>\n",
              "    <tr>\n",
              "      <th>1</th>\n",
              "      <td>0</td>\n",
              "      <td>0</td>\n",
              "      <td>0</td>\n",
              "      <td>0</td>\n",
              "      <td>0</td>\n",
              "      <td>1</td>\n",
              "      <td>1</td>\n",
              "      <td>0</td>\n",
              "      <td>0</td>\n",
              "      <td>0</td>\n",
              "      <td>0</td>\n",
              "      <td>0</td>\n",
              "      <td>0</td>\n",
              "      <td>0</td>\n",
              "    </tr>\n",
              "    <tr>\n",
              "      <th>3</th>\n",
              "      <td>0</td>\n",
              "      <td>1</td>\n",
              "      <td>0</td>\n",
              "      <td>0</td>\n",
              "      <td>0</td>\n",
              "      <td>0</td>\n",
              "      <td>0</td>\n",
              "      <td>0</td>\n",
              "      <td>0</td>\n",
              "      <td>0</td>\n",
              "      <td>0</td>\n",
              "      <td>0</td>\n",
              "      <td>0</td>\n",
              "      <td>1</td>\n",
              "    </tr>\n",
              "    <tr>\n",
              "      <th>5</th>\n",
              "      <td>0</td>\n",
              "      <td>0</td>\n",
              "      <td>1</td>\n",
              "      <td>0</td>\n",
              "      <td>0</td>\n",
              "      <td>0</td>\n",
              "      <td>0</td>\n",
              "      <td>0</td>\n",
              "      <td>0</td>\n",
              "      <td>0</td>\n",
              "      <td>0</td>\n",
              "      <td>0</td>\n",
              "      <td>0</td>\n",
              "      <td>0</td>\n",
              "    </tr>\n",
              "    <tr>\n",
              "      <th>8</th>\n",
              "      <td>0</td>\n",
              "      <td>0</td>\n",
              "      <td>1</td>\n",
              "      <td>0</td>\n",
              "      <td>0</td>\n",
              "      <td>0</td>\n",
              "      <td>0</td>\n",
              "      <td>1</td>\n",
              "      <td>0</td>\n",
              "      <td>0</td>\n",
              "      <td>0</td>\n",
              "      <td>0</td>\n",
              "      <td>0</td>\n",
              "      <td>0</td>\n",
              "    </tr>\n",
              "  </tbody>\n",
              "</table>\n",
              "</div>"
            ],
            "text/plain": [
              "   7_Online Business/Internet-based Sales  ...  8_3-4\n",
              "1                                       0  ...      0\n",
              "3                                       0  ...      1\n",
              "5                                       0  ...      0\n",
              "8                                       0  ...      0\n",
              "\n",
              "[4 rows x 14 columns]"
            ]
          },
          "metadata": {
            "tags": []
          },
          "execution_count": 56
        }
      ]
    },
    {
      "cell_type": "markdown",
      "metadata": {
        "id": "cH2-zCVtoRA2",
        "colab_type": "text"
      },
      "source": [
        "* Q14"
      ]
    },
    {
      "cell_type": "code",
      "metadata": {
        "id": "1DFyYYPYcyVd",
        "colab_type": "code",
        "colab": {}
      },
      "source": [
        "q14=preprocess_multiple(multiple, 14)\n",
        "ndata=pd.concat([ndata,q14],axis=1)"
      ],
      "execution_count": null,
      "outputs": []
    },
    {
      "cell_type": "markdown",
      "metadata": {
        "id": "xuIes_uSoZRZ",
        "colab_type": "text"
      },
      "source": [
        "* Q15 - Q16"
      ]
    },
    {
      "cell_type": "code",
      "metadata": {
        "id": "EuhdqEGXcyTf",
        "colab_type": "code",
        "colab": {}
      },
      "source": [
        "q15=preprocess_multiple(multiple, 15)\n",
        "ndata=pd.concat([ndata,q15],axis=1)"
      ],
      "execution_count": null,
      "outputs": []
    },
    {
      "cell_type": "code",
      "metadata": {
        "id": "97oSnJ0ScyRq",
        "colab_type": "code",
        "colab": {}
      },
      "source": [
        "q16=preprocess_multiple(multiple, 16)\n",
        "ndata=pd.concat([ndata,q16],axis=1)"
      ],
      "execution_count": null,
      "outputs": []
    },
    {
      "cell_type": "code",
      "metadata": {
        "id": "JFJKvFzQcyCQ",
        "colab_type": "code",
        "colab": {}
      },
      "source": [
        "preprocess_needed = [19, 21]"
      ],
      "execution_count": null,
      "outputs": []
    },
    {
      "cell_type": "code",
      "metadata": {
        "id": "TQNn9rh2rUas",
        "colab_type": "code",
        "colab": {}
      },
      "source": [
        "ndata2 = ndata.copy()"
      ],
      "execution_count": null,
      "outputs": []
    },
    {
      "cell_type": "code",
      "metadata": {
        "id": "TZWhXxTyrDmW",
        "colab_type": "code",
        "colab": {}
      },
      "source": [
        "for i in preprocess_needed : \n",
        "  q = preprocess_multiple(multiple, i)\n",
        "  ndata2 = pd.concat([ndata2, q], axis = 1)"
      ],
      "execution_count": null,
      "outputs": []
    },
    {
      "cell_type": "markdown",
      "metadata": {
        "id": "s7NB4cKXr8CE",
        "colab_type": "text"
      },
      "source": [
        "* Q 23-Q26 : get_dummies"
      ]
    },
    {
      "cell_type": "code",
      "metadata": {
        "id": "5HakugNzr7ml",
        "colab_type": "code",
        "colab": {}
      },
      "source": [
        "q23=pd.get_dummies(multiple.Q23)\n",
        "q23.columns=['23_'+str(col) for col in q23.columns]\n",
        "ndata2=pd.concat([ndata2,q23],axis=1)"
      ],
      "execution_count": null,
      "outputs": []
    },
    {
      "cell_type": "code",
      "metadata": {
        "id": "mTbjo9O0sHCK",
        "colab_type": "code",
        "colab": {}
      },
      "source": [
        "lst=['I have never written code and I do not want to learn','I have never written code but I want to learn','< 1 year','1-2 years','3-5 years',   '5-10 years',\n",
        "       '10-20 years', '20-30 years','30-40 years','40+ years']"
      ],
      "execution_count": null,
      "outputs": []
    },
    {
      "cell_type": "code",
      "metadata": {
        "id": "-4wqnrkXslAb",
        "colab_type": "code",
        "colab": {}
      },
      "source": [
        "q24=pd.get_dummies(multiple.Q24)\n",
        "q24.columns=['24_'+str(col) for col in q24.columns]\n",
        "q24=q24.reindex(columns=list(map(lambda x: '24_'+x,lst)))\n",
        "ndata2=pd.concat([ndata2,q24],axis=1)"
      ],
      "execution_count": null,
      "outputs": []
    },
    {
      "cell_type": "markdown",
      "metadata": {
        "id": "swSGPYBJt5w0",
        "colab_type": "text"
      },
      "source": [
        "* Q25"
      ]
    },
    {
      "cell_type": "code",
      "metadata": {
        "id": "cA3PZSY7sk8_",
        "colab_type": "code",
        "colab": {
          "base_uri": "https://localhost:8080/",
          "height": 88
        },
        "outputId": "f9267bc6-1436-4131-bc78-00d3de4b5554"
      },
      "source": [
        "multiple.Q25.unique()"
      ],
      "execution_count": null,
      "outputs": [
        {
          "output_type": "execute_result",
          "data": {
            "text/plain": [
              "array(['< 1 year', '2-3 years', '5-10 years', '1-2 years', '3-4 years',\n",
              "       'I have never studied machine learning but plan to learn in the future',\n",
              "       'I have never studied machine learning and I do not plan to',\n",
              "       '4-5 years', '10-15 years', '20+ years'], dtype=object)"
            ]
          },
          "metadata": {
            "tags": []
          },
          "execution_count": 66
        }
      ]
    },
    {
      "cell_type": "code",
      "metadata": {
        "id": "gDCQTsnTsk7n",
        "colab_type": "code",
        "colab": {}
      },
      "source": [
        "q25=pd.get_dummies(multiple.Q25)\n",
        "q25.columns=['25_'+str(col) for col in q25.columns]\n",
        "ndata2=pd.concat([ndata2,q25],axis=1)"
      ],
      "execution_count": null,
      "outputs": []
    },
    {
      "cell_type": "markdown",
      "metadata": {
        "id": "JpuECvMJuMTK",
        "colab_type": "text"
      },
      "source": [
        "* Q26 : confindence"
      ]
    },
    {
      "cell_type": "code",
      "metadata": {
        "id": "K_WEZrLvsk5R",
        "colab_type": "code",
        "colab": {
          "base_uri": "https://localhost:8080/",
          "height": 35
        },
        "outputId": "af987a1c-617d-4039-cd37-f891cf86033b"
      },
      "source": [
        "tmp = multiple.confidence.copy()\n",
        "len(tmp[tmp.isna()])"
      ],
      "execution_count": null,
      "outputs": [
        {
          "output_type": "execute_result",
          "data": {
            "text/plain": [
              "0"
            ]
          },
          "metadata": {
            "tags": []
          },
          "execution_count": 68
        }
      ]
    },
    {
      "cell_type": "code",
      "metadata": {
        "id": "NPaPI_aEsk3k",
        "colab_type": "code",
        "colab": {}
      },
      "source": [
        "q26=pd.get_dummies(multiple.confidence)\n",
        "q26.columns=['26_'+str(col) for col in q26.columns]\n",
        "ndata2=pd.concat([ndata2,q26],axis=1)"
      ],
      "execution_count": null,
      "outputs": []
    },
    {
      "cell_type": "code",
      "metadata": {
        "id": "lcl1Y_566QRR",
        "colab_type": "code",
        "colab": {
          "base_uri": "https://localhost:8080/",
          "height": 395
        },
        "outputId": "04e179b5-5402-47cf-8df6-fd1059c86838"
      },
      "source": [
        "ndata2.head()"
      ],
      "execution_count": null,
      "outputs": [
        {
          "output_type": "execute_result",
          "data": {
            "text/html": [
              "<div>\n",
              "<style scoped>\n",
              "    .dataframe tbody tr th:only-of-type {\n",
              "        vertical-align: middle;\n",
              "    }\n",
              "\n",
              "    .dataframe tbody tr th {\n",
              "        vertical-align: top;\n",
              "    }\n",
              "\n",
              "    .dataframe thead th {\n",
              "        text-align: right;\n",
              "    }\n",
              "</style>\n",
              "<table border=\"1\" class=\"dataframe\">\n",
              "  <thead>\n",
              "    <tr style=\"text-align: right;\">\n",
              "      <th></th>\n",
              "      <th>duration</th>\n",
              "      <th>1_Female</th>\n",
              "      <th>1_Male</th>\n",
              "      <th>2_18-21</th>\n",
              "      <th>2_22-24</th>\n",
              "      <th>2_25-29</th>\n",
              "      <th>2_30-34</th>\n",
              "      <th>2_35-39</th>\n",
              "      <th>2_40-44</th>\n",
              "      <th>2_45-49</th>\n",
              "      <th>2_50-54</th>\n",
              "      <th>2_55-59</th>\n",
              "      <th>2_60-69</th>\n",
              "      <th>2_70-79</th>\n",
              "      <th>2_80+</th>\n",
              "      <th>3_Africa</th>\n",
              "      <th>3_Asia</th>\n",
              "      <th>3_Europe</th>\n",
              "      <th>3_NorthAmerica</th>\n",
              "      <th>3_Oceania</th>\n",
              "      <th>3_SouthAmerica</th>\n",
              "      <th>4_Bachelor’s degree</th>\n",
              "      <th>4_Doctoral degree</th>\n",
              "      <th>4_Master’s degree</th>\n",
              "      <th>4_No formal education past high school</th>\n",
              "      <th>4_Professional degree</th>\n",
              "      <th>4_Some college/university study without earning a bachelor’s degree</th>\n",
              "      <th>Business Analyst</th>\n",
              "      <th>Data Analyst</th>\n",
              "      <th>Data Engineer/DBA</th>\n",
              "      <th>Data Scientist</th>\n",
              "      <th>Software Engineer</th>\n",
              "      <th>Statistician/Research Scientist</th>\n",
              "      <th>Student</th>\n",
              "      <th>5_A business discipline (accounting, economics, finance, etc.)</th>\n",
              "      <th>5_Computer science (software engineering, etc.)</th>\n",
              "      <th>5_Engineering (non-computer focused)</th>\n",
              "      <th>5_Environmental science or geology</th>\n",
              "      <th>5_Fine arts or performing arts</th>\n",
              "      <th>5_Humanities (history, literature, philosophy, etc.)</th>\n",
              "      <th>...</th>\n",
              "      <th>21_D3</th>\n",
              "      <th>21_Plotly</th>\n",
              "      <th>21_Bokeh</th>\n",
              "      <th>21_Seaborn</th>\n",
              "      <th>21_Geoplotlib</th>\n",
              "      <th>21_Leaflet</th>\n",
              "      <th>21_Lattice</th>\n",
              "      <th>21_None</th>\n",
              "      <th>21_Other</th>\n",
              "      <th>23_0% of my time</th>\n",
              "      <th>23_1% to 25% of my time</th>\n",
              "      <th>23_100% of my time</th>\n",
              "      <th>23_25% to 49% of my time</th>\n",
              "      <th>23_50% to 74% of my time</th>\n",
              "      <th>23_75% to 99% of my time</th>\n",
              "      <th>24_I have never written code and I do not want to learn</th>\n",
              "      <th>24_I have never written code but I want to learn</th>\n",
              "      <th>24_&lt; 1 year</th>\n",
              "      <th>24_1-2 years</th>\n",
              "      <th>24_3-5 years</th>\n",
              "      <th>24_5-10 years</th>\n",
              "      <th>24_10-20 years</th>\n",
              "      <th>24_20-30 years</th>\n",
              "      <th>24_30-40 years</th>\n",
              "      <th>24_40+ years</th>\n",
              "      <th>25_1-2 years</th>\n",
              "      <th>25_10-15 years</th>\n",
              "      <th>25_2-3 years</th>\n",
              "      <th>25_20+ years</th>\n",
              "      <th>25_3-4 years</th>\n",
              "      <th>25_4-5 years</th>\n",
              "      <th>25_5-10 years</th>\n",
              "      <th>25_&lt; 1 year</th>\n",
              "      <th>25_I have never studied machine learning and I do not plan to</th>\n",
              "      <th>25_I have never studied machine learning but plan to learn in the future</th>\n",
              "      <th>26_Definitely not</th>\n",
              "      <th>26_Definitely yes</th>\n",
              "      <th>26_Maybe</th>\n",
              "      <th>26_Probably not</th>\n",
              "      <th>26_Probably yes</th>\n",
              "    </tr>\n",
              "  </thead>\n",
              "  <tbody>\n",
              "    <tr>\n",
              "      <th>0</th>\n",
              "      <td>718</td>\n",
              "      <td>1</td>\n",
              "      <td>0</td>\n",
              "      <td>0</td>\n",
              "      <td>0</td>\n",
              "      <td>0</td>\n",
              "      <td>1</td>\n",
              "      <td>0</td>\n",
              "      <td>0</td>\n",
              "      <td>0</td>\n",
              "      <td>0</td>\n",
              "      <td>0</td>\n",
              "      <td>0</td>\n",
              "      <td>0</td>\n",
              "      <td>0</td>\n",
              "      <td>0</td>\n",
              "      <td>0</td>\n",
              "      <td>0</td>\n",
              "      <td>1</td>\n",
              "      <td>0</td>\n",
              "      <td>0</td>\n",
              "      <td>0</td>\n",
              "      <td>0</td>\n",
              "      <td>1</td>\n",
              "      <td>0</td>\n",
              "      <td>0</td>\n",
              "      <td>0</td>\n",
              "      <td>0</td>\n",
              "      <td>0</td>\n",
              "      <td>0</td>\n",
              "      <td>0</td>\n",
              "      <td>0</td>\n",
              "      <td>0</td>\n",
              "      <td>1</td>\n",
              "      <td>0</td>\n",
              "      <td>1</td>\n",
              "      <td>0</td>\n",
              "      <td>0</td>\n",
              "      <td>0</td>\n",
              "      <td>0</td>\n",
              "      <td>...</td>\n",
              "      <td>0</td>\n",
              "      <td>0</td>\n",
              "      <td>0</td>\n",
              "      <td>1</td>\n",
              "      <td>0</td>\n",
              "      <td>0</td>\n",
              "      <td>0</td>\n",
              "      <td>0</td>\n",
              "      <td>0</td>\n",
              "      <td>0</td>\n",
              "      <td>0</td>\n",
              "      <td>0</td>\n",
              "      <td>0</td>\n",
              "      <td>0</td>\n",
              "      <td>1</td>\n",
              "      <td>0</td>\n",
              "      <td>0</td>\n",
              "      <td>0</td>\n",
              "      <td>0</td>\n",
              "      <td>0</td>\n",
              "      <td>1</td>\n",
              "      <td>0</td>\n",
              "      <td>0</td>\n",
              "      <td>0</td>\n",
              "      <td>0</td>\n",
              "      <td>0</td>\n",
              "      <td>0</td>\n",
              "      <td>0</td>\n",
              "      <td>0</td>\n",
              "      <td>0</td>\n",
              "      <td>0</td>\n",
              "      <td>0</td>\n",
              "      <td>1</td>\n",
              "      <td>0</td>\n",
              "      <td>0</td>\n",
              "      <td>0</td>\n",
              "      <td>1</td>\n",
              "      <td>0</td>\n",
              "      <td>0</td>\n",
              "      <td>0</td>\n",
              "    </tr>\n",
              "    <tr>\n",
              "      <th>1</th>\n",
              "      <td>731</td>\n",
              "      <td>0</td>\n",
              "      <td>1</td>\n",
              "      <td>0</td>\n",
              "      <td>1</td>\n",
              "      <td>0</td>\n",
              "      <td>0</td>\n",
              "      <td>0</td>\n",
              "      <td>0</td>\n",
              "      <td>0</td>\n",
              "      <td>0</td>\n",
              "      <td>0</td>\n",
              "      <td>0</td>\n",
              "      <td>0</td>\n",
              "      <td>0</td>\n",
              "      <td>0</td>\n",
              "      <td>1</td>\n",
              "      <td>0</td>\n",
              "      <td>0</td>\n",
              "      <td>0</td>\n",
              "      <td>0</td>\n",
              "      <td>0</td>\n",
              "      <td>0</td>\n",
              "      <td>1</td>\n",
              "      <td>0</td>\n",
              "      <td>0</td>\n",
              "      <td>0</td>\n",
              "      <td>0</td>\n",
              "      <td>0</td>\n",
              "      <td>0</td>\n",
              "      <td>0</td>\n",
              "      <td>0</td>\n",
              "      <td>0</td>\n",
              "      <td>1</td>\n",
              "      <td>0</td>\n",
              "      <td>0</td>\n",
              "      <td>0</td>\n",
              "      <td>0</td>\n",
              "      <td>0</td>\n",
              "      <td>0</td>\n",
              "      <td>...</td>\n",
              "      <td>0</td>\n",
              "      <td>0</td>\n",
              "      <td>0</td>\n",
              "      <td>0</td>\n",
              "      <td>0</td>\n",
              "      <td>0</td>\n",
              "      <td>0</td>\n",
              "      <td>0</td>\n",
              "      <td>0</td>\n",
              "      <td>0</td>\n",
              "      <td>0</td>\n",
              "      <td>0</td>\n",
              "      <td>0</td>\n",
              "      <td>0</td>\n",
              "      <td>1</td>\n",
              "      <td>0</td>\n",
              "      <td>0</td>\n",
              "      <td>0</td>\n",
              "      <td>0</td>\n",
              "      <td>0</td>\n",
              "      <td>1</td>\n",
              "      <td>0</td>\n",
              "      <td>0</td>\n",
              "      <td>0</td>\n",
              "      <td>0</td>\n",
              "      <td>0</td>\n",
              "      <td>0</td>\n",
              "      <td>1</td>\n",
              "      <td>0</td>\n",
              "      <td>0</td>\n",
              "      <td>0</td>\n",
              "      <td>0</td>\n",
              "      <td>0</td>\n",
              "      <td>0</td>\n",
              "      <td>0</td>\n",
              "      <td>0</td>\n",
              "      <td>0</td>\n",
              "      <td>1</td>\n",
              "      <td>0</td>\n",
              "      <td>0</td>\n",
              "    </tr>\n",
              "    <tr>\n",
              "      <th>3</th>\n",
              "      <td>751</td>\n",
              "      <td>0</td>\n",
              "      <td>1</td>\n",
              "      <td>0</td>\n",
              "      <td>0</td>\n",
              "      <td>0</td>\n",
              "      <td>1</td>\n",
              "      <td>0</td>\n",
              "      <td>0</td>\n",
              "      <td>0</td>\n",
              "      <td>0</td>\n",
              "      <td>0</td>\n",
              "      <td>0</td>\n",
              "      <td>0</td>\n",
              "      <td>0</td>\n",
              "      <td>0</td>\n",
              "      <td>0</td>\n",
              "      <td>1</td>\n",
              "      <td>0</td>\n",
              "      <td>0</td>\n",
              "      <td>0</td>\n",
              "      <td>0</td>\n",
              "      <td>0</td>\n",
              "      <td>1</td>\n",
              "      <td>0</td>\n",
              "      <td>0</td>\n",
              "      <td>0</td>\n",
              "      <td>0</td>\n",
              "      <td>0</td>\n",
              "      <td>0</td>\n",
              "      <td>0</td>\n",
              "      <td>1</td>\n",
              "      <td>0</td>\n",
              "      <td>0</td>\n",
              "      <td>0</td>\n",
              "      <td>0</td>\n",
              "      <td>1</td>\n",
              "      <td>0</td>\n",
              "      <td>0</td>\n",
              "      <td>0</td>\n",
              "      <td>...</td>\n",
              "      <td>1</td>\n",
              "      <td>0</td>\n",
              "      <td>0</td>\n",
              "      <td>0</td>\n",
              "      <td>0</td>\n",
              "      <td>0</td>\n",
              "      <td>0</td>\n",
              "      <td>0</td>\n",
              "      <td>0</td>\n",
              "      <td>0</td>\n",
              "      <td>0</td>\n",
              "      <td>0</td>\n",
              "      <td>0</td>\n",
              "      <td>0</td>\n",
              "      <td>1</td>\n",
              "      <td>0</td>\n",
              "      <td>0</td>\n",
              "      <td>0</td>\n",
              "      <td>1</td>\n",
              "      <td>0</td>\n",
              "      <td>0</td>\n",
              "      <td>0</td>\n",
              "      <td>0</td>\n",
              "      <td>0</td>\n",
              "      <td>0</td>\n",
              "      <td>0</td>\n",
              "      <td>0</td>\n",
              "      <td>0</td>\n",
              "      <td>0</td>\n",
              "      <td>0</td>\n",
              "      <td>0</td>\n",
              "      <td>0</td>\n",
              "      <td>1</td>\n",
              "      <td>0</td>\n",
              "      <td>0</td>\n",
              "      <td>0</td>\n",
              "      <td>0</td>\n",
              "      <td>0</td>\n",
              "      <td>1</td>\n",
              "      <td>0</td>\n",
              "    </tr>\n",
              "    <tr>\n",
              "      <th>5</th>\n",
              "      <td>823</td>\n",
              "      <td>0</td>\n",
              "      <td>1</td>\n",
              "      <td>0</td>\n",
              "      <td>0</td>\n",
              "      <td>0</td>\n",
              "      <td>0</td>\n",
              "      <td>0</td>\n",
              "      <td>1</td>\n",
              "      <td>0</td>\n",
              "      <td>0</td>\n",
              "      <td>0</td>\n",
              "      <td>0</td>\n",
              "      <td>0</td>\n",
              "      <td>0</td>\n",
              "      <td>0</td>\n",
              "      <td>0</td>\n",
              "      <td>0</td>\n",
              "      <td>1</td>\n",
              "      <td>0</td>\n",
              "      <td>0</td>\n",
              "      <td>0</td>\n",
              "      <td>0</td>\n",
              "      <td>1</td>\n",
              "      <td>0</td>\n",
              "      <td>0</td>\n",
              "      <td>0</td>\n",
              "      <td>0</td>\n",
              "      <td>0</td>\n",
              "      <td>0</td>\n",
              "      <td>1</td>\n",
              "      <td>0</td>\n",
              "      <td>0</td>\n",
              "      <td>0</td>\n",
              "      <td>0</td>\n",
              "      <td>0</td>\n",
              "      <td>1</td>\n",
              "      <td>0</td>\n",
              "      <td>0</td>\n",
              "      <td>0</td>\n",
              "      <td>...</td>\n",
              "      <td>0</td>\n",
              "      <td>0</td>\n",
              "      <td>0</td>\n",
              "      <td>0</td>\n",
              "      <td>0</td>\n",
              "      <td>0</td>\n",
              "      <td>0</td>\n",
              "      <td>0</td>\n",
              "      <td>0</td>\n",
              "      <td>0</td>\n",
              "      <td>0</td>\n",
              "      <td>0</td>\n",
              "      <td>0</td>\n",
              "      <td>0</td>\n",
              "      <td>1</td>\n",
              "      <td>0</td>\n",
              "      <td>0</td>\n",
              "      <td>0</td>\n",
              "      <td>0</td>\n",
              "      <td>0</td>\n",
              "      <td>1</td>\n",
              "      <td>0</td>\n",
              "      <td>0</td>\n",
              "      <td>0</td>\n",
              "      <td>0</td>\n",
              "      <td>0</td>\n",
              "      <td>0</td>\n",
              "      <td>0</td>\n",
              "      <td>0</td>\n",
              "      <td>0</td>\n",
              "      <td>0</td>\n",
              "      <td>1</td>\n",
              "      <td>0</td>\n",
              "      <td>0</td>\n",
              "      <td>0</td>\n",
              "      <td>0</td>\n",
              "      <td>0</td>\n",
              "      <td>1</td>\n",
              "      <td>0</td>\n",
              "      <td>0</td>\n",
              "    </tr>\n",
              "    <tr>\n",
              "      <th>8</th>\n",
              "      <td>846</td>\n",
              "      <td>1</td>\n",
              "      <td>0</td>\n",
              "      <td>0</td>\n",
              "      <td>0</td>\n",
              "      <td>1</td>\n",
              "      <td>0</td>\n",
              "      <td>0</td>\n",
              "      <td>0</td>\n",
              "      <td>0</td>\n",
              "      <td>0</td>\n",
              "      <td>0</td>\n",
              "      <td>0</td>\n",
              "      <td>0</td>\n",
              "      <td>0</td>\n",
              "      <td>0</td>\n",
              "      <td>0</td>\n",
              "      <td>0</td>\n",
              "      <td>0</td>\n",
              "      <td>0</td>\n",
              "      <td>1</td>\n",
              "      <td>1</td>\n",
              "      <td>0</td>\n",
              "      <td>0</td>\n",
              "      <td>0</td>\n",
              "      <td>0</td>\n",
              "      <td>0</td>\n",
              "      <td>0</td>\n",
              "      <td>1</td>\n",
              "      <td>0</td>\n",
              "      <td>0</td>\n",
              "      <td>0</td>\n",
              "      <td>0</td>\n",
              "      <td>0</td>\n",
              "      <td>1</td>\n",
              "      <td>0</td>\n",
              "      <td>0</td>\n",
              "      <td>0</td>\n",
              "      <td>0</td>\n",
              "      <td>0</td>\n",
              "      <td>...</td>\n",
              "      <td>0</td>\n",
              "      <td>0</td>\n",
              "      <td>0</td>\n",
              "      <td>1</td>\n",
              "      <td>0</td>\n",
              "      <td>0</td>\n",
              "      <td>0</td>\n",
              "      <td>0</td>\n",
              "      <td>0</td>\n",
              "      <td>0</td>\n",
              "      <td>0</td>\n",
              "      <td>1</td>\n",
              "      <td>0</td>\n",
              "      <td>0</td>\n",
              "      <td>0</td>\n",
              "      <td>0</td>\n",
              "      <td>0</td>\n",
              "      <td>0</td>\n",
              "      <td>1</td>\n",
              "      <td>0</td>\n",
              "      <td>0</td>\n",
              "      <td>0</td>\n",
              "      <td>0</td>\n",
              "      <td>0</td>\n",
              "      <td>0</td>\n",
              "      <td>1</td>\n",
              "      <td>0</td>\n",
              "      <td>0</td>\n",
              "      <td>0</td>\n",
              "      <td>0</td>\n",
              "      <td>0</td>\n",
              "      <td>0</td>\n",
              "      <td>0</td>\n",
              "      <td>0</td>\n",
              "      <td>0</td>\n",
              "      <td>1</td>\n",
              "      <td>0</td>\n",
              "      <td>0</td>\n",
              "      <td>0</td>\n",
              "      <td>0</td>\n",
              "    </tr>\n",
              "  </tbody>\n",
              "</table>\n",
              "<p>5 rows × 207 columns</p>\n",
              "</div>"
            ],
            "text/plain": [
              "   duration  1_Female  1_Male  ...  26_Maybe  26_Probably not  26_Probably yes\n",
              "0       718         1       0  ...         0                0                0\n",
              "1       731         0       1  ...         1                0                0\n",
              "3       751         0       1  ...         0                1                0\n",
              "5       823         0       1  ...         1                0                0\n",
              "8       846         1       0  ...         0                0                0\n",
              "\n",
              "[5 rows x 207 columns]"
            ]
          },
          "metadata": {
            "tags": []
          },
          "execution_count": 70
        }
      ]
    },
    {
      "cell_type": "markdown",
      "metadata": {
        "id": "MHlPO9ICuecu",
        "colab_type": "text"
      },
      "source": [
        "* Q27-Q31, Q33, Q36, Q38, Q42, Q44, Q45, Q47, Q49, Q50"
      ]
    },
    {
      "cell_type": "code",
      "metadata": {
        "id": "w9XKxo4yskzS",
        "colab_type": "code",
        "colab": {}
      },
      "source": [
        "preprocess_needed = [27, 28, 29, 30, 31, 36]"
      ],
      "execution_count": null,
      "outputs": []
    },
    {
      "cell_type": "code",
      "metadata": {
        "id": "cmnY-2Hlwfps",
        "colab_type": "code",
        "colab": {}
      },
      "source": [
        "multiple=multiple.drop(['Q38_Part_19'],axis=1)\n",
        "multiple=multiple.drop(['Q38_Part_20'],axis=1)"
      ],
      "execution_count": null,
      "outputs": []
    },
    {
      "cell_type": "code",
      "metadata": {
        "id": "rBNJMz3MskxE",
        "colab_type": "code",
        "colab": {}
      },
      "source": [
        "for i in preprocess_needed : \n",
        "  q = preprocess_multiple(multiple, i)\n",
        "  ndata2 = pd.concat([ndata2, q], axis = 1)"
      ],
      "execution_count": null,
      "outputs": []
    },
    {
      "cell_type": "code",
      "metadata": {
        "id": "PGUgC41UyInB",
        "colab_type": "code",
        "colab": {
          "base_uri": "https://localhost:8080/",
          "height": 35
        },
        "outputId": "d948a71b-f0a2-48ea-f2d2-86094e534c8c"
      },
      "source": [
        "ndata2.iloc[1:5, 300:310]\n",
        "ndata2.shape"
      ],
      "execution_count": null,
      "outputs": [
        {
          "output_type": "execute_result",
          "data": {
            "text/plain": [
              "(10200, 348)"
            ]
          },
          "metadata": {
            "tags": []
          },
          "execution_count": 74
        }
      ]
    },
    {
      "cell_type": "code",
      "metadata": {
        "id": "F8u7CPCvyqGA",
        "colab_type": "code",
        "colab": {}
      },
      "source": [
        "ndata3 = pd.DataFrame"
      ],
      "execution_count": null,
      "outputs": []
    },
    {
      "cell_type": "code",
      "metadata": {
        "id": "X1eW22ePyyRU",
        "colab_type": "code",
        "colab": {}
      },
      "source": [
        "ndata3 = ndata2.copy()"
      ],
      "execution_count": null,
      "outputs": []
    },
    {
      "cell_type": "code",
      "metadata": {
        "id": "psaQzGqkv_s9",
        "colab_type": "code",
        "colab": {}
      },
      "source": [
        "for i in [38,42,44,45,47,49,50] : \n",
        "  q = preprocess_multiple(multiple, i)\n",
        "  ndata3 = pd.concat([ndata3, q], axis = 1)"
      ],
      "execution_count": null,
      "outputs": []
    },
    {
      "cell_type": "code",
      "metadata": {
        "id": "67jm5VFGrusk",
        "colab_type": "code",
        "colab": {
          "base_uri": "https://localhost:8080/",
          "height": 206
        },
        "outputId": "08e754db-364c-476a-9e6f-1562b3b2504a"
      },
      "source": [
        "ndata3.iloc[1:4, 310:330]"
      ],
      "execution_count": null,
      "outputs": [
        {
          "output_type": "execute_result",
          "data": {
            "text/html": [
              "<div>\n",
              "<style scoped>\n",
              "    .dataframe tbody tr th:only-of-type {\n",
              "        vertical-align: middle;\n",
              "    }\n",
              "\n",
              "    .dataframe tbody tr th {\n",
              "        vertical-align: top;\n",
              "    }\n",
              "\n",
              "    .dataframe thead th {\n",
              "        text-align: right;\n",
              "    }\n",
              "</style>\n",
              "<table border=\"1\" class=\"dataframe\">\n",
              "  <thead>\n",
              "    <tr style=\"text-align: right;\">\n",
              "      <th></th>\n",
              "      <th>30_Oracle Exadata</th>\n",
              "      <th>30_Oracle Warehouse Builder</th>\n",
              "      <th>30_SAP IQ</th>\n",
              "      <th>30_Snowflake</th>\n",
              "      <th>30_Databricks</th>\n",
              "      <th>30_Azure SQL Data Warehouse</th>\n",
              "      <th>30_Azure HDInsight</th>\n",
              "      <th>30_Azure Stream Analytics</th>\n",
              "      <th>30_IBM InfoSphere DataStorage</th>\n",
              "      <th>30_IBM Cloud Analytics Engine</th>\n",
              "      <th>30_IBM Cloud Streaming Analytics</th>\n",
              "      <th>30_None</th>\n",
              "      <th>30_Other</th>\n",
              "      <th>31_Audio Data</th>\n",
              "      <th>31_Categorical Data</th>\n",
              "      <th>31_Genetic Data</th>\n",
              "      <th>31_Geospatial Data</th>\n",
              "      <th>31_Image Data</th>\n",
              "      <th>31_Numerical Data</th>\n",
              "      <th>31_Sensor Data</th>\n",
              "    </tr>\n",
              "  </thead>\n",
              "  <tbody>\n",
              "    <tr>\n",
              "      <th>1</th>\n",
              "      <td>0</td>\n",
              "      <td>0</td>\n",
              "      <td>0</td>\n",
              "      <td>0</td>\n",
              "      <td>0</td>\n",
              "      <td>0</td>\n",
              "      <td>0</td>\n",
              "      <td>0</td>\n",
              "      <td>0</td>\n",
              "      <td>0</td>\n",
              "      <td>0</td>\n",
              "      <td>0</td>\n",
              "      <td>0</td>\n",
              "      <td>0</td>\n",
              "      <td>1</td>\n",
              "      <td>0</td>\n",
              "      <td>0</td>\n",
              "      <td>0</td>\n",
              "      <td>0</td>\n",
              "      <td>0</td>\n",
              "    </tr>\n",
              "    <tr>\n",
              "      <th>3</th>\n",
              "      <td>0</td>\n",
              "      <td>0</td>\n",
              "      <td>0</td>\n",
              "      <td>0</td>\n",
              "      <td>0</td>\n",
              "      <td>0</td>\n",
              "      <td>0</td>\n",
              "      <td>0</td>\n",
              "      <td>0</td>\n",
              "      <td>0</td>\n",
              "      <td>0</td>\n",
              "      <td>0</td>\n",
              "      <td>0</td>\n",
              "      <td>0</td>\n",
              "      <td>0</td>\n",
              "      <td>0</td>\n",
              "      <td>0</td>\n",
              "      <td>0</td>\n",
              "      <td>1</td>\n",
              "      <td>0</td>\n",
              "    </tr>\n",
              "    <tr>\n",
              "      <th>5</th>\n",
              "      <td>0</td>\n",
              "      <td>0</td>\n",
              "      <td>0</td>\n",
              "      <td>0</td>\n",
              "      <td>0</td>\n",
              "      <td>0</td>\n",
              "      <td>0</td>\n",
              "      <td>0</td>\n",
              "      <td>0</td>\n",
              "      <td>0</td>\n",
              "      <td>0</td>\n",
              "      <td>1</td>\n",
              "      <td>0</td>\n",
              "      <td>0</td>\n",
              "      <td>0</td>\n",
              "      <td>0</td>\n",
              "      <td>0</td>\n",
              "      <td>0</td>\n",
              "      <td>0</td>\n",
              "      <td>0</td>\n",
              "    </tr>\n",
              "  </tbody>\n",
              "</table>\n",
              "</div>"
            ],
            "text/plain": [
              "   30_Oracle Exadata  ...  31_Sensor Data\n",
              "1                  0  ...               0\n",
              "3                  0  ...               0\n",
              "5                  0  ...               0\n",
              "\n",
              "[3 rows x 20 columns]"
            ]
          },
          "metadata": {
            "tags": []
          },
          "execution_count": 78
        }
      ]
    },
    {
      "cell_type": "markdown",
      "metadata": {
        "id": "6FOZHG5SzFn7",
        "colab_type": "text"
      },
      "source": [
        "* Q32"
      ]
    },
    {
      "cell_type": "code",
      "metadata": {
        "id": "TB22t6KkzE0C",
        "colab_type": "code",
        "colab": {}
      },
      "source": [
        "multiple=multiple.drop(['Q32_OTHER'],axis=1)"
      ],
      "execution_count": null,
      "outputs": []
    },
    {
      "cell_type": "markdown",
      "metadata": {
        "id": "Tz90CLZhztsN",
        "colab_type": "text"
      },
      "source": [
        "* Q34 : 일반적으로 데이터 사이언스 프로젝트 진행 시 각 업무별로 소요되는 시간 비중  =>  빼기. \n",
        "\n"
      ]
    },
    {
      "cell_type": "code",
      "metadata": {
        "id": "RH_MHa7Szid0",
        "colab_type": "code",
        "colab": {
          "base_uri": "https://localhost:8080/",
          "height": 35
        },
        "outputId": "a39fe76b-ecaa-4dc8-b97e-1ac58c5cb991"
      },
      "source": [
        "len(multiple.Q34_Part_1[multiple.Q34_Part_1.isna()]) "
      ],
      "execution_count": null,
      "outputs": [
        {
          "output_type": "execute_result",
          "data": {
            "text/plain": [
              "1158"
            ]
          },
          "metadata": {
            "tags": []
          },
          "execution_count": 80
        }
      ]
    },
    {
      "cell_type": "code",
      "metadata": {
        "id": "JEP0TB8h6fQU",
        "colab_type": "code",
        "colab": {}
      },
      "source": [
        "q34=multiple[[t for t in multiple.columns if 'Q34_' in t]]/100\n",
        "#ndata3=pd.concat([ndata3,q34],axis=1)"
      ],
      "execution_count": null,
      "outputs": []
    },
    {
      "cell_type": "code",
      "metadata": {
        "id": "qUH1cWyJtAk1",
        "colab_type": "code",
        "colab": {
          "base_uri": "https://localhost:8080/",
          "height": 194
        },
        "outputId": "22408de2-b4f2-467a-af17-855ea97f1973"
      },
      "source": [
        "q34.head()"
      ],
      "execution_count": null,
      "outputs": [
        {
          "output_type": "execute_result",
          "data": {
            "text/html": [
              "<div>\n",
              "<style scoped>\n",
              "    .dataframe tbody tr th:only-of-type {\n",
              "        vertical-align: middle;\n",
              "    }\n",
              "\n",
              "    .dataframe tbody tr th {\n",
              "        vertical-align: top;\n",
              "    }\n",
              "\n",
              "    .dataframe thead th {\n",
              "        text-align: right;\n",
              "    }\n",
              "</style>\n",
              "<table border=\"1\" class=\"dataframe\">\n",
              "  <thead>\n",
              "    <tr style=\"text-align: right;\">\n",
              "      <th></th>\n",
              "      <th>Q34_Part_1</th>\n",
              "      <th>Q34_Part_2</th>\n",
              "      <th>Q34_Part_3</th>\n",
              "      <th>Q34_Part_4</th>\n",
              "      <th>Q34_Part_5</th>\n",
              "      <th>Q34_Part_6</th>\n",
              "    </tr>\n",
              "  </thead>\n",
              "  <tbody>\n",
              "    <tr>\n",
              "      <th>0</th>\n",
              "      <td>0.02</td>\n",
              "      <td>0.03</td>\n",
              "      <td>0.2</td>\n",
              "      <td>0.50</td>\n",
              "      <td>0.2</td>\n",
              "      <td>0.00</td>\n",
              "    </tr>\n",
              "    <tr>\n",
              "      <th>1</th>\n",
              "      <td>0.10</td>\n",
              "      <td>0.10</td>\n",
              "      <td>0.2</td>\n",
              "      <td>0.10</td>\n",
              "      <td>0.2</td>\n",
              "      <td>0.23</td>\n",
              "    </tr>\n",
              "    <tr>\n",
              "      <th>3</th>\n",
              "      <td>0.55</td>\n",
              "      <td>0.10</td>\n",
              "      <td>0.2</td>\n",
              "      <td>0.05</td>\n",
              "      <td>0.0</td>\n",
              "      <td>0.10</td>\n",
              "    </tr>\n",
              "    <tr>\n",
              "      <th>5</th>\n",
              "      <td>0.40</td>\n",
              "      <td>0.00</td>\n",
              "      <td>0.0</td>\n",
              "      <td>0.00</td>\n",
              "      <td>0.5</td>\n",
              "      <td>0.10</td>\n",
              "    </tr>\n",
              "    <tr>\n",
              "      <th>8</th>\n",
              "      <td>0.00</td>\n",
              "      <td>0.40</td>\n",
              "      <td>0.1</td>\n",
              "      <td>0.30</td>\n",
              "      <td>0.0</td>\n",
              "      <td>0.20</td>\n",
              "    </tr>\n",
              "  </tbody>\n",
              "</table>\n",
              "</div>"
            ],
            "text/plain": [
              "   Q34_Part_1  Q34_Part_2  Q34_Part_3  Q34_Part_4  Q34_Part_5  Q34_Part_6\n",
              "0        0.02        0.03         0.2        0.50         0.2        0.00\n",
              "1        0.10        0.10         0.2        0.10         0.2        0.23\n",
              "3        0.55        0.10         0.2        0.05         0.0        0.10\n",
              "5        0.40        0.00         0.0        0.00         0.5        0.10\n",
              "8        0.00        0.40         0.1        0.30         0.0        0.20"
            ]
          },
          "metadata": {
            "tags": []
          },
          "execution_count": 82
        }
      ]
    },
    {
      "cell_type": "markdown",
      "metadata": {
        "id": "E-KQNyZR4gQh",
        "colab_type": "text"
      },
      "source": [
        "* Q35"
      ]
    },
    {
      "cell_type": "code",
      "metadata": {
        "id": "GpQ1hfbt4hPf",
        "colab_type": "code",
        "colab": {
          "base_uri": "https://localhost:8080/",
          "height": 35
        },
        "outputId": "bcc84556-e0e9-4dbb-fdd2-219981ade351"
      },
      "source": [
        "len(multiple.Q35_Part_1[multiple.Q35_Part_1.isna()]) #NA값 마찬가지로 제외하는게 좋을듯"
      ],
      "execution_count": null,
      "outputs": [
        {
          "output_type": "execute_result",
          "data": {
            "text/plain": [
              "1260"
            ]
          },
          "metadata": {
            "tags": []
          },
          "execution_count": 83
        }
      ]
    },
    {
      "cell_type": "code",
      "metadata": {
        "id": "bi2c4CqE4lDU",
        "colab_type": "code",
        "colab": {}
      },
      "source": [
        "q35=multiple[[t for t in multiple.columns if 'Q35_' in t]]/100\n",
        "q35.columns=['35_'+str(col) for col in q35.columns]\n",
        "ndata3=pd.concat([ndata3, q35],axis=1)"
      ],
      "execution_count": null,
      "outputs": []
    },
    {
      "cell_type": "markdown",
      "metadata": {
        "id": "G8g7psgb4xd3",
        "colab_type": "text"
      },
      "source": [
        "* Q40, Q41, Q43, Q46, Q48"
      ]
    },
    {
      "cell_type": "code",
      "metadata": {
        "id": "N-M8_3lY4w4-",
        "colab_type": "code",
        "colab": {
          "base_uri": "https://localhost:8080/",
          "height": 124
        },
        "outputId": "09ebb6f3-d051-412b-9132-796681c3909f"
      },
      "source": [
        "multiple.Q40.unique()"
      ],
      "execution_count": null,
      "outputs": [
        {
          "output_type": "execute_result",
          "data": {
            "text/plain": [
              "array(['Independent projects are equally important as academic achievements',\n",
              "       'Independent projects are slightly more important than academic achievements',\n",
              "       'Independent projects are much less important than academic achievements',\n",
              "       'Independent projects are much more important than academic achievements',\n",
              "       'Independent projects are slightly less important than academic achievements',\n",
              "       'No opinion; I do not know', nan], dtype=object)"
            ]
          },
          "metadata": {
            "tags": []
          },
          "execution_count": 85
        }
      ]
    },
    {
      "cell_type": "code",
      "metadata": {
        "id": "Nx27gKCi5C5A",
        "colab_type": "code",
        "colab": {
          "base_uri": "https://localhost:8080/",
          "height": 35
        },
        "outputId": "be163e41-3759-4265-90e6-5f79c42558e1"
      },
      "source": [
        "len(multiple.Q40[multiple.Q40.isna()]) #NA값삭제"
      ],
      "execution_count": null,
      "outputs": [
        {
          "output_type": "execute_result",
          "data": {
            "text/plain": [
              "1328"
            ]
          },
          "metadata": {
            "tags": []
          },
          "execution_count": 86
        }
      ]
    },
    {
      "cell_type": "code",
      "metadata": {
        "id": "ew8xs5fg0Azu",
        "colab_type": "code",
        "colab": {}
      },
      "source": [
        "q40=pd.get_dummies(multiple.Q40)\n",
        "q40.columns=['40_'+str(col) for col in q40.columns]"
      ],
      "execution_count": null,
      "outputs": []
    },
    {
      "cell_type": "code",
      "metadata": {
        "id": "zvq1O4pH5M0C",
        "colab_type": "code",
        "colab": {}
      },
      "source": [
        "ndata3 = pd.concat([ndata3,q40],axis=1)"
      ],
      "execution_count": null,
      "outputs": []
    },
    {
      "cell_type": "markdown",
      "metadata": {
        "id": "ijaHiFA70bdX",
        "colab_type": "text"
      },
      "source": [
        "* Q41 => 제거"
      ]
    },
    {
      "cell_type": "code",
      "metadata": {
        "id": "xQ_sDPc66823",
        "colab_type": "code",
        "colab": {
          "base_uri": "https://localhost:8080/",
          "height": 463
        },
        "outputId": "0375d040-5ae5-4455-ce08-7c1f518597f8"
      },
      "source": [
        "ndata3.head()"
      ],
      "execution_count": null,
      "outputs": [
        {
          "output_type": "execute_result",
          "data": {
            "text/html": [
              "<div>\n",
              "<style scoped>\n",
              "    .dataframe tbody tr th:only-of-type {\n",
              "        vertical-align: middle;\n",
              "    }\n",
              "\n",
              "    .dataframe tbody tr th {\n",
              "        vertical-align: top;\n",
              "    }\n",
              "\n",
              "    .dataframe thead th {\n",
              "        text-align: right;\n",
              "    }\n",
              "</style>\n",
              "<table border=\"1\" class=\"dataframe\">\n",
              "  <thead>\n",
              "    <tr style=\"text-align: right;\">\n",
              "      <th></th>\n",
              "      <th>duration</th>\n",
              "      <th>1_Female</th>\n",
              "      <th>1_Male</th>\n",
              "      <th>2_18-21</th>\n",
              "      <th>2_22-24</th>\n",
              "      <th>2_25-29</th>\n",
              "      <th>2_30-34</th>\n",
              "      <th>2_35-39</th>\n",
              "      <th>2_40-44</th>\n",
              "      <th>2_45-49</th>\n",
              "      <th>2_50-54</th>\n",
              "      <th>2_55-59</th>\n",
              "      <th>2_60-69</th>\n",
              "      <th>2_70-79</th>\n",
              "      <th>2_80+</th>\n",
              "      <th>3_Africa</th>\n",
              "      <th>3_Asia</th>\n",
              "      <th>3_Europe</th>\n",
              "      <th>3_NorthAmerica</th>\n",
              "      <th>3_Oceania</th>\n",
              "      <th>3_SouthAmerica</th>\n",
              "      <th>4_Bachelor’s degree</th>\n",
              "      <th>4_Doctoral degree</th>\n",
              "      <th>4_Master’s degree</th>\n",
              "      <th>4_No formal education past high school</th>\n",
              "      <th>4_Professional degree</th>\n",
              "      <th>4_Some college/university study without earning a bachelor’s degree</th>\n",
              "      <th>Business Analyst</th>\n",
              "      <th>Data Analyst</th>\n",
              "      <th>Data Engineer/DBA</th>\n",
              "      <th>Data Scientist</th>\n",
              "      <th>Software Engineer</th>\n",
              "      <th>Statistician/Research Scientist</th>\n",
              "      <th>Student</th>\n",
              "      <th>5_A business discipline (accounting, economics, finance, etc.)</th>\n",
              "      <th>5_Computer science (software engineering, etc.)</th>\n",
              "      <th>5_Engineering (non-computer focused)</th>\n",
              "      <th>5_Environmental science or geology</th>\n",
              "      <th>5_Fine arts or performing arts</th>\n",
              "      <th>5_Humanities (history, literature, philosophy, etc.)</th>\n",
              "      <th>...</th>\n",
              "      <th>47_Print out a decision tree</th>\n",
              "      <th>47_Sensitivity analysis/perturbation importance</th>\n",
              "      <th>47_LIME functions</th>\n",
              "      <th>47_ELI5 functions</th>\n",
              "      <th>47_SHAP functions</th>\n",
              "      <th>47_None/I do not use these model explanation techniques</th>\n",
              "      <th>47_Other</th>\n",
              "      <th>47_Visualising and interpreting predicted vs. actual</th>\n",
              "      <th>49_Share code on Github or a similar code-sharing repository</th>\n",
              "      <th>49_Share both data and code on Github or a similar code-sharing repository</th>\n",
              "      <th>49_Share data, code, and environment using a hosted service (Kaggle Kernels, Google Colaboratory, Amazon SageMaker, etc.)</th>\n",
              "      <th>49_Share data, code, and environment using containers (Docker, etc.)</th>\n",
              "      <th>49_Share code, data, and environment using virtual machines (VirtualBox, etc.)</th>\n",
              "      <th>49_Make sure the code is well documented</th>\n",
              "      <th>49_Make sure the code is human-readable</th>\n",
              "      <th>49_Define all random seeds</th>\n",
              "      <th>49_Define relative rather than absolute file paths</th>\n",
              "      <th>49_Include a text file describing all dependencies</th>\n",
              "      <th>49_None/I do not make my work easy for others to reproduce</th>\n",
              "      <th>49_Other</th>\n",
              "      <th>50_Too expensive</th>\n",
              "      <th>50_Too time-consuming</th>\n",
              "      <th>50_Requires too much technical knowledge</th>\n",
              "      <th>50_Afraid that others will use my work without giving proper credit</th>\n",
              "      <th>50_Not enough incentives to share my work</th>\n",
              "      <th>50_I had never considered making my work easier for others to reproduce</th>\n",
              "      <th>50_None of these reasons apply to me</th>\n",
              "      <th>50_Other</th>\n",
              "      <th>35_Q35_Part_1</th>\n",
              "      <th>35_Q35_Part_2</th>\n",
              "      <th>35_Q35_Part_3</th>\n",
              "      <th>35_Q35_Part_4</th>\n",
              "      <th>35_Q35_Part_5</th>\n",
              "      <th>35_Q35_Part_6</th>\n",
              "      <th>40_Independent projects are equally important as academic achievements</th>\n",
              "      <th>40_Independent projects are much less important than academic achievements</th>\n",
              "      <th>40_Independent projects are much more important than academic achievements</th>\n",
              "      <th>40_Independent projects are slightly less important than academic achievements</th>\n",
              "      <th>40_Independent projects are slightly more important than academic achievements</th>\n",
              "      <th>40_No opinion; I do not know</th>\n",
              "    </tr>\n",
              "  </thead>\n",
              "  <tbody>\n",
              "    <tr>\n",
              "      <th>0</th>\n",
              "      <td>718</td>\n",
              "      <td>1</td>\n",
              "      <td>0</td>\n",
              "      <td>0</td>\n",
              "      <td>0</td>\n",
              "      <td>0</td>\n",
              "      <td>1</td>\n",
              "      <td>0</td>\n",
              "      <td>0</td>\n",
              "      <td>0</td>\n",
              "      <td>0</td>\n",
              "      <td>0</td>\n",
              "      <td>0</td>\n",
              "      <td>0</td>\n",
              "      <td>0</td>\n",
              "      <td>0</td>\n",
              "      <td>0</td>\n",
              "      <td>0</td>\n",
              "      <td>1</td>\n",
              "      <td>0</td>\n",
              "      <td>0</td>\n",
              "      <td>0</td>\n",
              "      <td>0</td>\n",
              "      <td>1</td>\n",
              "      <td>0</td>\n",
              "      <td>0</td>\n",
              "      <td>0</td>\n",
              "      <td>0</td>\n",
              "      <td>0</td>\n",
              "      <td>0</td>\n",
              "      <td>0</td>\n",
              "      <td>0</td>\n",
              "      <td>0</td>\n",
              "      <td>1</td>\n",
              "      <td>0</td>\n",
              "      <td>1</td>\n",
              "      <td>0</td>\n",
              "      <td>0</td>\n",
              "      <td>0</td>\n",
              "      <td>0</td>\n",
              "      <td>...</td>\n",
              "      <td>0</td>\n",
              "      <td>0</td>\n",
              "      <td>0</td>\n",
              "      <td>0</td>\n",
              "      <td>0</td>\n",
              "      <td>0</td>\n",
              "      <td>0</td>\n",
              "      <td>0</td>\n",
              "      <td>0</td>\n",
              "      <td>0</td>\n",
              "      <td>0</td>\n",
              "      <td>0</td>\n",
              "      <td>0</td>\n",
              "      <td>0</td>\n",
              "      <td>1</td>\n",
              "      <td>1</td>\n",
              "      <td>0</td>\n",
              "      <td>1</td>\n",
              "      <td>0</td>\n",
              "      <td>0</td>\n",
              "      <td>0</td>\n",
              "      <td>1</td>\n",
              "      <td>0</td>\n",
              "      <td>0</td>\n",
              "      <td>0</td>\n",
              "      <td>0</td>\n",
              "      <td>0</td>\n",
              "      <td>0</td>\n",
              "      <td>0.0</td>\n",
              "      <td>0.0</td>\n",
              "      <td>0.0</td>\n",
              "      <td>1.0</td>\n",
              "      <td>0.0</td>\n",
              "      <td>0.0</td>\n",
              "      <td>1</td>\n",
              "      <td>0</td>\n",
              "      <td>0</td>\n",
              "      <td>0</td>\n",
              "      <td>0</td>\n",
              "      <td>0</td>\n",
              "    </tr>\n",
              "    <tr>\n",
              "      <th>1</th>\n",
              "      <td>731</td>\n",
              "      <td>0</td>\n",
              "      <td>1</td>\n",
              "      <td>0</td>\n",
              "      <td>1</td>\n",
              "      <td>0</td>\n",
              "      <td>0</td>\n",
              "      <td>0</td>\n",
              "      <td>0</td>\n",
              "      <td>0</td>\n",
              "      <td>0</td>\n",
              "      <td>0</td>\n",
              "      <td>0</td>\n",
              "      <td>0</td>\n",
              "      <td>0</td>\n",
              "      <td>0</td>\n",
              "      <td>1</td>\n",
              "      <td>0</td>\n",
              "      <td>0</td>\n",
              "      <td>0</td>\n",
              "      <td>0</td>\n",
              "      <td>0</td>\n",
              "      <td>0</td>\n",
              "      <td>1</td>\n",
              "      <td>0</td>\n",
              "      <td>0</td>\n",
              "      <td>0</td>\n",
              "      <td>0</td>\n",
              "      <td>0</td>\n",
              "      <td>0</td>\n",
              "      <td>0</td>\n",
              "      <td>0</td>\n",
              "      <td>0</td>\n",
              "      <td>1</td>\n",
              "      <td>0</td>\n",
              "      <td>0</td>\n",
              "      <td>0</td>\n",
              "      <td>0</td>\n",
              "      <td>0</td>\n",
              "      <td>0</td>\n",
              "      <td>...</td>\n",
              "      <td>0</td>\n",
              "      <td>0</td>\n",
              "      <td>0</td>\n",
              "      <td>0</td>\n",
              "      <td>0</td>\n",
              "      <td>0</td>\n",
              "      <td>0</td>\n",
              "      <td>0</td>\n",
              "      <td>0</td>\n",
              "      <td>0</td>\n",
              "      <td>0</td>\n",
              "      <td>0</td>\n",
              "      <td>0</td>\n",
              "      <td>0</td>\n",
              "      <td>0</td>\n",
              "      <td>0</td>\n",
              "      <td>1</td>\n",
              "      <td>0</td>\n",
              "      <td>0</td>\n",
              "      <td>0</td>\n",
              "      <td>0</td>\n",
              "      <td>1</td>\n",
              "      <td>0</td>\n",
              "      <td>0</td>\n",
              "      <td>1</td>\n",
              "      <td>0</td>\n",
              "      <td>0</td>\n",
              "      <td>0</td>\n",
              "      <td>0.2</td>\n",
              "      <td>0.4</td>\n",
              "      <td>0.2</td>\n",
              "      <td>0.2</td>\n",
              "      <td>0.0</td>\n",
              "      <td>0.0</td>\n",
              "      <td>0</td>\n",
              "      <td>0</td>\n",
              "      <td>0</td>\n",
              "      <td>0</td>\n",
              "      <td>1</td>\n",
              "      <td>0</td>\n",
              "    </tr>\n",
              "    <tr>\n",
              "      <th>3</th>\n",
              "      <td>751</td>\n",
              "      <td>0</td>\n",
              "      <td>1</td>\n",
              "      <td>0</td>\n",
              "      <td>0</td>\n",
              "      <td>0</td>\n",
              "      <td>1</td>\n",
              "      <td>0</td>\n",
              "      <td>0</td>\n",
              "      <td>0</td>\n",
              "      <td>0</td>\n",
              "      <td>0</td>\n",
              "      <td>0</td>\n",
              "      <td>0</td>\n",
              "      <td>0</td>\n",
              "      <td>0</td>\n",
              "      <td>0</td>\n",
              "      <td>1</td>\n",
              "      <td>0</td>\n",
              "      <td>0</td>\n",
              "      <td>0</td>\n",
              "      <td>0</td>\n",
              "      <td>0</td>\n",
              "      <td>1</td>\n",
              "      <td>0</td>\n",
              "      <td>0</td>\n",
              "      <td>0</td>\n",
              "      <td>0</td>\n",
              "      <td>0</td>\n",
              "      <td>0</td>\n",
              "      <td>0</td>\n",
              "      <td>1</td>\n",
              "      <td>0</td>\n",
              "      <td>0</td>\n",
              "      <td>0</td>\n",
              "      <td>0</td>\n",
              "      <td>1</td>\n",
              "      <td>0</td>\n",
              "      <td>0</td>\n",
              "      <td>0</td>\n",
              "      <td>...</td>\n",
              "      <td>1</td>\n",
              "      <td>0</td>\n",
              "      <td>0</td>\n",
              "      <td>0</td>\n",
              "      <td>0</td>\n",
              "      <td>0</td>\n",
              "      <td>0</td>\n",
              "      <td>0</td>\n",
              "      <td>0</td>\n",
              "      <td>0</td>\n",
              "      <td>1</td>\n",
              "      <td>0</td>\n",
              "      <td>0</td>\n",
              "      <td>1</td>\n",
              "      <td>1</td>\n",
              "      <td>1</td>\n",
              "      <td>0</td>\n",
              "      <td>1</td>\n",
              "      <td>0</td>\n",
              "      <td>0</td>\n",
              "      <td>0</td>\n",
              "      <td>1</td>\n",
              "      <td>0</td>\n",
              "      <td>1</td>\n",
              "      <td>0</td>\n",
              "      <td>0</td>\n",
              "      <td>0</td>\n",
              "      <td>0</td>\n",
              "      <td>0.7</td>\n",
              "      <td>0.3</td>\n",
              "      <td>0.0</td>\n",
              "      <td>0.0</td>\n",
              "      <td>0.0</td>\n",
              "      <td>0.0</td>\n",
              "      <td>1</td>\n",
              "      <td>0</td>\n",
              "      <td>0</td>\n",
              "      <td>0</td>\n",
              "      <td>0</td>\n",
              "      <td>0</td>\n",
              "    </tr>\n",
              "    <tr>\n",
              "      <th>5</th>\n",
              "      <td>823</td>\n",
              "      <td>0</td>\n",
              "      <td>1</td>\n",
              "      <td>0</td>\n",
              "      <td>0</td>\n",
              "      <td>0</td>\n",
              "      <td>0</td>\n",
              "      <td>0</td>\n",
              "      <td>1</td>\n",
              "      <td>0</td>\n",
              "      <td>0</td>\n",
              "      <td>0</td>\n",
              "      <td>0</td>\n",
              "      <td>0</td>\n",
              "      <td>0</td>\n",
              "      <td>0</td>\n",
              "      <td>0</td>\n",
              "      <td>0</td>\n",
              "      <td>1</td>\n",
              "      <td>0</td>\n",
              "      <td>0</td>\n",
              "      <td>0</td>\n",
              "      <td>0</td>\n",
              "      <td>1</td>\n",
              "      <td>0</td>\n",
              "      <td>0</td>\n",
              "      <td>0</td>\n",
              "      <td>0</td>\n",
              "      <td>0</td>\n",
              "      <td>0</td>\n",
              "      <td>1</td>\n",
              "      <td>0</td>\n",
              "      <td>0</td>\n",
              "      <td>0</td>\n",
              "      <td>0</td>\n",
              "      <td>0</td>\n",
              "      <td>1</td>\n",
              "      <td>0</td>\n",
              "      <td>0</td>\n",
              "      <td>0</td>\n",
              "      <td>...</td>\n",
              "      <td>0</td>\n",
              "      <td>0</td>\n",
              "      <td>0</td>\n",
              "      <td>0</td>\n",
              "      <td>0</td>\n",
              "      <td>1</td>\n",
              "      <td>0</td>\n",
              "      <td>0</td>\n",
              "      <td>0</td>\n",
              "      <td>0</td>\n",
              "      <td>0</td>\n",
              "      <td>1</td>\n",
              "      <td>0</td>\n",
              "      <td>1</td>\n",
              "      <td>1</td>\n",
              "      <td>1</td>\n",
              "      <td>0</td>\n",
              "      <td>1</td>\n",
              "      <td>0</td>\n",
              "      <td>0</td>\n",
              "      <td>0</td>\n",
              "      <td>1</td>\n",
              "      <td>0</td>\n",
              "      <td>0</td>\n",
              "      <td>1</td>\n",
              "      <td>0</td>\n",
              "      <td>0</td>\n",
              "      <td>0</td>\n",
              "      <td>0.0</td>\n",
              "      <td>0.0</td>\n",
              "      <td>0.1</td>\n",
              "      <td>0.8</td>\n",
              "      <td>0.1</td>\n",
              "      <td>0.0</td>\n",
              "      <td>0</td>\n",
              "      <td>1</td>\n",
              "      <td>0</td>\n",
              "      <td>0</td>\n",
              "      <td>0</td>\n",
              "      <td>0</td>\n",
              "    </tr>\n",
              "    <tr>\n",
              "      <th>8</th>\n",
              "      <td>846</td>\n",
              "      <td>1</td>\n",
              "      <td>0</td>\n",
              "      <td>0</td>\n",
              "      <td>0</td>\n",
              "      <td>1</td>\n",
              "      <td>0</td>\n",
              "      <td>0</td>\n",
              "      <td>0</td>\n",
              "      <td>0</td>\n",
              "      <td>0</td>\n",
              "      <td>0</td>\n",
              "      <td>0</td>\n",
              "      <td>0</td>\n",
              "      <td>0</td>\n",
              "      <td>0</td>\n",
              "      <td>0</td>\n",
              "      <td>0</td>\n",
              "      <td>0</td>\n",
              "      <td>0</td>\n",
              "      <td>1</td>\n",
              "      <td>1</td>\n",
              "      <td>0</td>\n",
              "      <td>0</td>\n",
              "      <td>0</td>\n",
              "      <td>0</td>\n",
              "      <td>0</td>\n",
              "      <td>0</td>\n",
              "      <td>1</td>\n",
              "      <td>0</td>\n",
              "      <td>0</td>\n",
              "      <td>0</td>\n",
              "      <td>0</td>\n",
              "      <td>0</td>\n",
              "      <td>1</td>\n",
              "      <td>0</td>\n",
              "      <td>0</td>\n",
              "      <td>0</td>\n",
              "      <td>0</td>\n",
              "      <td>0</td>\n",
              "      <td>...</td>\n",
              "      <td>1</td>\n",
              "      <td>0</td>\n",
              "      <td>0</td>\n",
              "      <td>0</td>\n",
              "      <td>0</td>\n",
              "      <td>0</td>\n",
              "      <td>0</td>\n",
              "      <td>0</td>\n",
              "      <td>0</td>\n",
              "      <td>0</td>\n",
              "      <td>0</td>\n",
              "      <td>0</td>\n",
              "      <td>0</td>\n",
              "      <td>1</td>\n",
              "      <td>1</td>\n",
              "      <td>0</td>\n",
              "      <td>0</td>\n",
              "      <td>0</td>\n",
              "      <td>0</td>\n",
              "      <td>0</td>\n",
              "      <td>0</td>\n",
              "      <td>1</td>\n",
              "      <td>0</td>\n",
              "      <td>0</td>\n",
              "      <td>0</td>\n",
              "      <td>0</td>\n",
              "      <td>0</td>\n",
              "      <td>0</td>\n",
              "      <td>0.3</td>\n",
              "      <td>0.4</td>\n",
              "      <td>0.0</td>\n",
              "      <td>0.0</td>\n",
              "      <td>0.3</td>\n",
              "      <td>0.0</td>\n",
              "      <td>1</td>\n",
              "      <td>0</td>\n",
              "      <td>0</td>\n",
              "      <td>0</td>\n",
              "      <td>0</td>\n",
              "      <td>0</td>\n",
              "    </tr>\n",
              "  </tbody>\n",
              "</table>\n",
              "<p>5 rows × 433 columns</p>\n",
              "</div>"
            ],
            "text/plain": [
              "   duration  ...  40_No opinion; I do not know\n",
              "0       718  ...                             0\n",
              "1       731  ...                             0\n",
              "3       751  ...                             0\n",
              "5       823  ...                             0\n",
              "8       846  ...                             0\n",
              "\n",
              "[5 rows x 433 columns]"
            ]
          },
          "metadata": {
            "tags": []
          },
          "execution_count": 89
        }
      ]
    },
    {
      "cell_type": "markdown",
      "metadata": {
        "id": "1BeJu7H-2U8s",
        "colab_type": "text"
      },
      "source": [
        "1 0 Recoding "
      ]
    },
    {
      "cell_type": "code",
      "metadata": {
        "id": "A5HmBvH71qhu",
        "colab_type": "code",
        "colab": {
          "base_uri": "https://localhost:8080/",
          "height": 194
        },
        "outputId": "d5a293b0-9b06-41fa-91da-15b0da30bc30"
      },
      "source": [
        "##Q41\n",
        "encode = {'Very important':3, 'Slightly important':2,\n",
        "       'Not at all important':1, 'No opinion; I do not know':0}\n",
        "q41 = multiple[[i for i in multiple.columns if 'Q41_' in i]]\n",
        "q41 = q41.replace(encode)\n",
        "q41 = q41.fillna(0)\n",
        "q41=q41.astype(int) \n",
        "q41[q41!=3]=0\n",
        "q41[q41==3]=1\n",
        "q41.head()"
      ],
      "execution_count": null,
      "outputs": [
        {
          "output_type": "execute_result",
          "data": {
            "text/html": [
              "<div>\n",
              "<style scoped>\n",
              "    .dataframe tbody tr th:only-of-type {\n",
              "        vertical-align: middle;\n",
              "    }\n",
              "\n",
              "    .dataframe tbody tr th {\n",
              "        vertical-align: top;\n",
              "    }\n",
              "\n",
              "    .dataframe thead th {\n",
              "        text-align: right;\n",
              "    }\n",
              "</style>\n",
              "<table border=\"1\" class=\"dataframe\">\n",
              "  <thead>\n",
              "    <tr style=\"text-align: right;\">\n",
              "      <th></th>\n",
              "      <th>Q41_Part_1</th>\n",
              "      <th>Q41_Part_2</th>\n",
              "      <th>Q41_Part_3</th>\n",
              "    </tr>\n",
              "  </thead>\n",
              "  <tbody>\n",
              "    <tr>\n",
              "      <th>0</th>\n",
              "      <td>1</td>\n",
              "      <td>1</td>\n",
              "      <td>1</td>\n",
              "    </tr>\n",
              "    <tr>\n",
              "      <th>1</th>\n",
              "      <td>0</td>\n",
              "      <td>0</td>\n",
              "      <td>1</td>\n",
              "    </tr>\n",
              "    <tr>\n",
              "      <th>3</th>\n",
              "      <td>0</td>\n",
              "      <td>1</td>\n",
              "      <td>0</td>\n",
              "    </tr>\n",
              "    <tr>\n",
              "      <th>5</th>\n",
              "      <td>0</td>\n",
              "      <td>0</td>\n",
              "      <td>1</td>\n",
              "    </tr>\n",
              "    <tr>\n",
              "      <th>8</th>\n",
              "      <td>1</td>\n",
              "      <td>0</td>\n",
              "      <td>1</td>\n",
              "    </tr>\n",
              "  </tbody>\n",
              "</table>\n",
              "</div>"
            ],
            "text/plain": [
              "   Q41_Part_1  Q41_Part_2  Q41_Part_3\n",
              "0           1           1           1\n",
              "1           0           0           1\n",
              "3           0           1           0\n",
              "5           0           0           1\n",
              "8           1           0           1"
            ]
          },
          "metadata": {
            "tags": []
          },
          "execution_count": 90
        }
      ]
    },
    {
      "cell_type": "markdown",
      "metadata": {
        "id": "_kGZuMHU2PLs",
        "colab_type": "text"
      },
      "source": [
        "* Q43 : drop - too many classes. 척도형 - 제외"
      ]
    },
    {
      "cell_type": "code",
      "metadata": {
        "id": "vmpKz4Ey5PJP",
        "colab_type": "code",
        "colab": {
          "base_uri": "https://localhost:8080/",
          "height": 52
        },
        "outputId": "eb14bcdc-471a-4721-ce14-b6624e257c87"
      },
      "source": [
        "multiple.Q43.unique()"
      ],
      "execution_count": null,
      "outputs": [
        {
          "output_type": "execute_result",
          "data": {
            "text/plain": [
              "array(['0-10', '20-30', '10-20', '0', '30-40', nan, '40-50', '90-100',\n",
              "       '70-80', '50-60', '60-70', '80-90'], dtype=object)"
            ]
          },
          "metadata": {
            "tags": []
          },
          "execution_count": 91
        }
      ]
    },
    {
      "cell_type": "code",
      "metadata": {
        "id": "yupmgmTk5UpN",
        "colab_type": "code",
        "colab": {
          "base_uri": "https://localhost:8080/",
          "height": 35
        },
        "outputId": "f91d3b8f-0e98-424e-bc56-c7ef9ae87b0a"
      },
      "source": [
        "len(multiple.Q43[multiple.Q43.isna()]) #NA값 삭제"
      ],
      "execution_count": null,
      "outputs": [
        {
          "output_type": "execute_result",
          "data": {
            "text/plain": [
              "2635"
            ]
          },
          "metadata": {
            "tags": []
          },
          "execution_count": 92
        }
      ]
    },
    {
      "cell_type": "code",
      "metadata": {
        "id": "L-lFygG-5XGW",
        "colab_type": "code",
        "colab": {}
      },
      "source": [
        "#numeric encoding\n",
        "encode = {'0-10':1, '20-30':3, '0':0, '10-20':2, '30-40':4, '60-70':7, '40-50':5,\n",
        "       '90-100':10, '70-80':8, '50-60':6, '80-90':9}\n",
        "tmp = multiple.Q43.copy()\n",
        "tmp = tmp.replace(encode)"
      ],
      "execution_count": null,
      "outputs": []
    },
    {
      "cell_type": "code",
      "metadata": {
        "id": "g4mFcLve3bo5",
        "colab_type": "code",
        "colab": {}
      },
      "source": [
        "q43=pd.get_dummies(multiple.Q43)\n",
        "q43.columns=['43_'+str(col) for col in q43.columns]\n",
        "#ndata3=pd.concat([ndata3,q43],axis=1)"
      ],
      "execution_count": null,
      "outputs": []
    },
    {
      "cell_type": "markdown",
      "metadata": {
        "id": "TGYJJuiC4De1",
        "colab_type": "text"
      },
      "source": [
        "* Q46 - drop : too many classes - 제외\n"
      ]
    },
    {
      "cell_type": "code",
      "metadata": {
        "id": "MGmTiPN-5caW",
        "colab_type": "code",
        "colab": {
          "base_uri": "https://localhost:8080/",
          "height": 52
        },
        "outputId": "761d7e1d-204f-44ed-8af0-92d92a090212"
      },
      "source": [
        "multiple.Q46.unique()"
      ],
      "execution_count": null,
      "outputs": [
        {
          "output_type": "execute_result",
          "data": {
            "text/plain": [
              "array(['10-20', '20-30', '50-60', '0', '90-100', '0-10', '30-40', nan,\n",
              "       '70-80', '40-50', '80-90', '60-70'], dtype=object)"
            ]
          },
          "metadata": {
            "tags": []
          },
          "execution_count": 95
        }
      ]
    },
    {
      "cell_type": "code",
      "metadata": {
        "id": "rYNClTGx5ezH",
        "colab_type": "code",
        "colab": {}
      },
      "source": [
        "#numeric encoding\n",
        "encode = {'0-10':1, '20-30':3, '0':0, '10-20':2, '30-40':4, '60-70':7, '40-50':5,\n",
        "       '90-100':10, '70-80':8, '50-60':6, '80-90':9}\n",
        "tmp = multiple.Q46.copy()\n",
        "tmp = tmp.replace(encode)"
      ],
      "execution_count": null,
      "outputs": []
    },
    {
      "cell_type": "code",
      "metadata": {
        "id": "hoSUIxZb3vBd",
        "colab_type": "code",
        "colab": {}
      },
      "source": [
        "q46=pd.get_dummies(multiple.Q46)\n",
        "q46.columns=['46_'+str(col) for col in q46.columns]\n",
        "#ndata3=pd.concat([ndata3,q46],axis=1)"
      ],
      "execution_count": null,
      "outputs": []
    },
    {
      "cell_type": "markdown",
      "metadata": {
        "id": "3r9OVVQa4XPo",
        "colab_type": "text"
      },
      "source": [
        "* Q48"
      ]
    },
    {
      "cell_type": "code",
      "metadata": {
        "id": "mta2zZZD5mKX",
        "colab_type": "code",
        "colab": {
          "base_uri": "https://localhost:8080/",
          "height": 144
        },
        "outputId": "2b8a2fde-2f45-4241-df87-ec0f8e2c907f"
      },
      "source": [
        "multiple.Q48.unique()"
      ],
      "execution_count": null,
      "outputs": [
        {
          "output_type": "execute_result",
          "data": {
            "text/plain": [
              "array(['I am confident that I can explain the outputs of most if not all ML models',\n",
              "       'I am confident that I can understand and explain the outputs of many but not all ML models',\n",
              "       'Yes, most ML models are \"black boxes\"',\n",
              "       'I view ML models as \"black boxes\" but I am confident that experts are able to explain model outputs',\n",
              "       'I do not know; I have no opinion on the matter', nan],\n",
              "      dtype=object)"
            ]
          },
          "metadata": {
            "tags": []
          },
          "execution_count": 98
        }
      ]
    },
    {
      "cell_type": "code",
      "metadata": {
        "id": "P5Yw5-0S4clN",
        "colab_type": "code",
        "colab": {}
      },
      "source": [
        "q48=pd.get_dummies(multiple.Q48)\n",
        "q48.columns=['48_'+str(col) for col in q48.columns]\n",
        "ndata3=pd.concat([ndata3,q48],axis=1)"
      ],
      "execution_count": null,
      "outputs": []
    },
    {
      "cell_type": "code",
      "metadata": {
        "id": "SsjpX4FC7TjC",
        "colab_type": "code",
        "colab": {
          "base_uri": "https://localhost:8080/",
          "height": 35
        },
        "outputId": "dd95cb41-04c5-44c9-bca0-c8ccd6ee9dcc"
      },
      "source": [
        "ndata3.shape"
      ],
      "execution_count": null,
      "outputs": [
        {
          "output_type": "execute_result",
          "data": {
            "text/plain": [
              "(10200, 438)"
            ]
          },
          "metadata": {
            "tags": []
          },
          "execution_count": 100
        }
      ]
    },
    {
      "cell_type": "markdown",
      "metadata": {
        "id": "gSaMmf_S5xIP",
        "colab_type": "text"
      },
      "source": [
        "## Salary : "
      ]
    },
    {
      "cell_type": "code",
      "metadata": {
        "id": "whMm6Dfy57b1",
        "colab_type": "code",
        "colab": {}
      },
      "source": [
        "le = preprocessing.LabelEncoder()"
      ],
      "execution_count": null,
      "outputs": []
    },
    {
      "cell_type": "code",
      "metadata": {
        "id": "HG1Fw8z19dIi",
        "colab_type": "code",
        "colab": {
          "base_uri": "https://localhost:8080/",
          "height": 106
        },
        "outputId": "4440a0d9-4327-40dc-d4dc-4f41788f889d"
      },
      "source": [
        "le.fit(multiple.value)\n",
        "le.classes_"
      ],
      "execution_count": null,
      "outputs": [
        {
          "output_type": "execute_result",
          "data": {
            "text/plain": [
              "array(['0-10,000', '10-20,000', '100-125,000', '125-150,000',\n",
              "       '150-200,000', '20-30,000', '200-250,000', '250-300,000',\n",
              "       '30-40,000', '300-400,000', '40-50,000', '400-500,000',\n",
              "       '50-60,000', '500,000+', '60-70,000', '70-80,000', '80-90,000',\n",
              "       '90-100,000'], dtype=object)"
            ]
          },
          "metadata": {
            "tags": []
          },
          "execution_count": 102
        }
      ]
    },
    {
      "cell_type": "code",
      "metadata": {
        "id": "YRLgMAp_9gMu",
        "colab_type": "code",
        "colab": {}
      },
      "source": [
        "salary = le.transform(multiple.value)\n",
        "salary = pd.Series(salary)\n",
        "salary = salary.rename(\"value\")"
      ],
      "execution_count": null,
      "outputs": []
    },
    {
      "cell_type": "code",
      "metadata": {
        "id": "wMAazFyfBkJA",
        "colab_type": "code",
        "colab": {
          "base_uri": "https://localhost:8080/",
          "height": 35
        },
        "outputId": "d336d2cd-941a-43dd-892b-6f2fbc7a4bf4"
      },
      "source": [
        "len(salary)"
      ],
      "execution_count": null,
      "outputs": [
        {
          "output_type": "execute_result",
          "data": {
            "text/plain": [
              "10200"
            ]
          },
          "metadata": {
            "tags": []
          },
          "execution_count": 104
        }
      ]
    },
    {
      "cell_type": "code",
      "metadata": {
        "id": "MyeucUGw6FoF",
        "colab_type": "code",
        "colab": {}
      },
      "source": [
        "df_labeled = pd.concat([ndata3, salary], axis=1)"
      ],
      "execution_count": null,
      "outputs": []
    },
    {
      "cell_type": "code",
      "metadata": {
        "id": "TTt4D6SL6GA6",
        "colab_type": "code",
        "colab": {
          "base_uri": "https://localhost:8080/",
          "height": 35
        },
        "outputId": "315c5cae-5ed9-4c7c-f48c-01b2f467159f"
      },
      "source": [
        "df_labeled.shape"
      ],
      "execution_count": null,
      "outputs": [
        {
          "output_type": "execute_result",
          "data": {
            "text/plain": [
              "(12856, 439)"
            ]
          },
          "metadata": {
            "tags": []
          },
          "execution_count": 106
        }
      ]
    },
    {
      "cell_type": "markdown",
      "metadata": {
        "id": "gINIDGCrOi6M",
        "colab_type": "text"
      },
      "source": [
        "* 상위 20% 변수 생성 "
      ]
    },
    {
      "cell_type": "code",
      "metadata": {
        "id": "TSPXRBGAJTkN",
        "colab_type": "code",
        "colab": {}
      },
      "source": [
        "# Define target variable\n",
        "compensation = multiple.value.str.replace(',', '').str.replace('500000\\+', '500-500000').str.split('-')\n",
        "multiple['yearly_compensation_numerical'] = compensation.apply(lambda x: (int(x[0]) * 1000 + int(x[1]))/ 2) / 1000 # it is calculated in thousand dollars"
      ],
      "execution_count": null,
      "outputs": []
    },
    {
      "cell_type": "code",
      "metadata": {
        "id": "AFPo52QJNthh",
        "colab_type": "code",
        "colab": {
          "base_uri": "https://localhost:8080/",
          "height": 35
        },
        "outputId": "a43768e9-ec83-4fcd-9646-e50c3b23d7a0"
      },
      "source": [
        "top20flag = multiple.yearly_compensation_numerical.quantile(0.8)\n",
        "print(top20flag)"
      ],
      "execution_count": null,
      "outputs": [
        {
          "output_type": "stream",
          "text": [
            "75.0\n"
          ],
          "name": "stdout"
        }
      ]
    },
    {
      "cell_type": "code",
      "metadata": {
        "id": "v95KTQHeNxAa",
        "colab_type": "code",
        "colab": {}
      },
      "source": [
        "clean_dataset = (multiple.yearly_compensation_numerical > top20flag).reset_index().astype(int)\n",
        "clean_dataset.columns = ['index', 'top20']"
      ],
      "execution_count": null,
      "outputs": []
    },
    {
      "cell_type": "code",
      "metadata": {
        "id": "Lfj9i4bgCfCl",
        "colab_type": "code",
        "colab": {
          "base_uri": "https://localhost:8080/",
          "height": 35
        },
        "outputId": "91cf9553-8cff-47b7-b32b-5bd038cea362"
      },
      "source": [
        "len(clean_dataset.loc[clean_dataset['top20']==1, :])"
      ],
      "execution_count": null,
      "outputs": [
        {
          "output_type": "execute_result",
          "data": {
            "text/plain": [
              "1971"
            ]
          },
          "metadata": {
            "tags": []
          },
          "execution_count": 110
        }
      ]
    },
    {
      "cell_type": "code",
      "metadata": {
        "id": "3REb0hD7Ohhk",
        "colab_type": "code",
        "colab": {
          "base_uri": "https://localhost:8080/",
          "height": 35
        },
        "outputId": "d61915e6-c9f2-4396-90e6-7efae6d909a9"
      },
      "source": [
        "clean_dataset.shape"
      ],
      "execution_count": null,
      "outputs": [
        {
          "output_type": "execute_result",
          "data": {
            "text/plain": [
              "(10200, 2)"
            ]
          },
          "metadata": {
            "tags": []
          },
          "execution_count": 111
        }
      ]
    },
    {
      "cell_type": "code",
      "metadata": {
        "id": "aiIZHSLLPIvf",
        "colab_type": "code",
        "colab": {}
      },
      "source": [
        "ndata_top = pd.DataFrame()\n",
        "ndata_top = ndata3.copy()"
      ],
      "execution_count": null,
      "outputs": []
    },
    {
      "cell_type": "code",
      "metadata": {
        "id": "sZy78jJy75L0",
        "colab_type": "code",
        "colab": {
          "base_uri": "https://localhost:8080/",
          "height": 281
        },
        "outputId": "ba90034f-453b-4520-fc4d-7dc6cdff08b0"
      },
      "source": [
        "q_overlap = ndata3[[i for i in ndata3.columns if '27_' in i]]\n",
        "q_overlap.head()"
      ],
      "execution_count": null,
      "outputs": [
        {
          "output_type": "execute_result",
          "data": {
            "text/html": [
              "<div>\n",
              "<style scoped>\n",
              "    .dataframe tbody tr th:only-of-type {\n",
              "        vertical-align: middle;\n",
              "    }\n",
              "\n",
              "    .dataframe tbody tr th {\n",
              "        vertical-align: top;\n",
              "    }\n",
              "\n",
              "    .dataframe thead th {\n",
              "        text-align: right;\n",
              "    }\n",
              "</style>\n",
              "<table border=\"1\" class=\"dataframe\">\n",
              "  <thead>\n",
              "    <tr style=\"text-align: right;\">\n",
              "      <th></th>\n",
              "      <th>27_AWS Elastic Compute Cloud (EC2)</th>\n",
              "      <th>27_Google Compute Engine</th>\n",
              "      <th>27_AWS Elastic Beanstalk</th>\n",
              "      <th>27_Google App Engine</th>\n",
              "      <th>27_Google Kubernetes Engine</th>\n",
              "      <th>27_AWS Lambda</th>\n",
              "      <th>27_Google Cloud Functions</th>\n",
              "      <th>27_AWS Batch</th>\n",
              "      <th>27_Azure Virtual Machines</th>\n",
              "      <th>27_Azure Container Service</th>\n",
              "      <th>27_Azure Functions</th>\n",
              "      <th>27_Azure Event Grid</th>\n",
              "      <th>27_Azure Batch</th>\n",
              "      <th>27_Azure Kubernetes Service</th>\n",
              "      <th>27_IBM Cloud Virtual Servers</th>\n",
              "      <th>27_IBM Cloud Container Registry</th>\n",
              "      <th>27_IBM Cloud Kubernetes Service</th>\n",
              "      <th>27_IBM Cloud Foundry</th>\n",
              "      <th>27_None</th>\n",
              "      <th>27_Other</th>\n",
              "    </tr>\n",
              "  </thead>\n",
              "  <tbody>\n",
              "    <tr>\n",
              "      <th>0</th>\n",
              "      <td>0</td>\n",
              "      <td>0</td>\n",
              "      <td>0</td>\n",
              "      <td>0</td>\n",
              "      <td>0</td>\n",
              "      <td>0</td>\n",
              "      <td>0</td>\n",
              "      <td>0</td>\n",
              "      <td>0</td>\n",
              "      <td>0</td>\n",
              "      <td>0</td>\n",
              "      <td>0</td>\n",
              "      <td>0</td>\n",
              "      <td>0</td>\n",
              "      <td>0</td>\n",
              "      <td>0</td>\n",
              "      <td>0</td>\n",
              "      <td>0</td>\n",
              "      <td>0</td>\n",
              "      <td>0</td>\n",
              "    </tr>\n",
              "    <tr>\n",
              "      <th>1</th>\n",
              "      <td>0</td>\n",
              "      <td>0</td>\n",
              "      <td>0</td>\n",
              "      <td>0</td>\n",
              "      <td>1</td>\n",
              "      <td>0</td>\n",
              "      <td>0</td>\n",
              "      <td>0</td>\n",
              "      <td>0</td>\n",
              "      <td>0</td>\n",
              "      <td>0</td>\n",
              "      <td>0</td>\n",
              "      <td>0</td>\n",
              "      <td>0</td>\n",
              "      <td>0</td>\n",
              "      <td>0</td>\n",
              "      <td>0</td>\n",
              "      <td>0</td>\n",
              "      <td>0</td>\n",
              "      <td>0</td>\n",
              "    </tr>\n",
              "    <tr>\n",
              "      <th>3</th>\n",
              "      <td>0</td>\n",
              "      <td>0</td>\n",
              "      <td>1</td>\n",
              "      <td>0</td>\n",
              "      <td>0</td>\n",
              "      <td>0</td>\n",
              "      <td>0</td>\n",
              "      <td>0</td>\n",
              "      <td>0</td>\n",
              "      <td>0</td>\n",
              "      <td>0</td>\n",
              "      <td>0</td>\n",
              "      <td>0</td>\n",
              "      <td>0</td>\n",
              "      <td>0</td>\n",
              "      <td>0</td>\n",
              "      <td>0</td>\n",
              "      <td>0</td>\n",
              "      <td>0</td>\n",
              "      <td>0</td>\n",
              "    </tr>\n",
              "    <tr>\n",
              "      <th>5</th>\n",
              "      <td>1</td>\n",
              "      <td>0</td>\n",
              "      <td>1</td>\n",
              "      <td>1</td>\n",
              "      <td>0</td>\n",
              "      <td>0</td>\n",
              "      <td>0</td>\n",
              "      <td>0</td>\n",
              "      <td>0</td>\n",
              "      <td>0</td>\n",
              "      <td>0</td>\n",
              "      <td>0</td>\n",
              "      <td>0</td>\n",
              "      <td>0</td>\n",
              "      <td>0</td>\n",
              "      <td>0</td>\n",
              "      <td>0</td>\n",
              "      <td>0</td>\n",
              "      <td>0</td>\n",
              "      <td>0</td>\n",
              "    </tr>\n",
              "    <tr>\n",
              "      <th>8</th>\n",
              "      <td>0</td>\n",
              "      <td>0</td>\n",
              "      <td>0</td>\n",
              "      <td>0</td>\n",
              "      <td>0</td>\n",
              "      <td>0</td>\n",
              "      <td>0</td>\n",
              "      <td>0</td>\n",
              "      <td>0</td>\n",
              "      <td>0</td>\n",
              "      <td>0</td>\n",
              "      <td>0</td>\n",
              "      <td>0</td>\n",
              "      <td>0</td>\n",
              "      <td>0</td>\n",
              "      <td>0</td>\n",
              "      <td>0</td>\n",
              "      <td>0</td>\n",
              "      <td>0</td>\n",
              "      <td>0</td>\n",
              "    </tr>\n",
              "  </tbody>\n",
              "</table>\n",
              "</div>"
            ],
            "text/plain": [
              "   27_AWS Elastic Compute Cloud (EC2)  ...  27_Other\n",
              "0                                   0  ...         0\n",
              "1                                   0  ...         0\n",
              "3                                   0  ...         0\n",
              "5                                   1  ...         0\n",
              "8                                   0  ...         0\n",
              "\n",
              "[5 rows x 20 columns]"
            ]
          },
          "metadata": {
            "tags": []
          },
          "execution_count": 113
        }
      ]
    },
    {
      "cell_type": "code",
      "metadata": {
        "id": "FEnH9wXjO__e",
        "colab_type": "code",
        "colab": {}
      },
      "source": [
        "# Join with treated questions\n",
        "for key, value in ndata_top.items():\n",
        "    value = value.reset_index(drop=True)\n",
        "    clean_dataset = clean_dataset.join(value, how='left')"
      ],
      "execution_count": null,
      "outputs": []
    },
    {
      "cell_type": "code",
      "metadata": {
        "id": "wuzWoJHCPWCi",
        "colab_type": "code",
        "colab": {
          "base_uri": "https://localhost:8080/",
          "height": 372
        },
        "outputId": "21293a52-ddfa-4c98-ff50-e60c6b0ecbc9"
      },
      "source": [
        "clean_dataset.top20[1:20]"
      ],
      "execution_count": null,
      "outputs": [
        {
          "output_type": "execute_result",
          "data": {
            "text/plain": [
              "1     0\n",
              "2     0\n",
              "3     1\n",
              "4     0\n",
              "5     0\n",
              "6     0\n",
              "7     0\n",
              "8     0\n",
              "9     0\n",
              "10    0\n",
              "11    1\n",
              "12    0\n",
              "13    0\n",
              "14    0\n",
              "15    1\n",
              "16    0\n",
              "17    1\n",
              "18    0\n",
              "19    1\n",
              "Name: top20, dtype: int64"
            ]
          },
          "metadata": {
            "tags": []
          },
          "execution_count": 115
        }
      ]
    },
    {
      "cell_type": "code",
      "metadata": {
        "id": "0wDVvNHhPwL1",
        "colab_type": "code",
        "colab": {
          "base_uri": "https://localhost:8080/",
          "height": 372
        },
        "outputId": "5106320d-a93c-43a9-c440-0594b069140c"
      },
      "source": [
        "multiple.value[1:20]"
      ],
      "execution_count": null,
      "outputs": [
        {
          "output_type": "execute_result",
          "data": {
            "text/plain": [
              "1        0-10,000\n",
              "3       20-30,000\n",
              "5     125-150,000\n",
              "8       10-20,000\n",
              "9       30-40,000\n",
              "10      50-60,000\n",
              "11      30-40,000\n",
              "13       0-10,000\n",
              "14      70-80,000\n",
              "15       0-10,000\n",
              "16      80-90,000\n",
              "17      10-20,000\n",
              "18      10-20,000\n",
              "20      70-80,000\n",
              "21    100-125,000\n",
              "23      60-70,000\n",
              "24     90-100,000\n",
              "26      30-40,000\n",
              "27      80-90,000\n",
              "Name: value, dtype: object"
            ]
          },
          "metadata": {
            "tags": []
          },
          "execution_count": 116
        }
      ]
    },
    {
      "cell_type": "code",
      "metadata": {
        "id": "uut48ljeP7za",
        "colab_type": "code",
        "colab": {}
      },
      "source": [
        "clean_dataset = clean_dataset.drop('index', axis=1)"
      ],
      "execution_count": null,
      "outputs": []
    },
    {
      "cell_type": "code",
      "metadata": {
        "id": "pAfxT9ieBP7e",
        "colab_type": "code",
        "colab": {
          "base_uri": "https://localhost:8080/",
          "height": 35
        },
        "outputId": "f9bf4b77-c341-4edd-f371-00467dcb4fa5"
      },
      "source": [
        "df_labeled.columns[399:401]"
      ],
      "execution_count": null,
      "outputs": [
        {
          "output_type": "execute_result",
          "data": {
            "text/plain": [
              "Index(['47_Other', '47_Visualising and interpreting predicted vs. actual'], dtype='object')"
            ]
          },
          "metadata": {
            "tags": []
          },
          "execution_count": 118
        }
      ]
    },
    {
      "cell_type": "code",
      "metadata": {
        "id": "aizoO3_RQEng",
        "colab_type": "code",
        "colab": {
          "base_uri": "https://localhost:8080/",
          "height": 35
        },
        "outputId": "66f52038-d639-4827-af00-8ac3e68ee9a1"
      },
      "source": [
        "clean_dataset.shape"
      ],
      "execution_count": null,
      "outputs": [
        {
          "output_type": "execute_result",
          "data": {
            "text/plain": [
              "(10200, 439)"
            ]
          },
          "metadata": {
            "tags": []
          },
          "execution_count": 119
        }
      ]
    },
    {
      "cell_type": "code",
      "metadata": {
        "id": "TwZ8k856QRos",
        "colab_type": "code",
        "colab": {}
      },
      "source": [
        "[col for col in clean_dataset.columns if '47_' in col]\n",
        "len(clean_dataset['47_Visualising and interpreting predicted vs. actual'][clean_dataset['47_Visualising and interpreting predicted vs. actual']==1])\n",
        "clean_dataset = clean_dataset.drop(['47_Visualising and interpreting predicted vs. actual'],axis=1)"
      ],
      "execution_count": null,
      "outputs": []
    },
    {
      "cell_type": "code",
      "metadata": {
        "id": "_7EQ_CaVUaU9",
        "colab_type": "code",
        "colab": {
          "base_uri": "https://localhost:8080/",
          "height": 321
        },
        "outputId": "f42cb759-165c-42b0-896d-e177dfe390e1"
      },
      "source": [
        "colnames = clean_dataset.columns\n",
        "colnames[390:410]"
      ],
      "execution_count": null,
      "outputs": [
        {
          "output_type": "execute_result",
          "data": {
            "text/plain": [
              "Index(['47_Create partial dependence plots',\n",
              "       '47_Dimensionality reduction techniques',\n",
              "       '47_Attention mapping/saliency mapping',\n",
              "       '47_Plot predicted vs. actual results', '47_Print out a decision tree',\n",
              "       '47_Sensitivity analysis/perturbation importance', '47_LIME functions',\n",
              "       '47_ELI5 functions', '47_SHAP functions',\n",
              "       '47_None/I do not use these model explanation techniques', '47_Other',\n",
              "       '49_Share code on Github or a similar code-sharing repository',\n",
              "       '49_Share both data and code on Github or a similar code-sharing repository',\n",
              "       '49_Share data, code, and environment using a hosted service (Kaggle Kernels, Google Colaboratory, Amazon SageMaker, etc.)',\n",
              "       '49_Share data, code, and environment using containers (Docker, etc.)',\n",
              "       '49_Share code, data, and environment using virtual machines (VirtualBox, etc.)',\n",
              "       '49_Make sure the code is well documented',\n",
              "       '49_Make sure the code is human-readable', '49_Define all random seeds',\n",
              "       '49_Define relative rather than absolute file paths'],\n",
              "      dtype='object')"
            ]
          },
          "metadata": {
            "tags": []
          },
          "execution_count": 121
        }
      ]
    },
    {
      "cell_type": "code",
      "metadata": {
        "id": "fV6SP1uvVnLO",
        "colab_type": "code",
        "colab": {}
      },
      "source": [
        "percent_answer = clean_dataset.sum(axis=0) / clean_dataset.shape[0]\n",
        "\n",
        "for row in percent_answer.iteritems():\n",
        "  if row[1] < 0.05 :\n",
        "    clean_dataset = clean_dataset.drop(row[0], axis=1)"
      ],
      "execution_count": null,
      "outputs": []
    },
    {
      "cell_type": "markdown",
      "metadata": {
        "id": "p9Hp5VQlWqzp",
        "colab_type": "text"
      },
      "source": [
        "* Dropping answers that have less than 5% of repondents - to avoid overfitting. \n",
        "* 모든 class를 one hot encoding 시켰기 때문에, 5% 미만의 응답을 가진 것도 모두 변수화 되어있다. \n",
        "* 이런 부분까지 fitting한다면 이 데이터에 대해서만 overfitting이 일어날 가능성이 크다고 판단해, 총 응답 수가 5%보다 낮은 변수/응답은 모두 제거하였다. \n",
        "* + Dimension Reduction 을 위해서 진행. "
      ]
    },
    {
      "cell_type": "code",
      "metadata": {
        "id": "3aVgwYWDWL_T",
        "colab_type": "code",
        "colab": {
          "base_uri": "https://localhost:8080/",
          "height": 35
        },
        "outputId": "a56ad783-932f-4688-d94c-86f5d80dc75d"
      },
      "source": [
        "clean_dataset.shape"
      ],
      "execution_count": null,
      "outputs": [
        {
          "output_type": "execute_result",
          "data": {
            "text/plain": [
              "(10200, 248)"
            ]
          },
          "metadata": {
            "tags": []
          },
          "execution_count": 123
        }
      ]
    },
    {
      "cell_type": "code",
      "metadata": {
        "id": "JPcF1ZK1W0CF",
        "colab_type": "code",
        "colab": {
          "base_uri": "https://localhost:8080/",
          "height": 463
        },
        "outputId": "a7bffa12-d054-4093-8ed3-2712033d0812"
      },
      "source": [
        "clean_dataset.head()"
      ],
      "execution_count": null,
      "outputs": [
        {
          "output_type": "execute_result",
          "data": {
            "text/html": [
              "<div>\n",
              "<style scoped>\n",
              "    .dataframe tbody tr th:only-of-type {\n",
              "        vertical-align: middle;\n",
              "    }\n",
              "\n",
              "    .dataframe tbody tr th {\n",
              "        vertical-align: top;\n",
              "    }\n",
              "\n",
              "    .dataframe thead th {\n",
              "        text-align: right;\n",
              "    }\n",
              "</style>\n",
              "<table border=\"1\" class=\"dataframe\">\n",
              "  <thead>\n",
              "    <tr style=\"text-align: right;\">\n",
              "      <th></th>\n",
              "      <th>top20</th>\n",
              "      <th>duration</th>\n",
              "      <th>1_Female</th>\n",
              "      <th>1_Male</th>\n",
              "      <th>2_18-21</th>\n",
              "      <th>2_22-24</th>\n",
              "      <th>2_25-29</th>\n",
              "      <th>2_30-34</th>\n",
              "      <th>2_35-39</th>\n",
              "      <th>2_40-44</th>\n",
              "      <th>3_Asia</th>\n",
              "      <th>3_Europe</th>\n",
              "      <th>3_NorthAmerica</th>\n",
              "      <th>3_SouthAmerica</th>\n",
              "      <th>4_Bachelor’s degree</th>\n",
              "      <th>4_Doctoral degree</th>\n",
              "      <th>4_Master’s degree</th>\n",
              "      <th>Data Analyst</th>\n",
              "      <th>Data Engineer/DBA</th>\n",
              "      <th>Data Scientist</th>\n",
              "      <th>Software Engineer</th>\n",
              "      <th>Statistician/Research Scientist</th>\n",
              "      <th>Student</th>\n",
              "      <th>5_A business discipline (accounting, economics, finance, etc.)</th>\n",
              "      <th>5_Computer science (software engineering, etc.)</th>\n",
              "      <th>5_Engineering (non-computer focused)</th>\n",
              "      <th>5_Mathematics or statistics</th>\n",
              "      <th>5_Physics or astronomy</th>\n",
              "      <th>7_Academics/Education</th>\n",
              "      <th>7_Accounting/Finance</th>\n",
              "      <th>7_Computers/Technology</th>\n",
              "      <th>7_Student</th>\n",
              "      <th>8_0-1</th>\n",
              "      <th>8_1-2</th>\n",
              "      <th>8_10-15</th>\n",
              "      <th>8_2-3</th>\n",
              "      <th>8_3-4</th>\n",
              "      <th>8_4-5</th>\n",
              "      <th>8_5-10</th>\n",
              "      <th>10_I do not know</th>\n",
              "      <th>...</th>\n",
              "      <th>47_Examine feature importances</th>\n",
              "      <th>47_Plot decision boundaries</th>\n",
              "      <th>47_Create partial dependence plots</th>\n",
              "      <th>47_Dimensionality reduction techniques</th>\n",
              "      <th>47_Attention mapping/saliency mapping</th>\n",
              "      <th>47_Plot predicted vs. actual results</th>\n",
              "      <th>47_Print out a decision tree</th>\n",
              "      <th>47_Sensitivity analysis/perturbation importance</th>\n",
              "      <th>47_LIME functions</th>\n",
              "      <th>47_None/I do not use these model explanation techniques</th>\n",
              "      <th>49_Share code on Github or a similar code-sharing repository</th>\n",
              "      <th>49_Share both data and code on Github or a similar code-sharing repository</th>\n",
              "      <th>49_Share data, code, and environment using a hosted service (Kaggle Kernels, Google Colaboratory, Amazon SageMaker, etc.)</th>\n",
              "      <th>49_Share data, code, and environment using containers (Docker, etc.)</th>\n",
              "      <th>49_Share code, data, and environment using virtual machines (VirtualBox, etc.)</th>\n",
              "      <th>49_Make sure the code is well documented</th>\n",
              "      <th>49_Make sure the code is human-readable</th>\n",
              "      <th>49_Define all random seeds</th>\n",
              "      <th>49_Define relative rather than absolute file paths</th>\n",
              "      <th>49_Include a text file describing all dependencies</th>\n",
              "      <th>50_Too expensive</th>\n",
              "      <th>50_Too time-consuming</th>\n",
              "      <th>50_Requires too much technical knowledge</th>\n",
              "      <th>50_Afraid that others will use my work without giving proper credit</th>\n",
              "      <th>50_Not enough incentives to share my work</th>\n",
              "      <th>50_I had never considered making my work easier for others to reproduce</th>\n",
              "      <th>50_None of these reasons apply to me</th>\n",
              "      <th>35_Q35_Part_1</th>\n",
              "      <th>35_Q35_Part_2</th>\n",
              "      <th>35_Q35_Part_3</th>\n",
              "      <th>35_Q35_Part_4</th>\n",
              "      <th>35_Q35_Part_5</th>\n",
              "      <th>40_Independent projects are equally important as academic achievements</th>\n",
              "      <th>40_Independent projects are much more important than academic achievements</th>\n",
              "      <th>40_Independent projects are slightly more important than academic achievements</th>\n",
              "      <th>48_I am confident that I can explain the outputs of most if not all ML models</th>\n",
              "      <th>48_I am confident that I can understand and explain the outputs of many but not all ML models</th>\n",
              "      <th>48_I do not know; I have no opinion on the matter</th>\n",
              "      <th>48_I view ML models as \"black boxes\" but I am confident that experts are able to explain model outputs</th>\n",
              "      <th>48_Yes, most ML models are \"black boxes\"</th>\n",
              "    </tr>\n",
              "  </thead>\n",
              "  <tbody>\n",
              "    <tr>\n",
              "      <th>0</th>\n",
              "      <td>0</td>\n",
              "      <td>718</td>\n",
              "      <td>1</td>\n",
              "      <td>0</td>\n",
              "      <td>0</td>\n",
              "      <td>0</td>\n",
              "      <td>0</td>\n",
              "      <td>1</td>\n",
              "      <td>0</td>\n",
              "      <td>0</td>\n",
              "      <td>0</td>\n",
              "      <td>0</td>\n",
              "      <td>1</td>\n",
              "      <td>0</td>\n",
              "      <td>0</td>\n",
              "      <td>0</td>\n",
              "      <td>1</td>\n",
              "      <td>0</td>\n",
              "      <td>0</td>\n",
              "      <td>0</td>\n",
              "      <td>0</td>\n",
              "      <td>0</td>\n",
              "      <td>1</td>\n",
              "      <td>0</td>\n",
              "      <td>1</td>\n",
              "      <td>0</td>\n",
              "      <td>0</td>\n",
              "      <td>0</td>\n",
              "      <td>0</td>\n",
              "      <td>0</td>\n",
              "      <td>0</td>\n",
              "      <td>1</td>\n",
              "      <td>1</td>\n",
              "      <td>0</td>\n",
              "      <td>0</td>\n",
              "      <td>0</td>\n",
              "      <td>0</td>\n",
              "      <td>0</td>\n",
              "      <td>0</td>\n",
              "      <td>1</td>\n",
              "      <td>...</td>\n",
              "      <td>1</td>\n",
              "      <td>0</td>\n",
              "      <td>0</td>\n",
              "      <td>0</td>\n",
              "      <td>0</td>\n",
              "      <td>1</td>\n",
              "      <td>0</td>\n",
              "      <td>0</td>\n",
              "      <td>0</td>\n",
              "      <td>0</td>\n",
              "      <td>0</td>\n",
              "      <td>0</td>\n",
              "      <td>0</td>\n",
              "      <td>0</td>\n",
              "      <td>0</td>\n",
              "      <td>0</td>\n",
              "      <td>1</td>\n",
              "      <td>1</td>\n",
              "      <td>0</td>\n",
              "      <td>1</td>\n",
              "      <td>0</td>\n",
              "      <td>1</td>\n",
              "      <td>0</td>\n",
              "      <td>0</td>\n",
              "      <td>0</td>\n",
              "      <td>0</td>\n",
              "      <td>0</td>\n",
              "      <td>0.0</td>\n",
              "      <td>0.0</td>\n",
              "      <td>0.0</td>\n",
              "      <td>1.0</td>\n",
              "      <td>0.0</td>\n",
              "      <td>1</td>\n",
              "      <td>0</td>\n",
              "      <td>0</td>\n",
              "      <td>1</td>\n",
              "      <td>0</td>\n",
              "      <td>0</td>\n",
              "      <td>0</td>\n",
              "      <td>0</td>\n",
              "    </tr>\n",
              "    <tr>\n",
              "      <th>1</th>\n",
              "      <td>0</td>\n",
              "      <td>731</td>\n",
              "      <td>0</td>\n",
              "      <td>1</td>\n",
              "      <td>0</td>\n",
              "      <td>1</td>\n",
              "      <td>0</td>\n",
              "      <td>0</td>\n",
              "      <td>0</td>\n",
              "      <td>0</td>\n",
              "      <td>1</td>\n",
              "      <td>0</td>\n",
              "      <td>0</td>\n",
              "      <td>0</td>\n",
              "      <td>0</td>\n",
              "      <td>0</td>\n",
              "      <td>1</td>\n",
              "      <td>0</td>\n",
              "      <td>0</td>\n",
              "      <td>0</td>\n",
              "      <td>0</td>\n",
              "      <td>0</td>\n",
              "      <td>1</td>\n",
              "      <td>0</td>\n",
              "      <td>0</td>\n",
              "      <td>0</td>\n",
              "      <td>1</td>\n",
              "      <td>0</td>\n",
              "      <td>0</td>\n",
              "      <td>0</td>\n",
              "      <td>0</td>\n",
              "      <td>1</td>\n",
              "      <td>1</td>\n",
              "      <td>0</td>\n",
              "      <td>0</td>\n",
              "      <td>0</td>\n",
              "      <td>0</td>\n",
              "      <td>0</td>\n",
              "      <td>0</td>\n",
              "      <td>1</td>\n",
              "      <td>...</td>\n",
              "      <td>0</td>\n",
              "      <td>0</td>\n",
              "      <td>1</td>\n",
              "      <td>0</td>\n",
              "      <td>0</td>\n",
              "      <td>0</td>\n",
              "      <td>0</td>\n",
              "      <td>0</td>\n",
              "      <td>0</td>\n",
              "      <td>0</td>\n",
              "      <td>0</td>\n",
              "      <td>0</td>\n",
              "      <td>0</td>\n",
              "      <td>0</td>\n",
              "      <td>0</td>\n",
              "      <td>0</td>\n",
              "      <td>0</td>\n",
              "      <td>0</td>\n",
              "      <td>1</td>\n",
              "      <td>0</td>\n",
              "      <td>0</td>\n",
              "      <td>1</td>\n",
              "      <td>0</td>\n",
              "      <td>0</td>\n",
              "      <td>1</td>\n",
              "      <td>0</td>\n",
              "      <td>0</td>\n",
              "      <td>0.2</td>\n",
              "      <td>0.4</td>\n",
              "      <td>0.2</td>\n",
              "      <td>0.2</td>\n",
              "      <td>0.0</td>\n",
              "      <td>0</td>\n",
              "      <td>0</td>\n",
              "      <td>1</td>\n",
              "      <td>0</td>\n",
              "      <td>1</td>\n",
              "      <td>0</td>\n",
              "      <td>0</td>\n",
              "      <td>0</td>\n",
              "    </tr>\n",
              "    <tr>\n",
              "      <th>2</th>\n",
              "      <td>0</td>\n",
              "      <td>751</td>\n",
              "      <td>0</td>\n",
              "      <td>1</td>\n",
              "      <td>0</td>\n",
              "      <td>0</td>\n",
              "      <td>0</td>\n",
              "      <td>1</td>\n",
              "      <td>0</td>\n",
              "      <td>0</td>\n",
              "      <td>0</td>\n",
              "      <td>1</td>\n",
              "      <td>0</td>\n",
              "      <td>0</td>\n",
              "      <td>0</td>\n",
              "      <td>0</td>\n",
              "      <td>1</td>\n",
              "      <td>0</td>\n",
              "      <td>0</td>\n",
              "      <td>0</td>\n",
              "      <td>1</td>\n",
              "      <td>0</td>\n",
              "      <td>0</td>\n",
              "      <td>0</td>\n",
              "      <td>0</td>\n",
              "      <td>1</td>\n",
              "      <td>0</td>\n",
              "      <td>0</td>\n",
              "      <td>0</td>\n",
              "      <td>0</td>\n",
              "      <td>0</td>\n",
              "      <td>0</td>\n",
              "      <td>0</td>\n",
              "      <td>0</td>\n",
              "      <td>0</td>\n",
              "      <td>0</td>\n",
              "      <td>1</td>\n",
              "      <td>0</td>\n",
              "      <td>0</td>\n",
              "      <td>0</td>\n",
              "      <td>...</td>\n",
              "      <td>0</td>\n",
              "      <td>0</td>\n",
              "      <td>0</td>\n",
              "      <td>1</td>\n",
              "      <td>0</td>\n",
              "      <td>1</td>\n",
              "      <td>1</td>\n",
              "      <td>0</td>\n",
              "      <td>0</td>\n",
              "      <td>0</td>\n",
              "      <td>0</td>\n",
              "      <td>0</td>\n",
              "      <td>1</td>\n",
              "      <td>0</td>\n",
              "      <td>0</td>\n",
              "      <td>1</td>\n",
              "      <td>1</td>\n",
              "      <td>1</td>\n",
              "      <td>0</td>\n",
              "      <td>1</td>\n",
              "      <td>0</td>\n",
              "      <td>1</td>\n",
              "      <td>0</td>\n",
              "      <td>1</td>\n",
              "      <td>0</td>\n",
              "      <td>0</td>\n",
              "      <td>0</td>\n",
              "      <td>0.7</td>\n",
              "      <td>0.3</td>\n",
              "      <td>0.0</td>\n",
              "      <td>0.0</td>\n",
              "      <td>0.0</td>\n",
              "      <td>1</td>\n",
              "      <td>0</td>\n",
              "      <td>0</td>\n",
              "      <td>0</td>\n",
              "      <td>1</td>\n",
              "      <td>0</td>\n",
              "      <td>0</td>\n",
              "      <td>0</td>\n",
              "    </tr>\n",
              "    <tr>\n",
              "      <th>3</th>\n",
              "      <td>1</td>\n",
              "      <td>823</td>\n",
              "      <td>0</td>\n",
              "      <td>1</td>\n",
              "      <td>0</td>\n",
              "      <td>0</td>\n",
              "      <td>0</td>\n",
              "      <td>0</td>\n",
              "      <td>0</td>\n",
              "      <td>1</td>\n",
              "      <td>0</td>\n",
              "      <td>0</td>\n",
              "      <td>1</td>\n",
              "      <td>0</td>\n",
              "      <td>0</td>\n",
              "      <td>0</td>\n",
              "      <td>1</td>\n",
              "      <td>0</td>\n",
              "      <td>0</td>\n",
              "      <td>1</td>\n",
              "      <td>0</td>\n",
              "      <td>0</td>\n",
              "      <td>0</td>\n",
              "      <td>0</td>\n",
              "      <td>0</td>\n",
              "      <td>1</td>\n",
              "      <td>0</td>\n",
              "      <td>0</td>\n",
              "      <td>0</td>\n",
              "      <td>0</td>\n",
              "      <td>0</td>\n",
              "      <td>0</td>\n",
              "      <td>0</td>\n",
              "      <td>0</td>\n",
              "      <td>0</td>\n",
              "      <td>0</td>\n",
              "      <td>0</td>\n",
              "      <td>0</td>\n",
              "      <td>1</td>\n",
              "      <td>0</td>\n",
              "      <td>...</td>\n",
              "      <td>0</td>\n",
              "      <td>0</td>\n",
              "      <td>0</td>\n",
              "      <td>0</td>\n",
              "      <td>0</td>\n",
              "      <td>0</td>\n",
              "      <td>0</td>\n",
              "      <td>0</td>\n",
              "      <td>0</td>\n",
              "      <td>1</td>\n",
              "      <td>0</td>\n",
              "      <td>0</td>\n",
              "      <td>0</td>\n",
              "      <td>1</td>\n",
              "      <td>0</td>\n",
              "      <td>1</td>\n",
              "      <td>1</td>\n",
              "      <td>1</td>\n",
              "      <td>0</td>\n",
              "      <td>1</td>\n",
              "      <td>0</td>\n",
              "      <td>1</td>\n",
              "      <td>0</td>\n",
              "      <td>0</td>\n",
              "      <td>1</td>\n",
              "      <td>0</td>\n",
              "      <td>0</td>\n",
              "      <td>0.0</td>\n",
              "      <td>0.0</td>\n",
              "      <td>0.1</td>\n",
              "      <td>0.8</td>\n",
              "      <td>0.1</td>\n",
              "      <td>0</td>\n",
              "      <td>0</td>\n",
              "      <td>0</td>\n",
              "      <td>0</td>\n",
              "      <td>1</td>\n",
              "      <td>0</td>\n",
              "      <td>0</td>\n",
              "      <td>0</td>\n",
              "    </tr>\n",
              "    <tr>\n",
              "      <th>4</th>\n",
              "      <td>0</td>\n",
              "      <td>846</td>\n",
              "      <td>1</td>\n",
              "      <td>0</td>\n",
              "      <td>0</td>\n",
              "      <td>0</td>\n",
              "      <td>1</td>\n",
              "      <td>0</td>\n",
              "      <td>0</td>\n",
              "      <td>0</td>\n",
              "      <td>0</td>\n",
              "      <td>0</td>\n",
              "      <td>0</td>\n",
              "      <td>1</td>\n",
              "      <td>1</td>\n",
              "      <td>0</td>\n",
              "      <td>0</td>\n",
              "      <td>1</td>\n",
              "      <td>0</td>\n",
              "      <td>0</td>\n",
              "      <td>0</td>\n",
              "      <td>0</td>\n",
              "      <td>0</td>\n",
              "      <td>1</td>\n",
              "      <td>0</td>\n",
              "      <td>0</td>\n",
              "      <td>0</td>\n",
              "      <td>0</td>\n",
              "      <td>0</td>\n",
              "      <td>0</td>\n",
              "      <td>0</td>\n",
              "      <td>0</td>\n",
              "      <td>0</td>\n",
              "      <td>1</td>\n",
              "      <td>0</td>\n",
              "      <td>0</td>\n",
              "      <td>0</td>\n",
              "      <td>0</td>\n",
              "      <td>0</td>\n",
              "      <td>0</td>\n",
              "      <td>...</td>\n",
              "      <td>1</td>\n",
              "      <td>0</td>\n",
              "      <td>1</td>\n",
              "      <td>0</td>\n",
              "      <td>0</td>\n",
              "      <td>0</td>\n",
              "      <td>1</td>\n",
              "      <td>0</td>\n",
              "      <td>0</td>\n",
              "      <td>0</td>\n",
              "      <td>0</td>\n",
              "      <td>0</td>\n",
              "      <td>0</td>\n",
              "      <td>0</td>\n",
              "      <td>0</td>\n",
              "      <td>1</td>\n",
              "      <td>1</td>\n",
              "      <td>0</td>\n",
              "      <td>0</td>\n",
              "      <td>0</td>\n",
              "      <td>0</td>\n",
              "      <td>1</td>\n",
              "      <td>0</td>\n",
              "      <td>0</td>\n",
              "      <td>0</td>\n",
              "      <td>0</td>\n",
              "      <td>0</td>\n",
              "      <td>0.3</td>\n",
              "      <td>0.4</td>\n",
              "      <td>0.0</td>\n",
              "      <td>0.0</td>\n",
              "      <td>0.3</td>\n",
              "      <td>1</td>\n",
              "      <td>0</td>\n",
              "      <td>0</td>\n",
              "      <td>0</td>\n",
              "      <td>1</td>\n",
              "      <td>0</td>\n",
              "      <td>0</td>\n",
              "      <td>0</td>\n",
              "    </tr>\n",
              "  </tbody>\n",
              "</table>\n",
              "<p>5 rows × 248 columns</p>\n",
              "</div>"
            ],
            "text/plain": [
              "   top20  ...  48_Yes, most ML models are \"black boxes\"\n",
              "0      0  ...                                         0\n",
              "1      0  ...                                         0\n",
              "2      0  ...                                         0\n",
              "3      1  ...                                         0\n",
              "4      0  ...                                         0\n",
              "\n",
              "[5 rows x 248 columns]"
            ]
          },
          "metadata": {
            "tags": []
          },
          "execution_count": 124
        }
      ]
    },
    {
      "cell_type": "code",
      "metadata": {
        "id": "Vro-weuFQbts",
        "colab_type": "code",
        "colab": {
          "base_uri": "https://localhost:8080/",
          "height": 1000
        },
        "outputId": "2adf007c-60d6-4c18-f94c-e3c0031af440"
      },
      "source": [
        "for c in clean_dataset:\n",
        "    print(c)\n",
        "    clean_dataset[c]=pd.to_numeric(clean_dataset[c])"
      ],
      "execution_count": null,
      "outputs": [
        {
          "output_type": "stream",
          "text": [
            "top20\n",
            "duration\n",
            "1_Female\n",
            "1_Male\n",
            "2_18-21\n",
            "2_22-24\n",
            "2_25-29\n",
            "2_30-34\n",
            "2_35-39\n",
            "2_40-44\n",
            "3_Asia\n",
            "3_Europe\n",
            "3_NorthAmerica\n",
            "3_SouthAmerica\n",
            "4_Bachelor’s degree\n",
            "4_Doctoral degree\n",
            "4_Master’s degree\n",
            "Data Analyst\n",
            "Data Engineer/DBA\n",
            "Data Scientist\n",
            "Software Engineer\n",
            "Statistician/Research Scientist\n",
            "Student\n",
            "5_A business discipline (accounting, economics, finance, etc.)\n",
            "5_Computer science (software engineering, etc.)\n",
            "5_Engineering (non-computer focused)\n",
            "5_Mathematics or statistics\n",
            "5_Physics or astronomy\n",
            "7_Academics/Education\n",
            "7_Accounting/Finance\n",
            "7_Computers/Technology\n",
            "7_Student\n",
            "8_0-1\n",
            "8_1-2\n",
            "8_10-15\n",
            "8_2-3\n",
            "8_3-4\n",
            "8_4-5\n",
            "8_5-10\n",
            "10_I do not know\n",
            "10_No (we do not use ML methods)\n",
            "10_We are exploring ML methods (and may one day put a model into production)\n",
            "10_We have well established ML methods (i.e., models in production for more than 2 years)\n",
            "10_We recently started using ML methods (i.e., models in production for less than 2 years)\n",
            "10_We use ML methods for generating insights (but do not put working models into production)\n",
            "11_Analyze and understand data to influence product or business decisions\n",
            "11_Build and/or run a machine learning service that operationally improves my product or workflows\n",
            "11_Build and/or run the data infrastructure that my business uses for storing, analyzing, and operationalizing data\n",
            "11_Build prototypes to explore applying machine learning to new areas\n",
            "11_Do research that advances the state of the art of machine learning\n",
            "11_Other\n",
            "12_Q12_Part_2_TEXT\n",
            "12_Q12_Part_3_TEXT\n",
            "12_Q12_Part_4_TEXT\n",
            "12_Q12_Part_5_TEXT\n",
            "13_Jupyter/IPython\n",
            "13_RStudio\n",
            "13_PyCharm\n",
            "13_Visual Studio Code\n",
            "13_Atom\n",
            "13_MATLAB\n",
            "13_Visual Studio\n",
            "13_Notepad++\n",
            "13_Sublime Text\n",
            "13_Vim\n",
            "13_IntelliJ\n",
            "13_Spyder\n",
            "13_Other\n",
            "14_Kaggle Kernels\n",
            "14_Google Colab\n",
            "14_Azure Notebook\n",
            "14_Google Cloud Datalab\n",
            "14_JupyterHub/Binder\n",
            "14_None\n",
            "15_Google Cloud Platform (GCP)\n",
            "15_Amazon Web Services (AWS)\n",
            "15_Microsoft Azure\n",
            "15_IBM Cloud\n",
            "15_I have not used any cloud providers\n",
            "16_Python\n",
            "16_R\n",
            "16_SQL\n",
            "16_Bash\n",
            "16_Java\n",
            "16_Javascript/Typescript\n",
            "16_Visual Basic/VBA\n",
            "16_C/C++\n",
            "16_MATLAB\n",
            "16_Scala\n",
            "16_C#/.NET\n",
            "16_PHP\n",
            "16_SAS/STATA\n",
            "19_Scikit-Learn\n",
            "19_TensorFlow\n",
            "19_Keras\n",
            "19_PyTorch\n",
            "19_Spark MLlib\n",
            "19_H20\n",
            "19_Fastai\n",
            "19_Caret\n",
            "19_Xgboost\n",
            "19_randomForest\n",
            "19_lightgbm\n",
            "19_catboost\n",
            "19_Caffe\n",
            "19_None\n",
            "21_ggplot2\n",
            "21_Matplotlib\n",
            "21_Shiny\n",
            "21_D3\n",
            "21_Plotly\n",
            "21_Bokeh\n",
            "21_Seaborn\n",
            "21_Leaflet\n",
            "21_Lattice\n",
            "21_None\n",
            "23_1% to 25% of my time\n",
            "23_25% to 49% of my time\n",
            "23_50% to 74% of my time\n",
            "23_75% to 99% of my time\n",
            "24_< 1 year\n",
            "24_1-2 years\n",
            "24_3-5 years\n",
            "24_5-10 years\n",
            "24_10-20 years\n",
            "25_1-2 years\n",
            "25_2-3 years\n",
            "25_3-4 years\n",
            "25_5-10 years\n",
            "25_< 1 year\n",
            "25_I have never studied machine learning but plan to learn in the future\n",
            "26_Definitely not\n",
            "26_Definitely yes\n",
            "26_Maybe\n",
            "26_Probably not\n",
            "26_Probably yes\n",
            "27_AWS Elastic Compute Cloud (EC2)\n",
            "27_Google Compute Engine\n",
            "27_Google App Engine\n",
            "27_AWS Lambda\n",
            "27_Google Cloud Functions\n",
            "27_Azure Virtual Machines\n",
            "27_None\n",
            "28_SAS\n",
            "28_None\n",
            "29_AWS Relational Database Service\n",
            "29_Microsoft SQL Server\n",
            "29_MySQL\n",
            "29_PostgresSQL\n",
            "29_SQLite\n",
            "29_Oracle Database\n",
            "29_Microsoft Access\n",
            "29_None\n",
            "30_AWS Redshift\n",
            "30_Google BigQuery\n",
            "30_Databricks\n",
            "30_None\n",
            "31_Categorical Data\n",
            "31_Genetic Data\n",
            "31_Geospatial Data\n",
            "31_Image Data\n",
            "31_Numerical Data\n",
            "31_Sensor Data\n",
            "31_Tabular Data\n",
            "31_Text Data\n",
            "31_Time Series Data\n",
            "31_Video Data\n",
            "36_Udacity\n",
            "36_Coursera\n",
            "36_edX\n",
            "36_DataCamp\n",
            "36_Kaggle Learn\n",
            "36_Fast.AI\n",
            "36_developers.google.com\n",
            "36_Udemy\n",
            "36_Online University Courses\n",
            "36_None\n",
            "36_Other\n",
            "38_Twitter\n",
            "38_Hacker News\n",
            "38_r/machinelearning\n",
            "38_Kaggle forums\n",
            "38_Siraj Raval YouTube Channel\n",
            "38_FiveThirtyEight.com\n",
            "38_ArXiv & Preprints\n",
            "38_Journal Publications\n",
            "38_KDnuggets Blog\n",
            "38_O'Reilly Data Newsletter\n",
            "38_Medium Blog Posts\n",
            "38_None/I do not know\n",
            "38_Other\n",
            "42_Revenue and/or business goals\n",
            "42_Metrics that consider accuracy\n",
            "42_Metrics that consider unfair bias\n",
            "42_Not applicable (I am not involved with an organization that builds ML models)\n",
            "44_Lack of communication between individuals who collect the data and individuals who analyze the data\n",
            "44_Difficulty in identifying groups that are unfairly targeted\n",
            "44_Difficulty in collecting enough data about groups that may be unfairly targeted\n",
            "44_Difficulty in identifying and selecting the appropriate evaluation metrics\n",
            "44_I have never performed this task\n",
            "45_Only for very important models that are already in production\n",
            "45_For all models right before putting the model in production\n",
            "45_When determining whether it is worth it to put the model into production\n",
            "45_When building a model that was specifically designed to produce such insights\n",
            "45_When first exploring a new ML model or dataset\n",
            "45_I do not explore and interpret model insights and predictions\n",
            "47_Examine individual model coefficients\n",
            "47_Examine feature correlations\n",
            "47_Examine feature importances\n",
            "47_Plot decision boundaries\n",
            "47_Create partial dependence plots\n",
            "47_Dimensionality reduction techniques\n",
            "47_Attention mapping/saliency mapping\n",
            "47_Plot predicted vs. actual results\n",
            "47_Print out a decision tree\n",
            "47_Sensitivity analysis/perturbation importance\n",
            "47_LIME functions\n",
            "47_None/I do not use these model explanation techniques\n",
            "49_Share code on Github or a similar code-sharing repository\n",
            "49_Share both data and code on Github or a similar code-sharing repository\n",
            "49_Share data, code, and environment using a hosted service (Kaggle Kernels, Google Colaboratory, Amazon SageMaker, etc.)\n",
            "49_Share data, code, and environment using containers (Docker, etc.)\n",
            "49_Share code, data, and environment using virtual machines (VirtualBox, etc.)\n",
            "49_Make sure the code is well documented\n",
            "49_Make sure the code is human-readable\n",
            "49_Define all random seeds\n",
            "49_Define relative rather than absolute file paths\n",
            "49_Include a text file describing all dependencies\n",
            "50_Too expensive\n",
            "50_Too time-consuming\n",
            "50_Requires too much technical knowledge\n",
            "50_Afraid that others will use my work without giving proper credit\n",
            "50_Not enough incentives to share my work\n",
            "50_I had never considered making my work easier for others to reproduce\n",
            "50_None of these reasons apply to me\n",
            "35_Q35_Part_1\n",
            "35_Q35_Part_2\n",
            "35_Q35_Part_3\n",
            "35_Q35_Part_4\n",
            "35_Q35_Part_5\n",
            "40_Independent projects are equally important as academic achievements\n",
            "40_Independent projects are much more important than academic achievements\n",
            "40_Independent projects are slightly more important than academic achievements\n",
            "48_I am confident that I can explain the outputs of most if not all ML models\n",
            "48_I am confident that I can understand and explain the outputs of many but not all ML models\n",
            "48_I do not know; I have no opinion on the matter\n",
            "48_I view ML models as \"black boxes\" but I am confident that experts are able to explain model outputs\n",
            "48_Yes, most ML models are \"black boxes\"\n"
          ],
          "name": "stdout"
        }
      ]
    },
    {
      "cell_type": "code",
      "metadata": {
        "id": "ih9xSkhNQu4F",
        "colab_type": "code",
        "colab": {
          "base_uri": "https://localhost:8080/",
          "height": 35
        },
        "outputId": "78deed82-6197-4c11-c979-a6d2cbabd028"
      },
      "source": [
        "clean_dataset.shape"
      ],
      "execution_count": null,
      "outputs": [
        {
          "output_type": "execute_result",
          "data": {
            "text/plain": [
              "(10200, 248)"
            ]
          },
          "metadata": {
            "tags": []
          },
          "execution_count": 126
        }
      ]
    },
    {
      "cell_type": "markdown",
      "metadata": {
        "id": "SlsW08IrtyT3",
        "colab_type": "text"
      },
      "source": [
        ""
      ]
    },
    {
      "cell_type": "markdown",
      "metadata": {
        "id": "uco-RnawQfSG",
        "colab_type": "text"
      },
      "source": [
        "* multicollinearity 확인 및 제거"
      ]
    },
    {
      "cell_type": "code",
      "metadata": {
        "id": "bbBDiBpkH9c8",
        "colab_type": "code",
        "colab": {}
      },
      "source": [
        "# Create correlation matrix\n",
        "correl = clean_dataset.corr().abs()\n",
        "\n",
        "# Select upper triangle of correlation matrix\n",
        "upper = correl.where(np.triu(np.ones(correl.shape), k=1).astype(np.bool))\n",
        "\n",
        "# Find index of feature columns with correlation greater than 0.5\n",
        "to_drop = [column for column in upper.columns if any(upper[column] > 0.5)]\n",
        "\n",
        "# Drop features \n",
        "#clean_dataset_dropped = clean_dataset.drop(to_drop, axis=1)\n",
        "\n",
        "#shape = clean_dataset_dropped.shape\n",
        "#print('After dropping highly correlated features, our has {} records and {} features'.format(shape[0], shape[1]))\n",
        "#print('Dropped features: ', to_drop)"
      ],
      "execution_count": null,
      "outputs": []
    },
    {
      "cell_type": "code",
      "metadata": {
        "id": "cdoVGa7oXnK9",
        "colab_type": "code",
        "colab": {
          "base_uri": "https://localhost:8080/",
          "height": 355
        },
        "outputId": "b30fc807-047e-4a1c-eae7-b2a4c851dd21"
      },
      "source": [
        "to_drop"
      ],
      "execution_count": null,
      "outputs": [
        {
          "output_type": "execute_result",
          "data": {
            "text/plain": [
              "['1_Male',\n",
              " '4_Master’s degree',\n",
              " '7_Student',\n",
              " '14_None',\n",
              " '15_I have not used any cloud providers',\n",
              " '16_R',\n",
              " '16_MATLAB',\n",
              " '19_Keras',\n",
              " '19_None',\n",
              " '21_ggplot2',\n",
              " '21_Matplotlib',\n",
              " '21_None',\n",
              " '25_I have never studied machine learning but plan to learn in the future',\n",
              " '27_AWS Elastic Compute Cloud (EC2)',\n",
              " '27_Google Compute Engine',\n",
              " '27_Azure Virtual Machines',\n",
              " '29_MySQL',\n",
              " '36_Fast.AI',\n",
              " '49_Make sure the code is human-readable']"
            ]
          },
          "metadata": {
            "tags": []
          },
          "execution_count": 128
        }
      ]
    },
    {
      "cell_type": "code",
      "metadata": {
        "id": "IzIPaBkVQBjz",
        "colab_type": "code",
        "colab": {
          "base_uri": "https://localhost:8080/",
          "height": 1000
        },
        "outputId": "344486e4-2c73-46aa-f221-790862f91946"
      },
      "source": [
        "upper"
      ],
      "execution_count": null,
      "outputs": [
        {
          "output_type": "execute_result",
          "data": {
            "text/html": [
              "<div>\n",
              "<style scoped>\n",
              "    .dataframe tbody tr th:only-of-type {\n",
              "        vertical-align: middle;\n",
              "    }\n",
              "\n",
              "    .dataframe tbody tr th {\n",
              "        vertical-align: top;\n",
              "    }\n",
              "\n",
              "    .dataframe thead th {\n",
              "        text-align: right;\n",
              "    }\n",
              "</style>\n",
              "<table border=\"1\" class=\"dataframe\">\n",
              "  <thead>\n",
              "    <tr style=\"text-align: right;\">\n",
              "      <th></th>\n",
              "      <th>top20</th>\n",
              "      <th>duration</th>\n",
              "      <th>1_Female</th>\n",
              "      <th>1_Male</th>\n",
              "      <th>2_18-21</th>\n",
              "      <th>2_22-24</th>\n",
              "      <th>2_25-29</th>\n",
              "      <th>2_30-34</th>\n",
              "      <th>2_35-39</th>\n",
              "      <th>2_40-44</th>\n",
              "      <th>3_Asia</th>\n",
              "      <th>3_Europe</th>\n",
              "      <th>3_NorthAmerica</th>\n",
              "      <th>3_SouthAmerica</th>\n",
              "      <th>4_Bachelor’s degree</th>\n",
              "      <th>4_Doctoral degree</th>\n",
              "      <th>4_Master’s degree</th>\n",
              "      <th>Data Analyst</th>\n",
              "      <th>Data Engineer/DBA</th>\n",
              "      <th>Data Scientist</th>\n",
              "      <th>Software Engineer</th>\n",
              "      <th>Statistician/Research Scientist</th>\n",
              "      <th>Student</th>\n",
              "      <th>5_A business discipline (accounting, economics, finance, etc.)</th>\n",
              "      <th>5_Computer science (software engineering, etc.)</th>\n",
              "      <th>5_Engineering (non-computer focused)</th>\n",
              "      <th>5_Mathematics or statistics</th>\n",
              "      <th>5_Physics or astronomy</th>\n",
              "      <th>7_Academics/Education</th>\n",
              "      <th>7_Accounting/Finance</th>\n",
              "      <th>7_Computers/Technology</th>\n",
              "      <th>7_Student</th>\n",
              "      <th>8_0-1</th>\n",
              "      <th>8_1-2</th>\n",
              "      <th>8_10-15</th>\n",
              "      <th>8_2-3</th>\n",
              "      <th>8_3-4</th>\n",
              "      <th>8_4-5</th>\n",
              "      <th>8_5-10</th>\n",
              "      <th>10_I do not know</th>\n",
              "      <th>...</th>\n",
              "      <th>47_Examine feature importances</th>\n",
              "      <th>47_Plot decision boundaries</th>\n",
              "      <th>47_Create partial dependence plots</th>\n",
              "      <th>47_Dimensionality reduction techniques</th>\n",
              "      <th>47_Attention mapping/saliency mapping</th>\n",
              "      <th>47_Plot predicted vs. actual results</th>\n",
              "      <th>47_Print out a decision tree</th>\n",
              "      <th>47_Sensitivity analysis/perturbation importance</th>\n",
              "      <th>47_LIME functions</th>\n",
              "      <th>47_None/I do not use these model explanation techniques</th>\n",
              "      <th>49_Share code on Github or a similar code-sharing repository</th>\n",
              "      <th>49_Share both data and code on Github or a similar code-sharing repository</th>\n",
              "      <th>49_Share data, code, and environment using a hosted service (Kaggle Kernels, Google Colaboratory, Amazon SageMaker, etc.)</th>\n",
              "      <th>49_Share data, code, and environment using containers (Docker, etc.)</th>\n",
              "      <th>49_Share code, data, and environment using virtual machines (VirtualBox, etc.)</th>\n",
              "      <th>49_Make sure the code is well documented</th>\n",
              "      <th>49_Make sure the code is human-readable</th>\n",
              "      <th>49_Define all random seeds</th>\n",
              "      <th>49_Define relative rather than absolute file paths</th>\n",
              "      <th>49_Include a text file describing all dependencies</th>\n",
              "      <th>50_Too expensive</th>\n",
              "      <th>50_Too time-consuming</th>\n",
              "      <th>50_Requires too much technical knowledge</th>\n",
              "      <th>50_Afraid that others will use my work without giving proper credit</th>\n",
              "      <th>50_Not enough incentives to share my work</th>\n",
              "      <th>50_I had never considered making my work easier for others to reproduce</th>\n",
              "      <th>50_None of these reasons apply to me</th>\n",
              "      <th>35_Q35_Part_1</th>\n",
              "      <th>35_Q35_Part_2</th>\n",
              "      <th>35_Q35_Part_3</th>\n",
              "      <th>35_Q35_Part_4</th>\n",
              "      <th>35_Q35_Part_5</th>\n",
              "      <th>40_Independent projects are equally important as academic achievements</th>\n",
              "      <th>40_Independent projects are much more important than academic achievements</th>\n",
              "      <th>40_Independent projects are slightly more important than academic achievements</th>\n",
              "      <th>48_I am confident that I can explain the outputs of most if not all ML models</th>\n",
              "      <th>48_I am confident that I can understand and explain the outputs of many but not all ML models</th>\n",
              "      <th>48_I do not know; I have no opinion on the matter</th>\n",
              "      <th>48_I view ML models as \"black boxes\" but I am confident that experts are able to explain model outputs</th>\n",
              "      <th>48_Yes, most ML models are \"black boxes\"</th>\n",
              "    </tr>\n",
              "  </thead>\n",
              "  <tbody>\n",
              "    <tr>\n",
              "      <th>top20</th>\n",
              "      <td>NaN</td>\n",
              "      <td>0.01479</td>\n",
              "      <td>0.000214</td>\n",
              "      <td>0.000214</td>\n",
              "      <td>0.141757</td>\n",
              "      <td>0.183878</td>\n",
              "      <td>0.089317</td>\n",
              "      <td>0.095761</td>\n",
              "      <td>0.141627</td>\n",
              "      <td>0.109398</td>\n",
              "      <td>0.234486</td>\n",
              "      <td>0.113681</td>\n",
              "      <td>0.469818</td>\n",
              "      <td>0.086164</td>\n",
              "      <td>0.098603</td>\n",
              "      <td>0.105985</td>\n",
              "      <td>0.030585</td>\n",
              "      <td>0.029642</td>\n",
              "      <td>0.039011</td>\n",
              "      <td>0.210974</td>\n",
              "      <td>0.025426</td>\n",
              "      <td>0.016107</td>\n",
              "      <td>0.251592</td>\n",
              "      <td>0.042155</td>\n",
              "      <td>0.112244</td>\n",
              "      <td>0.014027</td>\n",
              "      <td>0.031693</td>\n",
              "      <td>0.058032</td>\n",
              "      <td>0.079514</td>\n",
              "      <td>0.067098</td>\n",
              "      <td>0.042554</td>\n",
              "      <td>0.234931</td>\n",
              "      <td>0.132926</td>\n",
              "      <td>0.060661</td>\n",
              "      <td>0.092148</td>\n",
              "      <td>0.010798</td>\n",
              "      <td>0.009223</td>\n",
              "      <td>0.046042</td>\n",
              "      <td>0.081547</td>\n",
              "      <td>0.112628</td>\n",
              "      <td>...</td>\n",
              "      <td>0.138917</td>\n",
              "      <td>0.041484</td>\n",
              "      <td>0.072549</td>\n",
              "      <td>0.090843</td>\n",
              "      <td>0.012364</td>\n",
              "      <td>0.113254</td>\n",
              "      <td>0.069747</td>\n",
              "      <td>0.132248</td>\n",
              "      <td>0.083603</td>\n",
              "      <td>0.051258</td>\n",
              "      <td>0.104433</td>\n",
              "      <td>0.077294</td>\n",
              "      <td>0.002357</td>\n",
              "      <td>0.084807</td>\n",
              "      <td>0.030598</td>\n",
              "      <td>0.129800</td>\n",
              "      <td>0.109595</td>\n",
              "      <td>0.125870</td>\n",
              "      <td>0.124921</td>\n",
              "      <td>0.074595</td>\n",
              "      <td>0.014175</td>\n",
              "      <td>0.069798</td>\n",
              "      <td>0.040428</td>\n",
              "      <td>0.026334</td>\n",
              "      <td>0.056100</td>\n",
              "      <td>0.032995</td>\n",
              "      <td>0.054138</td>\n",
              "      <td>0.010220</td>\n",
              "      <td>0.064355</td>\n",
              "      <td>0.101417</td>\n",
              "      <td>0.004449</td>\n",
              "      <td>0.055740</td>\n",
              "      <td>0.018009</td>\n",
              "      <td>0.019776</td>\n",
              "      <td>0.026657</td>\n",
              "      <td>0.040195</td>\n",
              "      <td>0.106179</td>\n",
              "      <td>0.044039</td>\n",
              "      <td>0.063649</td>\n",
              "      <td>0.005208</td>\n",
              "    </tr>\n",
              "    <tr>\n",
              "      <th>duration</th>\n",
              "      <td>NaN</td>\n",
              "      <td>NaN</td>\n",
              "      <td>0.001286</td>\n",
              "      <td>0.001286</td>\n",
              "      <td>0.010575</td>\n",
              "      <td>0.004440</td>\n",
              "      <td>0.004653</td>\n",
              "      <td>0.004419</td>\n",
              "      <td>0.003722</td>\n",
              "      <td>0.006895</td>\n",
              "      <td>0.003190</td>\n",
              "      <td>0.009316</td>\n",
              "      <td>0.017583</td>\n",
              "      <td>0.022101</td>\n",
              "      <td>0.000277</td>\n",
              "      <td>0.010387</td>\n",
              "      <td>0.000563</td>\n",
              "      <td>0.007108</td>\n",
              "      <td>0.012710</td>\n",
              "      <td>0.011967</td>\n",
              "      <td>0.005249</td>\n",
              "      <td>0.019304</td>\n",
              "      <td>0.005569</td>\n",
              "      <td>0.020027</td>\n",
              "      <td>0.019326</td>\n",
              "      <td>0.004555</td>\n",
              "      <td>0.006742</td>\n",
              "      <td>0.003186</td>\n",
              "      <td>0.001679</td>\n",
              "      <td>0.000997</td>\n",
              "      <td>0.013602</td>\n",
              "      <td>0.007244</td>\n",
              "      <td>0.021056</td>\n",
              "      <td>0.014982</td>\n",
              "      <td>0.009559</td>\n",
              "      <td>0.003474</td>\n",
              "      <td>0.009757</td>\n",
              "      <td>0.010200</td>\n",
              "      <td>0.005971</td>\n",
              "      <td>0.007761</td>\n",
              "      <td>...</td>\n",
              "      <td>0.009489</td>\n",
              "      <td>0.008794</td>\n",
              "      <td>0.005378</td>\n",
              "      <td>0.021174</td>\n",
              "      <td>0.025634</td>\n",
              "      <td>0.031141</td>\n",
              "      <td>0.018787</td>\n",
              "      <td>0.009292</td>\n",
              "      <td>0.000609</td>\n",
              "      <td>0.015570</td>\n",
              "      <td>0.019332</td>\n",
              "      <td>0.022232</td>\n",
              "      <td>0.007226</td>\n",
              "      <td>0.020684</td>\n",
              "      <td>0.001501</td>\n",
              "      <td>0.032572</td>\n",
              "      <td>0.034150</td>\n",
              "      <td>0.019830</td>\n",
              "      <td>0.026506</td>\n",
              "      <td>0.044421</td>\n",
              "      <td>0.001972</td>\n",
              "      <td>0.015952</td>\n",
              "      <td>0.001397</td>\n",
              "      <td>0.024133</td>\n",
              "      <td>0.015295</td>\n",
              "      <td>0.004242</td>\n",
              "      <td>0.017968</td>\n",
              "      <td>0.003848</td>\n",
              "      <td>0.023382</td>\n",
              "      <td>0.001477</td>\n",
              "      <td>0.012745</td>\n",
              "      <td>0.009532</td>\n",
              "      <td>0.002569</td>\n",
              "      <td>0.016516</td>\n",
              "      <td>0.009578</td>\n",
              "      <td>0.002857</td>\n",
              "      <td>0.017991</td>\n",
              "      <td>0.000426</td>\n",
              "      <td>0.011193</td>\n",
              "      <td>0.020349</td>\n",
              "    </tr>\n",
              "    <tr>\n",
              "      <th>1_Female</th>\n",
              "      <td>NaN</td>\n",
              "      <td>NaN</td>\n",
              "      <td>NaN</td>\n",
              "      <td>1.000000</td>\n",
              "      <td>0.019200</td>\n",
              "      <td>0.027878</td>\n",
              "      <td>0.031764</td>\n",
              "      <td>0.002740</td>\n",
              "      <td>0.012047</td>\n",
              "      <td>0.023776</td>\n",
              "      <td>0.067129</td>\n",
              "      <td>0.003631</td>\n",
              "      <td>0.095117</td>\n",
              "      <td>0.042241</td>\n",
              "      <td>0.052666</td>\n",
              "      <td>0.023196</td>\n",
              "      <td>0.048333</td>\n",
              "      <td>0.045696</td>\n",
              "      <td>0.031815</td>\n",
              "      <td>0.005119</td>\n",
              "      <td>0.075853</td>\n",
              "      <td>0.015661</td>\n",
              "      <td>0.028984</td>\n",
              "      <td>0.005769</td>\n",
              "      <td>0.045674</td>\n",
              "      <td>0.053255</td>\n",
              "      <td>0.057679</td>\n",
              "      <td>0.036682</td>\n",
              "      <td>0.017650</td>\n",
              "      <td>0.018003</td>\n",
              "      <td>0.016574</td>\n",
              "      <td>0.030907</td>\n",
              "      <td>0.062194</td>\n",
              "      <td>0.014823</td>\n",
              "      <td>0.025109</td>\n",
              "      <td>0.011367</td>\n",
              "      <td>0.001054</td>\n",
              "      <td>0.018892</td>\n",
              "      <td>0.044132</td>\n",
              "      <td>0.042936</td>\n",
              "      <td>...</td>\n",
              "      <td>0.003331</td>\n",
              "      <td>0.027953</td>\n",
              "      <td>0.023136</td>\n",
              "      <td>0.003032</td>\n",
              "      <td>0.012173</td>\n",
              "      <td>0.005915</td>\n",
              "      <td>0.021071</td>\n",
              "      <td>0.012615</td>\n",
              "      <td>0.027107</td>\n",
              "      <td>0.004964</td>\n",
              "      <td>0.029198</td>\n",
              "      <td>0.025388</td>\n",
              "      <td>0.026613</td>\n",
              "      <td>0.046690</td>\n",
              "      <td>0.011623</td>\n",
              "      <td>0.034444</td>\n",
              "      <td>0.006337</td>\n",
              "      <td>0.029773</td>\n",
              "      <td>0.015890</td>\n",
              "      <td>0.001487</td>\n",
              "      <td>0.041224</td>\n",
              "      <td>0.033794</td>\n",
              "      <td>0.009956</td>\n",
              "      <td>0.006392</td>\n",
              "      <td>0.026381</td>\n",
              "      <td>0.001939</td>\n",
              "      <td>0.009615</td>\n",
              "      <td>0.067198</td>\n",
              "      <td>0.024096</td>\n",
              "      <td>0.011825</td>\n",
              "      <td>0.130392</td>\n",
              "      <td>0.096826</td>\n",
              "      <td>0.027310</td>\n",
              "      <td>0.032434</td>\n",
              "      <td>0.015179</td>\n",
              "      <td>0.007043</td>\n",
              "      <td>0.008385</td>\n",
              "      <td>0.025469</td>\n",
              "      <td>0.001531</td>\n",
              "      <td>0.024538</td>\n",
              "    </tr>\n",
              "    <tr>\n",
              "      <th>1_Male</th>\n",
              "      <td>NaN</td>\n",
              "      <td>NaN</td>\n",
              "      <td>NaN</td>\n",
              "      <td>NaN</td>\n",
              "      <td>0.019200</td>\n",
              "      <td>0.027878</td>\n",
              "      <td>0.031764</td>\n",
              "      <td>0.002740</td>\n",
              "      <td>0.012047</td>\n",
              "      <td>0.023776</td>\n",
              "      <td>0.067129</td>\n",
              "      <td>0.003631</td>\n",
              "      <td>0.095117</td>\n",
              "      <td>0.042241</td>\n",
              "      <td>0.052666</td>\n",
              "      <td>0.023196</td>\n",
              "      <td>0.048333</td>\n",
              "      <td>0.045696</td>\n",
              "      <td>0.031815</td>\n",
              "      <td>0.005119</td>\n",
              "      <td>0.075853</td>\n",
              "      <td>0.015661</td>\n",
              "      <td>0.028984</td>\n",
              "      <td>0.005769</td>\n",
              "      <td>0.045674</td>\n",
              "      <td>0.053255</td>\n",
              "      <td>0.057679</td>\n",
              "      <td>0.036682</td>\n",
              "      <td>0.017650</td>\n",
              "      <td>0.018003</td>\n",
              "      <td>0.016574</td>\n",
              "      <td>0.030907</td>\n",
              "      <td>0.062194</td>\n",
              "      <td>0.014823</td>\n",
              "      <td>0.025109</td>\n",
              "      <td>0.011367</td>\n",
              "      <td>0.001054</td>\n",
              "      <td>0.018892</td>\n",
              "      <td>0.044132</td>\n",
              "      <td>0.042936</td>\n",
              "      <td>...</td>\n",
              "      <td>0.003331</td>\n",
              "      <td>0.027953</td>\n",
              "      <td>0.023136</td>\n",
              "      <td>0.003032</td>\n",
              "      <td>0.012173</td>\n",
              "      <td>0.005915</td>\n",
              "      <td>0.021071</td>\n",
              "      <td>0.012615</td>\n",
              "      <td>0.027107</td>\n",
              "      <td>0.004964</td>\n",
              "      <td>0.029198</td>\n",
              "      <td>0.025388</td>\n",
              "      <td>0.026613</td>\n",
              "      <td>0.046690</td>\n",
              "      <td>0.011623</td>\n",
              "      <td>0.034444</td>\n",
              "      <td>0.006337</td>\n",
              "      <td>0.029773</td>\n",
              "      <td>0.015890</td>\n",
              "      <td>0.001487</td>\n",
              "      <td>0.041224</td>\n",
              "      <td>0.033794</td>\n",
              "      <td>0.009956</td>\n",
              "      <td>0.006392</td>\n",
              "      <td>0.026381</td>\n",
              "      <td>0.001939</td>\n",
              "      <td>0.009615</td>\n",
              "      <td>0.067198</td>\n",
              "      <td>0.024096</td>\n",
              "      <td>0.011825</td>\n",
              "      <td>0.130392</td>\n",
              "      <td>0.096826</td>\n",
              "      <td>0.027310</td>\n",
              "      <td>0.032434</td>\n",
              "      <td>0.015179</td>\n",
              "      <td>0.007043</td>\n",
              "      <td>0.008385</td>\n",
              "      <td>0.025469</td>\n",
              "      <td>0.001531</td>\n",
              "      <td>0.024538</td>\n",
              "    </tr>\n",
              "    <tr>\n",
              "      <th>2_18-21</th>\n",
              "      <td>NaN</td>\n",
              "      <td>NaN</td>\n",
              "      <td>NaN</td>\n",
              "      <td>NaN</td>\n",
              "      <td>NaN</td>\n",
              "      <td>0.162284</td>\n",
              "      <td>0.208105</td>\n",
              "      <td>0.155086</td>\n",
              "      <td>0.104781</td>\n",
              "      <td>0.075902</td>\n",
              "      <td>0.155690</td>\n",
              "      <td>0.078903</td>\n",
              "      <td>0.073135</td>\n",
              "      <td>0.004509</td>\n",
              "      <td>0.278346</td>\n",
              "      <td>0.140941</td>\n",
              "      <td>0.200124</td>\n",
              "      <td>0.081626</td>\n",
              "      <td>0.065544</td>\n",
              "      <td>0.148355</td>\n",
              "      <td>0.089809</td>\n",
              "      <td>0.083512</td>\n",
              "      <td>0.422693</td>\n",
              "      <td>0.053713</td>\n",
              "      <td>0.134377</td>\n",
              "      <td>0.037993</td>\n",
              "      <td>0.029887</td>\n",
              "      <td>0.048784</td>\n",
              "      <td>0.077229</td>\n",
              "      <td>0.067113</td>\n",
              "      <td>0.119662</td>\n",
              "      <td>0.445442</td>\n",
              "      <td>0.190697</td>\n",
              "      <td>0.017929</td>\n",
              "      <td>0.025741</td>\n",
              "      <td>0.027460</td>\n",
              "      <td>0.020093</td>\n",
              "      <td>0.073958</td>\n",
              "      <td>0.110778</td>\n",
              "      <td>0.261664</td>\n",
              "      <td>...</td>\n",
              "      <td>0.114986</td>\n",
              "      <td>0.008317</td>\n",
              "      <td>0.019135</td>\n",
              "      <td>0.061519</td>\n",
              "      <td>0.020283</td>\n",
              "      <td>0.061919</td>\n",
              "      <td>0.032287</td>\n",
              "      <td>0.066159</td>\n",
              "      <td>0.057614</td>\n",
              "      <td>0.036980</td>\n",
              "      <td>0.030518</td>\n",
              "      <td>0.017969</td>\n",
              "      <td>0.032247</td>\n",
              "      <td>0.039019</td>\n",
              "      <td>0.014763</td>\n",
              "      <td>0.069291</td>\n",
              "      <td>0.053724</td>\n",
              "      <td>0.075199</td>\n",
              "      <td>0.067027</td>\n",
              "      <td>0.034837</td>\n",
              "      <td>0.010671</td>\n",
              "      <td>0.043411</td>\n",
              "      <td>0.006337</td>\n",
              "      <td>0.024477</td>\n",
              "      <td>0.021379</td>\n",
              "      <td>0.020559</td>\n",
              "      <td>0.018080</td>\n",
              "      <td>0.024915</td>\n",
              "      <td>0.063337</td>\n",
              "      <td>0.128756</td>\n",
              "      <td>0.020214</td>\n",
              "      <td>0.015502</td>\n",
              "      <td>0.019326</td>\n",
              "      <td>0.041794</td>\n",
              "      <td>0.023832</td>\n",
              "      <td>0.014341</td>\n",
              "      <td>0.053205</td>\n",
              "      <td>0.016487</td>\n",
              "      <td>0.034123</td>\n",
              "      <td>0.016004</td>\n",
              "    </tr>\n",
              "    <tr>\n",
              "      <th>...</th>\n",
              "      <td>...</td>\n",
              "      <td>...</td>\n",
              "      <td>...</td>\n",
              "      <td>...</td>\n",
              "      <td>...</td>\n",
              "      <td>...</td>\n",
              "      <td>...</td>\n",
              "      <td>...</td>\n",
              "      <td>...</td>\n",
              "      <td>...</td>\n",
              "      <td>...</td>\n",
              "      <td>...</td>\n",
              "      <td>...</td>\n",
              "      <td>...</td>\n",
              "      <td>...</td>\n",
              "      <td>...</td>\n",
              "      <td>...</td>\n",
              "      <td>...</td>\n",
              "      <td>...</td>\n",
              "      <td>...</td>\n",
              "      <td>...</td>\n",
              "      <td>...</td>\n",
              "      <td>...</td>\n",
              "      <td>...</td>\n",
              "      <td>...</td>\n",
              "      <td>...</td>\n",
              "      <td>...</td>\n",
              "      <td>...</td>\n",
              "      <td>...</td>\n",
              "      <td>...</td>\n",
              "      <td>...</td>\n",
              "      <td>...</td>\n",
              "      <td>...</td>\n",
              "      <td>...</td>\n",
              "      <td>...</td>\n",
              "      <td>...</td>\n",
              "      <td>...</td>\n",
              "      <td>...</td>\n",
              "      <td>...</td>\n",
              "      <td>...</td>\n",
              "      <td>...</td>\n",
              "      <td>...</td>\n",
              "      <td>...</td>\n",
              "      <td>...</td>\n",
              "      <td>...</td>\n",
              "      <td>...</td>\n",
              "      <td>...</td>\n",
              "      <td>...</td>\n",
              "      <td>...</td>\n",
              "      <td>...</td>\n",
              "      <td>...</td>\n",
              "      <td>...</td>\n",
              "      <td>...</td>\n",
              "      <td>...</td>\n",
              "      <td>...</td>\n",
              "      <td>...</td>\n",
              "      <td>...</td>\n",
              "      <td>...</td>\n",
              "      <td>...</td>\n",
              "      <td>...</td>\n",
              "      <td>...</td>\n",
              "      <td>...</td>\n",
              "      <td>...</td>\n",
              "      <td>...</td>\n",
              "      <td>...</td>\n",
              "      <td>...</td>\n",
              "      <td>...</td>\n",
              "      <td>...</td>\n",
              "      <td>...</td>\n",
              "      <td>...</td>\n",
              "      <td>...</td>\n",
              "      <td>...</td>\n",
              "      <td>...</td>\n",
              "      <td>...</td>\n",
              "      <td>...</td>\n",
              "      <td>...</td>\n",
              "      <td>...</td>\n",
              "      <td>...</td>\n",
              "      <td>...</td>\n",
              "      <td>...</td>\n",
              "      <td>...</td>\n",
              "    </tr>\n",
              "    <tr>\n",
              "      <th>48_I am confident that I can explain the outputs of most if not all ML models</th>\n",
              "      <td>NaN</td>\n",
              "      <td>NaN</td>\n",
              "      <td>NaN</td>\n",
              "      <td>NaN</td>\n",
              "      <td>NaN</td>\n",
              "      <td>NaN</td>\n",
              "      <td>NaN</td>\n",
              "      <td>NaN</td>\n",
              "      <td>NaN</td>\n",
              "      <td>NaN</td>\n",
              "      <td>NaN</td>\n",
              "      <td>NaN</td>\n",
              "      <td>NaN</td>\n",
              "      <td>NaN</td>\n",
              "      <td>NaN</td>\n",
              "      <td>NaN</td>\n",
              "      <td>NaN</td>\n",
              "      <td>NaN</td>\n",
              "      <td>NaN</td>\n",
              "      <td>NaN</td>\n",
              "      <td>NaN</td>\n",
              "      <td>NaN</td>\n",
              "      <td>NaN</td>\n",
              "      <td>NaN</td>\n",
              "      <td>NaN</td>\n",
              "      <td>NaN</td>\n",
              "      <td>NaN</td>\n",
              "      <td>NaN</td>\n",
              "      <td>NaN</td>\n",
              "      <td>NaN</td>\n",
              "      <td>NaN</td>\n",
              "      <td>NaN</td>\n",
              "      <td>NaN</td>\n",
              "      <td>NaN</td>\n",
              "      <td>NaN</td>\n",
              "      <td>NaN</td>\n",
              "      <td>NaN</td>\n",
              "      <td>NaN</td>\n",
              "      <td>NaN</td>\n",
              "      <td>NaN</td>\n",
              "      <td>...</td>\n",
              "      <td>NaN</td>\n",
              "      <td>NaN</td>\n",
              "      <td>NaN</td>\n",
              "      <td>NaN</td>\n",
              "      <td>NaN</td>\n",
              "      <td>NaN</td>\n",
              "      <td>NaN</td>\n",
              "      <td>NaN</td>\n",
              "      <td>NaN</td>\n",
              "      <td>NaN</td>\n",
              "      <td>NaN</td>\n",
              "      <td>NaN</td>\n",
              "      <td>NaN</td>\n",
              "      <td>NaN</td>\n",
              "      <td>NaN</td>\n",
              "      <td>NaN</td>\n",
              "      <td>NaN</td>\n",
              "      <td>NaN</td>\n",
              "      <td>NaN</td>\n",
              "      <td>NaN</td>\n",
              "      <td>NaN</td>\n",
              "      <td>NaN</td>\n",
              "      <td>NaN</td>\n",
              "      <td>NaN</td>\n",
              "      <td>NaN</td>\n",
              "      <td>NaN</td>\n",
              "      <td>NaN</td>\n",
              "      <td>NaN</td>\n",
              "      <td>NaN</td>\n",
              "      <td>NaN</td>\n",
              "      <td>NaN</td>\n",
              "      <td>NaN</td>\n",
              "      <td>NaN</td>\n",
              "      <td>NaN</td>\n",
              "      <td>NaN</td>\n",
              "      <td>NaN</td>\n",
              "      <td>0.210140</td>\n",
              "      <td>0.062991</td>\n",
              "      <td>0.118136</td>\n",
              "      <td>0.084015</td>\n",
              "    </tr>\n",
              "    <tr>\n",
              "      <th>48_I am confident that I can understand and explain the outputs of many but not all ML models</th>\n",
              "      <td>NaN</td>\n",
              "      <td>NaN</td>\n",
              "      <td>NaN</td>\n",
              "      <td>NaN</td>\n",
              "      <td>NaN</td>\n",
              "      <td>NaN</td>\n",
              "      <td>NaN</td>\n",
              "      <td>NaN</td>\n",
              "      <td>NaN</td>\n",
              "      <td>NaN</td>\n",
              "      <td>NaN</td>\n",
              "      <td>NaN</td>\n",
              "      <td>NaN</td>\n",
              "      <td>NaN</td>\n",
              "      <td>NaN</td>\n",
              "      <td>NaN</td>\n",
              "      <td>NaN</td>\n",
              "      <td>NaN</td>\n",
              "      <td>NaN</td>\n",
              "      <td>NaN</td>\n",
              "      <td>NaN</td>\n",
              "      <td>NaN</td>\n",
              "      <td>NaN</td>\n",
              "      <td>NaN</td>\n",
              "      <td>NaN</td>\n",
              "      <td>NaN</td>\n",
              "      <td>NaN</td>\n",
              "      <td>NaN</td>\n",
              "      <td>NaN</td>\n",
              "      <td>NaN</td>\n",
              "      <td>NaN</td>\n",
              "      <td>NaN</td>\n",
              "      <td>NaN</td>\n",
              "      <td>NaN</td>\n",
              "      <td>NaN</td>\n",
              "      <td>NaN</td>\n",
              "      <td>NaN</td>\n",
              "      <td>NaN</td>\n",
              "      <td>NaN</td>\n",
              "      <td>NaN</td>\n",
              "      <td>...</td>\n",
              "      <td>NaN</td>\n",
              "      <td>NaN</td>\n",
              "      <td>NaN</td>\n",
              "      <td>NaN</td>\n",
              "      <td>NaN</td>\n",
              "      <td>NaN</td>\n",
              "      <td>NaN</td>\n",
              "      <td>NaN</td>\n",
              "      <td>NaN</td>\n",
              "      <td>NaN</td>\n",
              "      <td>NaN</td>\n",
              "      <td>NaN</td>\n",
              "      <td>NaN</td>\n",
              "      <td>NaN</td>\n",
              "      <td>NaN</td>\n",
              "      <td>NaN</td>\n",
              "      <td>NaN</td>\n",
              "      <td>NaN</td>\n",
              "      <td>NaN</td>\n",
              "      <td>NaN</td>\n",
              "      <td>NaN</td>\n",
              "      <td>NaN</td>\n",
              "      <td>NaN</td>\n",
              "      <td>NaN</td>\n",
              "      <td>NaN</td>\n",
              "      <td>NaN</td>\n",
              "      <td>NaN</td>\n",
              "      <td>NaN</td>\n",
              "      <td>NaN</td>\n",
              "      <td>NaN</td>\n",
              "      <td>NaN</td>\n",
              "      <td>NaN</td>\n",
              "      <td>NaN</td>\n",
              "      <td>NaN</td>\n",
              "      <td>NaN</td>\n",
              "      <td>NaN</td>\n",
              "      <td>NaN</td>\n",
              "      <td>0.185027</td>\n",
              "      <td>0.347005</td>\n",
              "      <td>0.246781</td>\n",
              "    </tr>\n",
              "    <tr>\n",
              "      <th>48_I do not know; I have no opinion on the matter</th>\n",
              "      <td>NaN</td>\n",
              "      <td>NaN</td>\n",
              "      <td>NaN</td>\n",
              "      <td>NaN</td>\n",
              "      <td>NaN</td>\n",
              "      <td>NaN</td>\n",
              "      <td>NaN</td>\n",
              "      <td>NaN</td>\n",
              "      <td>NaN</td>\n",
              "      <td>NaN</td>\n",
              "      <td>NaN</td>\n",
              "      <td>NaN</td>\n",
              "      <td>NaN</td>\n",
              "      <td>NaN</td>\n",
              "      <td>NaN</td>\n",
              "      <td>NaN</td>\n",
              "      <td>NaN</td>\n",
              "      <td>NaN</td>\n",
              "      <td>NaN</td>\n",
              "      <td>NaN</td>\n",
              "      <td>NaN</td>\n",
              "      <td>NaN</td>\n",
              "      <td>NaN</td>\n",
              "      <td>NaN</td>\n",
              "      <td>NaN</td>\n",
              "      <td>NaN</td>\n",
              "      <td>NaN</td>\n",
              "      <td>NaN</td>\n",
              "      <td>NaN</td>\n",
              "      <td>NaN</td>\n",
              "      <td>NaN</td>\n",
              "      <td>NaN</td>\n",
              "      <td>NaN</td>\n",
              "      <td>NaN</td>\n",
              "      <td>NaN</td>\n",
              "      <td>NaN</td>\n",
              "      <td>NaN</td>\n",
              "      <td>NaN</td>\n",
              "      <td>NaN</td>\n",
              "      <td>NaN</td>\n",
              "      <td>...</td>\n",
              "      <td>NaN</td>\n",
              "      <td>NaN</td>\n",
              "      <td>NaN</td>\n",
              "      <td>NaN</td>\n",
              "      <td>NaN</td>\n",
              "      <td>NaN</td>\n",
              "      <td>NaN</td>\n",
              "      <td>NaN</td>\n",
              "      <td>NaN</td>\n",
              "      <td>NaN</td>\n",
              "      <td>NaN</td>\n",
              "      <td>NaN</td>\n",
              "      <td>NaN</td>\n",
              "      <td>NaN</td>\n",
              "      <td>NaN</td>\n",
              "      <td>NaN</td>\n",
              "      <td>NaN</td>\n",
              "      <td>NaN</td>\n",
              "      <td>NaN</td>\n",
              "      <td>NaN</td>\n",
              "      <td>NaN</td>\n",
              "      <td>NaN</td>\n",
              "      <td>NaN</td>\n",
              "      <td>NaN</td>\n",
              "      <td>NaN</td>\n",
              "      <td>NaN</td>\n",
              "      <td>NaN</td>\n",
              "      <td>NaN</td>\n",
              "      <td>NaN</td>\n",
              "      <td>NaN</td>\n",
              "      <td>NaN</td>\n",
              "      <td>NaN</td>\n",
              "      <td>NaN</td>\n",
              "      <td>NaN</td>\n",
              "      <td>NaN</td>\n",
              "      <td>NaN</td>\n",
              "      <td>NaN</td>\n",
              "      <td>NaN</td>\n",
              "      <td>0.104018</td>\n",
              "      <td>0.073975</td>\n",
              "    </tr>\n",
              "    <tr>\n",
              "      <th>48_I view ML models as \"black boxes\" but I am confident that experts are able to explain model outputs</th>\n",
              "      <td>NaN</td>\n",
              "      <td>NaN</td>\n",
              "      <td>NaN</td>\n",
              "      <td>NaN</td>\n",
              "      <td>NaN</td>\n",
              "      <td>NaN</td>\n",
              "      <td>NaN</td>\n",
              "      <td>NaN</td>\n",
              "      <td>NaN</td>\n",
              "      <td>NaN</td>\n",
              "      <td>NaN</td>\n",
              "      <td>NaN</td>\n",
              "      <td>NaN</td>\n",
              "      <td>NaN</td>\n",
              "      <td>NaN</td>\n",
              "      <td>NaN</td>\n",
              "      <td>NaN</td>\n",
              "      <td>NaN</td>\n",
              "      <td>NaN</td>\n",
              "      <td>NaN</td>\n",
              "      <td>NaN</td>\n",
              "      <td>NaN</td>\n",
              "      <td>NaN</td>\n",
              "      <td>NaN</td>\n",
              "      <td>NaN</td>\n",
              "      <td>NaN</td>\n",
              "      <td>NaN</td>\n",
              "      <td>NaN</td>\n",
              "      <td>NaN</td>\n",
              "      <td>NaN</td>\n",
              "      <td>NaN</td>\n",
              "      <td>NaN</td>\n",
              "      <td>NaN</td>\n",
              "      <td>NaN</td>\n",
              "      <td>NaN</td>\n",
              "      <td>NaN</td>\n",
              "      <td>NaN</td>\n",
              "      <td>NaN</td>\n",
              "      <td>NaN</td>\n",
              "      <td>NaN</td>\n",
              "      <td>...</td>\n",
              "      <td>NaN</td>\n",
              "      <td>NaN</td>\n",
              "      <td>NaN</td>\n",
              "      <td>NaN</td>\n",
              "      <td>NaN</td>\n",
              "      <td>NaN</td>\n",
              "      <td>NaN</td>\n",
              "      <td>NaN</td>\n",
              "      <td>NaN</td>\n",
              "      <td>NaN</td>\n",
              "      <td>NaN</td>\n",
              "      <td>NaN</td>\n",
              "      <td>NaN</td>\n",
              "      <td>NaN</td>\n",
              "      <td>NaN</td>\n",
              "      <td>NaN</td>\n",
              "      <td>NaN</td>\n",
              "      <td>NaN</td>\n",
              "      <td>NaN</td>\n",
              "      <td>NaN</td>\n",
              "      <td>NaN</td>\n",
              "      <td>NaN</td>\n",
              "      <td>NaN</td>\n",
              "      <td>NaN</td>\n",
              "      <td>NaN</td>\n",
              "      <td>NaN</td>\n",
              "      <td>NaN</td>\n",
              "      <td>NaN</td>\n",
              "      <td>NaN</td>\n",
              "      <td>NaN</td>\n",
              "      <td>NaN</td>\n",
              "      <td>NaN</td>\n",
              "      <td>NaN</td>\n",
              "      <td>NaN</td>\n",
              "      <td>NaN</td>\n",
              "      <td>NaN</td>\n",
              "      <td>NaN</td>\n",
              "      <td>NaN</td>\n",
              "      <td>NaN</td>\n",
              "      <td>0.138735</td>\n",
              "    </tr>\n",
              "    <tr>\n",
              "      <th>48_Yes, most ML models are \"black boxes\"</th>\n",
              "      <td>NaN</td>\n",
              "      <td>NaN</td>\n",
              "      <td>NaN</td>\n",
              "      <td>NaN</td>\n",
              "      <td>NaN</td>\n",
              "      <td>NaN</td>\n",
              "      <td>NaN</td>\n",
              "      <td>NaN</td>\n",
              "      <td>NaN</td>\n",
              "      <td>NaN</td>\n",
              "      <td>NaN</td>\n",
              "      <td>NaN</td>\n",
              "      <td>NaN</td>\n",
              "      <td>NaN</td>\n",
              "      <td>NaN</td>\n",
              "      <td>NaN</td>\n",
              "      <td>NaN</td>\n",
              "      <td>NaN</td>\n",
              "      <td>NaN</td>\n",
              "      <td>NaN</td>\n",
              "      <td>NaN</td>\n",
              "      <td>NaN</td>\n",
              "      <td>NaN</td>\n",
              "      <td>NaN</td>\n",
              "      <td>NaN</td>\n",
              "      <td>NaN</td>\n",
              "      <td>NaN</td>\n",
              "      <td>NaN</td>\n",
              "      <td>NaN</td>\n",
              "      <td>NaN</td>\n",
              "      <td>NaN</td>\n",
              "      <td>NaN</td>\n",
              "      <td>NaN</td>\n",
              "      <td>NaN</td>\n",
              "      <td>NaN</td>\n",
              "      <td>NaN</td>\n",
              "      <td>NaN</td>\n",
              "      <td>NaN</td>\n",
              "      <td>NaN</td>\n",
              "      <td>NaN</td>\n",
              "      <td>...</td>\n",
              "      <td>NaN</td>\n",
              "      <td>NaN</td>\n",
              "      <td>NaN</td>\n",
              "      <td>NaN</td>\n",
              "      <td>NaN</td>\n",
              "      <td>NaN</td>\n",
              "      <td>NaN</td>\n",
              "      <td>NaN</td>\n",
              "      <td>NaN</td>\n",
              "      <td>NaN</td>\n",
              "      <td>NaN</td>\n",
              "      <td>NaN</td>\n",
              "      <td>NaN</td>\n",
              "      <td>NaN</td>\n",
              "      <td>NaN</td>\n",
              "      <td>NaN</td>\n",
              "      <td>NaN</td>\n",
              "      <td>NaN</td>\n",
              "      <td>NaN</td>\n",
              "      <td>NaN</td>\n",
              "      <td>NaN</td>\n",
              "      <td>NaN</td>\n",
              "      <td>NaN</td>\n",
              "      <td>NaN</td>\n",
              "      <td>NaN</td>\n",
              "      <td>NaN</td>\n",
              "      <td>NaN</td>\n",
              "      <td>NaN</td>\n",
              "      <td>NaN</td>\n",
              "      <td>NaN</td>\n",
              "      <td>NaN</td>\n",
              "      <td>NaN</td>\n",
              "      <td>NaN</td>\n",
              "      <td>NaN</td>\n",
              "      <td>NaN</td>\n",
              "      <td>NaN</td>\n",
              "      <td>NaN</td>\n",
              "      <td>NaN</td>\n",
              "      <td>NaN</td>\n",
              "      <td>NaN</td>\n",
              "    </tr>\n",
              "  </tbody>\n",
              "</table>\n",
              "<p>248 rows × 248 columns</p>\n",
              "</div>"
            ],
            "text/plain": [
              "                                                    top20  ...  48_Yes, most ML models are \"black boxes\"\n",
              "top20                                                 NaN  ...                                  0.005208\n",
              "duration                                              NaN  ...                                  0.020349\n",
              "1_Female                                              NaN  ...                                  0.024538\n",
              "1_Male                                                NaN  ...                                  0.024538\n",
              "2_18-21                                               NaN  ...                                  0.016004\n",
              "...                                                   ...  ...                                       ...\n",
              "48_I am confident that I can explain the output...    NaN  ...                                  0.084015\n",
              "48_I am confident that I can understand and exp...    NaN  ...                                  0.246781\n",
              "48_I do not know; I have no opinion on the matter     NaN  ...                                  0.073975\n",
              "48_I view ML models as \"black boxes\" but I am c...    NaN  ...                                  0.138735\n",
              "48_Yes, most ML models are \"black boxes\"              NaN  ...                                       NaN\n",
              "\n",
              "[248 rows x 248 columns]"
            ]
          },
          "metadata": {
            "tags": []
          },
          "execution_count": 129
        }
      ]
    },
    {
      "cell_type": "markdown",
      "metadata": {
        "id": "qyV_p4TDQIoJ",
        "colab_type": "text"
      },
      "source": [
        "* 7_Student의 경우 Role = Student와 정확히 일치하기 때문에 변수 제거해줌. "
      ]
    },
    {
      "cell_type": "code",
      "metadata": {
        "id": "Kcfy2GbR7nGz",
        "colab_type": "code",
        "colab": {}
      },
      "source": [
        "clean_dataset = clean_dataset.drop('7_Student', axis=1)"
      ],
      "execution_count": null,
      "outputs": []
    },
    {
      "cell_type": "code",
      "metadata": {
        "id": "DbcVcRlKX0Z7",
        "colab_type": "code",
        "colab": {
          "base_uri": "https://localhost:8080/",
          "height": 35
        },
        "outputId": "f99bfeb3-a917-4ff7-d47a-07a0005a8a97"
      },
      "source": [
        "# Finding NANs\n",
        "df = clean_dataset.isnull().sum().to_frame()\n",
        "print('We found {} NaNs on the dataset after treatment'.format(df[df[0] > 0].shape[0]))\n",
        "## 질문을 날리는게 더 낫지않을까? 유의하게 안나오면 질문 날리고 진행해봅시다. "
      ],
      "execution_count": null,
      "outputs": [
        {
          "output_type": "stream",
          "text": [
            "We found 5 NaNs on the dataset after treatment\n"
          ],
          "name": "stdout"
        }
      ]
    },
    {
      "cell_type": "code",
      "metadata": {
        "id": "LABM7vX1hrwM",
        "colab_type": "code",
        "colab": {
          "base_uri": "https://localhost:8080/",
          "height": 250
        },
        "outputId": "20e54523-a810-4e0c-ccc5-62accdf869d9"
      },
      "source": [
        "df[0]"
      ],
      "execution_count": null,
      "outputs": [
        {
          "output_type": "execute_result",
          "data": {
            "text/plain": [
              "top20                                                                                                     0\n",
              "duration                                                                                                  0\n",
              "1_Female                                                                                                  0\n",
              "1_Male                                                                                                    0\n",
              "2_18-21                                                                                                   0\n",
              "                                                                                                         ..\n",
              "48_I am confident that I can explain the outputs of most if not all ML models                             0\n",
              "48_I am confident that I can understand and explain the outputs of many but not all ML models             0\n",
              "48_I do not know; I have no opinion on the matter                                                         0\n",
              "48_I view ML models as \"black boxes\" but I am confident that experts are able to explain model outputs    0\n",
              "48_Yes, most ML models are \"black boxes\"                                                                  0\n",
              "Name: 0, Length: 247, dtype: int64"
            ]
          },
          "metadata": {
            "tags": []
          },
          "execution_count": 132
        }
      ]
    },
    {
      "cell_type": "code",
      "metadata": {
        "id": "d5DVq8n_YE4L",
        "colab_type": "code",
        "colab": {
          "base_uri": "https://localhost:8080/",
          "height": 194
        },
        "outputId": "e1476862-9b54-4bc8-cd4a-91c929638067"
      },
      "source": [
        "df[df[0]>0]"
      ],
      "execution_count": null,
      "outputs": [
        {
          "output_type": "execute_result",
          "data": {
            "text/html": [
              "<div>\n",
              "<style scoped>\n",
              "    .dataframe tbody tr th:only-of-type {\n",
              "        vertical-align: middle;\n",
              "    }\n",
              "\n",
              "    .dataframe tbody tr th {\n",
              "        vertical-align: top;\n",
              "    }\n",
              "\n",
              "    .dataframe thead th {\n",
              "        text-align: right;\n",
              "    }\n",
              "</style>\n",
              "<table border=\"1\" class=\"dataframe\">\n",
              "  <thead>\n",
              "    <tr style=\"text-align: right;\">\n",
              "      <th></th>\n",
              "      <th>0</th>\n",
              "    </tr>\n",
              "  </thead>\n",
              "  <tbody>\n",
              "    <tr>\n",
              "      <th>35_Q35_Part_1</th>\n",
              "      <td>1260</td>\n",
              "    </tr>\n",
              "    <tr>\n",
              "      <th>35_Q35_Part_2</th>\n",
              "      <td>1260</td>\n",
              "    </tr>\n",
              "    <tr>\n",
              "      <th>35_Q35_Part_3</th>\n",
              "      <td>1260</td>\n",
              "    </tr>\n",
              "    <tr>\n",
              "      <th>35_Q35_Part_4</th>\n",
              "      <td>1260</td>\n",
              "    </tr>\n",
              "    <tr>\n",
              "      <th>35_Q35_Part_5</th>\n",
              "      <td>1260</td>\n",
              "    </tr>\n",
              "  </tbody>\n",
              "</table>\n",
              "</div>"
            ],
            "text/plain": [
              "                  0\n",
              "35_Q35_Part_1  1260\n",
              "35_Q35_Part_2  1260\n",
              "35_Q35_Part_3  1260\n",
              "35_Q35_Part_4  1260\n",
              "35_Q35_Part_5  1260"
            ]
          },
          "metadata": {
            "tags": []
          },
          "execution_count": 133
        }
      ]
    },
    {
      "cell_type": "code",
      "metadata": {
        "id": "IOR_tKN_X-ry",
        "colab_type": "code",
        "colab": {}
      },
      "source": [
        "for c in clean_dataset:\n",
        "    if len(clean_dataset[clean_dataset[c].isna()])>0:\n",
        "        clean_dataset=clean_dataset[~clean_dataset[c].isna()]"
      ],
      "execution_count": null,
      "outputs": []
    },
    {
      "cell_type": "code",
      "metadata": {
        "id": "YYSM6Z8gYLXO",
        "colab_type": "code",
        "colab": {
          "base_uri": "https://localhost:8080/",
          "height": 35
        },
        "outputId": "c88f7a04-f3ed-432f-8d43-97278fc7cb18"
      },
      "source": [
        "clean_dataset.shape"
      ],
      "execution_count": null,
      "outputs": [
        {
          "output_type": "execute_result",
          "data": {
            "text/plain": [
              "(8940, 247)"
            ]
          },
          "metadata": {
            "tags": []
          },
          "execution_count": 135
        }
      ]
    },
    {
      "cell_type": "code",
      "metadata": {
        "id": "y-nwxUWkYXfF",
        "colab_type": "code",
        "colab": {
          "base_uri": "https://localhost:8080/",
          "height": 463
        },
        "outputId": "ac49d6dc-f0f4-43b9-c062-9c804c830096"
      },
      "source": [
        "clean_dataset.head()"
      ],
      "execution_count": null,
      "outputs": [
        {
          "output_type": "execute_result",
          "data": {
            "text/html": [
              "<div>\n",
              "<style scoped>\n",
              "    .dataframe tbody tr th:only-of-type {\n",
              "        vertical-align: middle;\n",
              "    }\n",
              "\n",
              "    .dataframe tbody tr th {\n",
              "        vertical-align: top;\n",
              "    }\n",
              "\n",
              "    .dataframe thead th {\n",
              "        text-align: right;\n",
              "    }\n",
              "</style>\n",
              "<table border=\"1\" class=\"dataframe\">\n",
              "  <thead>\n",
              "    <tr style=\"text-align: right;\">\n",
              "      <th></th>\n",
              "      <th>top20</th>\n",
              "      <th>duration</th>\n",
              "      <th>1_Female</th>\n",
              "      <th>1_Male</th>\n",
              "      <th>2_18-21</th>\n",
              "      <th>2_22-24</th>\n",
              "      <th>2_25-29</th>\n",
              "      <th>2_30-34</th>\n",
              "      <th>2_35-39</th>\n",
              "      <th>2_40-44</th>\n",
              "      <th>3_Asia</th>\n",
              "      <th>3_Europe</th>\n",
              "      <th>3_NorthAmerica</th>\n",
              "      <th>3_SouthAmerica</th>\n",
              "      <th>4_Bachelor’s degree</th>\n",
              "      <th>4_Doctoral degree</th>\n",
              "      <th>4_Master’s degree</th>\n",
              "      <th>Data Analyst</th>\n",
              "      <th>Data Engineer/DBA</th>\n",
              "      <th>Data Scientist</th>\n",
              "      <th>Software Engineer</th>\n",
              "      <th>Statistician/Research Scientist</th>\n",
              "      <th>Student</th>\n",
              "      <th>5_A business discipline (accounting, economics, finance, etc.)</th>\n",
              "      <th>5_Computer science (software engineering, etc.)</th>\n",
              "      <th>5_Engineering (non-computer focused)</th>\n",
              "      <th>5_Mathematics or statistics</th>\n",
              "      <th>5_Physics or astronomy</th>\n",
              "      <th>7_Academics/Education</th>\n",
              "      <th>7_Accounting/Finance</th>\n",
              "      <th>7_Computers/Technology</th>\n",
              "      <th>8_0-1</th>\n",
              "      <th>8_1-2</th>\n",
              "      <th>8_10-15</th>\n",
              "      <th>8_2-3</th>\n",
              "      <th>8_3-4</th>\n",
              "      <th>8_4-5</th>\n",
              "      <th>8_5-10</th>\n",
              "      <th>10_I do not know</th>\n",
              "      <th>10_No (we do not use ML methods)</th>\n",
              "      <th>...</th>\n",
              "      <th>47_Examine feature importances</th>\n",
              "      <th>47_Plot decision boundaries</th>\n",
              "      <th>47_Create partial dependence plots</th>\n",
              "      <th>47_Dimensionality reduction techniques</th>\n",
              "      <th>47_Attention mapping/saliency mapping</th>\n",
              "      <th>47_Plot predicted vs. actual results</th>\n",
              "      <th>47_Print out a decision tree</th>\n",
              "      <th>47_Sensitivity analysis/perturbation importance</th>\n",
              "      <th>47_LIME functions</th>\n",
              "      <th>47_None/I do not use these model explanation techniques</th>\n",
              "      <th>49_Share code on Github or a similar code-sharing repository</th>\n",
              "      <th>49_Share both data and code on Github or a similar code-sharing repository</th>\n",
              "      <th>49_Share data, code, and environment using a hosted service (Kaggle Kernels, Google Colaboratory, Amazon SageMaker, etc.)</th>\n",
              "      <th>49_Share data, code, and environment using containers (Docker, etc.)</th>\n",
              "      <th>49_Share code, data, and environment using virtual machines (VirtualBox, etc.)</th>\n",
              "      <th>49_Make sure the code is well documented</th>\n",
              "      <th>49_Make sure the code is human-readable</th>\n",
              "      <th>49_Define all random seeds</th>\n",
              "      <th>49_Define relative rather than absolute file paths</th>\n",
              "      <th>49_Include a text file describing all dependencies</th>\n",
              "      <th>50_Too expensive</th>\n",
              "      <th>50_Too time-consuming</th>\n",
              "      <th>50_Requires too much technical knowledge</th>\n",
              "      <th>50_Afraid that others will use my work without giving proper credit</th>\n",
              "      <th>50_Not enough incentives to share my work</th>\n",
              "      <th>50_I had never considered making my work easier for others to reproduce</th>\n",
              "      <th>50_None of these reasons apply to me</th>\n",
              "      <th>35_Q35_Part_1</th>\n",
              "      <th>35_Q35_Part_2</th>\n",
              "      <th>35_Q35_Part_3</th>\n",
              "      <th>35_Q35_Part_4</th>\n",
              "      <th>35_Q35_Part_5</th>\n",
              "      <th>40_Independent projects are equally important as academic achievements</th>\n",
              "      <th>40_Independent projects are much more important than academic achievements</th>\n",
              "      <th>40_Independent projects are slightly more important than academic achievements</th>\n",
              "      <th>48_I am confident that I can explain the outputs of most if not all ML models</th>\n",
              "      <th>48_I am confident that I can understand and explain the outputs of many but not all ML models</th>\n",
              "      <th>48_I do not know; I have no opinion on the matter</th>\n",
              "      <th>48_I view ML models as \"black boxes\" but I am confident that experts are able to explain model outputs</th>\n",
              "      <th>48_Yes, most ML models are \"black boxes\"</th>\n",
              "    </tr>\n",
              "  </thead>\n",
              "  <tbody>\n",
              "    <tr>\n",
              "      <th>0</th>\n",
              "      <td>0</td>\n",
              "      <td>718</td>\n",
              "      <td>1</td>\n",
              "      <td>0</td>\n",
              "      <td>0</td>\n",
              "      <td>0</td>\n",
              "      <td>0</td>\n",
              "      <td>1</td>\n",
              "      <td>0</td>\n",
              "      <td>0</td>\n",
              "      <td>0</td>\n",
              "      <td>0</td>\n",
              "      <td>1</td>\n",
              "      <td>0</td>\n",
              "      <td>0</td>\n",
              "      <td>0</td>\n",
              "      <td>1</td>\n",
              "      <td>0</td>\n",
              "      <td>0</td>\n",
              "      <td>0</td>\n",
              "      <td>0</td>\n",
              "      <td>0</td>\n",
              "      <td>1</td>\n",
              "      <td>0</td>\n",
              "      <td>1</td>\n",
              "      <td>0</td>\n",
              "      <td>0</td>\n",
              "      <td>0</td>\n",
              "      <td>0</td>\n",
              "      <td>0</td>\n",
              "      <td>0</td>\n",
              "      <td>1</td>\n",
              "      <td>0</td>\n",
              "      <td>0</td>\n",
              "      <td>0</td>\n",
              "      <td>0</td>\n",
              "      <td>0</td>\n",
              "      <td>0</td>\n",
              "      <td>1</td>\n",
              "      <td>0</td>\n",
              "      <td>...</td>\n",
              "      <td>1</td>\n",
              "      <td>0</td>\n",
              "      <td>0</td>\n",
              "      <td>0</td>\n",
              "      <td>0</td>\n",
              "      <td>1</td>\n",
              "      <td>0</td>\n",
              "      <td>0</td>\n",
              "      <td>0</td>\n",
              "      <td>0</td>\n",
              "      <td>0</td>\n",
              "      <td>0</td>\n",
              "      <td>0</td>\n",
              "      <td>0</td>\n",
              "      <td>0</td>\n",
              "      <td>0</td>\n",
              "      <td>1</td>\n",
              "      <td>1</td>\n",
              "      <td>0</td>\n",
              "      <td>1</td>\n",
              "      <td>0</td>\n",
              "      <td>1</td>\n",
              "      <td>0</td>\n",
              "      <td>0</td>\n",
              "      <td>0</td>\n",
              "      <td>0</td>\n",
              "      <td>0</td>\n",
              "      <td>0.0</td>\n",
              "      <td>0.0</td>\n",
              "      <td>0.0</td>\n",
              "      <td>1.0</td>\n",
              "      <td>0.0</td>\n",
              "      <td>1</td>\n",
              "      <td>0</td>\n",
              "      <td>0</td>\n",
              "      <td>1</td>\n",
              "      <td>0</td>\n",
              "      <td>0</td>\n",
              "      <td>0</td>\n",
              "      <td>0</td>\n",
              "    </tr>\n",
              "    <tr>\n",
              "      <th>1</th>\n",
              "      <td>0</td>\n",
              "      <td>731</td>\n",
              "      <td>0</td>\n",
              "      <td>1</td>\n",
              "      <td>0</td>\n",
              "      <td>1</td>\n",
              "      <td>0</td>\n",
              "      <td>0</td>\n",
              "      <td>0</td>\n",
              "      <td>0</td>\n",
              "      <td>1</td>\n",
              "      <td>0</td>\n",
              "      <td>0</td>\n",
              "      <td>0</td>\n",
              "      <td>0</td>\n",
              "      <td>0</td>\n",
              "      <td>1</td>\n",
              "      <td>0</td>\n",
              "      <td>0</td>\n",
              "      <td>0</td>\n",
              "      <td>0</td>\n",
              "      <td>0</td>\n",
              "      <td>1</td>\n",
              "      <td>0</td>\n",
              "      <td>0</td>\n",
              "      <td>0</td>\n",
              "      <td>1</td>\n",
              "      <td>0</td>\n",
              "      <td>0</td>\n",
              "      <td>0</td>\n",
              "      <td>0</td>\n",
              "      <td>1</td>\n",
              "      <td>0</td>\n",
              "      <td>0</td>\n",
              "      <td>0</td>\n",
              "      <td>0</td>\n",
              "      <td>0</td>\n",
              "      <td>0</td>\n",
              "      <td>1</td>\n",
              "      <td>0</td>\n",
              "      <td>...</td>\n",
              "      <td>0</td>\n",
              "      <td>0</td>\n",
              "      <td>1</td>\n",
              "      <td>0</td>\n",
              "      <td>0</td>\n",
              "      <td>0</td>\n",
              "      <td>0</td>\n",
              "      <td>0</td>\n",
              "      <td>0</td>\n",
              "      <td>0</td>\n",
              "      <td>0</td>\n",
              "      <td>0</td>\n",
              "      <td>0</td>\n",
              "      <td>0</td>\n",
              "      <td>0</td>\n",
              "      <td>0</td>\n",
              "      <td>0</td>\n",
              "      <td>0</td>\n",
              "      <td>1</td>\n",
              "      <td>0</td>\n",
              "      <td>0</td>\n",
              "      <td>1</td>\n",
              "      <td>0</td>\n",
              "      <td>0</td>\n",
              "      <td>1</td>\n",
              "      <td>0</td>\n",
              "      <td>0</td>\n",
              "      <td>0.2</td>\n",
              "      <td>0.4</td>\n",
              "      <td>0.2</td>\n",
              "      <td>0.2</td>\n",
              "      <td>0.0</td>\n",
              "      <td>0</td>\n",
              "      <td>0</td>\n",
              "      <td>1</td>\n",
              "      <td>0</td>\n",
              "      <td>1</td>\n",
              "      <td>0</td>\n",
              "      <td>0</td>\n",
              "      <td>0</td>\n",
              "    </tr>\n",
              "    <tr>\n",
              "      <th>2</th>\n",
              "      <td>0</td>\n",
              "      <td>751</td>\n",
              "      <td>0</td>\n",
              "      <td>1</td>\n",
              "      <td>0</td>\n",
              "      <td>0</td>\n",
              "      <td>0</td>\n",
              "      <td>1</td>\n",
              "      <td>0</td>\n",
              "      <td>0</td>\n",
              "      <td>0</td>\n",
              "      <td>1</td>\n",
              "      <td>0</td>\n",
              "      <td>0</td>\n",
              "      <td>0</td>\n",
              "      <td>0</td>\n",
              "      <td>1</td>\n",
              "      <td>0</td>\n",
              "      <td>0</td>\n",
              "      <td>0</td>\n",
              "      <td>1</td>\n",
              "      <td>0</td>\n",
              "      <td>0</td>\n",
              "      <td>0</td>\n",
              "      <td>0</td>\n",
              "      <td>1</td>\n",
              "      <td>0</td>\n",
              "      <td>0</td>\n",
              "      <td>0</td>\n",
              "      <td>0</td>\n",
              "      <td>0</td>\n",
              "      <td>0</td>\n",
              "      <td>0</td>\n",
              "      <td>0</td>\n",
              "      <td>0</td>\n",
              "      <td>1</td>\n",
              "      <td>0</td>\n",
              "      <td>0</td>\n",
              "      <td>0</td>\n",
              "      <td>0</td>\n",
              "      <td>...</td>\n",
              "      <td>0</td>\n",
              "      <td>0</td>\n",
              "      <td>0</td>\n",
              "      <td>1</td>\n",
              "      <td>0</td>\n",
              "      <td>1</td>\n",
              "      <td>1</td>\n",
              "      <td>0</td>\n",
              "      <td>0</td>\n",
              "      <td>0</td>\n",
              "      <td>0</td>\n",
              "      <td>0</td>\n",
              "      <td>1</td>\n",
              "      <td>0</td>\n",
              "      <td>0</td>\n",
              "      <td>1</td>\n",
              "      <td>1</td>\n",
              "      <td>1</td>\n",
              "      <td>0</td>\n",
              "      <td>1</td>\n",
              "      <td>0</td>\n",
              "      <td>1</td>\n",
              "      <td>0</td>\n",
              "      <td>1</td>\n",
              "      <td>0</td>\n",
              "      <td>0</td>\n",
              "      <td>0</td>\n",
              "      <td>0.7</td>\n",
              "      <td>0.3</td>\n",
              "      <td>0.0</td>\n",
              "      <td>0.0</td>\n",
              "      <td>0.0</td>\n",
              "      <td>1</td>\n",
              "      <td>0</td>\n",
              "      <td>0</td>\n",
              "      <td>0</td>\n",
              "      <td>1</td>\n",
              "      <td>0</td>\n",
              "      <td>0</td>\n",
              "      <td>0</td>\n",
              "    </tr>\n",
              "    <tr>\n",
              "      <th>3</th>\n",
              "      <td>1</td>\n",
              "      <td>823</td>\n",
              "      <td>0</td>\n",
              "      <td>1</td>\n",
              "      <td>0</td>\n",
              "      <td>0</td>\n",
              "      <td>0</td>\n",
              "      <td>0</td>\n",
              "      <td>0</td>\n",
              "      <td>1</td>\n",
              "      <td>0</td>\n",
              "      <td>0</td>\n",
              "      <td>1</td>\n",
              "      <td>0</td>\n",
              "      <td>0</td>\n",
              "      <td>0</td>\n",
              "      <td>1</td>\n",
              "      <td>0</td>\n",
              "      <td>0</td>\n",
              "      <td>1</td>\n",
              "      <td>0</td>\n",
              "      <td>0</td>\n",
              "      <td>0</td>\n",
              "      <td>0</td>\n",
              "      <td>0</td>\n",
              "      <td>1</td>\n",
              "      <td>0</td>\n",
              "      <td>0</td>\n",
              "      <td>0</td>\n",
              "      <td>0</td>\n",
              "      <td>0</td>\n",
              "      <td>0</td>\n",
              "      <td>0</td>\n",
              "      <td>0</td>\n",
              "      <td>0</td>\n",
              "      <td>0</td>\n",
              "      <td>0</td>\n",
              "      <td>1</td>\n",
              "      <td>0</td>\n",
              "      <td>0</td>\n",
              "      <td>...</td>\n",
              "      <td>0</td>\n",
              "      <td>0</td>\n",
              "      <td>0</td>\n",
              "      <td>0</td>\n",
              "      <td>0</td>\n",
              "      <td>0</td>\n",
              "      <td>0</td>\n",
              "      <td>0</td>\n",
              "      <td>0</td>\n",
              "      <td>1</td>\n",
              "      <td>0</td>\n",
              "      <td>0</td>\n",
              "      <td>0</td>\n",
              "      <td>1</td>\n",
              "      <td>0</td>\n",
              "      <td>1</td>\n",
              "      <td>1</td>\n",
              "      <td>1</td>\n",
              "      <td>0</td>\n",
              "      <td>1</td>\n",
              "      <td>0</td>\n",
              "      <td>1</td>\n",
              "      <td>0</td>\n",
              "      <td>0</td>\n",
              "      <td>1</td>\n",
              "      <td>0</td>\n",
              "      <td>0</td>\n",
              "      <td>0.0</td>\n",
              "      <td>0.0</td>\n",
              "      <td>0.1</td>\n",
              "      <td>0.8</td>\n",
              "      <td>0.1</td>\n",
              "      <td>0</td>\n",
              "      <td>0</td>\n",
              "      <td>0</td>\n",
              "      <td>0</td>\n",
              "      <td>1</td>\n",
              "      <td>0</td>\n",
              "      <td>0</td>\n",
              "      <td>0</td>\n",
              "    </tr>\n",
              "    <tr>\n",
              "      <th>4</th>\n",
              "      <td>0</td>\n",
              "      <td>846</td>\n",
              "      <td>1</td>\n",
              "      <td>0</td>\n",
              "      <td>0</td>\n",
              "      <td>0</td>\n",
              "      <td>1</td>\n",
              "      <td>0</td>\n",
              "      <td>0</td>\n",
              "      <td>0</td>\n",
              "      <td>0</td>\n",
              "      <td>0</td>\n",
              "      <td>0</td>\n",
              "      <td>1</td>\n",
              "      <td>1</td>\n",
              "      <td>0</td>\n",
              "      <td>0</td>\n",
              "      <td>1</td>\n",
              "      <td>0</td>\n",
              "      <td>0</td>\n",
              "      <td>0</td>\n",
              "      <td>0</td>\n",
              "      <td>0</td>\n",
              "      <td>1</td>\n",
              "      <td>0</td>\n",
              "      <td>0</td>\n",
              "      <td>0</td>\n",
              "      <td>0</td>\n",
              "      <td>0</td>\n",
              "      <td>0</td>\n",
              "      <td>0</td>\n",
              "      <td>0</td>\n",
              "      <td>1</td>\n",
              "      <td>0</td>\n",
              "      <td>0</td>\n",
              "      <td>0</td>\n",
              "      <td>0</td>\n",
              "      <td>0</td>\n",
              "      <td>0</td>\n",
              "      <td>0</td>\n",
              "      <td>...</td>\n",
              "      <td>1</td>\n",
              "      <td>0</td>\n",
              "      <td>1</td>\n",
              "      <td>0</td>\n",
              "      <td>0</td>\n",
              "      <td>0</td>\n",
              "      <td>1</td>\n",
              "      <td>0</td>\n",
              "      <td>0</td>\n",
              "      <td>0</td>\n",
              "      <td>0</td>\n",
              "      <td>0</td>\n",
              "      <td>0</td>\n",
              "      <td>0</td>\n",
              "      <td>0</td>\n",
              "      <td>1</td>\n",
              "      <td>1</td>\n",
              "      <td>0</td>\n",
              "      <td>0</td>\n",
              "      <td>0</td>\n",
              "      <td>0</td>\n",
              "      <td>1</td>\n",
              "      <td>0</td>\n",
              "      <td>0</td>\n",
              "      <td>0</td>\n",
              "      <td>0</td>\n",
              "      <td>0</td>\n",
              "      <td>0.3</td>\n",
              "      <td>0.4</td>\n",
              "      <td>0.0</td>\n",
              "      <td>0.0</td>\n",
              "      <td>0.3</td>\n",
              "      <td>1</td>\n",
              "      <td>0</td>\n",
              "      <td>0</td>\n",
              "      <td>0</td>\n",
              "      <td>1</td>\n",
              "      <td>0</td>\n",
              "      <td>0</td>\n",
              "      <td>0</td>\n",
              "    </tr>\n",
              "  </tbody>\n",
              "</table>\n",
              "<p>5 rows × 247 columns</p>\n",
              "</div>"
            ],
            "text/plain": [
              "   top20  ...  48_Yes, most ML models are \"black boxes\"\n",
              "0      0  ...                                         0\n",
              "1      0  ...                                         0\n",
              "2      0  ...                                         0\n",
              "3      1  ...                                         0\n",
              "4      0  ...                                         0\n",
              "\n",
              "[5 rows x 247 columns]"
            ]
          },
          "metadata": {
            "tags": []
          },
          "execution_count": 136
        }
      ]
    },
    {
      "cell_type": "code",
      "metadata": {
        "id": "7BbazO6tYbIG",
        "colab_type": "code",
        "colab": {
          "base_uri": "https://localhost:8080/",
          "height": 639
        },
        "outputId": "000b071e-7185-4c17-c046-60bf75c54db8"
      },
      "source": [
        "clean_dataset.iloc[:,2:]"
      ],
      "execution_count": null,
      "outputs": [
        {
          "output_type": "execute_result",
          "data": {
            "text/html": [
              "<div>\n",
              "<style scoped>\n",
              "    .dataframe tbody tr th:only-of-type {\n",
              "        vertical-align: middle;\n",
              "    }\n",
              "\n",
              "    .dataframe tbody tr th {\n",
              "        vertical-align: top;\n",
              "    }\n",
              "\n",
              "    .dataframe thead th {\n",
              "        text-align: right;\n",
              "    }\n",
              "</style>\n",
              "<table border=\"1\" class=\"dataframe\">\n",
              "  <thead>\n",
              "    <tr style=\"text-align: right;\">\n",
              "      <th></th>\n",
              "      <th>1_Female</th>\n",
              "      <th>1_Male</th>\n",
              "      <th>2_18-21</th>\n",
              "      <th>2_22-24</th>\n",
              "      <th>2_25-29</th>\n",
              "      <th>2_30-34</th>\n",
              "      <th>2_35-39</th>\n",
              "      <th>2_40-44</th>\n",
              "      <th>3_Asia</th>\n",
              "      <th>3_Europe</th>\n",
              "      <th>3_NorthAmerica</th>\n",
              "      <th>3_SouthAmerica</th>\n",
              "      <th>4_Bachelor’s degree</th>\n",
              "      <th>4_Doctoral degree</th>\n",
              "      <th>4_Master’s degree</th>\n",
              "      <th>Data Analyst</th>\n",
              "      <th>Data Engineer/DBA</th>\n",
              "      <th>Data Scientist</th>\n",
              "      <th>Software Engineer</th>\n",
              "      <th>Statistician/Research Scientist</th>\n",
              "      <th>Student</th>\n",
              "      <th>5_A business discipline (accounting, economics, finance, etc.)</th>\n",
              "      <th>5_Computer science (software engineering, etc.)</th>\n",
              "      <th>5_Engineering (non-computer focused)</th>\n",
              "      <th>5_Mathematics or statistics</th>\n",
              "      <th>5_Physics or astronomy</th>\n",
              "      <th>7_Academics/Education</th>\n",
              "      <th>7_Accounting/Finance</th>\n",
              "      <th>7_Computers/Technology</th>\n",
              "      <th>8_0-1</th>\n",
              "      <th>8_1-2</th>\n",
              "      <th>8_10-15</th>\n",
              "      <th>8_2-3</th>\n",
              "      <th>8_3-4</th>\n",
              "      <th>8_4-5</th>\n",
              "      <th>8_5-10</th>\n",
              "      <th>10_I do not know</th>\n",
              "      <th>10_No (we do not use ML methods)</th>\n",
              "      <th>10_We are exploring ML methods (and may one day put a model into production)</th>\n",
              "      <th>10_We have well established ML methods (i.e., models in production for more than 2 years)</th>\n",
              "      <th>...</th>\n",
              "      <th>47_Examine feature importances</th>\n",
              "      <th>47_Plot decision boundaries</th>\n",
              "      <th>47_Create partial dependence plots</th>\n",
              "      <th>47_Dimensionality reduction techniques</th>\n",
              "      <th>47_Attention mapping/saliency mapping</th>\n",
              "      <th>47_Plot predicted vs. actual results</th>\n",
              "      <th>47_Print out a decision tree</th>\n",
              "      <th>47_Sensitivity analysis/perturbation importance</th>\n",
              "      <th>47_LIME functions</th>\n",
              "      <th>47_None/I do not use these model explanation techniques</th>\n",
              "      <th>49_Share code on Github or a similar code-sharing repository</th>\n",
              "      <th>49_Share both data and code on Github or a similar code-sharing repository</th>\n",
              "      <th>49_Share data, code, and environment using a hosted service (Kaggle Kernels, Google Colaboratory, Amazon SageMaker, etc.)</th>\n",
              "      <th>49_Share data, code, and environment using containers (Docker, etc.)</th>\n",
              "      <th>49_Share code, data, and environment using virtual machines (VirtualBox, etc.)</th>\n",
              "      <th>49_Make sure the code is well documented</th>\n",
              "      <th>49_Make sure the code is human-readable</th>\n",
              "      <th>49_Define all random seeds</th>\n",
              "      <th>49_Define relative rather than absolute file paths</th>\n",
              "      <th>49_Include a text file describing all dependencies</th>\n",
              "      <th>50_Too expensive</th>\n",
              "      <th>50_Too time-consuming</th>\n",
              "      <th>50_Requires too much technical knowledge</th>\n",
              "      <th>50_Afraid that others will use my work without giving proper credit</th>\n",
              "      <th>50_Not enough incentives to share my work</th>\n",
              "      <th>50_I had never considered making my work easier for others to reproduce</th>\n",
              "      <th>50_None of these reasons apply to me</th>\n",
              "      <th>35_Q35_Part_1</th>\n",
              "      <th>35_Q35_Part_2</th>\n",
              "      <th>35_Q35_Part_3</th>\n",
              "      <th>35_Q35_Part_4</th>\n",
              "      <th>35_Q35_Part_5</th>\n",
              "      <th>40_Independent projects are equally important as academic achievements</th>\n",
              "      <th>40_Independent projects are much more important than academic achievements</th>\n",
              "      <th>40_Independent projects are slightly more important than academic achievements</th>\n",
              "      <th>48_I am confident that I can explain the outputs of most if not all ML models</th>\n",
              "      <th>48_I am confident that I can understand and explain the outputs of many but not all ML models</th>\n",
              "      <th>48_I do not know; I have no opinion on the matter</th>\n",
              "      <th>48_I view ML models as \"black boxes\" but I am confident that experts are able to explain model outputs</th>\n",
              "      <th>48_Yes, most ML models are \"black boxes\"</th>\n",
              "    </tr>\n",
              "  </thead>\n",
              "  <tbody>\n",
              "    <tr>\n",
              "      <th>0</th>\n",
              "      <td>1</td>\n",
              "      <td>0</td>\n",
              "      <td>0</td>\n",
              "      <td>0</td>\n",
              "      <td>0</td>\n",
              "      <td>1</td>\n",
              "      <td>0</td>\n",
              "      <td>0</td>\n",
              "      <td>0</td>\n",
              "      <td>0</td>\n",
              "      <td>1</td>\n",
              "      <td>0</td>\n",
              "      <td>0</td>\n",
              "      <td>0</td>\n",
              "      <td>1</td>\n",
              "      <td>0</td>\n",
              "      <td>0</td>\n",
              "      <td>0</td>\n",
              "      <td>0</td>\n",
              "      <td>0</td>\n",
              "      <td>1</td>\n",
              "      <td>0</td>\n",
              "      <td>1</td>\n",
              "      <td>0</td>\n",
              "      <td>0</td>\n",
              "      <td>0</td>\n",
              "      <td>0</td>\n",
              "      <td>0</td>\n",
              "      <td>0</td>\n",
              "      <td>1</td>\n",
              "      <td>0</td>\n",
              "      <td>0</td>\n",
              "      <td>0</td>\n",
              "      <td>0</td>\n",
              "      <td>0</td>\n",
              "      <td>0</td>\n",
              "      <td>1</td>\n",
              "      <td>0</td>\n",
              "      <td>0</td>\n",
              "      <td>0</td>\n",
              "      <td>...</td>\n",
              "      <td>1</td>\n",
              "      <td>0</td>\n",
              "      <td>0</td>\n",
              "      <td>0</td>\n",
              "      <td>0</td>\n",
              "      <td>1</td>\n",
              "      <td>0</td>\n",
              "      <td>0</td>\n",
              "      <td>0</td>\n",
              "      <td>0</td>\n",
              "      <td>0</td>\n",
              "      <td>0</td>\n",
              "      <td>0</td>\n",
              "      <td>0</td>\n",
              "      <td>0</td>\n",
              "      <td>0</td>\n",
              "      <td>1</td>\n",
              "      <td>1</td>\n",
              "      <td>0</td>\n",
              "      <td>1</td>\n",
              "      <td>0</td>\n",
              "      <td>1</td>\n",
              "      <td>0</td>\n",
              "      <td>0</td>\n",
              "      <td>0</td>\n",
              "      <td>0</td>\n",
              "      <td>0</td>\n",
              "      <td>0.0</td>\n",
              "      <td>0.00</td>\n",
              "      <td>0.0</td>\n",
              "      <td>1.00</td>\n",
              "      <td>0.0</td>\n",
              "      <td>1</td>\n",
              "      <td>0</td>\n",
              "      <td>0</td>\n",
              "      <td>1</td>\n",
              "      <td>0</td>\n",
              "      <td>0</td>\n",
              "      <td>0</td>\n",
              "      <td>0</td>\n",
              "    </tr>\n",
              "    <tr>\n",
              "      <th>1</th>\n",
              "      <td>0</td>\n",
              "      <td>1</td>\n",
              "      <td>0</td>\n",
              "      <td>1</td>\n",
              "      <td>0</td>\n",
              "      <td>0</td>\n",
              "      <td>0</td>\n",
              "      <td>0</td>\n",
              "      <td>1</td>\n",
              "      <td>0</td>\n",
              "      <td>0</td>\n",
              "      <td>0</td>\n",
              "      <td>0</td>\n",
              "      <td>0</td>\n",
              "      <td>1</td>\n",
              "      <td>0</td>\n",
              "      <td>0</td>\n",
              "      <td>0</td>\n",
              "      <td>0</td>\n",
              "      <td>0</td>\n",
              "      <td>1</td>\n",
              "      <td>0</td>\n",
              "      <td>0</td>\n",
              "      <td>0</td>\n",
              "      <td>1</td>\n",
              "      <td>0</td>\n",
              "      <td>0</td>\n",
              "      <td>0</td>\n",
              "      <td>0</td>\n",
              "      <td>1</td>\n",
              "      <td>0</td>\n",
              "      <td>0</td>\n",
              "      <td>0</td>\n",
              "      <td>0</td>\n",
              "      <td>0</td>\n",
              "      <td>0</td>\n",
              "      <td>1</td>\n",
              "      <td>0</td>\n",
              "      <td>0</td>\n",
              "      <td>0</td>\n",
              "      <td>...</td>\n",
              "      <td>0</td>\n",
              "      <td>0</td>\n",
              "      <td>1</td>\n",
              "      <td>0</td>\n",
              "      <td>0</td>\n",
              "      <td>0</td>\n",
              "      <td>0</td>\n",
              "      <td>0</td>\n",
              "      <td>0</td>\n",
              "      <td>0</td>\n",
              "      <td>0</td>\n",
              "      <td>0</td>\n",
              "      <td>0</td>\n",
              "      <td>0</td>\n",
              "      <td>0</td>\n",
              "      <td>0</td>\n",
              "      <td>0</td>\n",
              "      <td>0</td>\n",
              "      <td>1</td>\n",
              "      <td>0</td>\n",
              "      <td>0</td>\n",
              "      <td>1</td>\n",
              "      <td>0</td>\n",
              "      <td>0</td>\n",
              "      <td>1</td>\n",
              "      <td>0</td>\n",
              "      <td>0</td>\n",
              "      <td>0.2</td>\n",
              "      <td>0.40</td>\n",
              "      <td>0.2</td>\n",
              "      <td>0.20</td>\n",
              "      <td>0.0</td>\n",
              "      <td>0</td>\n",
              "      <td>0</td>\n",
              "      <td>1</td>\n",
              "      <td>0</td>\n",
              "      <td>1</td>\n",
              "      <td>0</td>\n",
              "      <td>0</td>\n",
              "      <td>0</td>\n",
              "    </tr>\n",
              "    <tr>\n",
              "      <th>2</th>\n",
              "      <td>0</td>\n",
              "      <td>1</td>\n",
              "      <td>0</td>\n",
              "      <td>0</td>\n",
              "      <td>0</td>\n",
              "      <td>1</td>\n",
              "      <td>0</td>\n",
              "      <td>0</td>\n",
              "      <td>0</td>\n",
              "      <td>1</td>\n",
              "      <td>0</td>\n",
              "      <td>0</td>\n",
              "      <td>0</td>\n",
              "      <td>0</td>\n",
              "      <td>1</td>\n",
              "      <td>0</td>\n",
              "      <td>0</td>\n",
              "      <td>0</td>\n",
              "      <td>1</td>\n",
              "      <td>0</td>\n",
              "      <td>0</td>\n",
              "      <td>0</td>\n",
              "      <td>0</td>\n",
              "      <td>1</td>\n",
              "      <td>0</td>\n",
              "      <td>0</td>\n",
              "      <td>0</td>\n",
              "      <td>0</td>\n",
              "      <td>0</td>\n",
              "      <td>0</td>\n",
              "      <td>0</td>\n",
              "      <td>0</td>\n",
              "      <td>0</td>\n",
              "      <td>1</td>\n",
              "      <td>0</td>\n",
              "      <td>0</td>\n",
              "      <td>0</td>\n",
              "      <td>0</td>\n",
              "      <td>0</td>\n",
              "      <td>1</td>\n",
              "      <td>...</td>\n",
              "      <td>0</td>\n",
              "      <td>0</td>\n",
              "      <td>0</td>\n",
              "      <td>1</td>\n",
              "      <td>0</td>\n",
              "      <td>1</td>\n",
              "      <td>1</td>\n",
              "      <td>0</td>\n",
              "      <td>0</td>\n",
              "      <td>0</td>\n",
              "      <td>0</td>\n",
              "      <td>0</td>\n",
              "      <td>1</td>\n",
              "      <td>0</td>\n",
              "      <td>0</td>\n",
              "      <td>1</td>\n",
              "      <td>1</td>\n",
              "      <td>1</td>\n",
              "      <td>0</td>\n",
              "      <td>1</td>\n",
              "      <td>0</td>\n",
              "      <td>1</td>\n",
              "      <td>0</td>\n",
              "      <td>1</td>\n",
              "      <td>0</td>\n",
              "      <td>0</td>\n",
              "      <td>0</td>\n",
              "      <td>0.7</td>\n",
              "      <td>0.30</td>\n",
              "      <td>0.0</td>\n",
              "      <td>0.00</td>\n",
              "      <td>0.0</td>\n",
              "      <td>1</td>\n",
              "      <td>0</td>\n",
              "      <td>0</td>\n",
              "      <td>0</td>\n",
              "      <td>1</td>\n",
              "      <td>0</td>\n",
              "      <td>0</td>\n",
              "      <td>0</td>\n",
              "    </tr>\n",
              "    <tr>\n",
              "      <th>3</th>\n",
              "      <td>0</td>\n",
              "      <td>1</td>\n",
              "      <td>0</td>\n",
              "      <td>0</td>\n",
              "      <td>0</td>\n",
              "      <td>0</td>\n",
              "      <td>0</td>\n",
              "      <td>1</td>\n",
              "      <td>0</td>\n",
              "      <td>0</td>\n",
              "      <td>1</td>\n",
              "      <td>0</td>\n",
              "      <td>0</td>\n",
              "      <td>0</td>\n",
              "      <td>1</td>\n",
              "      <td>0</td>\n",
              "      <td>0</td>\n",
              "      <td>1</td>\n",
              "      <td>0</td>\n",
              "      <td>0</td>\n",
              "      <td>0</td>\n",
              "      <td>0</td>\n",
              "      <td>0</td>\n",
              "      <td>1</td>\n",
              "      <td>0</td>\n",
              "      <td>0</td>\n",
              "      <td>0</td>\n",
              "      <td>0</td>\n",
              "      <td>0</td>\n",
              "      <td>0</td>\n",
              "      <td>0</td>\n",
              "      <td>0</td>\n",
              "      <td>0</td>\n",
              "      <td>0</td>\n",
              "      <td>0</td>\n",
              "      <td>1</td>\n",
              "      <td>0</td>\n",
              "      <td>0</td>\n",
              "      <td>0</td>\n",
              "      <td>0</td>\n",
              "      <td>...</td>\n",
              "      <td>0</td>\n",
              "      <td>0</td>\n",
              "      <td>0</td>\n",
              "      <td>0</td>\n",
              "      <td>0</td>\n",
              "      <td>0</td>\n",
              "      <td>0</td>\n",
              "      <td>0</td>\n",
              "      <td>0</td>\n",
              "      <td>1</td>\n",
              "      <td>0</td>\n",
              "      <td>0</td>\n",
              "      <td>0</td>\n",
              "      <td>1</td>\n",
              "      <td>0</td>\n",
              "      <td>1</td>\n",
              "      <td>1</td>\n",
              "      <td>1</td>\n",
              "      <td>0</td>\n",
              "      <td>1</td>\n",
              "      <td>0</td>\n",
              "      <td>1</td>\n",
              "      <td>0</td>\n",
              "      <td>0</td>\n",
              "      <td>1</td>\n",
              "      <td>0</td>\n",
              "      <td>0</td>\n",
              "      <td>0.0</td>\n",
              "      <td>0.00</td>\n",
              "      <td>0.1</td>\n",
              "      <td>0.80</td>\n",
              "      <td>0.1</td>\n",
              "      <td>0</td>\n",
              "      <td>0</td>\n",
              "      <td>0</td>\n",
              "      <td>0</td>\n",
              "      <td>1</td>\n",
              "      <td>0</td>\n",
              "      <td>0</td>\n",
              "      <td>0</td>\n",
              "    </tr>\n",
              "    <tr>\n",
              "      <th>4</th>\n",
              "      <td>1</td>\n",
              "      <td>0</td>\n",
              "      <td>0</td>\n",
              "      <td>0</td>\n",
              "      <td>1</td>\n",
              "      <td>0</td>\n",
              "      <td>0</td>\n",
              "      <td>0</td>\n",
              "      <td>0</td>\n",
              "      <td>0</td>\n",
              "      <td>0</td>\n",
              "      <td>1</td>\n",
              "      <td>1</td>\n",
              "      <td>0</td>\n",
              "      <td>0</td>\n",
              "      <td>1</td>\n",
              "      <td>0</td>\n",
              "      <td>0</td>\n",
              "      <td>0</td>\n",
              "      <td>0</td>\n",
              "      <td>0</td>\n",
              "      <td>1</td>\n",
              "      <td>0</td>\n",
              "      <td>0</td>\n",
              "      <td>0</td>\n",
              "      <td>0</td>\n",
              "      <td>0</td>\n",
              "      <td>0</td>\n",
              "      <td>0</td>\n",
              "      <td>0</td>\n",
              "      <td>1</td>\n",
              "      <td>0</td>\n",
              "      <td>0</td>\n",
              "      <td>0</td>\n",
              "      <td>0</td>\n",
              "      <td>0</td>\n",
              "      <td>0</td>\n",
              "      <td>0</td>\n",
              "      <td>0</td>\n",
              "      <td>1</td>\n",
              "      <td>...</td>\n",
              "      <td>1</td>\n",
              "      <td>0</td>\n",
              "      <td>1</td>\n",
              "      <td>0</td>\n",
              "      <td>0</td>\n",
              "      <td>0</td>\n",
              "      <td>1</td>\n",
              "      <td>0</td>\n",
              "      <td>0</td>\n",
              "      <td>0</td>\n",
              "      <td>0</td>\n",
              "      <td>0</td>\n",
              "      <td>0</td>\n",
              "      <td>0</td>\n",
              "      <td>0</td>\n",
              "      <td>1</td>\n",
              "      <td>1</td>\n",
              "      <td>0</td>\n",
              "      <td>0</td>\n",
              "      <td>0</td>\n",
              "      <td>0</td>\n",
              "      <td>1</td>\n",
              "      <td>0</td>\n",
              "      <td>0</td>\n",
              "      <td>0</td>\n",
              "      <td>0</td>\n",
              "      <td>0</td>\n",
              "      <td>0.3</td>\n",
              "      <td>0.40</td>\n",
              "      <td>0.0</td>\n",
              "      <td>0.00</td>\n",
              "      <td>0.3</td>\n",
              "      <td>1</td>\n",
              "      <td>0</td>\n",
              "      <td>0</td>\n",
              "      <td>0</td>\n",
              "      <td>1</td>\n",
              "      <td>0</td>\n",
              "      <td>0</td>\n",
              "      <td>0</td>\n",
              "    </tr>\n",
              "    <tr>\n",
              "      <th>...</th>\n",
              "      <td>...</td>\n",
              "      <td>...</td>\n",
              "      <td>...</td>\n",
              "      <td>...</td>\n",
              "      <td>...</td>\n",
              "      <td>...</td>\n",
              "      <td>...</td>\n",
              "      <td>...</td>\n",
              "      <td>...</td>\n",
              "      <td>...</td>\n",
              "      <td>...</td>\n",
              "      <td>...</td>\n",
              "      <td>...</td>\n",
              "      <td>...</td>\n",
              "      <td>...</td>\n",
              "      <td>...</td>\n",
              "      <td>...</td>\n",
              "      <td>...</td>\n",
              "      <td>...</td>\n",
              "      <td>...</td>\n",
              "      <td>...</td>\n",
              "      <td>...</td>\n",
              "      <td>...</td>\n",
              "      <td>...</td>\n",
              "      <td>...</td>\n",
              "      <td>...</td>\n",
              "      <td>...</td>\n",
              "      <td>...</td>\n",
              "      <td>...</td>\n",
              "      <td>...</td>\n",
              "      <td>...</td>\n",
              "      <td>...</td>\n",
              "      <td>...</td>\n",
              "      <td>...</td>\n",
              "      <td>...</td>\n",
              "      <td>...</td>\n",
              "      <td>...</td>\n",
              "      <td>...</td>\n",
              "      <td>...</td>\n",
              "      <td>...</td>\n",
              "      <td>...</td>\n",
              "      <td>...</td>\n",
              "      <td>...</td>\n",
              "      <td>...</td>\n",
              "      <td>...</td>\n",
              "      <td>...</td>\n",
              "      <td>...</td>\n",
              "      <td>...</td>\n",
              "      <td>...</td>\n",
              "      <td>...</td>\n",
              "      <td>...</td>\n",
              "      <td>...</td>\n",
              "      <td>...</td>\n",
              "      <td>...</td>\n",
              "      <td>...</td>\n",
              "      <td>...</td>\n",
              "      <td>...</td>\n",
              "      <td>...</td>\n",
              "      <td>...</td>\n",
              "      <td>...</td>\n",
              "      <td>...</td>\n",
              "      <td>...</td>\n",
              "      <td>...</td>\n",
              "      <td>...</td>\n",
              "      <td>...</td>\n",
              "      <td>...</td>\n",
              "      <td>...</td>\n",
              "      <td>...</td>\n",
              "      <td>...</td>\n",
              "      <td>...</td>\n",
              "      <td>...</td>\n",
              "      <td>...</td>\n",
              "      <td>...</td>\n",
              "      <td>...</td>\n",
              "      <td>...</td>\n",
              "      <td>...</td>\n",
              "      <td>...</td>\n",
              "      <td>...</td>\n",
              "      <td>...</td>\n",
              "      <td>...</td>\n",
              "      <td>...</td>\n",
              "    </tr>\n",
              "    <tr>\n",
              "      <th>10190</th>\n",
              "      <td>0</td>\n",
              "      <td>1</td>\n",
              "      <td>0</td>\n",
              "      <td>0</td>\n",
              "      <td>0</td>\n",
              "      <td>1</td>\n",
              "      <td>0</td>\n",
              "      <td>0</td>\n",
              "      <td>1</td>\n",
              "      <td>0</td>\n",
              "      <td>0</td>\n",
              "      <td>0</td>\n",
              "      <td>1</td>\n",
              "      <td>0</td>\n",
              "      <td>0</td>\n",
              "      <td>0</td>\n",
              "      <td>0</td>\n",
              "      <td>1</td>\n",
              "      <td>0</td>\n",
              "      <td>0</td>\n",
              "      <td>0</td>\n",
              "      <td>0</td>\n",
              "      <td>0</td>\n",
              "      <td>0</td>\n",
              "      <td>0</td>\n",
              "      <td>0</td>\n",
              "      <td>0</td>\n",
              "      <td>0</td>\n",
              "      <td>1</td>\n",
              "      <td>0</td>\n",
              "      <td>0</td>\n",
              "      <td>0</td>\n",
              "      <td>0</td>\n",
              "      <td>0</td>\n",
              "      <td>1</td>\n",
              "      <td>0</td>\n",
              "      <td>0</td>\n",
              "      <td>0</td>\n",
              "      <td>0</td>\n",
              "      <td>0</td>\n",
              "      <td>...</td>\n",
              "      <td>0</td>\n",
              "      <td>0</td>\n",
              "      <td>0</td>\n",
              "      <td>0</td>\n",
              "      <td>0</td>\n",
              "      <td>0</td>\n",
              "      <td>0</td>\n",
              "      <td>0</td>\n",
              "      <td>0</td>\n",
              "      <td>0</td>\n",
              "      <td>0</td>\n",
              "      <td>0</td>\n",
              "      <td>0</td>\n",
              "      <td>0</td>\n",
              "      <td>0</td>\n",
              "      <td>0</td>\n",
              "      <td>0</td>\n",
              "      <td>0</td>\n",
              "      <td>0</td>\n",
              "      <td>0</td>\n",
              "      <td>0</td>\n",
              "      <td>0</td>\n",
              "      <td>0</td>\n",
              "      <td>0</td>\n",
              "      <td>0</td>\n",
              "      <td>0</td>\n",
              "      <td>0</td>\n",
              "      <td>0.0</td>\n",
              "      <td>0.00</td>\n",
              "      <td>0.2</td>\n",
              "      <td>0.00</td>\n",
              "      <td>0.8</td>\n",
              "      <td>0</td>\n",
              "      <td>1</td>\n",
              "      <td>0</td>\n",
              "      <td>0</td>\n",
              "      <td>0</td>\n",
              "      <td>0</td>\n",
              "      <td>0</td>\n",
              "      <td>0</td>\n",
              "    </tr>\n",
              "    <tr>\n",
              "      <th>10192</th>\n",
              "      <td>0</td>\n",
              "      <td>1</td>\n",
              "      <td>0</td>\n",
              "      <td>0</td>\n",
              "      <td>1</td>\n",
              "      <td>0</td>\n",
              "      <td>0</td>\n",
              "      <td>0</td>\n",
              "      <td>1</td>\n",
              "      <td>0</td>\n",
              "      <td>0</td>\n",
              "      <td>0</td>\n",
              "      <td>1</td>\n",
              "      <td>0</td>\n",
              "      <td>0</td>\n",
              "      <td>0</td>\n",
              "      <td>1</td>\n",
              "      <td>0</td>\n",
              "      <td>0</td>\n",
              "      <td>0</td>\n",
              "      <td>0</td>\n",
              "      <td>0</td>\n",
              "      <td>1</td>\n",
              "      <td>0</td>\n",
              "      <td>0</td>\n",
              "      <td>0</td>\n",
              "      <td>0</td>\n",
              "      <td>0</td>\n",
              "      <td>0</td>\n",
              "      <td>0</td>\n",
              "      <td>0</td>\n",
              "      <td>0</td>\n",
              "      <td>0</td>\n",
              "      <td>1</td>\n",
              "      <td>0</td>\n",
              "      <td>0</td>\n",
              "      <td>0</td>\n",
              "      <td>1</td>\n",
              "      <td>0</td>\n",
              "      <td>0</td>\n",
              "      <td>...</td>\n",
              "      <td>0</td>\n",
              "      <td>0</td>\n",
              "      <td>0</td>\n",
              "      <td>0</td>\n",
              "      <td>0</td>\n",
              "      <td>0</td>\n",
              "      <td>0</td>\n",
              "      <td>0</td>\n",
              "      <td>0</td>\n",
              "      <td>1</td>\n",
              "      <td>0</td>\n",
              "      <td>0</td>\n",
              "      <td>0</td>\n",
              "      <td>0</td>\n",
              "      <td>0</td>\n",
              "      <td>0</td>\n",
              "      <td>0</td>\n",
              "      <td>0</td>\n",
              "      <td>0</td>\n",
              "      <td>0</td>\n",
              "      <td>0</td>\n",
              "      <td>0</td>\n",
              "      <td>0</td>\n",
              "      <td>0</td>\n",
              "      <td>0</td>\n",
              "      <td>0</td>\n",
              "      <td>0</td>\n",
              "      <td>0.4</td>\n",
              "      <td>0.60</td>\n",
              "      <td>0.0</td>\n",
              "      <td>0.00</td>\n",
              "      <td>0.0</td>\n",
              "      <td>0</td>\n",
              "      <td>1</td>\n",
              "      <td>0</td>\n",
              "      <td>0</td>\n",
              "      <td>0</td>\n",
              "      <td>1</td>\n",
              "      <td>0</td>\n",
              "      <td>0</td>\n",
              "    </tr>\n",
              "    <tr>\n",
              "      <th>10194</th>\n",
              "      <td>0</td>\n",
              "      <td>1</td>\n",
              "      <td>0</td>\n",
              "      <td>0</td>\n",
              "      <td>1</td>\n",
              "      <td>0</td>\n",
              "      <td>0</td>\n",
              "      <td>0</td>\n",
              "      <td>1</td>\n",
              "      <td>0</td>\n",
              "      <td>0</td>\n",
              "      <td>0</td>\n",
              "      <td>1</td>\n",
              "      <td>0</td>\n",
              "      <td>0</td>\n",
              "      <td>0</td>\n",
              "      <td>0</td>\n",
              "      <td>0</td>\n",
              "      <td>1</td>\n",
              "      <td>0</td>\n",
              "      <td>0</td>\n",
              "      <td>0</td>\n",
              "      <td>1</td>\n",
              "      <td>0</td>\n",
              "      <td>0</td>\n",
              "      <td>0</td>\n",
              "      <td>0</td>\n",
              "      <td>0</td>\n",
              "      <td>1</td>\n",
              "      <td>0</td>\n",
              "      <td>1</td>\n",
              "      <td>0</td>\n",
              "      <td>0</td>\n",
              "      <td>0</td>\n",
              "      <td>0</td>\n",
              "      <td>0</td>\n",
              "      <td>0</td>\n",
              "      <td>0</td>\n",
              "      <td>1</td>\n",
              "      <td>0</td>\n",
              "      <td>...</td>\n",
              "      <td>0</td>\n",
              "      <td>0</td>\n",
              "      <td>0</td>\n",
              "      <td>0</td>\n",
              "      <td>0</td>\n",
              "      <td>0</td>\n",
              "      <td>0</td>\n",
              "      <td>0</td>\n",
              "      <td>0</td>\n",
              "      <td>0</td>\n",
              "      <td>0</td>\n",
              "      <td>0</td>\n",
              "      <td>0</td>\n",
              "      <td>0</td>\n",
              "      <td>0</td>\n",
              "      <td>0</td>\n",
              "      <td>0</td>\n",
              "      <td>0</td>\n",
              "      <td>0</td>\n",
              "      <td>0</td>\n",
              "      <td>0</td>\n",
              "      <td>0</td>\n",
              "      <td>0</td>\n",
              "      <td>0</td>\n",
              "      <td>0</td>\n",
              "      <td>0</td>\n",
              "      <td>0</td>\n",
              "      <td>0.1</td>\n",
              "      <td>0.25</td>\n",
              "      <td>0.5</td>\n",
              "      <td>0.15</td>\n",
              "      <td>0.0</td>\n",
              "      <td>0</td>\n",
              "      <td>0</td>\n",
              "      <td>1</td>\n",
              "      <td>0</td>\n",
              "      <td>0</td>\n",
              "      <td>0</td>\n",
              "      <td>0</td>\n",
              "      <td>0</td>\n",
              "    </tr>\n",
              "    <tr>\n",
              "      <th>10195</th>\n",
              "      <td>0</td>\n",
              "      <td>1</td>\n",
              "      <td>0</td>\n",
              "      <td>0</td>\n",
              "      <td>0</td>\n",
              "      <td>0</td>\n",
              "      <td>1</td>\n",
              "      <td>0</td>\n",
              "      <td>0</td>\n",
              "      <td>1</td>\n",
              "      <td>0</td>\n",
              "      <td>0</td>\n",
              "      <td>0</td>\n",
              "      <td>1</td>\n",
              "      <td>0</td>\n",
              "      <td>0</td>\n",
              "      <td>0</td>\n",
              "      <td>0</td>\n",
              "      <td>0</td>\n",
              "      <td>1</td>\n",
              "      <td>0</td>\n",
              "      <td>0</td>\n",
              "      <td>1</td>\n",
              "      <td>0</td>\n",
              "      <td>0</td>\n",
              "      <td>0</td>\n",
              "      <td>1</td>\n",
              "      <td>0</td>\n",
              "      <td>0</td>\n",
              "      <td>0</td>\n",
              "      <td>0</td>\n",
              "      <td>1</td>\n",
              "      <td>0</td>\n",
              "      <td>0</td>\n",
              "      <td>0</td>\n",
              "      <td>0</td>\n",
              "      <td>0</td>\n",
              "      <td>1</td>\n",
              "      <td>0</td>\n",
              "      <td>0</td>\n",
              "      <td>...</td>\n",
              "      <td>0</td>\n",
              "      <td>1</td>\n",
              "      <td>0</td>\n",
              "      <td>0</td>\n",
              "      <td>0</td>\n",
              "      <td>1</td>\n",
              "      <td>1</td>\n",
              "      <td>0</td>\n",
              "      <td>0</td>\n",
              "      <td>0</td>\n",
              "      <td>1</td>\n",
              "      <td>0</td>\n",
              "      <td>0</td>\n",
              "      <td>1</td>\n",
              "      <td>0</td>\n",
              "      <td>1</td>\n",
              "      <td>1</td>\n",
              "      <td>0</td>\n",
              "      <td>1</td>\n",
              "      <td>1</td>\n",
              "      <td>0</td>\n",
              "      <td>1</td>\n",
              "      <td>0</td>\n",
              "      <td>1</td>\n",
              "      <td>1</td>\n",
              "      <td>0</td>\n",
              "      <td>0</td>\n",
              "      <td>0.6</td>\n",
              "      <td>0.10</td>\n",
              "      <td>0.2</td>\n",
              "      <td>0.10</td>\n",
              "      <td>0.0</td>\n",
              "      <td>0</td>\n",
              "      <td>0</td>\n",
              "      <td>0</td>\n",
              "      <td>1</td>\n",
              "      <td>0</td>\n",
              "      <td>0</td>\n",
              "      <td>0</td>\n",
              "      <td>0</td>\n",
              "    </tr>\n",
              "    <tr>\n",
              "      <th>10197</th>\n",
              "      <td>1</td>\n",
              "      <td>0</td>\n",
              "      <td>0</td>\n",
              "      <td>1</td>\n",
              "      <td>0</td>\n",
              "      <td>0</td>\n",
              "      <td>0</td>\n",
              "      <td>0</td>\n",
              "      <td>1</td>\n",
              "      <td>0</td>\n",
              "      <td>0</td>\n",
              "      <td>0</td>\n",
              "      <td>0</td>\n",
              "      <td>0</td>\n",
              "      <td>1</td>\n",
              "      <td>0</td>\n",
              "      <td>0</td>\n",
              "      <td>0</td>\n",
              "      <td>0</td>\n",
              "      <td>0</td>\n",
              "      <td>1</td>\n",
              "      <td>0</td>\n",
              "      <td>0</td>\n",
              "      <td>0</td>\n",
              "      <td>0</td>\n",
              "      <td>0</td>\n",
              "      <td>0</td>\n",
              "      <td>0</td>\n",
              "      <td>0</td>\n",
              "      <td>0</td>\n",
              "      <td>0</td>\n",
              "      <td>0</td>\n",
              "      <td>0</td>\n",
              "      <td>0</td>\n",
              "      <td>0</td>\n",
              "      <td>0</td>\n",
              "      <td>1</td>\n",
              "      <td>0</td>\n",
              "      <td>0</td>\n",
              "      <td>0</td>\n",
              "      <td>...</td>\n",
              "      <td>0</td>\n",
              "      <td>0</td>\n",
              "      <td>0</td>\n",
              "      <td>0</td>\n",
              "      <td>0</td>\n",
              "      <td>0</td>\n",
              "      <td>0</td>\n",
              "      <td>0</td>\n",
              "      <td>0</td>\n",
              "      <td>0</td>\n",
              "      <td>0</td>\n",
              "      <td>0</td>\n",
              "      <td>0</td>\n",
              "      <td>0</td>\n",
              "      <td>0</td>\n",
              "      <td>0</td>\n",
              "      <td>0</td>\n",
              "      <td>0</td>\n",
              "      <td>0</td>\n",
              "      <td>0</td>\n",
              "      <td>0</td>\n",
              "      <td>0</td>\n",
              "      <td>0</td>\n",
              "      <td>0</td>\n",
              "      <td>0</td>\n",
              "      <td>0</td>\n",
              "      <td>0</td>\n",
              "      <td>0.0</td>\n",
              "      <td>0.00</td>\n",
              "      <td>0.0</td>\n",
              "      <td>0.00</td>\n",
              "      <td>1.0</td>\n",
              "      <td>0</td>\n",
              "      <td>0</td>\n",
              "      <td>0</td>\n",
              "      <td>0</td>\n",
              "      <td>0</td>\n",
              "      <td>0</td>\n",
              "      <td>0</td>\n",
              "      <td>0</td>\n",
              "    </tr>\n",
              "  </tbody>\n",
              "</table>\n",
              "<p>8940 rows × 245 columns</p>\n",
              "</div>"
            ],
            "text/plain": [
              "       1_Female  ...  48_Yes, most ML models are \"black boxes\"\n",
              "0             1  ...                                         0\n",
              "1             0  ...                                         0\n",
              "2             0  ...                                         0\n",
              "3             0  ...                                         0\n",
              "4             1  ...                                         0\n",
              "...         ...  ...                                       ...\n",
              "10190         0  ...                                         0\n",
              "10192         0  ...                                         0\n",
              "10194         0  ...                                         0\n",
              "10195         0  ...                                         0\n",
              "10197         1  ...                                         0\n",
              "\n",
              "[8940 rows x 245 columns]"
            ]
          },
          "metadata": {
            "tags": []
          },
          "execution_count": 137
        }
      ]
    },
    {
      "cell_type": "markdown",
      "metadata": {
        "id": "u3giUgV6Ht_0",
        "colab_type": "text"
      },
      "source": [
        "## Modeling "
      ]
    },
    {
      "cell_type": "markdown",
      "metadata": {
        "id": "8xM7fKPW9y1Z",
        "colab_type": "text"
      },
      "source": [
        "### Calculating Training Error, Test Error and CV score - \n",
        "#### Model Selection Method 1. Using Test error/AUC, \n",
        "#### Model Selection Method 2. Using Cross Validation Score : "
      ]
    },
    {
      "cell_type": "markdown",
      "metadata": {
        "id": "LMQH2G3madFZ",
        "colab_type": "text"
      },
      "source": [
        "* Random Forest, Logistic Regression"
      ]
    },
    {
      "cell_type": "code",
      "metadata": {
        "id": "lE66fuz-Amik",
        "colab_type": "code",
        "colab": {}
      },
      "source": [
        "from sklearn.model_selection import train_test_split\n",
        "\n",
        "x = clean_dataset.iloc[:,2:]\n",
        "y = clean_dataset.iloc[:,0]\n",
        "\n",
        "x_train, x_test, y_train, y_test = train_test_split(x,y,test_size=0.3,random_state=1234)"
      ],
      "execution_count": null,
      "outputs": []
    },
    {
      "cell_type": "code",
      "metadata": {
        "id": "vCHyx15wZyf9",
        "colab_type": "code",
        "colab": {
          "base_uri": "https://localhost:8080/",
          "height": 70
        },
        "outputId": "e9fe0d2d-cfd9-461d-f052-24803d8d4902"
      },
      "source": [
        "y.value_counts()"
      ],
      "execution_count": null,
      "outputs": [
        {
          "output_type": "execute_result",
          "data": {
            "text/plain": [
              "0    7157\n",
              "1    1783\n",
              "Name: top20, dtype: int64"
            ]
          },
          "metadata": {
            "tags": []
          },
          "execution_count": 139
        }
      ]
    },
    {
      "cell_type": "code",
      "metadata": {
        "id": "9zltyvK-Amfl",
        "colab_type": "code",
        "colab": {}
      },
      "source": [
        "from sklearn.metrics import roc_auc_score\n",
        "from sklearn.metrics import accuracy_score\n",
        "from sklearn.metrics import confusion_matrix\n",
        "from sklearn.metrics import precision_score, recall_score\n",
        "from sklearn.metrics import confusion_matrix, f1_score, roc_auc_score"
      ],
      "execution_count": null,
      "outputs": []
    },
    {
      "cell_type": "code",
      "metadata": {
        "id": "5LZF0GE6AmdN",
        "colab_type": "code",
        "colab": {}
      },
      "source": [
        "def display_scores(predictor, X, y):\n",
        "\n",
        "    print('\\n### -- ### -- ' + str(type(predictor)).split('.')[-1][:-2] + ' -- ### -- ###')\n",
        "    # Getting the predicted values\n",
        "    ypred = predictor.predict(X)\n",
        "    ypred_score = predictor.predict_proba(X)\n",
        "    \n",
        "    # calculating metrics\n",
        "    accuracy = accuracy_score(y, ypred)\n",
        "    roc = roc_auc_score(y, pd.DataFrame(ypred_score)[1])\n",
        "    confusion = confusion_matrix(y, ypred)\n",
        "    \n",
        "    print('Confusion Matrix: ', confusion)\n",
        "    print('Accuracy: ', accuracy)\n",
        "    print('AUC: ', roc)\n",
        "    \n",
        "    type1_error = confusion[0][1] / confusion[0].sum() # False Positive - model predicted in top 20%, while it wasn't\n",
        "    type2_error = confusion[1][0] / confusion[1].sum() # False Negative - model predicted out of top 20%, while it was\n",
        "    \n",
        "    print('Type 1 error: ', type1_error)\n",
        "    print('Type 2 error: ', type2_error)"
      ],
      "execution_count": null,
      "outputs": []
    },
    {
      "cell_type": "markdown",
      "metadata": {
        "id": "LJiDKB4bAJxL",
        "colab_type": "text"
      },
      "source": [
        "* Train Accuracy, AUC, and Confusion Matrix of Logistic Regression and Random Forest "
      ]
    },
    {
      "cell_type": "code",
      "metadata": {
        "id": "0jMKa1IZAmcE",
        "colab_type": "code",
        "colab": {
          "base_uri": "https://localhost:8080/",
          "height": 301
        },
        "outputId": "2ee893d8-3d98-4830-d8cd-766ff044347f"
      },
      "source": [
        "from sklearn.linear_model import LogisticRegression\n",
        "from sklearn import svm\n",
        "from sklearn.ensemble import RandomForestClassifier\n",
        "\n",
        "rforest = RandomForestClassifier(n_estimators=100, random_state=1234)\n",
        "lreg = LogisticRegression(solver='liblinear', random_state=1234)\n",
        "\n",
        "# Fit the models\n",
        "rforest.fit(x_train, y_train)\n",
        "lreg.fit(x_train, y_train)\n",
        "\n",
        "# Check some metrics\n",
        "display_scores(rforest, x_train, y_train)\n",
        "display_scores(lreg, x_train, y_train)"
      ],
      "execution_count": null,
      "outputs": [
        {
          "output_type": "stream",
          "text": [
            "\n",
            "### -- ### -- RandomForestClassifier -- ### -- ###\n",
            "Confusion Matrix:  [[5035    0]\n",
            " [   1 1222]]\n",
            "Accuracy:  0.9998402045381911\n",
            "AUC:  1.0\n",
            "Type 1 error:  0.0\n",
            "Type 2 error:  0.0008176614881439084\n",
            "\n",
            "### -- ### -- LogisticRegression -- ### -- ###\n",
            "Confusion Matrix:  [[4824  211]\n",
            " [ 416  807]]\n",
            "Accuracy:  0.8998082454458294\n",
            "AUC:  0.9340255172094603\n",
            "Type 1 error:  0.041906653426017876\n",
            "Type 2 error:  0.3401471790678659\n"
          ],
          "name": "stdout"
        }
      ]
    },
    {
      "cell_type": "markdown",
      "metadata": {
        "id": "mYS6LUnbQ-A2",
        "colab_type": "text"
      },
      "source": [
        "=> 결과 해석 : \n",
        "* Training Accuracy of Random Forest Classifier = 0.9998, 1에 가까움, Overfitting 되었나? \n",
        "* Training Accuracy of Logistic Regression = 0.8998, \n",
        "* class imbalanced. (80 vs 20) \n",
        "* AUC를 보는 것이 더 합당할 수 있겠다. "
      ]
    },
    {
      "cell_type": "markdown",
      "metadata": {
        "id": "bgoMxKemAPDG",
        "colab_type": "text"
      },
      "source": [
        "* Cross Validation Score ; used for model selection! "
      ]
    },
    {
      "cell_type": "code",
      "metadata": {
        "id": "icrqMHpcAmap",
        "colab_type": "code",
        "colab": {
          "base_uri": "https://localhost:8080/",
          "height": 230
        },
        "outputId": "d97face8-c523-49f0-f63d-273612aea028"
      },
      "source": [
        "from sklearn.model_selection import cross_val_score\n",
        "\n",
        "def do_cv(predictor, X, y, cv):\n",
        "    print('### -- ### -- ' + str(type(predictor)).split('.')[-1][:-2] + ' -- ### -- ###')\n",
        "    cv_score = cross_val_score(predictor, X, y, scoring='roc_auc', cv=5)\n",
        "    print ('Mean AUC score after a 5-fold cross validation: ', cv_score.mean())\n",
        "    print ('AUC score of each fold: ', cv_score)\n",
        "    \n",
        "do_cv(rforest, x_train, y_train, 5)\n",
        "print('\\n ----------------------------- \\n')\n",
        "do_cv(lreg, x_train, y_train, 5)\n",
        "print('\\n ----------------------------- \\n')\n",
        "\n",
        "RF_cv_score = cross_val_score(rforest, x_train, y_train, scoring='roc_auc', cv=5).mean()\n",
        "LR_cv_score = cross_val_score(lreg, x_train, y_train, scoring='roc_auc', cv=5).mean()\n"
      ],
      "execution_count": null,
      "outputs": [
        {
          "output_type": "stream",
          "text": [
            "### -- ### -- RandomForestClassifier -- ### -- ###\n",
            "Mean AUC score after a 5-fold cross validation:  0.8945428055800763\n",
            "AUC score of each fold:  [0.88509819 0.89753156 0.89848408 0.90143585 0.89016434]\n",
            "\n",
            " ----------------------------- \n",
            "\n",
            "### -- ### -- LogisticRegression -- ### -- ###\n",
            "Mean AUC score after a 5-fold cross validation:  0.9065319710836457\n",
            "AUC score of each fold:  [0.90024117 0.90795047 0.89112539 0.91504957 0.91829326]\n",
            "\n",
            " ----------------------------- \n",
            "\n"
          ],
          "name": "stdout"
        }
      ]
    },
    {
      "cell_type": "markdown",
      "metadata": {
        "id": "o3xm8JLQRS7b",
        "colab_type": "text"
      },
      "source": [
        "* Cross Validation Score for k=5를 해보면, 확실히 위보다 AUC가 많이 떨어진 것을 확인할 수 있다.\n",
        "* 오히려, Parameter Tunning 이전에는 Logistic Regression이 조금 더 높은 mean AUC score를 여기에서 보여주었다. \n",
        "* 다만, Seed가 달라지면 결과도 달라질 수 있기 때문에 두 모델이 성능이 거의 비슷한 것으로 판단. "
      ]
    },
    {
      "cell_type": "markdown",
      "metadata": {
        "id": "uJ94JIHxcKsH",
        "colab_type": "text"
      },
      "source": [
        "* Random Forest, Logistic Regression :  Test Error rate "
      ]
    },
    {
      "cell_type": "code",
      "metadata": {
        "id": "4m-pZXzDcGcu",
        "colab_type": "code",
        "colab": {
          "base_uri": "https://localhost:8080/",
          "height": 301
        },
        "outputId": "3eeedce1-8f55-41fb-e933-2f9dc8ce4538"
      },
      "source": [
        "rforest = RandomForestClassifier(n_estimators=100, random_state=1234)\n",
        "lreg = LogisticRegression(solver='liblinear', random_state=1234)\n",
        "\n",
        "# Fit the models\n",
        "rforest.fit(x_train, y_train)\n",
        "lreg.fit(x_train, y_train)\n",
        "\n",
        "# Check some metrics\n",
        "display_scores(rforest, x_test, y_test)\n",
        "display_scores(lreg, x_test, y_test)\n",
        "\n",
        "rf_pred = rforest.predict(x_test)\n",
        "rf_pred_score = rforest.predict_proba(x_test)\n",
        "    \n",
        "LR_pred = lreg.predict(x_test)\n",
        "LR_pred_score = lreg.predict_proba(x_test)\n",
        "# calculating metrics\n",
        "\n",
        "RF_accuracy = accuracy_score(y_test, rf_pred)\n",
        "RF_roc = roc_auc_score(y_test, pd.DataFrame(rf_pred_score)[1])\n",
        "\n",
        "LR_accuracy = accuracy_score(y_test, LR_pred)\n",
        "LR_roc = roc_auc_score(y_test, pd.DataFrame(LR_pred_score)[1])\n"
      ],
      "execution_count": null,
      "outputs": [
        {
          "output_type": "stream",
          "text": [
            "\n",
            "### -- ### -- RandomForestClassifier -- ### -- ###\n",
            "Confusion Matrix:  [[2080   42]\n",
            " [ 340  220]]\n",
            "Accuracy:  0.8575689783743475\n",
            "AUC:  0.8824571664198197\n",
            "Type 1 error:  0.019792648444863337\n",
            "Type 2 error:  0.6071428571428571\n",
            "\n",
            "### -- ### -- LogisticRegression -- ### -- ###\n",
            "Confusion Matrix:  [[1997  125]\n",
            " [ 226  334]]\n",
            "Accuracy:  0.8691275167785235\n",
            "AUC:  0.8954734414972398\n",
            "Type 1 error:  0.0589066918001885\n",
            "Type 2 error:  0.4035714285714286\n"
          ],
          "name": "stdout"
        }
      ]
    },
    {
      "cell_type": "markdown",
      "metadata": {
        "id": "7FFc9l2zcfsY",
        "colab_type": "text"
      },
      "source": [
        "* Test : Cross Validation Score mean보다 다소 떨어진 AUC와 Accuracy, 하지만 여전히 좋은 성능. "
      ]
    },
    {
      "cell_type": "markdown",
      "metadata": {
        "id": "J4p7vdc_QzJm",
        "colab_type": "text"
      },
      "source": [
        "* Training Accuracy, AUC For SVM and Cross Validation Score for model selection"
      ]
    },
    {
      "cell_type": "code",
      "metadata": {
        "id": "19IZIuokAUvL",
        "colab_type": "code",
        "colab": {
          "base_uri": "https://localhost:8080/",
          "height": 70
        },
        "outputId": "c3bd0771-1e1f-4b70-914b-90aa077d4f40"
      },
      "source": [
        "from sklearn import svm\n",
        "\n",
        "svm = svm.SVC(kernel='linear', random_state=1234)\n",
        "\n",
        "# Fit the models\n",
        "svm.fit(x_train, y_train)\n",
        "\n",
        "ypred = svm.predict(x_train)\n",
        "\n",
        "# calculating metrics\n",
        "## SVM Training Error : \n",
        "accuracy = accuracy_score(y_train, ypred)\n",
        "confusion = confusion_matrix(y_train, ypred)\n",
        "    \n",
        "print('Confusion Matrix: ', confusion)\n",
        "print('Accuracy: ', accuracy)"
      ],
      "execution_count": null,
      "outputs": [
        {
          "output_type": "stream",
          "text": [
            "Confusion Matrix:  [[4845  190]\n",
            " [ 424  799]]\n",
            "Accuracy:  0.9018855864493448\n"
          ],
          "name": "stdout"
        }
      ]
    },
    {
      "cell_type": "markdown",
      "metadata": {
        "id": "TJGkRNzKRqed",
        "colab_type": "text"
      },
      "source": [
        "* SVM Training Accuracy = 0.902"
      ]
    },
    {
      "cell_type": "code",
      "metadata": {
        "id": "9xvT7P4zf4nq",
        "colab_type": "code",
        "colab": {
          "base_uri": "https://localhost:8080/",
          "height": 70
        },
        "outputId": "8b5d0309-e848-4564-ae3d-d19317462f45"
      },
      "source": [
        "from sklearn import svm\n",
        "\n",
        "svm = svm.SVC(kernel='linear', random_state=1234)\n",
        "\n",
        "# Fit the models\n",
        "svm.fit(x_train, y_train)\n",
        "\n",
        "ypred = svm.predict(x_test)\n",
        "\n",
        "# calculating metrics\n",
        "## SVM Training Error : \n",
        "accuracy = accuracy_score(y_test, ypred)\n",
        "confusion = confusion_matrix(y_test, ypred)\n",
        "    \n",
        "print('Confusion Matrix: ', confusion)\n",
        "print('Accuracy: ', accuracy)\n",
        "SVM_acc = accuracy_score(y_test, ypred)"
      ],
      "execution_count": null,
      "outputs": [
        {
          "output_type": "stream",
          "text": [
            "Confusion Matrix:  [[1994  128]\n",
            " [ 235  325]]\n",
            "Accuracy:  0.8646532438478747\n"
          ],
          "name": "stdout"
        }
      ]
    },
    {
      "cell_type": "markdown",
      "metadata": {
        "id": "BpRJGM95l8LJ",
        "colab_type": "text"
      },
      "source": [
        "* SVM Test Accuracy : "
      ]
    },
    {
      "cell_type": "code",
      "metadata": {
        "id": "3K1yXc7M-ODd",
        "colab_type": "code",
        "colab": {}
      },
      "source": [
        "svm_scores = cross_val_score(svm, x_train, y_train, cv=5, scoring='roc_auc')"
      ],
      "execution_count": null,
      "outputs": []
    },
    {
      "cell_type": "code",
      "metadata": {
        "id": "CoTaH00MiGTm",
        "colab_type": "code",
        "colab": {
          "base_uri": "https://localhost:8080/",
          "height": 35
        },
        "outputId": "629a1b5b-97ac-4080-86ff-23e2acacd9f7"
      },
      "source": [
        "svm_scores.mean()"
      ],
      "execution_count": null,
      "outputs": [
        {
          "output_type": "execute_result",
          "data": {
            "text/plain": [
              "0.9023199829364404"
            ]
          },
          "metadata": {
            "tags": []
          },
          "execution_count": 148
        }
      ]
    },
    {
      "cell_type": "markdown",
      "metadata": {
        "id": "H7QXqKcnTIt2",
        "colab_type": "text"
      },
      "source": [
        "* 높은 Cross Validation Score를 보유. (fold = 5) "
      ]
    },
    {
      "cell_type": "markdown",
      "metadata": {
        "id": "Sd2mYjik-ZHX",
        "colab_type": "text"
      },
      "source": [
        "* Xgboost, Gradient Boosting methods \n"
      ]
    },
    {
      "cell_type": "markdown",
      "metadata": {
        "id": "FhRmNxu2BgBr",
        "colab_type": "text"
      },
      "source": [
        "** XGboost Training Error"
      ]
    },
    {
      "cell_type": "code",
      "metadata": {
        "id": "2Z98_XLtWmR8",
        "colab_type": "code",
        "colab": {
          "base_uri": "https://localhost:8080/",
          "height": 141
        },
        "outputId": "43e5a032-6993-425f-8d94-df26c334d1c0"
      },
      "source": [
        "x_train.values"
      ],
      "execution_count": null,
      "outputs": [
        {
          "output_type": "execute_result",
          "data": {
            "text/plain": [
              "array([[0., 1., 0., ..., 0., 0., 0.],\n",
              "       [0., 1., 0., ..., 0., 0., 0.],\n",
              "       [0., 1., 0., ..., 1., 0., 0.],\n",
              "       ...,\n",
              "       [0., 1., 0., ..., 0., 1., 0.],\n",
              "       [0., 1., 0., ..., 0., 0., 1.],\n",
              "       [0., 1., 0., ..., 0., 0., 0.]])"
            ]
          },
          "metadata": {
            "tags": []
          },
          "execution_count": 149
        }
      ]
    },
    {
      "cell_type": "code",
      "metadata": {
        "id": "YOpIE96aaxg3",
        "colab_type": "code",
        "colab": {}
      },
      "source": [
        "Xg_train = x_train.copy()\n",
        "Xg_test = x_test.copy()"
      ],
      "execution_count": null,
      "outputs": []
    },
    {
      "cell_type": "code",
      "metadata": {
        "id": "pwADGjdgav-3",
        "colab_type": "code",
        "colab": {}
      },
      "source": [
        "import re\n",
        "\n",
        "regex = re.compile(r\"\\[|\\]|<\", re.IGNORECASE)\n",
        "\n",
        "Xg_train.columns = [regex.sub(\"_\", col) if any(x in str(col) for x in set(('[', ']', '<'))) else col for col in Xg_train.columns.values]\n",
        "Xg_test.columns = [regex.sub(\"_\", col) if any(x in str(col) for x in set(('[', ']', '<'))) else col for col in Xg_test.columns.values]"
      ],
      "execution_count": null,
      "outputs": []
    },
    {
      "cell_type": "markdown",
      "metadata": {
        "id": "6mm4JiDXdxd7",
        "colab_type": "text"
      },
      "source": [
        "* Xgboost Training Error rate : "
      ]
    },
    {
      "cell_type": "code",
      "metadata": {
        "id": "LmhqgO7lfPDV",
        "colab_type": "code",
        "colab": {}
      },
      "source": [
        "## 평가시 test dataset을 사용하면 학습에 미리 포함되어 바람직하지 않은, 과적합 문제가 발생할수도 있음. "
      ],
      "execution_count": null,
      "outputs": []
    },
    {
      "cell_type": "code",
      "metadata": {
        "id": "pGcZPABqad1t",
        "colab_type": "code",
        "colab": {}
      },
      "source": [
        "from xgboost import XGBClassifier\n",
        "\n",
        "xgb_wrapper = XGBClassifier(n_estimators = 400, learning_rate = 0.1, max_depth = 4,\n",
        "                            eval_metric = \"auc\", early_stopping_rounds=100)\n",
        "xgb_wrapper.fit(Xg_train, y_train)\n",
        "w_preds = xgb_wrapper.predict(Xg_train)"
      ],
      "execution_count": null,
      "outputs": []
    },
    {
      "cell_type": "code",
      "metadata": {
        "id": "vsGCf_bWbaqp",
        "colab_type": "code",
        "colab": {}
      },
      "source": [
        "def get_clf_eval(y_test, y_pred):\n",
        "    confusion = confusion_matrix(y_test, y_pred)\n",
        "    accuracy = accuracy_score(y_test, y_pred)\n",
        "    precision = precision_score(y_test, y_pred)\n",
        "    recall = recall_score(y_test, y_pred)\n",
        "    F1 = f1_score(y_test, y_pred)\n",
        "    AUC = roc_auc_score(y_test, y_pred)\n",
        "    print('오차행렬:\\n', confusion)\n",
        "    print('\\n정확도: {:.4f}'.format(accuracy))\n",
        "    print('정밀도: {:.4f}'.format(precision))\n",
        "    print('재현율: {:.4f}'.format(recall))\n",
        "    print('F1: {:.4f}'.format(F1))\n",
        "    print('AUC: {:.4f}'.format(AUC))"
      ],
      "execution_count": null,
      "outputs": []
    },
    {
      "cell_type": "code",
      "metadata": {
        "id": "_d2CrZCnbd5j",
        "colab_type": "code",
        "colab": {
          "base_uri": "https://localhost:8080/",
          "height": 177
        },
        "outputId": "dc2892d3-8b32-4b1b-bdf1-0a54186830e3"
      },
      "source": [
        "get_clf_eval(y_train, w_preds)"
      ],
      "execution_count": null,
      "outputs": [
        {
          "output_type": "stream",
          "text": [
            "오차행렬:\n",
            " [[5023   12]\n",
            " [  53 1170]]\n",
            "\n",
            "정확도: 0.9896\n",
            "정밀도: 0.9898\n",
            "재현율: 0.9567\n",
            "F1: 0.9730\n",
            "AUC: 0.9771\n"
          ],
          "name": "stdout"
        }
      ]
    },
    {
      "cell_type": "markdown",
      "metadata": {
        "id": "FXEXR91NeM8A",
        "colab_type": "text"
      },
      "source": [
        "Training AUC = 0.9771, Accuracy = 0.9896"
      ]
    },
    {
      "cell_type": "markdown",
      "metadata": {
        "id": "YSEO27Tsd2HD",
        "colab_type": "text"
      },
      "source": [
        "* Xgboost Test Error rate : "
      ]
    },
    {
      "cell_type": "code",
      "metadata": {
        "id": "FJ9k0ZJ5d0Js",
        "colab_type": "code",
        "colab": {}
      },
      "source": [
        "from xgboost import XGBClassifier\n",
        "\n",
        "xgb_wrapper = XGBClassifier(n_estimators = 400, learning_rate = 0.1, max_depth = 4,\n",
        "                            eval_metric = \"auc\", early_stopping_rounds=100)\n",
        "xgb_wrapper.fit(Xg_train, y_train)\n",
        "w_preds = xgb_wrapper.predict(Xg_test)"
      ],
      "execution_count": null,
      "outputs": []
    },
    {
      "cell_type": "code",
      "metadata": {
        "id": "8OBwQJMGeDyV",
        "colab_type": "code",
        "colab": {
          "base_uri": "https://localhost:8080/",
          "height": 177
        },
        "outputId": "ad62d59a-1e1e-4677-f92c-db6a4067e263"
      },
      "source": [
        "get_clf_eval(y_test, w_preds)"
      ],
      "execution_count": null,
      "outputs": [
        {
          "output_type": "stream",
          "text": [
            "오차행렬:\n",
            " [[2002  120]\n",
            " [ 229  331]]\n",
            "\n",
            "정확도: 0.8699\n",
            "정밀도: 0.7339\n",
            "재현율: 0.5911\n",
            "F1: 0.6548\n",
            "AUC: 0.7673\n"
          ],
          "name": "stdout"
        }
      ]
    },
    {
      "cell_type": "code",
      "metadata": {
        "id": "i5B82mOGmKAx",
        "colab_type": "code",
        "colab": {}
      },
      "source": [
        "XGB_accuracy = accuracy_score(y_test, w_preds)\n",
        "XGB_auc = roc_auc_score(y_test, w_preds)"
      ],
      "execution_count": null,
      "outputs": []
    },
    {
      "cell_type": "code",
      "metadata": {
        "id": "CShcCnWVmbue",
        "colab_type": "code",
        "colab": {
          "base_uri": "https://localhost:8080/",
          "height": 35
        },
        "outputId": "fe5ce8de-f573-4a38-b957-6c97ffb2423e"
      },
      "source": [
        "print(XGB_accuracy, XGB_auc)"
      ],
      "execution_count": null,
      "outputs": [
        {
          "output_type": "stream",
          "text": [
            "0.8698732289336316 0.7672605022216237\n"
          ],
          "name": "stdout"
        }
      ]
    },
    {
      "cell_type": "markdown",
      "metadata": {
        "id": "y3aFcdQcadsF",
        "colab_type": "text"
      },
      "source": [
        "* 반면, Test Accuracy와 Test AUC는 엄청 떨어진다. "
      ]
    },
    {
      "cell_type": "code",
      "metadata": {
        "id": "5dmwxOv8gZmp",
        "colab_type": "code",
        "colab": {
          "base_uri": "https://localhost:8080/",
          "height": 461
        },
        "outputId": "8d5e0982-cbd5-491d-f9f5-29ceb5efbf45"
      },
      "source": [
        "from xgboost import plot_importance\n",
        "import matplotlib.pyplot as plt\n",
        "%matplotlib inline\n",
        "\n",
        "fig, ax = plt.subplots(figsize=(10, 12))\n",
        "\n",
        "plot_importance(xgb_wrapper, ax=ax, max_num_features = 20)"
      ],
      "execution_count": null,
      "outputs": [
        {
          "output_type": "execute_result",
          "data": {
            "text/plain": [
              "<matplotlib.axes._subplots.AxesSubplot at 0x7f31862484a8>"
            ]
          },
          "metadata": {
            "tags": []
          },
          "execution_count": 160
        },
        {
          "output_type": "display_data",
          "data": {
            "image/png": "[encoded data removed]",
            "text/plain": [
              "<Figure size 720x864 with 1 Axes>"
            ]
          },
          "metadata": {
            "tags": [],
            "needs_background": "light"
          }
        }
      ]
    },
    {
      "cell_type": "markdown",
      "metadata": {
        "id": "1OAWCNcZhFcC",
        "colab_type": "text"
      },
      "source": [
        "xgboost 상으로는 Q35 Part 4가 가장 기여도가 높게 나타났다. (대학)\n",
        "그 뒤 북미, 다른 Q35 parts, (selft taught, in online course, at work) \n",
        "그 뒤, Age 25-29가, 그리고 Student 역시 Salary의 중요하게 여겨지는 변수 중 하나로 계산되었다. \n",
        "* 클라우드 서비스 사용 중에는 AWS lambda가 의외로 중요 변수로 여겨졌다. "
      ]
    },
    {
      "cell_type": "markdown",
      "metadata": {
        "id": "vqG95EPFB71N",
        "colab_type": "text"
      },
      "source": [
        "** XGboost CV Score : "
      ]
    },
    {
      "cell_type": "code",
      "metadata": {
        "id": "teI0nhrsjwmh",
        "colab_type": "code",
        "colab": {
          "base_uri": "https://localhost:8080/",
          "height": 35
        },
        "outputId": "54a8894e-20ae-47e0-e9ea-a250512318b4"
      },
      "source": [
        "XGB_auc2 = cross_val_score(xgb_wrapper, X=Xg_train, y=y_train, scoring=\"roc_auc\")\n",
        "XGB_auc2"
      ],
      "execution_count": null,
      "outputs": [
        {
          "output_type": "execute_result",
          "data": {
            "text/plain": [
              "array([0.89812131, 0.90444845, 0.89725797, 0.91136634, 0.91209891])"
            ]
          },
          "metadata": {
            "tags": []
          },
          "execution_count": 161
        }
      ]
    },
    {
      "cell_type": "code",
      "metadata": {
        "id": "zizFOeCrkarV",
        "colab_type": "code",
        "colab": {
          "base_uri": "https://localhost:8080/",
          "height": 35
        },
        "outputId": "e83a3ed6-7a72-45a0-e5fc-c04855b7ffa4"
      },
      "source": [
        "XGB_auc2.mean()"
      ],
      "execution_count": null,
      "outputs": [
        {
          "output_type": "execute_result",
          "data": {
            "text/plain": [
              "0.9046585975787421"
            ]
          },
          "metadata": {
            "tags": []
          },
          "execution_count": 162
        }
      ]
    },
    {
      "cell_type": "code",
      "metadata": {
        "id": "68vS-zOLiQEB",
        "colab_type": "code",
        "colab": {}
      },
      "source": [
        "import xgboost as xgb\n",
        "\n",
        "hr_dmatrix = xgb.DMatrix(data=Xg_train, label=y_train)"
      ],
      "execution_count": null,
      "outputs": []
    },
    {
      "cell_type": "code",
      "metadata": {
        "id": "EBjIBY52BTY0",
        "colab_type": "code",
        "colab": {
          "base_uri": "https://localhost:8080/",
          "height": 340
        },
        "outputId": "565e8e54-0612-4f3a-d83c-fa089c103cf3"
      },
      "source": [
        "cv_params = {\"objective\":\"binary:logistic\", \n",
        "             \"n_estimators\": 100,\n",
        "             \"max_depth\":5}\n",
        "\n",
        "hr_cv = xgb.cv(dtrain=hr_dmatrix, \n",
        "               params=cv_params, \n",
        "               nfold=5, \n",
        "               num_boost_round=10, \n",
        "               metrics=\"auc\", \n",
        "               as_pandas=True)\n",
        "hr_cv"
      ],
      "execution_count": null,
      "outputs": [
        {
          "output_type": "execute_result",
          "data": {
            "text/html": [
              "<div>\n",
              "<style scoped>\n",
              "    .dataframe tbody tr th:only-of-type {\n",
              "        vertical-align: middle;\n",
              "    }\n",
              "\n",
              "    .dataframe tbody tr th {\n",
              "        vertical-align: top;\n",
              "    }\n",
              "\n",
              "    .dataframe thead th {\n",
              "        text-align: right;\n",
              "    }\n",
              "</style>\n",
              "<table border=\"1\" class=\"dataframe\">\n",
              "  <thead>\n",
              "    <tr style=\"text-align: right;\">\n",
              "      <th></th>\n",
              "      <th>train-auc-mean</th>\n",
              "      <th>train-auc-std</th>\n",
              "      <th>test-auc-mean</th>\n",
              "      <th>test-auc-std</th>\n",
              "    </tr>\n",
              "  </thead>\n",
              "  <tbody>\n",
              "    <tr>\n",
              "      <th>0</th>\n",
              "      <td>0.883834</td>\n",
              "      <td>0.003335</td>\n",
              "      <td>0.862155</td>\n",
              "      <td>0.013841</td>\n",
              "    </tr>\n",
              "    <tr>\n",
              "      <th>1</th>\n",
              "      <td>0.902118</td>\n",
              "      <td>0.003998</td>\n",
              "      <td>0.878134</td>\n",
              "      <td>0.012261</td>\n",
              "    </tr>\n",
              "    <tr>\n",
              "      <th>2</th>\n",
              "      <td>0.911106</td>\n",
              "      <td>0.003419</td>\n",
              "      <td>0.885499</td>\n",
              "      <td>0.013122</td>\n",
              "    </tr>\n",
              "    <tr>\n",
              "      <th>3</th>\n",
              "      <td>0.915818</td>\n",
              "      <td>0.003229</td>\n",
              "      <td>0.889128</td>\n",
              "      <td>0.010708</td>\n",
              "    </tr>\n",
              "    <tr>\n",
              "      <th>4</th>\n",
              "      <td>0.920159</td>\n",
              "      <td>0.002625</td>\n",
              "      <td>0.893085</td>\n",
              "      <td>0.010411</td>\n",
              "    </tr>\n",
              "    <tr>\n",
              "      <th>5</th>\n",
              "      <td>0.925451</td>\n",
              "      <td>0.001943</td>\n",
              "      <td>0.894900</td>\n",
              "      <td>0.008749</td>\n",
              "    </tr>\n",
              "    <tr>\n",
              "      <th>6</th>\n",
              "      <td>0.928293</td>\n",
              "      <td>0.001835</td>\n",
              "      <td>0.897433</td>\n",
              "      <td>0.007911</td>\n",
              "    </tr>\n",
              "    <tr>\n",
              "      <th>7</th>\n",
              "      <td>0.932132</td>\n",
              "      <td>0.001982</td>\n",
              "      <td>0.900101</td>\n",
              "      <td>0.007893</td>\n",
              "    </tr>\n",
              "    <tr>\n",
              "      <th>8</th>\n",
              "      <td>0.935398</td>\n",
              "      <td>0.001228</td>\n",
              "      <td>0.900781</td>\n",
              "      <td>0.007131</td>\n",
              "    </tr>\n",
              "    <tr>\n",
              "      <th>9</th>\n",
              "      <td>0.938189</td>\n",
              "      <td>0.001463</td>\n",
              "      <td>0.900852</td>\n",
              "      <td>0.007552</td>\n",
              "    </tr>\n",
              "  </tbody>\n",
              "</table>\n",
              "</div>"
            ],
            "text/plain": [
              "   train-auc-mean  train-auc-std  test-auc-mean  test-auc-std\n",
              "0        0.883834       0.003335       0.862155      0.013841\n",
              "1        0.902118       0.003998       0.878134      0.012261\n",
              "2        0.911106       0.003419       0.885499      0.013122\n",
              "3        0.915818       0.003229       0.889128      0.010708\n",
              "4        0.920159       0.002625       0.893085      0.010411\n",
              "5        0.925451       0.001943       0.894900      0.008749\n",
              "6        0.928293       0.001835       0.897433      0.007911\n",
              "7        0.932132       0.001982       0.900101      0.007893\n",
              "8        0.935398       0.001228       0.900781      0.007131\n",
              "9        0.938189       0.001463       0.900852      0.007552"
            ]
          },
          "metadata": {
            "tags": []
          },
          "execution_count": 165
        }
      ]
    },
    {
      "cell_type": "code",
      "metadata": {
        "id": "RQLQ0CDGigiB",
        "colab_type": "code",
        "colab": {
          "base_uri": "https://localhost:8080/",
          "height": 35
        },
        "outputId": "270cad5c-7d4a-4af4-c0d4-ea614668042d"
      },
      "source": [
        "XGB_cv_auc = hr_cv.iloc[:, 2].mean()\n",
        "XGB_cv_auc"
      ],
      "execution_count": null,
      "outputs": [
        {
          "output_type": "execute_result",
          "data": {
            "text/plain": [
              "0.8902069000000001"
            ]
          },
          "metadata": {
            "tags": []
          },
          "execution_count": 166
        }
      ]
    },
    {
      "cell_type": "markdown",
      "metadata": {
        "id": "t4MRc51L_Jsz",
        "colab_type": "text"
      },
      "source": [
        "## Model Comparison \n"
      ]
    },
    {
      "cell_type": "markdown",
      "metadata": {
        "id": "s-HJdeKfp3Pt",
        "colab_type": "text"
      },
      "source": [
        "### By Cross Validation Score - AUC"
      ]
    },
    {
      "cell_type": "code",
      "metadata": {
        "id": "LsMO1xYHpjZk",
        "colab_type": "code",
        "colab": {}
      },
      "source": [
        "CV_table = pd.DataFrame()\n",
        "\n",
        "CV_table.loc[1,'RF_cv_auc'] = RF_cv_score\n",
        "CV_table['LR_cv_auc'] = LR_cv_score\n",
        "CV_table['SVM_cv_auc'] = svm_scores.mean()\n",
        "CV_table['XGB_cv_auc_cross_val'] = XGB_auc2.mean()\n",
        "CV_table['XGB_cv_auc_xgb.cv'] = XGB_cv_auc\n",
        "\n",
        "## Test Data Accuracy and ROC\n",
        "Acc_table = pd.DataFrame()\n",
        "\n",
        "Acc_table.loc[1,'RF_acc'] = RF_accuracy\n",
        "Acc_table['LR_acc'] = LR_accuracy\n",
        "Acc_table['SVM_acc'] = SVM_acc\n",
        "Acc_table['XGB_acc'] = XGB_accuracy\n",
        "\n",
        "AUC_table = pd.DataFrame()\n",
        "\n",
        "AUC_table.loc[1,'RF_auc'] = RF_roc\n",
        "AUC_table['LR_auc'] = LR_roc\n",
        "AUC_table['SVM_auc'] = \"None\"\n",
        "AUC_table['XGB_cv_auc'] = XGB_auc\n"
      ],
      "execution_count": null,
      "outputs": []
    },
    {
      "cell_type": "code",
      "metadata": {
        "id": "1ETDk8Lmrwde",
        "colab_type": "code",
        "colab": {
          "base_uri": "https://localhost:8080/",
          "height": 76
        },
        "outputId": "f4e3345b-6266-45db-a8ad-4a2372acbd42"
      },
      "source": [
        "CV_table"
      ],
      "execution_count": null,
      "outputs": [
        {
          "output_type": "execute_result",
          "data": {
            "text/html": [
              "<div>\n",
              "<style scoped>\n",
              "    .dataframe tbody tr th:only-of-type {\n",
              "        vertical-align: middle;\n",
              "    }\n",
              "\n",
              "    .dataframe tbody tr th {\n",
              "        vertical-align: top;\n",
              "    }\n",
              "\n",
              "    .dataframe thead th {\n",
              "        text-align: right;\n",
              "    }\n",
              "</style>\n",
              "<table border=\"1\" class=\"dataframe\">\n",
              "  <thead>\n",
              "    <tr style=\"text-align: right;\">\n",
              "      <th></th>\n",
              "      <th>RF_cv_auc</th>\n",
              "      <th>LR_cv_auc</th>\n",
              "      <th>SVM_cv_auc</th>\n",
              "      <th>XGB_cv_auc_cross_val</th>\n",
              "      <th>XGB_cv_auc_xgb.cv</th>\n",
              "    </tr>\n",
              "  </thead>\n",
              "  <tbody>\n",
              "    <tr>\n",
              "      <th>1</th>\n",
              "      <td>0.894543</td>\n",
              "      <td>0.906532</td>\n",
              "      <td>0.90232</td>\n",
              "      <td>0.904659</td>\n",
              "      <td>0.890207</td>\n",
              "    </tr>\n",
              "  </tbody>\n",
              "</table>\n",
              "</div>"
            ],
            "text/plain": [
              "   RF_cv_auc  LR_cv_auc  SVM_cv_auc  XGB_cv_auc_cross_val  XGB_cv_auc_xgb.cv\n",
              "1   0.894543   0.906532     0.90232              0.904659           0.890207"
            ]
          },
          "metadata": {
            "tags": []
          },
          "execution_count": 168
        }
      ]
    },
    {
      "cell_type": "code",
      "metadata": {
        "id": "VBASiAapsuBI",
        "colab_type": "code",
        "colab": {
          "base_uri": "https://localhost:8080/",
          "height": 76
        },
        "outputId": "268a8b11-cbd4-4e7d-c9d4-675830bdb896"
      },
      "source": [
        "Acc_table"
      ],
      "execution_count": null,
      "outputs": [
        {
          "output_type": "execute_result",
          "data": {
            "text/html": [
              "<div>\n",
              "<style scoped>\n",
              "    .dataframe tbody tr th:only-of-type {\n",
              "        vertical-align: middle;\n",
              "    }\n",
              "\n",
              "    .dataframe tbody tr th {\n",
              "        vertical-align: top;\n",
              "    }\n",
              "\n",
              "    .dataframe thead th {\n",
              "        text-align: right;\n",
              "    }\n",
              "</style>\n",
              "<table border=\"1\" class=\"dataframe\">\n",
              "  <thead>\n",
              "    <tr style=\"text-align: right;\">\n",
              "      <th></th>\n",
              "      <th>RF_acc</th>\n",
              "      <th>LR_acc</th>\n",
              "      <th>SVM_acc</th>\n",
              "      <th>XGB_acc</th>\n",
              "    </tr>\n",
              "  </thead>\n",
              "  <tbody>\n",
              "    <tr>\n",
              "      <th>1</th>\n",
              "      <td>0.857569</td>\n",
              "      <td>0.869128</td>\n",
              "      <td>0.864653</td>\n",
              "      <td>0.869873</td>\n",
              "    </tr>\n",
              "  </tbody>\n",
              "</table>\n",
              "</div>"
            ],
            "text/plain": [
              "     RF_acc    LR_acc   SVM_acc   XGB_acc\n",
              "1  0.857569  0.869128  0.864653  0.869873"
            ]
          },
          "metadata": {
            "tags": []
          },
          "execution_count": 169
        }
      ]
    },
    {
      "cell_type": "code",
      "metadata": {
        "id": "qCYBG-l4svjw",
        "colab_type": "code",
        "colab": {
          "base_uri": "https://localhost:8080/",
          "height": 76
        },
        "outputId": "2880218c-0b0b-436b-f099-3e3d10e48c62"
      },
      "source": [
        "AUC_table"
      ],
      "execution_count": null,
      "outputs": [
        {
          "output_type": "execute_result",
          "data": {
            "text/html": [
              "<div>\n",
              "<style scoped>\n",
              "    .dataframe tbody tr th:only-of-type {\n",
              "        vertical-align: middle;\n",
              "    }\n",
              "\n",
              "    .dataframe tbody tr th {\n",
              "        vertical-align: top;\n",
              "    }\n",
              "\n",
              "    .dataframe thead th {\n",
              "        text-align: right;\n",
              "    }\n",
              "</style>\n",
              "<table border=\"1\" class=\"dataframe\">\n",
              "  <thead>\n",
              "    <tr style=\"text-align: right;\">\n",
              "      <th></th>\n",
              "      <th>RF_auc</th>\n",
              "      <th>LR_auc</th>\n",
              "      <th>SVM_auc</th>\n",
              "      <th>XGB_cv_auc</th>\n",
              "    </tr>\n",
              "  </thead>\n",
              "  <tbody>\n",
              "    <tr>\n",
              "      <th>1</th>\n",
              "      <td>0.882457</td>\n",
              "      <td>0.895473</td>\n",
              "      <td>None</td>\n",
              "      <td>0.767261</td>\n",
              "    </tr>\n",
              "  </tbody>\n",
              "</table>\n",
              "</div>"
            ],
            "text/plain": [
              "     RF_auc    LR_auc SVM_auc  XGB_cv_auc\n",
              "1  0.882457  0.895473    None    0.767261"
            ]
          },
          "metadata": {
            "tags": []
          },
          "execution_count": 170
        }
      ]
    },
    {
      "cell_type": "markdown",
      "metadata": {
        "id": "Ehr-CLztsxkq",
        "colab_type": "text"
      },
      "source": [
        "* Final Result : \n",
        "- Cross validation 기준 : XGboost or Logistic Regression 중 선택. \n",
        "- Accuracy 기준 : Logistic Regression, SVM, XGB 모두 유사 \n",
        "- AUC 기준 : Logistic Regression이 Best \n",
        "\n",
        "=> 따라서, Logistic Regression 및 XGB로 Parameter Tuning 실시. "
      ]
    },
    {
      "cell_type": "markdown",
      "metadata": {
        "id": "McVE70Lxtbhb",
        "colab_type": "text"
      },
      "source": [
        "## Parameter Tuning \n"
      ]
    },
    {
      "cell_type": "markdown",
      "metadata": {
        "id": "CCRvhCKlt3cd",
        "colab_type": "text"
      },
      "source": [
        "* Logistic Regression Tunign : L1 vs L2 penalty, C - cost value"
      ]
    },
    {
      "cell_type": "code",
      "metadata": {
        "id": "1pdqp9GYu0hv",
        "colab_type": "code",
        "colab": {}
      },
      "source": [
        "from sklearn.model_selection import GridSearchCV\n",
        "from sklearn.pipeline import Pipeline"
      ],
      "execution_count": null,
      "outputs": []
    },
    {
      "cell_type": "code",
      "metadata": {
        "id": "p1mbtyS3tdqT",
        "colab_type": "code",
        "colab": {
          "base_uri": "https://localhost:8080/",
          "height": 266
        },
        "outputId": "97cee718-0b1e-4380-f8d1-2037ba67e229"
      },
      "source": [
        "# Create a logistic regression object with an L2 penalty\n",
        "logistic = LogisticRegression(solver='liblinear')\n",
        "\n",
        "pipe = Pipeline(steps=[('logistic', logistic)])\n",
        "\n",
        "# Create Parameter Space\n",
        "\n",
        "# Create a list of a sequence of integers from 1 to 30 (the number of features in X + 1)\n",
        "n_components = list(range(1,x_train.shape[1]+1,1))\n",
        "\n",
        "# Create a list of values of the regularization parameter\n",
        "C = np.logspace(-4, 4, 50)\n",
        "# Create a list of options for the regularization penalty\n",
        "penalty = ['l1', 'l2']\n",
        "# Create a dictionary of all the parameter options \n",
        "# Note has you can access the parameters of steps of a pipeline by using '__’\n",
        "parameters = dict(logistic__C=C,\n",
        "                  logistic__penalty=penalty)\n",
        "\n",
        "# Conduct Parameter Optmization With Pipeline\n",
        "# Create a grid search object\n",
        "clf = GridSearchCV(pipe, parameters)\n",
        "\n",
        "# Fit the grid search\n",
        "clf.fit(x_train, y_train)\n",
        "    # View The Best Parameters\n",
        "print('Best Penalty:', clf.best_estimator_.get_params()['logistic__penalty'])\n",
        "print('Best C:', clf.best_estimator_.get_params()['logistic__C'])\n",
        "print(); print(clf.best_estimator_.get_params()['logistic'])\n",
        "\n",
        "# Use Cross Validation To Evaluate Model\n",
        "CV_Result = cross_val_score(clf, x_train, y_train, cv=5, n_jobs=-1)\n",
        "print(); print(CV_Result)\n",
        "print(); print(CV_Result.mean())\n",
        "print(); print(CV_Result.std())"
      ],
      "execution_count": null,
      "outputs": [
        {
          "output_type": "stream",
          "text": [
            "Best Penalty: l1\n",
            "Best C: 0.3906939937054613\n",
            "\n",
            "LogisticRegression(C=0.3906939937054613, class_weight=None, dual=False,\n",
            "                   fit_intercept=True, intercept_scaling=1, l1_ratio=None,\n",
            "                   max_iter=100, multi_class='auto', n_jobs=None, penalty='l1',\n",
            "                   random_state=None, solver='liblinear', tol=0.0001, verbose=0,\n",
            "                   warm_start=False)\n",
            "\n",
            "[0.87939297 0.88178914 0.86900958 0.88409273 0.89128697]\n",
            "\n",
            "0.8811142779067481\n",
            "\n",
            "0.007242882788351013\n"
          ],
          "name": "stdout"
        }
      ]
    },
    {
      "cell_type": "code",
      "metadata": {
        "id": "wFVBWvF7xM1I",
        "colab_type": "code",
        "colab": {
          "base_uri": "https://localhost:8080/",
          "height": 124
        },
        "outputId": "19ad1ae9-6b65-4e19-bb3f-7a37a95f0c15"
      },
      "source": [
        "# Use Cross Validation To Evaluate Model\n",
        "CV_Result = cross_val_score(clf, x_train, y_train, cv=5, scoring='roc_auc')\n",
        "print(); print(CV_Result)\n",
        "print(); print(CV_Result.mean())\n",
        "print(); print(CV_Result.std())"
      ],
      "execution_count": null,
      "outputs": [
        {
          "output_type": "stream",
          "text": [
            "\n",
            "[0.90046004 0.91027299 0.90109641 0.91765022 0.92081251]\n",
            "\n",
            "0.9100584333884953\n",
            "\n",
            "0.008315989029903078\n"
          ],
          "name": "stdout"
        }
      ]
    },
    {
      "cell_type": "code",
      "metadata": {
        "id": "QzEm3RinwRaG",
        "colab_type": "code",
        "colab": {}
      },
      "source": [
        "Logistic = LogisticRegression(solver='liblinear', penalty = 'l1', C = clf.best_estimator_.get_params()['logistic__C'] )\n",
        "Logistic.fit(x_train, y_train)\n",
        "\n",
        "LR_pred = Logistic.predict(x_test)\n",
        "LR_pred_score = Logistic.predict_proba(x_test)\n",
        "# calculating metrics\n",
        "\n",
        "LR_tuned_accuracy = accuracy_score(y_test, LR_pred)\n",
        "LR_tuned_roc = roc_auc_score(y_test, pd.DataFrame(LR_pred_score)[1])"
      ],
      "execution_count": null,
      "outputs": []
    },
    {
      "cell_type": "code",
      "metadata": {
        "id": "6xxpPPdhzOCR",
        "colab_type": "code",
        "colab": {
          "base_uri": "https://localhost:8080/",
          "height": 35
        },
        "outputId": "00cdd93f-092c-4b1b-f51e-e27f17f740ed"
      },
      "source": [
        "print(LR_tuned_accuracy, LR_tuned_roc)"
      ],
      "execution_count": null,
      "outputs": [
        {
          "output_type": "stream",
          "text": [
            "0.8747203579418344 0.8993545509627037\n"
          ],
          "name": "stdout"
        }
      ]
    },
    {
      "cell_type": "markdown",
      "metadata": {
        "id": "DNF96zwozUDT",
        "colab_type": "text"
      },
      "source": [
        "* 전부 tuning 전보다 미세하게나마 상승함. (Test accuracy, test AUC)"
      ]
    },
    {
      "cell_type": "markdown",
      "metadata": {
        "id": "4aM7mbZIwGDh",
        "colab_type": "text"
      },
      "source": [
        "* XGB Hyper Parameter Tuning "
      ]
    },
    {
      "cell_type": "code",
      "metadata": {
        "id": "V03aRU8ftdnh",
        "colab_type": "code",
        "colab": {
          "base_uri": "https://localhost:8080/",
          "height": 301
        },
        "outputId": "b8b6ee19-dd66-42a0-c952-682d7dc1bf8b"
      },
      "source": [
        "from sklearn.model_selection import GridSearchCV\n",
        "\n",
        "# XGBoost 분류기 생성\n",
        "xgb_clf = xgb.XGBClassifier()\n",
        "\n",
        "# 초모수 격자생성\n",
        "xgb_param_grid = {'max_depth': [3,5,7, 9], \n",
        "              'subsample': [0.6, 0.8, 1.0]}\n",
        "\n",
        "# Create a GridSearchCV object\n",
        "hr_grid = GridSearchCV(estimator=xgb_clf,\n",
        "                       param_grid=xgb_param_grid,\n",
        "                       scoring='roc_auc',\n",
        "                       n_jobs=8,\n",
        "                       cv=5,\n",
        "                       refit=True, \n",
        "                       return_train_score=True)\n",
        "\n",
        "hr_grid.fit(Xg_train, y_train)"
      ],
      "execution_count": null,
      "outputs": [
        {
          "output_type": "execute_result",
          "data": {
            "text/plain": [
              "GridSearchCV(cv=5, error_score=nan,\n",
              "             estimator=XGBClassifier(base_score=0.5, booster='gbtree',\n",
              "                                     colsample_bylevel=1, colsample_bynode=1,\n",
              "                                     colsample_bytree=1, gamma=0,\n",
              "                                     learning_rate=0.1, max_delta_step=0,\n",
              "                                     max_depth=3, min_child_weight=1,\n",
              "                                     missing=None, n_estimators=100, n_jobs=1,\n",
              "                                     nthread=None, objective='binary:logistic',\n",
              "                                     random_state=0, reg_alpha=0, reg_lambda=1,\n",
              "                                     scale_pos_weight=1, seed=None, silent=None,\n",
              "                                     subsample=1, verbosity=1),\n",
              "             iid='deprecated', n_jobs=8,\n",
              "             param_grid={'max_depth': [3, 5, 7, 9],\n",
              "                         'subsample': [0.6, 0.8, 1.0]},\n",
              "             pre_dispatch='2*n_jobs', refit=True, return_train_score=True,\n",
              "             scoring='roc_auc', verbose=0)"
            ]
          },
          "metadata": {
            "tags": []
          },
          "execution_count": 176
        }
      ]
    },
    {
      "cell_type": "code",
      "metadata": {
        "id": "3Y5S2PcGtdlD",
        "colab_type": "code",
        "colab": {
          "base_uri": "https://localhost:8080/",
          "height": 399
        },
        "outputId": "9d2209fe-3f62-4f53-cafc-56d7c72a098e"
      },
      "source": [
        "hr_grid_df = pd.DataFrame(hr_grid.cv_results_)\n",
        "hr_grid_df.loc[:, ['mean_test_score', \"params\"]]"
      ],
      "execution_count": null,
      "outputs": [
        {
          "output_type": "execute_result",
          "data": {
            "text/html": [
              "<div>\n",
              "<style scoped>\n",
              "    .dataframe tbody tr th:only-of-type {\n",
              "        vertical-align: middle;\n",
              "    }\n",
              "\n",
              "    .dataframe tbody tr th {\n",
              "        vertical-align: top;\n",
              "    }\n",
              "\n",
              "    .dataframe thead th {\n",
              "        text-align: right;\n",
              "    }\n",
              "</style>\n",
              "<table border=\"1\" class=\"dataframe\">\n",
              "  <thead>\n",
              "    <tr style=\"text-align: right;\">\n",
              "      <th></th>\n",
              "      <th>mean_test_score</th>\n",
              "      <th>params</th>\n",
              "    </tr>\n",
              "  </thead>\n",
              "  <tbody>\n",
              "    <tr>\n",
              "      <th>0</th>\n",
              "      <td>0.909820</td>\n",
              "      <td>{'max_depth': 3, 'subsample': 0.6}</td>\n",
              "    </tr>\n",
              "    <tr>\n",
              "      <th>1</th>\n",
              "      <td>0.910830</td>\n",
              "      <td>{'max_depth': 3, 'subsample': 0.8}</td>\n",
              "    </tr>\n",
              "    <tr>\n",
              "      <th>2</th>\n",
              "      <td>0.910336</td>\n",
              "      <td>{'max_depth': 3, 'subsample': 1.0}</td>\n",
              "    </tr>\n",
              "    <tr>\n",
              "      <th>3</th>\n",
              "      <td>0.908124</td>\n",
              "      <td>{'max_depth': 5, 'subsample': 0.6}</td>\n",
              "    </tr>\n",
              "    <tr>\n",
              "      <th>4</th>\n",
              "      <td>0.908723</td>\n",
              "      <td>{'max_depth': 5, 'subsample': 0.8}</td>\n",
              "    </tr>\n",
              "    <tr>\n",
              "      <th>5</th>\n",
              "      <td>0.910228</td>\n",
              "      <td>{'max_depth': 5, 'subsample': 1.0}</td>\n",
              "    </tr>\n",
              "    <tr>\n",
              "      <th>6</th>\n",
              "      <td>0.905836</td>\n",
              "      <td>{'max_depth': 7, 'subsample': 0.6}</td>\n",
              "    </tr>\n",
              "    <tr>\n",
              "      <th>7</th>\n",
              "      <td>0.909722</td>\n",
              "      <td>{'max_depth': 7, 'subsample': 0.8}</td>\n",
              "    </tr>\n",
              "    <tr>\n",
              "      <th>8</th>\n",
              "      <td>0.907742</td>\n",
              "      <td>{'max_depth': 7, 'subsample': 1.0}</td>\n",
              "    </tr>\n",
              "    <tr>\n",
              "      <th>9</th>\n",
              "      <td>0.906459</td>\n",
              "      <td>{'max_depth': 9, 'subsample': 0.6}</td>\n",
              "    </tr>\n",
              "    <tr>\n",
              "      <th>10</th>\n",
              "      <td>0.906279</td>\n",
              "      <td>{'max_depth': 9, 'subsample': 0.8}</td>\n",
              "    </tr>\n",
              "    <tr>\n",
              "      <th>11</th>\n",
              "      <td>0.906617</td>\n",
              "      <td>{'max_depth': 9, 'subsample': 1.0}</td>\n",
              "    </tr>\n",
              "  </tbody>\n",
              "</table>\n",
              "</div>"
            ],
            "text/plain": [
              "    mean_test_score                              params\n",
              "0          0.909820  {'max_depth': 3, 'subsample': 0.6}\n",
              "1          0.910830  {'max_depth': 3, 'subsample': 0.8}\n",
              "2          0.910336  {'max_depth': 3, 'subsample': 1.0}\n",
              "3          0.908124  {'max_depth': 5, 'subsample': 0.6}\n",
              "4          0.908723  {'max_depth': 5, 'subsample': 0.8}\n",
              "5          0.910228  {'max_depth': 5, 'subsample': 1.0}\n",
              "6          0.905836  {'max_depth': 7, 'subsample': 0.6}\n",
              "7          0.909722  {'max_depth': 7, 'subsample': 0.8}\n",
              "8          0.907742  {'max_depth': 7, 'subsample': 1.0}\n",
              "9          0.906459  {'max_depth': 9, 'subsample': 0.6}\n",
              "10         0.906279  {'max_depth': 9, 'subsample': 0.8}\n",
              "11         0.906617  {'max_depth': 9, 'subsample': 1.0}"
            ]
          },
          "metadata": {
            "tags": []
          },
          "execution_count": 177
        }
      ]
    },
    {
      "cell_type": "code",
      "metadata": {
        "id": "3hba4Gu9tdiU",
        "colab_type": "code",
        "colab": {
          "base_uri": "https://localhost:8080/",
          "height": 147
        },
        "outputId": "fa643cf0-4e62-4927-9950-af8a4859a081"
      },
      "source": [
        "hr_grid_df[hr_grid_df['rank_test_score'] == 1]"
      ],
      "execution_count": null,
      "outputs": [
        {
          "output_type": "execute_result",
          "data": {
            "text/html": [
              "<div>\n",
              "<style scoped>\n",
              "    .dataframe tbody tr th:only-of-type {\n",
              "        vertical-align: middle;\n",
              "    }\n",
              "\n",
              "    .dataframe tbody tr th {\n",
              "        vertical-align: top;\n",
              "    }\n",
              "\n",
              "    .dataframe thead th {\n",
              "        text-align: right;\n",
              "    }\n",
              "</style>\n",
              "<table border=\"1\" class=\"dataframe\">\n",
              "  <thead>\n",
              "    <tr style=\"text-align: right;\">\n",
              "      <th></th>\n",
              "      <th>mean_fit_time</th>\n",
              "      <th>std_fit_time</th>\n",
              "      <th>mean_score_time</th>\n",
              "      <th>std_score_time</th>\n",
              "      <th>param_max_depth</th>\n",
              "      <th>param_subsample</th>\n",
              "      <th>params</th>\n",
              "      <th>split0_test_score</th>\n",
              "      <th>split1_test_score</th>\n",
              "      <th>split2_test_score</th>\n",
              "      <th>split3_test_score</th>\n",
              "      <th>split4_test_score</th>\n",
              "      <th>mean_test_score</th>\n",
              "      <th>std_test_score</th>\n",
              "      <th>rank_test_score</th>\n",
              "      <th>split0_train_score</th>\n",
              "      <th>split1_train_score</th>\n",
              "      <th>split2_train_score</th>\n",
              "      <th>split3_train_score</th>\n",
              "      <th>split4_train_score</th>\n",
              "      <th>mean_train_score</th>\n",
              "      <th>std_train_score</th>\n",
              "    </tr>\n",
              "  </thead>\n",
              "  <tbody>\n",
              "    <tr>\n",
              "      <th>1</th>\n",
              "      <td>19.039781</td>\n",
              "      <td>0.393132</td>\n",
              "      <td>0.08953</td>\n",
              "      <td>0.005396</td>\n",
              "      <td>3</td>\n",
              "      <td>0.8</td>\n",
              "      <td>{'max_depth': 3, 'subsample': 0.8}</td>\n",
              "      <td>0.905462</td>\n",
              "      <td>0.910674</td>\n",
              "      <td>0.908571</td>\n",
              "      <td>0.917064</td>\n",
              "      <td>0.91238</td>\n",
              "      <td>0.91083</td>\n",
              "      <td>0.003878</td>\n",
              "      <td>1</td>\n",
              "      <td>0.947899</td>\n",
              "      <td>0.946067</td>\n",
              "      <td>0.946908</td>\n",
              "      <td>0.945645</td>\n",
              "      <td>0.946621</td>\n",
              "      <td>0.946628</td>\n",
              "      <td>0.000771</td>\n",
              "    </tr>\n",
              "  </tbody>\n",
              "</table>\n",
              "</div>"
            ],
            "text/plain": [
              "   mean_fit_time  std_fit_time  ...  mean_train_score  std_train_score\n",
              "1      19.039781      0.393132  ...          0.946628         0.000771\n",
              "\n",
              "[1 rows x 22 columns]"
            ]
          },
          "metadata": {
            "tags": []
          },
          "execution_count": 178
        }
      ]
    },
    {
      "cell_type": "code",
      "metadata": {
        "id": "51MOc9T0tdf3",
        "colab_type": "code",
        "colab": {
          "base_uri": "https://localhost:8080/",
          "height": 88
        },
        "outputId": "5daabc86-749f-4cc4-de10-79cf5bbd9df8"
      },
      "source": [
        "## 최고성능\n",
        "best_score = hr_grid.best_score_\n",
        "# 최고성능을 내는 행을 찾아냄\n",
        "best_row = hr_grid.best_index_\n",
        "\n",
        "# 최적 초모수: max_depth, subsample\n",
        "best_max_depth     = hr_grid.best_params_[\"max_depth\"]\n",
        "best_max_subsample = hr_grid.best_params_[\"subsample\"]\n",
        "\n",
        "nl = '\\n'\n",
        "print(f'Area Under ROC Cureve (AUC):  \\t {best_score:.3f}{nl}\\\n",
        "        인덱스:           \\t {best_row}{nl}\\\n",
        "        max_depth:      \\t {best_max_depth}{nl}\\\n",
        "        subsample:      \\t {best_max_subsample}')"
      ],
      "execution_count": null,
      "outputs": [
        {
          "output_type": "stream",
          "text": [
            "Area Under ROC Cureve (AUC):  \t 0.911\n",
            "        인덱스:           \t 1\n",
            "        max_depth:      \t 3\n",
            "        subsample:      \t 0.8\n"
          ],
          "name": "stdout"
        }
      ]
    },
    {
      "cell_type": "code",
      "metadata": {
        "id": "P4-lBfL7tddM",
        "colab_type": "code",
        "colab": {}
      },
      "source": [
        "xgb_tuned = XGBClassifier(n_estimators = 400, learning_rate = 0.1, max_depth = best_max_depth,\n",
        "                            eval_metric = \"auc\", early_stopping_rounds=100, subsample=best_max_subsample)\n",
        "xgb_tuned.fit(Xg_train, y_train)\n",
        "w_preds = xgb_tuned.predict(Xg_test)"
      ],
      "execution_count": null,
      "outputs": []
    },
    {
      "cell_type": "code",
      "metadata": {
        "id": "RcUE7T95tdaa",
        "colab_type": "code",
        "colab": {
          "base_uri": "https://localhost:8080/",
          "height": 177
        },
        "outputId": "ad069c9e-374f-4ce2-da9e-a5a34ec76b6a"
      },
      "source": [
        "get_clf_eval(y_test, w_preds)"
      ],
      "execution_count": null,
      "outputs": [
        {
          "output_type": "stream",
          "text": [
            "오차행렬:\n",
            " [[1996  126]\n",
            " [ 219  341]]\n",
            "\n",
            "정확도: 0.8714\n",
            "정밀도: 0.7302\n",
            "재현율: 0.6089\n",
            "F1: 0.6641\n",
            "AUC: 0.7748\n"
          ],
          "name": "stdout"
        }
      ]
    },
    {
      "cell_type": "code",
      "metadata": {
        "id": "LJCR9WgZ4muf",
        "colab_type": "code",
        "colab": {}
      },
      "source": [
        "XGB_tuned_accuracy = accuracy_score(y_test, w_preds)\n",
        "XGB_tuned_auc = roc_auc_score(y_test, w_preds)"
      ],
      "execution_count": null,
      "outputs": []
    },
    {
      "cell_type": "code",
      "metadata": {
        "id": "HGLPlJQR4OVE",
        "colab_type": "code",
        "colab": {
          "base_uri": "https://localhost:8080/",
          "height": 35
        },
        "outputId": "2501dd07-b212-43d9-87eb-dae7e6dee120"
      },
      "source": [
        "XGB_tuned_cv_Result = cross_val_score(xgb_tuned, Xg_train, y_train, cv=5, scoring='roc_auc')\n",
        "XGB_tuned_cv_Result.mean()"
      ],
      "execution_count": null,
      "outputs": [
        {
          "output_type": "execute_result",
          "data": {
            "text/plain": [
              "0.9057078403666804"
            ]
          },
          "metadata": {
            "tags": []
          },
          "execution_count": 183
        }
      ]
    },
    {
      "cell_type": "code",
      "metadata": {
        "id": "XkQH6gg87CYh",
        "colab_type": "code",
        "colab": {
          "base_uri": "https://localhost:8080/",
          "height": 337
        },
        "outputId": "9704fdf8-6e5e-4724-d439-c5aadfe772be"
      },
      "source": [
        "print(\"_______Comparison from Former Logistic Regression______ \\n\")\n",
        "print(\"* Accuracy : \\n LR_accuracy = {}, LR_tuned_accuracy = {}\" .format(LR_accuracy, LR_tuned_accuracy))\n",
        "print(\"* Area Under Roc Curve : \\n LR_auc = {}, LR_tuned_auc = {}\" .format(LR_roc, LR_tuned_roc))\n",
        "print(\"* Cross Validation Score : \\n LR_cv_auc = {}, LR_cv_tuned_auc = {}\" .format(LR_cv_score, CV_Result.mean()))\n",
        "\n",
        "print(\"_______Comparison from Former XGBoost______ \\n\")\n",
        "print(\"* Accuracy : \\n XGB_accuracy = {}, XGB_tuned_accuracy = {}\" .format(XGB_accuracy, XGB_tuned_accuracy))\n",
        "print(\"* Area Under Roc Curve : \\n XGB_auc = {}, XGB_tuned_auc = {}\" .format(XGB_auc, XGB_tuned_auc))\n",
        "print(\"* Cross Validation Score(using cross_val_score) : \\n XGB_cv_auc = {}, XGB_cv_tuned_auc = {}\" .format(XGB_auc2.mean(), XGB_tuned_cv_Result.mean()))\n",
        "print(\"* Cross Validation Score(using GridSearchCV) : \\n XGB_cv_auc = {}, XGB_cv_tuned_auc = {}\" .format(XGB_cv_auc, best_score))"
      ],
      "execution_count": null,
      "outputs": [
        {
          "output_type": "stream",
          "text": [
            "_______Comparison from Former Logistic Regression______ \n",
            "\n",
            "* Accuracy : \n",
            " LR_accuracy = 0.8691275167785235, LR_tuned_accuracy = 0.8747203579418344\n",
            "* Area Under Roc Curve : \n",
            " LR_auc = 0.8954734414972398, LR_tuned_auc = 0.8993545509627037\n",
            "* Cross Validation Score : \n",
            " LR_cv_auc = 0.9065319710836457, LR_cv_tuned_auc = 0.9100584333884953\n",
            "_______Comparison from Former XGBoost______ \n",
            "\n",
            "* Accuracy : \n",
            " XGB_accuracy = 0.8698732289336316, XGB_tuned_accuracy = 0.8713646532438478\n",
            "* Area Under Roc Curve : \n",
            " XGB_auc = 0.7672605022216237, XGB_tuned_auc = 0.7747753130469907\n",
            "* Cross Validation Score(using cross_val_score) : \n",
            " XGB_cv_auc = 0.9046585975787421, XGB_cv_tuned_auc = 0.9057078403666804\n",
            "* Cross Validation Score(using GridSearchCV) : \n",
            " XGB_cv_auc = 0.8902069000000001, XGB_cv_tuned_auc = 0.9108301076140487\n"
          ],
          "name": "stdout"
        }
      ]
    },
    {
      "cell_type": "markdown",
      "metadata": {
        "id": "9SjLEZNQ9QP8",
        "colab_type": "text"
      },
      "source": [
        "## Final Model 선택 : \n",
        "- Logistic Regression이 test accuracy, cross validation score, test auc 모두에서 훨씬 더 높은 결과를 가져옴. \n",
        "- Logistic Regression을 최종 모델로 채택. "
      ]
    },
    {
      "cell_type": "code",
      "metadata": {
        "id": "UK8DN9rIBaJK",
        "colab_type": "code",
        "colab": {
          "base_uri": "https://localhost:8080/",
          "height": 159
        },
        "outputId": "04ed88f0-67f9-45d6-e1f2-1d8b2fdd8937"
      },
      "source": [
        "display_scores(Logistic, x_test, y_test)"
      ],
      "execution_count": null,
      "outputs": [
        {
          "output_type": "stream",
          "text": [
            "\n",
            "### -- ### -- LogisticRegression -- ### -- ###\n",
            "Confusion Matrix:  [[2009  113]\n",
            " [ 223  337]]\n",
            "Accuracy:  0.8747203579418344\n",
            "AUC:  0.8993545509627037\n",
            "Type 1 error:  0.053251649387370405\n",
            "Type 2 error:  0.3982142857142857\n"
          ],
          "name": "stdout"
        }
      ]
    },
    {
      "cell_type": "code",
      "metadata": {
        "id": "SRs8hbALwl66",
        "colab_type": "code",
        "colab": {}
      },
      "source": [
        "import plotly.graph_objects as go\n",
        "\n",
        "def gen_layout(charttitle, xtitle, ytitle, annotations=None, lmarg=120, h=400):  \n",
        "    \"\"\"\n",
        "    Create layout\n",
        "    \"\"\"\n",
        "    return go.Layout(title=charttitle, \n",
        "                     height=h, \n",
        "                     width=800,\n",
        "                     showlegend=False,\n",
        "                     xaxis=gen_xaxis(xtitle), \n",
        "                     yaxis=gen_yaxis(ytitle),\n",
        "                     annotations = annotations,\n",
        "                     margin=dict(l=lmarg),\n",
        "                    )"
      ],
      "execution_count": null,
      "outputs": []
    },
    {
      "cell_type": "markdown",
      "metadata": {
        "id": "Duj4xWsgqPH9",
        "colab_type": "text"
      },
      "source": [
        "* ROC curve graph : "
      ]
    },
    {
      "cell_type": "code",
      "metadata": {
        "id": "ITca8--JqwU_",
        "colab_type": "code",
        "colab": {
          "base_uri": "https://localhost:8080/",
          "height": 35
        },
        "outputId": "6353630d-f428-4875-ec09-bd7ec578f688"
      },
      "source": [
        "print('Our model\\'s intercept is:', Logistic.intercept_[0])"
      ],
      "execution_count": null,
      "outputs": [
        {
          "output_type": "stream",
          "text": [
            "Our model's intercept is: 0.0\n"
          ],
          "name": "stdout"
        }
      ]
    },
    {
      "cell_type": "markdown",
      "metadata": {
        "id": "9J5aPyZkrA-D",
        "colab_type": "text"
      },
      "source": [
        "= Intercept Starts with 0.___ => 여기에서 본인이 가진 특징으로 가감되어 최종 Top20안에 드는 연봉을 받을 수 있는가가 결정됨. \n",
        "* Psotive Coefficients : positive 답변이 Top 20% 연봉 안에 들 확률을 높인다.\n",
        "* Negative Coefficients : positive 답변이 Top 20% 연봉 안에 들 확률을 낮춘다. "
      ]
    },
    {
      "cell_type": "markdown",
      "metadata": {
        "id": "8vF5hVflrczE",
        "colab_type": "text"
      },
      "source": [
        "* Coefficients "
      ]
    },
    {
      "cell_type": "code",
      "metadata": {
        "id": "n03ngfj9re0r",
        "colab_type": "code",
        "colab": {}
      },
      "source": [
        "features = pd.DataFrame([x_train.columns, Logistic.coef_[0]]).transpose()\n",
        "features.columns = ['feature', 'coefficient']\n",
        "features['abs_coefficient'] = features['coefficient'].abs()"
      ],
      "execution_count": null,
      "outputs": []
    },
    {
      "cell_type": "code",
      "metadata": {
        "id": "9eKhXnSHxuSh",
        "colab_type": "code",
        "colab": {
          "base_uri": "https://localhost:8080/",
          "height": 487
        },
        "outputId": "ba1e5801-591e-4a1d-f0d3-4b51149b7c31"
      },
      "source": [
        "features.iloc[0:15, :]"
      ],
      "execution_count": null,
      "outputs": [
        {
          "output_type": "execute_result",
          "data": {
            "text/html": [
              "<div>\n",
              "<style scoped>\n",
              "    .dataframe tbody tr th:only-of-type {\n",
              "        vertical-align: middle;\n",
              "    }\n",
              "\n",
              "    .dataframe tbody tr th {\n",
              "        vertical-align: top;\n",
              "    }\n",
              "\n",
              "    .dataframe thead th {\n",
              "        text-align: right;\n",
              "    }\n",
              "</style>\n",
              "<table border=\"1\" class=\"dataframe\">\n",
              "  <thead>\n",
              "    <tr style=\"text-align: right;\">\n",
              "      <th></th>\n",
              "      <th>feature</th>\n",
              "      <th>coefficient</th>\n",
              "      <th>abs_coefficient</th>\n",
              "    </tr>\n",
              "  </thead>\n",
              "  <tbody>\n",
              "    <tr>\n",
              "      <th>0</th>\n",
              "      <td>1_Female</td>\n",
              "      <td>0</td>\n",
              "      <td>0</td>\n",
              "    </tr>\n",
              "    <tr>\n",
              "      <th>1</th>\n",
              "      <td>1_Male</td>\n",
              "      <td>-0.0195892</td>\n",
              "      <td>0.0195892</td>\n",
              "    </tr>\n",
              "    <tr>\n",
              "      <th>2</th>\n",
              "      <td>2_18-21</td>\n",
              "      <td>-1.31279</td>\n",
              "      <td>1.31279</td>\n",
              "    </tr>\n",
              "    <tr>\n",
              "      <th>3</th>\n",
              "      <td>2_22-24</td>\n",
              "      <td>-1.94017</td>\n",
              "      <td>1.94017</td>\n",
              "    </tr>\n",
              "    <tr>\n",
              "      <th>4</th>\n",
              "      <td>2_25-29</td>\n",
              "      <td>-1.5102</td>\n",
              "      <td>1.5102</td>\n",
              "    </tr>\n",
              "    <tr>\n",
              "      <th>5</th>\n",
              "      <td>2_30-34</td>\n",
              "      <td>-0.876915</td>\n",
              "      <td>0.876915</td>\n",
              "    </tr>\n",
              "    <tr>\n",
              "      <th>6</th>\n",
              "      <td>2_35-39</td>\n",
              "      <td>-0.104736</td>\n",
              "      <td>0.104736</td>\n",
              "    </tr>\n",
              "    <tr>\n",
              "      <th>7</th>\n",
              "      <td>2_40-44</td>\n",
              "      <td>-0.223461</td>\n",
              "      <td>0.223461</td>\n",
              "    </tr>\n",
              "    <tr>\n",
              "      <th>8</th>\n",
              "      <td>3_Asia</td>\n",
              "      <td>-0.148486</td>\n",
              "      <td>0.148486</td>\n",
              "    </tr>\n",
              "    <tr>\n",
              "      <th>9</th>\n",
              "      <td>3_Europe</td>\n",
              "      <td>-0.287771</td>\n",
              "      <td>0.287771</td>\n",
              "    </tr>\n",
              "    <tr>\n",
              "      <th>10</th>\n",
              "      <td>3_NorthAmerica</td>\n",
              "      <td>2.47066</td>\n",
              "      <td>2.47066</td>\n",
              "    </tr>\n",
              "    <tr>\n",
              "      <th>11</th>\n",
              "      <td>3_SouthAmerica</td>\n",
              "      <td>-1.12754</td>\n",
              "      <td>1.12754</td>\n",
              "    </tr>\n",
              "    <tr>\n",
              "      <th>12</th>\n",
              "      <td>4_Bachelor’s degree</td>\n",
              "      <td>0</td>\n",
              "      <td>0</td>\n",
              "    </tr>\n",
              "    <tr>\n",
              "      <th>13</th>\n",
              "      <td>4_Doctoral degree</td>\n",
              "      <td>0.191884</td>\n",
              "      <td>0.191884</td>\n",
              "    </tr>\n",
              "    <tr>\n",
              "      <th>14</th>\n",
              "      <td>4_Master’s degree</td>\n",
              "      <td>0.189924</td>\n",
              "      <td>0.189924</td>\n",
              "    </tr>\n",
              "  </tbody>\n",
              "</table>\n",
              "</div>"
            ],
            "text/plain": [
              "                feature coefficient abs_coefficient\n",
              "0              1_Female           0               0\n",
              "1                1_Male  -0.0195892       0.0195892\n",
              "2               2_18-21    -1.31279         1.31279\n",
              "3               2_22-24    -1.94017         1.94017\n",
              "4               2_25-29     -1.5102          1.5102\n",
              "5               2_30-34   -0.876915        0.876915\n",
              "6               2_35-39   -0.104736        0.104736\n",
              "7               2_40-44   -0.223461        0.223461\n",
              "8                3_Asia   -0.148486        0.148486\n",
              "9              3_Europe   -0.287771        0.287771\n",
              "10       3_NorthAmerica     2.47066         2.47066\n",
              "11       3_SouthAmerica    -1.12754         1.12754\n",
              "12  4_Bachelor’s degree           0               0\n",
              "13    4_Doctoral degree    0.191884        0.191884\n",
              "14    4_Master’s degree    0.189924        0.189924"
            ]
          },
          "metadata": {
            "tags": []
          },
          "execution_count": 199
        }
      ]
    },
    {
      "cell_type": "code",
      "metadata": {
        "id": "MMIgKflbx8gC",
        "colab_type": "code",
        "colab": {
          "base_uri": "https://localhost:8080/",
          "height": 194
        },
        "outputId": "4a038d8c-0c02-41ec-a246-d3681951bb98"
      },
      "source": [
        "features.tail()"
      ],
      "execution_count": null,
      "outputs": [
        {
          "output_type": "execute_result",
          "data": {
            "text/html": [
              "<div>\n",
              "<style scoped>\n",
              "    .dataframe tbody tr th:only-of-type {\n",
              "        vertical-align: middle;\n",
              "    }\n",
              "\n",
              "    .dataframe tbody tr th {\n",
              "        vertical-align: top;\n",
              "    }\n",
              "\n",
              "    .dataframe thead th {\n",
              "        text-align: right;\n",
              "    }\n",
              "</style>\n",
              "<table border=\"1\" class=\"dataframe\">\n",
              "  <thead>\n",
              "    <tr style=\"text-align: right;\">\n",
              "      <th></th>\n",
              "      <th>feature</th>\n",
              "      <th>coefficient</th>\n",
              "      <th>abs_coefficient</th>\n",
              "    </tr>\n",
              "  </thead>\n",
              "  <tbody>\n",
              "    <tr>\n",
              "      <th>240</th>\n",
              "      <td>48_I am confident that I can explain the outpu...</td>\n",
              "      <td>-0.00845743</td>\n",
              "      <td>0.00845743</td>\n",
              "    </tr>\n",
              "    <tr>\n",
              "      <th>241</th>\n",
              "      <td>48_I am confident that I can understand and ex...</td>\n",
              "      <td>-0.00774824</td>\n",
              "      <td>0.00774824</td>\n",
              "    </tr>\n",
              "    <tr>\n",
              "      <th>242</th>\n",
              "      <td>48_I do not know; I have no opinion on the matter</td>\n",
              "      <td>0</td>\n",
              "      <td>0</td>\n",
              "    </tr>\n",
              "    <tr>\n",
              "      <th>243</th>\n",
              "      <td>48_I view ML models as \"black boxes\" but I am ...</td>\n",
              "      <td>-0.109307</td>\n",
              "      <td>0.109307</td>\n",
              "    </tr>\n",
              "    <tr>\n",
              "      <th>244</th>\n",
              "      <td>48_Yes, most ML models are \"black boxes\"</td>\n",
              "      <td>0.0215805</td>\n",
              "      <td>0.0215805</td>\n",
              "    </tr>\n",
              "  </tbody>\n",
              "</table>\n",
              "</div>"
            ],
            "text/plain": [
              "                                               feature  ... abs_coefficient\n",
              "240  48_I am confident that I can explain the outpu...  ...      0.00845743\n",
              "241  48_I am confident that I can understand and ex...  ...      0.00774824\n",
              "242  48_I do not know; I have no opinion on the matter  ...               0\n",
              "243  48_I view ML models as \"black boxes\" but I am ...  ...        0.109307\n",
              "244           48_Yes, most ML models are \"black boxes\"  ...       0.0215805\n",
              "\n",
              "[5 rows x 3 columns]"
            ]
          },
          "metadata": {
            "tags": []
          },
          "execution_count": 196
        }
      ]
    },
    {
      "cell_type": "code",
      "metadata": {
        "id": "D4AFVSnIrwI3",
        "colab_type": "code",
        "colab": {}
      },
      "source": [
        "features['question_number'] = features.feature.str.split('_').str[0]\n",
        "\n",
        "features['answer'] = features.feature.str[2:]\n",
        "\n",
        "features['answer'] = features.answer.apply(lambda x: x[1:] if x[0] == '-' else x)\n",
        "features['question'] = features['question_number']"
      ],
      "execution_count": null,
      "outputs": []
    },
    {
      "cell_type": "code",
      "metadata": {
        "id": "1OCVvo1_zNwA",
        "colab_type": "code",
        "colab": {
          "base_uri": "https://localhost:8080/",
          "height": 992
        },
        "outputId": "55ce8278-3d6e-40ce-e6aa-d090a1b0f9a9"
      },
      "source": [
        "features.iloc[40:60, :]"
      ],
      "execution_count": null,
      "outputs": [
        {
          "output_type": "execute_result",
          "data": {
            "text/html": [
              "<div>\n",
              "<style scoped>\n",
              "    .dataframe tbody tr th:only-of-type {\n",
              "        vertical-align: middle;\n",
              "    }\n",
              "\n",
              "    .dataframe tbody tr th {\n",
              "        vertical-align: top;\n",
              "    }\n",
              "\n",
              "    .dataframe thead th {\n",
              "        text-align: right;\n",
              "    }\n",
              "</style>\n",
              "<table border=\"1\" class=\"dataframe\">\n",
              "  <thead>\n",
              "    <tr style=\"text-align: right;\">\n",
              "      <th></th>\n",
              "      <th>feature</th>\n",
              "      <th>coefficient</th>\n",
              "      <th>abs_coefficient</th>\n",
              "      <th>question_number</th>\n",
              "      <th>answer</th>\n",
              "      <th>question</th>\n",
              "    </tr>\n",
              "  </thead>\n",
              "  <tbody>\n",
              "    <tr>\n",
              "      <th>40</th>\n",
              "      <td>10_We recently started using ML methods (i.e.,...</td>\n",
              "      <td>0.0114346</td>\n",
              "      <td>0.0114346</td>\n",
              "      <td>10</td>\n",
              "      <td>_We recently started using ML methods (i.e., m...</td>\n",
              "      <td>10</td>\n",
              "    </tr>\n",
              "    <tr>\n",
              "      <th>41</th>\n",
              "      <td>10_We use ML methods for generating insights (...</td>\n",
              "      <td>0</td>\n",
              "      <td>0</td>\n",
              "      <td>10</td>\n",
              "      <td>_We use ML methods for generating insights (bu...</td>\n",
              "      <td>10</td>\n",
              "    </tr>\n",
              "    <tr>\n",
              "      <th>42</th>\n",
              "      <td>11_Analyze and understand data to influence pr...</td>\n",
              "      <td>-0.0053542</td>\n",
              "      <td>0.0053542</td>\n",
              "      <td>11</td>\n",
              "      <td>_Analyze and understand data to influence prod...</td>\n",
              "      <td>11</td>\n",
              "    </tr>\n",
              "    <tr>\n",
              "      <th>43</th>\n",
              "      <td>11_Build and/or run a machine learning service...</td>\n",
              "      <td>0.0804388</td>\n",
              "      <td>0.0804388</td>\n",
              "      <td>11</td>\n",
              "      <td>_Build and/or run a machine learning service t...</td>\n",
              "      <td>11</td>\n",
              "    </tr>\n",
              "    <tr>\n",
              "      <th>44</th>\n",
              "      <td>11_Build and/or run the data infrastructure th...</td>\n",
              "      <td>0.0382396</td>\n",
              "      <td>0.0382396</td>\n",
              "      <td>11</td>\n",
              "      <td>_Build and/or run the data infrastructure that...</td>\n",
              "      <td>11</td>\n",
              "    </tr>\n",
              "    <tr>\n",
              "      <th>45</th>\n",
              "      <td>11_Build prototypes to explore applying machin...</td>\n",
              "      <td>0.571208</td>\n",
              "      <td>0.571208</td>\n",
              "      <td>11</td>\n",
              "      <td>_Build prototypes to explore applying machine ...</td>\n",
              "      <td>11</td>\n",
              "    </tr>\n",
              "    <tr>\n",
              "      <th>46</th>\n",
              "      <td>11_Do research that advances the state of the ...</td>\n",
              "      <td>-0.0443916</td>\n",
              "      <td>0.0443916</td>\n",
              "      <td>11</td>\n",
              "      <td>_Do research that advances the state of the ar...</td>\n",
              "      <td>11</td>\n",
              "    </tr>\n",
              "    <tr>\n",
              "      <th>47</th>\n",
              "      <td>11_Other</td>\n",
              "      <td>0.0775768</td>\n",
              "      <td>0.0775768</td>\n",
              "      <td>11</td>\n",
              "      <td>_Other</td>\n",
              "      <td>11</td>\n",
              "    </tr>\n",
              "    <tr>\n",
              "      <th>48</th>\n",
              "      <td>12_Q12_Part_2_TEXT</td>\n",
              "      <td>0.0797841</td>\n",
              "      <td>0.0797841</td>\n",
              "      <td>12</td>\n",
              "      <td>_Q12_Part_2_TEXT</td>\n",
              "      <td>12</td>\n",
              "    </tr>\n",
              "    <tr>\n",
              "      <th>49</th>\n",
              "      <td>12_Q12_Part_3_TEXT</td>\n",
              "      <td>0</td>\n",
              "      <td>0</td>\n",
              "      <td>12</td>\n",
              "      <td>_Q12_Part_3_TEXT</td>\n",
              "      <td>12</td>\n",
              "    </tr>\n",
              "    <tr>\n",
              "      <th>50</th>\n",
              "      <td>12_Q12_Part_4_TEXT</td>\n",
              "      <td>0</td>\n",
              "      <td>0</td>\n",
              "      <td>12</td>\n",
              "      <td>_Q12_Part_4_TEXT</td>\n",
              "      <td>12</td>\n",
              "    </tr>\n",
              "    <tr>\n",
              "      <th>51</th>\n",
              "      <td>12_Q12_Part_5_TEXT</td>\n",
              "      <td>0.132416</td>\n",
              "      <td>0.132416</td>\n",
              "      <td>12</td>\n",
              "      <td>_Q12_Part_5_TEXT</td>\n",
              "      <td>12</td>\n",
              "    </tr>\n",
              "    <tr>\n",
              "      <th>52</th>\n",
              "      <td>13_Jupyter/IPython</td>\n",
              "      <td>0.151667</td>\n",
              "      <td>0.151667</td>\n",
              "      <td>13</td>\n",
              "      <td>_Jupyter/IPython</td>\n",
              "      <td>13</td>\n",
              "    </tr>\n",
              "    <tr>\n",
              "      <th>53</th>\n",
              "      <td>13_RStudio</td>\n",
              "      <td>-0.218021</td>\n",
              "      <td>0.218021</td>\n",
              "      <td>13</td>\n",
              "      <td>_RStudio</td>\n",
              "      <td>13</td>\n",
              "    </tr>\n",
              "    <tr>\n",
              "      <th>54</th>\n",
              "      <td>13_PyCharm</td>\n",
              "      <td>0.0732168</td>\n",
              "      <td>0.0732168</td>\n",
              "      <td>13</td>\n",
              "      <td>_PyCharm</td>\n",
              "      <td>13</td>\n",
              "    </tr>\n",
              "    <tr>\n",
              "      <th>55</th>\n",
              "      <td>13_Visual Studio Code</td>\n",
              "      <td>0.0277405</td>\n",
              "      <td>0.0277405</td>\n",
              "      <td>13</td>\n",
              "      <td>_Visual Studio Code</td>\n",
              "      <td>13</td>\n",
              "    </tr>\n",
              "    <tr>\n",
              "      <th>56</th>\n",
              "      <td>13_Atom</td>\n",
              "      <td>-0.181935</td>\n",
              "      <td>0.181935</td>\n",
              "      <td>13</td>\n",
              "      <td>_Atom</td>\n",
              "      <td>13</td>\n",
              "    </tr>\n",
              "    <tr>\n",
              "      <th>57</th>\n",
              "      <td>13_MATLAB</td>\n",
              "      <td>-0.0175879</td>\n",
              "      <td>0.0175879</td>\n",
              "      <td>13</td>\n",
              "      <td>_MATLAB</td>\n",
              "      <td>13</td>\n",
              "    </tr>\n",
              "    <tr>\n",
              "      <th>58</th>\n",
              "      <td>13_Visual Studio</td>\n",
              "      <td>0.0345784</td>\n",
              "      <td>0.0345784</td>\n",
              "      <td>13</td>\n",
              "      <td>_Visual Studio</td>\n",
              "      <td>13</td>\n",
              "    </tr>\n",
              "    <tr>\n",
              "      <th>59</th>\n",
              "      <td>13_Notepad++</td>\n",
              "      <td>-0.11123</td>\n",
              "      <td>0.11123</td>\n",
              "      <td>13</td>\n",
              "      <td>_Notepad++</td>\n",
              "      <td>13</td>\n",
              "    </tr>\n",
              "  </tbody>\n",
              "</table>\n",
              "</div>"
            ],
            "text/plain": [
              "                                              feature  ... question\n",
              "40  10_We recently started using ML methods (i.e.,...  ...       10\n",
              "41  10_We use ML methods for generating insights (...  ...       10\n",
              "42  11_Analyze and understand data to influence pr...  ...       11\n",
              "43  11_Build and/or run a machine learning service...  ...       11\n",
              "44  11_Build and/or run the data infrastructure th...  ...       11\n",
              "45  11_Build prototypes to explore applying machin...  ...       11\n",
              "46  11_Do research that advances the state of the ...  ...       11\n",
              "47                                           11_Other  ...       11\n",
              "48                                 12_Q12_Part_2_TEXT  ...       12\n",
              "49                                 12_Q12_Part_3_TEXT  ...       12\n",
              "50                                 12_Q12_Part_4_TEXT  ...       12\n",
              "51                                 12_Q12_Part_5_TEXT  ...       12\n",
              "52                                 13_Jupyter/IPython  ...       13\n",
              "53                                         13_RStudio  ...       13\n",
              "54                                         13_PyCharm  ...       13\n",
              "55                              13_Visual Studio Code  ...       13\n",
              "56                                            13_Atom  ...       13\n",
              "57                                          13_MATLAB  ...       13\n",
              "58                                   13_Visual Studio  ...       13\n",
              "59                                       13_Notepad++  ...       13\n",
              "\n",
              "[20 rows x 6 columns]"
            ]
          },
          "metadata": {
            "tags": []
          },
          "execution_count": 245
        }
      ]
    },
    {
      "cell_type": "code",
      "metadata": {
        "id": "IN3Ogq872iFB",
        "colab_type": "code",
        "colab": {}
      },
      "source": [
        "import plotly.graph_objects as go\n"
      ],
      "execution_count": null,
      "outputs": []
    },
    {
      "cell_type": "code",
      "metadata": {
        "id": "s0eCSERe0uPO",
        "colab_type": "code",
        "colab": {
          "base_uri": "https://localhost:8080/",
          "height": 542
        },
        "outputId": "d394b8e8-a773-4220-88eb-4c0f21e19d66"
      },
      "source": [
        "Q6_data = features.iloc[15:21, :]\n",
        "Q6_data\n",
        "title = \"6_What is Your Role?\"\n",
        "barplot = Q6_data[['feature', 'coefficient']].copy()\n",
        "barplot.columns = ['y', 'x']\n",
        "barplot = barplot.sort_values(by='x', ascending = False)\n",
        "barplot['model_highlight'] = barplot.x > 0\n",
        "barplot['color'] = barplot.model_highlight.apply(lambda x :'cornflowerblue' if x else 'a')\n",
        "\n",
        "fig = go.Figure([go.Bar(x = Q6_data.feature, y = Q6_data.coefficient)])\n",
        "fig.show()"
      ],
      "execution_count": null,
      "outputs": [
        {
          "output_type": "display_data",
          "data": {
            "text/html": [
              "<html>\n",
              "<head><meta charset=\"utf-8\" /></head>\n",
              "<body>\n",
              "    <div>\n",
              "            <script src=\"https://cdnjs.cloudflare.com/ajax/libs/mathjax/2.7.5/MathJax.js?config=TeX-AMS-MML_SVG\"></script><script type=\"text/javascript\">if (window.MathJax) {MathJax.Hub.Config({SVG: {font: \"STIX-Web\"}});}</script>\n",
              "                <script type=\"text/javascript\">window.PlotlyConfig = {MathJaxConfig: 'local'};</script>\n",
              "        <script src=\"https://cdn.plot.ly/plotly-latest.min.js\"></script>    \n",
              "            <div id=\"e8cdb5db-83f2-4009-a4a2-005a2c4c30eb\" class=\"plotly-graph-div\" style=\"height:525px; width:100%;\"></div>\n",
              "            <script type=\"text/javascript\">\n",
              "                \n",
              "                    window.PLOTLYENV=window.PLOTLYENV || {};\n",
              "                    \n",
              "                if (document.getElementById(\"e8cdb5db-83f2-4009-a4a2-005a2c4c30eb\")) {\n",
              "                    Plotly.newPlot(\n",
              "                        'e8cdb5db-83f2-4009-a4a2-005a2c4c30eb',\n",
              "                        [{\"type\": \"bar\", \"x\": [\"Data Analyst\", \"Data Engineer/DBA\", \"Data Scientist\", \"Software Engineer\", \"Statistician/Research Scientist\", \"Student\"], \"y\": [-0.21239385066529995, 0.0, 0.11321142989045802, 0.0, 0.1543101949767669, -2.136107543127737]}],\n",
              "                        {\"template\": {\"data\": {\"bar\": [{\"error_x\": {\"color\": \"#2a3f5f\"}, \"error_y\": {\"color\": \"#2a3f5f\"}, \"marker\": {\"line\": {\"color\": \"#E5ECF6\", \"width\": 0.5}}, \"type\": \"bar\"}], \"barpolar\": [{\"marker\": {\"line\": {\"color\": \"#E5ECF6\", \"width\": 0.5}}, \"type\": \"barpolar\"}], \"carpet\": [{\"aaxis\": {\"endlinecolor\": \"#2a3f5f\", \"gridcolor\": \"white\", \"linecolor\": \"white\", \"minorgridcolor\": \"white\", \"startlinecolor\": \"#2a3f5f\"}, \"baxis\": {\"endlinecolor\": \"#2a3f5f\", \"gridcolor\": \"white\", \"linecolor\": \"white\", \"minorgridcolor\": \"white\", \"startlinecolor\": \"#2a3f5f\"}, \"type\": \"carpet\"}], \"choropleth\": [{\"colorbar\": {\"outlinewidth\": 0, \"ticks\": \"\"}, \"type\": \"choropleth\"}], \"contour\": [{\"colorbar\": {\"outlinewidth\": 0, \"ticks\": \"\"}, \"colorscale\": [[0.0, \"#0d0887\"], [0.1111111111111111, \"#46039f\"], [0.2222222222222222, \"#7201a8\"], [0.3333333333333333, \"#9c179e\"], [0.4444444444444444, \"#bd3786\"], [0.5555555555555556, \"#d8576b\"], [0.6666666666666666, \"#ed7953\"], [0.7777777777777778, \"#fb9f3a\"], [0.8888888888888888, \"#fdca26\"], [1.0, \"#f0f921\"]], \"type\": \"contour\"}], \"contourcarpet\": [{\"colorbar\": {\"outlinewidth\": 0, \"ticks\": \"\"}, \"type\": \"contourcarpet\"}], \"heatmap\": [{\"colorbar\": {\"outlinewidth\": 0, \"ticks\": \"\"}, \"colorscale\": [[0.0, \"#0d0887\"], [0.1111111111111111, \"#46039f\"], [0.2222222222222222, \"#7201a8\"], [0.3333333333333333, \"#9c179e\"], [0.4444444444444444, \"#bd3786\"], [0.5555555555555556, \"#d8576b\"], [0.6666666666666666, \"#ed7953\"], [0.7777777777777778, \"#fb9f3a\"], [0.8888888888888888, \"#fdca26\"], [1.0, \"#f0f921\"]], \"type\": \"heatmap\"}], \"heatmapgl\": [{\"colorbar\": {\"outlinewidth\": 0, \"ticks\": \"\"}, \"colorscale\": [[0.0, \"#0d0887\"], [0.1111111111111111, \"#46039f\"], [0.2222222222222222, \"#7201a8\"], [0.3333333333333333, \"#9c179e\"], [0.4444444444444444, \"#bd3786\"], [0.5555555555555556, \"#d8576b\"], [0.6666666666666666, \"#ed7953\"], [0.7777777777777778, \"#fb9f3a\"], [0.8888888888888888, \"#fdca26\"], [1.0, \"#f0f921\"]], \"type\": \"heatmapgl\"}], \"histogram\": [{\"marker\": {\"colorbar\": {\"outlinewidth\": 0, \"ticks\": \"\"}}, \"type\": \"histogram\"}], \"histogram2d\": [{\"colorbar\": {\"outlinewidth\": 0, \"ticks\": \"\"}, \"colorscale\": [[0.0, \"#0d0887\"], [0.1111111111111111, \"#46039f\"], [0.2222222222222222, \"#7201a8\"], [0.3333333333333333, \"#9c179e\"], [0.4444444444444444, \"#bd3786\"], [0.5555555555555556, \"#d8576b\"], [0.6666666666666666, \"#ed7953\"], [0.7777777777777778, \"#fb9f3a\"], [0.8888888888888888, \"#fdca26\"], [1.0, \"#f0f921\"]], \"type\": \"histogram2d\"}], \"histogram2dcontour\": [{\"colorbar\": {\"outlinewidth\": 0, \"ticks\": \"\"}, \"colorscale\": [[0.0, \"#0d0887\"], [0.1111111111111111, \"#46039f\"], [0.2222222222222222, \"#7201a8\"], [0.3333333333333333, \"#9c179e\"], [0.4444444444444444, \"#bd3786\"], [0.5555555555555556, \"#d8576b\"], [0.6666666666666666, \"#ed7953\"], [0.7777777777777778, \"#fb9f3a\"], [0.8888888888888888, \"#fdca26\"], [1.0, \"#f0f921\"]], \"type\": \"histogram2dcontour\"}], \"mesh3d\": [{\"colorbar\": {\"outlinewidth\": 0, \"ticks\": \"\"}, \"type\": \"mesh3d\"}], \"parcoords\": [{\"line\": {\"colorbar\": {\"outlinewidth\": 0, \"ticks\": \"\"}}, \"type\": \"parcoords\"}], \"pie\": [{\"automargin\": true, \"type\": \"pie\"}], \"scatter\": [{\"marker\": {\"colorbar\": {\"outlinewidth\": 0, \"ticks\": \"\"}}, \"type\": \"scatter\"}], \"scatter3d\": [{\"line\": {\"colorbar\": {\"outlinewidth\": 0, \"ticks\": \"\"}}, \"marker\": {\"colorbar\": {\"outlinewidth\": 0, \"ticks\": \"\"}}, \"type\": \"scatter3d\"}], \"scattercarpet\": [{\"marker\": {\"colorbar\": {\"outlinewidth\": 0, \"ticks\": \"\"}}, \"type\": \"scattercarpet\"}], \"scattergeo\": [{\"marker\": {\"colorbar\": {\"outlinewidth\": 0, \"ticks\": \"\"}}, \"type\": \"scattergeo\"}], \"scattergl\": [{\"marker\": {\"colorbar\": {\"outlinewidth\": 0, \"ticks\": \"\"}}, \"type\": \"scattergl\"}], \"scattermapbox\": [{\"marker\": {\"colorbar\": {\"outlinewidth\": 0, \"ticks\": \"\"}}, \"type\": \"scattermapbox\"}], \"scatterpolar\": [{\"marker\": {\"colorbar\": {\"outlinewidth\": 0, \"ticks\": \"\"}}, \"type\": \"scatterpolar\"}], \"scatterpolargl\": [{\"marker\": {\"colorbar\": {\"outlinewidth\": 0, \"ticks\": \"\"}}, \"type\": \"scatterpolargl\"}], \"scatterternary\": [{\"marker\": {\"colorbar\": {\"outlinewidth\": 0, \"ticks\": \"\"}}, \"type\": \"scatterternary\"}], \"surface\": [{\"colorbar\": {\"outlinewidth\": 0, \"ticks\": \"\"}, \"colorscale\": [[0.0, \"#0d0887\"], [0.1111111111111111, \"#46039f\"], [0.2222222222222222, \"#7201a8\"], [0.3333333333333333, \"#9c179e\"], [0.4444444444444444, \"#bd3786\"], [0.5555555555555556, \"#d8576b\"], [0.6666666666666666, \"#ed7953\"], [0.7777777777777778, \"#fb9f3a\"], [0.8888888888888888, \"#fdca26\"], [1.0, \"#f0f921\"]], \"type\": \"surface\"}], \"table\": [{\"cells\": {\"fill\": {\"color\": \"#EBF0F8\"}, \"line\": {\"color\": \"white\"}}, \"header\": {\"fill\": {\"color\": \"#C8D4E3\"}, \"line\": {\"color\": \"white\"}}, \"type\": \"table\"}]}, \"layout\": {\"annotationdefaults\": {\"arrowcolor\": \"#2a3f5f\", \"arrowhead\": 0, \"arrowwidth\": 1}, \"coloraxis\": {\"colorbar\": {\"outlinewidth\": 0, \"ticks\": \"\"}}, \"colorscale\": {\"diverging\": [[0, \"#8e0152\"], [0.1, \"#c51b7d\"], [0.2, \"#de77ae\"], [0.3, \"#f1b6da\"], [0.4, \"#fde0ef\"], [0.5, \"#f7f7f7\"], [0.6, \"#e6f5d0\"], [0.7, \"#b8e186\"], [0.8, \"#7fbc41\"], [0.9, \"#4d9221\"], [1, \"#276419\"]], \"sequential\": [[0.0, \"#0d0887\"], [0.1111111111111111, \"#46039f\"], [0.2222222222222222, \"#7201a8\"], [0.3333333333333333, \"#9c179e\"], [0.4444444444444444, \"#bd3786\"], [0.5555555555555556, \"#d8576b\"], [0.6666666666666666, \"#ed7953\"], [0.7777777777777778, \"#fb9f3a\"], [0.8888888888888888, \"#fdca26\"], [1.0, \"#f0f921\"]], \"sequentialminus\": [[0.0, \"#0d0887\"], [0.1111111111111111, \"#46039f\"], [0.2222222222222222, \"#7201a8\"], [0.3333333333333333, \"#9c179e\"], [0.4444444444444444, \"#bd3786\"], [0.5555555555555556, \"#d8576b\"], [0.6666666666666666, \"#ed7953\"], [0.7777777777777778, \"#fb9f3a\"], [0.8888888888888888, \"#fdca26\"], [1.0, \"#f0f921\"]]}, \"colorway\": [\"#636efa\", \"#EF553B\", \"#00cc96\", \"#ab63fa\", \"#FFA15A\", \"#19d3f3\", \"#FF6692\", \"#B6E880\", \"#FF97FF\", \"#FECB52\"], \"font\": {\"color\": \"#2a3f5f\"}, \"geo\": {\"bgcolor\": \"white\", \"lakecolor\": \"white\", \"landcolor\": \"#E5ECF6\", \"showlakes\": true, \"showland\": true, \"subunitcolor\": \"white\"}, \"hoverlabel\": {\"align\": \"left\"}, \"hovermode\": \"closest\", \"mapbox\": {\"style\": \"light\"}, \"paper_bgcolor\": \"white\", \"plot_bgcolor\": \"#E5ECF6\", \"polar\": {\"angularaxis\": {\"gridcolor\": \"white\", \"linecolor\": \"white\", \"ticks\": \"\"}, \"bgcolor\": \"#E5ECF6\", \"radialaxis\": {\"gridcolor\": \"white\", \"linecolor\": \"white\", \"ticks\": \"\"}}, \"scene\": {\"xaxis\": {\"backgroundcolor\": \"#E5ECF6\", \"gridcolor\": \"white\", \"gridwidth\": 2, \"linecolor\": \"white\", \"showbackground\": true, \"ticks\": \"\", \"zerolinecolor\": \"white\"}, \"yaxis\": {\"backgroundcolor\": \"#E5ECF6\", \"gridcolor\": \"white\", \"gridwidth\": 2, \"linecolor\": \"white\", \"showbackground\": true, \"ticks\": \"\", \"zerolinecolor\": \"white\"}, \"zaxis\": {\"backgroundcolor\": \"#E5ECF6\", \"gridcolor\": \"white\", \"gridwidth\": 2, \"linecolor\": \"white\", \"showbackground\": true, \"ticks\": \"\", \"zerolinecolor\": \"white\"}}, \"shapedefaults\": {\"line\": {\"color\": \"#2a3f5f\"}}, \"ternary\": {\"aaxis\": {\"gridcolor\": \"white\", \"linecolor\": \"white\", \"ticks\": \"\"}, \"baxis\": {\"gridcolor\": \"white\", \"linecolor\": \"white\", \"ticks\": \"\"}, \"bgcolor\": \"#E5ECF6\", \"caxis\": {\"gridcolor\": \"white\", \"linecolor\": \"white\", \"ticks\": \"\"}}, \"title\": {\"x\": 0.05}, \"xaxis\": {\"automargin\": true, \"gridcolor\": \"white\", \"linecolor\": \"white\", \"ticks\": \"\", \"title\": {\"standoff\": 15}, \"zerolinecolor\": \"white\", \"zerolinewidth\": 2}, \"yaxis\": {\"automargin\": true, \"gridcolor\": \"white\", \"linecolor\": \"white\", \"ticks\": \"\", \"title\": {\"standoff\": 15}, \"zerolinecolor\": \"white\", \"zerolinewidth\": 2}}}},\n",
              "                        {\"responsive\": true}\n",
              "                    ).then(function(){\n",
              "                            \n",
              "var gd = document.getElementById('e8cdb5db-83f2-4009-a4a2-005a2c4c30eb');\n",
              "var x = new MutationObserver(function (mutations, observer) {{\n",
              "        var display = window.getComputedStyle(gd).display;\n",
              "        if (!display || display === 'none') {{\n",
              "            console.log([gd, 'removed!']);\n",
              "            Plotly.purge(gd);\n",
              "            observer.disconnect();\n",
              "        }}\n",
              "}});\n",
              "\n",
              "// Listen for the removal of the full notebook cells\n",
              "var notebookContainer = gd.closest('#notebook-container');\n",
              "if (notebookContainer) {{\n",
              "    x.observe(notebookContainer, {childList: true});\n",
              "}}\n",
              "\n",
              "// Listen for the clearing of the current output cell\n",
              "var outputEl = gd.closest('.output');\n",
              "if (outputEl) {{\n",
              "    x.observe(outputEl, {childList: true});\n",
              "}}\n",
              "\n",
              "                        })\n",
              "                };\n",
              "                \n",
              "            </script>\n",
              "        </div>\n",
              "</body>\n",
              "</html>"
            ]
          },
          "metadata": {
            "tags": []
          }
        }
      ]
    },
    {
      "cell_type": "markdown",
      "metadata": {
        "id": "Jy7VE2lf3HK4",
        "colab_type": "text"
      },
      "source": [
        "* L1 Penalty : 효과가 미미한 경우 0으로 보내버림. 따라서 Data Engineer/DBA와 Software Engineer의 효과가 사라짐. "
      ]
    },
    {
      "cell_type": "code",
      "metadata": {
        "id": "vhQBk4Hc3lwz",
        "colab_type": "code",
        "colab": {
          "base_uri": "https://localhost:8080/",
          "height": 542
        },
        "outputId": "6bb05aa2-cc6e-4ce0-fabf-7b6f7b62ebf7"
      },
      "source": [
        "Q4_data = features.iloc[12:15, :]\n",
        "Q4_data\n",
        "title = \"4_What is the Highest Level of formal education that you have attained or plan to attain within the next 2 years?\"\n",
        "barplot = Q4_data[['answer', 'coefficient']].copy()\n",
        "barplot.columns = ['y', 'x']\n",
        "barplot = barplot.sort_values(by='x', ascending = False)\n",
        "barplot['model_highlight'] = barplot.x > 0\n",
        "barplot['color'] = barplot.model_highlight.apply(lambda x :'cornflowerblue' if x else 'a')\n",
        "\n",
        "fig = go.Figure([go.Bar(x = Q4_data.answer, y = Q4_data.coefficient)])\n",
        "fig.show()"
      ],
      "execution_count": null,
      "outputs": [
        {
          "output_type": "display_data",
          "data": {
            "text/html": [
              "<html>\n",
              "<head><meta charset=\"utf-8\" /></head>\n",
              "<body>\n",
              "    <div>\n",
              "            <script src=\"https://cdnjs.cloudflare.com/ajax/libs/mathjax/2.7.5/MathJax.js?config=TeX-AMS-MML_SVG\"></script><script type=\"text/javascript\">if (window.MathJax) {MathJax.Hub.Config({SVG: {font: \"STIX-Web\"}});}</script>\n",
              "                <script type=\"text/javascript\">window.PlotlyConfig = {MathJaxConfig: 'local'};</script>\n",
              "        <script src=\"https://cdn.plot.ly/plotly-latest.min.js\"></script>    \n",
              "            <div id=\"b6362e8d-ea87-4709-8724-1a3efb0621b5\" class=\"plotly-graph-div\" style=\"height:525px; width:100%;\"></div>\n",
              "            <script type=\"text/javascript\">\n",
              "                \n",
              "                    window.PLOTLYENV=window.PLOTLYENV || {};\n",
              "                    \n",
              "                if (document.getElementById(\"b6362e8d-ea87-4709-8724-1a3efb0621b5\")) {\n",
              "                    Plotly.newPlot(\n",
              "                        'b6362e8d-ea87-4709-8724-1a3efb0621b5',\n",
              "                        [{\"type\": \"bar\", \"x\": [\"Bachelor\\u2019s degree\", \"Doctoral degree\", \"Master\\u2019s degree\"], \"y\": [0.0, 0.19188359837132543, 0.18992403629955948]}],\n",
              "                        {\"template\": {\"data\": {\"bar\": [{\"error_x\": {\"color\": \"#2a3f5f\"}, \"error_y\": {\"color\": \"#2a3f5f\"}, \"marker\": {\"line\": {\"color\": \"#E5ECF6\", \"width\": 0.5}}, \"type\": \"bar\"}], \"barpolar\": [{\"marker\": {\"line\": {\"color\": \"#E5ECF6\", \"width\": 0.5}}, \"type\": \"barpolar\"}], \"carpet\": [{\"aaxis\": {\"endlinecolor\": \"#2a3f5f\", \"gridcolor\": \"white\", \"linecolor\": \"white\", \"minorgridcolor\": \"white\", \"startlinecolor\": \"#2a3f5f\"}, \"baxis\": {\"endlinecolor\": \"#2a3f5f\", \"gridcolor\": \"white\", \"linecolor\": \"white\", \"minorgridcolor\": \"white\", \"startlinecolor\": \"#2a3f5f\"}, \"type\": \"carpet\"}], \"choropleth\": [{\"colorbar\": {\"outlinewidth\": 0, \"ticks\": \"\"}, \"type\": \"choropleth\"}], \"contour\": [{\"colorbar\": {\"outlinewidth\": 0, \"ticks\": \"\"}, \"colorscale\": [[0.0, \"#0d0887\"], [0.1111111111111111, \"#46039f\"], [0.2222222222222222, \"#7201a8\"], [0.3333333333333333, \"#9c179e\"], [0.4444444444444444, \"#bd3786\"], [0.5555555555555556, \"#d8576b\"], [0.6666666666666666, \"#ed7953\"], [0.7777777777777778, \"#fb9f3a\"], [0.8888888888888888, \"#fdca26\"], [1.0, \"#f0f921\"]], \"type\": \"contour\"}], \"contourcarpet\": [{\"colorbar\": {\"outlinewidth\": 0, \"ticks\": \"\"}, \"type\": \"contourcarpet\"}], \"heatmap\": [{\"colorbar\": {\"outlinewidth\": 0, \"ticks\": \"\"}, \"colorscale\": [[0.0, \"#0d0887\"], [0.1111111111111111, \"#46039f\"], [0.2222222222222222, \"#7201a8\"], [0.3333333333333333, \"#9c179e\"], [0.4444444444444444, \"#bd3786\"], [0.5555555555555556, \"#d8576b\"], [0.6666666666666666, \"#ed7953\"], [0.7777777777777778, \"#fb9f3a\"], [0.8888888888888888, \"#fdca26\"], [1.0, \"#f0f921\"]], \"type\": \"heatmap\"}], \"heatmapgl\": [{\"colorbar\": {\"outlinewidth\": 0, \"ticks\": \"\"}, \"colorscale\": [[0.0, \"#0d0887\"], [0.1111111111111111, \"#46039f\"], [0.2222222222222222, \"#7201a8\"], [0.3333333333333333, \"#9c179e\"], [0.4444444444444444, \"#bd3786\"], [0.5555555555555556, \"#d8576b\"], [0.6666666666666666, \"#ed7953\"], [0.7777777777777778, \"#fb9f3a\"], [0.8888888888888888, \"#fdca26\"], [1.0, \"#f0f921\"]], \"type\": \"heatmapgl\"}], \"histogram\": [{\"marker\": {\"colorbar\": {\"outlinewidth\": 0, \"ticks\": \"\"}}, \"type\": \"histogram\"}], \"histogram2d\": [{\"colorbar\": {\"outlinewidth\": 0, \"ticks\": \"\"}, \"colorscale\": [[0.0, \"#0d0887\"], [0.1111111111111111, \"#46039f\"], [0.2222222222222222, \"#7201a8\"], [0.3333333333333333, \"#9c179e\"], [0.4444444444444444, \"#bd3786\"], [0.5555555555555556, \"#d8576b\"], [0.6666666666666666, \"#ed7953\"], [0.7777777777777778, \"#fb9f3a\"], [0.8888888888888888, \"#fdca26\"], [1.0, \"#f0f921\"]], \"type\": \"histogram2d\"}], \"histogram2dcontour\": [{\"colorbar\": {\"outlinewidth\": 0, \"ticks\": \"\"}, \"colorscale\": [[0.0, \"#0d0887\"], [0.1111111111111111, \"#46039f\"], [0.2222222222222222, \"#7201a8\"], [0.3333333333333333, \"#9c179e\"], [0.4444444444444444, \"#bd3786\"], [0.5555555555555556, \"#d8576b\"], [0.6666666666666666, \"#ed7953\"], [0.7777777777777778, \"#fb9f3a\"], [0.8888888888888888, \"#fdca26\"], [1.0, \"#f0f921\"]], \"type\": \"histogram2dcontour\"}], \"mesh3d\": [{\"colorbar\": {\"outlinewidth\": 0, \"ticks\": \"\"}, \"type\": \"mesh3d\"}], \"parcoords\": [{\"line\": {\"colorbar\": {\"outlinewidth\": 0, \"ticks\": \"\"}}, \"type\": \"parcoords\"}], \"pie\": [{\"automargin\": true, \"type\": \"pie\"}], \"scatter\": [{\"marker\": {\"colorbar\": {\"outlinewidth\": 0, \"ticks\": \"\"}}, \"type\": \"scatter\"}], \"scatter3d\": [{\"line\": {\"colorbar\": {\"outlinewidth\": 0, \"ticks\": \"\"}}, \"marker\": {\"colorbar\": {\"outlinewidth\": 0, \"ticks\": \"\"}}, \"type\": \"scatter3d\"}], \"scattercarpet\": [{\"marker\": {\"colorbar\": {\"outlinewidth\": 0, \"ticks\": \"\"}}, \"type\": \"scattercarpet\"}], \"scattergeo\": [{\"marker\": {\"colorbar\": {\"outlinewidth\": 0, \"ticks\": \"\"}}, \"type\": \"scattergeo\"}], \"scattergl\": [{\"marker\": {\"colorbar\": {\"outlinewidth\": 0, \"ticks\": \"\"}}, \"type\": \"scattergl\"}], \"scattermapbox\": [{\"marker\": {\"colorbar\": {\"outlinewidth\": 0, \"ticks\": \"\"}}, \"type\": \"scattermapbox\"}], \"scatterpolar\": [{\"marker\": {\"colorbar\": {\"outlinewidth\": 0, \"ticks\": \"\"}}, \"type\": \"scatterpolar\"}], \"scatterpolargl\": [{\"marker\": {\"colorbar\": {\"outlinewidth\": 0, \"ticks\": \"\"}}, \"type\": \"scatterpolargl\"}], \"scatterternary\": [{\"marker\": {\"colorbar\": {\"outlinewidth\": 0, \"ticks\": \"\"}}, \"type\": \"scatterternary\"}], \"surface\": [{\"colorbar\": {\"outlinewidth\": 0, \"ticks\": \"\"}, \"colorscale\": [[0.0, \"#0d0887\"], [0.1111111111111111, \"#46039f\"], [0.2222222222222222, \"#7201a8\"], [0.3333333333333333, \"#9c179e\"], [0.4444444444444444, \"#bd3786\"], [0.5555555555555556, \"#d8576b\"], [0.6666666666666666, \"#ed7953\"], [0.7777777777777778, \"#fb9f3a\"], [0.8888888888888888, \"#fdca26\"], [1.0, \"#f0f921\"]], \"type\": \"surface\"}], \"table\": [{\"cells\": {\"fill\": {\"color\": \"#EBF0F8\"}, \"line\": {\"color\": \"white\"}}, \"header\": {\"fill\": {\"color\": \"#C8D4E3\"}, \"line\": {\"color\": \"white\"}}, \"type\": \"table\"}]}, \"layout\": {\"annotationdefaults\": {\"arrowcolor\": \"#2a3f5f\", \"arrowhead\": 0, \"arrowwidth\": 1}, \"coloraxis\": {\"colorbar\": {\"outlinewidth\": 0, \"ticks\": \"\"}}, \"colorscale\": {\"diverging\": [[0, \"#8e0152\"], [0.1, \"#c51b7d\"], [0.2, \"#de77ae\"], [0.3, \"#f1b6da\"], [0.4, \"#fde0ef\"], [0.5, \"#f7f7f7\"], [0.6, \"#e6f5d0\"], [0.7, \"#b8e186\"], [0.8, \"#7fbc41\"], [0.9, \"#4d9221\"], [1, \"#276419\"]], \"sequential\": [[0.0, \"#0d0887\"], [0.1111111111111111, \"#46039f\"], [0.2222222222222222, \"#7201a8\"], [0.3333333333333333, \"#9c179e\"], [0.4444444444444444, \"#bd3786\"], [0.5555555555555556, \"#d8576b\"], [0.6666666666666666, \"#ed7953\"], [0.7777777777777778, \"#fb9f3a\"], [0.8888888888888888, \"#fdca26\"], [1.0, \"#f0f921\"]], \"sequentialminus\": [[0.0, \"#0d0887\"], [0.1111111111111111, \"#46039f\"], [0.2222222222222222, \"#7201a8\"], [0.3333333333333333, \"#9c179e\"], [0.4444444444444444, \"#bd3786\"], [0.5555555555555556, \"#d8576b\"], [0.6666666666666666, \"#ed7953\"], [0.7777777777777778, \"#fb9f3a\"], [0.8888888888888888, \"#fdca26\"], [1.0, \"#f0f921\"]]}, \"colorway\": [\"#636efa\", \"#EF553B\", \"#00cc96\", \"#ab63fa\", \"#FFA15A\", \"#19d3f3\", \"#FF6692\", \"#B6E880\", \"#FF97FF\", \"#FECB52\"], \"font\": {\"color\": \"#2a3f5f\"}, \"geo\": {\"bgcolor\": \"white\", \"lakecolor\": \"white\", \"landcolor\": \"#E5ECF6\", \"showlakes\": true, \"showland\": true, \"subunitcolor\": \"white\"}, \"hoverlabel\": {\"align\": \"left\"}, \"hovermode\": \"closest\", \"mapbox\": {\"style\": \"light\"}, \"paper_bgcolor\": \"white\", \"plot_bgcolor\": \"#E5ECF6\", \"polar\": {\"angularaxis\": {\"gridcolor\": \"white\", \"linecolor\": \"white\", \"ticks\": \"\"}, \"bgcolor\": \"#E5ECF6\", \"radialaxis\": {\"gridcolor\": \"white\", \"linecolor\": \"white\", \"ticks\": \"\"}}, \"scene\": {\"xaxis\": {\"backgroundcolor\": \"#E5ECF6\", \"gridcolor\": \"white\", \"gridwidth\": 2, \"linecolor\": \"white\", \"showbackground\": true, \"ticks\": \"\", \"zerolinecolor\": \"white\"}, \"yaxis\": {\"backgroundcolor\": \"#E5ECF6\", \"gridcolor\": \"white\", \"gridwidth\": 2, \"linecolor\": \"white\", \"showbackground\": true, \"ticks\": \"\", \"zerolinecolor\": \"white\"}, \"zaxis\": {\"backgroundcolor\": \"#E5ECF6\", \"gridcolor\": \"white\", \"gridwidth\": 2, \"linecolor\": \"white\", \"showbackground\": true, \"ticks\": \"\", \"zerolinecolor\": \"white\"}}, \"shapedefaults\": {\"line\": {\"color\": \"#2a3f5f\"}}, \"ternary\": {\"aaxis\": {\"gridcolor\": \"white\", \"linecolor\": \"white\", \"ticks\": \"\"}, \"baxis\": {\"gridcolor\": \"white\", \"linecolor\": \"white\", \"ticks\": \"\"}, \"bgcolor\": \"#E5ECF6\", \"caxis\": {\"gridcolor\": \"white\", \"linecolor\": \"white\", \"ticks\": \"\"}}, \"title\": {\"x\": 0.05}, \"xaxis\": {\"automargin\": true, \"gridcolor\": \"white\", \"linecolor\": \"white\", \"ticks\": \"\", \"title\": {\"standoff\": 15}, \"zerolinecolor\": \"white\", \"zerolinewidth\": 2}, \"yaxis\": {\"automargin\": true, \"gridcolor\": \"white\", \"linecolor\": \"white\", \"ticks\": \"\", \"title\": {\"standoff\": 15}, \"zerolinecolor\": \"white\", \"zerolinewidth\": 2}}}},\n",
              "                        {\"responsive\": true}\n",
              "                    ).then(function(){\n",
              "                            \n",
              "var gd = document.getElementById('b6362e8d-ea87-4709-8724-1a3efb0621b5');\n",
              "var x = new MutationObserver(function (mutations, observer) {{\n",
              "        var display = window.getComputedStyle(gd).display;\n",
              "        if (!display || display === 'none') {{\n",
              "            console.log([gd, 'removed!']);\n",
              "            Plotly.purge(gd);\n",
              "            observer.disconnect();\n",
              "        }}\n",
              "}});\n",
              "\n",
              "// Listen for the removal of the full notebook cells\n",
              "var notebookContainer = gd.closest('#notebook-container');\n",
              "if (notebookContainer) {{\n",
              "    x.observe(notebookContainer, {childList: true});\n",
              "}}\n",
              "\n",
              "// Listen for the clearing of the current output cell\n",
              "var outputEl = gd.closest('.output');\n",
              "if (outputEl) {{\n",
              "    x.observe(outputEl, {childList: true});\n",
              "}}\n",
              "\n",
              "                        })\n",
              "                };\n",
              "                \n",
              "            </script>\n",
              "        </div>\n",
              "</body>\n",
              "</html>"
            ]
          },
          "metadata": {
            "tags": []
          }
        }
      ]
    },
    {
      "cell_type": "markdown",
      "metadata": {
        "id": "-ERFz6J76kkk",
        "colab_type": "text"
      },
      "source": [
        "* Bachelor's degree는 비교적 효과 없음으로 드러남. Doctoral과 Master's degree 는 top 20% 연봉에 유의한 결과를 드러냄. "
      ]
    },
    {
      "cell_type": "code",
      "metadata": {
        "id": "Rzt4wBQc4YW1",
        "colab_type": "code",
        "colab": {
          "base_uri": "https://localhost:8080/",
          "height": 542
        },
        "outputId": "2db0f4e3-9f76-4246-b17e-61788fbde7f3"
      },
      "source": [
        "Q8_data = features.iloc[29:36, :]\n",
        "Q8_data = Q8_data.astype(object)\n",
        "\n",
        "title = \"8_How many years of experience do you have in your current role?\"\n",
        "barplot = Q8_data[['answer', 'coefficient']].copy()\n",
        "barplot.columns = ['y', 'x']\n",
        "barplot = barplot.sort_values(by='x', ascending = True)\n",
        "barplot['model_highlight'] = barplot.x > 0\n",
        "barplot['color'] = barplot.model_highlight.apply(lambda x :'cornflowerblue' if x else 'a')\n",
        "\n",
        "fig = go.Figure([go.Bar(x = Q8_data.answer, y = Q8_data.coefficient)])\n",
        "fig.show()"
      ],
      "execution_count": null,
      "outputs": [
        {
          "output_type": "display_data",
          "data": {
            "text/html": [
              "<html>\n",
              "<head><meta charset=\"utf-8\" /></head>\n",
              "<body>\n",
              "    <div>\n",
              "            <script src=\"https://cdnjs.cloudflare.com/ajax/libs/mathjax/2.7.5/MathJax.js?config=TeX-AMS-MML_SVG\"></script><script type=\"text/javascript\">if (window.MathJax) {MathJax.Hub.Config({SVG: {font: \"STIX-Web\"}});}</script>\n",
              "                <script type=\"text/javascript\">window.PlotlyConfig = {MathJaxConfig: 'local'};</script>\n",
              "        <script src=\"https://cdn.plot.ly/plotly-latest.min.js\"></script>    \n",
              "            <div id=\"647e5cb8-0b2d-480e-86ec-8b2e9202bf4e\" class=\"plotly-graph-div\" style=\"height:525px; width:100%;\"></div>\n",
              "            <script type=\"text/javascript\">\n",
              "                \n",
              "                    window.PLOTLYENV=window.PLOTLYENV || {};\n",
              "                    \n",
              "                if (document.getElementById(\"647e5cb8-0b2d-480e-86ec-8b2e9202bf4e\")) {\n",
              "                    Plotly.newPlot(\n",
              "                        '647e5cb8-0b2d-480e-86ec-8b2e9202bf4e',\n",
              "                        [{\"type\": \"bar\", \"x\": [\"0-1\", \"1-2\", \"10-15\", \"2-3\", \"3-4\", \"4-5\", \"5-10\"], \"y\": [-0.8263305255251256, -0.7419069287620035, -0.13817890812060418, -0.4553167395834241, -0.7380789826504287, -0.17045640100261347, -0.12812946891709767]}],\n",
              "                        {\"template\": {\"data\": {\"bar\": [{\"error_x\": {\"color\": \"#2a3f5f\"}, \"error_y\": {\"color\": \"#2a3f5f\"}, \"marker\": {\"line\": {\"color\": \"#E5ECF6\", \"width\": 0.5}}, \"type\": \"bar\"}], \"barpolar\": [{\"marker\": {\"line\": {\"color\": \"#E5ECF6\", \"width\": 0.5}}, \"type\": \"barpolar\"}], \"carpet\": [{\"aaxis\": {\"endlinecolor\": \"#2a3f5f\", \"gridcolor\": \"white\", \"linecolor\": \"white\", \"minorgridcolor\": \"white\", \"startlinecolor\": \"#2a3f5f\"}, \"baxis\": {\"endlinecolor\": \"#2a3f5f\", \"gridcolor\": \"white\", \"linecolor\": \"white\", \"minorgridcolor\": \"white\", \"startlinecolor\": \"#2a3f5f\"}, \"type\": \"carpet\"}], \"choropleth\": [{\"colorbar\": {\"outlinewidth\": 0, \"ticks\": \"\"}, \"type\": \"choropleth\"}], \"contour\": [{\"colorbar\": {\"outlinewidth\": 0, \"ticks\": \"\"}, \"colorscale\": [[0.0, \"#0d0887\"], [0.1111111111111111, \"#46039f\"], [0.2222222222222222, \"#7201a8\"], [0.3333333333333333, \"#9c179e\"], [0.4444444444444444, \"#bd3786\"], [0.5555555555555556, \"#d8576b\"], [0.6666666666666666, \"#ed7953\"], [0.7777777777777778, \"#fb9f3a\"], [0.8888888888888888, \"#fdca26\"], [1.0, \"#f0f921\"]], \"type\": \"contour\"}], \"contourcarpet\": [{\"colorbar\": {\"outlinewidth\": 0, \"ticks\": \"\"}, \"type\": \"contourcarpet\"}], \"heatmap\": [{\"colorbar\": {\"outlinewidth\": 0, \"ticks\": \"\"}, \"colorscale\": [[0.0, \"#0d0887\"], [0.1111111111111111, \"#46039f\"], [0.2222222222222222, \"#7201a8\"], [0.3333333333333333, \"#9c179e\"], [0.4444444444444444, \"#bd3786\"], [0.5555555555555556, \"#d8576b\"], [0.6666666666666666, \"#ed7953\"], [0.7777777777777778, \"#fb9f3a\"], [0.8888888888888888, \"#fdca26\"], [1.0, \"#f0f921\"]], \"type\": \"heatmap\"}], \"heatmapgl\": [{\"colorbar\": {\"outlinewidth\": 0, \"ticks\": \"\"}, \"colorscale\": [[0.0, \"#0d0887\"], [0.1111111111111111, \"#46039f\"], [0.2222222222222222, \"#7201a8\"], [0.3333333333333333, \"#9c179e\"], [0.4444444444444444, \"#bd3786\"], [0.5555555555555556, \"#d8576b\"], [0.6666666666666666, \"#ed7953\"], [0.7777777777777778, \"#fb9f3a\"], [0.8888888888888888, \"#fdca26\"], [1.0, \"#f0f921\"]], \"type\": \"heatmapgl\"}], \"histogram\": [{\"marker\": {\"colorbar\": {\"outlinewidth\": 0, \"ticks\": \"\"}}, \"type\": \"histogram\"}], \"histogram2d\": [{\"colorbar\": {\"outlinewidth\": 0, \"ticks\": \"\"}, \"colorscale\": [[0.0, \"#0d0887\"], [0.1111111111111111, \"#46039f\"], [0.2222222222222222, \"#7201a8\"], [0.3333333333333333, \"#9c179e\"], [0.4444444444444444, \"#bd3786\"], [0.5555555555555556, \"#d8576b\"], [0.6666666666666666, \"#ed7953\"], [0.7777777777777778, \"#fb9f3a\"], [0.8888888888888888, \"#fdca26\"], [1.0, \"#f0f921\"]], \"type\": \"histogram2d\"}], \"histogram2dcontour\": [{\"colorbar\": {\"outlinewidth\": 0, \"ticks\": \"\"}, \"colorscale\": [[0.0, \"#0d0887\"], [0.1111111111111111, \"#46039f\"], [0.2222222222222222, \"#7201a8\"], [0.3333333333333333, \"#9c179e\"], [0.4444444444444444, \"#bd3786\"], [0.5555555555555556, \"#d8576b\"], [0.6666666666666666, \"#ed7953\"], [0.7777777777777778, \"#fb9f3a\"], [0.8888888888888888, \"#fdca26\"], [1.0, \"#f0f921\"]], \"type\": \"histogram2dcontour\"}], \"mesh3d\": [{\"colorbar\": {\"outlinewidth\": 0, \"ticks\": \"\"}, \"type\": \"mesh3d\"}], \"parcoords\": [{\"line\": {\"colorbar\": {\"outlinewidth\": 0, \"ticks\": \"\"}}, \"type\": \"parcoords\"}], \"pie\": [{\"automargin\": true, \"type\": \"pie\"}], \"scatter\": [{\"marker\": {\"colorbar\": {\"outlinewidth\": 0, \"ticks\": \"\"}}, \"type\": \"scatter\"}], \"scatter3d\": [{\"line\": {\"colorbar\": {\"outlinewidth\": 0, \"ticks\": \"\"}}, \"marker\": {\"colorbar\": {\"outlinewidth\": 0, \"ticks\": \"\"}}, \"type\": \"scatter3d\"}], \"scattercarpet\": [{\"marker\": {\"colorbar\": {\"outlinewidth\": 0, \"ticks\": \"\"}}, \"type\": \"scattercarpet\"}], \"scattergeo\": [{\"marker\": {\"colorbar\": {\"outlinewidth\": 0, \"ticks\": \"\"}}, \"type\": \"scattergeo\"}], \"scattergl\": [{\"marker\": {\"colorbar\": {\"outlinewidth\": 0, \"ticks\": \"\"}}, \"type\": \"scattergl\"}], \"scattermapbox\": [{\"marker\": {\"colorbar\": {\"outlinewidth\": 0, \"ticks\": \"\"}}, \"type\": \"scattermapbox\"}], \"scatterpolar\": [{\"marker\": {\"colorbar\": {\"outlinewidth\": 0, \"ticks\": \"\"}}, \"type\": \"scatterpolar\"}], \"scatterpolargl\": [{\"marker\": {\"colorbar\": {\"outlinewidth\": 0, \"ticks\": \"\"}}, \"type\": \"scatterpolargl\"}], \"scatterternary\": [{\"marker\": {\"colorbar\": {\"outlinewidth\": 0, \"ticks\": \"\"}}, \"type\": \"scatterternary\"}], \"surface\": [{\"colorbar\": {\"outlinewidth\": 0, \"ticks\": \"\"}, \"colorscale\": [[0.0, \"#0d0887\"], [0.1111111111111111, \"#46039f\"], [0.2222222222222222, \"#7201a8\"], [0.3333333333333333, \"#9c179e\"], [0.4444444444444444, \"#bd3786\"], [0.5555555555555556, \"#d8576b\"], [0.6666666666666666, \"#ed7953\"], [0.7777777777777778, \"#fb9f3a\"], [0.8888888888888888, \"#fdca26\"], [1.0, \"#f0f921\"]], \"type\": \"surface\"}], \"table\": [{\"cells\": {\"fill\": {\"color\": \"#EBF0F8\"}, \"line\": {\"color\": \"white\"}}, \"header\": {\"fill\": {\"color\": \"#C8D4E3\"}, \"line\": {\"color\": \"white\"}}, \"type\": \"table\"}]}, \"layout\": {\"annotationdefaults\": {\"arrowcolor\": \"#2a3f5f\", \"arrowhead\": 0, \"arrowwidth\": 1}, \"coloraxis\": {\"colorbar\": {\"outlinewidth\": 0, \"ticks\": \"\"}}, \"colorscale\": {\"diverging\": [[0, \"#8e0152\"], [0.1, \"#c51b7d\"], [0.2, \"#de77ae\"], [0.3, \"#f1b6da\"], [0.4, \"#fde0ef\"], [0.5, \"#f7f7f7\"], [0.6, \"#e6f5d0\"], [0.7, \"#b8e186\"], [0.8, \"#7fbc41\"], [0.9, \"#4d9221\"], [1, \"#276419\"]], \"sequential\": [[0.0, \"#0d0887\"], [0.1111111111111111, \"#46039f\"], [0.2222222222222222, \"#7201a8\"], [0.3333333333333333, \"#9c179e\"], [0.4444444444444444, \"#bd3786\"], [0.5555555555555556, \"#d8576b\"], [0.6666666666666666, \"#ed7953\"], [0.7777777777777778, \"#fb9f3a\"], [0.8888888888888888, \"#fdca26\"], [1.0, \"#f0f921\"]], \"sequentialminus\": [[0.0, \"#0d0887\"], [0.1111111111111111, \"#46039f\"], [0.2222222222222222, \"#7201a8\"], [0.3333333333333333, \"#9c179e\"], [0.4444444444444444, \"#bd3786\"], [0.5555555555555556, \"#d8576b\"], [0.6666666666666666, \"#ed7953\"], [0.7777777777777778, \"#fb9f3a\"], [0.8888888888888888, \"#fdca26\"], [1.0, \"#f0f921\"]]}, \"colorway\": [\"#636efa\", \"#EF553B\", \"#00cc96\", \"#ab63fa\", \"#FFA15A\", \"#19d3f3\", \"#FF6692\", \"#B6E880\", \"#FF97FF\", \"#FECB52\"], \"font\": {\"color\": \"#2a3f5f\"}, \"geo\": {\"bgcolor\": \"white\", \"lakecolor\": \"white\", \"landcolor\": \"#E5ECF6\", \"showlakes\": true, \"showland\": true, \"subunitcolor\": \"white\"}, \"hoverlabel\": {\"align\": \"left\"}, \"hovermode\": \"closest\", \"mapbox\": {\"style\": \"light\"}, \"paper_bgcolor\": \"white\", \"plot_bgcolor\": \"#E5ECF6\", \"polar\": {\"angularaxis\": {\"gridcolor\": \"white\", \"linecolor\": \"white\", \"ticks\": \"\"}, \"bgcolor\": \"#E5ECF6\", \"radialaxis\": {\"gridcolor\": \"white\", \"linecolor\": \"white\", \"ticks\": \"\"}}, \"scene\": {\"xaxis\": {\"backgroundcolor\": \"#E5ECF6\", \"gridcolor\": \"white\", \"gridwidth\": 2, \"linecolor\": \"white\", \"showbackground\": true, \"ticks\": \"\", \"zerolinecolor\": \"white\"}, \"yaxis\": {\"backgroundcolor\": \"#E5ECF6\", \"gridcolor\": \"white\", \"gridwidth\": 2, \"linecolor\": \"white\", \"showbackground\": true, \"ticks\": \"\", \"zerolinecolor\": \"white\"}, \"zaxis\": {\"backgroundcolor\": \"#E5ECF6\", \"gridcolor\": \"white\", \"gridwidth\": 2, \"linecolor\": \"white\", \"showbackground\": true, \"ticks\": \"\", \"zerolinecolor\": \"white\"}}, \"shapedefaults\": {\"line\": {\"color\": \"#2a3f5f\"}}, \"ternary\": {\"aaxis\": {\"gridcolor\": \"white\", \"linecolor\": \"white\", \"ticks\": \"\"}, \"baxis\": {\"gridcolor\": \"white\", \"linecolor\": \"white\", \"ticks\": \"\"}, \"bgcolor\": \"#E5ECF6\", \"caxis\": {\"gridcolor\": \"white\", \"linecolor\": \"white\", \"ticks\": \"\"}}, \"title\": {\"x\": 0.05}, \"xaxis\": {\"automargin\": true, \"gridcolor\": \"white\", \"linecolor\": \"white\", \"ticks\": \"\", \"title\": {\"standoff\": 15}, \"zerolinecolor\": \"white\", \"zerolinewidth\": 2}, \"yaxis\": {\"automargin\": true, \"gridcolor\": \"white\", \"linecolor\": \"white\", \"ticks\": \"\", \"title\": {\"standoff\": 15}, \"zerolinecolor\": \"white\", \"zerolinewidth\": 2}}}},\n",
              "                        {\"responsive\": true}\n",
              "                    ).then(function(){\n",
              "                            \n",
              "var gd = document.getElementById('647e5cb8-0b2d-480e-86ec-8b2e9202bf4e');\n",
              "var x = new MutationObserver(function (mutations, observer) {{\n",
              "        var display = window.getComputedStyle(gd).display;\n",
              "        if (!display || display === 'none') {{\n",
              "            console.log([gd, 'removed!']);\n",
              "            Plotly.purge(gd);\n",
              "            observer.disconnect();\n",
              "        }}\n",
              "}});\n",
              "\n",
              "// Listen for the removal of the full notebook cells\n",
              "var notebookContainer = gd.closest('#notebook-container');\n",
              "if (notebookContainer) {{\n",
              "    x.observe(notebookContainer, {childList: true});\n",
              "}}\n",
              "\n",
              "// Listen for the clearing of the current output cell\n",
              "var outputEl = gd.closest('.output');\n",
              "if (outputEl) {{\n",
              "    x.observe(outputEl, {childList: true});\n",
              "}}\n",
              "\n",
              "                        })\n",
              "                };\n",
              "                \n",
              "            </script>\n",
              "        </div>\n",
              "</body>\n",
              "</html>"
            ]
          },
          "metadata": {
            "tags": []
          }
        }
      ]
    },
    {
      "cell_type": "markdown",
      "metadata": {
        "id": "w_EhdaJR4j-V",
        "colab_type": "text"
      },
      "source": [
        "* 전부 Negative coefficients.\n",
        "* 5~10년, 10-15년 경력이 그래도 가장 작은 coef\n",
        "* 높은 경력자 = 많은 연봉. "
      ]
    },
    {
      "cell_type": "markdown",
      "metadata": {
        "id": "1pGU2TVz6wfp",
        "colab_type": "text"
      },
      "source": [
        "* Q11"
      ]
    },
    {
      "cell_type": "code",
      "metadata": {
        "id": "4XXPSEfW4YNx",
        "colab_type": "code",
        "colab": {
          "base_uri": "https://localhost:8080/",
          "height": 542
        },
        "outputId": "f42fe5de-057b-4d84-be6a-d2b9bb18cca1"
      },
      "source": [
        "Q11_data = features.iloc[42:48, :]\n",
        "\n",
        "title = \"11_Select any activities that make up an important part of your role at work\"\n",
        "barplot = Q11_data[['answer', 'coefficient']].copy()\n",
        "barplot.columns = ['y', 'x']\n",
        "barplot = barplot.sort_values(by='x', ascending = True)\n",
        "barplot['model_highlight'] = barplot.x > 0\n",
        "barplot['color'] = barplot.model_highlight.apply(lambda x :'cornflowerblue' if x else 'a')\n",
        "\n",
        "fig = go.Figure([go.Bar(x = Q11_data.answer, y = Q11_data.coefficient)])\n",
        "fig.show()"
      ],
      "execution_count": null,
      "outputs": [
        {
          "output_type": "display_data",
          "data": {
            "text/html": [
              "<html>\n",
              "<head><meta charset=\"utf-8\" /></head>\n",
              "<body>\n",
              "    <div>\n",
              "            <script src=\"https://cdnjs.cloudflare.com/ajax/libs/mathjax/2.7.5/MathJax.js?config=TeX-AMS-MML_SVG\"></script><script type=\"text/javascript\">if (window.MathJax) {MathJax.Hub.Config({SVG: {font: \"STIX-Web\"}});}</script>\n",
              "                <script type=\"text/javascript\">window.PlotlyConfig = {MathJaxConfig: 'local'};</script>\n",
              "        <script src=\"https://cdn.plot.ly/plotly-latest.min.js\"></script>    \n",
              "            <div id=\"426f4a38-377f-434d-86f8-2a79a4f9d3be\" class=\"plotly-graph-div\" style=\"height:525px; width:100%;\"></div>\n",
              "            <script type=\"text/javascript\">\n",
              "                \n",
              "                    window.PLOTLYENV=window.PLOTLYENV || {};\n",
              "                    \n",
              "                if (document.getElementById(\"426f4a38-377f-434d-86f8-2a79a4f9d3be\")) {\n",
              "                    Plotly.newPlot(\n",
              "                        '426f4a38-377f-434d-86f8-2a79a4f9d3be',\n",
              "                        [{\"type\": \"bar\", \"x\": [\"_Analyze and understand data to influence product or business decisions\", \"_Build and/or run a machine learning service that operationally improves my product or workflows\", \"_Build and/or run the data infrastructure that my business uses for storing, analyzing, and operationalizing data\", \"_Build prototypes to explore applying machine learning to new areas\", \"_Do research that advances the state of the art of machine learning\", \"_Other\"], \"y\": [-0.005354198055474954, 0.08043881285346552, 0.03823962816741613, 0.5712077401330161, -0.044391627409545706, 0.07757681053309787]}],\n",
              "                        {\"template\": {\"data\": {\"bar\": [{\"error_x\": {\"color\": \"#2a3f5f\"}, \"error_y\": {\"color\": \"#2a3f5f\"}, \"marker\": {\"line\": {\"color\": \"#E5ECF6\", \"width\": 0.5}}, \"type\": \"bar\"}], \"barpolar\": [{\"marker\": {\"line\": {\"color\": \"#E5ECF6\", \"width\": 0.5}}, \"type\": \"barpolar\"}], \"carpet\": [{\"aaxis\": {\"endlinecolor\": \"#2a3f5f\", \"gridcolor\": \"white\", \"linecolor\": \"white\", \"minorgridcolor\": \"white\", \"startlinecolor\": \"#2a3f5f\"}, \"baxis\": {\"endlinecolor\": \"#2a3f5f\", \"gridcolor\": \"white\", \"linecolor\": \"white\", \"minorgridcolor\": \"white\", \"startlinecolor\": \"#2a3f5f\"}, \"type\": \"carpet\"}], \"choropleth\": [{\"colorbar\": {\"outlinewidth\": 0, \"ticks\": \"\"}, \"type\": \"choropleth\"}], \"contour\": [{\"colorbar\": {\"outlinewidth\": 0, \"ticks\": \"\"}, \"colorscale\": [[0.0, \"#0d0887\"], [0.1111111111111111, \"#46039f\"], [0.2222222222222222, \"#7201a8\"], [0.3333333333333333, \"#9c179e\"], [0.4444444444444444, \"#bd3786\"], [0.5555555555555556, \"#d8576b\"], [0.6666666666666666, \"#ed7953\"], [0.7777777777777778, \"#fb9f3a\"], [0.8888888888888888, \"#fdca26\"], [1.0, \"#f0f921\"]], \"type\": \"contour\"}], \"contourcarpet\": [{\"colorbar\": {\"outlinewidth\": 0, \"ticks\": \"\"}, \"type\": \"contourcarpet\"}], \"heatmap\": [{\"colorbar\": {\"outlinewidth\": 0, \"ticks\": \"\"}, \"colorscale\": [[0.0, \"#0d0887\"], [0.1111111111111111, \"#46039f\"], [0.2222222222222222, \"#7201a8\"], [0.3333333333333333, \"#9c179e\"], [0.4444444444444444, \"#bd3786\"], [0.5555555555555556, \"#d8576b\"], [0.6666666666666666, \"#ed7953\"], [0.7777777777777778, \"#fb9f3a\"], [0.8888888888888888, \"#fdca26\"], [1.0, \"#f0f921\"]], \"type\": \"heatmap\"}], \"heatmapgl\": [{\"colorbar\": {\"outlinewidth\": 0, \"ticks\": \"\"}, \"colorscale\": [[0.0, \"#0d0887\"], [0.1111111111111111, \"#46039f\"], [0.2222222222222222, \"#7201a8\"], [0.3333333333333333, \"#9c179e\"], [0.4444444444444444, \"#bd3786\"], [0.5555555555555556, \"#d8576b\"], [0.6666666666666666, \"#ed7953\"], [0.7777777777777778, \"#fb9f3a\"], [0.8888888888888888, \"#fdca26\"], [1.0, \"#f0f921\"]], \"type\": \"heatmapgl\"}], \"histogram\": [{\"marker\": {\"colorbar\": {\"outlinewidth\": 0, \"ticks\": \"\"}}, \"type\": \"histogram\"}], \"histogram2d\": [{\"colorbar\": {\"outlinewidth\": 0, \"ticks\": \"\"}, \"colorscale\": [[0.0, \"#0d0887\"], [0.1111111111111111, \"#46039f\"], [0.2222222222222222, \"#7201a8\"], [0.3333333333333333, \"#9c179e\"], [0.4444444444444444, \"#bd3786\"], [0.5555555555555556, \"#d8576b\"], [0.6666666666666666, \"#ed7953\"], [0.7777777777777778, \"#fb9f3a\"], [0.8888888888888888, \"#fdca26\"], [1.0, \"#f0f921\"]], \"type\": \"histogram2d\"}], \"histogram2dcontour\": [{\"colorbar\": {\"outlinewidth\": 0, \"ticks\": \"\"}, \"colorscale\": [[0.0, \"#0d0887\"], [0.1111111111111111, \"#46039f\"], [0.2222222222222222, \"#7201a8\"], [0.3333333333333333, \"#9c179e\"], [0.4444444444444444, \"#bd3786\"], [0.5555555555555556, \"#d8576b\"], [0.6666666666666666, \"#ed7953\"], [0.7777777777777778, \"#fb9f3a\"], [0.8888888888888888, \"#fdca26\"], [1.0, \"#f0f921\"]], \"type\": \"histogram2dcontour\"}], \"mesh3d\": [{\"colorbar\": {\"outlinewidth\": 0, \"ticks\": \"\"}, \"type\": \"mesh3d\"}], \"parcoords\": [{\"line\": {\"colorbar\": {\"outlinewidth\": 0, \"ticks\": \"\"}}, \"type\": \"parcoords\"}], \"pie\": [{\"automargin\": true, \"type\": \"pie\"}], \"scatter\": [{\"marker\": {\"colorbar\": {\"outlinewidth\": 0, \"ticks\": \"\"}}, \"type\": \"scatter\"}], \"scatter3d\": [{\"line\": {\"colorbar\": {\"outlinewidth\": 0, \"ticks\": \"\"}}, \"marker\": {\"colorbar\": {\"outlinewidth\": 0, \"ticks\": \"\"}}, \"type\": \"scatter3d\"}], \"scattercarpet\": [{\"marker\": {\"colorbar\": {\"outlinewidth\": 0, \"ticks\": \"\"}}, \"type\": \"scattercarpet\"}], \"scattergeo\": [{\"marker\": {\"colorbar\": {\"outlinewidth\": 0, \"ticks\": \"\"}}, \"type\": \"scattergeo\"}], \"scattergl\": [{\"marker\": {\"colorbar\": {\"outlinewidth\": 0, \"ticks\": \"\"}}, \"type\": \"scattergl\"}], \"scattermapbox\": [{\"marker\": {\"colorbar\": {\"outlinewidth\": 0, \"ticks\": \"\"}}, \"type\": \"scattermapbox\"}], \"scatterpolar\": [{\"marker\": {\"colorbar\": {\"outlinewidth\": 0, \"ticks\": \"\"}}, \"type\": \"scatterpolar\"}], \"scatterpolargl\": [{\"marker\": {\"colorbar\": {\"outlinewidth\": 0, \"ticks\": \"\"}}, \"type\": \"scatterpolargl\"}], \"scatterternary\": [{\"marker\": {\"colorbar\": {\"outlinewidth\": 0, \"ticks\": \"\"}}, \"type\": \"scatterternary\"}], \"surface\": [{\"colorbar\": {\"outlinewidth\": 0, \"ticks\": \"\"}, \"colorscale\": [[0.0, \"#0d0887\"], [0.1111111111111111, \"#46039f\"], [0.2222222222222222, \"#7201a8\"], [0.3333333333333333, \"#9c179e\"], [0.4444444444444444, \"#bd3786\"], [0.5555555555555556, \"#d8576b\"], [0.6666666666666666, \"#ed7953\"], [0.7777777777777778, \"#fb9f3a\"], [0.8888888888888888, \"#fdca26\"], [1.0, \"#f0f921\"]], \"type\": \"surface\"}], \"table\": [{\"cells\": {\"fill\": {\"color\": \"#EBF0F8\"}, \"line\": {\"color\": \"white\"}}, \"header\": {\"fill\": {\"color\": \"#C8D4E3\"}, \"line\": {\"color\": \"white\"}}, \"type\": \"table\"}]}, \"layout\": {\"annotationdefaults\": {\"arrowcolor\": \"#2a3f5f\", \"arrowhead\": 0, \"arrowwidth\": 1}, \"coloraxis\": {\"colorbar\": {\"outlinewidth\": 0, \"ticks\": \"\"}}, \"colorscale\": {\"diverging\": [[0, \"#8e0152\"], [0.1, \"#c51b7d\"], [0.2, \"#de77ae\"], [0.3, \"#f1b6da\"], [0.4, \"#fde0ef\"], [0.5, \"#f7f7f7\"], [0.6, \"#e6f5d0\"], [0.7, \"#b8e186\"], [0.8, \"#7fbc41\"], [0.9, \"#4d9221\"], [1, \"#276419\"]], \"sequential\": [[0.0, \"#0d0887\"], [0.1111111111111111, \"#46039f\"], [0.2222222222222222, \"#7201a8\"], [0.3333333333333333, \"#9c179e\"], [0.4444444444444444, \"#bd3786\"], [0.5555555555555556, \"#d8576b\"], [0.6666666666666666, \"#ed7953\"], [0.7777777777777778, \"#fb9f3a\"], [0.8888888888888888, \"#fdca26\"], [1.0, \"#f0f921\"]], \"sequentialminus\": [[0.0, \"#0d0887\"], [0.1111111111111111, \"#46039f\"], [0.2222222222222222, \"#7201a8\"], [0.3333333333333333, \"#9c179e\"], [0.4444444444444444, \"#bd3786\"], [0.5555555555555556, \"#d8576b\"], [0.6666666666666666, \"#ed7953\"], [0.7777777777777778, \"#fb9f3a\"], [0.8888888888888888, \"#fdca26\"], [1.0, \"#f0f921\"]]}, \"colorway\": [\"#636efa\", \"#EF553B\", \"#00cc96\", \"#ab63fa\", \"#FFA15A\", \"#19d3f3\", \"#FF6692\", \"#B6E880\", \"#FF97FF\", \"#FECB52\"], \"font\": {\"color\": \"#2a3f5f\"}, \"geo\": {\"bgcolor\": \"white\", \"lakecolor\": \"white\", \"landcolor\": \"#E5ECF6\", \"showlakes\": true, \"showland\": true, \"subunitcolor\": \"white\"}, \"hoverlabel\": {\"align\": \"left\"}, \"hovermode\": \"closest\", \"mapbox\": {\"style\": \"light\"}, \"paper_bgcolor\": \"white\", \"plot_bgcolor\": \"#E5ECF6\", \"polar\": {\"angularaxis\": {\"gridcolor\": \"white\", \"linecolor\": \"white\", \"ticks\": \"\"}, \"bgcolor\": \"#E5ECF6\", \"radialaxis\": {\"gridcolor\": \"white\", \"linecolor\": \"white\", \"ticks\": \"\"}}, \"scene\": {\"xaxis\": {\"backgroundcolor\": \"#E5ECF6\", \"gridcolor\": \"white\", \"gridwidth\": 2, \"linecolor\": \"white\", \"showbackground\": true, \"ticks\": \"\", \"zerolinecolor\": \"white\"}, \"yaxis\": {\"backgroundcolor\": \"#E5ECF6\", \"gridcolor\": \"white\", \"gridwidth\": 2, \"linecolor\": \"white\", \"showbackground\": true, \"ticks\": \"\", \"zerolinecolor\": \"white\"}, \"zaxis\": {\"backgroundcolor\": \"#E5ECF6\", \"gridcolor\": \"white\", \"gridwidth\": 2, \"linecolor\": \"white\", \"showbackground\": true, \"ticks\": \"\", \"zerolinecolor\": \"white\"}}, \"shapedefaults\": {\"line\": {\"color\": \"#2a3f5f\"}}, \"ternary\": {\"aaxis\": {\"gridcolor\": \"white\", \"linecolor\": \"white\", \"ticks\": \"\"}, \"baxis\": {\"gridcolor\": \"white\", \"linecolor\": \"white\", \"ticks\": \"\"}, \"bgcolor\": \"#E5ECF6\", \"caxis\": {\"gridcolor\": \"white\", \"linecolor\": \"white\", \"ticks\": \"\"}}, \"title\": {\"x\": 0.05}, \"xaxis\": {\"automargin\": true, \"gridcolor\": \"white\", \"linecolor\": \"white\", \"ticks\": \"\", \"title\": {\"standoff\": 15}, \"zerolinecolor\": \"white\", \"zerolinewidth\": 2}, \"yaxis\": {\"automargin\": true, \"gridcolor\": \"white\", \"linecolor\": \"white\", \"ticks\": \"\", \"title\": {\"standoff\": 15}, \"zerolinecolor\": \"white\", \"zerolinewidth\": 2}}}},\n",
              "                        {\"responsive\": true}\n",
              "                    ).then(function(){\n",
              "                            \n",
              "var gd = document.getElementById('426f4a38-377f-434d-86f8-2a79a4f9d3be');\n",
              "var x = new MutationObserver(function (mutations, observer) {{\n",
              "        var display = window.getComputedStyle(gd).display;\n",
              "        if (!display || display === 'none') {{\n",
              "            console.log([gd, 'removed!']);\n",
              "            Plotly.purge(gd);\n",
              "            observer.disconnect();\n",
              "        }}\n",
              "}});\n",
              "\n",
              "// Listen for the removal of the full notebook cells\n",
              "var notebookContainer = gd.closest('#notebook-container');\n",
              "if (notebookContainer) {{\n",
              "    x.observe(notebookContainer, {childList: true});\n",
              "}}\n",
              "\n",
              "// Listen for the clearing of the current output cell\n",
              "var outputEl = gd.closest('.output');\n",
              "if (outputEl) {{\n",
              "    x.observe(outputEl, {childList: true});\n",
              "}}\n",
              "\n",
              "                        })\n",
              "                };\n",
              "                \n",
              "            </script>\n",
              "        </div>\n",
              "</body>\n",
              "</html>"
            ]
          },
          "metadata": {
            "tags": []
          }
        }
      ]
    },
    {
      "cell_type": "markdown",
      "metadata": {
        "id": "Yw8ppsfl6QCj",
        "colab_type": "text"
      },
      "source": [
        "* Building Prototype to explore ML to new areas 가 가장 높은 coef를 갖는 것으로 나타남. \n",
        "* 그 뒤로는 Build and/or run a service that operationally ~~\n"
      ]
    },
    {
      "cell_type": "markdown",
      "metadata": {
        "id": "AwkfDts0-X6h",
        "colab_type": "text"
      },
      "source": [
        " * 24 : 데이터 분석을 위해 코딩을 해 온 경력 : "
      ]
    },
    {
      "cell_type": "code",
      "metadata": {
        "id": "_yX0LzFP-hMA",
        "colab_type": "code",
        "colab": {
          "base_uri": "https://localhost:8080/",
          "height": 542
        },
        "outputId": "3f9b9a80-36ce-4959-abb6-a659eca6beac"
      },
      "source": [
        "Q24_data = features.iloc[117:127, :]\n",
        "title = \"Q24\"\n",
        "barplot = Q24_data[['answer', 'coefficient']].copy()\n",
        "barplot.columns = ['y', 'x']\n",
        "barplot = barplot.sort_values(by='x', ascending = True)\n",
        "barplot['model_highlight'] = barplot.x > 0\n",
        "barplot['color'] = barplot.model_highlight.apply(lambda x :'cornflowerblue' if x else 'a')\n",
        "\n",
        "fig = go.Figure([go.Bar(x = Q24_data.answer, y = Q24_data.coefficient)])\n",
        "fig.show()"
      ],
      "execution_count": null,
      "outputs": [
        {
          "output_type": "display_data",
          "data": {
            "text/html": [
              "<html>\n",
              "<head><meta charset=\"utf-8\" /></head>\n",
              "<body>\n",
              "    <div>\n",
              "            <script src=\"https://cdnjs.cloudflare.com/ajax/libs/mathjax/2.7.5/MathJax.js?config=TeX-AMS-MML_SVG\"></script><script type=\"text/javascript\">if (window.MathJax) {MathJax.Hub.Config({SVG: {font: \"STIX-Web\"}});}</script>\n",
              "                <script type=\"text/javascript\">window.PlotlyConfig = {MathJaxConfig: 'local'};</script>\n",
              "        <script src=\"https://cdn.plot.ly/plotly-latest.min.js\"></script>    \n",
              "            <div id=\"74e1f26d-68b0-4200-ad36-b7cddfe1d945\" class=\"plotly-graph-div\" style=\"height:525px; width:100%;\"></div>\n",
              "            <script type=\"text/javascript\">\n",
              "                \n",
              "                    window.PLOTLYENV=window.PLOTLYENV || {};\n",
              "                    \n",
              "                if (document.getElementById(\"74e1f26d-68b0-4200-ad36-b7cddfe1d945\")) {\n",
              "                    Plotly.newPlot(\n",
              "                        '74e1f26d-68b0-4200-ad36-b7cddfe1d945',\n",
              "                        [{\"type\": \"bar\", \"x\": [\"_< 1 year\", \"_1-2 years\", \"_3-5 years\", \"_5-10 years\", \"_10-20 years\", \"_1-2 years\", \"_2-3 years\", \"_3-4 years\", \"_5-10 years\", \"_< 1 year\"], \"y\": [-0.6731273485246854, -0.8543630201977227, -0.4024803827420525, 0.0, 0.05229440603425078, -0.015802117706979344, -0.09323018446428523, -0.18873736701427424, 0.0, -0.15895322352329183]}],\n",
              "                        {\"template\": {\"data\": {\"bar\": [{\"error_x\": {\"color\": \"#2a3f5f\"}, \"error_y\": {\"color\": \"#2a3f5f\"}, \"marker\": {\"line\": {\"color\": \"#E5ECF6\", \"width\": 0.5}}, \"type\": \"bar\"}], \"barpolar\": [{\"marker\": {\"line\": {\"color\": \"#E5ECF6\", \"width\": 0.5}}, \"type\": \"barpolar\"}], \"carpet\": [{\"aaxis\": {\"endlinecolor\": \"#2a3f5f\", \"gridcolor\": \"white\", \"linecolor\": \"white\", \"minorgridcolor\": \"white\", \"startlinecolor\": \"#2a3f5f\"}, \"baxis\": {\"endlinecolor\": \"#2a3f5f\", \"gridcolor\": \"white\", \"linecolor\": \"white\", \"minorgridcolor\": \"white\", \"startlinecolor\": \"#2a3f5f\"}, \"type\": \"carpet\"}], \"choropleth\": [{\"colorbar\": {\"outlinewidth\": 0, \"ticks\": \"\"}, \"type\": \"choropleth\"}], \"contour\": [{\"colorbar\": {\"outlinewidth\": 0, \"ticks\": \"\"}, \"colorscale\": [[0.0, \"#0d0887\"], [0.1111111111111111, \"#46039f\"], [0.2222222222222222, \"#7201a8\"], [0.3333333333333333, \"#9c179e\"], [0.4444444444444444, \"#bd3786\"], [0.5555555555555556, \"#d8576b\"], [0.6666666666666666, \"#ed7953\"], [0.7777777777777778, \"#fb9f3a\"], [0.8888888888888888, \"#fdca26\"], [1.0, \"#f0f921\"]], \"type\": \"contour\"}], \"contourcarpet\": [{\"colorbar\": {\"outlinewidth\": 0, \"ticks\": \"\"}, \"type\": \"contourcarpet\"}], \"heatmap\": [{\"colorbar\": {\"outlinewidth\": 0, \"ticks\": \"\"}, \"colorscale\": [[0.0, \"#0d0887\"], [0.1111111111111111, \"#46039f\"], [0.2222222222222222, \"#7201a8\"], [0.3333333333333333, \"#9c179e\"], [0.4444444444444444, \"#bd3786\"], [0.5555555555555556, \"#d8576b\"], [0.6666666666666666, \"#ed7953\"], [0.7777777777777778, \"#fb9f3a\"], [0.8888888888888888, \"#fdca26\"], [1.0, \"#f0f921\"]], \"type\": \"heatmap\"}], \"heatmapgl\": [{\"colorbar\": {\"outlinewidth\": 0, \"ticks\": \"\"}, \"colorscale\": [[0.0, \"#0d0887\"], [0.1111111111111111, \"#46039f\"], [0.2222222222222222, \"#7201a8\"], [0.3333333333333333, \"#9c179e\"], [0.4444444444444444, \"#bd3786\"], [0.5555555555555556, \"#d8576b\"], [0.6666666666666666, \"#ed7953\"], [0.7777777777777778, \"#fb9f3a\"], [0.8888888888888888, \"#fdca26\"], [1.0, \"#f0f921\"]], \"type\": \"heatmapgl\"}], \"histogram\": [{\"marker\": {\"colorbar\": {\"outlinewidth\": 0, \"ticks\": \"\"}}, \"type\": \"histogram\"}], \"histogram2d\": [{\"colorbar\": {\"outlinewidth\": 0, \"ticks\": \"\"}, \"colorscale\": [[0.0, \"#0d0887\"], [0.1111111111111111, \"#46039f\"], [0.2222222222222222, \"#7201a8\"], [0.3333333333333333, \"#9c179e\"], [0.4444444444444444, \"#bd3786\"], [0.5555555555555556, \"#d8576b\"], [0.6666666666666666, \"#ed7953\"], [0.7777777777777778, \"#fb9f3a\"], [0.8888888888888888, \"#fdca26\"], [1.0, \"#f0f921\"]], \"type\": \"histogram2d\"}], \"histogram2dcontour\": [{\"colorbar\": {\"outlinewidth\": 0, \"ticks\": \"\"}, \"colorscale\": [[0.0, \"#0d0887\"], [0.1111111111111111, \"#46039f\"], [0.2222222222222222, \"#7201a8\"], [0.3333333333333333, \"#9c179e\"], [0.4444444444444444, \"#bd3786\"], [0.5555555555555556, \"#d8576b\"], [0.6666666666666666, \"#ed7953\"], [0.7777777777777778, \"#fb9f3a\"], [0.8888888888888888, \"#fdca26\"], [1.0, \"#f0f921\"]], \"type\": \"histogram2dcontour\"}], \"mesh3d\": [{\"colorbar\": {\"outlinewidth\": 0, \"ticks\": \"\"}, \"type\": \"mesh3d\"}], \"parcoords\": [{\"line\": {\"colorbar\": {\"outlinewidth\": 0, \"ticks\": \"\"}}, \"type\": \"parcoords\"}], \"pie\": [{\"automargin\": true, \"type\": \"pie\"}], \"scatter\": [{\"marker\": {\"colorbar\": {\"outlinewidth\": 0, \"ticks\": \"\"}}, \"type\": \"scatter\"}], \"scatter3d\": [{\"line\": {\"colorbar\": {\"outlinewidth\": 0, \"ticks\": \"\"}}, \"marker\": {\"colorbar\": {\"outlinewidth\": 0, \"ticks\": \"\"}}, \"type\": \"scatter3d\"}], \"scattercarpet\": [{\"marker\": {\"colorbar\": {\"outlinewidth\": 0, \"ticks\": \"\"}}, \"type\": \"scattercarpet\"}], \"scattergeo\": [{\"marker\": {\"colorbar\": {\"outlinewidth\": 0, \"ticks\": \"\"}}, \"type\": \"scattergeo\"}], \"scattergl\": [{\"marker\": {\"colorbar\": {\"outlinewidth\": 0, \"ticks\": \"\"}}, \"type\": \"scattergl\"}], \"scattermapbox\": [{\"marker\": {\"colorbar\": {\"outlinewidth\": 0, \"ticks\": \"\"}}, \"type\": \"scattermapbox\"}], \"scatterpolar\": [{\"marker\": {\"colorbar\": {\"outlinewidth\": 0, \"ticks\": \"\"}}, \"type\": \"scatterpolar\"}], \"scatterpolargl\": [{\"marker\": {\"colorbar\": {\"outlinewidth\": 0, \"ticks\": \"\"}}, \"type\": \"scatterpolargl\"}], \"scatterternary\": [{\"marker\": {\"colorbar\": {\"outlinewidth\": 0, \"ticks\": \"\"}}, \"type\": \"scatterternary\"}], \"surface\": [{\"colorbar\": {\"outlinewidth\": 0, \"ticks\": \"\"}, \"colorscale\": [[0.0, \"#0d0887\"], [0.1111111111111111, \"#46039f\"], [0.2222222222222222, \"#7201a8\"], [0.3333333333333333, \"#9c179e\"], [0.4444444444444444, \"#bd3786\"], [0.5555555555555556, \"#d8576b\"], [0.6666666666666666, \"#ed7953\"], [0.7777777777777778, \"#fb9f3a\"], [0.8888888888888888, \"#fdca26\"], [1.0, \"#f0f921\"]], \"type\": \"surface\"}], \"table\": [{\"cells\": {\"fill\": {\"color\": \"#EBF0F8\"}, \"line\": {\"color\": \"white\"}}, \"header\": {\"fill\": {\"color\": \"#C8D4E3\"}, \"line\": {\"color\": \"white\"}}, \"type\": \"table\"}]}, \"layout\": {\"annotationdefaults\": {\"arrowcolor\": \"#2a3f5f\", \"arrowhead\": 0, \"arrowwidth\": 1}, \"coloraxis\": {\"colorbar\": {\"outlinewidth\": 0, \"ticks\": \"\"}}, \"colorscale\": {\"diverging\": [[0, \"#8e0152\"], [0.1, \"#c51b7d\"], [0.2, \"#de77ae\"], [0.3, \"#f1b6da\"], [0.4, \"#fde0ef\"], [0.5, \"#f7f7f7\"], [0.6, \"#e6f5d0\"], [0.7, \"#b8e186\"], [0.8, \"#7fbc41\"], [0.9, \"#4d9221\"], [1, \"#276419\"]], \"sequential\": [[0.0, \"#0d0887\"], [0.1111111111111111, \"#46039f\"], [0.2222222222222222, \"#7201a8\"], [0.3333333333333333, \"#9c179e\"], [0.4444444444444444, \"#bd3786\"], [0.5555555555555556, \"#d8576b\"], [0.6666666666666666, \"#ed7953\"], [0.7777777777777778, \"#fb9f3a\"], [0.8888888888888888, \"#fdca26\"], [1.0, \"#f0f921\"]], \"sequentialminus\": [[0.0, \"#0d0887\"], [0.1111111111111111, \"#46039f\"], [0.2222222222222222, \"#7201a8\"], [0.3333333333333333, \"#9c179e\"], [0.4444444444444444, \"#bd3786\"], [0.5555555555555556, \"#d8576b\"], [0.6666666666666666, \"#ed7953\"], [0.7777777777777778, \"#fb9f3a\"], [0.8888888888888888, \"#fdca26\"], [1.0, \"#f0f921\"]]}, \"colorway\": [\"#636efa\", \"#EF553B\", \"#00cc96\", \"#ab63fa\", \"#FFA15A\", \"#19d3f3\", \"#FF6692\", \"#B6E880\", \"#FF97FF\", \"#FECB52\"], \"font\": {\"color\": \"#2a3f5f\"}, \"geo\": {\"bgcolor\": \"white\", \"lakecolor\": \"white\", \"landcolor\": \"#E5ECF6\", \"showlakes\": true, \"showland\": true, \"subunitcolor\": \"white\"}, \"hoverlabel\": {\"align\": \"left\"}, \"hovermode\": \"closest\", \"mapbox\": {\"style\": \"light\"}, \"paper_bgcolor\": \"white\", \"plot_bgcolor\": \"#E5ECF6\", \"polar\": {\"angularaxis\": {\"gridcolor\": \"white\", \"linecolor\": \"white\", \"ticks\": \"\"}, \"bgcolor\": \"#E5ECF6\", \"radialaxis\": {\"gridcolor\": \"white\", \"linecolor\": \"white\", \"ticks\": \"\"}}, \"scene\": {\"xaxis\": {\"backgroundcolor\": \"#E5ECF6\", \"gridcolor\": \"white\", \"gridwidth\": 2, \"linecolor\": \"white\", \"showbackground\": true, \"ticks\": \"\", \"zerolinecolor\": \"white\"}, \"yaxis\": {\"backgroundcolor\": \"#E5ECF6\", \"gridcolor\": \"white\", \"gridwidth\": 2, \"linecolor\": \"white\", \"showbackground\": true, \"ticks\": \"\", \"zerolinecolor\": \"white\"}, \"zaxis\": {\"backgroundcolor\": \"#E5ECF6\", \"gridcolor\": \"white\", \"gridwidth\": 2, \"linecolor\": \"white\", \"showbackground\": true, \"ticks\": \"\", \"zerolinecolor\": \"white\"}}, \"shapedefaults\": {\"line\": {\"color\": \"#2a3f5f\"}}, \"ternary\": {\"aaxis\": {\"gridcolor\": \"white\", \"linecolor\": \"white\", \"ticks\": \"\"}, \"baxis\": {\"gridcolor\": \"white\", \"linecolor\": \"white\", \"ticks\": \"\"}, \"bgcolor\": \"#E5ECF6\", \"caxis\": {\"gridcolor\": \"white\", \"linecolor\": \"white\", \"ticks\": \"\"}}, \"title\": {\"x\": 0.05}, \"xaxis\": {\"automargin\": true, \"gridcolor\": \"white\", \"linecolor\": \"white\", \"ticks\": \"\", \"title\": {\"standoff\": 15}, \"zerolinecolor\": \"white\", \"zerolinewidth\": 2}, \"yaxis\": {\"automargin\": true, \"gridcolor\": \"white\", \"linecolor\": \"white\", \"ticks\": \"\", \"title\": {\"standoff\": 15}, \"zerolinecolor\": \"white\", \"zerolinewidth\": 2}}}},\n",
              "                        {\"responsive\": true}\n",
              "                    ).then(function(){\n",
              "                            \n",
              "var gd = document.getElementById('74e1f26d-68b0-4200-ad36-b7cddfe1d945');\n",
              "var x = new MutationObserver(function (mutations, observer) {{\n",
              "        var display = window.getComputedStyle(gd).display;\n",
              "        if (!display || display === 'none') {{\n",
              "            console.log([gd, 'removed!']);\n",
              "            Plotly.purge(gd);\n",
              "            observer.disconnect();\n",
              "        }}\n",
              "}});\n",
              "\n",
              "// Listen for the removal of the full notebook cells\n",
              "var notebookContainer = gd.closest('#notebook-container');\n",
              "if (notebookContainer) {{\n",
              "    x.observe(notebookContainer, {childList: true});\n",
              "}}\n",
              "\n",
              "// Listen for the clearing of the current output cell\n",
              "var outputEl = gd.closest('.output');\n",
              "if (outputEl) {{\n",
              "    x.observe(outputEl, {childList: true});\n",
              "}}\n",
              "\n",
              "                        })\n",
              "                };\n",
              "                \n",
              "            </script>\n",
              "        </div>\n",
              "</body>\n",
              "</html>"
            ]
          },
          "metadata": {
            "tags": []
          }
        }
      ]
    },
    {
      "cell_type": "markdown",
      "metadata": {
        "id": "LNvrUdlh-1A9",
        "colab_type": "text"
      },
      "source": [
        "* 코딩 경력 = 많을 수록 좋은 salary.\n",
        "* 보통 코딩 경력 낮을 수록 연봉 top 20% 안에 들어갈 확률에 -값을 더함. "
      ]
    },
    {
      "cell_type": "markdown",
      "metadata": {
        "id": "o2SMAgOV6nQI",
        "colab_type": "text"
      },
      "source": [
        "* Q34"
      ]
    },
    {
      "cell_type": "code",
      "metadata": {
        "id": "SX7_wxWR6mqo",
        "colab_type": "code",
        "colab": {
          "base_uri": "https://localhost:8080/",
          "height": 542
        },
        "outputId": "8ef91914-913d-4b54-f4c7-3859e8125967"
      },
      "source": [
        "Q35_data = features.iloc[232:237, :]\n",
        "\n",
        "title = \"Q35\"\n",
        "barplot = Q35_data[['answer', 'coefficient']].copy()\n",
        "barplot.columns = ['y', 'x']\n",
        "barplot = barplot.sort_values(by='x', ascending = True)\n",
        "barplot['model_highlight'] = barplot.x > 0\n",
        "barplot['color'] = barplot.model_highlight.apply(lambda x :'cornflowerblue' if x else 'a')\n",
        "\n",
        "fig = go.Figure([go.Bar(x = Q35_data.answer, y = Q35_data.coefficient)])\n",
        "fig.show()"
      ],
      "execution_count": null,
      "outputs": [
        {
          "output_type": "display_data",
          "data": {
            "text/html": [
              "<html>\n",
              "<head><meta charset=\"utf-8\" /></head>\n",
              "<body>\n",
              "    <div>\n",
              "            <script src=\"https://cdnjs.cloudflare.com/ajax/libs/mathjax/2.7.5/MathJax.js?config=TeX-AMS-MML_SVG\"></script><script type=\"text/javascript\">if (window.MathJax) {MathJax.Hub.Config({SVG: {font: \"STIX-Web\"}});}</script>\n",
              "                <script type=\"text/javascript\">window.PlotlyConfig = {MathJaxConfig: 'local'};</script>\n",
              "        <script src=\"https://cdn.plot.ly/plotly-latest.min.js\"></script>    \n",
              "            <div id=\"33299225-91ec-4c8b-8741-e76646e8a659\" class=\"plotly-graph-div\" style=\"height:525px; width:100%;\"></div>\n",
              "            <script type=\"text/javascript\">\n",
              "                \n",
              "                    window.PLOTLYENV=window.PLOTLYENV || {};\n",
              "                    \n",
              "                if (document.getElementById(\"33299225-91ec-4c8b-8741-e76646e8a659\")) {\n",
              "                    Plotly.newPlot(\n",
              "                        '33299225-91ec-4c8b-8741-e76646e8a659',\n",
              "                        [{\"type\": \"bar\", \"x\": [\"_Q35_Part_1\", \"_Q35_Part_2\", \"_Q35_Part_3\", \"_Q35_Part_4\", \"_Q35_Part_5\"], \"y\": [0.0, -0.269675098841344, -0.13000379671275994, 0.03893009229194467, 0.0]}],\n",
              "                        {\"template\": {\"data\": {\"bar\": [{\"error_x\": {\"color\": \"#2a3f5f\"}, \"error_y\": {\"color\": \"#2a3f5f\"}, \"marker\": {\"line\": {\"color\": \"#E5ECF6\", \"width\": 0.5}}, \"type\": \"bar\"}], \"barpolar\": [{\"marker\": {\"line\": {\"color\": \"#E5ECF6\", \"width\": 0.5}}, \"type\": \"barpolar\"}], \"carpet\": [{\"aaxis\": {\"endlinecolor\": \"#2a3f5f\", \"gridcolor\": \"white\", \"linecolor\": \"white\", \"minorgridcolor\": \"white\", \"startlinecolor\": \"#2a3f5f\"}, \"baxis\": {\"endlinecolor\": \"#2a3f5f\", \"gridcolor\": \"white\", \"linecolor\": \"white\", \"minorgridcolor\": \"white\", \"startlinecolor\": \"#2a3f5f\"}, \"type\": \"carpet\"}], \"choropleth\": [{\"colorbar\": {\"outlinewidth\": 0, \"ticks\": \"\"}, \"type\": \"choropleth\"}], \"contour\": [{\"colorbar\": {\"outlinewidth\": 0, \"ticks\": \"\"}, \"colorscale\": [[0.0, \"#0d0887\"], [0.1111111111111111, \"#46039f\"], [0.2222222222222222, \"#7201a8\"], [0.3333333333333333, \"#9c179e\"], [0.4444444444444444, \"#bd3786\"], [0.5555555555555556, \"#d8576b\"], [0.6666666666666666, \"#ed7953\"], [0.7777777777777778, \"#fb9f3a\"], [0.8888888888888888, \"#fdca26\"], [1.0, \"#f0f921\"]], \"type\": \"contour\"}], \"contourcarpet\": [{\"colorbar\": {\"outlinewidth\": 0, \"ticks\": \"\"}, \"type\": \"contourcarpet\"}], \"heatmap\": [{\"colorbar\": {\"outlinewidth\": 0, \"ticks\": \"\"}, \"colorscale\": [[0.0, \"#0d0887\"], [0.1111111111111111, \"#46039f\"], [0.2222222222222222, \"#7201a8\"], [0.3333333333333333, \"#9c179e\"], [0.4444444444444444, \"#bd3786\"], [0.5555555555555556, \"#d8576b\"], [0.6666666666666666, \"#ed7953\"], [0.7777777777777778, \"#fb9f3a\"], [0.8888888888888888, \"#fdca26\"], [1.0, \"#f0f921\"]], \"type\": \"heatmap\"}], \"heatmapgl\": [{\"colorbar\": {\"outlinewidth\": 0, \"ticks\": \"\"}, \"colorscale\": [[0.0, \"#0d0887\"], [0.1111111111111111, \"#46039f\"], [0.2222222222222222, \"#7201a8\"], [0.3333333333333333, \"#9c179e\"], [0.4444444444444444, \"#bd3786\"], [0.5555555555555556, \"#d8576b\"], [0.6666666666666666, \"#ed7953\"], [0.7777777777777778, \"#fb9f3a\"], [0.8888888888888888, \"#fdca26\"], [1.0, \"#f0f921\"]], \"type\": \"heatmapgl\"}], \"histogram\": [{\"marker\": {\"colorbar\": {\"outlinewidth\": 0, \"ticks\": \"\"}}, \"type\": \"histogram\"}], \"histogram2d\": [{\"colorbar\": {\"outlinewidth\": 0, \"ticks\": \"\"}, \"colorscale\": [[0.0, \"#0d0887\"], [0.1111111111111111, \"#46039f\"], [0.2222222222222222, \"#7201a8\"], [0.3333333333333333, \"#9c179e\"], [0.4444444444444444, \"#bd3786\"], [0.5555555555555556, \"#d8576b\"], [0.6666666666666666, \"#ed7953\"], [0.7777777777777778, \"#fb9f3a\"], [0.8888888888888888, \"#fdca26\"], [1.0, \"#f0f921\"]], \"type\": \"histogram2d\"}], \"histogram2dcontour\": [{\"colorbar\": {\"outlinewidth\": 0, \"ticks\": \"\"}, \"colorscale\": [[0.0, \"#0d0887\"], [0.1111111111111111, \"#46039f\"], [0.2222222222222222, \"#7201a8\"], [0.3333333333333333, \"#9c179e\"], [0.4444444444444444, \"#bd3786\"], [0.5555555555555556, \"#d8576b\"], [0.6666666666666666, \"#ed7953\"], [0.7777777777777778, \"#fb9f3a\"], [0.8888888888888888, \"#fdca26\"], [1.0, \"#f0f921\"]], \"type\": \"histogram2dcontour\"}], \"mesh3d\": [{\"colorbar\": {\"outlinewidth\": 0, \"ticks\": \"\"}, \"type\": \"mesh3d\"}], \"parcoords\": [{\"line\": {\"colorbar\": {\"outlinewidth\": 0, \"ticks\": \"\"}}, \"type\": \"parcoords\"}], \"pie\": [{\"automargin\": true, \"type\": \"pie\"}], \"scatter\": [{\"marker\": {\"colorbar\": {\"outlinewidth\": 0, \"ticks\": \"\"}}, \"type\": \"scatter\"}], \"scatter3d\": [{\"line\": {\"colorbar\": {\"outlinewidth\": 0, \"ticks\": \"\"}}, \"marker\": {\"colorbar\": {\"outlinewidth\": 0, \"ticks\": \"\"}}, \"type\": \"scatter3d\"}], \"scattercarpet\": [{\"marker\": {\"colorbar\": {\"outlinewidth\": 0, \"ticks\": \"\"}}, \"type\": \"scattercarpet\"}], \"scattergeo\": [{\"marker\": {\"colorbar\": {\"outlinewidth\": 0, \"ticks\": \"\"}}, \"type\": \"scattergeo\"}], \"scattergl\": [{\"marker\": {\"colorbar\": {\"outlinewidth\": 0, \"ticks\": \"\"}}, \"type\": \"scattergl\"}], \"scattermapbox\": [{\"marker\": {\"colorbar\": {\"outlinewidth\": 0, \"ticks\": \"\"}}, \"type\": \"scattermapbox\"}], \"scatterpolar\": [{\"marker\": {\"colorbar\": {\"outlinewidth\": 0, \"ticks\": \"\"}}, \"type\": \"scatterpolar\"}], \"scatterpolargl\": [{\"marker\": {\"colorbar\": {\"outlinewidth\": 0, \"ticks\": \"\"}}, \"type\": \"scatterpolargl\"}], \"scatterternary\": [{\"marker\": {\"colorbar\": {\"outlinewidth\": 0, \"ticks\": \"\"}}, \"type\": \"scatterternary\"}], \"surface\": [{\"colorbar\": {\"outlinewidth\": 0, \"ticks\": \"\"}, \"colorscale\": [[0.0, \"#0d0887\"], [0.1111111111111111, \"#46039f\"], [0.2222222222222222, \"#7201a8\"], [0.3333333333333333, \"#9c179e\"], [0.4444444444444444, \"#bd3786\"], [0.5555555555555556, \"#d8576b\"], [0.6666666666666666, \"#ed7953\"], [0.7777777777777778, \"#fb9f3a\"], [0.8888888888888888, \"#fdca26\"], [1.0, \"#f0f921\"]], \"type\": \"surface\"}], \"table\": [{\"cells\": {\"fill\": {\"color\": \"#EBF0F8\"}, \"line\": {\"color\": \"white\"}}, \"header\": {\"fill\": {\"color\": \"#C8D4E3\"}, \"line\": {\"color\": \"white\"}}, \"type\": \"table\"}]}, \"layout\": {\"annotationdefaults\": {\"arrowcolor\": \"#2a3f5f\", \"arrowhead\": 0, \"arrowwidth\": 1}, \"coloraxis\": {\"colorbar\": {\"outlinewidth\": 0, \"ticks\": \"\"}}, \"colorscale\": {\"diverging\": [[0, \"#8e0152\"], [0.1, \"#c51b7d\"], [0.2, \"#de77ae\"], [0.3, \"#f1b6da\"], [0.4, \"#fde0ef\"], [0.5, \"#f7f7f7\"], [0.6, \"#e6f5d0\"], [0.7, \"#b8e186\"], [0.8, \"#7fbc41\"], [0.9, \"#4d9221\"], [1, \"#276419\"]], \"sequential\": [[0.0, \"#0d0887\"], [0.1111111111111111, \"#46039f\"], [0.2222222222222222, \"#7201a8\"], [0.3333333333333333, \"#9c179e\"], [0.4444444444444444, \"#bd3786\"], [0.5555555555555556, \"#d8576b\"], [0.6666666666666666, \"#ed7953\"], [0.7777777777777778, \"#fb9f3a\"], [0.8888888888888888, \"#fdca26\"], [1.0, \"#f0f921\"]], \"sequentialminus\": [[0.0, \"#0d0887\"], [0.1111111111111111, \"#46039f\"], [0.2222222222222222, \"#7201a8\"], [0.3333333333333333, \"#9c179e\"], [0.4444444444444444, \"#bd3786\"], [0.5555555555555556, \"#d8576b\"], [0.6666666666666666, \"#ed7953\"], [0.7777777777777778, \"#fb9f3a\"], [0.8888888888888888, \"#fdca26\"], [1.0, \"#f0f921\"]]}, \"colorway\": [\"#636efa\", \"#EF553B\", \"#00cc96\", \"#ab63fa\", \"#FFA15A\", \"#19d3f3\", \"#FF6692\", \"#B6E880\", \"#FF97FF\", \"#FECB52\"], \"font\": {\"color\": \"#2a3f5f\"}, \"geo\": {\"bgcolor\": \"white\", \"lakecolor\": \"white\", \"landcolor\": \"#E5ECF6\", \"showlakes\": true, \"showland\": true, \"subunitcolor\": \"white\"}, \"hoverlabel\": {\"align\": \"left\"}, \"hovermode\": \"closest\", \"mapbox\": {\"style\": \"light\"}, \"paper_bgcolor\": \"white\", \"plot_bgcolor\": \"#E5ECF6\", \"polar\": {\"angularaxis\": {\"gridcolor\": \"white\", \"linecolor\": \"white\", \"ticks\": \"\"}, \"bgcolor\": \"#E5ECF6\", \"radialaxis\": {\"gridcolor\": \"white\", \"linecolor\": \"white\", \"ticks\": \"\"}}, \"scene\": {\"xaxis\": {\"backgroundcolor\": \"#E5ECF6\", \"gridcolor\": \"white\", \"gridwidth\": 2, \"linecolor\": \"white\", \"showbackground\": true, \"ticks\": \"\", \"zerolinecolor\": \"white\"}, \"yaxis\": {\"backgroundcolor\": \"#E5ECF6\", \"gridcolor\": \"white\", \"gridwidth\": 2, \"linecolor\": \"white\", \"showbackground\": true, \"ticks\": \"\", \"zerolinecolor\": \"white\"}, \"zaxis\": {\"backgroundcolor\": \"#E5ECF6\", \"gridcolor\": \"white\", \"gridwidth\": 2, \"linecolor\": \"white\", \"showbackground\": true, \"ticks\": \"\", \"zerolinecolor\": \"white\"}}, \"shapedefaults\": {\"line\": {\"color\": \"#2a3f5f\"}}, \"ternary\": {\"aaxis\": {\"gridcolor\": \"white\", \"linecolor\": \"white\", \"ticks\": \"\"}, \"baxis\": {\"gridcolor\": \"white\", \"linecolor\": \"white\", \"ticks\": \"\"}, \"bgcolor\": \"#E5ECF6\", \"caxis\": {\"gridcolor\": \"white\", \"linecolor\": \"white\", \"ticks\": \"\"}}, \"title\": {\"x\": 0.05}, \"xaxis\": {\"automargin\": true, \"gridcolor\": \"white\", \"linecolor\": \"white\", \"ticks\": \"\", \"title\": {\"standoff\": 15}, \"zerolinecolor\": \"white\", \"zerolinewidth\": 2}, \"yaxis\": {\"automargin\": true, \"gridcolor\": \"white\", \"linecolor\": \"white\", \"ticks\": \"\", \"title\": {\"standoff\": 15}, \"zerolinecolor\": \"white\", \"zerolinewidth\": 2}}}},\n",
              "                        {\"responsive\": true}\n",
              "                    ).then(function(){\n",
              "                            \n",
              "var gd = document.getElementById('33299225-91ec-4c8b-8741-e76646e8a659');\n",
              "var x = new MutationObserver(function (mutations, observer) {{\n",
              "        var display = window.getComputedStyle(gd).display;\n",
              "        if (!display || display === 'none') {{\n",
              "            console.log([gd, 'removed!']);\n",
              "            Plotly.purge(gd);\n",
              "            observer.disconnect();\n",
              "        }}\n",
              "}});\n",
              "\n",
              "// Listen for the removal of the full notebook cells\n",
              "var notebookContainer = gd.closest('#notebook-container');\n",
              "if (notebookContainer) {{\n",
              "    x.observe(notebookContainer, {childList: true});\n",
              "}}\n",
              "\n",
              "// Listen for the clearing of the current output cell\n",
              "var outputEl = gd.closest('.output');\n",
              "if (outputEl) {{\n",
              "    x.observe(outputEl, {childList: true});\n",
              "}}\n",
              "\n",
              "                        })\n",
              "                };\n",
              "                \n",
              "            </script>\n",
              "        </div>\n",
              "</body>\n",
              "</html>"
            ]
          },
          "metadata": {
            "tags": []
          }
        }
      ]
    },
    {
      "cell_type": "markdown",
      "metadata": {
        "id": "zMvHTLfg7UJR",
        "colab_type": "text"
      },
      "source": [
        "* Q35 part 4가 positive corr 보유. = university "
      ]
    },
    {
      "cell_type": "markdown",
      "metadata": {
        "id": "lRlKm90K7aId",
        "colab_type": "text"
      },
      "source": [
        "* Q36 : on which online platforms have you begun or complete data science cources?"
      ]
    },
    {
      "cell_type": "code",
      "metadata": {
        "id": "53-pVEII7iRL",
        "colab_type": "code",
        "colab": {
          "base_uri": "https://localhost:8080/",
          "height": 542
        },
        "outputId": "41eb1874-fae6-4ceb-9fed-d18cd4ec4283"
      },
      "source": [
        "Q36_data = features.iloc[164:175:, :]\n",
        "\n",
        "title = \"Q36\"\n",
        "barplot = Q36_data[['answer', 'coefficient']].copy()\n",
        "barplot.columns = ['y', 'x']\n",
        "barplot = barplot.sort_values(by='x', ascending = True)\n",
        "barplot['model_highlight'] = barplot.x > 0\n",
        "barplot['color'] = barplot.model_highlight.apply(lambda x :'cornflowerblue' if x else 'a')\n",
        "\n",
        "fig = go.Figure([go.Bar(x = Q36_data.answer, y = Q36_data.coefficient)])\n",
        "fig.show()"
      ],
      "execution_count": null,
      "outputs": [
        {
          "output_type": "display_data",
          "data": {
            "text/html": [
              "<html>\n",
              "<head><meta charset=\"utf-8\" /></head>\n",
              "<body>\n",
              "    <div>\n",
              "            <script src=\"https://cdnjs.cloudflare.com/ajax/libs/mathjax/2.7.5/MathJax.js?config=TeX-AMS-MML_SVG\"></script><script type=\"text/javascript\">if (window.MathJax) {MathJax.Hub.Config({SVG: {font: \"STIX-Web\"}});}</script>\n",
              "                <script type=\"text/javascript\">window.PlotlyConfig = {MathJaxConfig: 'local'};</script>\n",
              "        <script src=\"https://cdn.plot.ly/plotly-latest.min.js\"></script>    \n",
              "            <div id=\"0f461982-4598-4a1c-9daa-3ac1ab425e92\" class=\"plotly-graph-div\" style=\"height:525px; width:100%;\"></div>\n",
              "            <script type=\"text/javascript\">\n",
              "                \n",
              "                    window.PLOTLYENV=window.PLOTLYENV || {};\n",
              "                    \n",
              "                if (document.getElementById(\"0f461982-4598-4a1c-9daa-3ac1ab425e92\")) {\n",
              "                    Plotly.newPlot(\n",
              "                        '0f461982-4598-4a1c-9daa-3ac1ab425e92',\n",
              "                        [{\"type\": \"bar\", \"x\": [\"_Udacity\", \"_Coursera\", \"_edX\", \"_DataCamp\", \"_Kaggle Learn\", \"_Fast.AI\", \"_developers.google.com\", \"_Udemy\", \"_Online University Courses\", \"_None\", \"_Other\"], \"y\": [0.1526241554589536, 0.012021708730119247, 0.0, -0.07116344931065399, -0.006297456594511638, -0.14752899803861416, 0.0, -0.2682045531085123, 0.04387500824102781, 0.0, 0.0]}],\n",
              "                        {\"template\": {\"data\": {\"bar\": [{\"error_x\": {\"color\": \"#2a3f5f\"}, \"error_y\": {\"color\": \"#2a3f5f\"}, \"marker\": {\"line\": {\"color\": \"#E5ECF6\", \"width\": 0.5}}, \"type\": \"bar\"}], \"barpolar\": [{\"marker\": {\"line\": {\"color\": \"#E5ECF6\", \"width\": 0.5}}, \"type\": \"barpolar\"}], \"carpet\": [{\"aaxis\": {\"endlinecolor\": \"#2a3f5f\", \"gridcolor\": \"white\", \"linecolor\": \"white\", \"minorgridcolor\": \"white\", \"startlinecolor\": \"#2a3f5f\"}, \"baxis\": {\"endlinecolor\": \"#2a3f5f\", \"gridcolor\": \"white\", \"linecolor\": \"white\", \"minorgridcolor\": \"white\", \"startlinecolor\": \"#2a3f5f\"}, \"type\": \"carpet\"}], \"choropleth\": [{\"colorbar\": {\"outlinewidth\": 0, \"ticks\": \"\"}, \"type\": \"choropleth\"}], \"contour\": [{\"colorbar\": {\"outlinewidth\": 0, \"ticks\": \"\"}, \"colorscale\": [[0.0, \"#0d0887\"], [0.1111111111111111, \"#46039f\"], [0.2222222222222222, \"#7201a8\"], [0.3333333333333333, \"#9c179e\"], [0.4444444444444444, \"#bd3786\"], [0.5555555555555556, \"#d8576b\"], [0.6666666666666666, \"#ed7953\"], [0.7777777777777778, \"#fb9f3a\"], [0.8888888888888888, \"#fdca26\"], [1.0, \"#f0f921\"]], \"type\": \"contour\"}], \"contourcarpet\": [{\"colorbar\": {\"outlinewidth\": 0, \"ticks\": \"\"}, \"type\": \"contourcarpet\"}], \"heatmap\": [{\"colorbar\": {\"outlinewidth\": 0, \"ticks\": \"\"}, \"colorscale\": [[0.0, \"#0d0887\"], [0.1111111111111111, \"#46039f\"], [0.2222222222222222, \"#7201a8\"], [0.3333333333333333, \"#9c179e\"], [0.4444444444444444, \"#bd3786\"], [0.5555555555555556, \"#d8576b\"], [0.6666666666666666, \"#ed7953\"], [0.7777777777777778, \"#fb9f3a\"], [0.8888888888888888, \"#fdca26\"], [1.0, \"#f0f921\"]], \"type\": \"heatmap\"}], \"heatmapgl\": [{\"colorbar\": {\"outlinewidth\": 0, \"ticks\": \"\"}, \"colorscale\": [[0.0, \"#0d0887\"], [0.1111111111111111, \"#46039f\"], [0.2222222222222222, \"#7201a8\"], [0.3333333333333333, \"#9c179e\"], [0.4444444444444444, \"#bd3786\"], [0.5555555555555556, \"#d8576b\"], [0.6666666666666666, \"#ed7953\"], [0.7777777777777778, \"#fb9f3a\"], [0.8888888888888888, \"#fdca26\"], [1.0, \"#f0f921\"]], \"type\": \"heatmapgl\"}], \"histogram\": [{\"marker\": {\"colorbar\": {\"outlinewidth\": 0, \"ticks\": \"\"}}, \"type\": \"histogram\"}], \"histogram2d\": [{\"colorbar\": {\"outlinewidth\": 0, \"ticks\": \"\"}, \"colorscale\": [[0.0, \"#0d0887\"], [0.1111111111111111, \"#46039f\"], [0.2222222222222222, \"#7201a8\"], [0.3333333333333333, \"#9c179e\"], [0.4444444444444444, \"#bd3786\"], [0.5555555555555556, \"#d8576b\"], [0.6666666666666666, \"#ed7953\"], [0.7777777777777778, \"#fb9f3a\"], [0.8888888888888888, \"#fdca26\"], [1.0, \"#f0f921\"]], \"type\": \"histogram2d\"}], \"histogram2dcontour\": [{\"colorbar\": {\"outlinewidth\": 0, \"ticks\": \"\"}, \"colorscale\": [[0.0, \"#0d0887\"], [0.1111111111111111, \"#46039f\"], [0.2222222222222222, \"#7201a8\"], [0.3333333333333333, \"#9c179e\"], [0.4444444444444444, \"#bd3786\"], [0.5555555555555556, \"#d8576b\"], [0.6666666666666666, \"#ed7953\"], [0.7777777777777778, \"#fb9f3a\"], [0.8888888888888888, \"#fdca26\"], [1.0, \"#f0f921\"]], \"type\": \"histogram2dcontour\"}], \"mesh3d\": [{\"colorbar\": {\"outlinewidth\": 0, \"ticks\": \"\"}, \"type\": \"mesh3d\"}], \"parcoords\": [{\"line\": {\"colorbar\": {\"outlinewidth\": 0, \"ticks\": \"\"}}, \"type\": \"parcoords\"}], \"pie\": [{\"automargin\": true, \"type\": \"pie\"}], \"scatter\": [{\"marker\": {\"colorbar\": {\"outlinewidth\": 0, \"ticks\": \"\"}}, \"type\": \"scatter\"}], \"scatter3d\": [{\"line\": {\"colorbar\": {\"outlinewidth\": 0, \"ticks\": \"\"}}, \"marker\": {\"colorbar\": {\"outlinewidth\": 0, \"ticks\": \"\"}}, \"type\": \"scatter3d\"}], \"scattercarpet\": [{\"marker\": {\"colorbar\": {\"outlinewidth\": 0, \"ticks\": \"\"}}, \"type\": \"scattercarpet\"}], \"scattergeo\": [{\"marker\": {\"colorbar\": {\"outlinewidth\": 0, \"ticks\": \"\"}}, \"type\": \"scattergeo\"}], \"scattergl\": [{\"marker\": {\"colorbar\": {\"outlinewidth\": 0, \"ticks\": \"\"}}, \"type\": \"scattergl\"}], \"scattermapbox\": [{\"marker\": {\"colorbar\": {\"outlinewidth\": 0, \"ticks\": \"\"}}, \"type\": \"scattermapbox\"}], \"scatterpolar\": [{\"marker\": {\"colorbar\": {\"outlinewidth\": 0, \"ticks\": \"\"}}, \"type\": \"scatterpolar\"}], \"scatterpolargl\": [{\"marker\": {\"colorbar\": {\"outlinewidth\": 0, \"ticks\": \"\"}}, \"type\": \"scatterpolargl\"}], \"scatterternary\": [{\"marker\": {\"colorbar\": {\"outlinewidth\": 0, \"ticks\": \"\"}}, \"type\": \"scatterternary\"}], \"surface\": [{\"colorbar\": {\"outlinewidth\": 0, \"ticks\": \"\"}, \"colorscale\": [[0.0, \"#0d0887\"], [0.1111111111111111, \"#46039f\"], [0.2222222222222222, \"#7201a8\"], [0.3333333333333333, \"#9c179e\"], [0.4444444444444444, \"#bd3786\"], [0.5555555555555556, \"#d8576b\"], [0.6666666666666666, \"#ed7953\"], [0.7777777777777778, \"#fb9f3a\"], [0.8888888888888888, \"#fdca26\"], [1.0, \"#f0f921\"]], \"type\": \"surface\"}], \"table\": [{\"cells\": {\"fill\": {\"color\": \"#EBF0F8\"}, \"line\": {\"color\": \"white\"}}, \"header\": {\"fill\": {\"color\": \"#C8D4E3\"}, \"line\": {\"color\": \"white\"}}, \"type\": \"table\"}]}, \"layout\": {\"annotationdefaults\": {\"arrowcolor\": \"#2a3f5f\", \"arrowhead\": 0, \"arrowwidth\": 1}, \"coloraxis\": {\"colorbar\": {\"outlinewidth\": 0, \"ticks\": \"\"}}, \"colorscale\": {\"diverging\": [[0, \"#8e0152\"], [0.1, \"#c51b7d\"], [0.2, \"#de77ae\"], [0.3, \"#f1b6da\"], [0.4, \"#fde0ef\"], [0.5, \"#f7f7f7\"], [0.6, \"#e6f5d0\"], [0.7, \"#b8e186\"], [0.8, \"#7fbc41\"], [0.9, \"#4d9221\"], [1, \"#276419\"]], \"sequential\": [[0.0, \"#0d0887\"], [0.1111111111111111, \"#46039f\"], [0.2222222222222222, \"#7201a8\"], [0.3333333333333333, \"#9c179e\"], [0.4444444444444444, \"#bd3786\"], [0.5555555555555556, \"#d8576b\"], [0.6666666666666666, \"#ed7953\"], [0.7777777777777778, \"#fb9f3a\"], [0.8888888888888888, \"#fdca26\"], [1.0, \"#f0f921\"]], \"sequentialminus\": [[0.0, \"#0d0887\"], [0.1111111111111111, \"#46039f\"], [0.2222222222222222, \"#7201a8\"], [0.3333333333333333, \"#9c179e\"], [0.4444444444444444, \"#bd3786\"], [0.5555555555555556, \"#d8576b\"], [0.6666666666666666, \"#ed7953\"], [0.7777777777777778, \"#fb9f3a\"], [0.8888888888888888, \"#fdca26\"], [1.0, \"#f0f921\"]]}, \"colorway\": [\"#636efa\", \"#EF553B\", \"#00cc96\", \"#ab63fa\", \"#FFA15A\", \"#19d3f3\", \"#FF6692\", \"#B6E880\", \"#FF97FF\", \"#FECB52\"], \"font\": {\"color\": \"#2a3f5f\"}, \"geo\": {\"bgcolor\": \"white\", \"lakecolor\": \"white\", \"landcolor\": \"#E5ECF6\", \"showlakes\": true, \"showland\": true, \"subunitcolor\": \"white\"}, \"hoverlabel\": {\"align\": \"left\"}, \"hovermode\": \"closest\", \"mapbox\": {\"style\": \"light\"}, \"paper_bgcolor\": \"white\", \"plot_bgcolor\": \"#E5ECF6\", \"polar\": {\"angularaxis\": {\"gridcolor\": \"white\", \"linecolor\": \"white\", \"ticks\": \"\"}, \"bgcolor\": \"#E5ECF6\", \"radialaxis\": {\"gridcolor\": \"white\", \"linecolor\": \"white\", \"ticks\": \"\"}}, \"scene\": {\"xaxis\": {\"backgroundcolor\": \"#E5ECF6\", \"gridcolor\": \"white\", \"gridwidth\": 2, \"linecolor\": \"white\", \"showbackground\": true, \"ticks\": \"\", \"zerolinecolor\": \"white\"}, \"yaxis\": {\"backgroundcolor\": \"#E5ECF6\", \"gridcolor\": \"white\", \"gridwidth\": 2, \"linecolor\": \"white\", \"showbackground\": true, \"ticks\": \"\", \"zerolinecolor\": \"white\"}, \"zaxis\": {\"backgroundcolor\": \"#E5ECF6\", \"gridcolor\": \"white\", \"gridwidth\": 2, \"linecolor\": \"white\", \"showbackground\": true, \"ticks\": \"\", \"zerolinecolor\": \"white\"}}, \"shapedefaults\": {\"line\": {\"color\": \"#2a3f5f\"}}, \"ternary\": {\"aaxis\": {\"gridcolor\": \"white\", \"linecolor\": \"white\", \"ticks\": \"\"}, \"baxis\": {\"gridcolor\": \"white\", \"linecolor\": \"white\", \"ticks\": \"\"}, \"bgcolor\": \"#E5ECF6\", \"caxis\": {\"gridcolor\": \"white\", \"linecolor\": \"white\", \"ticks\": \"\"}}, \"title\": {\"x\": 0.05}, \"xaxis\": {\"automargin\": true, \"gridcolor\": \"white\", \"linecolor\": \"white\", \"ticks\": \"\", \"title\": {\"standoff\": 15}, \"zerolinecolor\": \"white\", \"zerolinewidth\": 2}, \"yaxis\": {\"automargin\": true, \"gridcolor\": \"white\", \"linecolor\": \"white\", \"ticks\": \"\", \"title\": {\"standoff\": 15}, \"zerolinecolor\": \"white\", \"zerolinewidth\": 2}}}},\n",
              "                        {\"responsive\": true}\n",
              "                    ).then(function(){\n",
              "                            \n",
              "var gd = document.getElementById('0f461982-4598-4a1c-9daa-3ac1ab425e92');\n",
              "var x = new MutationObserver(function (mutations, observer) {{\n",
              "        var display = window.getComputedStyle(gd).display;\n",
              "        if (!display || display === 'none') {{\n",
              "            console.log([gd, 'removed!']);\n",
              "            Plotly.purge(gd);\n",
              "            observer.disconnect();\n",
              "        }}\n",
              "}});\n",
              "\n",
              "// Listen for the removal of the full notebook cells\n",
              "var notebookContainer = gd.closest('#notebook-container');\n",
              "if (notebookContainer) {{\n",
              "    x.observe(notebookContainer, {childList: true});\n",
              "}}\n",
              "\n",
              "// Listen for the clearing of the current output cell\n",
              "var outputEl = gd.closest('.output');\n",
              "if (outputEl) {{\n",
              "    x.observe(outputEl, {childList: true});\n",
              "}}\n",
              "\n",
              "                        })\n",
              "                };\n",
              "                \n",
              "            </script>\n",
              "        </div>\n",
              "</body>\n",
              "</html>"
            ]
          },
          "metadata": {
            "tags": []
          }
        }
      ]
    },
    {
      "cell_type": "markdown",
      "metadata": {
        "id": "VD-yI9Kk7zxi",
        "colab_type": "text"
      },
      "source": [
        "* Udacity - positive corr to top 20% salary kaggers. \n",
        "* Udemy, Datacamp - negative coef to top 20% salary kagglers => I guess, 초보자들이 많이 듣는 강의사이트? "
      ]
    },
    {
      "cell_type": "markdown",
      "metadata": {
        "id": "TvbAGOyl8IE_",
        "colab_type": "text"
      },
      "source": [
        "* Q31 - Which types of data do you currently interact with most often at work or school?"
      ]
    },
    {
      "cell_type": "code",
      "metadata": {
        "id": "FNn9FnxP8PvR",
        "colab_type": "code",
        "colab": {
          "base_uri": "https://localhost:8080/",
          "height": 542
        },
        "outputId": "f82f19aa-349d-49eb-d495-787d9d89d498"
      },
      "source": [
        "Q31_data = features.iloc[154:164:, :]\n",
        "title = \"Q31\"\n",
        "barplot = Q31_data[['answer', 'coefficient']].copy()\n",
        "barplot.columns = ['y', 'x']\n",
        "barplot = barplot.sort_values(by='x', ascending = True)\n",
        "barplot['model_highlight'] = barplot.x > 0\n",
        "barplot['color'] = barplot.model_highlight.apply(lambda x :'cornflowerblue' if x else 'a')\n",
        "\n",
        "fig = go.Figure([go.Bar(x = Q31_data.answer, y = Q31_data.coefficient)])\n",
        "fig.show()"
      ],
      "execution_count": null,
      "outputs": [
        {
          "output_type": "display_data",
          "data": {
            "text/html": [
              "<html>\n",
              "<head><meta charset=\"utf-8\" /></head>\n",
              "<body>\n",
              "    <div>\n",
              "            <script src=\"https://cdnjs.cloudflare.com/ajax/libs/mathjax/2.7.5/MathJax.js?config=TeX-AMS-MML_SVG\"></script><script type=\"text/javascript\">if (window.MathJax) {MathJax.Hub.Config({SVG: {font: \"STIX-Web\"}});}</script>\n",
              "                <script type=\"text/javascript\">window.PlotlyConfig = {MathJaxConfig: 'local'};</script>\n",
              "        <script src=\"https://cdn.plot.ly/plotly-latest.min.js\"></script>    \n",
              "            <div id=\"091fddf1-44a4-49bd-9dbe-c5f994b60622\" class=\"plotly-graph-div\" style=\"height:525px; width:100%;\"></div>\n",
              "            <script type=\"text/javascript\">\n",
              "                \n",
              "                    window.PLOTLYENV=window.PLOTLYENV || {};\n",
              "                    \n",
              "                if (document.getElementById(\"091fddf1-44a4-49bd-9dbe-c5f994b60622\")) {\n",
              "                    Plotly.newPlot(\n",
              "                        '091fddf1-44a4-49bd-9dbe-c5f994b60622',\n",
              "                        [{\"type\": \"bar\", \"x\": [\"_Categorical Data\", \"_Genetic Data\", \"_Geospatial Data\", \"_Image Data\", \"_Numerical Data\", \"_Sensor Data\", \"_Tabular Data\", \"_Text Data\", \"_Time Series Data\", \"_Video Data\"], \"y\": [-0.06438077130641068, 0.03479160800971447, 0.04597059068437861, 0.04262969287562685, -0.014450624631136113, -0.004250527085803521, 0.0, -0.060440092960264084, 0.0032304206734881046, 0.0]}],\n",
              "                        {\"template\": {\"data\": {\"bar\": [{\"error_x\": {\"color\": \"#2a3f5f\"}, \"error_y\": {\"color\": \"#2a3f5f\"}, \"marker\": {\"line\": {\"color\": \"#E5ECF6\", \"width\": 0.5}}, \"type\": \"bar\"}], \"barpolar\": [{\"marker\": {\"line\": {\"color\": \"#E5ECF6\", \"width\": 0.5}}, \"type\": \"barpolar\"}], \"carpet\": [{\"aaxis\": {\"endlinecolor\": \"#2a3f5f\", \"gridcolor\": \"white\", \"linecolor\": \"white\", \"minorgridcolor\": \"white\", \"startlinecolor\": \"#2a3f5f\"}, \"baxis\": {\"endlinecolor\": \"#2a3f5f\", \"gridcolor\": \"white\", \"linecolor\": \"white\", \"minorgridcolor\": \"white\", \"startlinecolor\": \"#2a3f5f\"}, \"type\": \"carpet\"}], \"choropleth\": [{\"colorbar\": {\"outlinewidth\": 0, \"ticks\": \"\"}, \"type\": \"choropleth\"}], \"contour\": [{\"colorbar\": {\"outlinewidth\": 0, \"ticks\": \"\"}, \"colorscale\": [[0.0, \"#0d0887\"], [0.1111111111111111, \"#46039f\"], [0.2222222222222222, \"#7201a8\"], [0.3333333333333333, \"#9c179e\"], [0.4444444444444444, \"#bd3786\"], [0.5555555555555556, \"#d8576b\"], [0.6666666666666666, \"#ed7953\"], [0.7777777777777778, \"#fb9f3a\"], [0.8888888888888888, \"#fdca26\"], [1.0, \"#f0f921\"]], \"type\": \"contour\"}], \"contourcarpet\": [{\"colorbar\": {\"outlinewidth\": 0, \"ticks\": \"\"}, \"type\": \"contourcarpet\"}], \"heatmap\": [{\"colorbar\": {\"outlinewidth\": 0, \"ticks\": \"\"}, \"colorscale\": [[0.0, \"#0d0887\"], [0.1111111111111111, \"#46039f\"], [0.2222222222222222, \"#7201a8\"], [0.3333333333333333, \"#9c179e\"], [0.4444444444444444, \"#bd3786\"], [0.5555555555555556, \"#d8576b\"], [0.6666666666666666, \"#ed7953\"], [0.7777777777777778, \"#fb9f3a\"], [0.8888888888888888, \"#fdca26\"], [1.0, \"#f0f921\"]], \"type\": \"heatmap\"}], \"heatmapgl\": [{\"colorbar\": {\"outlinewidth\": 0, \"ticks\": \"\"}, \"colorscale\": [[0.0, \"#0d0887\"], [0.1111111111111111, \"#46039f\"], [0.2222222222222222, \"#7201a8\"], [0.3333333333333333, \"#9c179e\"], [0.4444444444444444, \"#bd3786\"], [0.5555555555555556, \"#d8576b\"], [0.6666666666666666, \"#ed7953\"], [0.7777777777777778, \"#fb9f3a\"], [0.8888888888888888, \"#fdca26\"], [1.0, \"#f0f921\"]], \"type\": \"heatmapgl\"}], \"histogram\": [{\"marker\": {\"colorbar\": {\"outlinewidth\": 0, \"ticks\": \"\"}}, \"type\": \"histogram\"}], \"histogram2d\": [{\"colorbar\": {\"outlinewidth\": 0, \"ticks\": \"\"}, \"colorscale\": [[0.0, \"#0d0887\"], [0.1111111111111111, \"#46039f\"], [0.2222222222222222, \"#7201a8\"], [0.3333333333333333, \"#9c179e\"], [0.4444444444444444, \"#bd3786\"], [0.5555555555555556, \"#d8576b\"], [0.6666666666666666, \"#ed7953\"], [0.7777777777777778, \"#fb9f3a\"], [0.8888888888888888, \"#fdca26\"], [1.0, \"#f0f921\"]], \"type\": \"histogram2d\"}], \"histogram2dcontour\": [{\"colorbar\": {\"outlinewidth\": 0, \"ticks\": \"\"}, \"colorscale\": [[0.0, \"#0d0887\"], [0.1111111111111111, \"#46039f\"], [0.2222222222222222, \"#7201a8\"], [0.3333333333333333, \"#9c179e\"], [0.4444444444444444, \"#bd3786\"], [0.5555555555555556, \"#d8576b\"], [0.6666666666666666, \"#ed7953\"], [0.7777777777777778, \"#fb9f3a\"], [0.8888888888888888, \"#fdca26\"], [1.0, \"#f0f921\"]], \"type\": \"histogram2dcontour\"}], \"mesh3d\": [{\"colorbar\": {\"outlinewidth\": 0, \"ticks\": \"\"}, \"type\": \"mesh3d\"}], \"parcoords\": [{\"line\": {\"colorbar\": {\"outlinewidth\": 0, \"ticks\": \"\"}}, \"type\": \"parcoords\"}], \"pie\": [{\"automargin\": true, \"type\": \"pie\"}], \"scatter\": [{\"marker\": {\"colorbar\": {\"outlinewidth\": 0, \"ticks\": \"\"}}, \"type\": \"scatter\"}], \"scatter3d\": [{\"line\": {\"colorbar\": {\"outlinewidth\": 0, \"ticks\": \"\"}}, \"marker\": {\"colorbar\": {\"outlinewidth\": 0, \"ticks\": \"\"}}, \"type\": \"scatter3d\"}], \"scattercarpet\": [{\"marker\": {\"colorbar\": {\"outlinewidth\": 0, \"ticks\": \"\"}}, \"type\": \"scattercarpet\"}], \"scattergeo\": [{\"marker\": {\"colorbar\": {\"outlinewidth\": 0, \"ticks\": \"\"}}, \"type\": \"scattergeo\"}], \"scattergl\": [{\"marker\": {\"colorbar\": {\"outlinewidth\": 0, \"ticks\": \"\"}}, \"type\": \"scattergl\"}], \"scattermapbox\": [{\"marker\": {\"colorbar\": {\"outlinewidth\": 0, \"ticks\": \"\"}}, \"type\": \"scattermapbox\"}], \"scatterpolar\": [{\"marker\": {\"colorbar\": {\"outlinewidth\": 0, \"ticks\": \"\"}}, \"type\": \"scatterpolar\"}], \"scatterpolargl\": [{\"marker\": {\"colorbar\": {\"outlinewidth\": 0, \"ticks\": \"\"}}, \"type\": \"scatterpolargl\"}], \"scatterternary\": [{\"marker\": {\"colorbar\": {\"outlinewidth\": 0, \"ticks\": \"\"}}, \"type\": \"scatterternary\"}], \"surface\": [{\"colorbar\": {\"outlinewidth\": 0, \"ticks\": \"\"}, \"colorscale\": [[0.0, \"#0d0887\"], [0.1111111111111111, \"#46039f\"], [0.2222222222222222, \"#7201a8\"], [0.3333333333333333, \"#9c179e\"], [0.4444444444444444, \"#bd3786\"], [0.5555555555555556, \"#d8576b\"], [0.6666666666666666, \"#ed7953\"], [0.7777777777777778, \"#fb9f3a\"], [0.8888888888888888, \"#fdca26\"], [1.0, \"#f0f921\"]], \"type\": \"surface\"}], \"table\": [{\"cells\": {\"fill\": {\"color\": \"#EBF0F8\"}, \"line\": {\"color\": \"white\"}}, \"header\": {\"fill\": {\"color\": \"#C8D4E3\"}, \"line\": {\"color\": \"white\"}}, \"type\": \"table\"}]}, \"layout\": {\"annotationdefaults\": {\"arrowcolor\": \"#2a3f5f\", \"arrowhead\": 0, \"arrowwidth\": 1}, \"coloraxis\": {\"colorbar\": {\"outlinewidth\": 0, \"ticks\": \"\"}}, \"colorscale\": {\"diverging\": [[0, \"#8e0152\"], [0.1, \"#c51b7d\"], [0.2, \"#de77ae\"], [0.3, \"#f1b6da\"], [0.4, \"#fde0ef\"], [0.5, \"#f7f7f7\"], [0.6, \"#e6f5d0\"], [0.7, \"#b8e186\"], [0.8, \"#7fbc41\"], [0.9, \"#4d9221\"], [1, \"#276419\"]], \"sequential\": [[0.0, \"#0d0887\"], [0.1111111111111111, \"#46039f\"], [0.2222222222222222, \"#7201a8\"], [0.3333333333333333, \"#9c179e\"], [0.4444444444444444, \"#bd3786\"], [0.5555555555555556, \"#d8576b\"], [0.6666666666666666, \"#ed7953\"], [0.7777777777777778, \"#fb9f3a\"], [0.8888888888888888, \"#fdca26\"], [1.0, \"#f0f921\"]], \"sequentialminus\": [[0.0, \"#0d0887\"], [0.1111111111111111, \"#46039f\"], [0.2222222222222222, \"#7201a8\"], [0.3333333333333333, \"#9c179e\"], [0.4444444444444444, \"#bd3786\"], [0.5555555555555556, \"#d8576b\"], [0.6666666666666666, \"#ed7953\"], [0.7777777777777778, \"#fb9f3a\"], [0.8888888888888888, \"#fdca26\"], [1.0, \"#f0f921\"]]}, \"colorway\": [\"#636efa\", \"#EF553B\", \"#00cc96\", \"#ab63fa\", \"#FFA15A\", \"#19d3f3\", \"#FF6692\", \"#B6E880\", \"#FF97FF\", \"#FECB52\"], \"font\": {\"color\": \"#2a3f5f\"}, \"geo\": {\"bgcolor\": \"white\", \"lakecolor\": \"white\", \"landcolor\": \"#E5ECF6\", \"showlakes\": true, \"showland\": true, \"subunitcolor\": \"white\"}, \"hoverlabel\": {\"align\": \"left\"}, \"hovermode\": \"closest\", \"mapbox\": {\"style\": \"light\"}, \"paper_bgcolor\": \"white\", \"plot_bgcolor\": \"#E5ECF6\", \"polar\": {\"angularaxis\": {\"gridcolor\": \"white\", \"linecolor\": \"white\", \"ticks\": \"\"}, \"bgcolor\": \"#E5ECF6\", \"radialaxis\": {\"gridcolor\": \"white\", \"linecolor\": \"white\", \"ticks\": \"\"}}, \"scene\": {\"xaxis\": {\"backgroundcolor\": \"#E5ECF6\", \"gridcolor\": \"white\", \"gridwidth\": 2, \"linecolor\": \"white\", \"showbackground\": true, \"ticks\": \"\", \"zerolinecolor\": \"white\"}, \"yaxis\": {\"backgroundcolor\": \"#E5ECF6\", \"gridcolor\": \"white\", \"gridwidth\": 2, \"linecolor\": \"white\", \"showbackground\": true, \"ticks\": \"\", \"zerolinecolor\": \"white\"}, \"zaxis\": {\"backgroundcolor\": \"#E5ECF6\", \"gridcolor\": \"white\", \"gridwidth\": 2, \"linecolor\": \"white\", \"showbackground\": true, \"ticks\": \"\", \"zerolinecolor\": \"white\"}}, \"shapedefaults\": {\"line\": {\"color\": \"#2a3f5f\"}}, \"ternary\": {\"aaxis\": {\"gridcolor\": \"white\", \"linecolor\": \"white\", \"ticks\": \"\"}, \"baxis\": {\"gridcolor\": \"white\", \"linecolor\": \"white\", \"ticks\": \"\"}, \"bgcolor\": \"#E5ECF6\", \"caxis\": {\"gridcolor\": \"white\", \"linecolor\": \"white\", \"ticks\": \"\"}}, \"title\": {\"x\": 0.05}, \"xaxis\": {\"automargin\": true, \"gridcolor\": \"white\", \"linecolor\": \"white\", \"ticks\": \"\", \"title\": {\"standoff\": 15}, \"zerolinecolor\": \"white\", \"zerolinewidth\": 2}, \"yaxis\": {\"automargin\": true, \"gridcolor\": \"white\", \"linecolor\": \"white\", \"ticks\": \"\", \"title\": {\"standoff\": 15}, \"zerolinecolor\": \"white\", \"zerolinewidth\": 2}}}},\n",
              "                        {\"responsive\": true}\n",
              "                    ).then(function(){\n",
              "                            \n",
              "var gd = document.getElementById('091fddf1-44a4-49bd-9dbe-c5f994b60622');\n",
              "var x = new MutationObserver(function (mutations, observer) {{\n",
              "        var display = window.getComputedStyle(gd).display;\n",
              "        if (!display || display === 'none') {{\n",
              "            console.log([gd, 'removed!']);\n",
              "            Plotly.purge(gd);\n",
              "            observer.disconnect();\n",
              "        }}\n",
              "}});\n",
              "\n",
              "// Listen for the removal of the full notebook cells\n",
              "var notebookContainer = gd.closest('#notebook-container');\n",
              "if (notebookContainer) {{\n",
              "    x.observe(notebookContainer, {childList: true});\n",
              "}}\n",
              "\n",
              "// Listen for the clearing of the current output cell\n",
              "var outputEl = gd.closest('.output');\n",
              "if (outputEl) {{\n",
              "    x.observe(outputEl, {childList: true});\n",
              "}}\n",
              "\n",
              "                        })\n",
              "                };\n",
              "                \n",
              "            </script>\n",
              "        </div>\n",
              "</body>\n",
              "</html>"
            ]
          },
          "metadata": {
            "tags": []
          }
        }
      ]
    },
    {
      "cell_type": "markdown",
      "metadata": {
        "id": "JVHOqtQu8bwj",
        "colab_type": "text"
      },
      "source": [
        "* top 20% 연봉 kagglers - 주로 Genetic Data, Geospatial Data, Image Data를 다룸,\n",
        "* 전문가 = 고학력자 = 특수 분야 이렇게 연관성이 있는듯 하다. \n",
        "* Categorical, Text data, Numeric Data ; 상당히 낮은 coefficients\n",
        "=> Genentic/Geospatial/Image -> Boost.\n"
      ]
    },
    {
      "cell_type": "markdown",
      "metadata": {
        "id": "abIaj_b19fku",
        "colab_type": "text"
      },
      "source": [
        "* Q40 : Which better demonstrates expertise in data science : academic achievement or independent projects? \n"
      ]
    },
    {
      "cell_type": "code",
      "metadata": {
        "id": "V0yyu4he9n9U",
        "colab_type": "code",
        "colab": {
          "base_uri": "https://localhost:8080/",
          "height": 542
        },
        "outputId": "1cc4cde5-f964-4631-9b52-538e854849b9"
      },
      "source": [
        "Q40_data = features.iloc[237:240, :]\n",
        "title = \"Q40\"\n",
        "barplot = Q40_data[['answer', 'coefficient']].copy()\n",
        "barplot.columns = ['y', 'x']\n",
        "barplot = barplot.sort_values(by='x', ascending = True)\n",
        "barplot['model_highlight'] = barplot.x > 0\n",
        "barplot['color'] = barplot.model_highlight.apply(lambda x :'cornflowerblue' if x else 'a')\n",
        "\n",
        "fig = go.Figure([go.Bar(x = Q40_data.answer, y = Q40_data.coefficient)])\n",
        "fig.show()"
      ],
      "execution_count": null,
      "outputs": [
        {
          "output_type": "display_data",
          "data": {
            "text/html": [
              "<html>\n",
              "<head><meta charset=\"utf-8\" /></head>\n",
              "<body>\n",
              "    <div>\n",
              "            <script src=\"https://cdnjs.cloudflare.com/ajax/libs/mathjax/2.7.5/MathJax.js?config=TeX-AMS-MML_SVG\"></script><script type=\"text/javascript\">if (window.MathJax) {MathJax.Hub.Config({SVG: {font: \"STIX-Web\"}});}</script>\n",
              "                <script type=\"text/javascript\">window.PlotlyConfig = {MathJaxConfig: 'local'};</script>\n",
              "        <script src=\"https://cdn.plot.ly/plotly-latest.min.js\"></script>    \n",
              "            <div id=\"468996c0-2de5-4d4e-8165-f639844368b4\" class=\"plotly-graph-div\" style=\"height:525px; width:100%;\"></div>\n",
              "            <script type=\"text/javascript\">\n",
              "                \n",
              "                    window.PLOTLYENV=window.PLOTLYENV || {};\n",
              "                    \n",
              "                if (document.getElementById(\"468996c0-2de5-4d4e-8165-f639844368b4\")) {\n",
              "                    Plotly.newPlot(\n",
              "                        '468996c0-2de5-4d4e-8165-f639844368b4',\n",
              "                        [{\"type\": \"bar\", \"x\": [\"_Independent projects are equally important as academic achievements\", \"_Independent projects are much more important than academic achievements\", \"_Independent projects are slightly more important than academic achievements\"], \"y\": [0.0, 0.05732075065433323, 0.03401752859466759]}],\n",
              "                        {\"template\": {\"data\": {\"bar\": [{\"error_x\": {\"color\": \"#2a3f5f\"}, \"error_y\": {\"color\": \"#2a3f5f\"}, \"marker\": {\"line\": {\"color\": \"#E5ECF6\", \"width\": 0.5}}, \"type\": \"bar\"}], \"barpolar\": [{\"marker\": {\"line\": {\"color\": \"#E5ECF6\", \"width\": 0.5}}, \"type\": \"barpolar\"}], \"carpet\": [{\"aaxis\": {\"endlinecolor\": \"#2a3f5f\", \"gridcolor\": \"white\", \"linecolor\": \"white\", \"minorgridcolor\": \"white\", \"startlinecolor\": \"#2a3f5f\"}, \"baxis\": {\"endlinecolor\": \"#2a3f5f\", \"gridcolor\": \"white\", \"linecolor\": \"white\", \"minorgridcolor\": \"white\", \"startlinecolor\": \"#2a3f5f\"}, \"type\": \"carpet\"}], \"choropleth\": [{\"colorbar\": {\"outlinewidth\": 0, \"ticks\": \"\"}, \"type\": \"choropleth\"}], \"contour\": [{\"colorbar\": {\"outlinewidth\": 0, \"ticks\": \"\"}, \"colorscale\": [[0.0, \"#0d0887\"], [0.1111111111111111, \"#46039f\"], [0.2222222222222222, \"#7201a8\"], [0.3333333333333333, \"#9c179e\"], [0.4444444444444444, \"#bd3786\"], [0.5555555555555556, \"#d8576b\"], [0.6666666666666666, \"#ed7953\"], [0.7777777777777778, \"#fb9f3a\"], [0.8888888888888888, \"#fdca26\"], [1.0, \"#f0f921\"]], \"type\": \"contour\"}], \"contourcarpet\": [{\"colorbar\": {\"outlinewidth\": 0, \"ticks\": \"\"}, \"type\": \"contourcarpet\"}], \"heatmap\": [{\"colorbar\": {\"outlinewidth\": 0, \"ticks\": \"\"}, \"colorscale\": [[0.0, \"#0d0887\"], [0.1111111111111111, \"#46039f\"], [0.2222222222222222, \"#7201a8\"], [0.3333333333333333, \"#9c179e\"], [0.4444444444444444, \"#bd3786\"], [0.5555555555555556, \"#d8576b\"], [0.6666666666666666, \"#ed7953\"], [0.7777777777777778, \"#fb9f3a\"], [0.8888888888888888, \"#fdca26\"], [1.0, \"#f0f921\"]], \"type\": \"heatmap\"}], \"heatmapgl\": [{\"colorbar\": {\"outlinewidth\": 0, \"ticks\": \"\"}, \"colorscale\": [[0.0, \"#0d0887\"], [0.1111111111111111, \"#46039f\"], [0.2222222222222222, \"#7201a8\"], [0.3333333333333333, \"#9c179e\"], [0.4444444444444444, \"#bd3786\"], [0.5555555555555556, \"#d8576b\"], [0.6666666666666666, \"#ed7953\"], [0.7777777777777778, \"#fb9f3a\"], [0.8888888888888888, \"#fdca26\"], [1.0, \"#f0f921\"]], \"type\": \"heatmapgl\"}], \"histogram\": [{\"marker\": {\"colorbar\": {\"outlinewidth\": 0, \"ticks\": \"\"}}, \"type\": \"histogram\"}], \"histogram2d\": [{\"colorbar\": {\"outlinewidth\": 0, \"ticks\": \"\"}, \"colorscale\": [[0.0, \"#0d0887\"], [0.1111111111111111, \"#46039f\"], [0.2222222222222222, \"#7201a8\"], [0.3333333333333333, \"#9c179e\"], [0.4444444444444444, \"#bd3786\"], [0.5555555555555556, \"#d8576b\"], [0.6666666666666666, \"#ed7953\"], [0.7777777777777778, \"#fb9f3a\"], [0.8888888888888888, \"#fdca26\"], [1.0, \"#f0f921\"]], \"type\": \"histogram2d\"}], \"histogram2dcontour\": [{\"colorbar\": {\"outlinewidth\": 0, \"ticks\": \"\"}, \"colorscale\": [[0.0, \"#0d0887\"], [0.1111111111111111, \"#46039f\"], [0.2222222222222222, \"#7201a8\"], [0.3333333333333333, \"#9c179e\"], [0.4444444444444444, \"#bd3786\"], [0.5555555555555556, \"#d8576b\"], [0.6666666666666666, \"#ed7953\"], [0.7777777777777778, \"#fb9f3a\"], [0.8888888888888888, \"#fdca26\"], [1.0, \"#f0f921\"]], \"type\": \"histogram2dcontour\"}], \"mesh3d\": [{\"colorbar\": {\"outlinewidth\": 0, \"ticks\": \"\"}, \"type\": \"mesh3d\"}], \"parcoords\": [{\"line\": {\"colorbar\": {\"outlinewidth\": 0, \"ticks\": \"\"}}, \"type\": \"parcoords\"}], \"pie\": [{\"automargin\": true, \"type\": \"pie\"}], \"scatter\": [{\"marker\": {\"colorbar\": {\"outlinewidth\": 0, \"ticks\": \"\"}}, \"type\": \"scatter\"}], \"scatter3d\": [{\"line\": {\"colorbar\": {\"outlinewidth\": 0, \"ticks\": \"\"}}, \"marker\": {\"colorbar\": {\"outlinewidth\": 0, \"ticks\": \"\"}}, \"type\": \"scatter3d\"}], \"scattercarpet\": [{\"marker\": {\"colorbar\": {\"outlinewidth\": 0, \"ticks\": \"\"}}, \"type\": \"scattercarpet\"}], \"scattergeo\": [{\"marker\": {\"colorbar\": {\"outlinewidth\": 0, \"ticks\": \"\"}}, \"type\": \"scattergeo\"}], \"scattergl\": [{\"marker\": {\"colorbar\": {\"outlinewidth\": 0, \"ticks\": \"\"}}, \"type\": \"scattergl\"}], \"scattermapbox\": [{\"marker\": {\"colorbar\": {\"outlinewidth\": 0, \"ticks\": \"\"}}, \"type\": \"scattermapbox\"}], \"scatterpolar\": [{\"marker\": {\"colorbar\": {\"outlinewidth\": 0, \"ticks\": \"\"}}, \"type\": \"scatterpolar\"}], \"scatterpolargl\": [{\"marker\": {\"colorbar\": {\"outlinewidth\": 0, \"ticks\": \"\"}}, \"type\": \"scatterpolargl\"}], \"scatterternary\": [{\"marker\": {\"colorbar\": {\"outlinewidth\": 0, \"ticks\": \"\"}}, \"type\": \"scatterternary\"}], \"surface\": [{\"colorbar\": {\"outlinewidth\": 0, \"ticks\": \"\"}, \"colorscale\": [[0.0, \"#0d0887\"], [0.1111111111111111, \"#46039f\"], [0.2222222222222222, \"#7201a8\"], [0.3333333333333333, \"#9c179e\"], [0.4444444444444444, \"#bd3786\"], [0.5555555555555556, \"#d8576b\"], [0.6666666666666666, \"#ed7953\"], [0.7777777777777778, \"#fb9f3a\"], [0.8888888888888888, \"#fdca26\"], [1.0, \"#f0f921\"]], \"type\": \"surface\"}], \"table\": [{\"cells\": {\"fill\": {\"color\": \"#EBF0F8\"}, \"line\": {\"color\": \"white\"}}, \"header\": {\"fill\": {\"color\": \"#C8D4E3\"}, \"line\": {\"color\": \"white\"}}, \"type\": \"table\"}]}, \"layout\": {\"annotationdefaults\": {\"arrowcolor\": \"#2a3f5f\", \"arrowhead\": 0, \"arrowwidth\": 1}, \"coloraxis\": {\"colorbar\": {\"outlinewidth\": 0, \"ticks\": \"\"}}, \"colorscale\": {\"diverging\": [[0, \"#8e0152\"], [0.1, \"#c51b7d\"], [0.2, \"#de77ae\"], [0.3, \"#f1b6da\"], [0.4, \"#fde0ef\"], [0.5, \"#f7f7f7\"], [0.6, \"#e6f5d0\"], [0.7, \"#b8e186\"], [0.8, \"#7fbc41\"], [0.9, \"#4d9221\"], [1, \"#276419\"]], \"sequential\": [[0.0, \"#0d0887\"], [0.1111111111111111, \"#46039f\"], [0.2222222222222222, \"#7201a8\"], [0.3333333333333333, \"#9c179e\"], [0.4444444444444444, \"#bd3786\"], [0.5555555555555556, \"#d8576b\"], [0.6666666666666666, \"#ed7953\"], [0.7777777777777778, \"#fb9f3a\"], [0.8888888888888888, \"#fdca26\"], [1.0, \"#f0f921\"]], \"sequentialminus\": [[0.0, \"#0d0887\"], [0.1111111111111111, \"#46039f\"], [0.2222222222222222, \"#7201a8\"], [0.3333333333333333, \"#9c179e\"], [0.4444444444444444, \"#bd3786\"], [0.5555555555555556, \"#d8576b\"], [0.6666666666666666, \"#ed7953\"], [0.7777777777777778, \"#fb9f3a\"], [0.8888888888888888, \"#fdca26\"], [1.0, \"#f0f921\"]]}, \"colorway\": [\"#636efa\", \"#EF553B\", \"#00cc96\", \"#ab63fa\", \"#FFA15A\", \"#19d3f3\", \"#FF6692\", \"#B6E880\", \"#FF97FF\", \"#FECB52\"], \"font\": {\"color\": \"#2a3f5f\"}, \"geo\": {\"bgcolor\": \"white\", \"lakecolor\": \"white\", \"landcolor\": \"#E5ECF6\", \"showlakes\": true, \"showland\": true, \"subunitcolor\": \"white\"}, \"hoverlabel\": {\"align\": \"left\"}, \"hovermode\": \"closest\", \"mapbox\": {\"style\": \"light\"}, \"paper_bgcolor\": \"white\", \"plot_bgcolor\": \"#E5ECF6\", \"polar\": {\"angularaxis\": {\"gridcolor\": \"white\", \"linecolor\": \"white\", \"ticks\": \"\"}, \"bgcolor\": \"#E5ECF6\", \"radialaxis\": {\"gridcolor\": \"white\", \"linecolor\": \"white\", \"ticks\": \"\"}}, \"scene\": {\"xaxis\": {\"backgroundcolor\": \"#E5ECF6\", \"gridcolor\": \"white\", \"gridwidth\": 2, \"linecolor\": \"white\", \"showbackground\": true, \"ticks\": \"\", \"zerolinecolor\": \"white\"}, \"yaxis\": {\"backgroundcolor\": \"#E5ECF6\", \"gridcolor\": \"white\", \"gridwidth\": 2, \"linecolor\": \"white\", \"showbackground\": true, \"ticks\": \"\", \"zerolinecolor\": \"white\"}, \"zaxis\": {\"backgroundcolor\": \"#E5ECF6\", \"gridcolor\": \"white\", \"gridwidth\": 2, \"linecolor\": \"white\", \"showbackground\": true, \"ticks\": \"\", \"zerolinecolor\": \"white\"}}, \"shapedefaults\": {\"line\": {\"color\": \"#2a3f5f\"}}, \"ternary\": {\"aaxis\": {\"gridcolor\": \"white\", \"linecolor\": \"white\", \"ticks\": \"\"}, \"baxis\": {\"gridcolor\": \"white\", \"linecolor\": \"white\", \"ticks\": \"\"}, \"bgcolor\": \"#E5ECF6\", \"caxis\": {\"gridcolor\": \"white\", \"linecolor\": \"white\", \"ticks\": \"\"}}, \"title\": {\"x\": 0.05}, \"xaxis\": {\"automargin\": true, \"gridcolor\": \"white\", \"linecolor\": \"white\", \"ticks\": \"\", \"title\": {\"standoff\": 15}, \"zerolinecolor\": \"white\", \"zerolinewidth\": 2}, \"yaxis\": {\"automargin\": true, \"gridcolor\": \"white\", \"linecolor\": \"white\", \"ticks\": \"\", \"title\": {\"standoff\": 15}, \"zerolinecolor\": \"white\", \"zerolinewidth\": 2}}}},\n",
              "                        {\"responsive\": true}\n",
              "                    ).then(function(){\n",
              "                            \n",
              "var gd = document.getElementById('468996c0-2de5-4d4e-8165-f639844368b4');\n",
              "var x = new MutationObserver(function (mutations, observer) {{\n",
              "        var display = window.getComputedStyle(gd).display;\n",
              "        if (!display || display === 'none') {{\n",
              "            console.log([gd, 'removed!']);\n",
              "            Plotly.purge(gd);\n",
              "            observer.disconnect();\n",
              "        }}\n",
              "}});\n",
              "\n",
              "// Listen for the removal of the full notebook cells\n",
              "var notebookContainer = gd.closest('#notebook-container');\n",
              "if (notebookContainer) {{\n",
              "    x.observe(notebookContainer, {childList: true});\n",
              "}}\n",
              "\n",
              "// Listen for the clearing of the current output cell\n",
              "var outputEl = gd.closest('.output');\n",
              "if (outputEl) {{\n",
              "    x.observe(outputEl, {childList: true});\n",
              "}}\n",
              "\n",
              "                        })\n",
              "                };\n",
              "                \n",
              "            </script>\n",
              "        </div>\n",
              "</body>\n",
              "</html>"
            ]
          },
          "metadata": {
            "tags": []
          }
        }
      ]
    },
    {
      "cell_type": "markdown",
      "metadata": {
        "id": "Jp2rA-6m4G-h",
        "colab_type": "text"
      },
      "source": [
        "Top 20% dont' think independent projects are equally important as academic achievement. "
      ]
    },
    {
      "cell_type": "code",
      "metadata": {
        "id": "l6feNrrV0JR4",
        "colab_type": "code",
        "colab": {}
      },
      "source": [
        ""
      ],
      "execution_count": null,
      "outputs": []
    },
    {
      "cell_type": "markdown",
      "metadata": {
        "id": "pf7bYAKkpNoa",
        "colab_type": "text"
      },
      "source": [
        "* Variable importance Plot "
      ]
    },
    {
      "cell_type": "code",
      "metadata": {
        "id": "d8Cb9Mohpnd_",
        "colab_type": "code",
        "colab": {
          "base_uri": "https://localhost:8080/",
          "height": 268
        },
        "outputId": "233ba4ed-debd-4131-fcd8-025903161bd8"
      },
      "source": [
        "index_clean = clean_dataset.columns[2:]\n",
        "index_clean"
      ],
      "execution_count": null,
      "outputs": [
        {
          "output_type": "execute_result",
          "data": {
            "text/plain": [
              "Index(['1_Female', '1_Male', '2_18-21', '2_22-24', '2_25-29', '2_30-34',\n",
              "       '2_35-39', '2_40-44', '3_Asia', '3_Europe',\n",
              "       ...\n",
              "       '35_Q35_Part_4', '35_Q35_Part_5',\n",
              "       '40_Independent projects are equally important as academic achievements',\n",
              "       '40_Independent projects are much more important than academic achievements',\n",
              "       '40_Independent projects are slightly more important than academic achievements',\n",
              "       '48_I am confident that I can explain the outputs of most if not all ML models',\n",
              "       '48_I am confident that I can understand and explain the outputs of many but not all ML models',\n",
              "       '48_I do not know; I have no opinion on the matter',\n",
              "       '48_I view ML models as \"black boxes\" but I am confident that experts are able to explain model outputs',\n",
              "       '48_Yes, most ML models are \"black boxes\"'],\n",
              "      dtype='object', length=245)"
            ]
          },
          "metadata": {
            "tags": []
          },
          "execution_count": 271
        }
      ]
    },
    {
      "cell_type": "code",
      "metadata": {
        "id": "YcFN-0aSAmWX",
        "colab_type": "code",
        "colab": {
          "base_uri": "https://localhost:8080/",
          "height": 410
        },
        "outputId": "24fa56bb-2e46-489d-80be-ef4de3fe87d9"
      },
      "source": [
        "feature_imp = pd.Series(rforest.feature_importances_, index=index_clean).sort_values(ascending = False)\n",
        "feature_imp[0:20]"
      ],
      "execution_count": null,
      "outputs": [
        {
          "output_type": "execute_result",
          "data": {
            "text/plain": [
              "3_NorthAmerica                                                                               0.096702\n",
              "Student                                                                                      0.017915\n",
              "24_10-20 years                                                                               0.017662\n",
              "38_FiveThirtyEight.com                                                                       0.014500\n",
              "35_Q35_Part_1                                                                                0.014489\n",
              "3_Asia                                                                                       0.013871\n",
              "35_Q35_Part_3                                                                                0.013780\n",
              "3_Europe                                                                                     0.012493\n",
              "35_Q35_Part_2                                                                                0.012118\n",
              "35_Q35_Part_4                                                                                0.011737\n",
              "11_Build prototypes to explore applying machine learning to new areas                        0.011217\n",
              "24_5-10 years                                                                                0.010988\n",
              "24_1-2 years                                                                                 0.010331\n",
              "2_22-24                                                                                      0.009644\n",
              "Data Scientist                                                                               0.008816\n",
              "35_Q35_Part_5                                                                                0.008541\n",
              "42_Revenue and/or business goals                                                             0.008371\n",
              "10_We have well established ML methods (i.e., models in production for more than 2 years)    0.008207\n",
              "27_AWS Elastic Compute Cloud (EC2)                                                           0.007163\n",
              "2_35-39                                                                                      0.007062\n",
              "dtype: float64"
            ]
          },
          "metadata": {
            "tags": []
          },
          "execution_count": 272
        }
      ]
    },
    {
      "cell_type": "markdown",
      "metadata": {
        "id": "RAb7Kpl4qyGx",
        "colab_type": "text"
      },
      "source": [
        "<Salary 공개한 사람들의 특징>\n",
        "* North America = 미국이 대체로 높은 연봉에 주요한 요인을 차지. \n",
        "* Q34 제외했더니 Q35 Part 1이 치고올라옴. (독학)\n",
        "* Q38 - FiveThirtyEight.com에서 주로 ML 관련 기사 많이 봄.\n",
        "* 경력 10-20years\n",
        "* Asia가 역시 유의\n",
        "* Students 역시 유의(연봉 작음)\n",
        "* AWS를 많이 쓰는듯\n",
        "* 주로 DS일수록 고연봉자\n",
        "* AWS도 꽤 Importance가 높게 나타남. \n",
        "* 회사에서 ML을 잘 정립 할수록 연봉이 높게 나타남. \n",
        "* Age : 25-29, \n"
      ]
    },
    {
      "cell_type": "code",
      "metadata": {
        "id": "SBRFuIIaAmVI",
        "colab_type": "code",
        "colab": {}
      },
      "source": [
        "%matplotlib inline\n",
        "\n",
        "fig, ax = plt.subplots(figsize=(10, 12))\n",
        "\n",
        "plot_importance(xgb_tuned, ax=ax, max_num_features = 20)"
      ],
      "execution_count": null,
      "outputs": []
    },
    {
      "cell_type": "markdown",
      "metadata": {
        "id": "p2LU1jQz8-3d",
        "colab_type": "text"
      },
      "source": [
        "## After Tuned : \n",
        "- Q35가 전부 상위로 치고 올라왔다. \n",
        "- 그 뒤가 North America\n",
        "- 나이 25-29와 Student는 계속 상위권에 존재.\n",
        "- Academics/Education industry도 계속 잔존. \n"
      ]
    },
    {
      "cell_type": "code",
      "metadata": {
        "id": "z0RxRTKwAmQ7",
        "colab_type": "code",
        "colab": {}
      },
      "source": [
        ""
      ],
      "execution_count": null,
      "outputs": []
    },
    {
      "cell_type": "code",
      "metadata": {
        "id": "vhKH_1QNAmO1",
        "colab_type": "code",
        "colab": {}
      },
      "source": [
        ""
      ],
      "execution_count": null,
      "outputs": []
    },
    {
      "cell_type": "code",
      "metadata": {
        "id": "QRkNcPQeAmN2",
        "colab_type": "code",
        "colab": {}
      },
      "source": [
        ""
      ],
      "execution_count": null,
      "outputs": []
    },
    {
      "cell_type": "code",
      "metadata": {
        "id": "iLYO5XSMAmLx",
        "colab_type": "code",
        "colab": {}
      },
      "source": [
        ""
      ],
      "execution_count": null,
      "outputs": []
    },
    {
      "cell_type": "code",
      "metadata": {
        "id": "-WBQMC8DAmJh",
        "colab_type": "code",
        "colab": {}
      },
      "source": [
        ""
      ],
      "execution_count": null,
      "outputs": []
    },
    {
      "cell_type": "code",
      "metadata": {
        "id": "RtKJJ88yAmBb",
        "colab_type": "code",
        "colab": {}
      },
      "source": [
        ""
      ],
      "execution_count": null,
      "outputs": []
    }
  ]
}