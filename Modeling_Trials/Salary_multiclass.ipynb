{
  "nbformat": 4,
  "nbformat_minor": 0,
  "metadata": {
    "colab": {
      "name": "Salary_multiclass.ipynb",
      "provenance": [],
      "collapsed_sections": []
    },
    "kernelspec": {
      "name": "python3",
      "display_name": "Python 3"
    },
    "accelerator": "GPU"
  },
  "cells": [
    {
      "cell_type": "markdown",
      "metadata": {
        "id": "M-QFaRc9qx4g",
        "colab_type": "text"
      },
      "source": [
        "\n",
        "## R에서 간단한 처리 이후 이쪽으로 분석 진행. \n",
        "### 처리내역 :\n",
        "#### Outlier 및 NA observation 처리 : \n",
        "* 4분 이하, 4000분 이상 데이터 삭제\n",
        "* confidence NA 변수 5000여개 삭제\n",
        "* Salary NA -> I do Not want to disclose로 합침. \n",
        "\n",
        "#### 변수 One Hot Encoding : \n",
        "* 기존에 One Hot Encoding 되어있는 변수들은 0, 1 로 재코딩\n",
        "* class를 보유하고 있는 단일변수들은 one hot encoding (get_dummies) 하여 여러 변수로 나누어줌. (ex - Role, Industry, gender, ...)\n",
        "* Age : 이번에는 One hot encoding (즉, 7~8개의 변수가 되도록) \n",
        "* 척도형 변수를 갖는 단일 변수 => 이번에는 One Hot Encoding 진행. \n",
        "* Country = 5개 대륙으로 나눔\n",
        "* Role(직업) : 총 7여개로 분류 - Business Analyst,\tData Analyst,\tData Engineer/DBA,\tData Scientist,\tSoftware Engineer,\tStatistician/Research Scientist,\tStudent\n",
        "* Student : Role과 industry에 Student로 기재된 것 동일하게 바꿔줌 \n",
        "\n",
        "#### 삭제한 변수 내역 : \n",
        "* R에서 삭제한 변수 (Q33, Q39, Q17, Q18, Q20, Q22, Q32, Q37, Q12 Multiple choice) \n",
        "* 총 Observation이 전체 observation의 5% 미만일 경우 삭제. (column 별로 다 더해서 /shape[0]으로 나눈 뒤 5% 미만의 변수들 삭제함. \n",
        "\n",
        "\n",
        "#### Target Variabel Salary 변형 : \n",
        "* 총 19개의 multiclass를 가지고 있어, multiclassification 하게 되면 성능이 너무 낮아지는 문제가 발생하게 됨. \n",
        "* 상위 20%에게 1, 하위 80%에게 0 label, 마지막으로 I do not want to disclose = 2로 하는 3 class 문제로 변형. \n",
        "\n",
        "\n"
      ]
    },
    {
      "cell_type": "code",
      "metadata": {
        "id": "4ihP9l1am4ok",
        "colab_type": "code",
        "colab": {}
      },
      "source": [
        "import numpy as np\n",
        "import pandas as pd"
      ],
      "execution_count": null,
      "outputs": []
    },
    {
      "cell_type": "code",
      "metadata": {
        "id": "3Ouoz8FooBY4",
        "colab_type": "code",
        "colab": {
          "base_uri": "https://localhost:8080/",
          "height": 126
        },
        "outputId": "7555743c-468e-471a-b4b2-29aaeac441a1"
      },
      "source": [
        "from google.colab import drive\n",
        "drive.mount('/content/drive')"
      ],
      "execution_count": null,
      "outputs": [
        {
          "output_type": "stream",
          "text": [
            "Go to this URL in a browser: https://accounts.google.com/o/oauth2/auth?client_id=947318989803-6bn6qk8qdgf4n4g3pfee6491hc0brc4i.apps.googleusercontent.com&redirect_uri=urn%3aietf%3awg%3aoauth%3a2.0%3aoob&response_type=code&scope=email%20https%3a%2f%2fwww.googleapis.com%2fauth%2fdocs.test%20https%3a%2f%2fwww.googleapis.com%2fauth%2fdrive%20https%3a%2f%2fwww.googleapis.com%2fauth%2fdrive.photos.readonly%20https%3a%2f%2fwww.googleapis.com%2fauth%2fpeopleapi.readonly\n",
            "\n",
            "Enter your authorization code:\n",
            "··········\n",
            "Mounted at /content/drive\n"
          ],
          "name": "stdout"
        }
      ]
    },
    {
      "cell_type": "code",
      "metadata": {
        "id": "SV9W85HEn29C",
        "colab_type": "code",
        "colab": {}
      },
      "source": [
        "multiple = pd.read_csv(\"/content/drive/My Drive/multiple.csv\", low_memory = False)"
      ],
      "execution_count": null,
      "outputs": []
    },
    {
      "cell_type": "code",
      "metadata": {
        "id": "YSWRQVwokXka",
        "colab_type": "code",
        "colab": {}
      },
      "source": [
        "qschema = pd.read_csv(\"/content/drive/My Drive/SurveySchema.csv\")"
      ],
      "execution_count": null,
      "outputs": []
    },
    {
      "cell_type": "code",
      "metadata": {
        "id": "FkwZQfjwn3OI",
        "colab_type": "code",
        "colab": {
          "base_uri": "https://localhost:8080/",
          "height": 648
        },
        "outputId": "76a600d6-0d8d-4f58-eee0-514733975f1f"
      },
      "source": [
        "multiple.head()"
      ],
      "execution_count": null,
      "outputs": [
        {
          "output_type": "execute_result",
          "data": {
            "text/html": [
              "<div>\n",
              "<style scoped>\n",
              "    .dataframe tbody tr th:only-of-type {\n",
              "        vertical-align: middle;\n",
              "    }\n",
              "\n",
              "    .dataframe tbody tr th {\n",
              "        vertical-align: top;\n",
              "    }\n",
              "\n",
              "    .dataframe thead th {\n",
              "        text-align: right;\n",
              "    }\n",
              "</style>\n",
              "<table border=\"1\" class=\"dataframe\">\n",
              "  <thead>\n",
              "    <tr style=\"text-align: right;\">\n",
              "      <th></th>\n",
              "      <th>duration</th>\n",
              "      <th>gender</th>\n",
              "      <th>Age</th>\n",
              "      <th>country</th>\n",
              "      <th>degree</th>\n",
              "      <th>undergraduate_major</th>\n",
              "      <th>Role</th>\n",
              "      <th>industry</th>\n",
              "      <th>Experience</th>\n",
              "      <th>value</th>\n",
              "      <th>Q10</th>\n",
              "      <th>Q11_Part_1</th>\n",
              "      <th>Q11_Part_2</th>\n",
              "      <th>Q11_Part_3</th>\n",
              "      <th>Q11_Part_4</th>\n",
              "      <th>Q11_Part_5</th>\n",
              "      <th>Q11_Part_6</th>\n",
              "      <th>Q11_Part_7</th>\n",
              "      <th>Q12_Part_1_TEXT</th>\n",
              "      <th>Q12_Part_2_TEXT</th>\n",
              "      <th>Q12_Part_3_TEXT</th>\n",
              "      <th>Q12_Part_4_TEXT</th>\n",
              "      <th>Q12_Part_5_TEXT</th>\n",
              "      <th>Q13_Part_1</th>\n",
              "      <th>Q13_Part_2</th>\n",
              "      <th>Q13_Part_3</th>\n",
              "      <th>Q13_Part_4</th>\n",
              "      <th>Q13_Part_5</th>\n",
              "      <th>Q13_Part_6</th>\n",
              "      <th>Q13_Part_7</th>\n",
              "      <th>Q13_Part_8</th>\n",
              "      <th>Q13_Part_9</th>\n",
              "      <th>Q13_Part_10</th>\n",
              "      <th>Q13_Part_11</th>\n",
              "      <th>Q13_Part_12</th>\n",
              "      <th>Q13_Part_13</th>\n",
              "      <th>Q13_Part_14</th>\n",
              "      <th>Q13_Part_15</th>\n",
              "      <th>Q14_Part_1</th>\n",
              "      <th>Q14_Part_2</th>\n",
              "      <th>...</th>\n",
              "      <th>Q45_Part_5</th>\n",
              "      <th>Q45_Part_6</th>\n",
              "      <th>Q46</th>\n",
              "      <th>Q47_Part_1</th>\n",
              "      <th>Q47_Part_2</th>\n",
              "      <th>Q47_Part_3</th>\n",
              "      <th>Q47_Part_4</th>\n",
              "      <th>Q47_Part_5</th>\n",
              "      <th>Q47_Part_6</th>\n",
              "      <th>Q47_Part_7</th>\n",
              "      <th>Q47_Part_8</th>\n",
              "      <th>Q47_Part_9</th>\n",
              "      <th>Q47_Part_10</th>\n",
              "      <th>Q47_Part_11</th>\n",
              "      <th>Q47_Part_12</th>\n",
              "      <th>Q47_Part_13</th>\n",
              "      <th>Q47_Part_14</th>\n",
              "      <th>Q47_Part_15</th>\n",
              "      <th>Q47_Part_16</th>\n",
              "      <th>Q48</th>\n",
              "      <th>Q49_Part_1</th>\n",
              "      <th>Q49_Part_2</th>\n",
              "      <th>Q49_Part_3</th>\n",
              "      <th>Q49_Part_4</th>\n",
              "      <th>Q49_Part_5</th>\n",
              "      <th>Q49_Part_6</th>\n",
              "      <th>Q49_Part_7</th>\n",
              "      <th>Q49_Part_8</th>\n",
              "      <th>Q49_Part_9</th>\n",
              "      <th>Q49_Part_10</th>\n",
              "      <th>Q49_Part_11</th>\n",
              "      <th>Q49_Part_12</th>\n",
              "      <th>Q50_Part_1</th>\n",
              "      <th>Q50_Part_2</th>\n",
              "      <th>Q50_Part_3</th>\n",
              "      <th>Q50_Part_4</th>\n",
              "      <th>Q50_Part_5</th>\n",
              "      <th>Q50_Part_6</th>\n",
              "      <th>Q50_Part_7</th>\n",
              "      <th>Q50_Part_8</th>\n",
              "    </tr>\n",
              "  </thead>\n",
              "  <tbody>\n",
              "    <tr>\n",
              "      <th>0</th>\n",
              "      <td>718</td>\n",
              "      <td>Female</td>\n",
              "      <td>30-34</td>\n",
              "      <td>NorthAmerica</td>\n",
              "      <td>Master’s degree</td>\n",
              "      <td>Computer science (software engineering, etc.)</td>\n",
              "      <td>Student</td>\n",
              "      <td>Student</td>\n",
              "      <td>0-1</td>\n",
              "      <td>0-10,000</td>\n",
              "      <td>I do not know</td>\n",
              "      <td>Analyze and understand data to influence produ...</td>\n",
              "      <td>NaN</td>\n",
              "      <td>NaN</td>\n",
              "      <td>NaN</td>\n",
              "      <td>NaN</td>\n",
              "      <td>NaN</td>\n",
              "      <td>NaN</td>\n",
              "      <td>-1</td>\n",
              "      <td>-1</td>\n",
              "      <td>-1</td>\n",
              "      <td>0</td>\n",
              "      <td>-1</td>\n",
              "      <td>NaN</td>\n",
              "      <td>NaN</td>\n",
              "      <td>NaN</td>\n",
              "      <td>NaN</td>\n",
              "      <td>NaN</td>\n",
              "      <td>NaN</td>\n",
              "      <td>MATLAB</td>\n",
              "      <td>NaN</td>\n",
              "      <td>NaN</td>\n",
              "      <td>NaN</td>\n",
              "      <td>NaN</td>\n",
              "      <td>NaN</td>\n",
              "      <td>NaN</td>\n",
              "      <td>NaN</td>\n",
              "      <td>NaN</td>\n",
              "      <td>NaN</td>\n",
              "      <td>NaN</td>\n",
              "      <td>...</td>\n",
              "      <td>NaN</td>\n",
              "      <td>NaN</td>\n",
              "      <td>10-20</td>\n",
              "      <td>NaN</td>\n",
              "      <td>Examine feature correlations</td>\n",
              "      <td>Examine feature importances</td>\n",
              "      <td>NaN</td>\n",
              "      <td>NaN</td>\n",
              "      <td>NaN</td>\n",
              "      <td>NaN</td>\n",
              "      <td>Plot predicted vs. actual results</td>\n",
              "      <td>NaN</td>\n",
              "      <td>NaN</td>\n",
              "      <td>NaN</td>\n",
              "      <td>NaN</td>\n",
              "      <td>NaN</td>\n",
              "      <td>NaN</td>\n",
              "      <td>NaN</td>\n",
              "      <td>NaN</td>\n",
              "      <td>I am confident that I can explain the outputs ...</td>\n",
              "      <td>NaN</td>\n",
              "      <td>NaN</td>\n",
              "      <td>NaN</td>\n",
              "      <td>NaN</td>\n",
              "      <td>NaN</td>\n",
              "      <td>NaN</td>\n",
              "      <td>Make sure the code is human-readable</td>\n",
              "      <td>Define all random seeds</td>\n",
              "      <td>NaN</td>\n",
              "      <td>Include a text file describing all dependencies</td>\n",
              "      <td>NaN</td>\n",
              "      <td>NaN</td>\n",
              "      <td>NaN</td>\n",
              "      <td>Too time-consuming</td>\n",
              "      <td>NaN</td>\n",
              "      <td>NaN</td>\n",
              "      <td>NaN</td>\n",
              "      <td>NaN</td>\n",
              "      <td>NaN</td>\n",
              "      <td>NaN</td>\n",
              "    </tr>\n",
              "    <tr>\n",
              "      <th>1</th>\n",
              "      <td>731</td>\n",
              "      <td>Male</td>\n",
              "      <td>22-24</td>\n",
              "      <td>Asia</td>\n",
              "      <td>Master’s degree</td>\n",
              "      <td>Mathematics or statistics</td>\n",
              "      <td>Student</td>\n",
              "      <td>Student</td>\n",
              "      <td>0-1</td>\n",
              "      <td>0-10,000</td>\n",
              "      <td>I do not know</td>\n",
              "      <td>NaN</td>\n",
              "      <td>NaN</td>\n",
              "      <td>NaN</td>\n",
              "      <td>NaN</td>\n",
              "      <td>NaN</td>\n",
              "      <td>NaN</td>\n",
              "      <td>Other</td>\n",
              "      <td>-1</td>\n",
              "      <td>1</td>\n",
              "      <td>-1</td>\n",
              "      <td>-1</td>\n",
              "      <td>-1</td>\n",
              "      <td>NaN</td>\n",
              "      <td>RStudio</td>\n",
              "      <td>NaN</td>\n",
              "      <td>NaN</td>\n",
              "      <td>NaN</td>\n",
              "      <td>NaN</td>\n",
              "      <td>NaN</td>\n",
              "      <td>NaN</td>\n",
              "      <td>NaN</td>\n",
              "      <td>NaN</td>\n",
              "      <td>NaN</td>\n",
              "      <td>NaN</td>\n",
              "      <td>NaN</td>\n",
              "      <td>NaN</td>\n",
              "      <td>NaN</td>\n",
              "      <td>NaN</td>\n",
              "      <td>NaN</td>\n",
              "      <td>...</td>\n",
              "      <td>NaN</td>\n",
              "      <td>NaN</td>\n",
              "      <td>20-30</td>\n",
              "      <td>NaN</td>\n",
              "      <td>NaN</td>\n",
              "      <td>NaN</td>\n",
              "      <td>NaN</td>\n",
              "      <td>Create partial dependence plots</td>\n",
              "      <td>NaN</td>\n",
              "      <td>NaN</td>\n",
              "      <td>NaN</td>\n",
              "      <td>NaN</td>\n",
              "      <td>NaN</td>\n",
              "      <td>NaN</td>\n",
              "      <td>NaN</td>\n",
              "      <td>NaN</td>\n",
              "      <td>NaN</td>\n",
              "      <td>NaN</td>\n",
              "      <td>NaN</td>\n",
              "      <td>I am confident that I can understand and expla...</td>\n",
              "      <td>NaN</td>\n",
              "      <td>NaN</td>\n",
              "      <td>NaN</td>\n",
              "      <td>NaN</td>\n",
              "      <td>NaN</td>\n",
              "      <td>NaN</td>\n",
              "      <td>NaN</td>\n",
              "      <td>NaN</td>\n",
              "      <td>Define relative rather than absolute file paths</td>\n",
              "      <td>NaN</td>\n",
              "      <td>NaN</td>\n",
              "      <td>NaN</td>\n",
              "      <td>NaN</td>\n",
              "      <td>Too time-consuming</td>\n",
              "      <td>NaN</td>\n",
              "      <td>NaN</td>\n",
              "      <td>Not enough incentives to share my work</td>\n",
              "      <td>NaN</td>\n",
              "      <td>NaN</td>\n",
              "      <td>NaN</td>\n",
              "    </tr>\n",
              "    <tr>\n",
              "      <th>2</th>\n",
              "      <td>1142</td>\n",
              "      <td>Male</td>\n",
              "      <td>25-29</td>\n",
              "      <td>SouthAmerica</td>\n",
              "      <td>Bachelor’s degree</td>\n",
              "      <td>Physics or astronomy</td>\n",
              "      <td>Data Scientist</td>\n",
              "      <td>Computers/Technology</td>\n",
              "      <td>0-1</td>\n",
              "      <td>I do not wish to disclose my approximate yearl...</td>\n",
              "      <td>We are exploring ML methods (and may one day p...</td>\n",
              "      <td>Analyze and understand data to influence produ...</td>\n",
              "      <td>NaN</td>\n",
              "      <td>NaN</td>\n",
              "      <td>Build prototypes to explore applying machine l...</td>\n",
              "      <td>Do research that advances the state of the art...</td>\n",
              "      <td>NaN</td>\n",
              "      <td>NaN</td>\n",
              "      <td>-1</td>\n",
              "      <td>-1</td>\n",
              "      <td>-1</td>\n",
              "      <td>2</td>\n",
              "      <td>-1</td>\n",
              "      <td>Jupyter/IPython</td>\n",
              "      <td>NaN</td>\n",
              "      <td>NaN</td>\n",
              "      <td>NaN</td>\n",
              "      <td>NaN</td>\n",
              "      <td>Atom</td>\n",
              "      <td>NaN</td>\n",
              "      <td>NaN</td>\n",
              "      <td>NaN</td>\n",
              "      <td>NaN</td>\n",
              "      <td>Vim</td>\n",
              "      <td>NaN</td>\n",
              "      <td>NaN</td>\n",
              "      <td>NaN</td>\n",
              "      <td>NaN</td>\n",
              "      <td>Kaggle Kernels</td>\n",
              "      <td>Google Colab</td>\n",
              "      <td>...</td>\n",
              "      <td>When first exploring a new ML model or dataset</td>\n",
              "      <td>NaN</td>\n",
              "      <td>0</td>\n",
              "      <td>NaN</td>\n",
              "      <td>Examine feature correlations</td>\n",
              "      <td>Examine feature importances</td>\n",
              "      <td>NaN</td>\n",
              "      <td>NaN</td>\n",
              "      <td>NaN</td>\n",
              "      <td>NaN</td>\n",
              "      <td>Plot predicted vs. actual results</td>\n",
              "      <td>NaN</td>\n",
              "      <td>NaN</td>\n",
              "      <td>NaN</td>\n",
              "      <td>NaN</td>\n",
              "      <td>NaN</td>\n",
              "      <td>NaN</td>\n",
              "      <td>NaN</td>\n",
              "      <td>NaN</td>\n",
              "      <td>I view ML models as \"black boxes\" but I am con...</td>\n",
              "      <td>Share code on Github or a similar code-sharing...</td>\n",
              "      <td>Share both data and code on Github or a simila...</td>\n",
              "      <td>Share data, code, and environment using a host...</td>\n",
              "      <td>NaN</td>\n",
              "      <td>Share code, data, and environment using virtua...</td>\n",
              "      <td>Make sure the code is well documented</td>\n",
              "      <td>Make sure the code is human-readable</td>\n",
              "      <td>NaN</td>\n",
              "      <td>NaN</td>\n",
              "      <td>Include a text file describing all dependencies</td>\n",
              "      <td>NaN</td>\n",
              "      <td>NaN</td>\n",
              "      <td>NaN</td>\n",
              "      <td>NaN</td>\n",
              "      <td>NaN</td>\n",
              "      <td>Afraid that others will use my work without gi...</td>\n",
              "      <td>NaN</td>\n",
              "      <td>I had never considered making my work easier f...</td>\n",
              "      <td>NaN</td>\n",
              "      <td>NaN</td>\n",
              "    </tr>\n",
              "    <tr>\n",
              "      <th>3</th>\n",
              "      <td>751</td>\n",
              "      <td>Male</td>\n",
              "      <td>30-34</td>\n",
              "      <td>Europe</td>\n",
              "      <td>Master’s degree</td>\n",
              "      <td>Engineering (non-computer focused)</td>\n",
              "      <td>Software Engineer</td>\n",
              "      <td>Online Service/Internet-based Services</td>\n",
              "      <td>3-4</td>\n",
              "      <td>20-30,000</td>\n",
              "      <td>We have well established ML methods (i.e., mod...</td>\n",
              "      <td>NaN</td>\n",
              "      <td>Build and/or run a machine learning service th...</td>\n",
              "      <td>Build and/or run the data infrastructure that ...</td>\n",
              "      <td>NaN</td>\n",
              "      <td>NaN</td>\n",
              "      <td>NaN</td>\n",
              "      <td>NaN</td>\n",
              "      <td>-1</td>\n",
              "      <td>-1</td>\n",
              "      <td>-1</td>\n",
              "      <td>4</td>\n",
              "      <td>-1</td>\n",
              "      <td>Jupyter/IPython</td>\n",
              "      <td>NaN</td>\n",
              "      <td>PyCharm</td>\n",
              "      <td>Visual Studio Code</td>\n",
              "      <td>NaN</td>\n",
              "      <td>NaN</td>\n",
              "      <td>NaN</td>\n",
              "      <td>Visual Studio</td>\n",
              "      <td>NaN</td>\n",
              "      <td>Sublime Text</td>\n",
              "      <td>NaN</td>\n",
              "      <td>IntelliJ</td>\n",
              "      <td>NaN</td>\n",
              "      <td>NaN</td>\n",
              "      <td>NaN</td>\n",
              "      <td>Kaggle Kernels</td>\n",
              "      <td>NaN</td>\n",
              "      <td>...</td>\n",
              "      <td>When first exploring a new ML model or dataset</td>\n",
              "      <td>NaN</td>\n",
              "      <td>50-60</td>\n",
              "      <td>NaN</td>\n",
              "      <td>Examine feature correlations</td>\n",
              "      <td>NaN</td>\n",
              "      <td>NaN</td>\n",
              "      <td>NaN</td>\n",
              "      <td>Dimensionality reduction techniques</td>\n",
              "      <td>NaN</td>\n",
              "      <td>Plot predicted vs. actual results</td>\n",
              "      <td>Print out a decision tree</td>\n",
              "      <td>NaN</td>\n",
              "      <td>NaN</td>\n",
              "      <td>NaN</td>\n",
              "      <td>NaN</td>\n",
              "      <td>NaN</td>\n",
              "      <td>NaN</td>\n",
              "      <td>NaN</td>\n",
              "      <td>I am confident that I can understand and expla...</td>\n",
              "      <td>NaN</td>\n",
              "      <td>NaN</td>\n",
              "      <td>Share data, code, and environment using a host...</td>\n",
              "      <td>NaN</td>\n",
              "      <td>NaN</td>\n",
              "      <td>Make sure the code is well documented</td>\n",
              "      <td>Make sure the code is human-readable</td>\n",
              "      <td>Define all random seeds</td>\n",
              "      <td>NaN</td>\n",
              "      <td>Include a text file describing all dependencies</td>\n",
              "      <td>NaN</td>\n",
              "      <td>NaN</td>\n",
              "      <td>NaN</td>\n",
              "      <td>Too time-consuming</td>\n",
              "      <td>NaN</td>\n",
              "      <td>Afraid that others will use my work without gi...</td>\n",
              "      <td>NaN</td>\n",
              "      <td>NaN</td>\n",
              "      <td>NaN</td>\n",
              "      <td>NaN</td>\n",
              "    </tr>\n",
              "    <tr>\n",
              "      <th>4</th>\n",
              "      <td>2028</td>\n",
              "      <td>Male</td>\n",
              "      <td>22-24</td>\n",
              "      <td>Europe</td>\n",
              "      <td>Bachelor’s degree</td>\n",
              "      <td>Information technology, networking, or system ...</td>\n",
              "      <td>Student</td>\n",
              "      <td>Student</td>\n",
              "      <td>3-4</td>\n",
              "      <td>I do not wish to disclose my approximate yearl...</td>\n",
              "      <td>I do not know</td>\n",
              "      <td>NaN</td>\n",
              "      <td>NaN</td>\n",
              "      <td>NaN</td>\n",
              "      <td>NaN</td>\n",
              "      <td>NaN</td>\n",
              "      <td>None of these activities are an important part...</td>\n",
              "      <td>NaN</td>\n",
              "      <td>-1</td>\n",
              "      <td>2</td>\n",
              "      <td>-1</td>\n",
              "      <td>-1</td>\n",
              "      <td>-1</td>\n",
              "      <td>Jupyter/IPython</td>\n",
              "      <td>RStudio</td>\n",
              "      <td>NaN</td>\n",
              "      <td>Visual Studio Code</td>\n",
              "      <td>NaN</td>\n",
              "      <td>Atom</td>\n",
              "      <td>NaN</td>\n",
              "      <td>NaN</td>\n",
              "      <td>NaN</td>\n",
              "      <td>NaN</td>\n",
              "      <td>NaN</td>\n",
              "      <td>NaN</td>\n",
              "      <td>Spyder</td>\n",
              "      <td>NaN</td>\n",
              "      <td>NaN</td>\n",
              "      <td>Kaggle Kernels</td>\n",
              "      <td>NaN</td>\n",
              "      <td>...</td>\n",
              "      <td>NaN</td>\n",
              "      <td>I do not explore and interpret model insights ...</td>\n",
              "      <td>0-10</td>\n",
              "      <td>NaN</td>\n",
              "      <td>NaN</td>\n",
              "      <td>NaN</td>\n",
              "      <td>NaN</td>\n",
              "      <td>NaN</td>\n",
              "      <td>NaN</td>\n",
              "      <td>NaN</td>\n",
              "      <td>NaN</td>\n",
              "      <td>NaN</td>\n",
              "      <td>NaN</td>\n",
              "      <td>NaN</td>\n",
              "      <td>ELI5 functions</td>\n",
              "      <td>NaN</td>\n",
              "      <td>NaN</td>\n",
              "      <td>NaN</td>\n",
              "      <td>NaN</td>\n",
              "      <td>I do not know; I have no opinion on the matter</td>\n",
              "      <td>Share code on Github or a similar code-sharing...</td>\n",
              "      <td>NaN</td>\n",
              "      <td>NaN</td>\n",
              "      <td>NaN</td>\n",
              "      <td>NaN</td>\n",
              "      <td>Make sure the code is well documented</td>\n",
              "      <td>Make sure the code is human-readable</td>\n",
              "      <td>Define all random seeds</td>\n",
              "      <td>NaN</td>\n",
              "      <td>NaN</td>\n",
              "      <td>NaN</td>\n",
              "      <td>NaN</td>\n",
              "      <td>NaN</td>\n",
              "      <td>Too time-consuming</td>\n",
              "      <td>NaN</td>\n",
              "      <td>NaN</td>\n",
              "      <td>NaN</td>\n",
              "      <td>NaN</td>\n",
              "      <td>NaN</td>\n",
              "      <td>NaN</td>\n",
              "    </tr>\n",
              "  </tbody>\n",
              "</table>\n",
              "<p>5 rows × 346 columns</p>\n",
              "</div>"
            ],
            "text/plain": [
              "   duration  gender  ... Q50_Part_7 Q50_Part_8\n",
              "0       718  Female  ...        NaN        NaN\n",
              "1       731    Male  ...        NaN        NaN\n",
              "2      1142    Male  ...        NaN        NaN\n",
              "3       751    Male  ...        NaN        NaN\n",
              "4      2028    Male  ...        NaN        NaN\n",
              "\n",
              "[5 rows x 346 columns]"
            ]
          },
          "metadata": {
            "tags": []
          },
          "execution_count": 5
        }
      ]
    },
    {
      "cell_type": "code",
      "metadata": {
        "id": "gErVWdThqvl9",
        "colab_type": "code",
        "colab": {}
      },
      "source": [
        "from pandas.api.types import CategoricalDtype"
      ],
      "execution_count": null,
      "outputs": []
    },
    {
      "cell_type": "code",
      "metadata": {
        "id": "ZQ30MZyuqwqf",
        "colab_type": "code",
        "colab": {
          "base_uri": "https://localhost:8080/",
          "height": 230
        },
        "outputId": "1aec4e30-00ea-448c-e6de-9358205c351e"
      },
      "source": [
        "multiple.dtypes"
      ],
      "execution_count": null,
      "outputs": [
        {
          "output_type": "execute_result",
          "data": {
            "text/plain": [
              "duration       int64\n",
              "gender        object\n",
              "Age           object\n",
              "country       object\n",
              "degree        object\n",
              "               ...  \n",
              "Q50_Part_4    object\n",
              "Q50_Part_5    object\n",
              "Q50_Part_6    object\n",
              "Q50_Part_7    object\n",
              "Q50_Part_8    object\n",
              "Length: 346, dtype: object"
            ]
          },
          "metadata": {
            "tags": []
          },
          "execution_count": 11
        }
      ]
    },
    {
      "cell_type": "code",
      "metadata": {
        "id": "g4IFe65-Fubp",
        "colab_type": "code",
        "colab": {
          "base_uri": "https://localhost:8080/",
          "height": 124
        },
        "outputId": "5e6a6faa-0a23-4b4d-e8f4-8ce86e8bbb0c"
      },
      "source": [
        "multiple.columns"
      ],
      "execution_count": null,
      "outputs": [
        {
          "output_type": "execute_result",
          "data": {
            "text/plain": [
              "Index(['duration', 'gender', 'Age', 'country', 'degree', 'undergraduate_major',\n",
              "       'Role', 'industry', 'Experience', 'value',\n",
              "       ...\n",
              "       'Q49_Part_11', 'Q49_Part_12', 'Q50_Part_1', 'Q50_Part_2', 'Q50_Part_3',\n",
              "       'Q50_Part_4', 'Q50_Part_5', 'Q50_Part_6', 'Q50_Part_7', 'Q50_Part_8'],\n",
              "      dtype='object', length=346)"
            ]
          },
          "metadata": {
            "tags": []
          },
          "execution_count": 12
        }
      ]
    },
    {
      "cell_type": "code",
      "metadata": {
        "id": "mLXlFpHuQuOS",
        "colab_type": "code",
        "colab": {
          "base_uri": "https://localhost:8080/",
          "height": 399
        },
        "outputId": "a03a6c8c-f24b-423f-e440-d98345eb303d"
      },
      "source": [
        "multiple.iloc[:,319:321]"
      ],
      "execution_count": null,
      "outputs": [
        {
          "output_type": "execute_result",
          "data": {
            "text/html": [
              "<div>\n",
              "<style scoped>\n",
              "    .dataframe tbody tr th:only-of-type {\n",
              "        vertical-align: middle;\n",
              "    }\n",
              "\n",
              "    .dataframe tbody tr th {\n",
              "        vertical-align: top;\n",
              "    }\n",
              "\n",
              "    .dataframe thead th {\n",
              "        text-align: right;\n",
              "    }\n",
              "</style>\n",
              "<table border=\"1\" class=\"dataframe\">\n",
              "  <thead>\n",
              "    <tr style=\"text-align: right;\">\n",
              "      <th></th>\n",
              "      <th>Q47_Part_11</th>\n",
              "      <th>Q47_Part_12</th>\n",
              "    </tr>\n",
              "  </thead>\n",
              "  <tbody>\n",
              "    <tr>\n",
              "      <th>0</th>\n",
              "      <td>NaN</td>\n",
              "      <td>NaN</td>\n",
              "    </tr>\n",
              "    <tr>\n",
              "      <th>1</th>\n",
              "      <td>NaN</td>\n",
              "      <td>NaN</td>\n",
              "    </tr>\n",
              "    <tr>\n",
              "      <th>2</th>\n",
              "      <td>NaN</td>\n",
              "      <td>NaN</td>\n",
              "    </tr>\n",
              "    <tr>\n",
              "      <th>3</th>\n",
              "      <td>NaN</td>\n",
              "      <td>NaN</td>\n",
              "    </tr>\n",
              "    <tr>\n",
              "      <th>4</th>\n",
              "      <td>NaN</td>\n",
              "      <td>ELI5 functions</td>\n",
              "    </tr>\n",
              "    <tr>\n",
              "      <th>...</th>\n",
              "      <td>...</td>\n",
              "      <td>...</td>\n",
              "    </tr>\n",
              "    <tr>\n",
              "      <th>14087</th>\n",
              "      <td>NaN</td>\n",
              "      <td>NaN</td>\n",
              "    </tr>\n",
              "    <tr>\n",
              "      <th>14088</th>\n",
              "      <td>NaN</td>\n",
              "      <td>NaN</td>\n",
              "    </tr>\n",
              "    <tr>\n",
              "      <th>14089</th>\n",
              "      <td>NaN</td>\n",
              "      <td>NaN</td>\n",
              "    </tr>\n",
              "    <tr>\n",
              "      <th>14090</th>\n",
              "      <td>NaN</td>\n",
              "      <td>NaN</td>\n",
              "    </tr>\n",
              "    <tr>\n",
              "      <th>14091</th>\n",
              "      <td>NaN</td>\n",
              "      <td>NaN</td>\n",
              "    </tr>\n",
              "  </tbody>\n",
              "</table>\n",
              "<p>14092 rows × 2 columns</p>\n",
              "</div>"
            ],
            "text/plain": [
              "      Q47_Part_11     Q47_Part_12\n",
              "0             NaN             NaN\n",
              "1             NaN             NaN\n",
              "2             NaN             NaN\n",
              "3             NaN             NaN\n",
              "4             NaN  ELI5 functions\n",
              "...           ...             ...\n",
              "14087         NaN             NaN\n",
              "14088         NaN             NaN\n",
              "14089         NaN             NaN\n",
              "14090         NaN             NaN\n",
              "14091         NaN             NaN\n",
              "\n",
              "[14092 rows x 2 columns]"
            ]
          },
          "metadata": {
            "tags": []
          },
          "execution_count": 13
        }
      ]
    },
    {
      "cell_type": "code",
      "metadata": {
        "id": "NNb9b2UhW7Rd",
        "colab_type": "code",
        "colab": {}
      },
      "source": [
        "question = multiple.columns"
      ],
      "execution_count": null,
      "outputs": []
    },
    {
      "cell_type": "code",
      "metadata": {
        "id": "eqacvaviZTXG",
        "colab_type": "code",
        "colab": {
          "base_uri": "https://localhost:8080/",
          "height": 124
        },
        "outputId": "322f8463-3d75-471d-f7c3-a00b7061c915"
      },
      "source": [
        "question[100:300]"
      ],
      "execution_count": null,
      "outputs": [
        {
          "output_type": "execute_result",
          "data": {
            "text/plain": [
              "Index(['Q21_Part_8', 'Q21_Part_9', 'Q21_Part_10', 'Q21_Part_11', 'Q21_Part_12',\n",
              "       'Q21_Part_13', 'Q23', 'Q24', 'Q25', 'confidence',\n",
              "       ...\n",
              "       'Q42_Part_1', 'Q42_Part_2', 'Q42_Part_3', 'Q42_Part_4', 'Q42_Part_5',\n",
              "       'Q43', 'Q44_Part_1', 'Q44_Part_2', 'Q44_Part_3', 'Q44_Part_4'],\n",
              "      dtype='object', length=200)"
            ]
          },
          "metadata": {
            "tags": []
          },
          "execution_count": 16
        }
      ]
    },
    {
      "cell_type": "code",
      "metadata": {
        "id": "RnLr4mbVlRVC",
        "colab_type": "code",
        "colab": {
          "base_uri": "https://localhost:8080/",
          "height": 212
        },
        "outputId": "86a498b9-a1fd-42d9-8a32-a985c3673087"
      },
      "source": [
        "multiple.dtypes[10:20]"
      ],
      "execution_count": null,
      "outputs": [
        {
          "output_type": "execute_result",
          "data": {
            "text/plain": [
              "Q10                object\n",
              "Q11_Part_1         object\n",
              "Q11_Part_2         object\n",
              "Q11_Part_3         object\n",
              "Q11_Part_4         object\n",
              "Q11_Part_5         object\n",
              "Q11_Part_6         object\n",
              "Q11_Part_7         object\n",
              "Q12_Part_1_TEXT     int64\n",
              "Q12_Part_2_TEXT     int64\n",
              "dtype: object"
            ]
          },
          "metadata": {
            "tags": []
          },
          "execution_count": 17
        }
      ]
    },
    {
      "cell_type": "markdown",
      "metadata": {
        "id": "4yF_oQ2nadgS",
        "colab_type": "text"
      },
      "source": [
        "## One Hot Encoding : "
      ]
    },
    {
      "cell_type": "code",
      "metadata": {
        "id": "eAdkVUGcatqH",
        "colab_type": "code",
        "colab": {
          "base_uri": "https://localhost:8080/",
          "height": 52
        },
        "outputId": "9e503b28-7502-42ac-e083-c8982683e2fb"
      },
      "source": [
        "import matplotlib.pyplot as plt\n",
        "import seaborn as sns\n",
        "from sklearn import preprocessing\n",
        "sns.set_style('dark')"
      ],
      "execution_count": null,
      "outputs": [
        {
          "output_type": "stream",
          "text": [
            "/usr/local/lib/python3.6/dist-packages/statsmodels/tools/_testing.py:19: FutureWarning: pandas.util.testing is deprecated. Use the functions in the public API at pandas.testing instead.\n",
            "  import pandas.util.testing as tm\n"
          ],
          "name": "stderr"
        }
      ]
    },
    {
      "cell_type": "markdown",
      "metadata": {
        "id": "yE41i-BBagRV",
        "colab_type": "text"
      },
      "source": [
        "* Role : "
      ]
    },
    {
      "cell_type": "code",
      "metadata": {
        "id": "ioYrpx-kSRgc",
        "colab_type": "code",
        "colab": {
          "base_uri": "https://localhost:8080/",
          "height": 35
        },
        "outputId": "5ca4e5ed-3441-413d-8896-247f1164eb3b"
      },
      "source": [
        "len(multiple.Role[multiple.Role.isna()])"
      ],
      "execution_count": null,
      "outputs": [
        {
          "output_type": "execute_result",
          "data": {
            "text/plain": [
              "0"
            ]
          },
          "metadata": {
            "tags": []
          },
          "execution_count": 19
        }
      ]
    },
    {
      "cell_type": "code",
      "metadata": {
        "id": "gnsUeoD3SRbf",
        "colab_type": "code",
        "colab": {}
      },
      "source": [
        "roledummy = pd.get_dummies(multiple.Role)"
      ],
      "execution_count": null,
      "outputs": []
    },
    {
      "cell_type": "code",
      "metadata": {
        "id": "lbDAAUhN-8L5",
        "colab_type": "code",
        "colab": {
          "base_uri": "https://localhost:8080/",
          "height": 194
        },
        "outputId": "59eff7ef-e801-40d4-86b3-b02870bd3404"
      },
      "source": [
        "roledummy.head()"
      ],
      "execution_count": null,
      "outputs": [
        {
          "output_type": "execute_result",
          "data": {
            "text/html": [
              "<div>\n",
              "<style scoped>\n",
              "    .dataframe tbody tr th:only-of-type {\n",
              "        vertical-align: middle;\n",
              "    }\n",
              "\n",
              "    .dataframe tbody tr th {\n",
              "        vertical-align: top;\n",
              "    }\n",
              "\n",
              "    .dataframe thead th {\n",
              "        text-align: right;\n",
              "    }\n",
              "</style>\n",
              "<table border=\"1\" class=\"dataframe\">\n",
              "  <thead>\n",
              "    <tr style=\"text-align: right;\">\n",
              "      <th></th>\n",
              "      <th>Business Analyst</th>\n",
              "      <th>Data Analyst</th>\n",
              "      <th>Data Engineer/DBA</th>\n",
              "      <th>Data Scientist</th>\n",
              "      <th>Software Engineer</th>\n",
              "      <th>Statistician/Research Scientist</th>\n",
              "      <th>Student</th>\n",
              "    </tr>\n",
              "  </thead>\n",
              "  <tbody>\n",
              "    <tr>\n",
              "      <th>0</th>\n",
              "      <td>0</td>\n",
              "      <td>0</td>\n",
              "      <td>0</td>\n",
              "      <td>0</td>\n",
              "      <td>0</td>\n",
              "      <td>0</td>\n",
              "      <td>1</td>\n",
              "    </tr>\n",
              "    <tr>\n",
              "      <th>1</th>\n",
              "      <td>0</td>\n",
              "      <td>0</td>\n",
              "      <td>0</td>\n",
              "      <td>0</td>\n",
              "      <td>0</td>\n",
              "      <td>0</td>\n",
              "      <td>1</td>\n",
              "    </tr>\n",
              "    <tr>\n",
              "      <th>2</th>\n",
              "      <td>0</td>\n",
              "      <td>0</td>\n",
              "      <td>0</td>\n",
              "      <td>1</td>\n",
              "      <td>0</td>\n",
              "      <td>0</td>\n",
              "      <td>0</td>\n",
              "    </tr>\n",
              "    <tr>\n",
              "      <th>3</th>\n",
              "      <td>0</td>\n",
              "      <td>0</td>\n",
              "      <td>0</td>\n",
              "      <td>0</td>\n",
              "      <td>1</td>\n",
              "      <td>0</td>\n",
              "      <td>0</td>\n",
              "    </tr>\n",
              "    <tr>\n",
              "      <th>4</th>\n",
              "      <td>0</td>\n",
              "      <td>0</td>\n",
              "      <td>0</td>\n",
              "      <td>0</td>\n",
              "      <td>0</td>\n",
              "      <td>0</td>\n",
              "      <td>1</td>\n",
              "    </tr>\n",
              "  </tbody>\n",
              "</table>\n",
              "</div>"
            ],
            "text/plain": [
              "   Business Analyst  Data Analyst  ...  Statistician/Research Scientist  Student\n",
              "0                 0             0  ...                                0        1\n",
              "1                 0             0  ...                                0        1\n",
              "2                 0             0  ...                                0        0\n",
              "3                 0             0  ...                                0        0\n",
              "4                 0             0  ...                                0        1\n",
              "\n",
              "[5 rows x 7 columns]"
            ]
          },
          "metadata": {
            "tags": []
          },
          "execution_count": 21
        }
      ]
    },
    {
      "cell_type": "markdown",
      "metadata": {
        "id": "D8JYY5DSbb0o",
        "colab_type": "text"
      },
      "source": [
        "* Q1 - Q10 - gender"
      ]
    },
    {
      "cell_type": "code",
      "metadata": {
        "id": "Tyxu1Ga0SRVk",
        "colab_type": "code",
        "colab": {
          "base_uri": "https://localhost:8080/",
          "height": 52
        },
        "outputId": "c26f6e16-186d-4c75-ea11-02ff81e28df8"
      },
      "source": [
        "multiple.gender.unique()"
      ],
      "execution_count": null,
      "outputs": [
        {
          "output_type": "execute_result",
          "data": {
            "text/plain": [
              "array(['Female', 'Male', 'Prefer not to say', 'Prefer to self-describe'],\n",
              "      dtype=object)"
            ]
          },
          "metadata": {
            "tags": []
          },
          "execution_count": 22
        }
      ]
    },
    {
      "cell_type": "code",
      "metadata": {
        "id": "bY-dM_1VSRTr",
        "colab_type": "code",
        "colab": {}
      },
      "source": [
        "sex = pd.get_dummies(multiple.gender).iloc[:,:2]\n",
        "sex.columns=list(map(lambda x:'1_'+x,sex.columns))"
      ],
      "execution_count": null,
      "outputs": []
    },
    {
      "cell_type": "code",
      "metadata": {
        "id": "_uMr0wl3cAqa",
        "colab_type": "code",
        "colab": {
          "base_uri": "https://localhost:8080/",
          "height": 311
        },
        "outputId": "a3672525-2611-4eab-9935-16d6e69edac4"
      },
      "source": [
        "sex[1:10]"
      ],
      "execution_count": null,
      "outputs": [
        {
          "output_type": "execute_result",
          "data": {
            "text/html": [
              "<div>\n",
              "<style scoped>\n",
              "    .dataframe tbody tr th:only-of-type {\n",
              "        vertical-align: middle;\n",
              "    }\n",
              "\n",
              "    .dataframe tbody tr th {\n",
              "        vertical-align: top;\n",
              "    }\n",
              "\n",
              "    .dataframe thead th {\n",
              "        text-align: right;\n",
              "    }\n",
              "</style>\n",
              "<table border=\"1\" class=\"dataframe\">\n",
              "  <thead>\n",
              "    <tr style=\"text-align: right;\">\n",
              "      <th></th>\n",
              "      <th>1_Female</th>\n",
              "      <th>1_Male</th>\n",
              "    </tr>\n",
              "  </thead>\n",
              "  <tbody>\n",
              "    <tr>\n",
              "      <th>1</th>\n",
              "      <td>0</td>\n",
              "      <td>1</td>\n",
              "    </tr>\n",
              "    <tr>\n",
              "      <th>2</th>\n",
              "      <td>0</td>\n",
              "      <td>1</td>\n",
              "    </tr>\n",
              "    <tr>\n",
              "      <th>3</th>\n",
              "      <td>0</td>\n",
              "      <td>1</td>\n",
              "    </tr>\n",
              "    <tr>\n",
              "      <th>4</th>\n",
              "      <td>0</td>\n",
              "      <td>1</td>\n",
              "    </tr>\n",
              "    <tr>\n",
              "      <th>5</th>\n",
              "      <td>0</td>\n",
              "      <td>1</td>\n",
              "    </tr>\n",
              "    <tr>\n",
              "      <th>6</th>\n",
              "      <td>0</td>\n",
              "      <td>1</td>\n",
              "    </tr>\n",
              "    <tr>\n",
              "      <th>7</th>\n",
              "      <td>0</td>\n",
              "      <td>1</td>\n",
              "    </tr>\n",
              "    <tr>\n",
              "      <th>8</th>\n",
              "      <td>1</td>\n",
              "      <td>0</td>\n",
              "    </tr>\n",
              "    <tr>\n",
              "      <th>9</th>\n",
              "      <td>0</td>\n",
              "      <td>1</td>\n",
              "    </tr>\n",
              "  </tbody>\n",
              "</table>\n",
              "</div>"
            ],
            "text/plain": [
              "   1_Female  1_Male\n",
              "1         0       1\n",
              "2         0       1\n",
              "3         0       1\n",
              "4         0       1\n",
              "5         0       1\n",
              "6         0       1\n",
              "7         0       1\n",
              "8         1       0\n",
              "9         0       1"
            ]
          },
          "metadata": {
            "tags": []
          },
          "execution_count": 24
        }
      ]
    },
    {
      "cell_type": "code",
      "metadata": {
        "id": "P_6aR5SScNI6",
        "colab_type": "code",
        "colab": {
          "base_uri": "https://localhost:8080/",
          "height": 124
        },
        "outputId": "5566d2e9-ac0d-4f90-8b95-e570cb635c8e"
      },
      "source": [
        "ndata = multiple.iloc[:,0]\n",
        "ndata.head()"
      ],
      "execution_count": null,
      "outputs": [
        {
          "output_type": "execute_result",
          "data": {
            "text/plain": [
              "0     718\n",
              "1     731\n",
              "2    1142\n",
              "3     751\n",
              "4    2028\n",
              "Name: duration, dtype: int64"
            ]
          },
          "metadata": {
            "tags": []
          },
          "execution_count": 25
        }
      ]
    },
    {
      "cell_type": "code",
      "metadata": {
        "id": "S6yNnOgcSRRR",
        "colab_type": "code",
        "colab": {
          "base_uri": "https://localhost:8080/",
          "height": 194
        },
        "outputId": "c7091c01-0f9c-448f-dfda-ae1a108b75e7"
      },
      "source": [
        "ndata = pd.concat([ndata,sex],axis=1)\n",
        "ndata.head()"
      ],
      "execution_count": null,
      "outputs": [
        {
          "output_type": "execute_result",
          "data": {
            "text/html": [
              "<div>\n",
              "<style scoped>\n",
              "    .dataframe tbody tr th:only-of-type {\n",
              "        vertical-align: middle;\n",
              "    }\n",
              "\n",
              "    .dataframe tbody tr th {\n",
              "        vertical-align: top;\n",
              "    }\n",
              "\n",
              "    .dataframe thead th {\n",
              "        text-align: right;\n",
              "    }\n",
              "</style>\n",
              "<table border=\"1\" class=\"dataframe\">\n",
              "  <thead>\n",
              "    <tr style=\"text-align: right;\">\n",
              "      <th></th>\n",
              "      <th>duration</th>\n",
              "      <th>1_Female</th>\n",
              "      <th>1_Male</th>\n",
              "    </tr>\n",
              "  </thead>\n",
              "  <tbody>\n",
              "    <tr>\n",
              "      <th>0</th>\n",
              "      <td>718</td>\n",
              "      <td>1</td>\n",
              "      <td>0</td>\n",
              "    </tr>\n",
              "    <tr>\n",
              "      <th>1</th>\n",
              "      <td>731</td>\n",
              "      <td>0</td>\n",
              "      <td>1</td>\n",
              "    </tr>\n",
              "    <tr>\n",
              "      <th>2</th>\n",
              "      <td>1142</td>\n",
              "      <td>0</td>\n",
              "      <td>1</td>\n",
              "    </tr>\n",
              "    <tr>\n",
              "      <th>3</th>\n",
              "      <td>751</td>\n",
              "      <td>0</td>\n",
              "      <td>1</td>\n",
              "    </tr>\n",
              "    <tr>\n",
              "      <th>4</th>\n",
              "      <td>2028</td>\n",
              "      <td>0</td>\n",
              "      <td>1</td>\n",
              "    </tr>\n",
              "  </tbody>\n",
              "</table>\n",
              "</div>"
            ],
            "text/plain": [
              "   duration  1_Female  1_Male\n",
              "0       718         1       0\n",
              "1       731         0       1\n",
              "2      1142         0       1\n",
              "3       751         0       1\n",
              "4      2028         0       1"
            ]
          },
          "metadata": {
            "tags": []
          },
          "execution_count": 26
        }
      ]
    },
    {
      "cell_type": "markdown",
      "metadata": {
        "id": "NaWtbjUccYsa",
        "colab_type": "text"
      },
      "source": [
        "* Q1 - Q10 : 나이"
      ]
    },
    {
      "cell_type": "code",
      "metadata": {
        "id": "EXJUMRT3xUdj",
        "colab_type": "code",
        "colab": {
          "base_uri": "https://localhost:8080/",
          "height": 52
        },
        "outputId": "4e7c4cc1-675b-4737-eff9-e7d7581a1009"
      },
      "source": [
        "multiple.Age.unique()"
      ],
      "execution_count": null,
      "outputs": [
        {
          "output_type": "execute_result",
          "data": {
            "text/plain": [
              "array(['30-34', '22-24', '25-29', '40-44', '55-59', '18-21', '35-39',\n",
              "       '45-49', '60-69', '50-54', '80+', '70-79'], dtype=object)"
            ]
          },
          "metadata": {
            "tags": []
          },
          "execution_count": 27
        }
      ]
    },
    {
      "cell_type": "code",
      "metadata": {
        "id": "oKylOKUWw7QV",
        "colab_type": "code",
        "colab": {}
      },
      "source": [
        "q2=pd.get_dummies(multiple.Age)\n",
        "q2.columns=list(map(lambda x: '2_'+x,q2.columns))\n",
        "ndata = pd.concat([ndata,q2],axis=1)"
      ],
      "execution_count": null,
      "outputs": []
    },
    {
      "cell_type": "markdown",
      "metadata": {
        "id": "NJO_cRVhc6Ui",
        "colab_type": "text"
      },
      "source": [
        "country - one hot encoding "
      ]
    },
    {
      "cell_type": "code",
      "metadata": {
        "id": "Q2QabtcPcy5z",
        "colab_type": "code",
        "colab": {
          "base_uri": "https://localhost:8080/",
          "height": 52
        },
        "outputId": "0a9f1e0b-aa81-4b45-a529-5aea2143d0dd"
      },
      "source": [
        "multiple.country.unique()"
      ],
      "execution_count": null,
      "outputs": [
        {
          "output_type": "execute_result",
          "data": {
            "text/plain": [
              "array(['NorthAmerica', 'Asia', 'SouthAmerica', 'Europe', 'Africa',\n",
              "       'Oceania', nan], dtype=object)"
            ]
          },
          "metadata": {
            "tags": []
          },
          "execution_count": 29
        }
      ]
    },
    {
      "cell_type": "code",
      "metadata": {
        "id": "Vurq6uGecy2j",
        "colab_type": "code",
        "colab": {}
      },
      "source": [
        "q3=pd.get_dummies(multiple.country)"
      ],
      "execution_count": null,
      "outputs": []
    },
    {
      "cell_type": "code",
      "metadata": {
        "id": "Wdun-nhhcy1b",
        "colab_type": "code",
        "colab": {}
      },
      "source": [
        "q3.columns=list(map(lambda x: '3_'+x,q3.columns))\n",
        "ndata = pd.concat([ndata,q3],axis=1)"
      ],
      "execution_count": null,
      "outputs": []
    },
    {
      "cell_type": "code",
      "metadata": {
        "id": "Hc2ipYIicyyo",
        "colab_type": "code",
        "colab": {
          "base_uri": "https://localhost:8080/",
          "height": 515
        },
        "outputId": "d75d73c2-fae3-4986-8b5c-b807207a01bf"
      },
      "source": [
        "ndata.info()"
      ],
      "execution_count": null,
      "outputs": [
        {
          "output_type": "stream",
          "text": [
            "<class 'pandas.core.frame.DataFrame'>\n",
            "RangeIndex: 14092 entries, 0 to 14091\n",
            "Data columns (total 21 columns):\n",
            " #   Column          Non-Null Count  Dtype\n",
            "---  ------          --------------  -----\n",
            " 0   duration        14092 non-null  int64\n",
            " 1   1_Female        14092 non-null  uint8\n",
            " 2   1_Male          14092 non-null  uint8\n",
            " 3   2_18-21         14092 non-null  uint8\n",
            " 4   2_22-24         14092 non-null  uint8\n",
            " 5   2_25-29         14092 non-null  uint8\n",
            " 6   2_30-34         14092 non-null  uint8\n",
            " 7   2_35-39         14092 non-null  uint8\n",
            " 8   2_40-44         14092 non-null  uint8\n",
            " 9   2_45-49         14092 non-null  uint8\n",
            " 10  2_50-54         14092 non-null  uint8\n",
            " 11  2_55-59         14092 non-null  uint8\n",
            " 12  2_60-69         14092 non-null  uint8\n",
            " 13  2_70-79         14092 non-null  uint8\n",
            " 14  2_80+           14092 non-null  uint8\n",
            " 15  3_Africa        14092 non-null  uint8\n",
            " 16  3_Asia          14092 non-null  uint8\n",
            " 17  3_Europe        14092 non-null  uint8\n",
            " 18  3_NorthAmerica  14092 non-null  uint8\n",
            " 19  3_Oceania       14092 non-null  uint8\n",
            " 20  3_SouthAmerica  14092 non-null  uint8\n",
            "dtypes: int64(1), uint8(20)\n",
            "memory usage: 385.5 KB\n"
          ],
          "name": "stdout"
        }
      ]
    },
    {
      "cell_type": "markdown",
      "metadata": {
        "id": "bjKK4l_BdL63",
        "colab_type": "text"
      },
      "source": [
        "Degree - 교육수준 one hot encoding! "
      ]
    },
    {
      "cell_type": "code",
      "metadata": {
        "id": "d98drbv1cyxF",
        "colab_type": "code",
        "colab": {
          "base_uri": "https://localhost:8080/",
          "height": 88
        },
        "outputId": "f18e0345-aa6b-41dc-cb91-bd5db47b5539"
      },
      "source": [
        "multiple.degree.unique()"
      ],
      "execution_count": null,
      "outputs": [
        {
          "output_type": "execute_result",
          "data": {
            "text/plain": [
              "array(['Master’s degree', 'Bachelor’s degree', 'Doctoral degree',\n",
              "       'Some college/university study without earning a bachelor’s degree',\n",
              "       'Professional degree', 'No formal education past high school'],\n",
              "      dtype=object)"
            ]
          },
          "metadata": {
            "tags": []
          },
          "execution_count": 33
        }
      ]
    },
    {
      "cell_type": "code",
      "metadata": {
        "id": "AKPxqzq1cyun",
        "colab_type": "code",
        "colab": {}
      },
      "source": [
        "q4 = pd.get_dummies(multiple.degree)\n",
        "q4.columns=list(map(lambda x: '4_'+x,q4.columns))\n",
        "ndata = pd.concat([ndata,q4],axis=1)"
      ],
      "execution_count": null,
      "outputs": []
    },
    {
      "cell_type": "markdown",
      "metadata": {
        "id": "S9p5tdTR_XUg",
        "colab_type": "text"
      },
      "source": [
        "* Role 추가 "
      ]
    },
    {
      "cell_type": "code",
      "metadata": {
        "id": "jLyWCDqu_Yl5",
        "colab_type": "code",
        "colab": {}
      },
      "source": [
        "ndata = pd.concat([ndata, roledummy], axis=1)"
      ],
      "execution_count": null,
      "outputs": []
    },
    {
      "cell_type": "markdown",
      "metadata": {
        "id": "z55blLHRdiCx",
        "colab_type": "text"
      },
      "source": [
        "Major in undergraduated : "
      ]
    },
    {
      "cell_type": "code",
      "metadata": {
        "id": "LV_ow0GMcytJ",
        "colab_type": "code",
        "colab": {
          "base_uri": "https://localhost:8080/",
          "height": 212
        },
        "outputId": "00d91c3f-01a8-49fc-e090-24bb0f3a9df0"
      },
      "source": [
        "multiple.undergraduate_major.unique()"
      ],
      "execution_count": null,
      "outputs": [
        {
          "output_type": "execute_result",
          "data": {
            "text/plain": [
              "array(['Computer science (software engineering, etc.)',\n",
              "       'Mathematics or statistics', 'Physics or astronomy',\n",
              "       'Engineering (non-computer focused)',\n",
              "       'Information technology, networking, or system administration',\n",
              "       'A business discipline (accounting, economics, finance, etc.)',\n",
              "       'Environmental science or geology', 'I never declared a major',\n",
              "       'Medical or life sciences (biology, chemistry, medicine, etc.)',\n",
              "       'Other',\n",
              "       'Social sciences (anthropology, psychology, sociology, etc.)',\n",
              "       'Humanities (history, literature, philosophy, etc.)', nan,\n",
              "       'Fine arts or performing arts'], dtype=object)"
            ]
          },
          "metadata": {
            "tags": []
          },
          "execution_count": 36
        }
      ]
    },
    {
      "cell_type": "code",
      "metadata": {
        "id": "ZZe1B8-ScyrW",
        "colab_type": "code",
        "colab": {}
      },
      "source": [
        "q5 = pd.get_dummies(multiple.undergraduate_major)\n",
        "q5.columns=list(map(lambda x: '5_'+x,q5.columns))\n",
        "ndata = pd.concat([ndata,q5],axis=1)"
      ],
      "execution_count": null,
      "outputs": []
    },
    {
      "cell_type": "markdown",
      "metadata": {
        "id": "Cq_Wychndwcw",
        "colab_type": "text"
      },
      "source": [
        "* Industry : 산업군! "
      ]
    },
    {
      "cell_type": "code",
      "metadata": {
        "id": "YrvA1uQocypd",
        "colab_type": "code",
        "colab": {}
      },
      "source": [
        "q7 = pd.get_dummies(multiple.industry)\n",
        "q7.columns=list(map(lambda x: '7_'+x,q7.columns))\n",
        "ndata = pd.concat([ndata,q7],axis=1)"
      ],
      "execution_count": null,
      "outputs": []
    },
    {
      "cell_type": "markdown",
      "metadata": {
        "id": "RKFuZ2l8ePZK",
        "colab_type": "text"
      },
      "source": [
        "* Salary - Target variable! "
      ]
    },
    {
      "cell_type": "code",
      "metadata": {
        "id": "SjePHDYJcyno",
        "colab_type": "code",
        "colab": {}
      },
      "source": [
        ""
      ],
      "execution_count": null,
      "outputs": []
    },
    {
      "cell_type": "markdown",
      "metadata": {
        "id": "8e8wO3W7qZCu",
        "colab_type": "text"
      },
      "source": [
        "* experience "
      ]
    },
    {
      "cell_type": "code",
      "metadata": {
        "id": "A6TD5kwrqYk7",
        "colab_type": "code",
        "colab": {}
      },
      "source": [
        "q8 = pd.get_dummies(multiple.Experience)\n",
        "q8.columns=list(map(lambda x: '8_'+x,q8.columns))\n",
        "ndata = pd.concat([ndata,q8],axis=1)"
      ],
      "execution_count": null,
      "outputs": []
    },
    {
      "cell_type": "markdown",
      "metadata": {
        "id": "jdJbNiwGekn4",
        "colab_type": "text"
      },
      "source": [
        "* Q10 - ML 회사 사용? "
      ]
    },
    {
      "cell_type": "code",
      "metadata": {
        "id": "AnO_jQGYet7f",
        "colab_type": "code",
        "colab": {
          "base_uri": "https://localhost:8080/",
          "height": 88
        },
        "outputId": "4f08c3a8-1f00-4e26-be17-a5ee35c57988"
      },
      "source": [
        "multiple.columns[1:15]"
      ],
      "execution_count": null,
      "outputs": [
        {
          "output_type": "execute_result",
          "data": {
            "text/plain": [
              "Index(['gender', 'Age', 'country', 'degree', 'undergraduate_major', 'Role',\n",
              "       'industry', 'Experience', 'value', 'Q10', 'Q11_Part_1', 'Q11_Part_2',\n",
              "       'Q11_Part_3', 'Q11_Part_4'],\n",
              "      dtype='object')"
            ]
          },
          "metadata": {
            "tags": []
          },
          "execution_count": 40
        }
      ]
    },
    {
      "cell_type": "code",
      "metadata": {
        "id": "fhkHHjhtcykV",
        "colab_type": "code",
        "colab": {
          "base_uri": "https://localhost:8080/",
          "height": 35
        },
        "outputId": "cf8704f3-5c22-45c4-93b3-a18fb3503493"
      },
      "source": [
        "ndata.shape"
      ],
      "execution_count": null,
      "outputs": [
        {
          "output_type": "execute_result",
          "data": {
            "text/plain": [
              "(14092, 77)"
            ]
          },
          "metadata": {
            "tags": []
          },
          "execution_count": 41
        }
      ]
    },
    {
      "cell_type": "code",
      "metadata": {
        "id": "UqYtDd8GoR-u",
        "colab_type": "code",
        "colab": {}
      },
      "source": [
        "# to dummies : \n",
        "q10 = pd.get_dummies(multiple.Q10)\n",
        "q10.columns=list(map(lambda x: '10_'+x,q10.columns))\n",
        "ndata = pd.concat([ndata,q10],axis=1)"
      ],
      "execution_count": null,
      "outputs": []
    },
    {
      "cell_type": "code",
      "metadata": {
        "id": "tz6UnxjvxrKo",
        "colab_type": "code",
        "colab": {
          "base_uri": "https://localhost:8080/",
          "height": 35
        },
        "outputId": "ad05f2bb-9bdc-4316-9ec9-63bbdbf59c0a"
      },
      "source": [
        "ndata.shape"
      ],
      "execution_count": null,
      "outputs": [
        {
          "output_type": "execute_result",
          "data": {
            "text/plain": [
              "(14092, 83)"
            ]
          },
          "metadata": {
            "tags": []
          },
          "execution_count": 43
        }
      ]
    },
    {
      "cell_type": "markdown",
      "metadata": {
        "id": "A9f8zgrCf3Xy",
        "colab_type": "text"
      },
      "source": [
        "* Q11"
      ]
    },
    {
      "cell_type": "code",
      "metadata": {
        "id": "R9PhLs_Bcyir",
        "colab_type": "code",
        "colab": {}
      },
      "source": [
        "def to_onehot(i):\n",
        "    num = 'Q'+str(i)\n",
        "    q = multiple[[t for t in multiple.columns if num in t]]\n",
        "    q = q.drop([t for t in q.columns if 'OTHER_TEXT' in t],axis=1)  \n",
        "    q=q.fillna(0)\n",
        "    q_r = []\n",
        "    for col in q.columns:\n",
        "        if q[col].unique()[0]!=0:\n",
        "            s = q[col].unique()[0]\n",
        "            q_r.append(s)\n",
        "        else:\n",
        "            s = q[col].unique()[1]\n",
        "            q_r.append(s)\n",
        "        q[col]=q[col].replace(s,1)\n",
        "    q.columns=q_r\n",
        "    return q"
      ],
      "execution_count": null,
      "outputs": []
    },
    {
      "cell_type": "code",
      "metadata": {
        "id": "iAHEcI7mcygy",
        "colab_type": "code",
        "colab": {
          "base_uri": "https://localhost:8080/",
          "height": 124
        },
        "outputId": "d6cfa607-28e2-45aa-ecb8-5ce4804d1d28"
      },
      "source": [
        "q11=to_onehot(11)\n",
        "q11=q11.idxmax(axis=1)\n",
        "q11.head()"
      ],
      "execution_count": null,
      "outputs": [
        {
          "output_type": "execute_result",
          "data": {
            "text/plain": [
              "0    Analyze and understand data to influence produ...\n",
              "1                                                Other\n",
              "2    Analyze and understand data to influence produ...\n",
              "3    Build and/or run a machine learning service th...\n",
              "4    None of these activities are an important part...\n",
              "dtype: object"
            ]
          },
          "metadata": {
            "tags": []
          },
          "execution_count": 45
        }
      ]
    },
    {
      "cell_type": "code",
      "metadata": {
        "id": "fSP0DMB9cyex",
        "colab_type": "code",
        "colab": {}
      },
      "source": [
        "q11=to_onehot(11)\n",
        "q11.columns = ['11_'+str(col) for col in q11.columns]"
      ],
      "execution_count": null,
      "outputs": []
    },
    {
      "cell_type": "code",
      "metadata": {
        "id": "Sc5WS869hQkb",
        "colab_type": "code",
        "colab": {}
      },
      "source": [
        "#Add None of these & Others - to others\n",
        "q11.iloc[:,-1]=q11.iloc[:,-2]+q11.iloc[:,-1]\n",
        "q11=q11.drop(q11.columns[-2],axis=1)"
      ],
      "execution_count": null,
      "outputs": []
    },
    {
      "cell_type": "code",
      "metadata": {
        "id": "E8hB4ZSAhTks",
        "colab_type": "code",
        "colab": {}
      },
      "source": [
        "ndata=pd.concat([ndata,q11],axis=1)"
      ],
      "execution_count": null,
      "outputs": []
    },
    {
      "cell_type": "markdown",
      "metadata": {
        "id": "1QAbc_CzhepZ",
        "colab_type": "text"
      },
      "source": [
        "## 원래부터 One-Hot Encoding 된 것들 : Nan -> 0로 바꾸기. "
      ]
    },
    {
      "cell_type": "markdown",
      "metadata": {
        "id": "TT4XTCKahKm_",
        "colab_type": "text"
      },
      "source": [
        "* Q12"
      ]
    },
    {
      "cell_type": "code",
      "metadata": {
        "id": "PIuK3ru-cydI",
        "colab_type": "code",
        "colab": {
          "base_uri": "https://localhost:8080/",
          "height": 194
        },
        "outputId": "9f143b8d-487f-4349-8100-4a9dfcd54874"
      },
      "source": [
        "q12=multiple[[t for t in multiple.columns if 'Q12' in t]]\n",
        "q12=q12.iloc[:,1:]\n",
        "q12=q12.astype(int) \n",
        "q12[q12!=-1]=1\n",
        "q12[q12==-1]=0\n",
        "q12.head()"
      ],
      "execution_count": null,
      "outputs": [
        {
          "output_type": "execute_result",
          "data": {
            "text/html": [
              "<div>\n",
              "<style scoped>\n",
              "    .dataframe tbody tr th:only-of-type {\n",
              "        vertical-align: middle;\n",
              "    }\n",
              "\n",
              "    .dataframe tbody tr th {\n",
              "        vertical-align: top;\n",
              "    }\n",
              "\n",
              "    .dataframe thead th {\n",
              "        text-align: right;\n",
              "    }\n",
              "</style>\n",
              "<table border=\"1\" class=\"dataframe\">\n",
              "  <thead>\n",
              "    <tr style=\"text-align: right;\">\n",
              "      <th></th>\n",
              "      <th>Q12_Part_2_TEXT</th>\n",
              "      <th>Q12_Part_3_TEXT</th>\n",
              "      <th>Q12_Part_4_TEXT</th>\n",
              "      <th>Q12_Part_5_TEXT</th>\n",
              "    </tr>\n",
              "  </thead>\n",
              "  <tbody>\n",
              "    <tr>\n",
              "      <th>0</th>\n",
              "      <td>0</td>\n",
              "      <td>0</td>\n",
              "      <td>1</td>\n",
              "      <td>0</td>\n",
              "    </tr>\n",
              "    <tr>\n",
              "      <th>1</th>\n",
              "      <td>1</td>\n",
              "      <td>0</td>\n",
              "      <td>0</td>\n",
              "      <td>0</td>\n",
              "    </tr>\n",
              "    <tr>\n",
              "      <th>2</th>\n",
              "      <td>0</td>\n",
              "      <td>0</td>\n",
              "      <td>1</td>\n",
              "      <td>0</td>\n",
              "    </tr>\n",
              "    <tr>\n",
              "      <th>3</th>\n",
              "      <td>0</td>\n",
              "      <td>0</td>\n",
              "      <td>1</td>\n",
              "      <td>0</td>\n",
              "    </tr>\n",
              "    <tr>\n",
              "      <th>4</th>\n",
              "      <td>1</td>\n",
              "      <td>0</td>\n",
              "      <td>0</td>\n",
              "      <td>0</td>\n",
              "    </tr>\n",
              "  </tbody>\n",
              "</table>\n",
              "</div>"
            ],
            "text/plain": [
              "   Q12_Part_2_TEXT  Q12_Part_3_TEXT  Q12_Part_4_TEXT  Q12_Part_5_TEXT\n",
              "0                0                0                1                0\n",
              "1                1                0                0                0\n",
              "2                0                0                1                0\n",
              "3                0                0                1                0\n",
              "4                1                0                0                0"
            ]
          },
          "metadata": {
            "tags": []
          },
          "execution_count": 49
        }
      ]
    },
    {
      "cell_type": "code",
      "metadata": {
        "id": "gKBacqEccybG",
        "colab_type": "code",
        "colab": {}
      },
      "source": [
        "q12.columns=['12_'+ str(col) for col in q12.columns]\n",
        "ndata=pd.concat([ndata,q12],axis=1)"
      ],
      "execution_count": null,
      "outputs": []
    },
    {
      "cell_type": "markdown",
      "metadata": {
        "id": "rZpXMawyjbuF",
        "colab_type": "text"
      },
      "source": [
        "* Q13"
      ]
    },
    {
      "cell_type": "code",
      "metadata": {
        "id": "wp0-fOMScyZp",
        "colab_type": "code",
        "colab": {}
      },
      "source": [
        "def preprocess_multiple(data,i):\n",
        "    s='Q'+str(i)\n",
        "    if s+'_OTHER_TEXT' in data.columns:\n",
        "        data=data.drop([s+'_OTHER_TEXT'],axis=1)\n",
        "    df=to_onehot(i)\n",
        "    df.columns=[str(i)+'_'+str(col) for col in df.columns]\n",
        "    return df"
      ],
      "execution_count": null,
      "outputs": []
    },
    {
      "cell_type": "code",
      "metadata": {
        "id": "OZ1hVIQhmiOp",
        "colab_type": "code",
        "colab": {}
      },
      "source": [
        "q13=preprocess_multiple(multiple, 13)\n",
        "ndata=pd.concat([ndata,q13],axis=1)"
      ],
      "execution_count": null,
      "outputs": []
    },
    {
      "cell_type": "code",
      "metadata": {
        "id": "txZiyiOvngWS",
        "colab_type": "code",
        "colab": {
          "base_uri": "https://localhost:8080/",
          "height": 211
        },
        "outputId": "5ac5c789-485e-4452-c5b0-aaa73e7122e9"
      },
      "source": [
        "q13.head()"
      ],
      "execution_count": null,
      "outputs": [
        {
          "output_type": "execute_result",
          "data": {
            "text/html": [
              "<div>\n",
              "<style scoped>\n",
              "    .dataframe tbody tr th:only-of-type {\n",
              "        vertical-align: middle;\n",
              "    }\n",
              "\n",
              "    .dataframe tbody tr th {\n",
              "        vertical-align: top;\n",
              "    }\n",
              "\n",
              "    .dataframe thead th {\n",
              "        text-align: right;\n",
              "    }\n",
              "</style>\n",
              "<table border=\"1\" class=\"dataframe\">\n",
              "  <thead>\n",
              "    <tr style=\"text-align: right;\">\n",
              "      <th></th>\n",
              "      <th>13_Jupyter/IPython</th>\n",
              "      <th>13_RStudio</th>\n",
              "      <th>13_PyCharm</th>\n",
              "      <th>13_Visual Studio Code</th>\n",
              "      <th>13_nteract</th>\n",
              "      <th>13_Atom</th>\n",
              "      <th>13_MATLAB</th>\n",
              "      <th>13_Visual Studio</th>\n",
              "      <th>13_Notepad++</th>\n",
              "      <th>13_Sublime Text</th>\n",
              "      <th>13_Vim</th>\n",
              "      <th>13_IntelliJ</th>\n",
              "      <th>13_Spyder</th>\n",
              "      <th>13_None</th>\n",
              "      <th>13_Other</th>\n",
              "    </tr>\n",
              "  </thead>\n",
              "  <tbody>\n",
              "    <tr>\n",
              "      <th>0</th>\n",
              "      <td>0</td>\n",
              "      <td>0</td>\n",
              "      <td>0</td>\n",
              "      <td>0</td>\n",
              "      <td>0</td>\n",
              "      <td>0</td>\n",
              "      <td>1</td>\n",
              "      <td>0</td>\n",
              "      <td>0</td>\n",
              "      <td>0</td>\n",
              "      <td>0</td>\n",
              "      <td>0</td>\n",
              "      <td>0</td>\n",
              "      <td>0</td>\n",
              "      <td>0</td>\n",
              "    </tr>\n",
              "    <tr>\n",
              "      <th>1</th>\n",
              "      <td>0</td>\n",
              "      <td>1</td>\n",
              "      <td>0</td>\n",
              "      <td>0</td>\n",
              "      <td>0</td>\n",
              "      <td>0</td>\n",
              "      <td>0</td>\n",
              "      <td>0</td>\n",
              "      <td>0</td>\n",
              "      <td>0</td>\n",
              "      <td>0</td>\n",
              "      <td>0</td>\n",
              "      <td>0</td>\n",
              "      <td>0</td>\n",
              "      <td>0</td>\n",
              "    </tr>\n",
              "    <tr>\n",
              "      <th>2</th>\n",
              "      <td>1</td>\n",
              "      <td>0</td>\n",
              "      <td>0</td>\n",
              "      <td>0</td>\n",
              "      <td>0</td>\n",
              "      <td>1</td>\n",
              "      <td>0</td>\n",
              "      <td>0</td>\n",
              "      <td>0</td>\n",
              "      <td>0</td>\n",
              "      <td>1</td>\n",
              "      <td>0</td>\n",
              "      <td>0</td>\n",
              "      <td>0</td>\n",
              "      <td>0</td>\n",
              "    </tr>\n",
              "    <tr>\n",
              "      <th>3</th>\n",
              "      <td>1</td>\n",
              "      <td>0</td>\n",
              "      <td>1</td>\n",
              "      <td>1</td>\n",
              "      <td>0</td>\n",
              "      <td>0</td>\n",
              "      <td>0</td>\n",
              "      <td>1</td>\n",
              "      <td>0</td>\n",
              "      <td>1</td>\n",
              "      <td>0</td>\n",
              "      <td>1</td>\n",
              "      <td>0</td>\n",
              "      <td>0</td>\n",
              "      <td>0</td>\n",
              "    </tr>\n",
              "    <tr>\n",
              "      <th>4</th>\n",
              "      <td>1</td>\n",
              "      <td>1</td>\n",
              "      <td>0</td>\n",
              "      <td>1</td>\n",
              "      <td>0</td>\n",
              "      <td>1</td>\n",
              "      <td>0</td>\n",
              "      <td>0</td>\n",
              "      <td>0</td>\n",
              "      <td>0</td>\n",
              "      <td>0</td>\n",
              "      <td>0</td>\n",
              "      <td>1</td>\n",
              "      <td>0</td>\n",
              "      <td>0</td>\n",
              "    </tr>\n",
              "  </tbody>\n",
              "</table>\n",
              "</div>"
            ],
            "text/plain": [
              "   13_Jupyter/IPython  13_RStudio  13_PyCharm  ...  13_Spyder  13_None  13_Other\n",
              "0                   0           0           0  ...          0        0         0\n",
              "1                   0           1           0  ...          0        0         0\n",
              "2                   1           0           0  ...          0        0         0\n",
              "3                   1           0           1  ...          0        0         0\n",
              "4                   1           1           0  ...          1        0         0\n",
              "\n",
              "[5 rows x 15 columns]"
            ]
          },
          "metadata": {
            "tags": []
          },
          "execution_count": 53
        }
      ]
    },
    {
      "cell_type": "code",
      "metadata": {
        "id": "kvpy8vnynObR",
        "colab_type": "code",
        "colab": {
          "base_uri": "https://localhost:8080/",
          "height": 35
        },
        "outputId": "7041a1a0-f781-46a7-f058-2a58a0489fe3"
      },
      "source": [
        "ndata.shape"
      ],
      "execution_count": null,
      "outputs": [
        {
          "output_type": "execute_result",
          "data": {
            "text/plain": [
              "(14092, 108)"
            ]
          },
          "metadata": {
            "tags": []
          },
          "execution_count": 54
        }
      ]
    },
    {
      "cell_type": "code",
      "metadata": {
        "id": "h7HfBfQdcyXq",
        "colab_type": "code",
        "colab": {
          "base_uri": "https://localhost:8080/",
          "height": 181
        },
        "outputId": "5320c866-fa62-439a-e74e-7ca2d79d314f"
      },
      "source": [
        "ndata.iloc[1:5, 60:74]"
      ],
      "execution_count": null,
      "outputs": [
        {
          "output_type": "execute_result",
          "data": {
            "text/html": [
              "<div>\n",
              "<style scoped>\n",
              "    .dataframe tbody tr th:only-of-type {\n",
              "        vertical-align: middle;\n",
              "    }\n",
              "\n",
              "    .dataframe tbody tr th {\n",
              "        vertical-align: top;\n",
              "    }\n",
              "\n",
              "    .dataframe thead th {\n",
              "        text-align: right;\n",
              "    }\n",
              "</style>\n",
              "<table border=\"1\" class=\"dataframe\">\n",
              "  <thead>\n",
              "    <tr style=\"text-align: right;\">\n",
              "      <th></th>\n",
              "      <th>7_Online Business/Internet-based Sales</th>\n",
              "      <th>7_Online Service/Internet-based Services</th>\n",
              "      <th>7_Other</th>\n",
              "      <th>7_Retail/Sales</th>\n",
              "      <th>7_Shipping/Transportation</th>\n",
              "      <th>7_Student</th>\n",
              "      <th>8_0-1</th>\n",
              "      <th>8_1-2</th>\n",
              "      <th>8_10-15</th>\n",
              "      <th>8_15-20</th>\n",
              "      <th>8_2-3</th>\n",
              "      <th>8_20-25</th>\n",
              "      <th>8_25-30</th>\n",
              "      <th>8_3-4</th>\n",
              "    </tr>\n",
              "  </thead>\n",
              "  <tbody>\n",
              "    <tr>\n",
              "      <th>1</th>\n",
              "      <td>0</td>\n",
              "      <td>0</td>\n",
              "      <td>0</td>\n",
              "      <td>0</td>\n",
              "      <td>0</td>\n",
              "      <td>1</td>\n",
              "      <td>1</td>\n",
              "      <td>0</td>\n",
              "      <td>0</td>\n",
              "      <td>0</td>\n",
              "      <td>0</td>\n",
              "      <td>0</td>\n",
              "      <td>0</td>\n",
              "      <td>0</td>\n",
              "    </tr>\n",
              "    <tr>\n",
              "      <th>2</th>\n",
              "      <td>0</td>\n",
              "      <td>0</td>\n",
              "      <td>0</td>\n",
              "      <td>0</td>\n",
              "      <td>0</td>\n",
              "      <td>0</td>\n",
              "      <td>1</td>\n",
              "      <td>0</td>\n",
              "      <td>0</td>\n",
              "      <td>0</td>\n",
              "      <td>0</td>\n",
              "      <td>0</td>\n",
              "      <td>0</td>\n",
              "      <td>0</td>\n",
              "    </tr>\n",
              "    <tr>\n",
              "      <th>3</th>\n",
              "      <td>0</td>\n",
              "      <td>1</td>\n",
              "      <td>0</td>\n",
              "      <td>0</td>\n",
              "      <td>0</td>\n",
              "      <td>0</td>\n",
              "      <td>0</td>\n",
              "      <td>0</td>\n",
              "      <td>0</td>\n",
              "      <td>0</td>\n",
              "      <td>0</td>\n",
              "      <td>0</td>\n",
              "      <td>0</td>\n",
              "      <td>1</td>\n",
              "    </tr>\n",
              "    <tr>\n",
              "      <th>4</th>\n",
              "      <td>0</td>\n",
              "      <td>0</td>\n",
              "      <td>0</td>\n",
              "      <td>0</td>\n",
              "      <td>0</td>\n",
              "      <td>1</td>\n",
              "      <td>0</td>\n",
              "      <td>0</td>\n",
              "      <td>0</td>\n",
              "      <td>0</td>\n",
              "      <td>0</td>\n",
              "      <td>0</td>\n",
              "      <td>0</td>\n",
              "      <td>1</td>\n",
              "    </tr>\n",
              "  </tbody>\n",
              "</table>\n",
              "</div>"
            ],
            "text/plain": [
              "   7_Online Business/Internet-based Sales  ...  8_3-4\n",
              "1                                       0  ...      0\n",
              "2                                       0  ...      0\n",
              "3                                       0  ...      1\n",
              "4                                       0  ...      1\n",
              "\n",
              "[4 rows x 14 columns]"
            ]
          },
          "metadata": {
            "tags": []
          },
          "execution_count": 55
        }
      ]
    },
    {
      "cell_type": "markdown",
      "metadata": {
        "id": "cH2-zCVtoRA2",
        "colab_type": "text"
      },
      "source": [
        "* Q14"
      ]
    },
    {
      "cell_type": "code",
      "metadata": {
        "id": "1DFyYYPYcyVd",
        "colab_type": "code",
        "colab": {}
      },
      "source": [
        "q14=preprocess_multiple(multiple, 14)\n",
        "ndata=pd.concat([ndata,q14],axis=1)"
      ],
      "execution_count": null,
      "outputs": []
    },
    {
      "cell_type": "markdown",
      "metadata": {
        "id": "xuIes_uSoZRZ",
        "colab_type": "text"
      },
      "source": [
        "* Q15 - Q16"
      ]
    },
    {
      "cell_type": "code",
      "metadata": {
        "id": "EuhdqEGXcyTf",
        "colab_type": "code",
        "colab": {}
      },
      "source": [
        "q15=preprocess_multiple(multiple, 15)\n",
        "ndata=pd.concat([ndata,q15],axis=1)"
      ],
      "execution_count": null,
      "outputs": []
    },
    {
      "cell_type": "code",
      "metadata": {
        "id": "97oSnJ0ScyRq",
        "colab_type": "code",
        "colab": {}
      },
      "source": [
        "q16=preprocess_multiple(multiple, 16)\n",
        "ndata=pd.concat([ndata,q16],axis=1)"
      ],
      "execution_count": null,
      "outputs": []
    },
    {
      "cell_type": "code",
      "metadata": {
        "id": "JFJKvFzQcyCQ",
        "colab_type": "code",
        "colab": {}
      },
      "source": [
        "preprocess_needed = [19, 21]"
      ],
      "execution_count": null,
      "outputs": []
    },
    {
      "cell_type": "code",
      "metadata": {
        "id": "TQNn9rh2rUas",
        "colab_type": "code",
        "colab": {}
      },
      "source": [
        "ndata2 = ndata.copy()"
      ],
      "execution_count": null,
      "outputs": []
    },
    {
      "cell_type": "code",
      "metadata": {
        "id": "TZWhXxTyrDmW",
        "colab_type": "code",
        "colab": {}
      },
      "source": [
        "for i in preprocess_needed : \n",
        "  q = preprocess_multiple(multiple, i)\n",
        "  ndata2 = pd.concat([ndata2, q], axis = 1)"
      ],
      "execution_count": null,
      "outputs": []
    },
    {
      "cell_type": "markdown",
      "metadata": {
        "id": "s7NB4cKXr8CE",
        "colab_type": "text"
      },
      "source": [
        "* Q 23-Q26 : get_dummies"
      ]
    },
    {
      "cell_type": "code",
      "metadata": {
        "id": "5HakugNzr7ml",
        "colab_type": "code",
        "colab": {}
      },
      "source": [
        "q23=pd.get_dummies(multiple.Q23)\n",
        "q23.columns=['23_'+str(col) for col in q23.columns]\n",
        "ndata2=pd.concat([ndata2,q23],axis=1)"
      ],
      "execution_count": null,
      "outputs": []
    },
    {
      "cell_type": "code",
      "metadata": {
        "id": "mTbjo9O0sHCK",
        "colab_type": "code",
        "colab": {}
      },
      "source": [
        "lst=['I have never written code and I do not want to learn','I have never written code but I want to learn','< 1 year','1-2 years','3-5 years',   '5-10 years',\n",
        "       '10-20 years', '20-30 years','30-40 years','40+ years']"
      ],
      "execution_count": null,
      "outputs": []
    },
    {
      "cell_type": "code",
      "metadata": {
        "id": "-4wqnrkXslAb",
        "colab_type": "code",
        "colab": {}
      },
      "source": [
        "q24=pd.get_dummies(multiple.Q24)\n",
        "q24.columns=['24_'+str(col) for col in q24.columns]\n",
        "q24=q24.reindex(columns=list(map(lambda x: '24_'+x,lst)))\n",
        "ndata2=pd.concat([ndata2,q24],axis=1)"
      ],
      "execution_count": null,
      "outputs": []
    },
    {
      "cell_type": "markdown",
      "metadata": {
        "id": "swSGPYBJt5w0",
        "colab_type": "text"
      },
      "source": [
        "* Q25"
      ]
    },
    {
      "cell_type": "code",
      "metadata": {
        "id": "cA3PZSY7sk8_",
        "colab_type": "code",
        "colab": {
          "base_uri": "https://localhost:8080/",
          "height": 88
        },
        "outputId": "7442e97d-48d0-431b-be4a-f45dccc68b6d"
      },
      "source": [
        "multiple.Q25.unique()"
      ],
      "execution_count": null,
      "outputs": [
        {
          "output_type": "execute_result",
          "data": {
            "text/plain": [
              "array(['< 1 year', '2-3 years', '1-2 years', '5-10 years', '3-4 years',\n",
              "       'I have never studied machine learning but plan to learn in the future',\n",
              "       'I have never studied machine learning and I do not plan to',\n",
              "       '4-5 years', '20+ years', '10-15 years'], dtype=object)"
            ]
          },
          "metadata": {
            "tags": []
          },
          "execution_count": 65
        }
      ]
    },
    {
      "cell_type": "code",
      "metadata": {
        "id": "gDCQTsnTsk7n",
        "colab_type": "code",
        "colab": {}
      },
      "source": [
        "q25=pd.get_dummies(multiple.Q25)\n",
        "q25.columns=['25_'+str(col) for col in q25.columns]\n",
        "ndata2=pd.concat([ndata2,q25],axis=1)"
      ],
      "execution_count": null,
      "outputs": []
    },
    {
      "cell_type": "markdown",
      "metadata": {
        "id": "JpuECvMJuMTK",
        "colab_type": "text"
      },
      "source": [
        "* Q26 : confindence"
      ]
    },
    {
      "cell_type": "code",
      "metadata": {
        "id": "K_WEZrLvsk5R",
        "colab_type": "code",
        "colab": {
          "base_uri": "https://localhost:8080/",
          "height": 35
        },
        "outputId": "f6a0d6ff-4333-4261-9877-ab2c1c886b4a"
      },
      "source": [
        "tmp = multiple.confidence.copy()\n",
        "len(tmp[tmp.isna()])"
      ],
      "execution_count": null,
      "outputs": [
        {
          "output_type": "execute_result",
          "data": {
            "text/plain": [
              "0"
            ]
          },
          "metadata": {
            "tags": []
          },
          "execution_count": 67
        }
      ]
    },
    {
      "cell_type": "code",
      "metadata": {
        "id": "NPaPI_aEsk3k",
        "colab_type": "code",
        "colab": {}
      },
      "source": [
        "q26=pd.get_dummies(multiple.confidence)\n",
        "q26.columns=['26_'+str(col) for col in q26.columns]\n",
        "ndata2=pd.concat([ndata2,q26],axis=1)"
      ],
      "execution_count": null,
      "outputs": []
    },
    {
      "cell_type": "code",
      "metadata": {
        "id": "lcl1Y_566QRR",
        "colab_type": "code",
        "colab": {
          "base_uri": "https://localhost:8080/",
          "height": 395
        },
        "outputId": "1c553331-5b7e-4ddf-e5fe-4b41a07d13e0"
      },
      "source": [
        "ndata2.head()"
      ],
      "execution_count": null,
      "outputs": [
        {
          "output_type": "execute_result",
          "data": {
            "text/html": [
              "<div>\n",
              "<style scoped>\n",
              "    .dataframe tbody tr th:only-of-type {\n",
              "        vertical-align: middle;\n",
              "    }\n",
              "\n",
              "    .dataframe tbody tr th {\n",
              "        vertical-align: top;\n",
              "    }\n",
              "\n",
              "    .dataframe thead th {\n",
              "        text-align: right;\n",
              "    }\n",
              "</style>\n",
              "<table border=\"1\" class=\"dataframe\">\n",
              "  <thead>\n",
              "    <tr style=\"text-align: right;\">\n",
              "      <th></th>\n",
              "      <th>duration</th>\n",
              "      <th>1_Female</th>\n",
              "      <th>1_Male</th>\n",
              "      <th>2_18-21</th>\n",
              "      <th>2_22-24</th>\n",
              "      <th>2_25-29</th>\n",
              "      <th>2_30-34</th>\n",
              "      <th>2_35-39</th>\n",
              "      <th>2_40-44</th>\n",
              "      <th>2_45-49</th>\n",
              "      <th>2_50-54</th>\n",
              "      <th>2_55-59</th>\n",
              "      <th>2_60-69</th>\n",
              "      <th>2_70-79</th>\n",
              "      <th>2_80+</th>\n",
              "      <th>3_Africa</th>\n",
              "      <th>3_Asia</th>\n",
              "      <th>3_Europe</th>\n",
              "      <th>3_NorthAmerica</th>\n",
              "      <th>3_Oceania</th>\n",
              "      <th>3_SouthAmerica</th>\n",
              "      <th>4_Bachelor’s degree</th>\n",
              "      <th>4_Doctoral degree</th>\n",
              "      <th>4_Master’s degree</th>\n",
              "      <th>4_No formal education past high school</th>\n",
              "      <th>4_Professional degree</th>\n",
              "      <th>4_Some college/university study without earning a bachelor’s degree</th>\n",
              "      <th>Business Analyst</th>\n",
              "      <th>Data Analyst</th>\n",
              "      <th>Data Engineer/DBA</th>\n",
              "      <th>Data Scientist</th>\n",
              "      <th>Software Engineer</th>\n",
              "      <th>Statistician/Research Scientist</th>\n",
              "      <th>Student</th>\n",
              "      <th>5_A business discipline (accounting, economics, finance, etc.)</th>\n",
              "      <th>5_Computer science (software engineering, etc.)</th>\n",
              "      <th>5_Engineering (non-computer focused)</th>\n",
              "      <th>5_Environmental science or geology</th>\n",
              "      <th>5_Fine arts or performing arts</th>\n",
              "      <th>5_Humanities (history, literature, philosophy, etc.)</th>\n",
              "      <th>...</th>\n",
              "      <th>21_D3</th>\n",
              "      <th>21_Plotly</th>\n",
              "      <th>21_Bokeh</th>\n",
              "      <th>21_Seaborn</th>\n",
              "      <th>21_Geoplotlib</th>\n",
              "      <th>21_Leaflet</th>\n",
              "      <th>21_Lattice</th>\n",
              "      <th>21_None</th>\n",
              "      <th>21_Other</th>\n",
              "      <th>23_0% of my time</th>\n",
              "      <th>23_1% to 25% of my time</th>\n",
              "      <th>23_100% of my time</th>\n",
              "      <th>23_25% to 49% of my time</th>\n",
              "      <th>23_50% to 74% of my time</th>\n",
              "      <th>23_75% to 99% of my time</th>\n",
              "      <th>24_I have never written code and I do not want to learn</th>\n",
              "      <th>24_I have never written code but I want to learn</th>\n",
              "      <th>24_&lt; 1 year</th>\n",
              "      <th>24_1-2 years</th>\n",
              "      <th>24_3-5 years</th>\n",
              "      <th>24_5-10 years</th>\n",
              "      <th>24_10-20 years</th>\n",
              "      <th>24_20-30 years</th>\n",
              "      <th>24_30-40 years</th>\n",
              "      <th>24_40+ years</th>\n",
              "      <th>25_1-2 years</th>\n",
              "      <th>25_10-15 years</th>\n",
              "      <th>25_2-3 years</th>\n",
              "      <th>25_20+ years</th>\n",
              "      <th>25_3-4 years</th>\n",
              "      <th>25_4-5 years</th>\n",
              "      <th>25_5-10 years</th>\n",
              "      <th>25_&lt; 1 year</th>\n",
              "      <th>25_I have never studied machine learning and I do not plan to</th>\n",
              "      <th>25_I have never studied machine learning but plan to learn in the future</th>\n",
              "      <th>26_Definitely not</th>\n",
              "      <th>26_Definitely yes</th>\n",
              "      <th>26_Maybe</th>\n",
              "      <th>26_Probably not</th>\n",
              "      <th>26_Probably yes</th>\n",
              "    </tr>\n",
              "  </thead>\n",
              "  <tbody>\n",
              "    <tr>\n",
              "      <th>0</th>\n",
              "      <td>718</td>\n",
              "      <td>1</td>\n",
              "      <td>0</td>\n",
              "      <td>0</td>\n",
              "      <td>0</td>\n",
              "      <td>0</td>\n",
              "      <td>1</td>\n",
              "      <td>0</td>\n",
              "      <td>0</td>\n",
              "      <td>0</td>\n",
              "      <td>0</td>\n",
              "      <td>0</td>\n",
              "      <td>0</td>\n",
              "      <td>0</td>\n",
              "      <td>0</td>\n",
              "      <td>0</td>\n",
              "      <td>0</td>\n",
              "      <td>0</td>\n",
              "      <td>1</td>\n",
              "      <td>0</td>\n",
              "      <td>0</td>\n",
              "      <td>0</td>\n",
              "      <td>0</td>\n",
              "      <td>1</td>\n",
              "      <td>0</td>\n",
              "      <td>0</td>\n",
              "      <td>0</td>\n",
              "      <td>0</td>\n",
              "      <td>0</td>\n",
              "      <td>0</td>\n",
              "      <td>0</td>\n",
              "      <td>0</td>\n",
              "      <td>0</td>\n",
              "      <td>1</td>\n",
              "      <td>0</td>\n",
              "      <td>1</td>\n",
              "      <td>0</td>\n",
              "      <td>0</td>\n",
              "      <td>0</td>\n",
              "      <td>0</td>\n",
              "      <td>...</td>\n",
              "      <td>0</td>\n",
              "      <td>0</td>\n",
              "      <td>0</td>\n",
              "      <td>1</td>\n",
              "      <td>0</td>\n",
              "      <td>0</td>\n",
              "      <td>0</td>\n",
              "      <td>0</td>\n",
              "      <td>0</td>\n",
              "      <td>0</td>\n",
              "      <td>0</td>\n",
              "      <td>0</td>\n",
              "      <td>0</td>\n",
              "      <td>0</td>\n",
              "      <td>1</td>\n",
              "      <td>0</td>\n",
              "      <td>0</td>\n",
              "      <td>0</td>\n",
              "      <td>0</td>\n",
              "      <td>0</td>\n",
              "      <td>1</td>\n",
              "      <td>0</td>\n",
              "      <td>0</td>\n",
              "      <td>0</td>\n",
              "      <td>0</td>\n",
              "      <td>0</td>\n",
              "      <td>0</td>\n",
              "      <td>0</td>\n",
              "      <td>0</td>\n",
              "      <td>0</td>\n",
              "      <td>0</td>\n",
              "      <td>0</td>\n",
              "      <td>1</td>\n",
              "      <td>0</td>\n",
              "      <td>0</td>\n",
              "      <td>0</td>\n",
              "      <td>1</td>\n",
              "      <td>0</td>\n",
              "      <td>0</td>\n",
              "      <td>0</td>\n",
              "    </tr>\n",
              "    <tr>\n",
              "      <th>1</th>\n",
              "      <td>731</td>\n",
              "      <td>0</td>\n",
              "      <td>1</td>\n",
              "      <td>0</td>\n",
              "      <td>1</td>\n",
              "      <td>0</td>\n",
              "      <td>0</td>\n",
              "      <td>0</td>\n",
              "      <td>0</td>\n",
              "      <td>0</td>\n",
              "      <td>0</td>\n",
              "      <td>0</td>\n",
              "      <td>0</td>\n",
              "      <td>0</td>\n",
              "      <td>0</td>\n",
              "      <td>0</td>\n",
              "      <td>1</td>\n",
              "      <td>0</td>\n",
              "      <td>0</td>\n",
              "      <td>0</td>\n",
              "      <td>0</td>\n",
              "      <td>0</td>\n",
              "      <td>0</td>\n",
              "      <td>1</td>\n",
              "      <td>0</td>\n",
              "      <td>0</td>\n",
              "      <td>0</td>\n",
              "      <td>0</td>\n",
              "      <td>0</td>\n",
              "      <td>0</td>\n",
              "      <td>0</td>\n",
              "      <td>0</td>\n",
              "      <td>0</td>\n",
              "      <td>1</td>\n",
              "      <td>0</td>\n",
              "      <td>0</td>\n",
              "      <td>0</td>\n",
              "      <td>0</td>\n",
              "      <td>0</td>\n",
              "      <td>0</td>\n",
              "      <td>...</td>\n",
              "      <td>0</td>\n",
              "      <td>0</td>\n",
              "      <td>0</td>\n",
              "      <td>0</td>\n",
              "      <td>0</td>\n",
              "      <td>0</td>\n",
              "      <td>0</td>\n",
              "      <td>0</td>\n",
              "      <td>0</td>\n",
              "      <td>0</td>\n",
              "      <td>0</td>\n",
              "      <td>0</td>\n",
              "      <td>0</td>\n",
              "      <td>0</td>\n",
              "      <td>1</td>\n",
              "      <td>0</td>\n",
              "      <td>0</td>\n",
              "      <td>0</td>\n",
              "      <td>0</td>\n",
              "      <td>0</td>\n",
              "      <td>1</td>\n",
              "      <td>0</td>\n",
              "      <td>0</td>\n",
              "      <td>0</td>\n",
              "      <td>0</td>\n",
              "      <td>0</td>\n",
              "      <td>0</td>\n",
              "      <td>1</td>\n",
              "      <td>0</td>\n",
              "      <td>0</td>\n",
              "      <td>0</td>\n",
              "      <td>0</td>\n",
              "      <td>0</td>\n",
              "      <td>0</td>\n",
              "      <td>0</td>\n",
              "      <td>0</td>\n",
              "      <td>0</td>\n",
              "      <td>1</td>\n",
              "      <td>0</td>\n",
              "      <td>0</td>\n",
              "    </tr>\n",
              "    <tr>\n",
              "      <th>2</th>\n",
              "      <td>1142</td>\n",
              "      <td>0</td>\n",
              "      <td>1</td>\n",
              "      <td>0</td>\n",
              "      <td>0</td>\n",
              "      <td>1</td>\n",
              "      <td>0</td>\n",
              "      <td>0</td>\n",
              "      <td>0</td>\n",
              "      <td>0</td>\n",
              "      <td>0</td>\n",
              "      <td>0</td>\n",
              "      <td>0</td>\n",
              "      <td>0</td>\n",
              "      <td>0</td>\n",
              "      <td>0</td>\n",
              "      <td>0</td>\n",
              "      <td>0</td>\n",
              "      <td>0</td>\n",
              "      <td>0</td>\n",
              "      <td>1</td>\n",
              "      <td>1</td>\n",
              "      <td>0</td>\n",
              "      <td>0</td>\n",
              "      <td>0</td>\n",
              "      <td>0</td>\n",
              "      <td>0</td>\n",
              "      <td>0</td>\n",
              "      <td>0</td>\n",
              "      <td>0</td>\n",
              "      <td>1</td>\n",
              "      <td>0</td>\n",
              "      <td>0</td>\n",
              "      <td>0</td>\n",
              "      <td>0</td>\n",
              "      <td>0</td>\n",
              "      <td>0</td>\n",
              "      <td>0</td>\n",
              "      <td>0</td>\n",
              "      <td>0</td>\n",
              "      <td>...</td>\n",
              "      <td>0</td>\n",
              "      <td>1</td>\n",
              "      <td>0</td>\n",
              "      <td>1</td>\n",
              "      <td>0</td>\n",
              "      <td>0</td>\n",
              "      <td>0</td>\n",
              "      <td>0</td>\n",
              "      <td>0</td>\n",
              "      <td>0</td>\n",
              "      <td>0</td>\n",
              "      <td>0</td>\n",
              "      <td>0</td>\n",
              "      <td>1</td>\n",
              "      <td>0</td>\n",
              "      <td>0</td>\n",
              "      <td>0</td>\n",
              "      <td>0</td>\n",
              "      <td>0</td>\n",
              "      <td>1</td>\n",
              "      <td>0</td>\n",
              "      <td>0</td>\n",
              "      <td>0</td>\n",
              "      <td>0</td>\n",
              "      <td>0</td>\n",
              "      <td>0</td>\n",
              "      <td>0</td>\n",
              "      <td>0</td>\n",
              "      <td>0</td>\n",
              "      <td>0</td>\n",
              "      <td>0</td>\n",
              "      <td>0</td>\n",
              "      <td>1</td>\n",
              "      <td>0</td>\n",
              "      <td>0</td>\n",
              "      <td>0</td>\n",
              "      <td>0</td>\n",
              "      <td>1</td>\n",
              "      <td>0</td>\n",
              "      <td>0</td>\n",
              "    </tr>\n",
              "    <tr>\n",
              "      <th>3</th>\n",
              "      <td>751</td>\n",
              "      <td>0</td>\n",
              "      <td>1</td>\n",
              "      <td>0</td>\n",
              "      <td>0</td>\n",
              "      <td>0</td>\n",
              "      <td>1</td>\n",
              "      <td>0</td>\n",
              "      <td>0</td>\n",
              "      <td>0</td>\n",
              "      <td>0</td>\n",
              "      <td>0</td>\n",
              "      <td>0</td>\n",
              "      <td>0</td>\n",
              "      <td>0</td>\n",
              "      <td>0</td>\n",
              "      <td>0</td>\n",
              "      <td>1</td>\n",
              "      <td>0</td>\n",
              "      <td>0</td>\n",
              "      <td>0</td>\n",
              "      <td>0</td>\n",
              "      <td>0</td>\n",
              "      <td>1</td>\n",
              "      <td>0</td>\n",
              "      <td>0</td>\n",
              "      <td>0</td>\n",
              "      <td>0</td>\n",
              "      <td>0</td>\n",
              "      <td>0</td>\n",
              "      <td>0</td>\n",
              "      <td>1</td>\n",
              "      <td>0</td>\n",
              "      <td>0</td>\n",
              "      <td>0</td>\n",
              "      <td>0</td>\n",
              "      <td>1</td>\n",
              "      <td>0</td>\n",
              "      <td>0</td>\n",
              "      <td>0</td>\n",
              "      <td>...</td>\n",
              "      <td>1</td>\n",
              "      <td>0</td>\n",
              "      <td>0</td>\n",
              "      <td>0</td>\n",
              "      <td>0</td>\n",
              "      <td>0</td>\n",
              "      <td>0</td>\n",
              "      <td>0</td>\n",
              "      <td>0</td>\n",
              "      <td>0</td>\n",
              "      <td>0</td>\n",
              "      <td>0</td>\n",
              "      <td>0</td>\n",
              "      <td>0</td>\n",
              "      <td>1</td>\n",
              "      <td>0</td>\n",
              "      <td>0</td>\n",
              "      <td>0</td>\n",
              "      <td>1</td>\n",
              "      <td>0</td>\n",
              "      <td>0</td>\n",
              "      <td>0</td>\n",
              "      <td>0</td>\n",
              "      <td>0</td>\n",
              "      <td>0</td>\n",
              "      <td>0</td>\n",
              "      <td>0</td>\n",
              "      <td>0</td>\n",
              "      <td>0</td>\n",
              "      <td>0</td>\n",
              "      <td>0</td>\n",
              "      <td>0</td>\n",
              "      <td>1</td>\n",
              "      <td>0</td>\n",
              "      <td>0</td>\n",
              "      <td>0</td>\n",
              "      <td>0</td>\n",
              "      <td>0</td>\n",
              "      <td>1</td>\n",
              "      <td>0</td>\n",
              "    </tr>\n",
              "    <tr>\n",
              "      <th>4</th>\n",
              "      <td>2028</td>\n",
              "      <td>0</td>\n",
              "      <td>1</td>\n",
              "      <td>0</td>\n",
              "      <td>1</td>\n",
              "      <td>0</td>\n",
              "      <td>0</td>\n",
              "      <td>0</td>\n",
              "      <td>0</td>\n",
              "      <td>0</td>\n",
              "      <td>0</td>\n",
              "      <td>0</td>\n",
              "      <td>0</td>\n",
              "      <td>0</td>\n",
              "      <td>0</td>\n",
              "      <td>0</td>\n",
              "      <td>0</td>\n",
              "      <td>1</td>\n",
              "      <td>0</td>\n",
              "      <td>0</td>\n",
              "      <td>0</td>\n",
              "      <td>1</td>\n",
              "      <td>0</td>\n",
              "      <td>0</td>\n",
              "      <td>0</td>\n",
              "      <td>0</td>\n",
              "      <td>0</td>\n",
              "      <td>0</td>\n",
              "      <td>0</td>\n",
              "      <td>0</td>\n",
              "      <td>0</td>\n",
              "      <td>0</td>\n",
              "      <td>0</td>\n",
              "      <td>1</td>\n",
              "      <td>0</td>\n",
              "      <td>0</td>\n",
              "      <td>0</td>\n",
              "      <td>0</td>\n",
              "      <td>0</td>\n",
              "      <td>0</td>\n",
              "      <td>...</td>\n",
              "      <td>0</td>\n",
              "      <td>1</td>\n",
              "      <td>0</td>\n",
              "      <td>1</td>\n",
              "      <td>0</td>\n",
              "      <td>0</td>\n",
              "      <td>0</td>\n",
              "      <td>0</td>\n",
              "      <td>0</td>\n",
              "      <td>0</td>\n",
              "      <td>0</td>\n",
              "      <td>0</td>\n",
              "      <td>1</td>\n",
              "      <td>0</td>\n",
              "      <td>0</td>\n",
              "      <td>0</td>\n",
              "      <td>0</td>\n",
              "      <td>0</td>\n",
              "      <td>1</td>\n",
              "      <td>0</td>\n",
              "      <td>0</td>\n",
              "      <td>0</td>\n",
              "      <td>0</td>\n",
              "      <td>0</td>\n",
              "      <td>0</td>\n",
              "      <td>1</td>\n",
              "      <td>0</td>\n",
              "      <td>0</td>\n",
              "      <td>0</td>\n",
              "      <td>0</td>\n",
              "      <td>0</td>\n",
              "      <td>0</td>\n",
              "      <td>0</td>\n",
              "      <td>0</td>\n",
              "      <td>0</td>\n",
              "      <td>0</td>\n",
              "      <td>0</td>\n",
              "      <td>1</td>\n",
              "      <td>0</td>\n",
              "      <td>0</td>\n",
              "    </tr>\n",
              "  </tbody>\n",
              "</table>\n",
              "<p>5 rows × 207 columns</p>\n",
              "</div>"
            ],
            "text/plain": [
              "   duration  1_Female  1_Male  ...  26_Maybe  26_Probably not  26_Probably yes\n",
              "0       718         1       0  ...         0                0                0\n",
              "1       731         0       1  ...         1                0                0\n",
              "2      1142         0       1  ...         1                0                0\n",
              "3       751         0       1  ...         0                1                0\n",
              "4      2028         0       1  ...         1                0                0\n",
              "\n",
              "[5 rows x 207 columns]"
            ]
          },
          "metadata": {
            "tags": []
          },
          "execution_count": 69
        }
      ]
    },
    {
      "cell_type": "markdown",
      "metadata": {
        "id": "MHlPO9ICuecu",
        "colab_type": "text"
      },
      "source": [
        "* Q27-Q31, Q33, Q36, Q38, Q42, Q44, Q45, Q47, Q49, Q50"
      ]
    },
    {
      "cell_type": "code",
      "metadata": {
        "id": "w9XKxo4yskzS",
        "colab_type": "code",
        "colab": {}
      },
      "source": [
        "preprocess_needed = [27, 28, 29, 30, 31, 36]"
      ],
      "execution_count": null,
      "outputs": []
    },
    {
      "cell_type": "code",
      "metadata": {
        "id": "cmnY-2Hlwfps",
        "colab_type": "code",
        "colab": {}
      },
      "source": [
        "multiple=multiple.drop(['Q38_Part_19'],axis=1)\n",
        "multiple=multiple.drop(['Q38_Part_20'],axis=1)"
      ],
      "execution_count": null,
      "outputs": []
    },
    {
      "cell_type": "code",
      "metadata": {
        "id": "rBNJMz3MskxE",
        "colab_type": "code",
        "colab": {}
      },
      "source": [
        "for i in preprocess_needed : \n",
        "  q = preprocess_multiple(multiple, i)\n",
        "  ndata2 = pd.concat([ndata2, q], axis = 1)"
      ],
      "execution_count": null,
      "outputs": []
    },
    {
      "cell_type": "code",
      "metadata": {
        "id": "PGUgC41UyInB",
        "colab_type": "code",
        "colab": {
          "base_uri": "https://localhost:8080/",
          "height": 35
        },
        "outputId": "dc3b52aa-2860-43b4-b7f9-ebcf7f7fbc3d"
      },
      "source": [
        "ndata2.iloc[1:5, 300:310]\n",
        "ndata2.shape"
      ],
      "execution_count": null,
      "outputs": [
        {
          "output_type": "execute_result",
          "data": {
            "text/plain": [
              "(14092, 348)"
            ]
          },
          "metadata": {
            "tags": []
          },
          "execution_count": 73
        }
      ]
    },
    {
      "cell_type": "code",
      "metadata": {
        "id": "F8u7CPCvyqGA",
        "colab_type": "code",
        "colab": {}
      },
      "source": [
        "ndata3 = pd.DataFrame"
      ],
      "execution_count": null,
      "outputs": []
    },
    {
      "cell_type": "code",
      "metadata": {
        "id": "X1eW22ePyyRU",
        "colab_type": "code",
        "colab": {}
      },
      "source": [
        "ndata3 = ndata2.copy()"
      ],
      "execution_count": null,
      "outputs": []
    },
    {
      "cell_type": "code",
      "metadata": {
        "id": "psaQzGqkv_s9",
        "colab_type": "code",
        "colab": {}
      },
      "source": [
        "for i in [38,42,44,45,47,49,50] : \n",
        "  q = preprocess_multiple(multiple, i)\n",
        "  ndata3 = pd.concat([ndata3, q], axis = 1)"
      ],
      "execution_count": null,
      "outputs": []
    },
    {
      "cell_type": "code",
      "metadata": {
        "id": "67jm5VFGrusk",
        "colab_type": "code",
        "colab": {
          "base_uri": "https://localhost:8080/",
          "height": 206
        },
        "outputId": "978ec614-cdf5-4aae-9d06-ba4fcbc5982f"
      },
      "source": [
        "ndata3.iloc[1:4, 310:330]"
      ],
      "execution_count": null,
      "outputs": [
        {
          "output_type": "execute_result",
          "data": {
            "text/html": [
              "<div>\n",
              "<style scoped>\n",
              "    .dataframe tbody tr th:only-of-type {\n",
              "        vertical-align: middle;\n",
              "    }\n",
              "\n",
              "    .dataframe tbody tr th {\n",
              "        vertical-align: top;\n",
              "    }\n",
              "\n",
              "    .dataframe thead th {\n",
              "        text-align: right;\n",
              "    }\n",
              "</style>\n",
              "<table border=\"1\" class=\"dataframe\">\n",
              "  <thead>\n",
              "    <tr style=\"text-align: right;\">\n",
              "      <th></th>\n",
              "      <th>30_Oracle Exadata</th>\n",
              "      <th>30_Oracle Warehouse Builder</th>\n",
              "      <th>30_SAP IQ</th>\n",
              "      <th>30_Snowflake</th>\n",
              "      <th>30_Databricks</th>\n",
              "      <th>30_Azure SQL Data Warehouse</th>\n",
              "      <th>30_Azure HDInsight</th>\n",
              "      <th>30_Azure Stream Analytics</th>\n",
              "      <th>30_IBM InfoSphere DataStorage</th>\n",
              "      <th>30_IBM Cloud Analytics Engine</th>\n",
              "      <th>30_IBM Cloud Streaming Analytics</th>\n",
              "      <th>30_None</th>\n",
              "      <th>30_Other</th>\n",
              "      <th>31_Audio Data</th>\n",
              "      <th>31_Categorical Data</th>\n",
              "      <th>31_Genetic Data</th>\n",
              "      <th>31_Geospatial Data</th>\n",
              "      <th>31_Image Data</th>\n",
              "      <th>31_Numerical Data</th>\n",
              "      <th>31_Sensor Data</th>\n",
              "    </tr>\n",
              "  </thead>\n",
              "  <tbody>\n",
              "    <tr>\n",
              "      <th>1</th>\n",
              "      <td>0</td>\n",
              "      <td>0</td>\n",
              "      <td>0</td>\n",
              "      <td>0</td>\n",
              "      <td>0</td>\n",
              "      <td>0</td>\n",
              "      <td>0</td>\n",
              "      <td>0</td>\n",
              "      <td>0</td>\n",
              "      <td>0</td>\n",
              "      <td>0</td>\n",
              "      <td>0</td>\n",
              "      <td>0</td>\n",
              "      <td>0</td>\n",
              "      <td>1</td>\n",
              "      <td>0</td>\n",
              "      <td>0</td>\n",
              "      <td>0</td>\n",
              "      <td>0</td>\n",
              "      <td>0</td>\n",
              "    </tr>\n",
              "    <tr>\n",
              "      <th>2</th>\n",
              "      <td>0</td>\n",
              "      <td>0</td>\n",
              "      <td>0</td>\n",
              "      <td>0</td>\n",
              "      <td>0</td>\n",
              "      <td>0</td>\n",
              "      <td>0</td>\n",
              "      <td>0</td>\n",
              "      <td>0</td>\n",
              "      <td>0</td>\n",
              "      <td>0</td>\n",
              "      <td>1</td>\n",
              "      <td>0</td>\n",
              "      <td>0</td>\n",
              "      <td>1</td>\n",
              "      <td>0</td>\n",
              "      <td>1</td>\n",
              "      <td>1</td>\n",
              "      <td>1</td>\n",
              "      <td>0</td>\n",
              "    </tr>\n",
              "    <tr>\n",
              "      <th>3</th>\n",
              "      <td>0</td>\n",
              "      <td>0</td>\n",
              "      <td>0</td>\n",
              "      <td>0</td>\n",
              "      <td>0</td>\n",
              "      <td>0</td>\n",
              "      <td>0</td>\n",
              "      <td>0</td>\n",
              "      <td>0</td>\n",
              "      <td>0</td>\n",
              "      <td>0</td>\n",
              "      <td>0</td>\n",
              "      <td>0</td>\n",
              "      <td>0</td>\n",
              "      <td>0</td>\n",
              "      <td>0</td>\n",
              "      <td>0</td>\n",
              "      <td>0</td>\n",
              "      <td>1</td>\n",
              "      <td>0</td>\n",
              "    </tr>\n",
              "  </tbody>\n",
              "</table>\n",
              "</div>"
            ],
            "text/plain": [
              "   30_Oracle Exadata  ...  31_Sensor Data\n",
              "1                  0  ...               0\n",
              "2                  0  ...               0\n",
              "3                  0  ...               0\n",
              "\n",
              "[3 rows x 20 columns]"
            ]
          },
          "metadata": {
            "tags": []
          },
          "execution_count": 77
        }
      ]
    },
    {
      "cell_type": "markdown",
      "metadata": {
        "id": "6FOZHG5SzFn7",
        "colab_type": "text"
      },
      "source": [
        "* Q32"
      ]
    },
    {
      "cell_type": "code",
      "metadata": {
        "id": "TB22t6KkzE0C",
        "colab_type": "code",
        "colab": {}
      },
      "source": [
        "multiple=multiple.drop(['Q32_OTHER'],axis=1)"
      ],
      "execution_count": null,
      "outputs": []
    },
    {
      "cell_type": "markdown",
      "metadata": {
        "id": "Tz90CLZhztsN",
        "colab_type": "text"
      },
      "source": [
        "* Q34 : 일반적으로 데이터 사이언스 프로젝트 진행 시 각 업무별로 소요되는 시간 비중  =>  빼기. \n",
        "-\n",
        "\n"
      ]
    },
    {
      "cell_type": "code",
      "metadata": {
        "id": "RH_MHa7Szid0",
        "colab_type": "code",
        "colab": {
          "base_uri": "https://localhost:8080/",
          "height": 35
        },
        "outputId": "ea7f2ecf-7287-433b-c55e-c5ed4da69a3e"
      },
      "source": [
        "len(multiple.Q34_Part_1[multiple.Q34_Part_1.isna()]) "
      ],
      "execution_count": null,
      "outputs": [
        {
          "output_type": "execute_result",
          "data": {
            "text/plain": [
              "1785"
            ]
          },
          "metadata": {
            "tags": []
          },
          "execution_count": 79
        }
      ]
    },
    {
      "cell_type": "code",
      "metadata": {
        "id": "J6JreJClz2mi",
        "colab_type": "code",
        "colab": {}
      },
      "source": [
        "q34=multiple[[t for t in multiple.columns if 'Q34_' in t]]/100"
      ],
      "execution_count": null,
      "outputs": []
    },
    {
      "cell_type": "code",
      "metadata": {
        "id": "JEP0TB8h6fQU",
        "colab_type": "code",
        "colab": {}
      },
      "source": [
        "ndata3=pd.concat([ndata3,q34],axis=1)"
      ],
      "execution_count": null,
      "outputs": []
    },
    {
      "cell_type": "code",
      "metadata": {
        "id": "qUH1cWyJtAk1",
        "colab_type": "code",
        "colab": {
          "base_uri": "https://localhost:8080/",
          "height": 194
        },
        "outputId": "74852835-70ad-45fb-f0b0-a24420785fdc"
      },
      "source": [
        "q34.head()"
      ],
      "execution_count": null,
      "outputs": [
        {
          "output_type": "execute_result",
          "data": {
            "text/html": [
              "<div>\n",
              "<style scoped>\n",
              "    .dataframe tbody tr th:only-of-type {\n",
              "        vertical-align: middle;\n",
              "    }\n",
              "\n",
              "    .dataframe tbody tr th {\n",
              "        vertical-align: top;\n",
              "    }\n",
              "\n",
              "    .dataframe thead th {\n",
              "        text-align: right;\n",
              "    }\n",
              "</style>\n",
              "<table border=\"1\" class=\"dataframe\">\n",
              "  <thead>\n",
              "    <tr style=\"text-align: right;\">\n",
              "      <th></th>\n",
              "      <th>Q34_Part_1</th>\n",
              "      <th>Q34_Part_2</th>\n",
              "      <th>Q34_Part_3</th>\n",
              "      <th>Q34_Part_4</th>\n",
              "      <th>Q34_Part_5</th>\n",
              "      <th>Q34_Part_6</th>\n",
              "    </tr>\n",
              "  </thead>\n",
              "  <tbody>\n",
              "    <tr>\n",
              "      <th>0</th>\n",
              "      <td>0.02</td>\n",
              "      <td>0.03</td>\n",
              "      <td>0.20</td>\n",
              "      <td>0.50</td>\n",
              "      <td>0.2</td>\n",
              "      <td>0.00</td>\n",
              "    </tr>\n",
              "    <tr>\n",
              "      <th>1</th>\n",
              "      <td>0.10</td>\n",
              "      <td>0.10</td>\n",
              "      <td>0.20</td>\n",
              "      <td>0.10</td>\n",
              "      <td>0.2</td>\n",
              "      <td>0.23</td>\n",
              "    </tr>\n",
              "    <tr>\n",
              "      <th>2</th>\n",
              "      <td>0.12</td>\n",
              "      <td>0.15</td>\n",
              "      <td>0.13</td>\n",
              "      <td>0.30</td>\n",
              "      <td>0.1</td>\n",
              "      <td>0.00</td>\n",
              "    </tr>\n",
              "    <tr>\n",
              "      <th>3</th>\n",
              "      <td>0.55</td>\n",
              "      <td>0.10</td>\n",
              "      <td>0.20</td>\n",
              "      <td>0.05</td>\n",
              "      <td>0.0</td>\n",
              "      <td>0.10</td>\n",
              "    </tr>\n",
              "    <tr>\n",
              "      <th>4</th>\n",
              "      <td>0.00</td>\n",
              "      <td>0.20</td>\n",
              "      <td>0.30</td>\n",
              "      <td>0.50</td>\n",
              "      <td>0.0</td>\n",
              "      <td>0.00</td>\n",
              "    </tr>\n",
              "  </tbody>\n",
              "</table>\n",
              "</div>"
            ],
            "text/plain": [
              "   Q34_Part_1  Q34_Part_2  Q34_Part_3  Q34_Part_4  Q34_Part_5  Q34_Part_6\n",
              "0        0.02        0.03        0.20        0.50         0.2        0.00\n",
              "1        0.10        0.10        0.20        0.10         0.2        0.23\n",
              "2        0.12        0.15        0.13        0.30         0.1        0.00\n",
              "3        0.55        0.10        0.20        0.05         0.0        0.10\n",
              "4        0.00        0.20        0.30        0.50         0.0        0.00"
            ]
          },
          "metadata": {
            "tags": []
          },
          "execution_count": 82
        }
      ]
    },
    {
      "cell_type": "markdown",
      "metadata": {
        "id": "E-KQNyZR4gQh",
        "colab_type": "text"
      },
      "source": [
        "* Q35"
      ]
    },
    {
      "cell_type": "code",
      "metadata": {
        "id": "GpQ1hfbt4hPf",
        "colab_type": "code",
        "colab": {
          "base_uri": "https://localhost:8080/",
          "height": 35
        },
        "outputId": "d174e59c-2170-4410-b05d-a43af6c44ab3"
      },
      "source": [
        "len(multiple.Q35_Part_1[multiple.Q35_Part_1.isna()]) #NA값 마찬가지로 제외하는게 좋을듯"
      ],
      "execution_count": null,
      "outputs": [
        {
          "output_type": "execute_result",
          "data": {
            "text/plain": [
              "1938"
            ]
          },
          "metadata": {
            "tags": []
          },
          "execution_count": 83
        }
      ]
    },
    {
      "cell_type": "code",
      "metadata": {
        "id": "bi2c4CqE4lDU",
        "colab_type": "code",
        "colab": {}
      },
      "source": [
        "q35=multiple[[t for t in multiple.columns if 'Q35_' in t]]/100\n",
        "q35.columns=['35_'+str(col) for col in q35.columns]\n",
        "ndata3=pd.concat([ndata3, q35],axis=1)"
      ],
      "execution_count": null,
      "outputs": []
    },
    {
      "cell_type": "markdown",
      "metadata": {
        "id": "G8g7psgb4xd3",
        "colab_type": "text"
      },
      "source": [
        "* Q40, Q41, Q43, Q46, Q48"
      ]
    },
    {
      "cell_type": "code",
      "metadata": {
        "id": "N-M8_3lY4w4-",
        "colab_type": "code",
        "colab": {
          "base_uri": "https://localhost:8080/",
          "height": 124
        },
        "outputId": "781d62cf-c3e1-4ba3-87ef-3ddad25435f1"
      },
      "source": [
        "multiple.Q40.unique()"
      ],
      "execution_count": null,
      "outputs": [
        {
          "output_type": "execute_result",
          "data": {
            "text/plain": [
              "array(['Independent projects are equally important as academic achievements',\n",
              "       'Independent projects are slightly more important than academic achievements',\n",
              "       'Independent projects are slightly less important than academic achievements',\n",
              "       'Independent projects are much less important than academic achievements',\n",
              "       'Independent projects are much more important than academic achievements',\n",
              "       'No opinion; I do not know', nan], dtype=object)"
            ]
          },
          "metadata": {
            "tags": []
          },
          "execution_count": 85
        }
      ]
    },
    {
      "cell_type": "code",
      "metadata": {
        "id": "Nx27gKCi5C5A",
        "colab_type": "code",
        "colab": {
          "base_uri": "https://localhost:8080/",
          "height": 35
        },
        "outputId": "f90198f5-1f40-4109-b2b4-6b0605f35b8f"
      },
      "source": [
        "len(multiple.Q40[multiple.Q40.isna()]) #NA값삭제"
      ],
      "execution_count": null,
      "outputs": [
        {
          "output_type": "execute_result",
          "data": {
            "text/plain": [
              "1983"
            ]
          },
          "metadata": {
            "tags": []
          },
          "execution_count": 86
        }
      ]
    },
    {
      "cell_type": "code",
      "metadata": {
        "id": "gpT2sB1Q5H97",
        "colab_type": "code",
        "colab": {}
      },
      "source": [
        "#Numeric encoding\n",
        "encode={'No opinion; I do not know':0, 'Independent projects are much less important than academic achievements':1,\n",
        "        'Independent projects are slightly less important than academic achievements':2,\n",
        "        'Independent projects are equally important as academic achievements':3, \n",
        "        'Independent projects are slightly more important than academic achievements':4,\n",
        "        'Independent projects are much more important than academic achievements':5}\n",
        "tmp=multiple.Q40.copy()\n",
        "tmp=tmp.replace(encode)"
      ],
      "execution_count": null,
      "outputs": []
    },
    {
      "cell_type": "code",
      "metadata": {
        "id": "ew8xs5fg0Azu",
        "colab_type": "code",
        "colab": {}
      },
      "source": [
        "q40=pd.get_dummies(multiple.Q40)\n",
        "q40.columns=['40_'+str(col) for col in q40.columns]"
      ],
      "execution_count": null,
      "outputs": []
    },
    {
      "cell_type": "code",
      "metadata": {
        "id": "zvq1O4pH5M0C",
        "colab_type": "code",
        "colab": {}
      },
      "source": [
        "ndata3 = pd.concat([ndata3,q40],axis=1)"
      ],
      "execution_count": null,
      "outputs": []
    },
    {
      "cell_type": "markdown",
      "metadata": {
        "id": "ijaHiFA70bdX",
        "colab_type": "text"
      },
      "source": [
        "* Q41 => 제거할수도. or 3점 척도 -> /3으로 range 1 사이로 변형 "
      ]
    },
    {
      "cell_type": "code",
      "metadata": {
        "id": "Oyr-k_ZGTV-V",
        "colab_type": "code",
        "colab": {}
      },
      "source": [
        "##Q41\n",
        "encode = {'Very important':3, 'Slightly important':2,\n",
        "       'Not at all important':1, 'No opinion; I do not know':0}\n",
        "tmp = multiple[[i for i in multiple.columns if 'Q41_' in i]]\n",
        "tmp = tmp.replace(encode)\n",
        "tmp = tmp.fillna(0)\n",
        "\n",
        "tmp = tmp.astype(int)\n",
        "tmp = tmp/3"
      ],
      "execution_count": null,
      "outputs": []
    },
    {
      "cell_type": "code",
      "metadata": {
        "id": "bUVGTc7u68O7",
        "colab_type": "code",
        "colab": {}
      },
      "source": [
        "ndata3 = pd.concat([ndata3,tmp],axis=1)"
      ],
      "execution_count": null,
      "outputs": []
    },
    {
      "cell_type": "code",
      "metadata": {
        "id": "xQ_sDPc66823",
        "colab_type": "code",
        "colab": {
          "base_uri": "https://localhost:8080/",
          "height": 463
        },
        "outputId": "e3770813-ebaf-4979-be21-55be7482aba1"
      },
      "source": [
        "ndata3.head()"
      ],
      "execution_count": null,
      "outputs": [
        {
          "output_type": "execute_result",
          "data": {
            "text/html": [
              "<div>\n",
              "<style scoped>\n",
              "    .dataframe tbody tr th:only-of-type {\n",
              "        vertical-align: middle;\n",
              "    }\n",
              "\n",
              "    .dataframe tbody tr th {\n",
              "        vertical-align: top;\n",
              "    }\n",
              "\n",
              "    .dataframe thead th {\n",
              "        text-align: right;\n",
              "    }\n",
              "</style>\n",
              "<table border=\"1\" class=\"dataframe\">\n",
              "  <thead>\n",
              "    <tr style=\"text-align: right;\">\n",
              "      <th></th>\n",
              "      <th>duration</th>\n",
              "      <th>1_Female</th>\n",
              "      <th>1_Male</th>\n",
              "      <th>2_18-21</th>\n",
              "      <th>2_22-24</th>\n",
              "      <th>2_25-29</th>\n",
              "      <th>2_30-34</th>\n",
              "      <th>2_35-39</th>\n",
              "      <th>2_40-44</th>\n",
              "      <th>2_45-49</th>\n",
              "      <th>2_50-54</th>\n",
              "      <th>2_55-59</th>\n",
              "      <th>2_60-69</th>\n",
              "      <th>2_70-79</th>\n",
              "      <th>2_80+</th>\n",
              "      <th>3_Africa</th>\n",
              "      <th>3_Asia</th>\n",
              "      <th>3_Europe</th>\n",
              "      <th>3_NorthAmerica</th>\n",
              "      <th>3_Oceania</th>\n",
              "      <th>3_SouthAmerica</th>\n",
              "      <th>4_Bachelor’s degree</th>\n",
              "      <th>4_Doctoral degree</th>\n",
              "      <th>4_Master’s degree</th>\n",
              "      <th>4_No formal education past high school</th>\n",
              "      <th>4_Professional degree</th>\n",
              "      <th>4_Some college/university study without earning a bachelor’s degree</th>\n",
              "      <th>Business Analyst</th>\n",
              "      <th>Data Analyst</th>\n",
              "      <th>Data Engineer/DBA</th>\n",
              "      <th>Data Scientist</th>\n",
              "      <th>Software Engineer</th>\n",
              "      <th>Statistician/Research Scientist</th>\n",
              "      <th>Student</th>\n",
              "      <th>5_A business discipline (accounting, economics, finance, etc.)</th>\n",
              "      <th>5_Computer science (software engineering, etc.)</th>\n",
              "      <th>5_Engineering (non-computer focused)</th>\n",
              "      <th>5_Environmental science or geology</th>\n",
              "      <th>5_Fine arts or performing arts</th>\n",
              "      <th>5_Humanities (history, literature, philosophy, etc.)</th>\n",
              "      <th>...</th>\n",
              "      <th>49_Share both data and code on Github or a similar code-sharing repository</th>\n",
              "      <th>49_Share data, code, and environment using a hosted service (Kaggle Kernels, Google Colaboratory, Amazon SageMaker, etc.)</th>\n",
              "      <th>49_Share data, code, and environment using containers (Docker, etc.)</th>\n",
              "      <th>49_Share code, data, and environment using virtual machines (VirtualBox, etc.)</th>\n",
              "      <th>49_Make sure the code is well documented</th>\n",
              "      <th>49_Make sure the code is human-readable</th>\n",
              "      <th>49_Define all random seeds</th>\n",
              "      <th>49_Define relative rather than absolute file paths</th>\n",
              "      <th>49_Include a text file describing all dependencies</th>\n",
              "      <th>49_None/I do not make my work easy for others to reproduce</th>\n",
              "      <th>49_Other</th>\n",
              "      <th>50_Too expensive</th>\n",
              "      <th>50_Too time-consuming</th>\n",
              "      <th>50_Requires too much technical knowledge</th>\n",
              "      <th>50_Afraid that others will use my work without giving proper credit</th>\n",
              "      <th>50_Not enough incentives to share my work</th>\n",
              "      <th>50_I had never considered making my work easier for others to reproduce</th>\n",
              "      <th>50_None of these reasons apply to me</th>\n",
              "      <th>50_Other</th>\n",
              "      <th>Q34_Part_1</th>\n",
              "      <th>Q34_Part_2</th>\n",
              "      <th>Q34_Part_3</th>\n",
              "      <th>Q34_Part_4</th>\n",
              "      <th>Q34_Part_5</th>\n",
              "      <th>Q34_Part_6</th>\n",
              "      <th>35_Q35_Part_1</th>\n",
              "      <th>35_Q35_Part_2</th>\n",
              "      <th>35_Q35_Part_3</th>\n",
              "      <th>35_Q35_Part_4</th>\n",
              "      <th>35_Q35_Part_5</th>\n",
              "      <th>35_Q35_Part_6</th>\n",
              "      <th>40_Independent projects are equally important as academic achievements</th>\n",
              "      <th>40_Independent projects are much less important than academic achievements</th>\n",
              "      <th>40_Independent projects are much more important than academic achievements</th>\n",
              "      <th>40_Independent projects are slightly less important than academic achievements</th>\n",
              "      <th>40_Independent projects are slightly more important than academic achievements</th>\n",
              "      <th>40_No opinion; I do not know</th>\n",
              "      <th>Q41_Part_1</th>\n",
              "      <th>Q41_Part_2</th>\n",
              "      <th>Q41_Part_3</th>\n",
              "    </tr>\n",
              "  </thead>\n",
              "  <tbody>\n",
              "    <tr>\n",
              "      <th>0</th>\n",
              "      <td>718</td>\n",
              "      <td>1</td>\n",
              "      <td>0</td>\n",
              "      <td>0</td>\n",
              "      <td>0</td>\n",
              "      <td>0</td>\n",
              "      <td>1</td>\n",
              "      <td>0</td>\n",
              "      <td>0</td>\n",
              "      <td>0</td>\n",
              "      <td>0</td>\n",
              "      <td>0</td>\n",
              "      <td>0</td>\n",
              "      <td>0</td>\n",
              "      <td>0</td>\n",
              "      <td>0</td>\n",
              "      <td>0</td>\n",
              "      <td>0</td>\n",
              "      <td>1</td>\n",
              "      <td>0</td>\n",
              "      <td>0</td>\n",
              "      <td>0</td>\n",
              "      <td>0</td>\n",
              "      <td>1</td>\n",
              "      <td>0</td>\n",
              "      <td>0</td>\n",
              "      <td>0</td>\n",
              "      <td>0</td>\n",
              "      <td>0</td>\n",
              "      <td>0</td>\n",
              "      <td>0</td>\n",
              "      <td>0</td>\n",
              "      <td>0</td>\n",
              "      <td>1</td>\n",
              "      <td>0</td>\n",
              "      <td>1</td>\n",
              "      <td>0</td>\n",
              "      <td>0</td>\n",
              "      <td>0</td>\n",
              "      <td>0</td>\n",
              "      <td>...</td>\n",
              "      <td>0</td>\n",
              "      <td>0</td>\n",
              "      <td>0</td>\n",
              "      <td>0</td>\n",
              "      <td>0</td>\n",
              "      <td>1</td>\n",
              "      <td>1</td>\n",
              "      <td>0</td>\n",
              "      <td>1</td>\n",
              "      <td>0</td>\n",
              "      <td>0</td>\n",
              "      <td>0</td>\n",
              "      <td>1</td>\n",
              "      <td>0</td>\n",
              "      <td>0</td>\n",
              "      <td>0</td>\n",
              "      <td>0</td>\n",
              "      <td>0</td>\n",
              "      <td>0</td>\n",
              "      <td>0.02</td>\n",
              "      <td>0.03</td>\n",
              "      <td>0.20</td>\n",
              "      <td>0.50</td>\n",
              "      <td>0.2</td>\n",
              "      <td>0.00</td>\n",
              "      <td>0.0</td>\n",
              "      <td>0.0</td>\n",
              "      <td>0.0</td>\n",
              "      <td>1.0</td>\n",
              "      <td>0.0</td>\n",
              "      <td>0.0</td>\n",
              "      <td>1</td>\n",
              "      <td>0</td>\n",
              "      <td>0</td>\n",
              "      <td>0</td>\n",
              "      <td>0</td>\n",
              "      <td>0</td>\n",
              "      <td>1.000000</td>\n",
              "      <td>1.000000</td>\n",
              "      <td>1.000000</td>\n",
              "    </tr>\n",
              "    <tr>\n",
              "      <th>1</th>\n",
              "      <td>731</td>\n",
              "      <td>0</td>\n",
              "      <td>1</td>\n",
              "      <td>0</td>\n",
              "      <td>1</td>\n",
              "      <td>0</td>\n",
              "      <td>0</td>\n",
              "      <td>0</td>\n",
              "      <td>0</td>\n",
              "      <td>0</td>\n",
              "      <td>0</td>\n",
              "      <td>0</td>\n",
              "      <td>0</td>\n",
              "      <td>0</td>\n",
              "      <td>0</td>\n",
              "      <td>0</td>\n",
              "      <td>1</td>\n",
              "      <td>0</td>\n",
              "      <td>0</td>\n",
              "      <td>0</td>\n",
              "      <td>0</td>\n",
              "      <td>0</td>\n",
              "      <td>0</td>\n",
              "      <td>1</td>\n",
              "      <td>0</td>\n",
              "      <td>0</td>\n",
              "      <td>0</td>\n",
              "      <td>0</td>\n",
              "      <td>0</td>\n",
              "      <td>0</td>\n",
              "      <td>0</td>\n",
              "      <td>0</td>\n",
              "      <td>0</td>\n",
              "      <td>1</td>\n",
              "      <td>0</td>\n",
              "      <td>0</td>\n",
              "      <td>0</td>\n",
              "      <td>0</td>\n",
              "      <td>0</td>\n",
              "      <td>0</td>\n",
              "      <td>...</td>\n",
              "      <td>0</td>\n",
              "      <td>0</td>\n",
              "      <td>0</td>\n",
              "      <td>0</td>\n",
              "      <td>0</td>\n",
              "      <td>0</td>\n",
              "      <td>0</td>\n",
              "      <td>1</td>\n",
              "      <td>0</td>\n",
              "      <td>0</td>\n",
              "      <td>0</td>\n",
              "      <td>0</td>\n",
              "      <td>1</td>\n",
              "      <td>0</td>\n",
              "      <td>0</td>\n",
              "      <td>1</td>\n",
              "      <td>0</td>\n",
              "      <td>0</td>\n",
              "      <td>0</td>\n",
              "      <td>0.10</td>\n",
              "      <td>0.10</td>\n",
              "      <td>0.20</td>\n",
              "      <td>0.10</td>\n",
              "      <td>0.2</td>\n",
              "      <td>0.23</td>\n",
              "      <td>0.2</td>\n",
              "      <td>0.4</td>\n",
              "      <td>0.2</td>\n",
              "      <td>0.2</td>\n",
              "      <td>0.0</td>\n",
              "      <td>0.0</td>\n",
              "      <td>0</td>\n",
              "      <td>0</td>\n",
              "      <td>0</td>\n",
              "      <td>0</td>\n",
              "      <td>1</td>\n",
              "      <td>0</td>\n",
              "      <td>0.333333</td>\n",
              "      <td>0.666667</td>\n",
              "      <td>1.000000</td>\n",
              "    </tr>\n",
              "    <tr>\n",
              "      <th>2</th>\n",
              "      <td>1142</td>\n",
              "      <td>0</td>\n",
              "      <td>1</td>\n",
              "      <td>0</td>\n",
              "      <td>0</td>\n",
              "      <td>1</td>\n",
              "      <td>0</td>\n",
              "      <td>0</td>\n",
              "      <td>0</td>\n",
              "      <td>0</td>\n",
              "      <td>0</td>\n",
              "      <td>0</td>\n",
              "      <td>0</td>\n",
              "      <td>0</td>\n",
              "      <td>0</td>\n",
              "      <td>0</td>\n",
              "      <td>0</td>\n",
              "      <td>0</td>\n",
              "      <td>0</td>\n",
              "      <td>0</td>\n",
              "      <td>1</td>\n",
              "      <td>1</td>\n",
              "      <td>0</td>\n",
              "      <td>0</td>\n",
              "      <td>0</td>\n",
              "      <td>0</td>\n",
              "      <td>0</td>\n",
              "      <td>0</td>\n",
              "      <td>0</td>\n",
              "      <td>0</td>\n",
              "      <td>1</td>\n",
              "      <td>0</td>\n",
              "      <td>0</td>\n",
              "      <td>0</td>\n",
              "      <td>0</td>\n",
              "      <td>0</td>\n",
              "      <td>0</td>\n",
              "      <td>0</td>\n",
              "      <td>0</td>\n",
              "      <td>0</td>\n",
              "      <td>...</td>\n",
              "      <td>1</td>\n",
              "      <td>1</td>\n",
              "      <td>0</td>\n",
              "      <td>1</td>\n",
              "      <td>1</td>\n",
              "      <td>1</td>\n",
              "      <td>0</td>\n",
              "      <td>0</td>\n",
              "      <td>1</td>\n",
              "      <td>0</td>\n",
              "      <td>0</td>\n",
              "      <td>0</td>\n",
              "      <td>0</td>\n",
              "      <td>0</td>\n",
              "      <td>1</td>\n",
              "      <td>0</td>\n",
              "      <td>1</td>\n",
              "      <td>0</td>\n",
              "      <td>0</td>\n",
              "      <td>0.12</td>\n",
              "      <td>0.15</td>\n",
              "      <td>0.13</td>\n",
              "      <td>0.30</td>\n",
              "      <td>0.1</td>\n",
              "      <td>0.00</td>\n",
              "      <td>0.4</td>\n",
              "      <td>0.2</td>\n",
              "      <td>0.1</td>\n",
              "      <td>0.0</td>\n",
              "      <td>0.3</td>\n",
              "      <td>0.0</td>\n",
              "      <td>0</td>\n",
              "      <td>0</td>\n",
              "      <td>0</td>\n",
              "      <td>1</td>\n",
              "      <td>0</td>\n",
              "      <td>0</td>\n",
              "      <td>1.000000</td>\n",
              "      <td>1.000000</td>\n",
              "      <td>1.000000</td>\n",
              "    </tr>\n",
              "    <tr>\n",
              "      <th>3</th>\n",
              "      <td>751</td>\n",
              "      <td>0</td>\n",
              "      <td>1</td>\n",
              "      <td>0</td>\n",
              "      <td>0</td>\n",
              "      <td>0</td>\n",
              "      <td>1</td>\n",
              "      <td>0</td>\n",
              "      <td>0</td>\n",
              "      <td>0</td>\n",
              "      <td>0</td>\n",
              "      <td>0</td>\n",
              "      <td>0</td>\n",
              "      <td>0</td>\n",
              "      <td>0</td>\n",
              "      <td>0</td>\n",
              "      <td>0</td>\n",
              "      <td>1</td>\n",
              "      <td>0</td>\n",
              "      <td>0</td>\n",
              "      <td>0</td>\n",
              "      <td>0</td>\n",
              "      <td>0</td>\n",
              "      <td>1</td>\n",
              "      <td>0</td>\n",
              "      <td>0</td>\n",
              "      <td>0</td>\n",
              "      <td>0</td>\n",
              "      <td>0</td>\n",
              "      <td>0</td>\n",
              "      <td>0</td>\n",
              "      <td>1</td>\n",
              "      <td>0</td>\n",
              "      <td>0</td>\n",
              "      <td>0</td>\n",
              "      <td>0</td>\n",
              "      <td>1</td>\n",
              "      <td>0</td>\n",
              "      <td>0</td>\n",
              "      <td>0</td>\n",
              "      <td>...</td>\n",
              "      <td>0</td>\n",
              "      <td>1</td>\n",
              "      <td>0</td>\n",
              "      <td>0</td>\n",
              "      <td>1</td>\n",
              "      <td>1</td>\n",
              "      <td>1</td>\n",
              "      <td>0</td>\n",
              "      <td>1</td>\n",
              "      <td>0</td>\n",
              "      <td>0</td>\n",
              "      <td>0</td>\n",
              "      <td>1</td>\n",
              "      <td>0</td>\n",
              "      <td>1</td>\n",
              "      <td>0</td>\n",
              "      <td>0</td>\n",
              "      <td>0</td>\n",
              "      <td>0</td>\n",
              "      <td>0.55</td>\n",
              "      <td>0.10</td>\n",
              "      <td>0.20</td>\n",
              "      <td>0.05</td>\n",
              "      <td>0.0</td>\n",
              "      <td>0.10</td>\n",
              "      <td>0.7</td>\n",
              "      <td>0.3</td>\n",
              "      <td>0.0</td>\n",
              "      <td>0.0</td>\n",
              "      <td>0.0</td>\n",
              "      <td>0.0</td>\n",
              "      <td>1</td>\n",
              "      <td>0</td>\n",
              "      <td>0</td>\n",
              "      <td>0</td>\n",
              "      <td>0</td>\n",
              "      <td>0</td>\n",
              "      <td>0.333333</td>\n",
              "      <td>1.000000</td>\n",
              "      <td>0.666667</td>\n",
              "    </tr>\n",
              "    <tr>\n",
              "      <th>4</th>\n",
              "      <td>2028</td>\n",
              "      <td>0</td>\n",
              "      <td>1</td>\n",
              "      <td>0</td>\n",
              "      <td>1</td>\n",
              "      <td>0</td>\n",
              "      <td>0</td>\n",
              "      <td>0</td>\n",
              "      <td>0</td>\n",
              "      <td>0</td>\n",
              "      <td>0</td>\n",
              "      <td>0</td>\n",
              "      <td>0</td>\n",
              "      <td>0</td>\n",
              "      <td>0</td>\n",
              "      <td>0</td>\n",
              "      <td>0</td>\n",
              "      <td>1</td>\n",
              "      <td>0</td>\n",
              "      <td>0</td>\n",
              "      <td>0</td>\n",
              "      <td>1</td>\n",
              "      <td>0</td>\n",
              "      <td>0</td>\n",
              "      <td>0</td>\n",
              "      <td>0</td>\n",
              "      <td>0</td>\n",
              "      <td>0</td>\n",
              "      <td>0</td>\n",
              "      <td>0</td>\n",
              "      <td>0</td>\n",
              "      <td>0</td>\n",
              "      <td>0</td>\n",
              "      <td>1</td>\n",
              "      <td>0</td>\n",
              "      <td>0</td>\n",
              "      <td>0</td>\n",
              "      <td>0</td>\n",
              "      <td>0</td>\n",
              "      <td>0</td>\n",
              "      <td>...</td>\n",
              "      <td>0</td>\n",
              "      <td>0</td>\n",
              "      <td>0</td>\n",
              "      <td>0</td>\n",
              "      <td>1</td>\n",
              "      <td>1</td>\n",
              "      <td>1</td>\n",
              "      <td>0</td>\n",
              "      <td>0</td>\n",
              "      <td>0</td>\n",
              "      <td>0</td>\n",
              "      <td>0</td>\n",
              "      <td>1</td>\n",
              "      <td>0</td>\n",
              "      <td>0</td>\n",
              "      <td>0</td>\n",
              "      <td>0</td>\n",
              "      <td>0</td>\n",
              "      <td>0</td>\n",
              "      <td>0.00</td>\n",
              "      <td>0.20</td>\n",
              "      <td>0.30</td>\n",
              "      <td>0.50</td>\n",
              "      <td>0.0</td>\n",
              "      <td>0.00</td>\n",
              "      <td>0.0</td>\n",
              "      <td>0.5</td>\n",
              "      <td>0.0</td>\n",
              "      <td>0.4</td>\n",
              "      <td>0.1</td>\n",
              "      <td>0.0</td>\n",
              "      <td>1</td>\n",
              "      <td>0</td>\n",
              "      <td>0</td>\n",
              "      <td>0</td>\n",
              "      <td>0</td>\n",
              "      <td>0</td>\n",
              "      <td>1.000000</td>\n",
              "      <td>1.000000</td>\n",
              "      <td>1.000000</td>\n",
              "    </tr>\n",
              "  </tbody>\n",
              "</table>\n",
              "<p>5 rows × 442 columns</p>\n",
              "</div>"
            ],
            "text/plain": [
              "   duration  1_Female  1_Male  ...  Q41_Part_1  Q41_Part_2  Q41_Part_3\n",
              "0       718         1       0  ...    1.000000    1.000000    1.000000\n",
              "1       731         0       1  ...    0.333333    0.666667    1.000000\n",
              "2      1142         0       1  ...    1.000000    1.000000    1.000000\n",
              "3       751         0       1  ...    0.333333    1.000000    0.666667\n",
              "4      2028         0       1  ...    1.000000    1.000000    1.000000\n",
              "\n",
              "[5 rows x 442 columns]"
            ]
          },
          "metadata": {
            "tags": []
          },
          "execution_count": 92
        }
      ]
    },
    {
      "cell_type": "markdown",
      "metadata": {
        "id": "1BeJu7H-2U8s",
        "colab_type": "text"
      },
      "source": [
        "1 0 Recoding "
      ]
    },
    {
      "cell_type": "code",
      "metadata": {
        "id": "A5HmBvH71qhu",
        "colab_type": "code",
        "colab": {
          "base_uri": "https://localhost:8080/",
          "height": 194
        },
        "outputId": "69c8ebb6-2e4e-46d6-f9a7-062e49321084"
      },
      "source": [
        "##Q41\n",
        "encode = {'Very important':3, 'Slightly important':2,\n",
        "       'Not at all important':1, 'No opinion; I do not know':0}\n",
        "q41 = multiple[[i for i in multiple.columns if 'Q41_' in i]]\n",
        "q41 = q41.replace(encode)\n",
        "q41 = q41.fillna(0)\n",
        "q41=q41.astype(int) \n",
        "q41[q41!=3]=0\n",
        "q41[q41==3]=1\n",
        "q41.head()"
      ],
      "execution_count": null,
      "outputs": [
        {
          "output_type": "execute_result",
          "data": {
            "text/html": [
              "<div>\n",
              "<style scoped>\n",
              "    .dataframe tbody tr th:only-of-type {\n",
              "        vertical-align: middle;\n",
              "    }\n",
              "\n",
              "    .dataframe tbody tr th {\n",
              "        vertical-align: top;\n",
              "    }\n",
              "\n",
              "    .dataframe thead th {\n",
              "        text-align: right;\n",
              "    }\n",
              "</style>\n",
              "<table border=\"1\" class=\"dataframe\">\n",
              "  <thead>\n",
              "    <tr style=\"text-align: right;\">\n",
              "      <th></th>\n",
              "      <th>Q41_Part_1</th>\n",
              "      <th>Q41_Part_2</th>\n",
              "      <th>Q41_Part_3</th>\n",
              "    </tr>\n",
              "  </thead>\n",
              "  <tbody>\n",
              "    <tr>\n",
              "      <th>0</th>\n",
              "      <td>1</td>\n",
              "      <td>1</td>\n",
              "      <td>1</td>\n",
              "    </tr>\n",
              "    <tr>\n",
              "      <th>1</th>\n",
              "      <td>0</td>\n",
              "      <td>0</td>\n",
              "      <td>1</td>\n",
              "    </tr>\n",
              "    <tr>\n",
              "      <th>2</th>\n",
              "      <td>1</td>\n",
              "      <td>1</td>\n",
              "      <td>1</td>\n",
              "    </tr>\n",
              "    <tr>\n",
              "      <th>3</th>\n",
              "      <td>0</td>\n",
              "      <td>1</td>\n",
              "      <td>0</td>\n",
              "    </tr>\n",
              "    <tr>\n",
              "      <th>4</th>\n",
              "      <td>1</td>\n",
              "      <td>1</td>\n",
              "      <td>1</td>\n",
              "    </tr>\n",
              "  </tbody>\n",
              "</table>\n",
              "</div>"
            ],
            "text/plain": [
              "   Q41_Part_1  Q41_Part_2  Q41_Part_3\n",
              "0           1           1           1\n",
              "1           0           0           1\n",
              "2           1           1           1\n",
              "3           0           1           0\n",
              "4           1           1           1"
            ]
          },
          "metadata": {
            "tags": []
          },
          "execution_count": 93
        }
      ]
    },
    {
      "cell_type": "markdown",
      "metadata": {
        "id": "_kGZuMHU2PLs",
        "colab_type": "text"
      },
      "source": [
        "* Q43 : drop - too many classes. 척도형 "
      ]
    },
    {
      "cell_type": "code",
      "metadata": {
        "id": "vmpKz4Ey5PJP",
        "colab_type": "code",
        "colab": {
          "base_uri": "https://localhost:8080/",
          "height": 52
        },
        "outputId": "38ae549c-7c8e-4580-96e3-481c534faeb6"
      },
      "source": [
        "multiple.Q43.unique()"
      ],
      "execution_count": null,
      "outputs": [
        {
          "output_type": "execute_result",
          "data": {
            "text/plain": [
              "array(['0-10', '20-30', '0', '10-20', '30-40', nan, '60-70', '40-50',\n",
              "       '90-100', '70-80', '50-60', '80-90'], dtype=object)"
            ]
          },
          "metadata": {
            "tags": []
          },
          "execution_count": 94
        }
      ]
    },
    {
      "cell_type": "code",
      "metadata": {
        "id": "yupmgmTk5UpN",
        "colab_type": "code",
        "colab": {
          "base_uri": "https://localhost:8080/",
          "height": 35
        },
        "outputId": "7b46f096-660d-40d9-feac-ed1064f5a2ad"
      },
      "source": [
        "len(multiple.Q43[multiple.Q43.isna()]) #NA값 삭제"
      ],
      "execution_count": null,
      "outputs": [
        {
          "output_type": "execute_result",
          "data": {
            "text/plain": [
              "3962"
            ]
          },
          "metadata": {
            "tags": []
          },
          "execution_count": 95
        }
      ]
    },
    {
      "cell_type": "code",
      "metadata": {
        "id": "L-lFygG-5XGW",
        "colab_type": "code",
        "colab": {}
      },
      "source": [
        "#numeric encoding\n",
        "encode = {'0-10':1, '20-30':3, '0':0, '10-20':2, '30-40':4, '60-70':7, '40-50':5,\n",
        "       '90-100':10, '70-80':8, '50-60':6, '80-90':9}\n",
        "tmp = multiple.Q43.copy()\n",
        "tmp = tmp.replace(encode)"
      ],
      "execution_count": null,
      "outputs": []
    },
    {
      "cell_type": "code",
      "metadata": {
        "id": "g4mFcLve3bo5",
        "colab_type": "code",
        "colab": {}
      },
      "source": [
        "q43=pd.get_dummies(multiple.Q43)\n",
        "q43.columns=['43_'+str(col) for col in q43.columns]\n",
        "ndata3=pd.concat([ndata3,q43],axis=1)"
      ],
      "execution_count": null,
      "outputs": []
    },
    {
      "cell_type": "markdown",
      "metadata": {
        "id": "TGYJJuiC4De1",
        "colab_type": "text"
      },
      "source": [
        "* Q46 - drop : too many classes "
      ]
    },
    {
      "cell_type": "code",
      "metadata": {
        "id": "MGmTiPN-5caW",
        "colab_type": "code",
        "colab": {
          "base_uri": "https://localhost:8080/",
          "height": 52
        },
        "outputId": "d6e94db7-06cf-45b7-c023-f47e190f1015"
      },
      "source": [
        "multiple.Q46.unique()"
      ],
      "execution_count": null,
      "outputs": [
        {
          "output_type": "execute_result",
          "data": {
            "text/plain": [
              "array(['10-20', '20-30', '0', '50-60', '0-10', '40-50', '90-100', nan,\n",
              "       '30-40', '70-80', '80-90', '60-70'], dtype=object)"
            ]
          },
          "metadata": {
            "tags": []
          },
          "execution_count": 98
        }
      ]
    },
    {
      "cell_type": "code",
      "metadata": {
        "id": "rYNClTGx5ezH",
        "colab_type": "code",
        "colab": {}
      },
      "source": [
        "#numeric encoding\n",
        "encode = {'0-10':1, '20-30':3, '0':0, '10-20':2, '30-40':4, '60-70':7, '40-50':5,\n",
        "       '90-100':10, '70-80':8, '50-60':6, '80-90':9}\n",
        "tmp = multiple.Q46.copy()\n",
        "tmp = tmp.replace(encode)"
      ],
      "execution_count": null,
      "outputs": []
    },
    {
      "cell_type": "code",
      "metadata": {
        "id": "hoSUIxZb3vBd",
        "colab_type": "code",
        "colab": {}
      },
      "source": [
        "q46=pd.get_dummies(multiple.Q46)\n",
        "q46.columns=['46_'+str(col) for col in q46.columns]\n",
        "ndata3=pd.concat([ndata3,q46],axis=1)"
      ],
      "execution_count": null,
      "outputs": []
    },
    {
      "cell_type": "markdown",
      "metadata": {
        "id": "3r9OVVQa4XPo",
        "colab_type": "text"
      },
      "source": [
        "* Q48"
      ]
    },
    {
      "cell_type": "code",
      "metadata": {
        "id": "mta2zZZD5mKX",
        "colab_type": "code",
        "colab": {
          "base_uri": "https://localhost:8080/",
          "height": 106
        },
        "outputId": "b846430f-97bb-43fc-bf56-5f385903e2f2"
      },
      "source": [
        "multiple.Q48.unique()"
      ],
      "execution_count": null,
      "outputs": [
        {
          "output_type": "execute_result",
          "data": {
            "text/plain": [
              "array(['I am confident that I can explain the outputs of most if not all ML models',\n",
              "       'I am confident that I can understand and explain the outputs of many but not all ML models',\n",
              "       'I view ML models as \"black boxes\" but I am confident that experts are able to explain model outputs',\n",
              "       'I do not know; I have no opinion on the matter',\n",
              "       'Yes, most ML models are \"black boxes\"', nan], dtype=object)"
            ]
          },
          "metadata": {
            "tags": []
          },
          "execution_count": 101
        }
      ]
    },
    {
      "cell_type": "code",
      "metadata": {
        "id": "2N2cjaPk5oxF",
        "colab_type": "code",
        "colab": {}
      },
      "source": [
        "#numeric encoding\n",
        "encode = {'I am confident that I can explain the outputs of most if not all ML models':1,\n",
        "       'Yes, most ML models are \"black boxes\"':4,\n",
        "       'I am confident that I can understand and explain the outputs of many but not all ML models':2,\n",
        "       'I view ML models as \"black boxes\" but I am confident that experts are able to explain model outputs':3,\n",
        "       'I do not know; I have no opinion on the matter':0}\n",
        "tmp = multiple.Q48.copy()\n",
        "tmp = tmp.replace(encode)"
      ],
      "execution_count": null,
      "outputs": []
    },
    {
      "cell_type": "code",
      "metadata": {
        "id": "P5Yw5-0S4clN",
        "colab_type": "code",
        "colab": {}
      },
      "source": [
        "q48=pd.get_dummies(multiple.Q48)\n",
        "q48.columns=['48_'+str(col) for col in q48.columns]\n",
        "ndata3=pd.concat([ndata3,q48],axis=1)"
      ],
      "execution_count": null,
      "outputs": []
    },
    {
      "cell_type": "code",
      "metadata": {
        "id": "SsjpX4FC7TjC",
        "colab_type": "code",
        "colab": {
          "base_uri": "https://localhost:8080/",
          "height": 35
        },
        "outputId": "1b9e3313-6d2b-4dc8-951c-ef38576b4c90"
      },
      "source": [
        "ndata3.shape"
      ],
      "execution_count": null,
      "outputs": [
        {
          "output_type": "execute_result",
          "data": {
            "text/plain": [
              "(14092, 469)"
            ]
          },
          "metadata": {
            "tags": []
          },
          "execution_count": 104
        }
      ]
    },
    {
      "cell_type": "code",
      "metadata": {
        "id": "gMsjydxOU5sK",
        "colab_type": "code",
        "colab": {
          "base_uri": "https://localhost:8080/",
          "height": 446
        },
        "outputId": "5d7d1f42-6dec-4a88-a22e-6fa83738c292"
      },
      "source": [
        "ndata3.head()"
      ],
      "execution_count": null,
      "outputs": [
        {
          "output_type": "execute_result",
          "data": {
            "text/html": [
              "<div>\n",
              "<style scoped>\n",
              "    .dataframe tbody tr th:only-of-type {\n",
              "        vertical-align: middle;\n",
              "    }\n",
              "\n",
              "    .dataframe tbody tr th {\n",
              "        vertical-align: top;\n",
              "    }\n",
              "\n",
              "    .dataframe thead th {\n",
              "        text-align: right;\n",
              "    }\n",
              "</style>\n",
              "<table border=\"1\" class=\"dataframe\">\n",
              "  <thead>\n",
              "    <tr style=\"text-align: right;\">\n",
              "      <th></th>\n",
              "      <th>duration</th>\n",
              "      <th>1_Female</th>\n",
              "      <th>1_Male</th>\n",
              "      <th>2_18-21</th>\n",
              "      <th>2_22-24</th>\n",
              "      <th>2_25-29</th>\n",
              "      <th>2_30-34</th>\n",
              "      <th>2_35-39</th>\n",
              "      <th>2_40-44</th>\n",
              "      <th>2_45-49</th>\n",
              "      <th>2_50-54</th>\n",
              "      <th>2_55-59</th>\n",
              "      <th>2_60-69</th>\n",
              "      <th>2_70-79</th>\n",
              "      <th>2_80+</th>\n",
              "      <th>3_Africa</th>\n",
              "      <th>3_Asia</th>\n",
              "      <th>3_Europe</th>\n",
              "      <th>3_NorthAmerica</th>\n",
              "      <th>3_Oceania</th>\n",
              "      <th>3_SouthAmerica</th>\n",
              "      <th>4_Bachelor’s degree</th>\n",
              "      <th>4_Doctoral degree</th>\n",
              "      <th>4_Master’s degree</th>\n",
              "      <th>4_No formal education past high school</th>\n",
              "      <th>4_Professional degree</th>\n",
              "      <th>4_Some college/university study without earning a bachelor’s degree</th>\n",
              "      <th>Business Analyst</th>\n",
              "      <th>Data Analyst</th>\n",
              "      <th>Data Engineer/DBA</th>\n",
              "      <th>Data Scientist</th>\n",
              "      <th>Software Engineer</th>\n",
              "      <th>Statistician/Research Scientist</th>\n",
              "      <th>Student</th>\n",
              "      <th>5_A business discipline (accounting, economics, finance, etc.)</th>\n",
              "      <th>5_Computer science (software engineering, etc.)</th>\n",
              "      <th>5_Engineering (non-computer focused)</th>\n",
              "      <th>5_Environmental science or geology</th>\n",
              "      <th>5_Fine arts or performing arts</th>\n",
              "      <th>5_Humanities (history, literature, philosophy, etc.)</th>\n",
              "      <th>...</th>\n",
              "      <th>35_Q35_Part_3</th>\n",
              "      <th>35_Q35_Part_4</th>\n",
              "      <th>35_Q35_Part_5</th>\n",
              "      <th>35_Q35_Part_6</th>\n",
              "      <th>40_Independent projects are equally important as academic achievements</th>\n",
              "      <th>40_Independent projects are much less important than academic achievements</th>\n",
              "      <th>40_Independent projects are much more important than academic achievements</th>\n",
              "      <th>40_Independent projects are slightly less important than academic achievements</th>\n",
              "      <th>40_Independent projects are slightly more important than academic achievements</th>\n",
              "      <th>40_No opinion; I do not know</th>\n",
              "      <th>Q41_Part_1</th>\n",
              "      <th>Q41_Part_2</th>\n",
              "      <th>Q41_Part_3</th>\n",
              "      <th>43_0</th>\n",
              "      <th>43_0-10</th>\n",
              "      <th>43_10-20</th>\n",
              "      <th>43_20-30</th>\n",
              "      <th>43_30-40</th>\n",
              "      <th>43_40-50</th>\n",
              "      <th>43_50-60</th>\n",
              "      <th>43_60-70</th>\n",
              "      <th>43_70-80</th>\n",
              "      <th>43_80-90</th>\n",
              "      <th>43_90-100</th>\n",
              "      <th>46_0</th>\n",
              "      <th>46_0-10</th>\n",
              "      <th>46_10-20</th>\n",
              "      <th>46_20-30</th>\n",
              "      <th>46_30-40</th>\n",
              "      <th>46_40-50</th>\n",
              "      <th>46_50-60</th>\n",
              "      <th>46_60-70</th>\n",
              "      <th>46_70-80</th>\n",
              "      <th>46_80-90</th>\n",
              "      <th>46_90-100</th>\n",
              "      <th>48_I am confident that I can explain the outputs of most if not all ML models</th>\n",
              "      <th>48_I am confident that I can understand and explain the outputs of many but not all ML models</th>\n",
              "      <th>48_I do not know; I have no opinion on the matter</th>\n",
              "      <th>48_I view ML models as \"black boxes\" but I am confident that experts are able to explain model outputs</th>\n",
              "      <th>48_Yes, most ML models are \"black boxes\"</th>\n",
              "    </tr>\n",
              "  </thead>\n",
              "  <tbody>\n",
              "    <tr>\n",
              "      <th>0</th>\n",
              "      <td>718</td>\n",
              "      <td>1</td>\n",
              "      <td>0</td>\n",
              "      <td>0</td>\n",
              "      <td>0</td>\n",
              "      <td>0</td>\n",
              "      <td>1</td>\n",
              "      <td>0</td>\n",
              "      <td>0</td>\n",
              "      <td>0</td>\n",
              "      <td>0</td>\n",
              "      <td>0</td>\n",
              "      <td>0</td>\n",
              "      <td>0</td>\n",
              "      <td>0</td>\n",
              "      <td>0</td>\n",
              "      <td>0</td>\n",
              "      <td>0</td>\n",
              "      <td>1</td>\n",
              "      <td>0</td>\n",
              "      <td>0</td>\n",
              "      <td>0</td>\n",
              "      <td>0</td>\n",
              "      <td>1</td>\n",
              "      <td>0</td>\n",
              "      <td>0</td>\n",
              "      <td>0</td>\n",
              "      <td>0</td>\n",
              "      <td>0</td>\n",
              "      <td>0</td>\n",
              "      <td>0</td>\n",
              "      <td>0</td>\n",
              "      <td>0</td>\n",
              "      <td>1</td>\n",
              "      <td>0</td>\n",
              "      <td>1</td>\n",
              "      <td>0</td>\n",
              "      <td>0</td>\n",
              "      <td>0</td>\n",
              "      <td>0</td>\n",
              "      <td>...</td>\n",
              "      <td>0.0</td>\n",
              "      <td>1.0</td>\n",
              "      <td>0.0</td>\n",
              "      <td>0.0</td>\n",
              "      <td>1</td>\n",
              "      <td>0</td>\n",
              "      <td>0</td>\n",
              "      <td>0</td>\n",
              "      <td>0</td>\n",
              "      <td>0</td>\n",
              "      <td>1.000000</td>\n",
              "      <td>1.000000</td>\n",
              "      <td>1.000000</td>\n",
              "      <td>0</td>\n",
              "      <td>1</td>\n",
              "      <td>0</td>\n",
              "      <td>0</td>\n",
              "      <td>0</td>\n",
              "      <td>0</td>\n",
              "      <td>0</td>\n",
              "      <td>0</td>\n",
              "      <td>0</td>\n",
              "      <td>0</td>\n",
              "      <td>0</td>\n",
              "      <td>0</td>\n",
              "      <td>0</td>\n",
              "      <td>1</td>\n",
              "      <td>0</td>\n",
              "      <td>0</td>\n",
              "      <td>0</td>\n",
              "      <td>0</td>\n",
              "      <td>0</td>\n",
              "      <td>0</td>\n",
              "      <td>0</td>\n",
              "      <td>0</td>\n",
              "      <td>1</td>\n",
              "      <td>0</td>\n",
              "      <td>0</td>\n",
              "      <td>0</td>\n",
              "      <td>0</td>\n",
              "    </tr>\n",
              "    <tr>\n",
              "      <th>1</th>\n",
              "      <td>731</td>\n",
              "      <td>0</td>\n",
              "      <td>1</td>\n",
              "      <td>0</td>\n",
              "      <td>1</td>\n",
              "      <td>0</td>\n",
              "      <td>0</td>\n",
              "      <td>0</td>\n",
              "      <td>0</td>\n",
              "      <td>0</td>\n",
              "      <td>0</td>\n",
              "      <td>0</td>\n",
              "      <td>0</td>\n",
              "      <td>0</td>\n",
              "      <td>0</td>\n",
              "      <td>0</td>\n",
              "      <td>1</td>\n",
              "      <td>0</td>\n",
              "      <td>0</td>\n",
              "      <td>0</td>\n",
              "      <td>0</td>\n",
              "      <td>0</td>\n",
              "      <td>0</td>\n",
              "      <td>1</td>\n",
              "      <td>0</td>\n",
              "      <td>0</td>\n",
              "      <td>0</td>\n",
              "      <td>0</td>\n",
              "      <td>0</td>\n",
              "      <td>0</td>\n",
              "      <td>0</td>\n",
              "      <td>0</td>\n",
              "      <td>0</td>\n",
              "      <td>1</td>\n",
              "      <td>0</td>\n",
              "      <td>0</td>\n",
              "      <td>0</td>\n",
              "      <td>0</td>\n",
              "      <td>0</td>\n",
              "      <td>0</td>\n",
              "      <td>...</td>\n",
              "      <td>0.2</td>\n",
              "      <td>0.2</td>\n",
              "      <td>0.0</td>\n",
              "      <td>0.0</td>\n",
              "      <td>0</td>\n",
              "      <td>0</td>\n",
              "      <td>0</td>\n",
              "      <td>0</td>\n",
              "      <td>1</td>\n",
              "      <td>0</td>\n",
              "      <td>0.333333</td>\n",
              "      <td>0.666667</td>\n",
              "      <td>1.000000</td>\n",
              "      <td>0</td>\n",
              "      <td>0</td>\n",
              "      <td>0</td>\n",
              "      <td>1</td>\n",
              "      <td>0</td>\n",
              "      <td>0</td>\n",
              "      <td>0</td>\n",
              "      <td>0</td>\n",
              "      <td>0</td>\n",
              "      <td>0</td>\n",
              "      <td>0</td>\n",
              "      <td>0</td>\n",
              "      <td>0</td>\n",
              "      <td>0</td>\n",
              "      <td>1</td>\n",
              "      <td>0</td>\n",
              "      <td>0</td>\n",
              "      <td>0</td>\n",
              "      <td>0</td>\n",
              "      <td>0</td>\n",
              "      <td>0</td>\n",
              "      <td>0</td>\n",
              "      <td>0</td>\n",
              "      <td>1</td>\n",
              "      <td>0</td>\n",
              "      <td>0</td>\n",
              "      <td>0</td>\n",
              "    </tr>\n",
              "    <tr>\n",
              "      <th>2</th>\n",
              "      <td>1142</td>\n",
              "      <td>0</td>\n",
              "      <td>1</td>\n",
              "      <td>0</td>\n",
              "      <td>0</td>\n",
              "      <td>1</td>\n",
              "      <td>0</td>\n",
              "      <td>0</td>\n",
              "      <td>0</td>\n",
              "      <td>0</td>\n",
              "      <td>0</td>\n",
              "      <td>0</td>\n",
              "      <td>0</td>\n",
              "      <td>0</td>\n",
              "      <td>0</td>\n",
              "      <td>0</td>\n",
              "      <td>0</td>\n",
              "      <td>0</td>\n",
              "      <td>0</td>\n",
              "      <td>0</td>\n",
              "      <td>1</td>\n",
              "      <td>1</td>\n",
              "      <td>0</td>\n",
              "      <td>0</td>\n",
              "      <td>0</td>\n",
              "      <td>0</td>\n",
              "      <td>0</td>\n",
              "      <td>0</td>\n",
              "      <td>0</td>\n",
              "      <td>0</td>\n",
              "      <td>1</td>\n",
              "      <td>0</td>\n",
              "      <td>0</td>\n",
              "      <td>0</td>\n",
              "      <td>0</td>\n",
              "      <td>0</td>\n",
              "      <td>0</td>\n",
              "      <td>0</td>\n",
              "      <td>0</td>\n",
              "      <td>0</td>\n",
              "      <td>...</td>\n",
              "      <td>0.1</td>\n",
              "      <td>0.0</td>\n",
              "      <td>0.3</td>\n",
              "      <td>0.0</td>\n",
              "      <td>0</td>\n",
              "      <td>0</td>\n",
              "      <td>0</td>\n",
              "      <td>1</td>\n",
              "      <td>0</td>\n",
              "      <td>0</td>\n",
              "      <td>1.000000</td>\n",
              "      <td>1.000000</td>\n",
              "      <td>1.000000</td>\n",
              "      <td>1</td>\n",
              "      <td>0</td>\n",
              "      <td>0</td>\n",
              "      <td>0</td>\n",
              "      <td>0</td>\n",
              "      <td>0</td>\n",
              "      <td>0</td>\n",
              "      <td>0</td>\n",
              "      <td>0</td>\n",
              "      <td>0</td>\n",
              "      <td>0</td>\n",
              "      <td>1</td>\n",
              "      <td>0</td>\n",
              "      <td>0</td>\n",
              "      <td>0</td>\n",
              "      <td>0</td>\n",
              "      <td>0</td>\n",
              "      <td>0</td>\n",
              "      <td>0</td>\n",
              "      <td>0</td>\n",
              "      <td>0</td>\n",
              "      <td>0</td>\n",
              "      <td>0</td>\n",
              "      <td>0</td>\n",
              "      <td>0</td>\n",
              "      <td>1</td>\n",
              "      <td>0</td>\n",
              "    </tr>\n",
              "    <tr>\n",
              "      <th>3</th>\n",
              "      <td>751</td>\n",
              "      <td>0</td>\n",
              "      <td>1</td>\n",
              "      <td>0</td>\n",
              "      <td>0</td>\n",
              "      <td>0</td>\n",
              "      <td>1</td>\n",
              "      <td>0</td>\n",
              "      <td>0</td>\n",
              "      <td>0</td>\n",
              "      <td>0</td>\n",
              "      <td>0</td>\n",
              "      <td>0</td>\n",
              "      <td>0</td>\n",
              "      <td>0</td>\n",
              "      <td>0</td>\n",
              "      <td>0</td>\n",
              "      <td>1</td>\n",
              "      <td>0</td>\n",
              "      <td>0</td>\n",
              "      <td>0</td>\n",
              "      <td>0</td>\n",
              "      <td>0</td>\n",
              "      <td>1</td>\n",
              "      <td>0</td>\n",
              "      <td>0</td>\n",
              "      <td>0</td>\n",
              "      <td>0</td>\n",
              "      <td>0</td>\n",
              "      <td>0</td>\n",
              "      <td>0</td>\n",
              "      <td>1</td>\n",
              "      <td>0</td>\n",
              "      <td>0</td>\n",
              "      <td>0</td>\n",
              "      <td>0</td>\n",
              "      <td>1</td>\n",
              "      <td>0</td>\n",
              "      <td>0</td>\n",
              "      <td>0</td>\n",
              "      <td>...</td>\n",
              "      <td>0.0</td>\n",
              "      <td>0.0</td>\n",
              "      <td>0.0</td>\n",
              "      <td>0.0</td>\n",
              "      <td>1</td>\n",
              "      <td>0</td>\n",
              "      <td>0</td>\n",
              "      <td>0</td>\n",
              "      <td>0</td>\n",
              "      <td>0</td>\n",
              "      <td>0.333333</td>\n",
              "      <td>1.000000</td>\n",
              "      <td>0.666667</td>\n",
              "      <td>0</td>\n",
              "      <td>0</td>\n",
              "      <td>1</td>\n",
              "      <td>0</td>\n",
              "      <td>0</td>\n",
              "      <td>0</td>\n",
              "      <td>0</td>\n",
              "      <td>0</td>\n",
              "      <td>0</td>\n",
              "      <td>0</td>\n",
              "      <td>0</td>\n",
              "      <td>0</td>\n",
              "      <td>0</td>\n",
              "      <td>0</td>\n",
              "      <td>0</td>\n",
              "      <td>0</td>\n",
              "      <td>0</td>\n",
              "      <td>1</td>\n",
              "      <td>0</td>\n",
              "      <td>0</td>\n",
              "      <td>0</td>\n",
              "      <td>0</td>\n",
              "      <td>0</td>\n",
              "      <td>1</td>\n",
              "      <td>0</td>\n",
              "      <td>0</td>\n",
              "      <td>0</td>\n",
              "    </tr>\n",
              "    <tr>\n",
              "      <th>4</th>\n",
              "      <td>2028</td>\n",
              "      <td>0</td>\n",
              "      <td>1</td>\n",
              "      <td>0</td>\n",
              "      <td>1</td>\n",
              "      <td>0</td>\n",
              "      <td>0</td>\n",
              "      <td>0</td>\n",
              "      <td>0</td>\n",
              "      <td>0</td>\n",
              "      <td>0</td>\n",
              "      <td>0</td>\n",
              "      <td>0</td>\n",
              "      <td>0</td>\n",
              "      <td>0</td>\n",
              "      <td>0</td>\n",
              "      <td>0</td>\n",
              "      <td>1</td>\n",
              "      <td>0</td>\n",
              "      <td>0</td>\n",
              "      <td>0</td>\n",
              "      <td>1</td>\n",
              "      <td>0</td>\n",
              "      <td>0</td>\n",
              "      <td>0</td>\n",
              "      <td>0</td>\n",
              "      <td>0</td>\n",
              "      <td>0</td>\n",
              "      <td>0</td>\n",
              "      <td>0</td>\n",
              "      <td>0</td>\n",
              "      <td>0</td>\n",
              "      <td>0</td>\n",
              "      <td>1</td>\n",
              "      <td>0</td>\n",
              "      <td>0</td>\n",
              "      <td>0</td>\n",
              "      <td>0</td>\n",
              "      <td>0</td>\n",
              "      <td>0</td>\n",
              "      <td>...</td>\n",
              "      <td>0.0</td>\n",
              "      <td>0.4</td>\n",
              "      <td>0.1</td>\n",
              "      <td>0.0</td>\n",
              "      <td>1</td>\n",
              "      <td>0</td>\n",
              "      <td>0</td>\n",
              "      <td>0</td>\n",
              "      <td>0</td>\n",
              "      <td>0</td>\n",
              "      <td>1.000000</td>\n",
              "      <td>1.000000</td>\n",
              "      <td>1.000000</td>\n",
              "      <td>0</td>\n",
              "      <td>1</td>\n",
              "      <td>0</td>\n",
              "      <td>0</td>\n",
              "      <td>0</td>\n",
              "      <td>0</td>\n",
              "      <td>0</td>\n",
              "      <td>0</td>\n",
              "      <td>0</td>\n",
              "      <td>0</td>\n",
              "      <td>0</td>\n",
              "      <td>0</td>\n",
              "      <td>1</td>\n",
              "      <td>0</td>\n",
              "      <td>0</td>\n",
              "      <td>0</td>\n",
              "      <td>0</td>\n",
              "      <td>0</td>\n",
              "      <td>0</td>\n",
              "      <td>0</td>\n",
              "      <td>0</td>\n",
              "      <td>0</td>\n",
              "      <td>0</td>\n",
              "      <td>0</td>\n",
              "      <td>1</td>\n",
              "      <td>0</td>\n",
              "      <td>0</td>\n",
              "    </tr>\n",
              "  </tbody>\n",
              "</table>\n",
              "<p>5 rows × 469 columns</p>\n",
              "</div>"
            ],
            "text/plain": [
              "   duration  ...  48_Yes, most ML models are \"black boxes\"\n",
              "0       718  ...                                         0\n",
              "1       731  ...                                         0\n",
              "2      1142  ...                                         0\n",
              "3       751  ...                                         0\n",
              "4      2028  ...                                         0\n",
              "\n",
              "[5 rows x 469 columns]"
            ]
          },
          "metadata": {
            "tags": []
          },
          "execution_count": 105
        }
      ]
    },
    {
      "cell_type": "markdown",
      "metadata": {
        "id": "gSaMmf_S5xIP",
        "colab_type": "text"
      },
      "source": [
        "## Salary : "
      ]
    },
    {
      "cell_type": "code",
      "metadata": {
        "id": "whMm6Dfy57b1",
        "colab_type": "code",
        "colab": {}
      },
      "source": [
        "le = preprocessing.LabelEncoder()"
      ],
      "execution_count": null,
      "outputs": []
    },
    {
      "cell_type": "code",
      "metadata": {
        "id": "HG1Fw8z19dIi",
        "colab_type": "code",
        "colab": {
          "base_uri": "https://localhost:8080/",
          "height": 141
        },
        "outputId": "bae62092-9018-4829-db3c-6756e68fb9be"
      },
      "source": [
        "le.fit(multiple.value)\n",
        "le.classes_"
      ],
      "execution_count": null,
      "outputs": [
        {
          "output_type": "execute_result",
          "data": {
            "text/plain": [
              "array(['0-10,000', '10-20,000', '100-125,000', '125-150,000',\n",
              "       '150-200,000', '20-30,000', '200-250,000', '250-300,000',\n",
              "       '30-40,000', '300-400,000', '40-50,000', '400-500,000',\n",
              "       '50-60,000', '500,000+', '60-70,000', '70-80,000', '80-90,000',\n",
              "       '90-100,000',\n",
              "       'I do not wish to disclose my approximate yearly compensation'],\n",
              "      dtype=object)"
            ]
          },
          "metadata": {
            "tags": []
          },
          "execution_count": 107
        }
      ]
    },
    {
      "cell_type": "code",
      "metadata": {
        "id": "YRLgMAp_9gMu",
        "colab_type": "code",
        "colab": {}
      },
      "source": [
        "salary = le.transform(multiple.value)\n",
        "salary = pd.Series(salary)\n",
        "salary = salary.rename(\"value\")"
      ],
      "execution_count": null,
      "outputs": []
    },
    {
      "cell_type": "code",
      "metadata": {
        "id": "wMAazFyfBkJA",
        "colab_type": "code",
        "colab": {
          "base_uri": "https://localhost:8080/",
          "height": 35
        },
        "outputId": "ac33ea9e-ea72-440b-c473-b704d0e50a95"
      },
      "source": [
        "len(salary)"
      ],
      "execution_count": null,
      "outputs": [
        {
          "output_type": "execute_result",
          "data": {
            "text/plain": [
              "14092"
            ]
          },
          "metadata": {
            "tags": []
          },
          "execution_count": 109
        }
      ]
    },
    {
      "cell_type": "code",
      "metadata": {
        "id": "MyeucUGw6FoF",
        "colab_type": "code",
        "colab": {}
      },
      "source": [
        "df_labeled = pd.concat([ndata3, salary], axis=1)"
      ],
      "execution_count": null,
      "outputs": []
    },
    {
      "cell_type": "code",
      "metadata": {
        "id": "TTt4D6SL6GA6",
        "colab_type": "code",
        "colab": {
          "base_uri": "https://localhost:8080/",
          "height": 35
        },
        "outputId": "f1786cdd-df5b-4213-e7f7-f345b97a856d"
      },
      "source": [
        "df_labeled.shape"
      ],
      "execution_count": null,
      "outputs": [
        {
          "output_type": "execute_result",
          "data": {
            "text/plain": [
              "(14092, 470)"
            ]
          },
          "metadata": {
            "tags": []
          },
          "execution_count": 111
        }
      ]
    },
    {
      "cell_type": "markdown",
      "metadata": {
        "id": "gINIDGCrOi6M",
        "colab_type": "text"
      },
      "source": [
        "* 상위 20% 변수 생성 "
      ]
    },
    {
      "cell_type": "code",
      "metadata": {
        "id": "lt41LNbbKg6v",
        "colab_type": "code",
        "colab": {}
      },
      "source": [
        "not_disclosed = multiple[multiple.value == 'I do not wish to disclose my approximate yearly compensation'].index\n",
        "multiple2 = pd.DataFrame()\n",
        "multiple2 = multiple.copy()\n",
        "multiple2['value'] = multiple['value'].replace(['I do not wish to disclose my approximate yearly compensation'], '0-0')"
      ],
      "execution_count": null,
      "outputs": []
    },
    {
      "cell_type": "code",
      "metadata": {
        "id": "TSPXRBGAJTkN",
        "colab_type": "code",
        "colab": {}
      },
      "source": [
        "# Define target variable\n",
        "compensation = multiple2.value.str.replace(',', '').str.replace('500000\\+', '500-500000').str.split('-')\n",
        "multiple2['yearly_compensation_numerical'] = compensation.apply(lambda x: (int(x[0]) * 1000 + int(x[1]))/ 2) / 1000 # it is calculated in thousand dollars"
      ],
      "execution_count": null,
      "outputs": []
    },
    {
      "cell_type": "code",
      "metadata": {
        "id": "AFPo52QJNthh",
        "colab_type": "code",
        "colab": {
          "base_uri": "https://localhost:8080/",
          "height": 35
        },
        "outputId": "759b1554-87d0-46b4-f642-43d7980b5f55"
      },
      "source": [
        "top20flag = multiple2.yearly_compensation_numerical.quantile(0.8)\n",
        "print(top20flag)"
      ],
      "execution_count": null,
      "outputs": [
        {
          "output_type": "stream",
          "text": [
            "65.0\n"
          ],
          "name": "stdout"
        }
      ]
    },
    {
      "cell_type": "code",
      "metadata": {
        "id": "v95KTQHeNxAa",
        "colab_type": "code",
        "colab": {}
      },
      "source": [
        "clean_dataset = (multiple2.yearly_compensation_numerical > top20flag).reset_index().astype(int) \n",
        "clean_dataset.columns = ['index', 'top20']"
      ],
      "execution_count": null,
      "outputs": []
    },
    {
      "cell_type": "code",
      "metadata": {
        "id": "Lfj9i4bgCfCl",
        "colab_type": "code",
        "colab": {
          "base_uri": "https://localhost:8080/",
          "height": 35
        },
        "outputId": "d9117a54-2fab-4436-9f0b-664a342b7e8c"
      },
      "source": [
        "len(clean_dataset.loc[clean_dataset['top20']==1, :])"
      ],
      "execution_count": null,
      "outputs": [
        {
          "output_type": "execute_result",
          "data": {
            "text/plain": [
              "2513"
            ]
          },
          "metadata": {
            "tags": []
          },
          "execution_count": 116
        }
      ]
    },
    {
      "cell_type": "code",
      "metadata": {
        "id": "3REb0hD7Ohhk",
        "colab_type": "code",
        "colab": {
          "base_uri": "https://localhost:8080/",
          "height": 35
        },
        "outputId": "302f0448-e53a-419a-e4e7-23b6b410493e"
      },
      "source": [
        "clean_dataset.shape"
      ],
      "execution_count": null,
      "outputs": [
        {
          "output_type": "execute_result",
          "data": {
            "text/plain": [
              "(14092, 2)"
            ]
          },
          "metadata": {
            "tags": []
          },
          "execution_count": 117
        }
      ]
    },
    {
      "cell_type": "code",
      "metadata": {
        "id": "aiIZHSLLPIvf",
        "colab_type": "code",
        "colab": {}
      },
      "source": [
        "ndata_top = pd.DataFrame()\n",
        "ndata_top = ndata3.copy()"
      ],
      "execution_count": null,
      "outputs": []
    },
    {
      "cell_type": "code",
      "metadata": {
        "id": "FEnH9wXjO__e",
        "colab_type": "code",
        "colab": {}
      },
      "source": [
        "# Join with treated questions\n",
        "for key, value in ndata_top.items():\n",
        "    value = value.reset_index(drop=True)\n",
        "    clean_dataset = clean_dataset.join(value, how='left')"
      ],
      "execution_count": null,
      "outputs": []
    },
    {
      "cell_type": "code",
      "metadata": {
        "id": "wuzWoJHCPWCi",
        "colab_type": "code",
        "colab": {
          "base_uri": "https://localhost:8080/",
          "height": 372
        },
        "outputId": "7659b731-a89a-4ab1-b632-d4e7bf95e907"
      },
      "source": [
        "clean_dataset.top20[1:20]"
      ],
      "execution_count": null,
      "outputs": [
        {
          "output_type": "execute_result",
          "data": {
            "text/plain": [
              "1     0\n",
              "2     0\n",
              "3     0\n",
              "4     0\n",
              "5     1\n",
              "6     0\n",
              "7     0\n",
              "8     0\n",
              "9     0\n",
              "10    0\n",
              "11    0\n",
              "12    0\n",
              "13    0\n",
              "14    1\n",
              "15    0\n",
              "16    1\n",
              "17    0\n",
              "18    0\n",
              "19    0\n",
              "Name: top20, dtype: int64"
            ]
          },
          "metadata": {
            "tags": []
          },
          "execution_count": 120
        }
      ]
    },
    {
      "cell_type": "code",
      "metadata": {
        "id": "0wDVvNHhPwL1",
        "colab_type": "code",
        "colab": {
          "base_uri": "https://localhost:8080/",
          "height": 372
        },
        "outputId": "2dce6a28-6531-4ea1-cac2-f10d118d1971"
      },
      "source": [
        "multiple2.value[1:20]"
      ],
      "execution_count": null,
      "outputs": [
        {
          "output_type": "execute_result",
          "data": {
            "text/plain": [
              "1        0-10,000\n",
              "2             0-0\n",
              "3       20-30,000\n",
              "4             0-0\n",
              "5     125-150,000\n",
              "6       30-40,000\n",
              "7       30-40,000\n",
              "8       10-20,000\n",
              "9       30-40,000\n",
              "10      50-60,000\n",
              "11      30-40,000\n",
              "12            0-0\n",
              "13       0-10,000\n",
              "14      70-80,000\n",
              "15       0-10,000\n",
              "16      80-90,000\n",
              "17      10-20,000\n",
              "18      10-20,000\n",
              "19            0-0\n",
              "Name: value, dtype: object"
            ]
          },
          "metadata": {
            "tags": []
          },
          "execution_count": 121
        }
      ]
    },
    {
      "cell_type": "code",
      "metadata": {
        "id": "uut48ljeP7za",
        "colab_type": "code",
        "colab": {}
      },
      "source": [
        "clean_dataset = clean_dataset.drop('index', axis=1)"
      ],
      "execution_count": null,
      "outputs": []
    },
    {
      "cell_type": "code",
      "metadata": {
        "id": "pAfxT9ieBP7e",
        "colab_type": "code",
        "colab": {
          "base_uri": "https://localhost:8080/",
          "height": 35
        },
        "outputId": "325dee61-70a5-4ab3-b098-c4de6fe68864"
      },
      "source": [
        "df_labeled.columns[399:401]"
      ],
      "execution_count": null,
      "outputs": [
        {
          "output_type": "execute_result",
          "data": {
            "text/plain": [
              "Index(['47_Other', '47_Visualising and interpreting predicted vs. actual'], dtype='object')"
            ]
          },
          "metadata": {
            "tags": []
          },
          "execution_count": 123
        }
      ]
    },
    {
      "cell_type": "code",
      "metadata": {
        "id": "aizoO3_RQEng",
        "colab_type": "code",
        "colab": {
          "base_uri": "https://localhost:8080/",
          "height": 35
        },
        "outputId": "29a9e36c-7f1b-4515-88a9-6e11d27a0c38"
      },
      "source": [
        "clean_dataset.shape"
      ],
      "execution_count": null,
      "outputs": [
        {
          "output_type": "execute_result",
          "data": {
            "text/plain": [
              "(14092, 470)"
            ]
          },
          "metadata": {
            "tags": []
          },
          "execution_count": 124
        }
      ]
    },
    {
      "cell_type": "markdown",
      "metadata": {
        "id": "SBFVCRp0x2SB",
        "colab_type": "text"
      },
      "source": [
        "* class 3개로 쪼개보기 "
      ]
    },
    {
      "cell_type": "code",
      "metadata": {
        "id": "8Ny2zXmEx5SX",
        "colab_type": "code",
        "colab": {}
      },
      "source": [
        "#numeric encoding\n",
        "encode = {'0-10,000':0, '10-20,000':0, '20-30,000':0, '30-40,000':0, '40-50,000':0, '50-60,000':0, '60-70,000':0,\n",
        "       '70-80,000':1, '80-90,000':1, '90-100,000':1, '100-125,000':1, '125-150,000':1,'150-200,000':1, '200-250,000':1, \n",
        "                       '250-300,000':1,'300-400,000':1,'400-500,000':1, '500,000+':1,'I do not wish to disclose my approximate yearly compensation':2}\n",
        "\n",
        "tmp = multiple.value.copy()\n",
        "tmp = tmp.replace(encode)"
      ],
      "execution_count": null,
      "outputs": []
    },
    {
      "cell_type": "code",
      "metadata": {
        "id": "_P4so_bTzCaf",
        "colab_type": "code",
        "colab": {
          "base_uri": "https://localhost:8080/",
          "height": 124
        },
        "outputId": "79bfce5b-c0aa-4e54-b35d-530db146edc6"
      },
      "source": [
        "tmp.head()"
      ],
      "execution_count": null,
      "outputs": [
        {
          "output_type": "execute_result",
          "data": {
            "text/plain": [
              "0    0\n",
              "1    0\n",
              "2    2\n",
              "3    0\n",
              "4    2\n",
              "Name: value, dtype: int64"
            ]
          },
          "metadata": {
            "tags": []
          },
          "execution_count": 126
        }
      ]
    },
    {
      "cell_type": "code",
      "metadata": {
        "id": "wm--LAqazSQA",
        "colab_type": "code",
        "colab": {}
      },
      "source": [
        "clean_dataset_new = pd.concat([ndata3, tmp], axis=1)"
      ],
      "execution_count": null,
      "outputs": []
    },
    {
      "cell_type": "code",
      "metadata": {
        "id": "Uw7Y6DtU0XlU",
        "colab_type": "code",
        "colab": {
          "base_uri": "https://localhost:8080/",
          "height": 446
        },
        "outputId": "f5e6e506-81dc-4ddd-9abd-cb2918d1396f"
      },
      "source": [
        "clean_dataset_new.head()"
      ],
      "execution_count": null,
      "outputs": [
        {
          "output_type": "execute_result",
          "data": {
            "text/html": [
              "<div>\n",
              "<style scoped>\n",
              "    .dataframe tbody tr th:only-of-type {\n",
              "        vertical-align: middle;\n",
              "    }\n",
              "\n",
              "    .dataframe tbody tr th {\n",
              "        vertical-align: top;\n",
              "    }\n",
              "\n",
              "    .dataframe thead th {\n",
              "        text-align: right;\n",
              "    }\n",
              "</style>\n",
              "<table border=\"1\" class=\"dataframe\">\n",
              "  <thead>\n",
              "    <tr style=\"text-align: right;\">\n",
              "      <th></th>\n",
              "      <th>duration</th>\n",
              "      <th>1_Female</th>\n",
              "      <th>1_Male</th>\n",
              "      <th>2_18-21</th>\n",
              "      <th>2_22-24</th>\n",
              "      <th>2_25-29</th>\n",
              "      <th>2_30-34</th>\n",
              "      <th>2_35-39</th>\n",
              "      <th>2_40-44</th>\n",
              "      <th>2_45-49</th>\n",
              "      <th>2_50-54</th>\n",
              "      <th>2_55-59</th>\n",
              "      <th>2_60-69</th>\n",
              "      <th>2_70-79</th>\n",
              "      <th>2_80+</th>\n",
              "      <th>3_Africa</th>\n",
              "      <th>3_Asia</th>\n",
              "      <th>3_Europe</th>\n",
              "      <th>3_NorthAmerica</th>\n",
              "      <th>3_Oceania</th>\n",
              "      <th>3_SouthAmerica</th>\n",
              "      <th>4_Bachelor’s degree</th>\n",
              "      <th>4_Doctoral degree</th>\n",
              "      <th>4_Master’s degree</th>\n",
              "      <th>4_No formal education past high school</th>\n",
              "      <th>4_Professional degree</th>\n",
              "      <th>4_Some college/university study without earning a bachelor’s degree</th>\n",
              "      <th>Business Analyst</th>\n",
              "      <th>Data Analyst</th>\n",
              "      <th>Data Engineer/DBA</th>\n",
              "      <th>Data Scientist</th>\n",
              "      <th>Software Engineer</th>\n",
              "      <th>Statistician/Research Scientist</th>\n",
              "      <th>Student</th>\n",
              "      <th>5_A business discipline (accounting, economics, finance, etc.)</th>\n",
              "      <th>5_Computer science (software engineering, etc.)</th>\n",
              "      <th>5_Engineering (non-computer focused)</th>\n",
              "      <th>5_Environmental science or geology</th>\n",
              "      <th>5_Fine arts or performing arts</th>\n",
              "      <th>5_Humanities (history, literature, philosophy, etc.)</th>\n",
              "      <th>...</th>\n",
              "      <th>35_Q35_Part_4</th>\n",
              "      <th>35_Q35_Part_5</th>\n",
              "      <th>35_Q35_Part_6</th>\n",
              "      <th>40_Independent projects are equally important as academic achievements</th>\n",
              "      <th>40_Independent projects are much less important than academic achievements</th>\n",
              "      <th>40_Independent projects are much more important than academic achievements</th>\n",
              "      <th>40_Independent projects are slightly less important than academic achievements</th>\n",
              "      <th>40_Independent projects are slightly more important than academic achievements</th>\n",
              "      <th>40_No opinion; I do not know</th>\n",
              "      <th>Q41_Part_1</th>\n",
              "      <th>Q41_Part_2</th>\n",
              "      <th>Q41_Part_3</th>\n",
              "      <th>43_0</th>\n",
              "      <th>43_0-10</th>\n",
              "      <th>43_10-20</th>\n",
              "      <th>43_20-30</th>\n",
              "      <th>43_30-40</th>\n",
              "      <th>43_40-50</th>\n",
              "      <th>43_50-60</th>\n",
              "      <th>43_60-70</th>\n",
              "      <th>43_70-80</th>\n",
              "      <th>43_80-90</th>\n",
              "      <th>43_90-100</th>\n",
              "      <th>46_0</th>\n",
              "      <th>46_0-10</th>\n",
              "      <th>46_10-20</th>\n",
              "      <th>46_20-30</th>\n",
              "      <th>46_30-40</th>\n",
              "      <th>46_40-50</th>\n",
              "      <th>46_50-60</th>\n",
              "      <th>46_60-70</th>\n",
              "      <th>46_70-80</th>\n",
              "      <th>46_80-90</th>\n",
              "      <th>46_90-100</th>\n",
              "      <th>48_I am confident that I can explain the outputs of most if not all ML models</th>\n",
              "      <th>48_I am confident that I can understand and explain the outputs of many but not all ML models</th>\n",
              "      <th>48_I do not know; I have no opinion on the matter</th>\n",
              "      <th>48_I view ML models as \"black boxes\" but I am confident that experts are able to explain model outputs</th>\n",
              "      <th>48_Yes, most ML models are \"black boxes\"</th>\n",
              "      <th>value</th>\n",
              "    </tr>\n",
              "  </thead>\n",
              "  <tbody>\n",
              "    <tr>\n",
              "      <th>0</th>\n",
              "      <td>718</td>\n",
              "      <td>1</td>\n",
              "      <td>0</td>\n",
              "      <td>0</td>\n",
              "      <td>0</td>\n",
              "      <td>0</td>\n",
              "      <td>1</td>\n",
              "      <td>0</td>\n",
              "      <td>0</td>\n",
              "      <td>0</td>\n",
              "      <td>0</td>\n",
              "      <td>0</td>\n",
              "      <td>0</td>\n",
              "      <td>0</td>\n",
              "      <td>0</td>\n",
              "      <td>0</td>\n",
              "      <td>0</td>\n",
              "      <td>0</td>\n",
              "      <td>1</td>\n",
              "      <td>0</td>\n",
              "      <td>0</td>\n",
              "      <td>0</td>\n",
              "      <td>0</td>\n",
              "      <td>1</td>\n",
              "      <td>0</td>\n",
              "      <td>0</td>\n",
              "      <td>0</td>\n",
              "      <td>0</td>\n",
              "      <td>0</td>\n",
              "      <td>0</td>\n",
              "      <td>0</td>\n",
              "      <td>0</td>\n",
              "      <td>0</td>\n",
              "      <td>1</td>\n",
              "      <td>0</td>\n",
              "      <td>1</td>\n",
              "      <td>0</td>\n",
              "      <td>0</td>\n",
              "      <td>0</td>\n",
              "      <td>0</td>\n",
              "      <td>...</td>\n",
              "      <td>1.0</td>\n",
              "      <td>0.0</td>\n",
              "      <td>0.0</td>\n",
              "      <td>1</td>\n",
              "      <td>0</td>\n",
              "      <td>0</td>\n",
              "      <td>0</td>\n",
              "      <td>0</td>\n",
              "      <td>0</td>\n",
              "      <td>1.000000</td>\n",
              "      <td>1.000000</td>\n",
              "      <td>1.000000</td>\n",
              "      <td>0</td>\n",
              "      <td>1</td>\n",
              "      <td>0</td>\n",
              "      <td>0</td>\n",
              "      <td>0</td>\n",
              "      <td>0</td>\n",
              "      <td>0</td>\n",
              "      <td>0</td>\n",
              "      <td>0</td>\n",
              "      <td>0</td>\n",
              "      <td>0</td>\n",
              "      <td>0</td>\n",
              "      <td>0</td>\n",
              "      <td>1</td>\n",
              "      <td>0</td>\n",
              "      <td>0</td>\n",
              "      <td>0</td>\n",
              "      <td>0</td>\n",
              "      <td>0</td>\n",
              "      <td>0</td>\n",
              "      <td>0</td>\n",
              "      <td>0</td>\n",
              "      <td>1</td>\n",
              "      <td>0</td>\n",
              "      <td>0</td>\n",
              "      <td>0</td>\n",
              "      <td>0</td>\n",
              "      <td>0</td>\n",
              "    </tr>\n",
              "    <tr>\n",
              "      <th>1</th>\n",
              "      <td>731</td>\n",
              "      <td>0</td>\n",
              "      <td>1</td>\n",
              "      <td>0</td>\n",
              "      <td>1</td>\n",
              "      <td>0</td>\n",
              "      <td>0</td>\n",
              "      <td>0</td>\n",
              "      <td>0</td>\n",
              "      <td>0</td>\n",
              "      <td>0</td>\n",
              "      <td>0</td>\n",
              "      <td>0</td>\n",
              "      <td>0</td>\n",
              "      <td>0</td>\n",
              "      <td>0</td>\n",
              "      <td>1</td>\n",
              "      <td>0</td>\n",
              "      <td>0</td>\n",
              "      <td>0</td>\n",
              "      <td>0</td>\n",
              "      <td>0</td>\n",
              "      <td>0</td>\n",
              "      <td>1</td>\n",
              "      <td>0</td>\n",
              "      <td>0</td>\n",
              "      <td>0</td>\n",
              "      <td>0</td>\n",
              "      <td>0</td>\n",
              "      <td>0</td>\n",
              "      <td>0</td>\n",
              "      <td>0</td>\n",
              "      <td>0</td>\n",
              "      <td>1</td>\n",
              "      <td>0</td>\n",
              "      <td>0</td>\n",
              "      <td>0</td>\n",
              "      <td>0</td>\n",
              "      <td>0</td>\n",
              "      <td>0</td>\n",
              "      <td>...</td>\n",
              "      <td>0.2</td>\n",
              "      <td>0.0</td>\n",
              "      <td>0.0</td>\n",
              "      <td>0</td>\n",
              "      <td>0</td>\n",
              "      <td>0</td>\n",
              "      <td>0</td>\n",
              "      <td>1</td>\n",
              "      <td>0</td>\n",
              "      <td>0.333333</td>\n",
              "      <td>0.666667</td>\n",
              "      <td>1.000000</td>\n",
              "      <td>0</td>\n",
              "      <td>0</td>\n",
              "      <td>0</td>\n",
              "      <td>1</td>\n",
              "      <td>0</td>\n",
              "      <td>0</td>\n",
              "      <td>0</td>\n",
              "      <td>0</td>\n",
              "      <td>0</td>\n",
              "      <td>0</td>\n",
              "      <td>0</td>\n",
              "      <td>0</td>\n",
              "      <td>0</td>\n",
              "      <td>0</td>\n",
              "      <td>1</td>\n",
              "      <td>0</td>\n",
              "      <td>0</td>\n",
              "      <td>0</td>\n",
              "      <td>0</td>\n",
              "      <td>0</td>\n",
              "      <td>0</td>\n",
              "      <td>0</td>\n",
              "      <td>0</td>\n",
              "      <td>1</td>\n",
              "      <td>0</td>\n",
              "      <td>0</td>\n",
              "      <td>0</td>\n",
              "      <td>0</td>\n",
              "    </tr>\n",
              "    <tr>\n",
              "      <th>2</th>\n",
              "      <td>1142</td>\n",
              "      <td>0</td>\n",
              "      <td>1</td>\n",
              "      <td>0</td>\n",
              "      <td>0</td>\n",
              "      <td>1</td>\n",
              "      <td>0</td>\n",
              "      <td>0</td>\n",
              "      <td>0</td>\n",
              "      <td>0</td>\n",
              "      <td>0</td>\n",
              "      <td>0</td>\n",
              "      <td>0</td>\n",
              "      <td>0</td>\n",
              "      <td>0</td>\n",
              "      <td>0</td>\n",
              "      <td>0</td>\n",
              "      <td>0</td>\n",
              "      <td>0</td>\n",
              "      <td>0</td>\n",
              "      <td>1</td>\n",
              "      <td>1</td>\n",
              "      <td>0</td>\n",
              "      <td>0</td>\n",
              "      <td>0</td>\n",
              "      <td>0</td>\n",
              "      <td>0</td>\n",
              "      <td>0</td>\n",
              "      <td>0</td>\n",
              "      <td>0</td>\n",
              "      <td>1</td>\n",
              "      <td>0</td>\n",
              "      <td>0</td>\n",
              "      <td>0</td>\n",
              "      <td>0</td>\n",
              "      <td>0</td>\n",
              "      <td>0</td>\n",
              "      <td>0</td>\n",
              "      <td>0</td>\n",
              "      <td>0</td>\n",
              "      <td>...</td>\n",
              "      <td>0.0</td>\n",
              "      <td>0.3</td>\n",
              "      <td>0.0</td>\n",
              "      <td>0</td>\n",
              "      <td>0</td>\n",
              "      <td>0</td>\n",
              "      <td>1</td>\n",
              "      <td>0</td>\n",
              "      <td>0</td>\n",
              "      <td>1.000000</td>\n",
              "      <td>1.000000</td>\n",
              "      <td>1.000000</td>\n",
              "      <td>1</td>\n",
              "      <td>0</td>\n",
              "      <td>0</td>\n",
              "      <td>0</td>\n",
              "      <td>0</td>\n",
              "      <td>0</td>\n",
              "      <td>0</td>\n",
              "      <td>0</td>\n",
              "      <td>0</td>\n",
              "      <td>0</td>\n",
              "      <td>0</td>\n",
              "      <td>1</td>\n",
              "      <td>0</td>\n",
              "      <td>0</td>\n",
              "      <td>0</td>\n",
              "      <td>0</td>\n",
              "      <td>0</td>\n",
              "      <td>0</td>\n",
              "      <td>0</td>\n",
              "      <td>0</td>\n",
              "      <td>0</td>\n",
              "      <td>0</td>\n",
              "      <td>0</td>\n",
              "      <td>0</td>\n",
              "      <td>0</td>\n",
              "      <td>1</td>\n",
              "      <td>0</td>\n",
              "      <td>2</td>\n",
              "    </tr>\n",
              "    <tr>\n",
              "      <th>3</th>\n",
              "      <td>751</td>\n",
              "      <td>0</td>\n",
              "      <td>1</td>\n",
              "      <td>0</td>\n",
              "      <td>0</td>\n",
              "      <td>0</td>\n",
              "      <td>1</td>\n",
              "      <td>0</td>\n",
              "      <td>0</td>\n",
              "      <td>0</td>\n",
              "      <td>0</td>\n",
              "      <td>0</td>\n",
              "      <td>0</td>\n",
              "      <td>0</td>\n",
              "      <td>0</td>\n",
              "      <td>0</td>\n",
              "      <td>0</td>\n",
              "      <td>1</td>\n",
              "      <td>0</td>\n",
              "      <td>0</td>\n",
              "      <td>0</td>\n",
              "      <td>0</td>\n",
              "      <td>0</td>\n",
              "      <td>1</td>\n",
              "      <td>0</td>\n",
              "      <td>0</td>\n",
              "      <td>0</td>\n",
              "      <td>0</td>\n",
              "      <td>0</td>\n",
              "      <td>0</td>\n",
              "      <td>0</td>\n",
              "      <td>1</td>\n",
              "      <td>0</td>\n",
              "      <td>0</td>\n",
              "      <td>0</td>\n",
              "      <td>0</td>\n",
              "      <td>1</td>\n",
              "      <td>0</td>\n",
              "      <td>0</td>\n",
              "      <td>0</td>\n",
              "      <td>...</td>\n",
              "      <td>0.0</td>\n",
              "      <td>0.0</td>\n",
              "      <td>0.0</td>\n",
              "      <td>1</td>\n",
              "      <td>0</td>\n",
              "      <td>0</td>\n",
              "      <td>0</td>\n",
              "      <td>0</td>\n",
              "      <td>0</td>\n",
              "      <td>0.333333</td>\n",
              "      <td>1.000000</td>\n",
              "      <td>0.666667</td>\n",
              "      <td>0</td>\n",
              "      <td>0</td>\n",
              "      <td>1</td>\n",
              "      <td>0</td>\n",
              "      <td>0</td>\n",
              "      <td>0</td>\n",
              "      <td>0</td>\n",
              "      <td>0</td>\n",
              "      <td>0</td>\n",
              "      <td>0</td>\n",
              "      <td>0</td>\n",
              "      <td>0</td>\n",
              "      <td>0</td>\n",
              "      <td>0</td>\n",
              "      <td>0</td>\n",
              "      <td>0</td>\n",
              "      <td>0</td>\n",
              "      <td>1</td>\n",
              "      <td>0</td>\n",
              "      <td>0</td>\n",
              "      <td>0</td>\n",
              "      <td>0</td>\n",
              "      <td>0</td>\n",
              "      <td>1</td>\n",
              "      <td>0</td>\n",
              "      <td>0</td>\n",
              "      <td>0</td>\n",
              "      <td>0</td>\n",
              "    </tr>\n",
              "    <tr>\n",
              "      <th>4</th>\n",
              "      <td>2028</td>\n",
              "      <td>0</td>\n",
              "      <td>1</td>\n",
              "      <td>0</td>\n",
              "      <td>1</td>\n",
              "      <td>0</td>\n",
              "      <td>0</td>\n",
              "      <td>0</td>\n",
              "      <td>0</td>\n",
              "      <td>0</td>\n",
              "      <td>0</td>\n",
              "      <td>0</td>\n",
              "      <td>0</td>\n",
              "      <td>0</td>\n",
              "      <td>0</td>\n",
              "      <td>0</td>\n",
              "      <td>0</td>\n",
              "      <td>1</td>\n",
              "      <td>0</td>\n",
              "      <td>0</td>\n",
              "      <td>0</td>\n",
              "      <td>1</td>\n",
              "      <td>0</td>\n",
              "      <td>0</td>\n",
              "      <td>0</td>\n",
              "      <td>0</td>\n",
              "      <td>0</td>\n",
              "      <td>0</td>\n",
              "      <td>0</td>\n",
              "      <td>0</td>\n",
              "      <td>0</td>\n",
              "      <td>0</td>\n",
              "      <td>0</td>\n",
              "      <td>1</td>\n",
              "      <td>0</td>\n",
              "      <td>0</td>\n",
              "      <td>0</td>\n",
              "      <td>0</td>\n",
              "      <td>0</td>\n",
              "      <td>0</td>\n",
              "      <td>...</td>\n",
              "      <td>0.4</td>\n",
              "      <td>0.1</td>\n",
              "      <td>0.0</td>\n",
              "      <td>1</td>\n",
              "      <td>0</td>\n",
              "      <td>0</td>\n",
              "      <td>0</td>\n",
              "      <td>0</td>\n",
              "      <td>0</td>\n",
              "      <td>1.000000</td>\n",
              "      <td>1.000000</td>\n",
              "      <td>1.000000</td>\n",
              "      <td>0</td>\n",
              "      <td>1</td>\n",
              "      <td>0</td>\n",
              "      <td>0</td>\n",
              "      <td>0</td>\n",
              "      <td>0</td>\n",
              "      <td>0</td>\n",
              "      <td>0</td>\n",
              "      <td>0</td>\n",
              "      <td>0</td>\n",
              "      <td>0</td>\n",
              "      <td>0</td>\n",
              "      <td>1</td>\n",
              "      <td>0</td>\n",
              "      <td>0</td>\n",
              "      <td>0</td>\n",
              "      <td>0</td>\n",
              "      <td>0</td>\n",
              "      <td>0</td>\n",
              "      <td>0</td>\n",
              "      <td>0</td>\n",
              "      <td>0</td>\n",
              "      <td>0</td>\n",
              "      <td>0</td>\n",
              "      <td>1</td>\n",
              "      <td>0</td>\n",
              "      <td>0</td>\n",
              "      <td>2</td>\n",
              "    </tr>\n",
              "  </tbody>\n",
              "</table>\n",
              "<p>5 rows × 470 columns</p>\n",
              "</div>"
            ],
            "text/plain": [
              "   duration  1_Female  ...  48_Yes, most ML models are \"black boxes\"  value\n",
              "0       718         1  ...                                         0      0\n",
              "1       731         0  ...                                         0      0\n",
              "2      1142         0  ...                                         0      2\n",
              "3       751         0  ...                                         0      0\n",
              "4      2028         0  ...                                         0      2\n",
              "\n",
              "[5 rows x 470 columns]"
            ]
          },
          "metadata": {
            "tags": []
          },
          "execution_count": 128
        }
      ]
    },
    {
      "cell_type": "markdown",
      "metadata": {
        "id": "rAnh9fjpx6fZ",
        "colab_type": "text"
      },
      "source": [
        ""
      ]
    },
    {
      "cell_type": "markdown",
      "metadata": {
        "id": "lCXmAzznx4PJ",
        "colab_type": "text"
      },
      "source": [
        ""
      ]
    },
    {
      "cell_type": "code",
      "metadata": {
        "id": "TwZ8k856QRos",
        "colab_type": "code",
        "colab": {}
      },
      "source": [
        "[col for col in clean_dataset_new.columns if '47_' in col]\n",
        "len(clean_dataset_new['47_Visualising and interpreting predicted vs. actual'][clean_dataset_new['47_Visualising and interpreting predicted vs. actual']==1])\n",
        "clean_dataset_new = clean_dataset_new.drop(['47_Visualising and interpreting predicted vs. actual'],axis=1)"
      ],
      "execution_count": null,
      "outputs": []
    },
    {
      "cell_type": "code",
      "metadata": {
        "id": "_7EQ_CaVUaU9",
        "colab_type": "code",
        "colab": {
          "base_uri": "https://localhost:8080/",
          "height": 301
        },
        "outputId": "de13ebaa-0c10-490b-8fbf-fa8ecd661019"
      },
      "source": [
        "colnames = clean_dataset_new.columns\n",
        "colnames[390:410]"
      ],
      "execution_count": null,
      "outputs": [
        {
          "output_type": "execute_result",
          "data": {
            "text/plain": [
              "Index(['47_Dimensionality reduction techniques',\n",
              "       '47_Attention mapping/saliency mapping',\n",
              "       '47_Plot predicted vs. actual results', '47_Print out a decision tree',\n",
              "       '47_Sensitivity analysis/perturbation importance', '47_LIME functions',\n",
              "       '47_ELI5 functions', '47_SHAP functions',\n",
              "       '47_None/I do not use these model explanation techniques', '47_Other',\n",
              "       '49_Share code on Github or a similar code-sharing repository',\n",
              "       '49_Share both data and code on Github or a similar code-sharing repository',\n",
              "       '49_Share data, code, and environment using a hosted service (Kaggle Kernels, Google Colaboratory, Amazon SageMaker, etc.)',\n",
              "       '49_Share data, code, and environment using containers (Docker, etc.)',\n",
              "       '49_Share code, data, and environment using virtual machines (VirtualBox, etc.)',\n",
              "       '49_Make sure the code is well documented',\n",
              "       '49_Make sure the code is human-readable', '49_Define all random seeds',\n",
              "       '49_Define relative rather than absolute file paths',\n",
              "       '49_Include a text file describing all dependencies'],\n",
              "      dtype='object')"
            ]
          },
          "metadata": {
            "tags": []
          },
          "execution_count": 131
        }
      ]
    },
    {
      "cell_type": "code",
      "metadata": {
        "id": "fV6SP1uvVnLO",
        "colab_type": "code",
        "colab": {}
      },
      "source": [
        "percent_answer = clean_dataset_new.sum(axis=0) / clean_dataset_new.shape[0]\n",
        "\n",
        "for row in percent_answer.iteritems():\n",
        "  if row[1] < 0.05 :\n",
        "    clean_dataset_new = clean_dataset_new.drop(row[0], axis=1)"
      ],
      "execution_count": null,
      "outputs": []
    },
    {
      "cell_type": "markdown",
      "metadata": {
        "id": "p9Hp5VQlWqzp",
        "colab_type": "text"
      },
      "source": [
        "* Dropping answers that have less than 5% of repondents - to avoid overfitting. "
      ]
    },
    {
      "cell_type": "code",
      "metadata": {
        "id": "3aVgwYWDWL_T",
        "colab_type": "code",
        "colab": {
          "base_uri": "https://localhost:8080/",
          "height": 35
        },
        "outputId": "f80183af-4a3d-4ce7-fb31-3994469202bc"
      },
      "source": [
        "clean_dataset_new.shape"
      ],
      "execution_count": null,
      "outputs": [
        {
          "output_type": "execute_result",
          "data": {
            "text/plain": [
              "(14092, 261)"
            ]
          },
          "metadata": {
            "tags": []
          },
          "execution_count": 138
        }
      ]
    },
    {
      "cell_type": "code",
      "metadata": {
        "id": "JPcF1ZK1W0CF",
        "colab_type": "code",
        "colab": {
          "base_uri": "https://localhost:8080/",
          "height": 446
        },
        "outputId": "c80c06a1-2c72-48d6-d045-620ec34941c5"
      },
      "source": [
        "clean_dataset_new.head()"
      ],
      "execution_count": null,
      "outputs": [
        {
          "output_type": "execute_result",
          "data": {
            "text/html": [
              "<div>\n",
              "<style scoped>\n",
              "    .dataframe tbody tr th:only-of-type {\n",
              "        vertical-align: middle;\n",
              "    }\n",
              "\n",
              "    .dataframe tbody tr th {\n",
              "        vertical-align: top;\n",
              "    }\n",
              "\n",
              "    .dataframe thead th {\n",
              "        text-align: right;\n",
              "    }\n",
              "</style>\n",
              "<table border=\"1\" class=\"dataframe\">\n",
              "  <thead>\n",
              "    <tr style=\"text-align: right;\">\n",
              "      <th></th>\n",
              "      <th>duration</th>\n",
              "      <th>1_Female</th>\n",
              "      <th>1_Male</th>\n",
              "      <th>2_18-21</th>\n",
              "      <th>2_22-24</th>\n",
              "      <th>2_25-29</th>\n",
              "      <th>2_30-34</th>\n",
              "      <th>2_35-39</th>\n",
              "      <th>3_Asia</th>\n",
              "      <th>3_Europe</th>\n",
              "      <th>3_NorthAmerica</th>\n",
              "      <th>3_SouthAmerica</th>\n",
              "      <th>4_Bachelor’s degree</th>\n",
              "      <th>4_Doctoral degree</th>\n",
              "      <th>4_Master’s degree</th>\n",
              "      <th>Data Analyst</th>\n",
              "      <th>Data Scientist</th>\n",
              "      <th>Software Engineer</th>\n",
              "      <th>Statistician/Research Scientist</th>\n",
              "      <th>Student</th>\n",
              "      <th>5_A business discipline (accounting, economics, finance, etc.)</th>\n",
              "      <th>5_Computer science (software engineering, etc.)</th>\n",
              "      <th>5_Engineering (non-computer focused)</th>\n",
              "      <th>5_Mathematics or statistics</th>\n",
              "      <th>5_Physics or astronomy</th>\n",
              "      <th>7_Academics/Education</th>\n",
              "      <th>7_Accounting/Finance</th>\n",
              "      <th>7_Computers/Technology</th>\n",
              "      <th>7_Student</th>\n",
              "      <th>8_0-1</th>\n",
              "      <th>8_1-2</th>\n",
              "      <th>8_10-15</th>\n",
              "      <th>8_2-3</th>\n",
              "      <th>8_3-4</th>\n",
              "      <th>8_4-5</th>\n",
              "      <th>8_5-10</th>\n",
              "      <th>10_I do not know</th>\n",
              "      <th>10_No (we do not use ML methods)</th>\n",
              "      <th>10_We are exploring ML methods (and may one day put a model into production)</th>\n",
              "      <th>10_We have well established ML methods (i.e., models in production for more than 2 years)</th>\n",
              "      <th>...</th>\n",
              "      <th>50_Too time-consuming</th>\n",
              "      <th>50_Requires too much technical knowledge</th>\n",
              "      <th>50_Afraid that others will use my work without giving proper credit</th>\n",
              "      <th>50_Not enough incentives to share my work</th>\n",
              "      <th>50_I had never considered making my work easier for others to reproduce</th>\n",
              "      <th>50_None of these reasons apply to me</th>\n",
              "      <th>Q34_Part_1</th>\n",
              "      <th>Q34_Part_2</th>\n",
              "      <th>Q34_Part_3</th>\n",
              "      <th>Q34_Part_4</th>\n",
              "      <th>Q34_Part_5</th>\n",
              "      <th>Q34_Part_6</th>\n",
              "      <th>35_Q35_Part_1</th>\n",
              "      <th>35_Q35_Part_2</th>\n",
              "      <th>35_Q35_Part_3</th>\n",
              "      <th>35_Q35_Part_4</th>\n",
              "      <th>35_Q35_Part_5</th>\n",
              "      <th>40_Independent projects are equally important as academic achievements</th>\n",
              "      <th>40_Independent projects are much more important than academic achievements</th>\n",
              "      <th>40_Independent projects are slightly more important than academic achievements</th>\n",
              "      <th>Q41_Part_1</th>\n",
              "      <th>Q41_Part_2</th>\n",
              "      <th>Q41_Part_3</th>\n",
              "      <th>43_0</th>\n",
              "      <th>43_0-10</th>\n",
              "      <th>43_10-20</th>\n",
              "      <th>43_20-30</th>\n",
              "      <th>46_0</th>\n",
              "      <th>46_0-10</th>\n",
              "      <th>46_10-20</th>\n",
              "      <th>46_20-30</th>\n",
              "      <th>46_30-40</th>\n",
              "      <th>46_40-50</th>\n",
              "      <th>46_90-100</th>\n",
              "      <th>48_I am confident that I can explain the outputs of most if not all ML models</th>\n",
              "      <th>48_I am confident that I can understand and explain the outputs of many but not all ML models</th>\n",
              "      <th>48_I do not know; I have no opinion on the matter</th>\n",
              "      <th>48_I view ML models as \"black boxes\" but I am confident that experts are able to explain model outputs</th>\n",
              "      <th>48_Yes, most ML models are \"black boxes\"</th>\n",
              "      <th>value</th>\n",
              "    </tr>\n",
              "  </thead>\n",
              "  <tbody>\n",
              "    <tr>\n",
              "      <th>0</th>\n",
              "      <td>718</td>\n",
              "      <td>1</td>\n",
              "      <td>0</td>\n",
              "      <td>0</td>\n",
              "      <td>0</td>\n",
              "      <td>0</td>\n",
              "      <td>1</td>\n",
              "      <td>0</td>\n",
              "      <td>0</td>\n",
              "      <td>0</td>\n",
              "      <td>1</td>\n",
              "      <td>0</td>\n",
              "      <td>0</td>\n",
              "      <td>0</td>\n",
              "      <td>1</td>\n",
              "      <td>0</td>\n",
              "      <td>0</td>\n",
              "      <td>0</td>\n",
              "      <td>0</td>\n",
              "      <td>1</td>\n",
              "      <td>0</td>\n",
              "      <td>1</td>\n",
              "      <td>0</td>\n",
              "      <td>0</td>\n",
              "      <td>0</td>\n",
              "      <td>0</td>\n",
              "      <td>0</td>\n",
              "      <td>0</td>\n",
              "      <td>1</td>\n",
              "      <td>1</td>\n",
              "      <td>0</td>\n",
              "      <td>0</td>\n",
              "      <td>0</td>\n",
              "      <td>0</td>\n",
              "      <td>0</td>\n",
              "      <td>0</td>\n",
              "      <td>1</td>\n",
              "      <td>0</td>\n",
              "      <td>0</td>\n",
              "      <td>0</td>\n",
              "      <td>...</td>\n",
              "      <td>1</td>\n",
              "      <td>0</td>\n",
              "      <td>0</td>\n",
              "      <td>0</td>\n",
              "      <td>0</td>\n",
              "      <td>0</td>\n",
              "      <td>0.02</td>\n",
              "      <td>0.03</td>\n",
              "      <td>0.20</td>\n",
              "      <td>0.50</td>\n",
              "      <td>0.2</td>\n",
              "      <td>0.00</td>\n",
              "      <td>0.0</td>\n",
              "      <td>0.0</td>\n",
              "      <td>0.0</td>\n",
              "      <td>1.0</td>\n",
              "      <td>0.0</td>\n",
              "      <td>1</td>\n",
              "      <td>0</td>\n",
              "      <td>0</td>\n",
              "      <td>1.000000</td>\n",
              "      <td>1.000000</td>\n",
              "      <td>1.000000</td>\n",
              "      <td>0</td>\n",
              "      <td>1</td>\n",
              "      <td>0</td>\n",
              "      <td>0</td>\n",
              "      <td>0</td>\n",
              "      <td>0</td>\n",
              "      <td>1</td>\n",
              "      <td>0</td>\n",
              "      <td>0</td>\n",
              "      <td>0</td>\n",
              "      <td>0</td>\n",
              "      <td>1</td>\n",
              "      <td>0</td>\n",
              "      <td>0</td>\n",
              "      <td>0</td>\n",
              "      <td>0</td>\n",
              "      <td>0</td>\n",
              "    </tr>\n",
              "    <tr>\n",
              "      <th>1</th>\n",
              "      <td>731</td>\n",
              "      <td>0</td>\n",
              "      <td>1</td>\n",
              "      <td>0</td>\n",
              "      <td>1</td>\n",
              "      <td>0</td>\n",
              "      <td>0</td>\n",
              "      <td>0</td>\n",
              "      <td>1</td>\n",
              "      <td>0</td>\n",
              "      <td>0</td>\n",
              "      <td>0</td>\n",
              "      <td>0</td>\n",
              "      <td>0</td>\n",
              "      <td>1</td>\n",
              "      <td>0</td>\n",
              "      <td>0</td>\n",
              "      <td>0</td>\n",
              "      <td>0</td>\n",
              "      <td>1</td>\n",
              "      <td>0</td>\n",
              "      <td>0</td>\n",
              "      <td>0</td>\n",
              "      <td>1</td>\n",
              "      <td>0</td>\n",
              "      <td>0</td>\n",
              "      <td>0</td>\n",
              "      <td>0</td>\n",
              "      <td>1</td>\n",
              "      <td>1</td>\n",
              "      <td>0</td>\n",
              "      <td>0</td>\n",
              "      <td>0</td>\n",
              "      <td>0</td>\n",
              "      <td>0</td>\n",
              "      <td>0</td>\n",
              "      <td>1</td>\n",
              "      <td>0</td>\n",
              "      <td>0</td>\n",
              "      <td>0</td>\n",
              "      <td>...</td>\n",
              "      <td>1</td>\n",
              "      <td>0</td>\n",
              "      <td>0</td>\n",
              "      <td>1</td>\n",
              "      <td>0</td>\n",
              "      <td>0</td>\n",
              "      <td>0.10</td>\n",
              "      <td>0.10</td>\n",
              "      <td>0.20</td>\n",
              "      <td>0.10</td>\n",
              "      <td>0.2</td>\n",
              "      <td>0.23</td>\n",
              "      <td>0.2</td>\n",
              "      <td>0.4</td>\n",
              "      <td>0.2</td>\n",
              "      <td>0.2</td>\n",
              "      <td>0.0</td>\n",
              "      <td>0</td>\n",
              "      <td>0</td>\n",
              "      <td>1</td>\n",
              "      <td>0.333333</td>\n",
              "      <td>0.666667</td>\n",
              "      <td>1.000000</td>\n",
              "      <td>0</td>\n",
              "      <td>0</td>\n",
              "      <td>0</td>\n",
              "      <td>1</td>\n",
              "      <td>0</td>\n",
              "      <td>0</td>\n",
              "      <td>0</td>\n",
              "      <td>1</td>\n",
              "      <td>0</td>\n",
              "      <td>0</td>\n",
              "      <td>0</td>\n",
              "      <td>0</td>\n",
              "      <td>1</td>\n",
              "      <td>0</td>\n",
              "      <td>0</td>\n",
              "      <td>0</td>\n",
              "      <td>0</td>\n",
              "    </tr>\n",
              "    <tr>\n",
              "      <th>2</th>\n",
              "      <td>1142</td>\n",
              "      <td>0</td>\n",
              "      <td>1</td>\n",
              "      <td>0</td>\n",
              "      <td>0</td>\n",
              "      <td>1</td>\n",
              "      <td>0</td>\n",
              "      <td>0</td>\n",
              "      <td>0</td>\n",
              "      <td>0</td>\n",
              "      <td>0</td>\n",
              "      <td>1</td>\n",
              "      <td>1</td>\n",
              "      <td>0</td>\n",
              "      <td>0</td>\n",
              "      <td>0</td>\n",
              "      <td>1</td>\n",
              "      <td>0</td>\n",
              "      <td>0</td>\n",
              "      <td>0</td>\n",
              "      <td>0</td>\n",
              "      <td>0</td>\n",
              "      <td>0</td>\n",
              "      <td>0</td>\n",
              "      <td>1</td>\n",
              "      <td>0</td>\n",
              "      <td>0</td>\n",
              "      <td>1</td>\n",
              "      <td>0</td>\n",
              "      <td>1</td>\n",
              "      <td>0</td>\n",
              "      <td>0</td>\n",
              "      <td>0</td>\n",
              "      <td>0</td>\n",
              "      <td>0</td>\n",
              "      <td>0</td>\n",
              "      <td>0</td>\n",
              "      <td>0</td>\n",
              "      <td>1</td>\n",
              "      <td>0</td>\n",
              "      <td>...</td>\n",
              "      <td>0</td>\n",
              "      <td>0</td>\n",
              "      <td>1</td>\n",
              "      <td>0</td>\n",
              "      <td>1</td>\n",
              "      <td>0</td>\n",
              "      <td>0.12</td>\n",
              "      <td>0.15</td>\n",
              "      <td>0.13</td>\n",
              "      <td>0.30</td>\n",
              "      <td>0.1</td>\n",
              "      <td>0.00</td>\n",
              "      <td>0.4</td>\n",
              "      <td>0.2</td>\n",
              "      <td>0.1</td>\n",
              "      <td>0.0</td>\n",
              "      <td>0.3</td>\n",
              "      <td>0</td>\n",
              "      <td>0</td>\n",
              "      <td>0</td>\n",
              "      <td>1.000000</td>\n",
              "      <td>1.000000</td>\n",
              "      <td>1.000000</td>\n",
              "      <td>1</td>\n",
              "      <td>0</td>\n",
              "      <td>0</td>\n",
              "      <td>0</td>\n",
              "      <td>1</td>\n",
              "      <td>0</td>\n",
              "      <td>0</td>\n",
              "      <td>0</td>\n",
              "      <td>0</td>\n",
              "      <td>0</td>\n",
              "      <td>0</td>\n",
              "      <td>0</td>\n",
              "      <td>0</td>\n",
              "      <td>0</td>\n",
              "      <td>1</td>\n",
              "      <td>0</td>\n",
              "      <td>2</td>\n",
              "    </tr>\n",
              "    <tr>\n",
              "      <th>3</th>\n",
              "      <td>751</td>\n",
              "      <td>0</td>\n",
              "      <td>1</td>\n",
              "      <td>0</td>\n",
              "      <td>0</td>\n",
              "      <td>0</td>\n",
              "      <td>1</td>\n",
              "      <td>0</td>\n",
              "      <td>0</td>\n",
              "      <td>1</td>\n",
              "      <td>0</td>\n",
              "      <td>0</td>\n",
              "      <td>0</td>\n",
              "      <td>0</td>\n",
              "      <td>1</td>\n",
              "      <td>0</td>\n",
              "      <td>0</td>\n",
              "      <td>1</td>\n",
              "      <td>0</td>\n",
              "      <td>0</td>\n",
              "      <td>0</td>\n",
              "      <td>0</td>\n",
              "      <td>1</td>\n",
              "      <td>0</td>\n",
              "      <td>0</td>\n",
              "      <td>0</td>\n",
              "      <td>0</td>\n",
              "      <td>0</td>\n",
              "      <td>0</td>\n",
              "      <td>0</td>\n",
              "      <td>0</td>\n",
              "      <td>0</td>\n",
              "      <td>0</td>\n",
              "      <td>1</td>\n",
              "      <td>0</td>\n",
              "      <td>0</td>\n",
              "      <td>0</td>\n",
              "      <td>0</td>\n",
              "      <td>0</td>\n",
              "      <td>1</td>\n",
              "      <td>...</td>\n",
              "      <td>1</td>\n",
              "      <td>0</td>\n",
              "      <td>1</td>\n",
              "      <td>0</td>\n",
              "      <td>0</td>\n",
              "      <td>0</td>\n",
              "      <td>0.55</td>\n",
              "      <td>0.10</td>\n",
              "      <td>0.20</td>\n",
              "      <td>0.05</td>\n",
              "      <td>0.0</td>\n",
              "      <td>0.10</td>\n",
              "      <td>0.7</td>\n",
              "      <td>0.3</td>\n",
              "      <td>0.0</td>\n",
              "      <td>0.0</td>\n",
              "      <td>0.0</td>\n",
              "      <td>1</td>\n",
              "      <td>0</td>\n",
              "      <td>0</td>\n",
              "      <td>0.333333</td>\n",
              "      <td>1.000000</td>\n",
              "      <td>0.666667</td>\n",
              "      <td>0</td>\n",
              "      <td>0</td>\n",
              "      <td>1</td>\n",
              "      <td>0</td>\n",
              "      <td>0</td>\n",
              "      <td>0</td>\n",
              "      <td>0</td>\n",
              "      <td>0</td>\n",
              "      <td>0</td>\n",
              "      <td>0</td>\n",
              "      <td>0</td>\n",
              "      <td>0</td>\n",
              "      <td>1</td>\n",
              "      <td>0</td>\n",
              "      <td>0</td>\n",
              "      <td>0</td>\n",
              "      <td>0</td>\n",
              "    </tr>\n",
              "    <tr>\n",
              "      <th>4</th>\n",
              "      <td>2028</td>\n",
              "      <td>0</td>\n",
              "      <td>1</td>\n",
              "      <td>0</td>\n",
              "      <td>1</td>\n",
              "      <td>0</td>\n",
              "      <td>0</td>\n",
              "      <td>0</td>\n",
              "      <td>0</td>\n",
              "      <td>1</td>\n",
              "      <td>0</td>\n",
              "      <td>0</td>\n",
              "      <td>1</td>\n",
              "      <td>0</td>\n",
              "      <td>0</td>\n",
              "      <td>0</td>\n",
              "      <td>0</td>\n",
              "      <td>0</td>\n",
              "      <td>0</td>\n",
              "      <td>1</td>\n",
              "      <td>0</td>\n",
              "      <td>0</td>\n",
              "      <td>0</td>\n",
              "      <td>0</td>\n",
              "      <td>0</td>\n",
              "      <td>0</td>\n",
              "      <td>0</td>\n",
              "      <td>0</td>\n",
              "      <td>1</td>\n",
              "      <td>0</td>\n",
              "      <td>0</td>\n",
              "      <td>0</td>\n",
              "      <td>0</td>\n",
              "      <td>1</td>\n",
              "      <td>0</td>\n",
              "      <td>0</td>\n",
              "      <td>1</td>\n",
              "      <td>0</td>\n",
              "      <td>0</td>\n",
              "      <td>0</td>\n",
              "      <td>...</td>\n",
              "      <td>1</td>\n",
              "      <td>0</td>\n",
              "      <td>0</td>\n",
              "      <td>0</td>\n",
              "      <td>0</td>\n",
              "      <td>0</td>\n",
              "      <td>0.00</td>\n",
              "      <td>0.20</td>\n",
              "      <td>0.30</td>\n",
              "      <td>0.50</td>\n",
              "      <td>0.0</td>\n",
              "      <td>0.00</td>\n",
              "      <td>0.0</td>\n",
              "      <td>0.5</td>\n",
              "      <td>0.0</td>\n",
              "      <td>0.4</td>\n",
              "      <td>0.1</td>\n",
              "      <td>1</td>\n",
              "      <td>0</td>\n",
              "      <td>0</td>\n",
              "      <td>1.000000</td>\n",
              "      <td>1.000000</td>\n",
              "      <td>1.000000</td>\n",
              "      <td>0</td>\n",
              "      <td>1</td>\n",
              "      <td>0</td>\n",
              "      <td>0</td>\n",
              "      <td>0</td>\n",
              "      <td>1</td>\n",
              "      <td>0</td>\n",
              "      <td>0</td>\n",
              "      <td>0</td>\n",
              "      <td>0</td>\n",
              "      <td>0</td>\n",
              "      <td>0</td>\n",
              "      <td>0</td>\n",
              "      <td>1</td>\n",
              "      <td>0</td>\n",
              "      <td>0</td>\n",
              "      <td>2</td>\n",
              "    </tr>\n",
              "  </tbody>\n",
              "</table>\n",
              "<p>5 rows × 261 columns</p>\n",
              "</div>"
            ],
            "text/plain": [
              "   duration  1_Female  ...  48_Yes, most ML models are \"black boxes\"  value\n",
              "0       718         1  ...                                         0      0\n",
              "1       731         0  ...                                         0      0\n",
              "2      1142         0  ...                                         0      2\n",
              "3       751         0  ...                                         0      0\n",
              "4      2028         0  ...                                         0      2\n",
              "\n",
              "[5 rows x 261 columns]"
            ]
          },
          "metadata": {
            "tags": []
          },
          "execution_count": 139
        }
      ]
    },
    {
      "cell_type": "code",
      "metadata": {
        "id": "Vro-weuFQbts",
        "colab_type": "code",
        "colab": {
          "base_uri": "https://localhost:8080/",
          "height": 1000
        },
        "outputId": "41a56e0d-43b7-4b96-d9a1-e70748b98e49"
      },
      "source": [
        "for c in clean_dataset_new:\n",
        "    print(c)\n",
        "    clean_dataset_new[c]=pd.to_numeric(clean_dataset_new[c])"
      ],
      "execution_count": null,
      "outputs": [
        {
          "output_type": "stream",
          "text": [
            "duration\n",
            "1_Female\n",
            "1_Male\n",
            "2_18-21\n",
            "2_22-24\n",
            "2_25-29\n",
            "2_30-34\n",
            "2_35-39\n",
            "3_Asia\n",
            "3_Europe\n",
            "3_NorthAmerica\n",
            "3_SouthAmerica\n",
            "4_Bachelor’s degree\n",
            "4_Doctoral degree\n",
            "4_Master’s degree\n",
            "Data Analyst\n",
            "Data Scientist\n",
            "Software Engineer\n",
            "Statistician/Research Scientist\n",
            "Student\n",
            "5_A business discipline (accounting, economics, finance, etc.)\n",
            "5_Computer science (software engineering, etc.)\n",
            "5_Engineering (non-computer focused)\n",
            "5_Mathematics or statistics\n",
            "5_Physics or astronomy\n",
            "7_Academics/Education\n",
            "7_Accounting/Finance\n",
            "7_Computers/Technology\n",
            "7_Student\n",
            "8_0-1\n",
            "8_1-2\n",
            "8_10-15\n",
            "8_2-3\n",
            "8_3-4\n",
            "8_4-5\n",
            "8_5-10\n",
            "10_I do not know\n",
            "10_No (we do not use ML methods)\n",
            "10_We are exploring ML methods (and may one day put a model into production)\n",
            "10_We have well established ML methods (i.e., models in production for more than 2 years)\n",
            "10_We recently started using ML methods (i.e., models in production for less than 2 years)\n",
            "10_We use ML methods for generating insights (but do not put working models into production)\n",
            "11_Analyze and understand data to influence product or business decisions\n",
            "11_Build and/or run a machine learning service that operationally improves my product or workflows\n",
            "11_Build and/or run the data infrastructure that my business uses for storing, analyzing, and operationalizing data\n",
            "11_Build prototypes to explore applying machine learning to new areas\n",
            "11_Do research that advances the state of the art of machine learning\n",
            "11_Other\n",
            "12_Q12_Part_2_TEXT\n",
            "12_Q12_Part_3_TEXT\n",
            "12_Q12_Part_4_TEXT\n",
            "12_Q12_Part_5_TEXT\n",
            "13_Jupyter/IPython\n",
            "13_RStudio\n",
            "13_PyCharm\n",
            "13_Visual Studio Code\n",
            "13_Atom\n",
            "13_MATLAB\n",
            "13_Visual Studio\n",
            "13_Notepad++\n",
            "13_Sublime Text\n",
            "13_Vim\n",
            "13_IntelliJ\n",
            "13_Spyder\n",
            "13_Other\n",
            "14_Kaggle Kernels\n",
            "14_Google Colab\n",
            "14_Azure Notebook\n",
            "14_Google Cloud Datalab\n",
            "14_JupyterHub/Binder\n",
            "14_None\n",
            "15_Google Cloud Platform (GCP)\n",
            "15_Amazon Web Services (AWS)\n",
            "15_Microsoft Azure\n",
            "15_IBM Cloud\n",
            "15_I have not used any cloud providers\n",
            "16_Python\n",
            "16_R\n",
            "16_SQL\n",
            "16_Bash\n",
            "16_Java\n",
            "16_Javascript/Typescript\n",
            "16_Visual Basic/VBA\n",
            "16_C/C++\n",
            "16_MATLAB\n",
            "16_C#/.NET\n",
            "16_PHP\n",
            "16_SAS/STATA\n",
            "19_Scikit-Learn\n",
            "19_TensorFlow\n",
            "19_Keras\n",
            "19_PyTorch\n",
            "19_Spark MLlib\n",
            "19_H20\n",
            "19_Fastai\n",
            "19_Caret\n",
            "19_Xgboost\n",
            "19_randomForest\n",
            "19_lightgbm\n",
            "19_catboost\n",
            "19_Caffe\n",
            "19_None\n",
            "21_ggplot2\n",
            "21_Matplotlib\n",
            "21_Shiny\n",
            "21_D3\n",
            "21_Plotly\n",
            "21_Bokeh\n",
            "21_Seaborn\n",
            "21_Leaflet\n",
            "21_None\n",
            "23_1% to 25% of my time\n",
            "23_25% to 49% of my time\n",
            "23_50% to 74% of my time\n",
            "23_75% to 99% of my time\n",
            "24_< 1 year\n",
            "24_1-2 years\n",
            "24_3-5 years\n",
            "24_5-10 years\n",
            "24_10-20 years\n",
            "25_1-2 years\n",
            "25_2-3 years\n",
            "25_3-4 years\n",
            "25_< 1 year\n",
            "25_I have never studied machine learning but plan to learn in the future\n",
            "26_Definitely not\n",
            "26_Definitely yes\n",
            "26_Maybe\n",
            "26_Probably not\n",
            "26_Probably yes\n",
            "27_AWS Elastic Compute Cloud (EC2)\n",
            "27_Google Compute Engine\n",
            "27_Google App Engine\n",
            "27_AWS Lambda\n",
            "27_Google Cloud Functions\n",
            "27_Azure Virtual Machines\n",
            "27_None\n",
            "28_None\n",
            "29_Microsoft SQL Server\n",
            "29_MySQL\n",
            "29_PostgresSQL\n",
            "29_SQLite\n",
            "29_Oracle Database\n",
            "29_Microsoft Access\n",
            "29_None\n",
            "30_AWS Redshift\n",
            "30_Google BigQuery\n",
            "30_None\n",
            "31_Audio Data\n",
            "31_Categorical Data\n",
            "31_Genetic Data\n",
            "31_Geospatial Data\n",
            "31_Image Data\n",
            "31_Numerical Data\n",
            "31_Sensor Data\n",
            "31_Tabular Data\n",
            "31_Text Data\n",
            "31_Time Series Data\n",
            "31_Video Data\n",
            "36_Udacity\n",
            "36_Coursera\n",
            "36_edX\n",
            "36_DataCamp\n",
            "36_Kaggle Learn\n",
            "36_Fast.AI\n",
            "36_developers.google.com\n",
            "36_Udemy\n",
            "36_Online University Courses\n",
            "36_None\n",
            "36_Other\n",
            "38_Twitter\n",
            "38_Hacker News\n",
            "38_r/machinelearning\n",
            "38_Kaggle forums\n",
            "38_Siraj Raval YouTube Channel\n",
            "38_FiveThirtyEight.com\n",
            "38_ArXiv & Preprints\n",
            "38_Journal Publications\n",
            "38_KDnuggets Blog\n",
            "38_O'Reilly Data Newsletter\n",
            "38_Medium Blog Posts\n",
            "38_None/I do not know\n",
            "38_Other\n",
            "42_Revenue and/or business goals\n",
            "42_Metrics that consider accuracy\n",
            "42_Metrics that consider unfair bias\n",
            "42_Not applicable (I am not involved with an organization that builds ML models)\n",
            "44_Lack of communication between individuals who collect the data and individuals who analyze the data\n",
            "44_Difficulty in identifying groups that are unfairly targeted\n",
            "44_Difficulty in collecting enough data about groups that may be unfairly targeted\n",
            "44_Difficulty in identifying and selecting the appropriate evaluation metrics\n",
            "44_I have never performed this task\n",
            "45_Only for very important models that are already in production\n",
            "45_For all models right before putting the model in production\n",
            "45_When determining whether it is worth it to put the model into production\n",
            "45_When building a model that was specifically designed to produce such insights\n",
            "45_When first exploring a new ML model or dataset\n",
            "45_I do not explore and interpret model insights and predictions\n",
            "47_Examine individual model coefficients\n",
            "47_Examine feature correlations\n",
            "47_Examine feature importances\n",
            "47_Plot decision boundaries\n",
            "47_Create partial dependence plots\n",
            "47_Dimensionality reduction techniques\n",
            "47_Attention mapping/saliency mapping\n",
            "47_Plot predicted vs. actual results\n",
            "47_Print out a decision tree\n",
            "47_Sensitivity analysis/perturbation importance\n",
            "47_LIME functions\n",
            "47_None/I do not use these model explanation techniques\n",
            "49_Share code on Github or a similar code-sharing repository\n",
            "49_Share both data and code on Github or a similar code-sharing repository\n",
            "49_Share data, code, and environment using a hosted service (Kaggle Kernels, Google Colaboratory, Amazon SageMaker, etc.)\n",
            "49_Share data, code, and environment using containers (Docker, etc.)\n",
            "49_Share code, data, and environment using virtual machines (VirtualBox, etc.)\n",
            "49_Make sure the code is well documented\n",
            "49_Make sure the code is human-readable\n",
            "49_Define all random seeds\n",
            "49_Define relative rather than absolute file paths\n",
            "49_Include a text file describing all dependencies\n",
            "50_Too expensive\n",
            "50_Too time-consuming\n",
            "50_Requires too much technical knowledge\n",
            "50_Afraid that others will use my work without giving proper credit\n",
            "50_Not enough incentives to share my work\n",
            "50_I had never considered making my work easier for others to reproduce\n",
            "50_None of these reasons apply to me\n",
            "Q34_Part_1\n",
            "Q34_Part_2\n",
            "Q34_Part_3\n",
            "Q34_Part_4\n",
            "Q34_Part_5\n",
            "Q34_Part_6\n",
            "35_Q35_Part_1\n",
            "35_Q35_Part_2\n",
            "35_Q35_Part_3\n",
            "35_Q35_Part_4\n",
            "35_Q35_Part_5\n",
            "40_Independent projects are equally important as academic achievements\n",
            "40_Independent projects are much more important than academic achievements\n",
            "40_Independent projects are slightly more important than academic achievements\n",
            "Q41_Part_1\n",
            "Q41_Part_2\n",
            "Q41_Part_3\n",
            "43_0\n",
            "43_0-10\n",
            "43_10-20\n",
            "43_20-30\n",
            "46_0\n",
            "46_0-10\n",
            "46_10-20\n",
            "46_20-30\n",
            "46_30-40\n",
            "46_40-50\n",
            "46_90-100\n",
            "48_I am confident that I can explain the outputs of most if not all ML models\n",
            "48_I am confident that I can understand and explain the outputs of many but not all ML models\n",
            "48_I do not know; I have no opinion on the matter\n",
            "48_I view ML models as \"black boxes\" but I am confident that experts are able to explain model outputs\n",
            "48_Yes, most ML models are \"black boxes\"\n",
            "value\n"
          ],
          "name": "stdout"
        }
      ]
    },
    {
      "cell_type": "code",
      "metadata": {
        "id": "ih9xSkhNQu4F",
        "colab_type": "code",
        "colab": {
          "base_uri": "https://localhost:8080/",
          "height": 35
        },
        "outputId": "d291b5b4-6b1e-4d54-9a78-bed0565e7474"
      },
      "source": [
        "clean_dataset_new.shape"
      ],
      "execution_count": null,
      "outputs": [
        {
          "output_type": "execute_result",
          "data": {
            "text/plain": [
              "(14092, 261)"
            ]
          },
          "metadata": {
            "tags": []
          },
          "execution_count": 141
        }
      ]
    },
    {
      "cell_type": "markdown",
      "metadata": {
        "id": "SlsW08IrtyT3",
        "colab_type": "text"
      },
      "source": [
        ""
      ]
    },
    {
      "cell_type": "markdown",
      "metadata": {
        "id": "uco-RnawQfSG",
        "colab_type": "text"
      },
      "source": [
        "* multicollinearity 제거 "
      ]
    },
    {
      "cell_type": "code",
      "metadata": {
        "id": "bbBDiBpkH9c8",
        "colab_type": "code",
        "colab": {}
      },
      "source": [
        "# Create correlation matrix\n",
        "correl = clean_dataset_new.corr().abs()\n",
        "\n",
        "# Select upper triangle of correlation matrix\n",
        "upper = correl.where(np.triu(np.ones(correl.shape), k=1).astype(np.bool))\n",
        "\n",
        "# Find index of feature columns with correlation greater than 0.5\n",
        "to_drop = [column for column in upper.columns if any(upper[column] > 0.5)]\n",
        "\n",
        "# Drop features \n",
        "#clean_dataset_dropped = clean_dataset.drop(to_drop, axis=1)\n",
        "\n",
        "#shape = clean_dataset_dropped.shape\n",
        "#print('After dropping highly correlated features, our has {} records and {} features'.format(shape[0], shape[1]))\n",
        "#print('Dropped features: ', to_drop)"
      ],
      "execution_count": null,
      "outputs": []
    },
    {
      "cell_type": "code",
      "metadata": {
        "id": "cdoVGa7oXnK9",
        "colab_type": "code",
        "colab": {
          "base_uri": "https://localhost:8080/",
          "height": 35
        },
        "outputId": "8772b290-f3a5-4b86-8dbb-e4fc312477c8"
      },
      "source": [
        "to_drop"
      ],
      "execution_count": null,
      "outputs": [
        {
          "output_type": "execute_result",
          "data": {
            "text/plain": [
              "['1_Male', '7_Student']"
            ]
          },
          "metadata": {
            "tags": []
          },
          "execution_count": 180
        }
      ]
    },
    {
      "cell_type": "code",
      "metadata": {
        "id": "3ZYXcRl96bl_",
        "colab_type": "code",
        "colab": {}
      },
      "source": [
        "clean_dataset_new = clean_dataset_new.drop('7_Student', axis=1)"
      ],
      "execution_count": null,
      "outputs": []
    },
    {
      "cell_type": "code",
      "metadata": {
        "id": "IzIPaBkVQBjz",
        "colab_type": "code",
        "colab": {
          "base_uri": "https://localhost:8080/",
          "height": 1000
        },
        "outputId": "0d8dddc3-65f3-43ec-9f8e-e0a13434341f"
      },
      "source": [
        "upper"
      ],
      "execution_count": null,
      "outputs": [
        {
          "output_type": "execute_result",
          "data": {
            "text/html": [
              "<div>\n",
              "<style scoped>\n",
              "    .dataframe tbody tr th:only-of-type {\n",
              "        vertical-align: middle;\n",
              "    }\n",
              "\n",
              "    .dataframe tbody tr th {\n",
              "        vertical-align: top;\n",
              "    }\n",
              "\n",
              "    .dataframe thead th {\n",
              "        text-align: right;\n",
              "    }\n",
              "</style>\n",
              "<table border=\"1\" class=\"dataframe\">\n",
              "  <thead>\n",
              "    <tr style=\"text-align: right;\">\n",
              "      <th></th>\n",
              "      <th>duration</th>\n",
              "      <th>1_Female</th>\n",
              "      <th>1_Male</th>\n",
              "      <th>2_18-21</th>\n",
              "      <th>2_22-24</th>\n",
              "      <th>2_25-29</th>\n",
              "      <th>2_30-34</th>\n",
              "      <th>2_35-39</th>\n",
              "      <th>3_Asia</th>\n",
              "      <th>3_Europe</th>\n",
              "      <th>3_NorthAmerica</th>\n",
              "      <th>3_SouthAmerica</th>\n",
              "      <th>4_Bachelor’s degree</th>\n",
              "      <th>4_Doctoral degree</th>\n",
              "      <th>4_Master’s degree</th>\n",
              "      <th>Data Analyst</th>\n",
              "      <th>Data Scientist</th>\n",
              "      <th>Software Engineer</th>\n",
              "      <th>Statistician/Research Scientist</th>\n",
              "      <th>Student</th>\n",
              "      <th>5_A business discipline (accounting, economics, finance, etc.)</th>\n",
              "      <th>5_Computer science (software engineering, etc.)</th>\n",
              "      <th>5_Engineering (non-computer focused)</th>\n",
              "      <th>5_Mathematics or statistics</th>\n",
              "      <th>5_Physics or astronomy</th>\n",
              "      <th>7_Academics/Education</th>\n",
              "      <th>7_Accounting/Finance</th>\n",
              "      <th>7_Computers/Technology</th>\n",
              "      <th>7_Student</th>\n",
              "      <th>8_0-1</th>\n",
              "      <th>8_1-2</th>\n",
              "      <th>8_10-15</th>\n",
              "      <th>8_2-3</th>\n",
              "      <th>8_3-4</th>\n",
              "      <th>8_4-5</th>\n",
              "      <th>8_5-10</th>\n",
              "      <th>10_I do not know</th>\n",
              "      <th>10_No (we do not use ML methods)</th>\n",
              "      <th>10_We are exploring ML methods (and may one day put a model into production)</th>\n",
              "      <th>10_We have well established ML methods (i.e., models in production for more than 2 years)</th>\n",
              "      <th>...</th>\n",
              "      <th>50_Too time-consuming</th>\n",
              "      <th>50_Requires too much technical knowledge</th>\n",
              "      <th>50_Afraid that others will use my work without giving proper credit</th>\n",
              "      <th>50_Not enough incentives to share my work</th>\n",
              "      <th>50_I had never considered making my work easier for others to reproduce</th>\n",
              "      <th>50_None of these reasons apply to me</th>\n",
              "      <th>Q34_Part_1</th>\n",
              "      <th>Q34_Part_2</th>\n",
              "      <th>Q34_Part_3</th>\n",
              "      <th>Q34_Part_4</th>\n",
              "      <th>Q34_Part_5</th>\n",
              "      <th>Q34_Part_6</th>\n",
              "      <th>35_Q35_Part_1</th>\n",
              "      <th>35_Q35_Part_2</th>\n",
              "      <th>35_Q35_Part_3</th>\n",
              "      <th>35_Q35_Part_4</th>\n",
              "      <th>35_Q35_Part_5</th>\n",
              "      <th>40_Independent projects are equally important as academic achievements</th>\n",
              "      <th>40_Independent projects are much more important than academic achievements</th>\n",
              "      <th>40_Independent projects are slightly more important than academic achievements</th>\n",
              "      <th>Q41_Part_1</th>\n",
              "      <th>Q41_Part_2</th>\n",
              "      <th>Q41_Part_3</th>\n",
              "      <th>43_0</th>\n",
              "      <th>43_0-10</th>\n",
              "      <th>43_10-20</th>\n",
              "      <th>43_20-30</th>\n",
              "      <th>46_0</th>\n",
              "      <th>46_0-10</th>\n",
              "      <th>46_10-20</th>\n",
              "      <th>46_20-30</th>\n",
              "      <th>46_30-40</th>\n",
              "      <th>46_40-50</th>\n",
              "      <th>46_90-100</th>\n",
              "      <th>48_I am confident that I can explain the outputs of most if not all ML models</th>\n",
              "      <th>48_I am confident that I can understand and explain the outputs of many but not all ML models</th>\n",
              "      <th>48_I do not know; I have no opinion on the matter</th>\n",
              "      <th>48_I view ML models as \"black boxes\" but I am confident that experts are able to explain model outputs</th>\n",
              "      <th>48_Yes, most ML models are \"black boxes\"</th>\n",
              "      <th>value</th>\n",
              "    </tr>\n",
              "  </thead>\n",
              "  <tbody>\n",
              "    <tr>\n",
              "      <th>duration</th>\n",
              "      <td>NaN</td>\n",
              "      <td>0.002181</td>\n",
              "      <td>0.004510</td>\n",
              "      <td>0.014024</td>\n",
              "      <td>0.004571</td>\n",
              "      <td>0.003576</td>\n",
              "      <td>0.003276</td>\n",
              "      <td>0.002181</td>\n",
              "      <td>0.001417</td>\n",
              "      <td>0.003292</td>\n",
              "      <td>0.011882</td>\n",
              "      <td>0.015800</td>\n",
              "      <td>0.007953</td>\n",
              "      <td>0.003829</td>\n",
              "      <td>0.002902</td>\n",
              "      <td>0.006872</td>\n",
              "      <td>0.015069</td>\n",
              "      <td>0.005951</td>\n",
              "      <td>0.011158</td>\n",
              "      <td>0.011168</td>\n",
              "      <td>0.012755</td>\n",
              "      <td>0.008336</td>\n",
              "      <td>0.000113</td>\n",
              "      <td>0.002631</td>\n",
              "      <td>0.001087</td>\n",
              "      <td>0.000253</td>\n",
              "      <td>0.008715</td>\n",
              "      <td>0.008932</td>\n",
              "      <td>0.012350</td>\n",
              "      <td>0.002971</td>\n",
              "      <td>0.011757</td>\n",
              "      <td>0.000091</td>\n",
              "      <td>0.009251</td>\n",
              "      <td>0.010280</td>\n",
              "      <td>0.003879</td>\n",
              "      <td>0.000491</td>\n",
              "      <td>0.005531</td>\n",
              "      <td>0.012293</td>\n",
              "      <td>0.016329</td>\n",
              "      <td>0.011062</td>\n",
              "      <td>...</td>\n",
              "      <td>0.009588</td>\n",
              "      <td>0.001152</td>\n",
              "      <td>0.011129</td>\n",
              "      <td>0.011524</td>\n",
              "      <td>0.002483</td>\n",
              "      <td>0.017551</td>\n",
              "      <td>0.018410</td>\n",
              "      <td>0.000942</td>\n",
              "      <td>0.004418</td>\n",
              "      <td>0.005582</td>\n",
              "      <td>0.002430</td>\n",
              "      <td>0.010023</td>\n",
              "      <td>0.004529</td>\n",
              "      <td>0.016150</td>\n",
              "      <td>0.002232</td>\n",
              "      <td>0.005856</td>\n",
              "      <td>0.018087</td>\n",
              "      <td>0.009469</td>\n",
              "      <td>0.016552</td>\n",
              "      <td>0.015926</td>\n",
              "      <td>0.007121</td>\n",
              "      <td>0.012164</td>\n",
              "      <td>0.015599</td>\n",
              "      <td>0.002703</td>\n",
              "      <td>0.010778</td>\n",
              "      <td>0.012383</td>\n",
              "      <td>0.004802</td>\n",
              "      <td>0.012898</td>\n",
              "      <td>0.015365</td>\n",
              "      <td>0.015058</td>\n",
              "      <td>0.000277</td>\n",
              "      <td>0.004172</td>\n",
              "      <td>0.006844</td>\n",
              "      <td>0.001741</td>\n",
              "      <td>0.002522</td>\n",
              "      <td>0.007489</td>\n",
              "      <td>0.004547</td>\n",
              "      <td>0.006173</td>\n",
              "      <td>0.018541</td>\n",
              "      <td>0.021850</td>\n",
              "    </tr>\n",
              "    <tr>\n",
              "      <th>1_Female</th>\n",
              "      <td>NaN</td>\n",
              "      <td>NaN</td>\n",
              "      <td>0.956512</td>\n",
              "      <td>0.017259</td>\n",
              "      <td>0.032846</td>\n",
              "      <td>0.026084</td>\n",
              "      <td>0.004550</td>\n",
              "      <td>0.009557</td>\n",
              "      <td>0.053890</td>\n",
              "      <td>0.018651</td>\n",
              "      <td>0.098184</td>\n",
              "      <td>0.042830</td>\n",
              "      <td>0.055014</td>\n",
              "      <td>0.017447</td>\n",
              "      <td>0.055218</td>\n",
              "      <td>0.037445</td>\n",
              "      <td>0.007275</td>\n",
              "      <td>0.071005</td>\n",
              "      <td>0.008746</td>\n",
              "      <td>0.045080</td>\n",
              "      <td>0.005107</td>\n",
              "      <td>0.038250</td>\n",
              "      <td>0.050472</td>\n",
              "      <td>0.054203</td>\n",
              "      <td>0.035786</td>\n",
              "      <td>0.015181</td>\n",
              "      <td>0.023546</td>\n",
              "      <td>0.021840</td>\n",
              "      <td>0.042084</td>\n",
              "      <td>0.045910</td>\n",
              "      <td>0.009732</td>\n",
              "      <td>0.025027</td>\n",
              "      <td>0.005184</td>\n",
              "      <td>0.007829</td>\n",
              "      <td>0.016175</td>\n",
              "      <td>0.032281</td>\n",
              "      <td>0.053974</td>\n",
              "      <td>0.007864</td>\n",
              "      <td>0.011947</td>\n",
              "      <td>0.028743</td>\n",
              "      <td>...</td>\n",
              "      <td>0.046467</td>\n",
              "      <td>0.006709</td>\n",
              "      <td>0.004008</td>\n",
              "      <td>0.028927</td>\n",
              "      <td>0.002342</td>\n",
              "      <td>0.002088</td>\n",
              "      <td>0.037275</td>\n",
              "      <td>0.004636</td>\n",
              "      <td>0.052745</td>\n",
              "      <td>0.000855</td>\n",
              "      <td>0.011740</td>\n",
              "      <td>0.040264</td>\n",
              "      <td>0.076579</td>\n",
              "      <td>0.017563</td>\n",
              "      <td>0.007644</td>\n",
              "      <td>0.134752</td>\n",
              "      <td>0.095938</td>\n",
              "      <td>0.029137</td>\n",
              "      <td>0.024925</td>\n",
              "      <td>0.009504</td>\n",
              "      <td>0.011424</td>\n",
              "      <td>0.016247</td>\n",
              "      <td>0.016205</td>\n",
              "      <td>0.014265</td>\n",
              "      <td>0.004168</td>\n",
              "      <td>0.006118</td>\n",
              "      <td>0.005849</td>\n",
              "      <td>0.012068</td>\n",
              "      <td>0.005245</td>\n",
              "      <td>0.019731</td>\n",
              "      <td>0.010129</td>\n",
              "      <td>0.012628</td>\n",
              "      <td>0.007703</td>\n",
              "      <td>0.003435</td>\n",
              "      <td>0.008833</td>\n",
              "      <td>0.023135</td>\n",
              "      <td>0.028163</td>\n",
              "      <td>0.000281</td>\n",
              "      <td>0.022353</td>\n",
              "      <td>0.037043</td>\n",
              "    </tr>\n",
              "    <tr>\n",
              "      <th>1_Male</th>\n",
              "      <td>NaN</td>\n",
              "      <td>NaN</td>\n",
              "      <td>NaN</td>\n",
              "      <td>0.020979</td>\n",
              "      <td>0.028160</td>\n",
              "      <td>0.024163</td>\n",
              "      <td>0.000306</td>\n",
              "      <td>0.008423</td>\n",
              "      <td>0.060873</td>\n",
              "      <td>0.018382</td>\n",
              "      <td>0.099463</td>\n",
              "      <td>0.044947</td>\n",
              "      <td>0.051989</td>\n",
              "      <td>0.023280</td>\n",
              "      <td>0.048391</td>\n",
              "      <td>0.033420</td>\n",
              "      <td>0.006118</td>\n",
              "      <td>0.071761</td>\n",
              "      <td>0.008163</td>\n",
              "      <td>0.044578</td>\n",
              "      <td>0.001155</td>\n",
              "      <td>0.038217</td>\n",
              "      <td>0.049520</td>\n",
              "      <td>0.051477</td>\n",
              "      <td>0.033505</td>\n",
              "      <td>0.020116</td>\n",
              "      <td>0.023175</td>\n",
              "      <td>0.022901</td>\n",
              "      <td>0.039857</td>\n",
              "      <td>0.038749</td>\n",
              "      <td>0.008811</td>\n",
              "      <td>0.023599</td>\n",
              "      <td>0.002604</td>\n",
              "      <td>0.007000</td>\n",
              "      <td>0.016139</td>\n",
              "      <td>0.027300</td>\n",
              "      <td>0.049918</td>\n",
              "      <td>0.004788</td>\n",
              "      <td>0.012149</td>\n",
              "      <td>0.025106</td>\n",
              "      <td>...</td>\n",
              "      <td>0.042846</td>\n",
              "      <td>0.011362</td>\n",
              "      <td>0.004385</td>\n",
              "      <td>0.028259</td>\n",
              "      <td>0.005132</td>\n",
              "      <td>0.005416</td>\n",
              "      <td>0.033402</td>\n",
              "      <td>0.003406</td>\n",
              "      <td>0.044632</td>\n",
              "      <td>0.001110</td>\n",
              "      <td>0.014530</td>\n",
              "      <td>0.039244</td>\n",
              "      <td>0.070669</td>\n",
              "      <td>0.023695</td>\n",
              "      <td>0.006131</td>\n",
              "      <td>0.134816</td>\n",
              "      <td>0.093849</td>\n",
              "      <td>0.028415</td>\n",
              "      <td>0.028617</td>\n",
              "      <td>0.007202</td>\n",
              "      <td>0.008233</td>\n",
              "      <td>0.010390</td>\n",
              "      <td>0.020211</td>\n",
              "      <td>0.014892</td>\n",
              "      <td>0.000378</td>\n",
              "      <td>0.003717</td>\n",
              "      <td>0.004868</td>\n",
              "      <td>0.012891</td>\n",
              "      <td>0.007553</td>\n",
              "      <td>0.017452</td>\n",
              "      <td>0.012584</td>\n",
              "      <td>0.014415</td>\n",
              "      <td>0.005693</td>\n",
              "      <td>0.003844</td>\n",
              "      <td>0.003893</td>\n",
              "      <td>0.026881</td>\n",
              "      <td>0.030112</td>\n",
              "      <td>0.000776</td>\n",
              "      <td>0.021072</td>\n",
              "      <td>0.050131</td>\n",
              "    </tr>\n",
              "    <tr>\n",
              "      <th>2_18-21</th>\n",
              "      <td>NaN</td>\n",
              "      <td>NaN</td>\n",
              "      <td>NaN</td>\n",
              "      <td>NaN</td>\n",
              "      <td>0.206576</td>\n",
              "      <td>0.237540</td>\n",
              "      <td>0.170604</td>\n",
              "      <td>0.118438</td>\n",
              "      <td>0.182427</td>\n",
              "      <td>0.095039</td>\n",
              "      <td>0.084520</td>\n",
              "      <td>0.011455</td>\n",
              "      <td>0.295398</td>\n",
              "      <td>0.159878</td>\n",
              "      <td>0.214784</td>\n",
              "      <td>0.093376</td>\n",
              "      <td>0.167397</td>\n",
              "      <td>0.118095</td>\n",
              "      <td>0.097798</td>\n",
              "      <td>0.424246</td>\n",
              "      <td>0.060986</td>\n",
              "      <td>0.148679</td>\n",
              "      <td>0.050323</td>\n",
              "      <td>0.036952</td>\n",
              "      <td>0.053351</td>\n",
              "      <td>0.089092</td>\n",
              "      <td>0.075294</td>\n",
              "      <td>0.150892</td>\n",
              "      <td>0.449185</td>\n",
              "      <td>0.177049</td>\n",
              "      <td>0.034763</td>\n",
              "      <td>0.027193</td>\n",
              "      <td>0.024404</td>\n",
              "      <td>0.021785</td>\n",
              "      <td>0.084320</td>\n",
              "      <td>0.122942</td>\n",
              "      <td>0.280368</td>\n",
              "      <td>0.020619</td>\n",
              "      <td>0.046917</td>\n",
              "      <td>0.089642</td>\n",
              "      <td>...</td>\n",
              "      <td>0.052245</td>\n",
              "      <td>0.008728</td>\n",
              "      <td>0.025040</td>\n",
              "      <td>0.028733</td>\n",
              "      <td>0.020368</td>\n",
              "      <td>0.022717</td>\n",
              "      <td>0.025505</td>\n",
              "      <td>0.065932</td>\n",
              "      <td>0.026419</td>\n",
              "      <td>0.051808</td>\n",
              "      <td>0.050243</td>\n",
              "      <td>0.053881</td>\n",
              "      <td>0.036992</td>\n",
              "      <td>0.055984</td>\n",
              "      <td>0.151805</td>\n",
              "      <td>0.016903</td>\n",
              "      <td>0.032423</td>\n",
              "      <td>0.034337</td>\n",
              "      <td>0.033571</td>\n",
              "      <td>0.014628</td>\n",
              "      <td>0.060327</td>\n",
              "      <td>0.055942</td>\n",
              "      <td>0.089070</td>\n",
              "      <td>0.024345</td>\n",
              "      <td>0.028817</td>\n",
              "      <td>0.017254</td>\n",
              "      <td>0.015000</td>\n",
              "      <td>0.025640</td>\n",
              "      <td>0.003404</td>\n",
              "      <td>0.030686</td>\n",
              "      <td>0.032697</td>\n",
              "      <td>0.007143</td>\n",
              "      <td>0.002479</td>\n",
              "      <td>0.035834</td>\n",
              "      <td>0.021266</td>\n",
              "      <td>0.066807</td>\n",
              "      <td>0.026875</td>\n",
              "      <td>0.025453</td>\n",
              "      <td>0.014688</td>\n",
              "      <td>0.108773</td>\n",
              "    </tr>\n",
              "    <tr>\n",
              "      <th>2_22-24</th>\n",
              "      <td>NaN</td>\n",
              "      <td>NaN</td>\n",
              "      <td>NaN</td>\n",
              "      <td>NaN</td>\n",
              "      <td>NaN</td>\n",
              "      <td>0.338105</td>\n",
              "      <td>0.242830</td>\n",
              "      <td>0.168580</td>\n",
              "      <td>0.113983</td>\n",
              "      <td>0.046177</td>\n",
              "      <td>0.067578</td>\n",
              "      <td>0.024709</td>\n",
              "      <td>0.101094</td>\n",
              "      <td>0.180783</td>\n",
              "      <td>0.063903</td>\n",
              "      <td>0.011568</td>\n",
              "      <td>0.106858</td>\n",
              "      <td>0.019931</td>\n",
              "      <td>0.105670</td>\n",
              "      <td>0.213125</td>\n",
              "      <td>0.026861</td>\n",
              "      <td>0.075376</td>\n",
              "      <td>0.006195</td>\n",
              "      <td>0.009175</td>\n",
              "      <td>0.069093</td>\n",
              "      <td>0.069528</td>\n",
              "      <td>0.026402</td>\n",
              "      <td>0.028754</td>\n",
              "      <td>0.214156</td>\n",
              "      <td>0.233820</td>\n",
              "      <td>0.059085</td>\n",
              "      <td>0.106056</td>\n",
              "      <td>0.033132</td>\n",
              "      <td>0.067797</td>\n",
              "      <td>0.059137</td>\n",
              "      <td>0.161405</td>\n",
              "      <td>0.086939</td>\n",
              "      <td>0.024474</td>\n",
              "      <td>0.020520</td>\n",
              "      <td>0.031300</td>\n",
              "      <td>...</td>\n",
              "      <td>0.037851</td>\n",
              "      <td>0.016048</td>\n",
              "      <td>0.017302</td>\n",
              "      <td>0.026738</td>\n",
              "      <td>0.013857</td>\n",
              "      <td>0.031227</td>\n",
              "      <td>0.034794</td>\n",
              "      <td>0.032063</td>\n",
              "      <td>0.022878</td>\n",
              "      <td>0.047761</td>\n",
              "      <td>0.039479</td>\n",
              "      <td>0.035157</td>\n",
              "      <td>0.028894</td>\n",
              "      <td>0.025126</td>\n",
              "      <td>0.082757</td>\n",
              "      <td>0.118831</td>\n",
              "      <td>0.015993</td>\n",
              "      <td>0.012168</td>\n",
              "      <td>0.012058</td>\n",
              "      <td>0.007009</td>\n",
              "      <td>0.030446</td>\n",
              "      <td>0.020955</td>\n",
              "      <td>0.046521</td>\n",
              "      <td>0.051310</td>\n",
              "      <td>0.014899</td>\n",
              "      <td>0.000894</td>\n",
              "      <td>0.007929</td>\n",
              "      <td>0.001878</td>\n",
              "      <td>0.006855</td>\n",
              "      <td>0.018885</td>\n",
              "      <td>0.000496</td>\n",
              "      <td>0.023737</td>\n",
              "      <td>0.004695</td>\n",
              "      <td>0.030382</td>\n",
              "      <td>0.021898</td>\n",
              "      <td>0.050289</td>\n",
              "      <td>0.023133</td>\n",
              "      <td>0.029637</td>\n",
              "      <td>0.009538</td>\n",
              "      <td>0.017580</td>\n",
              "    </tr>\n",
              "    <tr>\n",
              "      <th>...</th>\n",
              "      <td>...</td>\n",
              "      <td>...</td>\n",
              "      <td>...</td>\n",
              "      <td>...</td>\n",
              "      <td>...</td>\n",
              "      <td>...</td>\n",
              "      <td>...</td>\n",
              "      <td>...</td>\n",
              "      <td>...</td>\n",
              "      <td>...</td>\n",
              "      <td>...</td>\n",
              "      <td>...</td>\n",
              "      <td>...</td>\n",
              "      <td>...</td>\n",
              "      <td>...</td>\n",
              "      <td>...</td>\n",
              "      <td>...</td>\n",
              "      <td>...</td>\n",
              "      <td>...</td>\n",
              "      <td>...</td>\n",
              "      <td>...</td>\n",
              "      <td>...</td>\n",
              "      <td>...</td>\n",
              "      <td>...</td>\n",
              "      <td>...</td>\n",
              "      <td>...</td>\n",
              "      <td>...</td>\n",
              "      <td>...</td>\n",
              "      <td>...</td>\n",
              "      <td>...</td>\n",
              "      <td>...</td>\n",
              "      <td>...</td>\n",
              "      <td>...</td>\n",
              "      <td>...</td>\n",
              "      <td>...</td>\n",
              "      <td>...</td>\n",
              "      <td>...</td>\n",
              "      <td>...</td>\n",
              "      <td>...</td>\n",
              "      <td>...</td>\n",
              "      <td>...</td>\n",
              "      <td>...</td>\n",
              "      <td>...</td>\n",
              "      <td>...</td>\n",
              "      <td>...</td>\n",
              "      <td>...</td>\n",
              "      <td>...</td>\n",
              "      <td>...</td>\n",
              "      <td>...</td>\n",
              "      <td>...</td>\n",
              "      <td>...</td>\n",
              "      <td>...</td>\n",
              "      <td>...</td>\n",
              "      <td>...</td>\n",
              "      <td>...</td>\n",
              "      <td>...</td>\n",
              "      <td>...</td>\n",
              "      <td>...</td>\n",
              "      <td>...</td>\n",
              "      <td>...</td>\n",
              "      <td>...</td>\n",
              "      <td>...</td>\n",
              "      <td>...</td>\n",
              "      <td>...</td>\n",
              "      <td>...</td>\n",
              "      <td>...</td>\n",
              "      <td>...</td>\n",
              "      <td>...</td>\n",
              "      <td>...</td>\n",
              "      <td>...</td>\n",
              "      <td>...</td>\n",
              "      <td>...</td>\n",
              "      <td>...</td>\n",
              "      <td>...</td>\n",
              "      <td>...</td>\n",
              "      <td>...</td>\n",
              "      <td>...</td>\n",
              "      <td>...</td>\n",
              "      <td>...</td>\n",
              "      <td>...</td>\n",
              "      <td>...</td>\n",
              "    </tr>\n",
              "    <tr>\n",
              "      <th>48_I am confident that I can understand and explain the outputs of many but not all ML models</th>\n",
              "      <td>NaN</td>\n",
              "      <td>NaN</td>\n",
              "      <td>NaN</td>\n",
              "      <td>NaN</td>\n",
              "      <td>NaN</td>\n",
              "      <td>NaN</td>\n",
              "      <td>NaN</td>\n",
              "      <td>NaN</td>\n",
              "      <td>NaN</td>\n",
              "      <td>NaN</td>\n",
              "      <td>NaN</td>\n",
              "      <td>NaN</td>\n",
              "      <td>NaN</td>\n",
              "      <td>NaN</td>\n",
              "      <td>NaN</td>\n",
              "      <td>NaN</td>\n",
              "      <td>NaN</td>\n",
              "      <td>NaN</td>\n",
              "      <td>NaN</td>\n",
              "      <td>NaN</td>\n",
              "      <td>NaN</td>\n",
              "      <td>NaN</td>\n",
              "      <td>NaN</td>\n",
              "      <td>NaN</td>\n",
              "      <td>NaN</td>\n",
              "      <td>NaN</td>\n",
              "      <td>NaN</td>\n",
              "      <td>NaN</td>\n",
              "      <td>NaN</td>\n",
              "      <td>NaN</td>\n",
              "      <td>NaN</td>\n",
              "      <td>NaN</td>\n",
              "      <td>NaN</td>\n",
              "      <td>NaN</td>\n",
              "      <td>NaN</td>\n",
              "      <td>NaN</td>\n",
              "      <td>NaN</td>\n",
              "      <td>NaN</td>\n",
              "      <td>NaN</td>\n",
              "      <td>NaN</td>\n",
              "      <td>...</td>\n",
              "      <td>NaN</td>\n",
              "      <td>NaN</td>\n",
              "      <td>NaN</td>\n",
              "      <td>NaN</td>\n",
              "      <td>NaN</td>\n",
              "      <td>NaN</td>\n",
              "      <td>NaN</td>\n",
              "      <td>NaN</td>\n",
              "      <td>NaN</td>\n",
              "      <td>NaN</td>\n",
              "      <td>NaN</td>\n",
              "      <td>NaN</td>\n",
              "      <td>NaN</td>\n",
              "      <td>NaN</td>\n",
              "      <td>NaN</td>\n",
              "      <td>NaN</td>\n",
              "      <td>NaN</td>\n",
              "      <td>NaN</td>\n",
              "      <td>NaN</td>\n",
              "      <td>NaN</td>\n",
              "      <td>NaN</td>\n",
              "      <td>NaN</td>\n",
              "      <td>NaN</td>\n",
              "      <td>NaN</td>\n",
              "      <td>NaN</td>\n",
              "      <td>NaN</td>\n",
              "      <td>NaN</td>\n",
              "      <td>NaN</td>\n",
              "      <td>NaN</td>\n",
              "      <td>NaN</td>\n",
              "      <td>NaN</td>\n",
              "      <td>NaN</td>\n",
              "      <td>NaN</td>\n",
              "      <td>NaN</td>\n",
              "      <td>NaN</td>\n",
              "      <td>NaN</td>\n",
              "      <td>0.186157</td>\n",
              "      <td>0.328681</td>\n",
              "      <td>0.233837</td>\n",
              "      <td>0.034756</td>\n",
              "    </tr>\n",
              "    <tr>\n",
              "      <th>48_I do not know; I have no opinion on the matter</th>\n",
              "      <td>NaN</td>\n",
              "      <td>NaN</td>\n",
              "      <td>NaN</td>\n",
              "      <td>NaN</td>\n",
              "      <td>NaN</td>\n",
              "      <td>NaN</td>\n",
              "      <td>NaN</td>\n",
              "      <td>NaN</td>\n",
              "      <td>NaN</td>\n",
              "      <td>NaN</td>\n",
              "      <td>NaN</td>\n",
              "      <td>NaN</td>\n",
              "      <td>NaN</td>\n",
              "      <td>NaN</td>\n",
              "      <td>NaN</td>\n",
              "      <td>NaN</td>\n",
              "      <td>NaN</td>\n",
              "      <td>NaN</td>\n",
              "      <td>NaN</td>\n",
              "      <td>NaN</td>\n",
              "      <td>NaN</td>\n",
              "      <td>NaN</td>\n",
              "      <td>NaN</td>\n",
              "      <td>NaN</td>\n",
              "      <td>NaN</td>\n",
              "      <td>NaN</td>\n",
              "      <td>NaN</td>\n",
              "      <td>NaN</td>\n",
              "      <td>NaN</td>\n",
              "      <td>NaN</td>\n",
              "      <td>NaN</td>\n",
              "      <td>NaN</td>\n",
              "      <td>NaN</td>\n",
              "      <td>NaN</td>\n",
              "      <td>NaN</td>\n",
              "      <td>NaN</td>\n",
              "      <td>NaN</td>\n",
              "      <td>NaN</td>\n",
              "      <td>NaN</td>\n",
              "      <td>NaN</td>\n",
              "      <td>...</td>\n",
              "      <td>NaN</td>\n",
              "      <td>NaN</td>\n",
              "      <td>NaN</td>\n",
              "      <td>NaN</td>\n",
              "      <td>NaN</td>\n",
              "      <td>NaN</td>\n",
              "      <td>NaN</td>\n",
              "      <td>NaN</td>\n",
              "      <td>NaN</td>\n",
              "      <td>NaN</td>\n",
              "      <td>NaN</td>\n",
              "      <td>NaN</td>\n",
              "      <td>NaN</td>\n",
              "      <td>NaN</td>\n",
              "      <td>NaN</td>\n",
              "      <td>NaN</td>\n",
              "      <td>NaN</td>\n",
              "      <td>NaN</td>\n",
              "      <td>NaN</td>\n",
              "      <td>NaN</td>\n",
              "      <td>NaN</td>\n",
              "      <td>NaN</td>\n",
              "      <td>NaN</td>\n",
              "      <td>NaN</td>\n",
              "      <td>NaN</td>\n",
              "      <td>NaN</td>\n",
              "      <td>NaN</td>\n",
              "      <td>NaN</td>\n",
              "      <td>NaN</td>\n",
              "      <td>NaN</td>\n",
              "      <td>NaN</td>\n",
              "      <td>NaN</td>\n",
              "      <td>NaN</td>\n",
              "      <td>NaN</td>\n",
              "      <td>NaN</td>\n",
              "      <td>NaN</td>\n",
              "      <td>NaN</td>\n",
              "      <td>0.110642</td>\n",
              "      <td>0.078715</td>\n",
              "      <td>0.020578</td>\n",
              "    </tr>\n",
              "    <tr>\n",
              "      <th>48_I view ML models as \"black boxes\" but I am confident that experts are able to explain model outputs</th>\n",
              "      <td>NaN</td>\n",
              "      <td>NaN</td>\n",
              "      <td>NaN</td>\n",
              "      <td>NaN</td>\n",
              "      <td>NaN</td>\n",
              "      <td>NaN</td>\n",
              "      <td>NaN</td>\n",
              "      <td>NaN</td>\n",
              "      <td>NaN</td>\n",
              "      <td>NaN</td>\n",
              "      <td>NaN</td>\n",
              "      <td>NaN</td>\n",
              "      <td>NaN</td>\n",
              "      <td>NaN</td>\n",
              "      <td>NaN</td>\n",
              "      <td>NaN</td>\n",
              "      <td>NaN</td>\n",
              "      <td>NaN</td>\n",
              "      <td>NaN</td>\n",
              "      <td>NaN</td>\n",
              "      <td>NaN</td>\n",
              "      <td>NaN</td>\n",
              "      <td>NaN</td>\n",
              "      <td>NaN</td>\n",
              "      <td>NaN</td>\n",
              "      <td>NaN</td>\n",
              "      <td>NaN</td>\n",
              "      <td>NaN</td>\n",
              "      <td>NaN</td>\n",
              "      <td>NaN</td>\n",
              "      <td>NaN</td>\n",
              "      <td>NaN</td>\n",
              "      <td>NaN</td>\n",
              "      <td>NaN</td>\n",
              "      <td>NaN</td>\n",
              "      <td>NaN</td>\n",
              "      <td>NaN</td>\n",
              "      <td>NaN</td>\n",
              "      <td>NaN</td>\n",
              "      <td>NaN</td>\n",
              "      <td>...</td>\n",
              "      <td>NaN</td>\n",
              "      <td>NaN</td>\n",
              "      <td>NaN</td>\n",
              "      <td>NaN</td>\n",
              "      <td>NaN</td>\n",
              "      <td>NaN</td>\n",
              "      <td>NaN</td>\n",
              "      <td>NaN</td>\n",
              "      <td>NaN</td>\n",
              "      <td>NaN</td>\n",
              "      <td>NaN</td>\n",
              "      <td>NaN</td>\n",
              "      <td>NaN</td>\n",
              "      <td>NaN</td>\n",
              "      <td>NaN</td>\n",
              "      <td>NaN</td>\n",
              "      <td>NaN</td>\n",
              "      <td>NaN</td>\n",
              "      <td>NaN</td>\n",
              "      <td>NaN</td>\n",
              "      <td>NaN</td>\n",
              "      <td>NaN</td>\n",
              "      <td>NaN</td>\n",
              "      <td>NaN</td>\n",
              "      <td>NaN</td>\n",
              "      <td>NaN</td>\n",
              "      <td>NaN</td>\n",
              "      <td>NaN</td>\n",
              "      <td>NaN</td>\n",
              "      <td>NaN</td>\n",
              "      <td>NaN</td>\n",
              "      <td>NaN</td>\n",
              "      <td>NaN</td>\n",
              "      <td>NaN</td>\n",
              "      <td>NaN</td>\n",
              "      <td>NaN</td>\n",
              "      <td>NaN</td>\n",
              "      <td>NaN</td>\n",
              "      <td>0.138981</td>\n",
              "      <td>0.027638</td>\n",
              "    </tr>\n",
              "    <tr>\n",
              "      <th>48_Yes, most ML models are \"black boxes\"</th>\n",
              "      <td>NaN</td>\n",
              "      <td>NaN</td>\n",
              "      <td>NaN</td>\n",
              "      <td>NaN</td>\n",
              "      <td>NaN</td>\n",
              "      <td>NaN</td>\n",
              "      <td>NaN</td>\n",
              "      <td>NaN</td>\n",
              "      <td>NaN</td>\n",
              "      <td>NaN</td>\n",
              "      <td>NaN</td>\n",
              "      <td>NaN</td>\n",
              "      <td>NaN</td>\n",
              "      <td>NaN</td>\n",
              "      <td>NaN</td>\n",
              "      <td>NaN</td>\n",
              "      <td>NaN</td>\n",
              "      <td>NaN</td>\n",
              "      <td>NaN</td>\n",
              "      <td>NaN</td>\n",
              "      <td>NaN</td>\n",
              "      <td>NaN</td>\n",
              "      <td>NaN</td>\n",
              "      <td>NaN</td>\n",
              "      <td>NaN</td>\n",
              "      <td>NaN</td>\n",
              "      <td>NaN</td>\n",
              "      <td>NaN</td>\n",
              "      <td>NaN</td>\n",
              "      <td>NaN</td>\n",
              "      <td>NaN</td>\n",
              "      <td>NaN</td>\n",
              "      <td>NaN</td>\n",
              "      <td>NaN</td>\n",
              "      <td>NaN</td>\n",
              "      <td>NaN</td>\n",
              "      <td>NaN</td>\n",
              "      <td>NaN</td>\n",
              "      <td>NaN</td>\n",
              "      <td>NaN</td>\n",
              "      <td>...</td>\n",
              "      <td>NaN</td>\n",
              "      <td>NaN</td>\n",
              "      <td>NaN</td>\n",
              "      <td>NaN</td>\n",
              "      <td>NaN</td>\n",
              "      <td>NaN</td>\n",
              "      <td>NaN</td>\n",
              "      <td>NaN</td>\n",
              "      <td>NaN</td>\n",
              "      <td>NaN</td>\n",
              "      <td>NaN</td>\n",
              "      <td>NaN</td>\n",
              "      <td>NaN</td>\n",
              "      <td>NaN</td>\n",
              "      <td>NaN</td>\n",
              "      <td>NaN</td>\n",
              "      <td>NaN</td>\n",
              "      <td>NaN</td>\n",
              "      <td>NaN</td>\n",
              "      <td>NaN</td>\n",
              "      <td>NaN</td>\n",
              "      <td>NaN</td>\n",
              "      <td>NaN</td>\n",
              "      <td>NaN</td>\n",
              "      <td>NaN</td>\n",
              "      <td>NaN</td>\n",
              "      <td>NaN</td>\n",
              "      <td>NaN</td>\n",
              "      <td>NaN</td>\n",
              "      <td>NaN</td>\n",
              "      <td>NaN</td>\n",
              "      <td>NaN</td>\n",
              "      <td>NaN</td>\n",
              "      <td>NaN</td>\n",
              "      <td>NaN</td>\n",
              "      <td>NaN</td>\n",
              "      <td>NaN</td>\n",
              "      <td>NaN</td>\n",
              "      <td>NaN</td>\n",
              "      <td>0.004622</td>\n",
              "    </tr>\n",
              "    <tr>\n",
              "      <th>value</th>\n",
              "      <td>NaN</td>\n",
              "      <td>NaN</td>\n",
              "      <td>NaN</td>\n",
              "      <td>NaN</td>\n",
              "      <td>NaN</td>\n",
              "      <td>NaN</td>\n",
              "      <td>NaN</td>\n",
              "      <td>NaN</td>\n",
              "      <td>NaN</td>\n",
              "      <td>NaN</td>\n",
              "      <td>NaN</td>\n",
              "      <td>NaN</td>\n",
              "      <td>NaN</td>\n",
              "      <td>NaN</td>\n",
              "      <td>NaN</td>\n",
              "      <td>NaN</td>\n",
              "      <td>NaN</td>\n",
              "      <td>NaN</td>\n",
              "      <td>NaN</td>\n",
              "      <td>NaN</td>\n",
              "      <td>NaN</td>\n",
              "      <td>NaN</td>\n",
              "      <td>NaN</td>\n",
              "      <td>NaN</td>\n",
              "      <td>NaN</td>\n",
              "      <td>NaN</td>\n",
              "      <td>NaN</td>\n",
              "      <td>NaN</td>\n",
              "      <td>NaN</td>\n",
              "      <td>NaN</td>\n",
              "      <td>NaN</td>\n",
              "      <td>NaN</td>\n",
              "      <td>NaN</td>\n",
              "      <td>NaN</td>\n",
              "      <td>NaN</td>\n",
              "      <td>NaN</td>\n",
              "      <td>NaN</td>\n",
              "      <td>NaN</td>\n",
              "      <td>NaN</td>\n",
              "      <td>NaN</td>\n",
              "      <td>...</td>\n",
              "      <td>NaN</td>\n",
              "      <td>NaN</td>\n",
              "      <td>NaN</td>\n",
              "      <td>NaN</td>\n",
              "      <td>NaN</td>\n",
              "      <td>NaN</td>\n",
              "      <td>NaN</td>\n",
              "      <td>NaN</td>\n",
              "      <td>NaN</td>\n",
              "      <td>NaN</td>\n",
              "      <td>NaN</td>\n",
              "      <td>NaN</td>\n",
              "      <td>NaN</td>\n",
              "      <td>NaN</td>\n",
              "      <td>NaN</td>\n",
              "      <td>NaN</td>\n",
              "      <td>NaN</td>\n",
              "      <td>NaN</td>\n",
              "      <td>NaN</td>\n",
              "      <td>NaN</td>\n",
              "      <td>NaN</td>\n",
              "      <td>NaN</td>\n",
              "      <td>NaN</td>\n",
              "      <td>NaN</td>\n",
              "      <td>NaN</td>\n",
              "      <td>NaN</td>\n",
              "      <td>NaN</td>\n",
              "      <td>NaN</td>\n",
              "      <td>NaN</td>\n",
              "      <td>NaN</td>\n",
              "      <td>NaN</td>\n",
              "      <td>NaN</td>\n",
              "      <td>NaN</td>\n",
              "      <td>NaN</td>\n",
              "      <td>NaN</td>\n",
              "      <td>NaN</td>\n",
              "      <td>NaN</td>\n",
              "      <td>NaN</td>\n",
              "      <td>NaN</td>\n",
              "      <td>NaN</td>\n",
              "    </tr>\n",
              "  </tbody>\n",
              "</table>\n",
              "<p>261 rows × 261 columns</p>\n",
              "</div>"
            ],
            "text/plain": [
              "                                                    duration  ...     value\n",
              "duration                                                 NaN  ...  0.021850\n",
              "1_Female                                                 NaN  ...  0.037043\n",
              "1_Male                                                   NaN  ...  0.050131\n",
              "2_18-21                                                  NaN  ...  0.108773\n",
              "2_22-24                                                  NaN  ...  0.017580\n",
              "...                                                      ...  ...       ...\n",
              "48_I am confident that I can understand and exp...       NaN  ...  0.034756\n",
              "48_I do not know; I have no opinion on the matter        NaN  ...  0.020578\n",
              "48_I view ML models as \"black boxes\" but I am c...       NaN  ...  0.027638\n",
              "48_Yes, most ML models are \"black boxes\"                 NaN  ...  0.004622\n",
              "value                                                    NaN  ...       NaN\n",
              "\n",
              "[261 rows x 261 columns]"
            ]
          },
          "metadata": {
            "tags": []
          },
          "execution_count": 144
        }
      ]
    },
    {
      "cell_type": "markdown",
      "metadata": {
        "id": "CXdyJbIG9btv",
        "colab_type": "text"
      },
      "source": [
        "* Q43, Q46, Q41 제거 근거. "
      ]
    },
    {
      "cell_type": "code",
      "metadata": {
        "id": "DbcVcRlKX0Z7",
        "colab_type": "code",
        "colab": {
          "base_uri": "https://localhost:8080/",
          "height": 35
        },
        "outputId": "beafb196-2af1-4ddb-ab5f-0394419e9353"
      },
      "source": [
        "# Finding NANs\n",
        "df = clean_dataset_new.isnull().sum().to_frame()\n",
        "print('We found {} NaNs on the dataset after treatment'.format(df[df[0] > 0].shape[0]))\n",
        "## 질문을 날리는게 더 낫지않을까? 유의하게 안나오면 질문 날리고 진행해봅시다. "
      ],
      "execution_count": null,
      "outputs": [
        {
          "output_type": "stream",
          "text": [
            "We found 11 NaNs on the dataset after treatment\n"
          ],
          "name": "stdout"
        }
      ]
    },
    {
      "cell_type": "code",
      "metadata": {
        "id": "d5DVq8n_YE4L",
        "colab_type": "code",
        "colab": {
          "base_uri": "https://localhost:8080/",
          "height": 399
        },
        "outputId": "6f30d542-8b77-47dd-a10d-0bc26abd92be"
      },
      "source": [
        "df"
      ],
      "execution_count": null,
      "outputs": [
        {
          "output_type": "execute_result",
          "data": {
            "text/html": [
              "<div>\n",
              "<style scoped>\n",
              "    .dataframe tbody tr th:only-of-type {\n",
              "        vertical-align: middle;\n",
              "    }\n",
              "\n",
              "    .dataframe tbody tr th {\n",
              "        vertical-align: top;\n",
              "    }\n",
              "\n",
              "    .dataframe thead th {\n",
              "        text-align: right;\n",
              "    }\n",
              "</style>\n",
              "<table border=\"1\" class=\"dataframe\">\n",
              "  <thead>\n",
              "    <tr style=\"text-align: right;\">\n",
              "      <th></th>\n",
              "      <th>0</th>\n",
              "    </tr>\n",
              "  </thead>\n",
              "  <tbody>\n",
              "    <tr>\n",
              "      <th>duration</th>\n",
              "      <td>0</td>\n",
              "    </tr>\n",
              "    <tr>\n",
              "      <th>1_Female</th>\n",
              "      <td>0</td>\n",
              "    </tr>\n",
              "    <tr>\n",
              "      <th>1_Male</th>\n",
              "      <td>0</td>\n",
              "    </tr>\n",
              "    <tr>\n",
              "      <th>2_18-21</th>\n",
              "      <td>0</td>\n",
              "    </tr>\n",
              "    <tr>\n",
              "      <th>2_22-24</th>\n",
              "      <td>0</td>\n",
              "    </tr>\n",
              "    <tr>\n",
              "      <th>...</th>\n",
              "      <td>...</td>\n",
              "    </tr>\n",
              "    <tr>\n",
              "      <th>48_I am confident that I can understand and explain the outputs of many but not all ML models</th>\n",
              "      <td>0</td>\n",
              "    </tr>\n",
              "    <tr>\n",
              "      <th>48_I do not know; I have no opinion on the matter</th>\n",
              "      <td>0</td>\n",
              "    </tr>\n",
              "    <tr>\n",
              "      <th>48_I view ML models as \"black boxes\" but I am confident that experts are able to explain model outputs</th>\n",
              "      <td>0</td>\n",
              "    </tr>\n",
              "    <tr>\n",
              "      <th>48_Yes, most ML models are \"black boxes\"</th>\n",
              "      <td>0</td>\n",
              "    </tr>\n",
              "    <tr>\n",
              "      <th>value</th>\n",
              "      <td>0</td>\n",
              "    </tr>\n",
              "  </tbody>\n",
              "</table>\n",
              "<p>261 rows × 1 columns</p>\n",
              "</div>"
            ],
            "text/plain": [
              "                                                    0\n",
              "duration                                            0\n",
              "1_Female                                            0\n",
              "1_Male                                              0\n",
              "2_18-21                                             0\n",
              "2_22-24                                             0\n",
              "...                                                ..\n",
              "48_I am confident that I can understand and exp...  0\n",
              "48_I do not know; I have no opinion on the matter   0\n",
              "48_I view ML models as \"black boxes\" but I am c...  0\n",
              "48_Yes, most ML models are \"black boxes\"            0\n",
              "value                                               0\n",
              "\n",
              "[261 rows x 1 columns]"
            ]
          },
          "metadata": {
            "tags": []
          },
          "execution_count": 146
        }
      ]
    },
    {
      "cell_type": "code",
      "metadata": {
        "id": "IOR_tKN_X-ry",
        "colab_type": "code",
        "colab": {}
      },
      "source": [
        "for c in clean_dataset_new:\n",
        "    if len(clean_dataset_new[clean_dataset_new[c].isna()])>0:\n",
        "        clean_dataset_new=clean_dataset_new[~clean_dataset_new[c].isna()]"
      ],
      "execution_count": null,
      "outputs": []
    },
    {
      "cell_type": "code",
      "metadata": {
        "id": "YYSM6Z8gYLXO",
        "colab_type": "code",
        "colab": {
          "base_uri": "https://localhost:8080/",
          "height": 35
        },
        "outputId": "5e2e2531-2db1-4284-a396-e43f360df587"
      },
      "source": [
        "clean_dataset_new.shape"
      ],
      "execution_count": null,
      "outputs": [
        {
          "output_type": "execute_result",
          "data": {
            "text/plain": [
              "(12154, 261)"
            ]
          },
          "metadata": {
            "tags": []
          },
          "execution_count": 150
        }
      ]
    },
    {
      "cell_type": "code",
      "metadata": {
        "id": "cByx9SSbdcR_",
        "colab_type": "code",
        "colab": {
          "base_uri": "https://localhost:8080/",
          "height": 230
        },
        "outputId": "68c431b7-8463-4f29-84d5-be5eb11147b6"
      },
      "source": [
        "clean_dataset_new.iloc[:,100:].sum(axis=1)"
      ],
      "execution_count": null,
      "outputs": [
        {
          "output_type": "execute_result",
          "data": {
            "text/plain": [
              "0        33.950000\n",
              "1        27.930000\n",
              "2        50.800000\n",
              "3        38.000000\n",
              "4        39.000000\n",
              "           ...    \n",
              "14078    24.000000\n",
              "14083    28.283333\n",
              "14084    45.800000\n",
              "14087    29.700000\n",
              "14088    13.000000\n",
              "Length: 12154, dtype: float64"
            ]
          },
          "metadata": {
            "tags": []
          },
          "execution_count": 151
        }
      ]
    },
    {
      "cell_type": "code",
      "metadata": {
        "id": "y-nwxUWkYXfF",
        "colab_type": "code",
        "colab": {
          "base_uri": "https://localhost:8080/",
          "height": 446
        },
        "outputId": "3ca0f2a3-1da3-4466-b898-060d8607a18b"
      },
      "source": [
        "clean_dataset_new.head()"
      ],
      "execution_count": null,
      "outputs": [
        {
          "output_type": "execute_result",
          "data": {
            "text/html": [
              "<div>\n",
              "<style scoped>\n",
              "    .dataframe tbody tr th:only-of-type {\n",
              "        vertical-align: middle;\n",
              "    }\n",
              "\n",
              "    .dataframe tbody tr th {\n",
              "        vertical-align: top;\n",
              "    }\n",
              "\n",
              "    .dataframe thead th {\n",
              "        text-align: right;\n",
              "    }\n",
              "</style>\n",
              "<table border=\"1\" class=\"dataframe\">\n",
              "  <thead>\n",
              "    <tr style=\"text-align: right;\">\n",
              "      <th></th>\n",
              "      <th>duration</th>\n",
              "      <th>1_Female</th>\n",
              "      <th>1_Male</th>\n",
              "      <th>2_18-21</th>\n",
              "      <th>2_22-24</th>\n",
              "      <th>2_25-29</th>\n",
              "      <th>2_30-34</th>\n",
              "      <th>2_35-39</th>\n",
              "      <th>3_Asia</th>\n",
              "      <th>3_Europe</th>\n",
              "      <th>3_NorthAmerica</th>\n",
              "      <th>3_SouthAmerica</th>\n",
              "      <th>4_Bachelor’s degree</th>\n",
              "      <th>4_Doctoral degree</th>\n",
              "      <th>4_Master’s degree</th>\n",
              "      <th>Data Analyst</th>\n",
              "      <th>Data Scientist</th>\n",
              "      <th>Software Engineer</th>\n",
              "      <th>Statistician/Research Scientist</th>\n",
              "      <th>Student</th>\n",
              "      <th>5_A business discipline (accounting, economics, finance, etc.)</th>\n",
              "      <th>5_Computer science (software engineering, etc.)</th>\n",
              "      <th>5_Engineering (non-computer focused)</th>\n",
              "      <th>5_Mathematics or statistics</th>\n",
              "      <th>5_Physics or astronomy</th>\n",
              "      <th>7_Academics/Education</th>\n",
              "      <th>7_Accounting/Finance</th>\n",
              "      <th>7_Computers/Technology</th>\n",
              "      <th>7_Student</th>\n",
              "      <th>8_0-1</th>\n",
              "      <th>8_1-2</th>\n",
              "      <th>8_10-15</th>\n",
              "      <th>8_2-3</th>\n",
              "      <th>8_3-4</th>\n",
              "      <th>8_4-5</th>\n",
              "      <th>8_5-10</th>\n",
              "      <th>10_I do not know</th>\n",
              "      <th>10_No (we do not use ML methods)</th>\n",
              "      <th>10_We are exploring ML methods (and may one day put a model into production)</th>\n",
              "      <th>10_We have well established ML methods (i.e., models in production for more than 2 years)</th>\n",
              "      <th>...</th>\n",
              "      <th>50_Too time-consuming</th>\n",
              "      <th>50_Requires too much technical knowledge</th>\n",
              "      <th>50_Afraid that others will use my work without giving proper credit</th>\n",
              "      <th>50_Not enough incentives to share my work</th>\n",
              "      <th>50_I had never considered making my work easier for others to reproduce</th>\n",
              "      <th>50_None of these reasons apply to me</th>\n",
              "      <th>Q34_Part_1</th>\n",
              "      <th>Q34_Part_2</th>\n",
              "      <th>Q34_Part_3</th>\n",
              "      <th>Q34_Part_4</th>\n",
              "      <th>Q34_Part_5</th>\n",
              "      <th>Q34_Part_6</th>\n",
              "      <th>35_Q35_Part_1</th>\n",
              "      <th>35_Q35_Part_2</th>\n",
              "      <th>35_Q35_Part_3</th>\n",
              "      <th>35_Q35_Part_4</th>\n",
              "      <th>35_Q35_Part_5</th>\n",
              "      <th>40_Independent projects are equally important as academic achievements</th>\n",
              "      <th>40_Independent projects are much more important than academic achievements</th>\n",
              "      <th>40_Independent projects are slightly more important than academic achievements</th>\n",
              "      <th>Q41_Part_1</th>\n",
              "      <th>Q41_Part_2</th>\n",
              "      <th>Q41_Part_3</th>\n",
              "      <th>43_0</th>\n",
              "      <th>43_0-10</th>\n",
              "      <th>43_10-20</th>\n",
              "      <th>43_20-30</th>\n",
              "      <th>46_0</th>\n",
              "      <th>46_0-10</th>\n",
              "      <th>46_10-20</th>\n",
              "      <th>46_20-30</th>\n",
              "      <th>46_30-40</th>\n",
              "      <th>46_40-50</th>\n",
              "      <th>46_90-100</th>\n",
              "      <th>48_I am confident that I can explain the outputs of most if not all ML models</th>\n",
              "      <th>48_I am confident that I can understand and explain the outputs of many but not all ML models</th>\n",
              "      <th>48_I do not know; I have no opinion on the matter</th>\n",
              "      <th>48_I view ML models as \"black boxes\" but I am confident that experts are able to explain model outputs</th>\n",
              "      <th>48_Yes, most ML models are \"black boxes\"</th>\n",
              "      <th>value</th>\n",
              "    </tr>\n",
              "  </thead>\n",
              "  <tbody>\n",
              "    <tr>\n",
              "      <th>0</th>\n",
              "      <td>718</td>\n",
              "      <td>1</td>\n",
              "      <td>0</td>\n",
              "      <td>0</td>\n",
              "      <td>0</td>\n",
              "      <td>0</td>\n",
              "      <td>1</td>\n",
              "      <td>0</td>\n",
              "      <td>0</td>\n",
              "      <td>0</td>\n",
              "      <td>1</td>\n",
              "      <td>0</td>\n",
              "      <td>0</td>\n",
              "      <td>0</td>\n",
              "      <td>1</td>\n",
              "      <td>0</td>\n",
              "      <td>0</td>\n",
              "      <td>0</td>\n",
              "      <td>0</td>\n",
              "      <td>1</td>\n",
              "      <td>0</td>\n",
              "      <td>1</td>\n",
              "      <td>0</td>\n",
              "      <td>0</td>\n",
              "      <td>0</td>\n",
              "      <td>0</td>\n",
              "      <td>0</td>\n",
              "      <td>0</td>\n",
              "      <td>1</td>\n",
              "      <td>1</td>\n",
              "      <td>0</td>\n",
              "      <td>0</td>\n",
              "      <td>0</td>\n",
              "      <td>0</td>\n",
              "      <td>0</td>\n",
              "      <td>0</td>\n",
              "      <td>1</td>\n",
              "      <td>0</td>\n",
              "      <td>0</td>\n",
              "      <td>0</td>\n",
              "      <td>...</td>\n",
              "      <td>1</td>\n",
              "      <td>0</td>\n",
              "      <td>0</td>\n",
              "      <td>0</td>\n",
              "      <td>0</td>\n",
              "      <td>0</td>\n",
              "      <td>0.02</td>\n",
              "      <td>0.03</td>\n",
              "      <td>0.20</td>\n",
              "      <td>0.50</td>\n",
              "      <td>0.2</td>\n",
              "      <td>0.00</td>\n",
              "      <td>0.0</td>\n",
              "      <td>0.0</td>\n",
              "      <td>0.0</td>\n",
              "      <td>1.0</td>\n",
              "      <td>0.0</td>\n",
              "      <td>1</td>\n",
              "      <td>0</td>\n",
              "      <td>0</td>\n",
              "      <td>1.000000</td>\n",
              "      <td>1.000000</td>\n",
              "      <td>1.000000</td>\n",
              "      <td>0</td>\n",
              "      <td>1</td>\n",
              "      <td>0</td>\n",
              "      <td>0</td>\n",
              "      <td>0</td>\n",
              "      <td>0</td>\n",
              "      <td>1</td>\n",
              "      <td>0</td>\n",
              "      <td>0</td>\n",
              "      <td>0</td>\n",
              "      <td>0</td>\n",
              "      <td>1</td>\n",
              "      <td>0</td>\n",
              "      <td>0</td>\n",
              "      <td>0</td>\n",
              "      <td>0</td>\n",
              "      <td>0</td>\n",
              "    </tr>\n",
              "    <tr>\n",
              "      <th>1</th>\n",
              "      <td>731</td>\n",
              "      <td>0</td>\n",
              "      <td>1</td>\n",
              "      <td>0</td>\n",
              "      <td>1</td>\n",
              "      <td>0</td>\n",
              "      <td>0</td>\n",
              "      <td>0</td>\n",
              "      <td>1</td>\n",
              "      <td>0</td>\n",
              "      <td>0</td>\n",
              "      <td>0</td>\n",
              "      <td>0</td>\n",
              "      <td>0</td>\n",
              "      <td>1</td>\n",
              "      <td>0</td>\n",
              "      <td>0</td>\n",
              "      <td>0</td>\n",
              "      <td>0</td>\n",
              "      <td>1</td>\n",
              "      <td>0</td>\n",
              "      <td>0</td>\n",
              "      <td>0</td>\n",
              "      <td>1</td>\n",
              "      <td>0</td>\n",
              "      <td>0</td>\n",
              "      <td>0</td>\n",
              "      <td>0</td>\n",
              "      <td>1</td>\n",
              "      <td>1</td>\n",
              "      <td>0</td>\n",
              "      <td>0</td>\n",
              "      <td>0</td>\n",
              "      <td>0</td>\n",
              "      <td>0</td>\n",
              "      <td>0</td>\n",
              "      <td>1</td>\n",
              "      <td>0</td>\n",
              "      <td>0</td>\n",
              "      <td>0</td>\n",
              "      <td>...</td>\n",
              "      <td>1</td>\n",
              "      <td>0</td>\n",
              "      <td>0</td>\n",
              "      <td>1</td>\n",
              "      <td>0</td>\n",
              "      <td>0</td>\n",
              "      <td>0.10</td>\n",
              "      <td>0.10</td>\n",
              "      <td>0.20</td>\n",
              "      <td>0.10</td>\n",
              "      <td>0.2</td>\n",
              "      <td>0.23</td>\n",
              "      <td>0.2</td>\n",
              "      <td>0.4</td>\n",
              "      <td>0.2</td>\n",
              "      <td>0.2</td>\n",
              "      <td>0.0</td>\n",
              "      <td>0</td>\n",
              "      <td>0</td>\n",
              "      <td>1</td>\n",
              "      <td>0.333333</td>\n",
              "      <td>0.666667</td>\n",
              "      <td>1.000000</td>\n",
              "      <td>0</td>\n",
              "      <td>0</td>\n",
              "      <td>0</td>\n",
              "      <td>1</td>\n",
              "      <td>0</td>\n",
              "      <td>0</td>\n",
              "      <td>0</td>\n",
              "      <td>1</td>\n",
              "      <td>0</td>\n",
              "      <td>0</td>\n",
              "      <td>0</td>\n",
              "      <td>0</td>\n",
              "      <td>1</td>\n",
              "      <td>0</td>\n",
              "      <td>0</td>\n",
              "      <td>0</td>\n",
              "      <td>0</td>\n",
              "    </tr>\n",
              "    <tr>\n",
              "      <th>2</th>\n",
              "      <td>1142</td>\n",
              "      <td>0</td>\n",
              "      <td>1</td>\n",
              "      <td>0</td>\n",
              "      <td>0</td>\n",
              "      <td>1</td>\n",
              "      <td>0</td>\n",
              "      <td>0</td>\n",
              "      <td>0</td>\n",
              "      <td>0</td>\n",
              "      <td>0</td>\n",
              "      <td>1</td>\n",
              "      <td>1</td>\n",
              "      <td>0</td>\n",
              "      <td>0</td>\n",
              "      <td>0</td>\n",
              "      <td>1</td>\n",
              "      <td>0</td>\n",
              "      <td>0</td>\n",
              "      <td>0</td>\n",
              "      <td>0</td>\n",
              "      <td>0</td>\n",
              "      <td>0</td>\n",
              "      <td>0</td>\n",
              "      <td>1</td>\n",
              "      <td>0</td>\n",
              "      <td>0</td>\n",
              "      <td>1</td>\n",
              "      <td>0</td>\n",
              "      <td>1</td>\n",
              "      <td>0</td>\n",
              "      <td>0</td>\n",
              "      <td>0</td>\n",
              "      <td>0</td>\n",
              "      <td>0</td>\n",
              "      <td>0</td>\n",
              "      <td>0</td>\n",
              "      <td>0</td>\n",
              "      <td>1</td>\n",
              "      <td>0</td>\n",
              "      <td>...</td>\n",
              "      <td>0</td>\n",
              "      <td>0</td>\n",
              "      <td>1</td>\n",
              "      <td>0</td>\n",
              "      <td>1</td>\n",
              "      <td>0</td>\n",
              "      <td>0.12</td>\n",
              "      <td>0.15</td>\n",
              "      <td>0.13</td>\n",
              "      <td>0.30</td>\n",
              "      <td>0.1</td>\n",
              "      <td>0.00</td>\n",
              "      <td>0.4</td>\n",
              "      <td>0.2</td>\n",
              "      <td>0.1</td>\n",
              "      <td>0.0</td>\n",
              "      <td>0.3</td>\n",
              "      <td>0</td>\n",
              "      <td>0</td>\n",
              "      <td>0</td>\n",
              "      <td>1.000000</td>\n",
              "      <td>1.000000</td>\n",
              "      <td>1.000000</td>\n",
              "      <td>1</td>\n",
              "      <td>0</td>\n",
              "      <td>0</td>\n",
              "      <td>0</td>\n",
              "      <td>1</td>\n",
              "      <td>0</td>\n",
              "      <td>0</td>\n",
              "      <td>0</td>\n",
              "      <td>0</td>\n",
              "      <td>0</td>\n",
              "      <td>0</td>\n",
              "      <td>0</td>\n",
              "      <td>0</td>\n",
              "      <td>0</td>\n",
              "      <td>1</td>\n",
              "      <td>0</td>\n",
              "      <td>2</td>\n",
              "    </tr>\n",
              "    <tr>\n",
              "      <th>3</th>\n",
              "      <td>751</td>\n",
              "      <td>0</td>\n",
              "      <td>1</td>\n",
              "      <td>0</td>\n",
              "      <td>0</td>\n",
              "      <td>0</td>\n",
              "      <td>1</td>\n",
              "      <td>0</td>\n",
              "      <td>0</td>\n",
              "      <td>1</td>\n",
              "      <td>0</td>\n",
              "      <td>0</td>\n",
              "      <td>0</td>\n",
              "      <td>0</td>\n",
              "      <td>1</td>\n",
              "      <td>0</td>\n",
              "      <td>0</td>\n",
              "      <td>1</td>\n",
              "      <td>0</td>\n",
              "      <td>0</td>\n",
              "      <td>0</td>\n",
              "      <td>0</td>\n",
              "      <td>1</td>\n",
              "      <td>0</td>\n",
              "      <td>0</td>\n",
              "      <td>0</td>\n",
              "      <td>0</td>\n",
              "      <td>0</td>\n",
              "      <td>0</td>\n",
              "      <td>0</td>\n",
              "      <td>0</td>\n",
              "      <td>0</td>\n",
              "      <td>0</td>\n",
              "      <td>1</td>\n",
              "      <td>0</td>\n",
              "      <td>0</td>\n",
              "      <td>0</td>\n",
              "      <td>0</td>\n",
              "      <td>0</td>\n",
              "      <td>1</td>\n",
              "      <td>...</td>\n",
              "      <td>1</td>\n",
              "      <td>0</td>\n",
              "      <td>1</td>\n",
              "      <td>0</td>\n",
              "      <td>0</td>\n",
              "      <td>0</td>\n",
              "      <td>0.55</td>\n",
              "      <td>0.10</td>\n",
              "      <td>0.20</td>\n",
              "      <td>0.05</td>\n",
              "      <td>0.0</td>\n",
              "      <td>0.10</td>\n",
              "      <td>0.7</td>\n",
              "      <td>0.3</td>\n",
              "      <td>0.0</td>\n",
              "      <td>0.0</td>\n",
              "      <td>0.0</td>\n",
              "      <td>1</td>\n",
              "      <td>0</td>\n",
              "      <td>0</td>\n",
              "      <td>0.333333</td>\n",
              "      <td>1.000000</td>\n",
              "      <td>0.666667</td>\n",
              "      <td>0</td>\n",
              "      <td>0</td>\n",
              "      <td>1</td>\n",
              "      <td>0</td>\n",
              "      <td>0</td>\n",
              "      <td>0</td>\n",
              "      <td>0</td>\n",
              "      <td>0</td>\n",
              "      <td>0</td>\n",
              "      <td>0</td>\n",
              "      <td>0</td>\n",
              "      <td>0</td>\n",
              "      <td>1</td>\n",
              "      <td>0</td>\n",
              "      <td>0</td>\n",
              "      <td>0</td>\n",
              "      <td>0</td>\n",
              "    </tr>\n",
              "    <tr>\n",
              "      <th>4</th>\n",
              "      <td>2028</td>\n",
              "      <td>0</td>\n",
              "      <td>1</td>\n",
              "      <td>0</td>\n",
              "      <td>1</td>\n",
              "      <td>0</td>\n",
              "      <td>0</td>\n",
              "      <td>0</td>\n",
              "      <td>0</td>\n",
              "      <td>1</td>\n",
              "      <td>0</td>\n",
              "      <td>0</td>\n",
              "      <td>1</td>\n",
              "      <td>0</td>\n",
              "      <td>0</td>\n",
              "      <td>0</td>\n",
              "      <td>0</td>\n",
              "      <td>0</td>\n",
              "      <td>0</td>\n",
              "      <td>1</td>\n",
              "      <td>0</td>\n",
              "      <td>0</td>\n",
              "      <td>0</td>\n",
              "      <td>0</td>\n",
              "      <td>0</td>\n",
              "      <td>0</td>\n",
              "      <td>0</td>\n",
              "      <td>0</td>\n",
              "      <td>1</td>\n",
              "      <td>0</td>\n",
              "      <td>0</td>\n",
              "      <td>0</td>\n",
              "      <td>0</td>\n",
              "      <td>1</td>\n",
              "      <td>0</td>\n",
              "      <td>0</td>\n",
              "      <td>1</td>\n",
              "      <td>0</td>\n",
              "      <td>0</td>\n",
              "      <td>0</td>\n",
              "      <td>...</td>\n",
              "      <td>1</td>\n",
              "      <td>0</td>\n",
              "      <td>0</td>\n",
              "      <td>0</td>\n",
              "      <td>0</td>\n",
              "      <td>0</td>\n",
              "      <td>0.00</td>\n",
              "      <td>0.20</td>\n",
              "      <td>0.30</td>\n",
              "      <td>0.50</td>\n",
              "      <td>0.0</td>\n",
              "      <td>0.00</td>\n",
              "      <td>0.0</td>\n",
              "      <td>0.5</td>\n",
              "      <td>0.0</td>\n",
              "      <td>0.4</td>\n",
              "      <td>0.1</td>\n",
              "      <td>1</td>\n",
              "      <td>0</td>\n",
              "      <td>0</td>\n",
              "      <td>1.000000</td>\n",
              "      <td>1.000000</td>\n",
              "      <td>1.000000</td>\n",
              "      <td>0</td>\n",
              "      <td>1</td>\n",
              "      <td>0</td>\n",
              "      <td>0</td>\n",
              "      <td>0</td>\n",
              "      <td>1</td>\n",
              "      <td>0</td>\n",
              "      <td>0</td>\n",
              "      <td>0</td>\n",
              "      <td>0</td>\n",
              "      <td>0</td>\n",
              "      <td>0</td>\n",
              "      <td>0</td>\n",
              "      <td>1</td>\n",
              "      <td>0</td>\n",
              "      <td>0</td>\n",
              "      <td>2</td>\n",
              "    </tr>\n",
              "  </tbody>\n",
              "</table>\n",
              "<p>5 rows × 261 columns</p>\n",
              "</div>"
            ],
            "text/plain": [
              "   duration  1_Female  ...  48_Yes, most ML models are \"black boxes\"  value\n",
              "0       718         1  ...                                         0      0\n",
              "1       731         0  ...                                         0      0\n",
              "2      1142         0  ...                                         0      2\n",
              "3       751         0  ...                                         0      0\n",
              "4      2028         0  ...                                         0      2\n",
              "\n",
              "[5 rows x 261 columns]"
            ]
          },
          "metadata": {
            "tags": []
          },
          "execution_count": 152
        }
      ]
    },
    {
      "cell_type": "code",
      "metadata": {
        "id": "7BbazO6tYbIG",
        "colab_type": "code",
        "colab": {
          "base_uri": "https://localhost:8080/",
          "height": 230
        },
        "outputId": "4ce998fd-fa39-4668-fa12-754d94b491c5"
      },
      "source": [
        "clean_dataset_new.iloc[:, -1]"
      ],
      "execution_count": null,
      "outputs": [
        {
          "output_type": "execute_result",
          "data": {
            "text/plain": [
              "0        0\n",
              "1        0\n",
              "2        2\n",
              "3        0\n",
              "4        2\n",
              "        ..\n",
              "14078    0\n",
              "14083    0\n",
              "14084    1\n",
              "14087    2\n",
              "14088    0\n",
              "Name: value, Length: 12154, dtype: int64"
            ]
          },
          "metadata": {
            "tags": []
          },
          "execution_count": 160
        }
      ]
    },
    {
      "cell_type": "markdown",
      "metadata": {
        "id": "u3giUgV6Ht_0",
        "colab_type": "text"
      },
      "source": [
        "## Modeling "
      ]
    },
    {
      "cell_type": "markdown",
      "metadata": {
        "id": "LMQH2G3madFZ",
        "colab_type": "text"
      },
      "source": [
        "* Random Forest : "
      ]
    },
    {
      "cell_type": "code",
      "metadata": {
        "id": "lE66fuz-Amik",
        "colab_type": "code",
        "colab": {}
      },
      "source": [
        "from sklearn.model_selection import train_test_split\n",
        "\n",
        "x = clean_dataset_new.iloc[:,1:-1]\n",
        "y = clean_dataset_new.iloc[:,-1]\n",
        "\n",
        "x_train, x_test, y_train, y_test = train_test_split(x,y,test_size=0.3,random_state=1234)"
      ],
      "execution_count": null,
      "outputs": []
    },
    {
      "cell_type": "code",
      "metadata": {
        "id": "ZLaSShy0Amg0",
        "colab_type": "code",
        "colab": {
          "base_uri": "https://localhost:8080/",
          "height": 35
        },
        "outputId": "5cf31aa4-bf7e-4d30-e765-de74f9a5ca78"
      },
      "source": [
        "from sklearn.ensemble import RandomForestClassifier\n",
        "from sklearn.model_selection import cross_val_score\n",
        "\n",
        "rf = RandomForestClassifier(n_estimators=100, random_state=10)\n",
        "scores = cross_val_score(rf, x_train, y_train, cv=10, scoring='accuracy')\n",
        "print(round(scores.mean(),3))"
      ],
      "execution_count": null,
      "outputs": [
        {
          "output_type": "stream",
          "text": [
            "0.657\n"
          ],
          "name": "stdout"
        }
      ]
    },
    {
      "cell_type": "code",
      "metadata": {
        "id": "vCHyx15wZyf9",
        "colab_type": "code",
        "colab": {
          "base_uri": "https://localhost:8080/",
          "height": 88
        },
        "outputId": "0faaa564-d570-4c2d-9055-4b114b3fcfcb"
      },
      "source": [
        "y.value_counts()"
      ],
      "execution_count": null,
      "outputs": [
        {
          "output_type": "execute_result",
          "data": {
            "text/plain": [
              "0    7018\n",
              "2    2872\n",
              "1    2264\n",
              "Name: value, dtype: int64"
            ]
          },
          "metadata": {
            "tags": []
          },
          "execution_count": 163
        }
      ]
    },
    {
      "cell_type": "code",
      "metadata": {
        "id": "9-9KZV_cZ3Os",
        "colab_type": "code",
        "colab": {}
      },
      "source": [
        "from sklearn.feature_selection import RFECV\n",
        "## gridsearch \n",
        "rf = RandomForestClassifier(random_state=10, n_estimators=100)\n",
        "selector = RFECV(rf, step = 1, cv=10, scoring = 'accuracy')"
      ],
      "execution_count": null,
      "outputs": []
    },
    {
      "cell_type": "code",
      "metadata": {
        "id": "9zltyvK-Amfl",
        "colab_type": "code",
        "colab": {}
      },
      "source": [
        "from sklearn.metrics import roc_auc_score\n",
        "from sklearn.metrics import accuracy_score\n",
        "from sklearn.metrics import confusion_matrix"
      ],
      "execution_count": null,
      "outputs": []
    },
    {
      "cell_type": "code",
      "metadata": {
        "id": "0jMKa1IZAmcE",
        "colab_type": "code",
        "colab": {
          "base_uri": "https://localhost:8080/",
          "height": 106
        },
        "outputId": "6180ac32-791a-4e8a-e39b-bab716fa3e55"
      },
      "source": [
        "from sklearn.linear_model import LogisticRegression\n",
        "from sklearn import svm\n",
        "\n",
        "rforest = RandomForestClassifier(n_estimators=100, random_state=1234)\n",
        "#lreg = LogisticRegression(solver='liblinear', random_state=1234)\n",
        "#svm = svm.SVC(kernel='linear', random_state=1234)\n",
        "\n",
        "# Fit the models\n",
        "rforest.fit(x_train, y_train)\n",
        "#lreg.fit(x_train, y_train)\n",
        "#svm.fit(x_train, y_train)\n",
        "\n",
        "ypred = rforest.predict(x_train)\n",
        "accuracy = accuracy_score(y_train, ypred)\n",
        "confusion = confusion_matrix(y_train, ypred)\n",
        "\n",
        "rf_scores = cross_val_score(rforest, x_train, y_train, cv=10, scoring='accuracy')\n",
        "print(round(rf_scores.mean(),3))\n",
        "print(accuracy)\n",
        "print(confusion)\n",
        "\n",
        "## Train - 완벽하게 분류됨.(Accuracy 기준), 하지만 CV score를 보면 0.657로 상당히 낮은 점수를 보여준다, "
      ],
      "execution_count": null,
      "outputs": [
        {
          "output_type": "stream",
          "text": [
            "0.657\n",
            "1.0\n",
            "[[4953    0    0]\n",
            " [   0 1566    0]\n",
            " [   0    0 1988]]\n"
          ],
          "name": "stdout"
        }
      ]
    },
    {
      "cell_type": "markdown",
      "metadata": {
        "id": "pf7bYAKkpNoa",
        "colab_type": "text"
      },
      "source": [
        "* Variable importance Plot "
      ]
    },
    {
      "cell_type": "code",
      "metadata": {
        "id": "d8Cb9Mohpnd_",
        "colab_type": "code",
        "colab": {
          "base_uri": "https://localhost:8080/",
          "height": 195
        },
        "outputId": "aea4e42b-c8c3-43fc-a913-506c4c80f076"
      },
      "source": [
        "index_clean = clean_dataset_new.columns[1:259]\n",
        "index_clean"
      ],
      "execution_count": null,
      "outputs": [
        {
          "output_type": "execute_result",
          "data": {
            "text/plain": [
              "Index(['1_Female', '1_Male', '2_18-21', '2_22-24', '2_25-29', '2_30-34',\n",
              "       '2_35-39', '3_Asia', '3_Europe', '3_NorthAmerica',\n",
              "       ...\n",
              "       '46_10-20', '46_20-30', '46_30-40', '46_40-50', '46_90-100',\n",
              "       '48_I am confident that I can explain the outputs of most if not all ML models',\n",
              "       '48_I am confident that I can understand and explain the outputs of many but not all ML models',\n",
              "       '48_I do not know; I have no opinion on the matter',\n",
              "       '48_I view ML models as \"black boxes\" but I am confident that experts are able to explain model outputs',\n",
              "       '48_Yes, most ML models are \"black boxes\"'],\n",
              "      dtype='object', length=258)"
            ]
          },
          "metadata": {
            "tags": []
          },
          "execution_count": 193
        }
      ]
    },
    {
      "cell_type": "code",
      "metadata": {
        "id": "YcFN-0aSAmWX",
        "colab_type": "code",
        "colab": {
          "base_uri": "https://localhost:8080/",
          "height": 390
        },
        "outputId": "c54cd182-ccc0-4970-bd1d-23ccb32ee546"
      },
      "source": [
        "feature_imp = pd.Series(rforest.feature_importances_, index=index_clean).sort_values(ascending = False)\n",
        "feature_imp[0:20]"
      ],
      "execution_count": null,
      "outputs": [
        {
          "output_type": "execute_result",
          "data": {
            "text/plain": [
              "3_NorthAmerica                        0.042415\n",
              "Student                               0.019219\n",
              "Q34_Part_4                            0.015646\n",
              "35_Q35_Part_1                         0.015185\n",
              "Q34_Part_2                            0.014926\n",
              "Q34_Part_1                            0.014454\n",
              "35_Q35_Part_2                         0.014256\n",
              "35_Q35_Part_4                         0.013596\n",
              "35_Q35_Part_3                         0.013221\n",
              "Q34_Part_6                            0.013108\n",
              "Q34_Part_3                            0.012873\n",
              "Q34_Part_5                            0.012791\n",
              "35_Q35_Part_5                         0.010243\n",
              "10_I do not know                      0.009933\n",
              "3_Asia                                0.008893\n",
              "Data Scientist                        0.006842\n",
              "Q41_Part_1                            0.006598\n",
              "27_AWS Elastic Compute Cloud (EC2)    0.006558\n",
              "2_22-24                               0.006011\n",
              "3_Europe                              0.005849\n",
              "dtype: float64"
            ]
          },
          "metadata": {
            "tags": []
          },
          "execution_count": 194
        }
      ]
    },
    {
      "cell_type": "markdown",
      "metadata": {
        "id": "RAb7Kpl4qyGx",
        "colab_type": "text"
      },
      "source": [
        "*북미가 역시 가장 높게 나타났다. \n",
        "* 그 뒤 = student\n",
        "* Q34 Q35는 꾸준히 높게 나타나는 요인들.\n",
        "* 1그 뒤 대륙으로는 Asia\n",
        "* DS가 역시 유의한 영향을 가지고 있는 것으로 보임. "
      ]
    },
    {
      "cell_type": "code",
      "metadata": {
        "id": "SBRFuIIaAmVI",
        "colab_type": "code",
        "colab": {
          "base_uri": "https://localhost:8080/",
          "height": 444
        },
        "outputId": "fe889000-8e6b-4933-e093-f33c18e9536a"
      },
      "source": [
        "from sklearn.multiclass import OneVsRestClassifier\n",
        "from sklearn.linear_model import LogisticRegression\n",
        "\n",
        "model_ovr = OneVsRestClassifier(LogisticRegression()).fit(x_train, y_train)"
      ],
      "execution_count": null,
      "outputs": [
        {
          "output_type": "stream",
          "text": [
            "/usr/local/lib/python3.6/dist-packages/sklearn/linear_model/_logistic.py:940: ConvergenceWarning: lbfgs failed to converge (status=1):\n",
            "STOP: TOTAL NO. of ITERATIONS REACHED LIMIT.\n",
            "\n",
            "Increase the number of iterations (max_iter) or scale the data as shown in:\n",
            "    https://scikit-learn.org/stable/modules/preprocessing.html\n",
            "Please also refer to the documentation for alternative solver options:\n",
            "    https://scikit-learn.org/stable/modules/linear_model.html#logistic-regression\n",
            "  extra_warning_msg=_LOGISTIC_SOLVER_CONVERGENCE_MSG)\n",
            "/usr/local/lib/python3.6/dist-packages/sklearn/linear_model/_logistic.py:940: ConvergenceWarning: lbfgs failed to converge (status=1):\n",
            "STOP: TOTAL NO. of ITERATIONS REACHED LIMIT.\n",
            "\n",
            "Increase the number of iterations (max_iter) or scale the data as shown in:\n",
            "    https://scikit-learn.org/stable/modules/preprocessing.html\n",
            "Please also refer to the documentation for alternative solver options:\n",
            "    https://scikit-learn.org/stable/modules/linear_model.html#logistic-regression\n",
            "  extra_warning_msg=_LOGISTIC_SOLVER_CONVERGENCE_MSG)\n",
            "/usr/local/lib/python3.6/dist-packages/sklearn/linear_model/_logistic.py:940: ConvergenceWarning: lbfgs failed to converge (status=1):\n",
            "STOP: TOTAL NO. of ITERATIONS REACHED LIMIT.\n",
            "\n",
            "Increase the number of iterations (max_iter) or scale the data as shown in:\n",
            "    https://scikit-learn.org/stable/modules/preprocessing.html\n",
            "Please also refer to the documentation for alternative solver options:\n",
            "    https://scikit-learn.org/stable/modules/linear_model.html#logistic-regression\n",
            "  extra_warning_msg=_LOGISTIC_SOLVER_CONVERGENCE_MSG)\n"
          ],
          "name": "stderr"
        }
      ]
    }
  ]
}